{
 "cells": [
  {
   "cell_type": "markdown",
   "metadata": {},
   "source": [
    "<div class=\"alert alert-info\">\n",
    "Привет, Дмитрий! Меня зовут Светлана и я буду проверять твой проект. Моя основная цель — не указать на совершенные тобою ошибки, а поделиться своим опытом и помочь тебе. Предлагаю общаться на «ты». Но если это не удобно - дай знать, и мы перейдем на «вы».\n",
    "\n",
    "<div class=\"alert alert-success\">\n",
    "<b>👍 Успех:</b> Зелёным цветом отмечены удачные и элегантные решения, на которые можно опираться в будущих проектах.\n",
    "</div>\n",
    "<div class=\"alert alert-warning\">\n",
    "<b>🤔 Рекомендация:</b> Жёлтым цветом выделено то, что в следующий раз можно сделать по-другому. Ты можешь учесть эти комментарии при выполнении будущих заданий или доработать проект сейчас (однако это не обязательно).\n",
    "</div>\n",
    "<div class=\"alert alert-danger\">\n",
    "<b>😔 Необходимо исправить:</b> Красным цветом выделены комментарии, без исправления которых, я не смогу принять проект :(\n",
    "</div>\n",
    "<div class=\"alert alert-info\">\n",
    "<b>👂 Совет:</b> Какие-то дополнительные материалы\n",
    "</div>\n",
    "Давай работать над проектом в диалоге: если ты что-то меняешь в проекте по моим рекомендациям — пиши об этом.\n",
    "Мне будет легче отследить изменения, если ты выделишь свои комментарии:\n",
    "<div class=\"alert alert-info\"> <b>🎓 Комментарий студента:</b> Например, вот так.</div>\n",
    "Пожалуйста, не перемещай, не изменяй и не удаляй мои комментарии. Всё это поможет выполнить повторную проверку твоего проекта быстрее.\n",
    " </div>"
   ]
  },
  {
   "cell_type": "markdown",
   "metadata": {},
   "source": [
    " <div class=\"alert alert-danger\">\n",
    "    <s><b>😔 Необходимо исправить:</b> В проект нужно добавить описательную часть</s>\n",
    " </div>"
   ]
  },
  {
   "cell_type": "markdown",
   "metadata": {},
   "source": [
    "<div class=\"alert alert-info\"> <b>🎓  </b>исправил</div>"
   ]
  },
  {
   "cell_type": "markdown",
   "metadata": {},
   "source": [
    "**анализ книжного магазина**\n",
    "\n",
    "Коронавирус застал мир врасплох, изменив привычный порядок вещей. В свободное время жители городов больше не выходят на улицу, не посещают кафе и торговые центры. Зато стало больше времени для книг. Это заметили стартаперы — и бросились создавать приложения для тех, кто любит читать.\n",
    "\n",
    "\n",
    "Ваша компания решила быть на волне и купила крупный сервис для чтения книг по подписке. Ваша первая задача как аналитика — проанализировать базу данных.\n",
    "В ней — информация о книгах, издательствах, авторах, а также пользовательские обзоры книг. Эти данные помогут сформулировать ценностное предложение для нового продукта."
   ]
  },
  {
   "cell_type": "markdown",
   "metadata": {},
   "source": [
    "**Цель исследования** - изучить данные о книгах, авторах, издательствах, рейтингах и обзорах и ответить на поставленные вопросы "
   ]
  },
  {
   "cell_type": "code",
   "execution_count": 1,
   "metadata": {},
   "outputs": [
    {
     "data": {
      "text/html": [
       "<div>\n",
       "<style scoped>\n",
       "    .dataframe tbody tr th:only-of-type {\n",
       "        vertical-align: middle;\n",
       "    }\n",
       "\n",
       "    .dataframe tbody tr th {\n",
       "        vertical-align: top;\n",
       "    }\n",
       "\n",
       "    .dataframe thead th {\n",
       "        text-align: right;\n",
       "    }\n",
       "</style>\n",
       "<table border=\"1\" class=\"dataframe\">\n",
       "  <thead>\n",
       "    <tr style=\"text-align: right;\">\n",
       "      <th></th>\n",
       "      <th>book_id</th>\n",
       "      <th>author_id</th>\n",
       "      <th>title</th>\n",
       "      <th>num_pages</th>\n",
       "      <th>publication_date</th>\n",
       "      <th>publisher_id</th>\n",
       "    </tr>\n",
       "  </thead>\n",
       "  <tbody>\n",
       "    <tr>\n",
       "      <th>0</th>\n",
       "      <td>1</td>\n",
       "      <td>546</td>\n",
       "      <td>'Salem's Lot</td>\n",
       "      <td>594</td>\n",
       "      <td>2005-11-01</td>\n",
       "      <td>93</td>\n",
       "    </tr>\n",
       "    <tr>\n",
       "      <th>1</th>\n",
       "      <td>2</td>\n",
       "      <td>465</td>\n",
       "      <td>1 000 Places to See Before You Die</td>\n",
       "      <td>992</td>\n",
       "      <td>2003-05-22</td>\n",
       "      <td>336</td>\n",
       "    </tr>\n",
       "    <tr>\n",
       "      <th>2</th>\n",
       "      <td>3</td>\n",
       "      <td>407</td>\n",
       "      <td>13 Little Blue Envelopes (Little Blue Envelope...</td>\n",
       "      <td>322</td>\n",
       "      <td>2010-12-21</td>\n",
       "      <td>135</td>\n",
       "    </tr>\n",
       "    <tr>\n",
       "      <th>3</th>\n",
       "      <td>4</td>\n",
       "      <td>82</td>\n",
       "      <td>1491: New Revelations of the Americas Before C...</td>\n",
       "      <td>541</td>\n",
       "      <td>2006-10-10</td>\n",
       "      <td>309</td>\n",
       "    </tr>\n",
       "    <tr>\n",
       "      <th>4</th>\n",
       "      <td>5</td>\n",
       "      <td>125</td>\n",
       "      <td>1776</td>\n",
       "      <td>386</td>\n",
       "      <td>2006-07-04</td>\n",
       "      <td>268</td>\n",
       "    </tr>\n",
       "  </tbody>\n",
       "</table>\n",
       "</div>"
      ],
      "text/plain": [
       "   book_id  author_id                                              title  \\\n",
       "0        1        546                                       'Salem's Lot   \n",
       "1        2        465                 1 000 Places to See Before You Die   \n",
       "2        3        407  13 Little Blue Envelopes (Little Blue Envelope...   \n",
       "3        4         82  1491: New Revelations of the Americas Before C...   \n",
       "4        5        125                                               1776   \n",
       "\n",
       "   num_pages publication_date  publisher_id  \n",
       "0        594       2005-11-01            93  \n",
       "1        992       2003-05-22           336  \n",
       "2        322       2010-12-21           135  \n",
       "3        541       2006-10-10           309  \n",
       "4        386       2006-07-04           268  "
      ]
     },
     "execution_count": 1,
     "metadata": {},
     "output_type": "execute_result"
    }
   ],
   "source": [
    "# импортируем библиотеки\n",
    "import pandas as pd\n",
    "from sqlalchemy import text, create_engine\n",
    "# устанавливаем параметры\n",
    "db_config = {'user': 'praktikum_student', # имя пользователя\n",
    "'pwd': 'Sdf4$2;d-d30pp', # пароль\n",
    "'host': 'rc1b-wcoijxj3yxfsf3fs.mdb.yandexcloud.net',\n",
    "'port': 6432, # порт подключения\n",
    "'db': 'data-analyst-final-project-db'} # название базы данных\n",
    "connection_string = 'postgresql://{user}:{pwd}@{host}:{port}/{db}'.format(**db_config)\n",
    "# сохраняем коннектор\n",
    "engine = create_engine(connection_string, connect_args={'sslmode':'require'})\n",
    "# чтобы выполнить SQL-запрос, используем Pandas\n",
    "query = '''SELECT * FROM books LIMIT 5'''\n",
    "con=engine.connect()\n",
    "pd.io.sql.read_sql(sql=text(query), con = con)"
   ]
  },
  {
   "cell_type": "code",
   "execution_count": 2,
   "metadata": {},
   "outputs": [
    {
     "name": "stdout",
     "output_type": "stream",
     "text": [
      "Columns in books table:\n"
     ]
    },
    {
     "data": {
      "text/plain": [
       "book_id             object\n",
       "author_id           object\n",
       "title               object\n",
       "num_pages           object\n",
       "publication_date    object\n",
       "publisher_id        object\n",
       "dtype: object"
      ]
     },
     "metadata": {},
     "output_type": "display_data"
    },
    {
     "name": "stdout",
     "output_type": "stream",
     "text": [
      "Columns in authors table:\n"
     ]
    },
    {
     "data": {
      "text/plain": [
       "author_id    object\n",
       "author       object\n",
       "dtype: object"
      ]
     },
     "metadata": {},
     "output_type": "display_data"
    },
    {
     "name": "stdout",
     "output_type": "stream",
     "text": [
      "Columns in publishers table:\n"
     ]
    },
    {
     "data": {
      "text/plain": [
       "publisher_id    object\n",
       "publisher       object\n",
       "dtype: object"
      ]
     },
     "metadata": {},
     "output_type": "display_data"
    },
    {
     "name": "stdout",
     "output_type": "stream",
     "text": [
      "Columns in ratings table:\n"
     ]
    },
    {
     "data": {
      "text/plain": [
       "rating_id    object\n",
       "book_id      object\n",
       "username     object\n",
       "rating       object\n",
       "dtype: object"
      ]
     },
     "metadata": {},
     "output_type": "display_data"
    },
    {
     "name": "stdout",
     "output_type": "stream",
     "text": [
      "Columns in reviews table:\n"
     ]
    },
    {
     "data": {
      "text/plain": [
       "review_id    object\n",
       "book_id      object\n",
       "username     object\n",
       "text         object\n",
       "dtype: object"
      ]
     },
     "metadata": {},
     "output_type": "display_data"
    }
   ],
   "source": [
    "# список таблиц\n",
    "tables = ['books', 'authors', 'publishers', 'ratings', 'reviews']\n",
    "\n",
    "#просмотр типов данных\n",
    "for table in tables:\n",
    "    query = f\"SELECT * FROM {table} LIMIT 0\"\n",
    "    df = pd.io.sql.read_sql(sql=text(query), con = con)\n",
    "    print(f\"Columns in {table} table:\")\n",
    "    display(df.dtypes)\n"
   ]
  },
  {
   "cell_type": "code",
   "execution_count": 3,
   "metadata": {},
   "outputs": [
    {
     "name": "stdout",
     "output_type": "stream",
     "text": [
      "Data in books table:\n"
     ]
    },
    {
     "data": {
      "text/html": [
       "<div>\n",
       "<style scoped>\n",
       "    .dataframe tbody tr th:only-of-type {\n",
       "        vertical-align: middle;\n",
       "    }\n",
       "\n",
       "    .dataframe tbody tr th {\n",
       "        vertical-align: top;\n",
       "    }\n",
       "\n",
       "    .dataframe thead th {\n",
       "        text-align: right;\n",
       "    }\n",
       "</style>\n",
       "<table border=\"1\" class=\"dataframe\">\n",
       "  <thead>\n",
       "    <tr style=\"text-align: right;\">\n",
       "      <th></th>\n",
       "      <th>book_id</th>\n",
       "      <th>author_id</th>\n",
       "      <th>title</th>\n",
       "      <th>num_pages</th>\n",
       "      <th>publication_date</th>\n",
       "      <th>publisher_id</th>\n",
       "    </tr>\n",
       "  </thead>\n",
       "  <tbody>\n",
       "    <tr>\n",
       "      <th>0</th>\n",
       "      <td>1</td>\n",
       "      <td>546</td>\n",
       "      <td>'Salem's Lot</td>\n",
       "      <td>594</td>\n",
       "      <td>2005-11-01</td>\n",
       "      <td>93</td>\n",
       "    </tr>\n",
       "    <tr>\n",
       "      <th>1</th>\n",
       "      <td>2</td>\n",
       "      <td>465</td>\n",
       "      <td>1 000 Places to See Before You Die</td>\n",
       "      <td>992</td>\n",
       "      <td>2003-05-22</td>\n",
       "      <td>336</td>\n",
       "    </tr>\n",
       "    <tr>\n",
       "      <th>2</th>\n",
       "      <td>3</td>\n",
       "      <td>407</td>\n",
       "      <td>13 Little Blue Envelopes (Little Blue Envelope...</td>\n",
       "      <td>322</td>\n",
       "      <td>2010-12-21</td>\n",
       "      <td>135</td>\n",
       "    </tr>\n",
       "    <tr>\n",
       "      <th>3</th>\n",
       "      <td>4</td>\n",
       "      <td>82</td>\n",
       "      <td>1491: New Revelations of the Americas Before C...</td>\n",
       "      <td>541</td>\n",
       "      <td>2006-10-10</td>\n",
       "      <td>309</td>\n",
       "    </tr>\n",
       "    <tr>\n",
       "      <th>4</th>\n",
       "      <td>5</td>\n",
       "      <td>125</td>\n",
       "      <td>1776</td>\n",
       "      <td>386</td>\n",
       "      <td>2006-07-04</td>\n",
       "      <td>268</td>\n",
       "    </tr>\n",
       "  </tbody>\n",
       "</table>\n",
       "</div>"
      ],
      "text/plain": [
       "   book_id  author_id                                              title  \\\n",
       "0        1        546                                       'Salem's Lot   \n",
       "1        2        465                 1 000 Places to See Before You Die   \n",
       "2        3        407  13 Little Blue Envelopes (Little Blue Envelope...   \n",
       "3        4         82  1491: New Revelations of the Americas Before C...   \n",
       "4        5        125                                               1776   \n",
       "\n",
       "   num_pages publication_date  publisher_id  \n",
       "0        594       2005-11-01            93  \n",
       "1        992       2003-05-22           336  \n",
       "2        322       2010-12-21           135  \n",
       "3        541       2006-10-10           309  \n",
       "4        386       2006-07-04           268  "
      ]
     },
     "metadata": {},
     "output_type": "display_data"
    },
    {
     "name": "stdout",
     "output_type": "stream",
     "text": [
      "Data in authors table:\n"
     ]
    },
    {
     "data": {
      "text/html": [
       "<div>\n",
       "<style scoped>\n",
       "    .dataframe tbody tr th:only-of-type {\n",
       "        vertical-align: middle;\n",
       "    }\n",
       "\n",
       "    .dataframe tbody tr th {\n",
       "        vertical-align: top;\n",
       "    }\n",
       "\n",
       "    .dataframe thead th {\n",
       "        text-align: right;\n",
       "    }\n",
       "</style>\n",
       "<table border=\"1\" class=\"dataframe\">\n",
       "  <thead>\n",
       "    <tr style=\"text-align: right;\">\n",
       "      <th></th>\n",
       "      <th>author_id</th>\n",
       "      <th>author</th>\n",
       "    </tr>\n",
       "  </thead>\n",
       "  <tbody>\n",
       "    <tr>\n",
       "      <th>0</th>\n",
       "      <td>1</td>\n",
       "      <td>A.S. Byatt</td>\n",
       "    </tr>\n",
       "    <tr>\n",
       "      <th>1</th>\n",
       "      <td>2</td>\n",
       "      <td>Aesop/Laura Harris/Laura Gibbs</td>\n",
       "    </tr>\n",
       "    <tr>\n",
       "      <th>2</th>\n",
       "      <td>3</td>\n",
       "      <td>Agatha Christie</td>\n",
       "    </tr>\n",
       "    <tr>\n",
       "      <th>3</th>\n",
       "      <td>4</td>\n",
       "      <td>Alan Brennert</td>\n",
       "    </tr>\n",
       "    <tr>\n",
       "      <th>4</th>\n",
       "      <td>5</td>\n",
       "      <td>Alan Moore/David   Lloyd</td>\n",
       "    </tr>\n",
       "  </tbody>\n",
       "</table>\n",
       "</div>"
      ],
      "text/plain": [
       "   author_id                          author\n",
       "0          1                      A.S. Byatt\n",
       "1          2  Aesop/Laura Harris/Laura Gibbs\n",
       "2          3                 Agatha Christie\n",
       "3          4                   Alan Brennert\n",
       "4          5        Alan Moore/David   Lloyd"
      ]
     },
     "metadata": {},
     "output_type": "display_data"
    },
    {
     "name": "stdout",
     "output_type": "stream",
     "text": [
      "Data in publishers table:\n"
     ]
    },
    {
     "data": {
      "text/html": [
       "<div>\n",
       "<style scoped>\n",
       "    .dataframe tbody tr th:only-of-type {\n",
       "        vertical-align: middle;\n",
       "    }\n",
       "\n",
       "    .dataframe tbody tr th {\n",
       "        vertical-align: top;\n",
       "    }\n",
       "\n",
       "    .dataframe thead th {\n",
       "        text-align: right;\n",
       "    }\n",
       "</style>\n",
       "<table border=\"1\" class=\"dataframe\">\n",
       "  <thead>\n",
       "    <tr style=\"text-align: right;\">\n",
       "      <th></th>\n",
       "      <th>publisher_id</th>\n",
       "      <th>publisher</th>\n",
       "    </tr>\n",
       "  </thead>\n",
       "  <tbody>\n",
       "    <tr>\n",
       "      <th>0</th>\n",
       "      <td>1</td>\n",
       "      <td>Ace</td>\n",
       "    </tr>\n",
       "    <tr>\n",
       "      <th>1</th>\n",
       "      <td>2</td>\n",
       "      <td>Ace Book</td>\n",
       "    </tr>\n",
       "    <tr>\n",
       "      <th>2</th>\n",
       "      <td>3</td>\n",
       "      <td>Ace Books</td>\n",
       "    </tr>\n",
       "    <tr>\n",
       "      <th>3</th>\n",
       "      <td>4</td>\n",
       "      <td>Ace Hardcover</td>\n",
       "    </tr>\n",
       "    <tr>\n",
       "      <th>4</th>\n",
       "      <td>5</td>\n",
       "      <td>Addison Wesley Publishing Company</td>\n",
       "    </tr>\n",
       "  </tbody>\n",
       "</table>\n",
       "</div>"
      ],
      "text/plain": [
       "   publisher_id                          publisher\n",
       "0             1                                Ace\n",
       "1             2                           Ace Book\n",
       "2             3                          Ace Books\n",
       "3             4                      Ace Hardcover\n",
       "4             5  Addison Wesley Publishing Company"
      ]
     },
     "metadata": {},
     "output_type": "display_data"
    },
    {
     "name": "stdout",
     "output_type": "stream",
     "text": [
      "Data in ratings table:\n"
     ]
    },
    {
     "data": {
      "text/html": [
       "<div>\n",
       "<style scoped>\n",
       "    .dataframe tbody tr th:only-of-type {\n",
       "        vertical-align: middle;\n",
       "    }\n",
       "\n",
       "    .dataframe tbody tr th {\n",
       "        vertical-align: top;\n",
       "    }\n",
       "\n",
       "    .dataframe thead th {\n",
       "        text-align: right;\n",
       "    }\n",
       "</style>\n",
       "<table border=\"1\" class=\"dataframe\">\n",
       "  <thead>\n",
       "    <tr style=\"text-align: right;\">\n",
       "      <th></th>\n",
       "      <th>rating_id</th>\n",
       "      <th>book_id</th>\n",
       "      <th>username</th>\n",
       "      <th>rating</th>\n",
       "    </tr>\n",
       "  </thead>\n",
       "  <tbody>\n",
       "    <tr>\n",
       "      <th>0</th>\n",
       "      <td>1</td>\n",
       "      <td>1</td>\n",
       "      <td>ryanfranco</td>\n",
       "      <td>4</td>\n",
       "    </tr>\n",
       "    <tr>\n",
       "      <th>1</th>\n",
       "      <td>2</td>\n",
       "      <td>1</td>\n",
       "      <td>grantpatricia</td>\n",
       "      <td>2</td>\n",
       "    </tr>\n",
       "    <tr>\n",
       "      <th>2</th>\n",
       "      <td>3</td>\n",
       "      <td>1</td>\n",
       "      <td>brandtandrea</td>\n",
       "      <td>5</td>\n",
       "    </tr>\n",
       "    <tr>\n",
       "      <th>3</th>\n",
       "      <td>4</td>\n",
       "      <td>2</td>\n",
       "      <td>lorichen</td>\n",
       "      <td>3</td>\n",
       "    </tr>\n",
       "    <tr>\n",
       "      <th>4</th>\n",
       "      <td>5</td>\n",
       "      <td>2</td>\n",
       "      <td>mariokeller</td>\n",
       "      <td>2</td>\n",
       "    </tr>\n",
       "  </tbody>\n",
       "</table>\n",
       "</div>"
      ],
      "text/plain": [
       "   rating_id  book_id       username  rating\n",
       "0          1        1     ryanfranco       4\n",
       "1          2        1  grantpatricia       2\n",
       "2          3        1   brandtandrea       5\n",
       "3          4        2       lorichen       3\n",
       "4          5        2    mariokeller       2"
      ]
     },
     "metadata": {},
     "output_type": "display_data"
    },
    {
     "name": "stdout",
     "output_type": "stream",
     "text": [
      "Data in reviews table:\n"
     ]
    },
    {
     "data": {
      "text/html": [
       "<div>\n",
       "<style scoped>\n",
       "    .dataframe tbody tr th:only-of-type {\n",
       "        vertical-align: middle;\n",
       "    }\n",
       "\n",
       "    .dataframe tbody tr th {\n",
       "        vertical-align: top;\n",
       "    }\n",
       "\n",
       "    .dataframe thead th {\n",
       "        text-align: right;\n",
       "    }\n",
       "</style>\n",
       "<table border=\"1\" class=\"dataframe\">\n",
       "  <thead>\n",
       "    <tr style=\"text-align: right;\">\n",
       "      <th></th>\n",
       "      <th>review_id</th>\n",
       "      <th>book_id</th>\n",
       "      <th>username</th>\n",
       "      <th>text</th>\n",
       "    </tr>\n",
       "  </thead>\n",
       "  <tbody>\n",
       "    <tr>\n",
       "      <th>0</th>\n",
       "      <td>1</td>\n",
       "      <td>1</td>\n",
       "      <td>brandtandrea</td>\n",
       "      <td>Mention society tell send professor analysis. ...</td>\n",
       "    </tr>\n",
       "    <tr>\n",
       "      <th>1</th>\n",
       "      <td>2</td>\n",
       "      <td>1</td>\n",
       "      <td>ryanfranco</td>\n",
       "      <td>Foot glass pretty audience hit themselves. Amo...</td>\n",
       "    </tr>\n",
       "    <tr>\n",
       "      <th>2</th>\n",
       "      <td>3</td>\n",
       "      <td>2</td>\n",
       "      <td>lorichen</td>\n",
       "      <td>Listen treat keep worry. Miss husband tax but ...</td>\n",
       "    </tr>\n",
       "    <tr>\n",
       "      <th>3</th>\n",
       "      <td>4</td>\n",
       "      <td>3</td>\n",
       "      <td>johnsonamanda</td>\n",
       "      <td>Finally month interesting blue could nature cu...</td>\n",
       "    </tr>\n",
       "    <tr>\n",
       "      <th>4</th>\n",
       "      <td>5</td>\n",
       "      <td>3</td>\n",
       "      <td>scotttamara</td>\n",
       "      <td>Nation purpose heavy give wait song will. List...</td>\n",
       "    </tr>\n",
       "  </tbody>\n",
       "</table>\n",
       "</div>"
      ],
      "text/plain": [
       "   review_id  book_id       username  \\\n",
       "0          1        1   brandtandrea   \n",
       "1          2        1     ryanfranco   \n",
       "2          3        2       lorichen   \n",
       "3          4        3  johnsonamanda   \n",
       "4          5        3    scotttamara   \n",
       "\n",
       "                                                text  \n",
       "0  Mention society tell send professor analysis. ...  \n",
       "1  Foot glass pretty audience hit themselves. Amo...  \n",
       "2  Listen treat keep worry. Miss husband tax but ...  \n",
       "3  Finally month interesting blue could nature cu...  \n",
       "4  Nation purpose heavy give wait song will. List...  "
      ]
     },
     "metadata": {},
     "output_type": "display_data"
    }
   ],
   "source": [
    "\n",
    "for table in tables:\n",
    "    query = f\"SELECT * FROM {table}\"\n",
    "    df = pd.io.sql.read_sql(sql=text(query), con = con)\n",
    "\n",
    "    print(f\"Data in {table} table:\")\n",
    "    display(df.head())\n"
   ]
  },
  {
   "cell_type": "markdown",
   "metadata": {},
   "source": [
    " <div class=\"alert alert-success\">\n",
    " <b>👍 Успех:</b> Импортированы все нужные библиотеки, создано подключение к БД\n",
    " </div>"
   ]
  },
  {
   "cell_type": "markdown",
   "metadata": {},
   "source": [
    " <div class=\"alert alert-danger\">\n",
    "    <s> <b>😔 Необходимо исправить:</b> Перед выполнением заданий нужно ознакомиться с таблицами БД</s>\n",
    " </div>"
   ]
  },
  {
   "cell_type": "markdown",
   "metadata": {},
   "source": [
    "<div class=\"alert alert-info\"> <b>🎓  </b>исправил</div>"
   ]
  },
  {
   "cell_type": "code",
   "execution_count": 4,
   "metadata": {},
   "outputs": [
    {
     "data": {
      "text/html": [
       "<div>\n",
       "<style scoped>\n",
       "    .dataframe tbody tr th:only-of-type {\n",
       "        vertical-align: middle;\n",
       "    }\n",
       "\n",
       "    .dataframe tbody tr th {\n",
       "        vertical-align: top;\n",
       "    }\n",
       "\n",
       "    .dataframe thead th {\n",
       "        text-align: right;\n",
       "    }\n",
       "</style>\n",
       "<table border=\"1\" class=\"dataframe\">\n",
       "  <thead>\n",
       "    <tr style=\"text-align: right;\">\n",
       "      <th></th>\n",
       "      <th>count</th>\n",
       "    </tr>\n",
       "  </thead>\n",
       "  <tbody>\n",
       "    <tr>\n",
       "      <th>0</th>\n",
       "      <td>819</td>\n",
       "    </tr>\n",
       "  </tbody>\n",
       "</table>\n",
       "</div>"
      ],
      "text/plain": [
       "   count\n",
       "0    819"
      ]
     },
     "metadata": {},
     "output_type": "display_data"
    }
   ],
   "source": [
    "# создаем функцию для выполнения SQL-запросов\n",
    "def execute_query(query):\n",
    "    return pd.io.sql.read_sql(sql=text(query), con=engine.connect())\n",
    "\n",
    "# Посчитайте, сколько книг вышло после 1 января 2000 года\n",
    "query = '''SELECT COUNT(*) FROM books WHERE publication_date > '2000-01-01';'''\n",
    "display(execute_query(query))"
   ]
  },
  {
   "cell_type": "markdown",
   "metadata": {},
   "source": [
    "после 1 января 2000 года было впушенно 819 книг"
   ]
  },
  {
   "cell_type": "markdown",
   "metadata": {},
   "source": [
    " <div class=\"alert alert-success\">\n",
    " <b>👍 Успех:</b> Все верно!\n",
    " </div>"
   ]
  },
  {
   "cell_type": "markdown",
   "metadata": {},
   "source": [
    "Сначала код не работал и я прописал функцию в каждом блоке кода, но потом без этого заработало, если что можно раскоментировать "
   ]
  },
  {
   "cell_type": "code",
   "execution_count": 5,
   "metadata": {},
   "outputs": [
    {
     "data": {
      "text/html": [
       "<div>\n",
       "<style scoped>\n",
       "    .dataframe tbody tr th:only-of-type {\n",
       "        vertical-align: middle;\n",
       "    }\n",
       "\n",
       "    .dataframe tbody tr th {\n",
       "        vertical-align: top;\n",
       "    }\n",
       "\n",
       "    .dataframe thead th {\n",
       "        text-align: right;\n",
       "    }\n",
       "</style>\n",
       "<table border=\"1\" class=\"dataframe\">\n",
       "  <thead>\n",
       "    <tr style=\"text-align: right;\">\n",
       "      <th></th>\n",
       "      <th>book_id</th>\n",
       "      <th>title</th>\n",
       "      <th>review_count</th>\n",
       "      <th>avg_rating</th>\n",
       "    </tr>\n",
       "  </thead>\n",
       "  <tbody>\n",
       "    <tr>\n",
       "      <th>0</th>\n",
       "      <td>1</td>\n",
       "      <td>'Salem's Lot</td>\n",
       "      <td>2</td>\n",
       "      <td>3.666667</td>\n",
       "    </tr>\n",
       "    <tr>\n",
       "      <th>1</th>\n",
       "      <td>2</td>\n",
       "      <td>1 000 Places to See Before You Die</td>\n",
       "      <td>1</td>\n",
       "      <td>2.500000</td>\n",
       "    </tr>\n",
       "    <tr>\n",
       "      <th>2</th>\n",
       "      <td>3</td>\n",
       "      <td>13 Little Blue Envelopes (Little Blue Envelope...</td>\n",
       "      <td>3</td>\n",
       "      <td>4.666667</td>\n",
       "    </tr>\n",
       "    <tr>\n",
       "      <th>3</th>\n",
       "      <td>4</td>\n",
       "      <td>1491: New Revelations of the Americas Before C...</td>\n",
       "      <td>2</td>\n",
       "      <td>4.500000</td>\n",
       "    </tr>\n",
       "    <tr>\n",
       "      <th>4</th>\n",
       "      <td>5</td>\n",
       "      <td>1776</td>\n",
       "      <td>4</td>\n",
       "      <td>4.000000</td>\n",
       "    </tr>\n",
       "    <tr>\n",
       "      <th>...</th>\n",
       "      <td>...</td>\n",
       "      <td>...</td>\n",
       "      <td>...</td>\n",
       "      <td>...</td>\n",
       "    </tr>\n",
       "    <tr>\n",
       "      <th>995</th>\n",
       "      <td>996</td>\n",
       "      <td>Wyrd Sisters (Discworld  #6; Witches #2)</td>\n",
       "      <td>3</td>\n",
       "      <td>3.666667</td>\n",
       "    </tr>\n",
       "    <tr>\n",
       "      <th>996</th>\n",
       "      <td>997</td>\n",
       "      <td>Xenocide (Ender's Saga  #3)</td>\n",
       "      <td>3</td>\n",
       "      <td>3.400000</td>\n",
       "    </tr>\n",
       "    <tr>\n",
       "      <th>997</th>\n",
       "      <td>998</td>\n",
       "      <td>Year of Wonders</td>\n",
       "      <td>4</td>\n",
       "      <td>3.200000</td>\n",
       "    </tr>\n",
       "    <tr>\n",
       "      <th>998</th>\n",
       "      <td>999</td>\n",
       "      <td>You Suck (A Love Story  #2)</td>\n",
       "      <td>2</td>\n",
       "      <td>4.500000</td>\n",
       "    </tr>\n",
       "    <tr>\n",
       "      <th>999</th>\n",
       "      <td>1000</td>\n",
       "      <td>Zen and the Art of Motorcycle Maintenance: An ...</td>\n",
       "      <td>4</td>\n",
       "      <td>3.833333</td>\n",
       "    </tr>\n",
       "  </tbody>\n",
       "</table>\n",
       "<p>1000 rows × 4 columns</p>\n",
       "</div>"
      ],
      "text/plain": [
       "     book_id                                              title  review_count  \\\n",
       "0          1                                       'Salem's Lot             2   \n",
       "1          2                 1 000 Places to See Before You Die             1   \n",
       "2          3  13 Little Blue Envelopes (Little Blue Envelope...             3   \n",
       "3          4  1491: New Revelations of the Americas Before C...             2   \n",
       "4          5                                               1776             4   \n",
       "..       ...                                                ...           ...   \n",
       "995      996           Wyrd Sisters (Discworld  #6; Witches #2)             3   \n",
       "996      997                        Xenocide (Ender's Saga  #3)             3   \n",
       "997      998                                    Year of Wonders             4   \n",
       "998      999                        You Suck (A Love Story  #2)             2   \n",
       "999     1000  Zen and the Art of Motorcycle Maintenance: An ...             4   \n",
       "\n",
       "     avg_rating  \n",
       "0      3.666667  \n",
       "1      2.500000  \n",
       "2      4.666667  \n",
       "3      4.500000  \n",
       "4      4.000000  \n",
       "..          ...  \n",
       "995    3.666667  \n",
       "996    3.400000  \n",
       "997    3.200000  \n",
       "998    4.500000  \n",
       "999    3.833333  \n",
       "\n",
       "[1000 rows x 4 columns]"
      ]
     },
     "metadata": {},
     "output_type": "display_data"
    }
   ],
   "source": [
    "# колличество и средняя оценка \n",
    "# def execute_query(query):\n",
    "#     return pd.io.sql.read_sql(sql=text(query), con=engine.connect())\n",
    "\n",
    "query = '''\n",
    "SELECT \n",
    "    books.book_id,\n",
    "    books.title, \n",
    "    COUNT(DISTINCT review_id) as review_count, \n",
    "    AVG(rating) as avg_rating\n",
    "FROM \n",
    "    books \n",
    "LEFT JOIN reviews ON books.book_id = reviews.book_id\n",
    "LEFT JOIN ratings ON books.book_id = ratings.book_id\n",
    "GROUP BY \n",
    "    books.book_id,\n",
    "    books.title\n",
    "'''\n",
    "\n",
    "display(execute_query(query))"
   ]
  },
  {
   "cell_type": "markdown",
   "metadata": {},
   "source": [
    " <div class=\"alert alert-danger\">\n",
    " <s><b>😔 Необходимо исправить:</b> Название книги не уникальный признак, только по нему не нужно группировать, здесь нужно добаить группировку еще и по book_id</s>\n",
    " </div>"
   ]
  },
  {
   "cell_type": "markdown",
   "metadata": {},
   "source": [
    "<div class=\"alert alert-info\"> <b>🎓  :</b> исправил</div>"
   ]
  },
  {
   "cell_type": "markdown",
   "metadata": {},
   "source": [
    " <div class=\"alert alert-success\">\n",
    " <b>👍 Успех:</b> Все верно!\n",
    " </div>"
   ]
  },
  {
   "cell_type": "markdown",
   "metadata": {},
   "source": [
    "таблица со средними оценками книн "
   ]
  },
  {
   "cell_type": "code",
   "execution_count": 6,
   "metadata": {},
   "outputs": [
    {
     "data": {
      "text/html": [
       "<div>\n",
       "<style scoped>\n",
       "    .dataframe tbody tr th:only-of-type {\n",
       "        vertical-align: middle;\n",
       "    }\n",
       "\n",
       "    .dataframe tbody tr th {\n",
       "        vertical-align: top;\n",
       "    }\n",
       "\n",
       "    .dataframe thead th {\n",
       "        text-align: right;\n",
       "    }\n",
       "</style>\n",
       "<table border=\"1\" class=\"dataframe\">\n",
       "  <thead>\n",
       "    <tr style=\"text-align: right;\">\n",
       "      <th></th>\n",
       "      <th>publisher</th>\n",
       "      <th>book_count</th>\n",
       "    </tr>\n",
       "  </thead>\n",
       "  <tbody>\n",
       "    <tr>\n",
       "      <th>0</th>\n",
       "      <td>Penguin Books</td>\n",
       "      <td>42</td>\n",
       "    </tr>\n",
       "  </tbody>\n",
       "</table>\n",
       "</div>"
      ],
      "text/plain": [
       "       publisher  book_count\n",
       "0  Penguin Books          42"
      ]
     },
     "metadata": {},
     "output_type": "display_data"
    }
   ],
   "source": [
    "# def execute_query(query):\n",
    "#     return pd.io.sql.read_sql(sql=text(query), con=engine.connect())\n",
    "\n",
    "\n",
    "# Определите издательство, которое выпустило наибольшее число книг толще 50 страниц\n",
    "query = '''\n",
    "SELECT \n",
    "    publishers.publisher, \n",
    "    COUNT(books.book_id) as book_count\n",
    "FROM \n",
    "    books \n",
    "INNER JOIN publishers ON books.publisher_id = publishers.publisher_id\n",
    "WHERE \n",
    "    books.num_pages > 50\n",
    "GROUP BY \n",
    "    publishers.publisher\n",
    "ORDER BY \n",
    "    book_count DESC\n",
    "LIMIT 1\n",
    "'''\n",
    "display(execute_query(query))\n"
   ]
  },
  {
   "cell_type": "markdown",
   "metadata": {},
   "source": [
    "издательство Penguin Books выпостило 42 киги более 50 страниц "
   ]
  },
  {
   "cell_type": "markdown",
   "metadata": {},
   "source": [
    " <div class=\"alert alert-success\">\n",
    " <b>👍 Успех:</b> Все верно!\n",
    " </div>"
   ]
  },
  {
   "cell_type": "code",
   "execution_count": 7,
   "metadata": {},
   "outputs": [
    {
     "data": {
      "text/html": [
       "<div>\n",
       "<style scoped>\n",
       "    .dataframe tbody tr th:only-of-type {\n",
       "        vertical-align: middle;\n",
       "    }\n",
       "\n",
       "    .dataframe tbody tr th {\n",
       "        vertical-align: top;\n",
       "    }\n",
       "\n",
       "    .dataframe thead th {\n",
       "        text-align: right;\n",
       "    }\n",
       "</style>\n",
       "<table border=\"1\" class=\"dataframe\">\n",
       "  <thead>\n",
       "    <tr style=\"text-align: right;\">\n",
       "      <th></th>\n",
       "      <th>author</th>\n",
       "      <th>avg_author_rating</th>\n",
       "    </tr>\n",
       "  </thead>\n",
       "  <tbody>\n",
       "    <tr>\n",
       "      <th>0</th>\n",
       "      <td>J.K. Rowling/Mary GrandPré</td>\n",
       "      <td>4.283844</td>\n",
       "    </tr>\n",
       "  </tbody>\n",
       "</table>\n",
       "</div>"
      ],
      "text/plain": [
       "                       author  avg_author_rating\n",
       "0  J.K. Rowling/Mary GrandPré           4.283844"
      ]
     },
     "metadata": {},
     "output_type": "display_data"
    }
   ],
   "source": [
    "# def execute_query(query):\n",
    "#     return pd.io.sql.read_sql(sql=text(query), con=engine.connect())\n",
    "\n",
    "# Определите автора с самой высокой средней оценкой книг — учитывайте только книги с 50 и более оценками\n",
    "query = '''\n",
    "SELECT \n",
    "    authors.author, \n",
    "    AVG(avg_book_rating) as avg_author_rating\n",
    "FROM \n",
    "    (SELECT \n",
    "        books.author_id, \n",
    "        AVG(ratings.rating) as avg_book_rating\n",
    "    FROM \n",
    "        books \n",
    "    INNER JOIN ratings ON books.book_id = ratings.book_id\n",
    "    GROUP BY \n",
    "        books.book_id\n",
    "    HAVING \n",
    "        COUNT(ratings.rating) >= 50) as subquery\n",
    "INNER JOIN authors ON subquery.author_id = authors.author_id\n",
    "GROUP BY \n",
    "    authors.author\n",
    "ORDER BY \n",
    "    avg_author_rating DESC\n",
    "LIMIT 1\n",
    "'''\n",
    "display(execute_query(query))\n",
    "\n"
   ]
  },
  {
   "cell_type": "markdown",
   "metadata": {},
   "source": [
    "автор с самой высокой среденей оценкой 4.28 J.K. Rowling/Mary GrandPré"
   ]
  },
  {
   "cell_type": "markdown",
   "metadata": {},
   "source": [
    " <div class=\"alert alert-danger\">\n",
    "<s> <b>😔 Необходимо исправить:</b> Получилось не совсем верно, фильтр HAVING призван отфильтровать книги с оценками 50 и более, а данные ты группируешь по автору. В итоге фильтр фильтрует не книги, а авторов, и в такой группировке почти у каждого автора будет 50 и более оценок, поэтому рейтинг будет рассчитан неверно - в него попадут лишние книги, которые не проходят по условию с количеством оценок</s>\n",
    " </div>"
   ]
  },
  {
   "cell_type": "markdown",
   "metadata": {},
   "source": [
    "<div class=\"alert alert-info\"> <b>🎓 </b> исправил</div>"
   ]
  },
  {
   "cell_type": "markdown",
   "metadata": {},
   "source": [
    " <div class=\"alert alert-danger\">\n",
    "<s> <b>😔 Необходимо исправить V2:</b> Почти, но не хватает еще одного шага. Сейчас ты нашел список автор-книга, теперь нужно еще раз сгруппировать по автору и найти среднюю оценку от средней по книгам автора</s>\n",
    " </div>"
   ]
  },
  {
   "cell_type": "markdown",
   "metadata": {},
   "source": [
    "<div class=\"alert alert-info\"> <b>🎓 </b> исправил</div>"
   ]
  },
  {
   "cell_type": "markdown",
   "metadata": {},
   "source": [
    "<div class=\"alert alert-success\">\n",
    "<b>👍 Успех:</b> Все верно!\n",
    "</div>"
   ]
  },
  {
   "cell_type": "code",
   "execution_count": 8,
   "metadata": {},
   "outputs": [
    {
     "data": {
      "text/html": [
       "<div>\n",
       "<style scoped>\n",
       "    .dataframe tbody tr th:only-of-type {\n",
       "        vertical-align: middle;\n",
       "    }\n",
       "\n",
       "    .dataframe tbody tr th {\n",
       "        vertical-align: top;\n",
       "    }\n",
       "\n",
       "    .dataframe thead th {\n",
       "        text-align: right;\n",
       "    }\n",
       "</style>\n",
       "<table border=\"1\" class=\"dataframe\">\n",
       "  <thead>\n",
       "    <tr style=\"text-align: right;\">\n",
       "      <th></th>\n",
       "      <th>avg_review_count</th>\n",
       "    </tr>\n",
       "  </thead>\n",
       "  <tbody>\n",
       "    <tr>\n",
       "      <th>0</th>\n",
       "      <td>24.0</td>\n",
       "    </tr>\n",
       "  </tbody>\n",
       "</table>\n",
       "</div>"
      ],
      "text/plain": [
       "   avg_review_count\n",
       "0              24.0"
      ]
     },
     "metadata": {},
     "output_type": "display_data"
    }
   ],
   "source": [
    "# def execute_query(query):\n",
    "#     return pd.io.sql.read_sql(sql=text(query), con=engine.connect())\n",
    "# Посчитайте среднее количество обзоров от пользователей, которые поставили больше 48 оценок\n",
    "query = '''\n",
    "SELECT \n",
    "    AVG(review_count) as avg_review_count\n",
    "FROM \n",
    "    (SELECT \n",
    "        username, \n",
    "        COUNT(review_id) as review_count\n",
    "    FROM \n",
    "        reviews \n",
    "    WHERE \n",
    "        username IN (SELECT \n",
    "                        username \n",
    "                     FROM \n",
    "                        ratings \n",
    "                     GROUP BY \n",
    "                        username \n",
    "                     HAVING \n",
    "                        COUNT(rating_id) > 48)\n",
    "    GROUP BY \n",
    "        username) as subquery\n",
    "'''\n",
    "display(execute_query(query))"
   ]
  },
  {
   "cell_type": "markdown",
   "metadata": {},
   "source": [
    "среднее количество обзоров от пользователей, которые поставили больше 48 оценок 24"
   ]
  },
  {
   "cell_type": "markdown",
   "metadata": {},
   "source": [
    " <div class=\"alert alert-success\">\n",
    " <b>👍 Успех:</b> Все верно!\n",
    " </div>"
   ]
  },
  {
   "cell_type": "code",
   "execution_count": 9,
   "metadata": {},
   "outputs": [
    {
     "name": "stdout",
     "output_type": "stream",
     "text": [
      "Количество строк в таблице books: [[1000]]\n",
      "Количество строк в таблице authors: [[636]]\n",
      "Количество строк в таблице publishers: [[340]]\n",
      "Количество строк в таблице ratings: [[6456]]\n",
      "Количество строк в таблице reviews: [[2793]]\n"
     ]
    }
   ],
   "source": [
    "\n",
    "#def execute_query(query):\n",
    "    #return pd.io.sql.read_sql(sql=text(query), con=engine.connect())\n",
    "# подсчет количества строк в каждой таблице\n",
    "for table in tables:\n",
    "    query = f'SELECT COUNT(*) FROM {table};'\n",
    "    result = execute_query(query)\n",
    "    print(f'Количество строк в таблице {table}: {result.values}')"
   ]
  },
  {
   "cell_type": "markdown",
   "metadata": {},
   "source": [
    "**Вывод**\n",
    "\n",
    "\n",
    "С 1 января 2000 года было выпущено 819 книг. Издательство Penguin Books выпустило 42 книги, каждая из которых содержит более 50 страниц. Автор с самой высокой средней оценкой 4.28 - это Rowling/Mary GrandPré Среднее количество обзоров от пользователей, которые поставили больше 48 оценок, составляет 24\n",
    "\n",
    "колличество строк \n",
    "- Количество строк в таблице книг: **1000**\n",
    "- Количество строк в таблице авторов: **636**\n",
    "- Количество строк в таблице издателей: **340**\n",
    "- Количество строк в таблице рейтингов: **6456**\n",
    "- Количество строк в таблице обзоров: **2793**"
   ]
  },
  {
   "cell_type": "markdown",
   "metadata": {},
   "source": [
    "<div class=\"alert alert-success\">\n",
    "<b>👍 Успех:</b> Хорошая работа, поздравляю с окончанием курса! Рекомендую еще пройти бесплатный курс от практикума по <a href='https://practicum.yandex.ru/ycloud-datalens/'> DataLens</a>\n",
    "   Дополнительную информацию по SQL  можно посмотреть и потренироваться <a href='https://sql-ex.ru'> здесь</a>, <a href='https://pgexercises.com'> здесь</a>, <a href='https://sql-academy.org'> здесь</a>, <a href='https://stepik.org/course/63054/info'> здесь</a>, <a href='https://Itresume.ru'> здесь</a>\n",
    "</div>"
   ]
  },
  {
   "cell_type": "code",
   "execution_count": null,
   "metadata": {},
   "outputs": [],
   "source": []
  }
 ],
 "metadata": {
  "ExecuteTimeLog": [
   {
    "duration": 87,
    "start_time": "2023-11-05T20:57:07.206Z"
   },
   {
    "duration": 8834,
    "start_time": "2023-11-05T20:58:02.375Z"
   },
   {
    "duration": 60,
    "start_time": "2023-11-05T20:58:30.366Z"
   },
   {
    "duration": 80,
    "start_time": "2023-11-05T21:08:22.216Z"
   },
   {
    "duration": 2,
    "start_time": "2023-11-05T21:09:01.271Z"
   },
   {
    "duration": 7,
    "start_time": "2023-11-05T21:09:30.160Z"
   },
   {
    "duration": 125,
    "start_time": "2023-11-05T21:12:35.090Z"
   },
   {
    "duration": 227,
    "start_time": "2023-11-05T21:12:36.114Z"
   },
   {
    "duration": 80,
    "start_time": "2023-11-05T21:12:57.611Z"
   },
   {
    "duration": 225,
    "start_time": "2023-11-05T21:13:15.475Z"
   },
   {
    "duration": 7,
    "start_time": "2023-11-05T21:17:28.044Z"
   },
   {
    "duration": 119,
    "start_time": "2023-11-05T21:28:59.854Z"
   },
   {
    "duration": 222,
    "start_time": "2023-11-05T21:29:04.910Z"
   },
   {
    "duration": 96,
    "start_time": "2023-11-05T21:29:05.660Z"
   },
   {
    "duration": 122,
    "start_time": "2023-11-05T21:29:20.811Z"
   },
   {
    "duration": 48,
    "start_time": "2023-11-05T21:29:49.172Z"
   },
   {
    "duration": 52,
    "start_time": "2023-11-06T11:35:46.629Z"
   },
   {
    "duration": 10012,
    "start_time": "2023-11-06T11:35:52.686Z"
   },
   {
    "duration": 129,
    "start_time": "2023-11-06T11:36:02.699Z"
   },
   {
    "duration": 89,
    "start_time": "2023-11-06T11:36:34.577Z"
   },
   {
    "duration": 90,
    "start_time": "2023-11-06T11:36:56.702Z"
   },
   {
    "duration": 52,
    "start_time": "2023-11-06T11:37:05.822Z"
   },
   {
    "duration": 52,
    "start_time": "2023-11-06T11:38:01.167Z"
   },
   {
    "duration": 52,
    "start_time": "2023-11-06T11:38:11.899Z"
   },
   {
    "duration": 54,
    "start_time": "2023-11-06T11:39:03.447Z"
   },
   {
    "duration": 56,
    "start_time": "2023-11-06T11:39:10.671Z"
   },
   {
    "duration": 52,
    "start_time": "2023-11-06T11:39:51.379Z"
   },
   {
    "duration": 54,
    "start_time": "2023-11-06T11:39:57.907Z"
   },
   {
    "duration": 55,
    "start_time": "2023-11-06T11:42:00.049Z"
   },
   {
    "duration": 55,
    "start_time": "2023-11-06T11:42:15.673Z"
   },
   {
    "duration": 53,
    "start_time": "2023-11-06T11:42:55.816Z"
   },
   {
    "duration": 11409,
    "start_time": "2023-11-06T11:43:16.577Z"
   },
   {
    "duration": 117,
    "start_time": "2023-11-06T11:43:27.989Z"
   },
   {
    "duration": 94,
    "start_time": "2023-11-06T11:43:28.108Z"
   },
   {
    "duration": 53,
    "start_time": "2023-11-06T11:43:28.204Z"
   },
   {
    "duration": 56,
    "start_time": "2023-11-06T11:43:28.259Z"
   },
   {
    "duration": 52,
    "start_time": "2023-11-06T11:43:28.316Z"
   },
   {
    "duration": 9585,
    "start_time": "2023-11-06T11:50:54.917Z"
   },
   {
    "duration": 120,
    "start_time": "2023-11-06T11:51:04.504Z"
   },
   {
    "duration": 88,
    "start_time": "2023-11-06T11:51:04.626Z"
   },
   {
    "duration": 51,
    "start_time": "2023-11-06T11:51:04.715Z"
   },
   {
    "duration": 55,
    "start_time": "2023-11-06T11:51:04.768Z"
   },
   {
    "duration": 52,
    "start_time": "2023-11-06T11:51:04.824Z"
   },
   {
    "duration": 180,
    "start_time": "2023-11-06T12:07:00.464Z"
   },
   {
    "duration": 157,
    "start_time": "2023-11-06T12:07:30.618Z"
   },
   {
    "duration": 132,
    "start_time": "2023-11-06T12:07:53.196Z"
   },
   {
    "duration": 50,
    "start_time": "2023-11-06T12:08:18.926Z"
   },
   {
    "duration": 8,
    "start_time": "2023-11-06T12:10:39.346Z"
   },
   {
    "duration": 10373,
    "start_time": "2023-11-06T12:11:16.833Z"
   },
   {
    "duration": 117,
    "start_time": "2023-11-06T12:11:27.208Z"
   },
   {
    "duration": 90,
    "start_time": "2023-11-06T12:11:27.326Z"
   },
   {
    "duration": 51,
    "start_time": "2023-11-06T12:11:27.418Z"
   },
   {
    "duration": 55,
    "start_time": "2023-11-06T12:11:27.471Z"
   },
   {
    "duration": 52,
    "start_time": "2023-11-06T12:11:27.527Z"
   },
   {
    "duration": 50,
    "start_time": "2023-11-06T12:11:27.581Z"
   },
   {
    "duration": 74,
    "start_time": "2023-11-06T12:11:27.633Z"
   },
   {
    "duration": 54,
    "start_time": "2023-11-06T12:16:38.212Z"
   },
   {
    "duration": 3,
    "start_time": "2023-11-06T12:17:57.116Z"
   },
   {
    "duration": 77,
    "start_time": "2023-11-06T12:18:18.053Z"
   },
   {
    "duration": 100,
    "start_time": "2023-11-06T12:18:42.088Z"
   },
   {
    "duration": 77,
    "start_time": "2023-11-06T12:18:50.266Z"
   },
   {
    "duration": 63,
    "start_time": "2023-11-06T12:21:21.118Z"
   },
   {
    "duration": 9200,
    "start_time": "2023-11-06T12:21:36.990Z"
   },
   {
    "duration": 113,
    "start_time": "2023-11-06T12:21:46.192Z"
   },
   {
    "duration": 96,
    "start_time": "2023-11-06T12:21:46.307Z"
   },
   {
    "duration": 52,
    "start_time": "2023-11-06T12:21:46.406Z"
   },
   {
    "duration": 55,
    "start_time": "2023-11-06T12:21:46.460Z"
   },
   {
    "duration": 53,
    "start_time": "2023-11-06T12:21:46.517Z"
   },
   {
    "duration": 109,
    "start_time": "2023-11-06T12:21:46.573Z"
   },
   {
    "duration": 9,
    "start_time": "2023-11-06T12:21:57.029Z"
   },
   {
    "duration": 224,
    "start_time": "2023-11-06T12:23:34.759Z"
   },
   {
    "duration": 14058,
    "start_time": "2023-11-06T12:29:51.310Z"
   },
   {
    "duration": 126,
    "start_time": "2023-11-06T12:30:05.371Z"
   },
   {
    "duration": 90,
    "start_time": "2023-11-06T12:30:05.499Z"
   },
   {
    "duration": 51,
    "start_time": "2023-11-06T12:30:05.591Z"
   },
   {
    "duration": 55,
    "start_time": "2023-11-06T12:30:05.644Z"
   },
   {
    "duration": 53,
    "start_time": "2023-11-06T12:30:05.700Z"
   },
   {
    "duration": 224,
    "start_time": "2023-11-06T12:30:05.755Z"
   },
   {
    "duration": 10426,
    "start_time": "2023-11-06T12:33:09.177Z"
   },
   {
    "duration": 125,
    "start_time": "2023-11-06T12:33:19.605Z"
   },
   {
    "duration": 90,
    "start_time": "2023-11-06T12:33:19.732Z"
   },
   {
    "duration": 52,
    "start_time": "2023-11-06T12:33:19.825Z"
   },
   {
    "duration": 56,
    "start_time": "2023-11-06T12:33:19.879Z"
   },
   {
    "duration": 53,
    "start_time": "2023-11-06T12:33:19.936Z"
   },
   {
    "duration": 224,
    "start_time": "2023-11-06T12:33:19.991Z"
   },
   {
    "duration": 10691,
    "start_time": "2023-11-06T12:33:33.089Z"
   },
   {
    "duration": 117,
    "start_time": "2023-11-06T12:33:43.782Z"
   },
   {
    "duration": 90,
    "start_time": "2023-11-06T12:33:43.901Z"
   },
   {
    "duration": 52,
    "start_time": "2023-11-06T12:33:43.992Z"
   },
   {
    "duration": 55,
    "start_time": "2023-11-06T12:33:44.046Z"
   },
   {
    "duration": 54,
    "start_time": "2023-11-06T12:33:44.102Z"
   },
   {
    "duration": 224,
    "start_time": "2023-11-06T12:33:44.157Z"
   },
   {
    "duration": 9123,
    "start_time": "2023-11-06T12:41:34.574Z"
   },
   {
    "duration": 122,
    "start_time": "2023-11-06T12:41:43.699Z"
   },
   {
    "duration": 87,
    "start_time": "2023-11-06T12:41:43.823Z"
   },
   {
    "duration": 51,
    "start_time": "2023-11-06T12:41:43.912Z"
   },
   {
    "duration": 53,
    "start_time": "2023-11-06T12:41:43.965Z"
   },
   {
    "duration": 51,
    "start_time": "2023-11-06T12:41:44.020Z"
   },
   {
    "duration": 220,
    "start_time": "2023-11-06T12:41:44.073Z"
   },
   {
    "duration": 13679,
    "start_time": "2023-11-06T13:19:44.645Z"
   },
   {
    "duration": 131,
    "start_time": "2023-11-06T13:19:58.327Z"
   },
   {
    "duration": 89,
    "start_time": "2023-11-06T13:19:58.459Z"
   },
   {
    "duration": 51,
    "start_time": "2023-11-06T13:19:58.550Z"
   },
   {
    "duration": 54,
    "start_time": "2023-11-06T13:19:58.602Z"
   },
   {
    "duration": 51,
    "start_time": "2023-11-06T13:19:58.658Z"
   },
   {
    "duration": 221,
    "start_time": "2023-11-06T13:19:58.711Z"
   },
   {
    "duration": 125,
    "start_time": "2023-11-06T13:42:12.071Z"
   },
   {
    "duration": 209,
    "start_time": "2023-11-06T13:44:41.002Z"
   },
   {
    "duration": 239,
    "start_time": "2023-11-06T13:49:21.316Z"
   },
   {
    "duration": 82,
    "start_time": "2023-11-06T13:49:42.896Z"
   },
   {
    "duration": 273,
    "start_time": "2023-11-06T13:50:02.881Z"
   },
   {
    "duration": 136,
    "start_time": "2023-11-06T13:51:04.546Z"
   },
   {
    "duration": 135,
    "start_time": "2023-11-06T13:51:13.110Z"
   },
   {
    "duration": 23,
    "start_time": "2023-11-06T13:51:46.242Z"
   },
   {
    "duration": 137,
    "start_time": "2023-11-06T13:52:05.707Z"
   },
   {
    "duration": 214,
    "start_time": "2023-11-06T13:52:32.610Z"
   },
   {
    "duration": 8854,
    "start_time": "2023-11-06T13:53:07.335Z"
   },
   {
    "duration": 77,
    "start_time": "2023-11-06T13:53:16.192Z"
   },
   {
    "duration": 0,
    "start_time": "2023-11-06T13:53:16.271Z"
   },
   {
    "duration": 0,
    "start_time": "2023-11-06T13:53:16.272Z"
   },
   {
    "duration": 0,
    "start_time": "2023-11-06T13:53:16.273Z"
   },
   {
    "duration": 0,
    "start_time": "2023-11-06T13:53:16.274Z"
   },
   {
    "duration": 0,
    "start_time": "2023-11-06T13:53:16.275Z"
   },
   {
    "duration": 0,
    "start_time": "2023-11-06T13:53:16.276Z"
   },
   {
    "duration": 0,
    "start_time": "2023-11-06T13:53:16.278Z"
   },
   {
    "duration": 0,
    "start_time": "2023-11-06T13:53:16.279Z"
   },
   {
    "duration": 9006,
    "start_time": "2023-11-06T13:53:42.395Z"
   },
   {
    "duration": 138,
    "start_time": "2023-11-06T13:53:51.403Z"
   },
   {
    "duration": 228,
    "start_time": "2023-11-06T13:53:51.543Z"
   },
   {
    "duration": 123,
    "start_time": "2023-11-06T13:53:51.774Z"
   },
   {
    "duration": 90,
    "start_time": "2023-11-06T13:53:51.899Z"
   },
   {
    "duration": 52,
    "start_time": "2023-11-06T13:53:51.990Z"
   },
   {
    "duration": 56,
    "start_time": "2023-11-06T13:53:52.044Z"
   },
   {
    "duration": 81,
    "start_time": "2023-11-06T13:53:52.102Z"
   },
   {
    "duration": 0,
    "start_time": "2023-11-06T13:53:52.185Z"
   },
   {
    "duration": 0,
    "start_time": "2023-11-06T13:53:52.187Z"
   },
   {
    "duration": 156,
    "start_time": "2023-11-06T13:56:19.103Z"
   },
   {
    "duration": 81,
    "start_time": "2023-11-06T13:56:49.770Z"
   },
   {
    "duration": 49,
    "start_time": "2023-11-06T14:00:12.852Z"
   },
   {
    "duration": 55,
    "start_time": "2023-11-06T14:01:16.309Z"
   },
   {
    "duration": 10141,
    "start_time": "2023-11-06T14:02:51.482Z"
   },
   {
    "duration": 137,
    "start_time": "2023-11-06T14:03:01.625Z"
   },
   {
    "duration": 218,
    "start_time": "2023-11-06T14:03:01.764Z"
   },
   {
    "duration": 112,
    "start_time": "2023-11-06T14:03:01.985Z"
   },
   {
    "duration": 83,
    "start_time": "2023-11-06T14:03:02.098Z"
   },
   {
    "duration": 52,
    "start_time": "2023-11-06T14:03:02.183Z"
   },
   {
    "duration": 55,
    "start_time": "2023-11-06T14:03:02.237Z"
   },
   {
    "duration": 54,
    "start_time": "2023-11-06T14:03:02.294Z"
   },
   {
    "duration": 227,
    "start_time": "2023-11-06T14:03:02.350Z"
   },
   {
    "duration": 10768,
    "start_time": "2023-11-06T14:05:16.887Z"
   },
   {
    "duration": 132,
    "start_time": "2023-11-06T14:05:27.657Z"
   },
   {
    "duration": 217,
    "start_time": "2023-11-06T14:05:27.790Z"
   },
   {
    "duration": 124,
    "start_time": "2023-11-06T14:05:28.010Z"
   },
   {
    "duration": 84,
    "start_time": "2023-11-06T14:05:28.136Z"
   },
   {
    "duration": 52,
    "start_time": "2023-11-06T14:05:28.222Z"
   },
   {
    "duration": 55,
    "start_time": "2023-11-06T14:05:28.276Z"
   },
   {
    "duration": 53,
    "start_time": "2023-11-06T14:05:28.332Z"
   },
   {
    "duration": 223,
    "start_time": "2023-11-06T14:05:28.387Z"
   },
   {
    "duration": 226,
    "start_time": "2023-11-06T14:08:09.923Z"
   },
   {
    "duration": 232,
    "start_time": "2023-11-06T14:08:39.165Z"
   },
   {
    "duration": 228,
    "start_time": "2023-11-06T14:08:54.442Z"
   },
   {
    "duration": 12312,
    "start_time": "2023-11-06T14:09:42.276Z"
   },
   {
    "duration": 138,
    "start_time": "2023-11-06T14:09:54.590Z"
   },
   {
    "duration": 216,
    "start_time": "2023-11-06T14:09:54.729Z"
   },
   {
    "duration": 118,
    "start_time": "2023-11-06T14:09:54.947Z"
   },
   {
    "duration": 82,
    "start_time": "2023-11-06T14:09:55.067Z"
   },
   {
    "duration": 50,
    "start_time": "2023-11-06T14:09:55.151Z"
   },
   {
    "duration": 58,
    "start_time": "2023-11-06T14:09:55.203Z"
   },
   {
    "duration": 59,
    "start_time": "2023-11-06T14:09:55.263Z"
   },
   {
    "duration": 240,
    "start_time": "2023-11-06T14:09:55.325Z"
   },
   {
    "duration": 140,
    "start_time": "2023-11-06T14:11:37.217Z"
   },
   {
    "duration": 243,
    "start_time": "2023-11-06T14:11:37.360Z"
   },
   {
    "duration": 120,
    "start_time": "2023-11-06T14:11:37.605Z"
   },
   {
    "duration": 83,
    "start_time": "2023-11-06T14:11:37.727Z"
   },
   {
    "duration": 294,
    "start_time": "2023-11-06T14:11:37.811Z"
   },
   {
    "duration": 58,
    "start_time": "2023-11-06T14:11:38.107Z"
   },
   {
    "duration": 54,
    "start_time": "2023-11-06T14:11:38.167Z"
   },
   {
    "duration": 225,
    "start_time": "2023-11-06T14:11:38.223Z"
   },
   {
    "duration": 229,
    "start_time": "2023-11-06T14:11:38.450Z"
   },
   {
    "duration": 10465,
    "start_time": "2023-11-06T22:12:45.954Z"
   },
   {
    "duration": 33,
    "start_time": "2023-11-06T22:12:56.421Z"
   },
   {
    "duration": 60,
    "start_time": "2023-11-06T22:12:56.456Z"
   },
   {
    "duration": 39,
    "start_time": "2023-11-06T22:12:56.517Z"
   },
   {
    "duration": 27,
    "start_time": "2023-11-06T22:12:56.558Z"
   },
   {
    "duration": 11,
    "start_time": "2023-11-06T22:12:56.586Z"
   },
   {
    "duration": 38,
    "start_time": "2023-11-06T22:12:56.599Z"
   },
   {
    "duration": 24,
    "start_time": "2023-11-06T22:12:56.639Z"
   },
   {
    "duration": 51,
    "start_time": "2023-11-06T22:12:56.664Z"
   },
   {
    "duration": 16,
    "start_time": "2023-11-06T22:14:51.317Z"
   },
   {
    "duration": 15,
    "start_time": "2023-11-06T22:15:00.818Z"
   },
   {
    "duration": 59,
    "start_time": "2023-11-07T07:48:22.240Z"
   },
   {
    "duration": 18257,
    "start_time": "2023-11-07T07:48:33.940Z"
   },
   {
    "duration": 143,
    "start_time": "2023-11-07T07:48:52.199Z"
   },
   {
    "duration": 233,
    "start_time": "2023-11-07T07:48:52.344Z"
   },
   {
    "duration": 131,
    "start_time": "2023-11-07T07:48:52.579Z"
   },
   {
    "duration": 88,
    "start_time": "2023-11-07T07:48:52.711Z"
   },
   {
    "duration": 56,
    "start_time": "2023-11-07T07:48:52.801Z"
   },
   {
    "duration": 56,
    "start_time": "2023-11-07T07:48:52.920Z"
   },
   {
    "duration": 242,
    "start_time": "2023-11-07T07:48:52.978Z"
   },
   {
    "duration": 59,
    "start_time": "2023-11-07T07:48:53.223Z"
   },
   {
    "duration": 19303,
    "start_time": "2023-11-07T07:51:36.940Z"
   },
   {
    "duration": 140,
    "start_time": "2023-11-07T07:51:56.245Z"
   },
   {
    "duration": 262,
    "start_time": "2023-11-07T07:51:56.387Z"
   },
   {
    "duration": 128,
    "start_time": "2023-11-07T07:51:56.652Z"
   },
   {
    "duration": 88,
    "start_time": "2023-11-07T07:51:56.782Z"
   },
   {
    "duration": 57,
    "start_time": "2023-11-07T07:51:56.871Z"
   },
   {
    "duration": 67,
    "start_time": "2023-11-07T07:51:56.930Z"
   },
   {
    "duration": 63,
    "start_time": "2023-11-07T07:51:56.999Z"
   },
   {
    "duration": 241,
    "start_time": "2023-11-07T07:51:57.064Z"
   },
   {
    "duration": 18287,
    "start_time": "2023-11-07T08:00:46.786Z"
   },
   {
    "duration": 146,
    "start_time": "2023-11-07T08:01:05.075Z"
   },
   {
    "duration": 228,
    "start_time": "2023-11-07T08:01:05.223Z"
   },
   {
    "duration": 120,
    "start_time": "2023-11-07T08:01:05.454Z"
   },
   {
    "duration": 87,
    "start_time": "2023-11-07T08:01:05.577Z"
   },
   {
    "duration": 54,
    "start_time": "2023-11-07T08:01:05.666Z"
   },
   {
    "duration": 59,
    "start_time": "2023-11-07T08:01:05.722Z"
   },
   {
    "duration": 60,
    "start_time": "2023-11-07T08:01:05.783Z"
   },
   {
    "duration": 246,
    "start_time": "2023-11-07T08:01:05.845Z"
   }
  ],
  "kernelspec": {
   "display_name": "Python 3 (ipykernel)",
   "language": "python",
   "name": "python3"
  },
  "language_info": {
   "codemirror_mode": {
    "name": "ipython",
    "version": 3
   },
   "file_extension": ".py",
   "mimetype": "text/x-python",
   "name": "python",
   "nbconvert_exporter": "python",
   "pygments_lexer": "ipython3",
   "version": "3.9.5"
  },
  "toc": {
   "base_numbering": 1,
   "nav_menu": {},
   "number_sections": true,
   "sideBar": true,
   "skip_h1_title": true,
   "title_cell": "Table of Contents",
   "title_sidebar": "Contents",
   "toc_cell": false,
   "toc_position": {},
   "toc_section_display": true,
   "toc_window_display": false
  }
 },
 "nbformat": 4,
 "nbformat_minor": 2
}
