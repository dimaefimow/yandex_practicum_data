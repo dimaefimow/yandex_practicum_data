{
 "cells": [
  {
   "cell_type": "markdown",
   "metadata": {},
   "source": [
    "<div style=\"border:solid green 2px; padding: 20px\">\n",
    "\n",
    "<b>Привет, Дима! Поздравляю с выполнением очередного проекта!!</b>\n",
    "\n",
    "Меня зовут Петр Раздобреев и я буду проверять твою работу. Попробую помочь сделать тебе её еще лучше! В Практикуме принято общени на ты, но если это дискомфортно, то сообщи об этом)\n",
    "\n",
    "Ниже ты найдешь мои комментарии - пожалуйста, не перемещай, не изменяй и не удаляй их. Я буду использовать цветовую разметку:\n",
    "\n",
    "<div class=\"alert alert-danger\">\n",
    "<b>Комментарий ревьюера:</b>☁️Так выделены самые важные замечания. Без их отработки проект не будет принят. </div>\n",
    "\n",
    "<div class=\"alert alert-warning\">\n",
    "<b>Комментарий ревьюера:</b>⛅️ Так выделены небольшие замечания.Такие замечания в проекте допустимы, это пространство для улучшений в будущем.\n",
    "</div>\n",
    "\n",
    "<div class=\"alert alert-success\">\n",
    "<b>Комментарий ревьюера:</b>☀️Так я выделяю успешные идеи.</div>\n",
    "\n",
    "Давай работать над проектом в диалоге: если ты что-то меняешь в проекте или отвечаешь на мои комменатри — пиши об этом. Мне будет легче отследить изменения, если ты выделишь свои комментарии:\n",
    "<div class=\"alert alert-info\"> <b>Комментарий студента:</b> Например, вот так.</div>\n",
    "\n",
    "Всё это поможет выполнить повторную проверку твоего проекта оперативнее. \n",
    "    "
   ]
  },
  {
   "cell_type": "markdown",
   "metadata": {},
   "source": [
    "**Постановка задачи**\n",
    "\n",
    "Ваша задача — провести оценку результатов A/B-теста. В вашем распоряжении\n",
    "есть датасет с действиями пользователей, техническое задание и несколько\n",
    "вспомогательных датасетов.\n",
    "Оцените корректность проведения теста и проанализируйте его результаты.\n",
    "Чтобы оценить корректность проведения теста:\n",
    "удостоверьтесь, что нет пересечений с конкурирующим тестом и нет\n",
    "пользователей, участвующих в двух группах теста одновременно;\n",
    "проверьте равномерность распределения пользователей по тестовым группам\n",
    "и правильность их формирования"
   ]
  },
  {
   "cell_type": "markdown",
   "metadata": {},
   "source": [
    "цель исследования\n",
    "\n",
    "основной целью является проверка изменений, связанных с внедрением улучшенной рекомендательной системы. Ожидаемый эффект - улучшение каждого показателя не менее чем на 5 процентных пунктов."
   ]
  },
  {
   "cell_type": "code",
   "execution_count": 1,
   "metadata": {},
   "outputs": [
    {
     "name": "stdout",
     "output_type": "stream",
     "text": [
      "Requirement already satisfied: statsmodels in /opt/conda/lib/python3.9/site-packages (0.13.2)\r\n",
      "Requirement already satisfied: numpy>=1.17 in /opt/conda/lib/python3.9/site-packages (from statsmodels) (1.21.1)\r\n",
      "Requirement already satisfied: scipy>=1.3 in /opt/conda/lib/python3.9/site-packages (from statsmodels) (1.9.1)\r\n",
      "Requirement already satisfied: packaging>=21.3 in /opt/conda/lib/python3.9/site-packages (from statsmodels) (21.3)\r\n",
      "Requirement already satisfied: pandas>=0.25 in /opt/conda/lib/python3.9/site-packages (from statsmodels) (1.2.4)\r\n",
      "Requirement already satisfied: patsy>=0.5.2 in /opt/conda/lib/python3.9/site-packages (from statsmodels) (0.5.2)\r\n",
      "Requirement already satisfied: pyparsing!=3.0.5,>=2.0.2 in /opt/conda/lib/python3.9/site-packages (from packaging>=21.3->statsmodels) (2.4.7)\r\n",
      "Requirement already satisfied: python-dateutil>=2.7.3 in /opt/conda/lib/python3.9/site-packages (from pandas>=0.25->statsmodels) (2.8.1)\r\n",
      "Requirement already satisfied: pytz>=2017.3 in /opt/conda/lib/python3.9/site-packages (from pandas>=0.25->statsmodels) (2021.1)\r\n",
      "Requirement already satisfied: six in /opt/conda/lib/python3.9/site-packages (from patsy>=0.5.2->statsmodels) (1.16.0)\r\n"
     ]
    }
   ],
   "source": [
    "!pip install statsmodels"
   ]
  },
  {
   "cell_type": "code",
   "execution_count": 2,
   "metadata": {},
   "outputs": [],
   "source": [
    "import pandas as pd\n",
    "from scipy import stats\n",
    "import numpy as np\n",
    "import matplotlib.pyplot as plt\n",
    "\n",
    "\n",
    "import warnings\n",
    "warnings.filterwarnings('ignore')\n",
    "#from plotly.subplots import\n",
    "from statsmodels.stats.proportion import proportions_ztest\n",
    "\n",
    "import math as mth\n"
   ]
  },
  {
   "cell_type": "code",
   "execution_count": 3,
   "metadata": {},
   "outputs": [],
   "source": [
    "marketing_events = pd.read_csv('https://code.s3.yandex.net/datasets/ab_project_marketing_events.csv')\n",
    "new_users = pd.read_csv('https://code.s3.yandex.net/datasets/final_ab_new_users.csv')\n",
    "final_ab_events = pd.read_csv('https://code.s3.yandex.net/datasets/final_ab_events.csv')\n",
    "participants = pd.read_csv('https://code.s3.yandex.net/datasets/final_ab_participants.csv')\n",
    "marketing = pd.read_csv('https://code.s3.yandex.net/datasets/ab_project_marketing_events.csv')"
   ]
  },
  {
   "cell_type": "code",
   "execution_count": 4,
   "metadata": {},
   "outputs": [
    {
     "data": {
      "text/html": [
       "<div>\n",
       "<style scoped>\n",
       "    .dataframe tbody tr th:only-of-type {\n",
       "        vertical-align: middle;\n",
       "    }\n",
       "\n",
       "    .dataframe tbody tr th {\n",
       "        vertical-align: top;\n",
       "    }\n",
       "\n",
       "    .dataframe thead th {\n",
       "        text-align: right;\n",
       "    }\n",
       "</style>\n",
       "<table border=\"1\" class=\"dataframe\">\n",
       "  <thead>\n",
       "    <tr style=\"text-align: right;\">\n",
       "      <th></th>\n",
       "      <th>name</th>\n",
       "      <th>regions</th>\n",
       "      <th>start_dt</th>\n",
       "      <th>finish_dt</th>\n",
       "    </tr>\n",
       "  </thead>\n",
       "  <tbody>\n",
       "    <tr>\n",
       "      <th>0</th>\n",
       "      <td>Christmas&amp;New Year Promo</td>\n",
       "      <td>EU, N.America</td>\n",
       "      <td>2020-12-25</td>\n",
       "      <td>2021-01-03</td>\n",
       "    </tr>\n",
       "    <tr>\n",
       "      <th>1</th>\n",
       "      <td>St. Valentine's Day Giveaway</td>\n",
       "      <td>EU, CIS, APAC, N.America</td>\n",
       "      <td>2020-02-14</td>\n",
       "      <td>2020-02-16</td>\n",
       "    </tr>\n",
       "    <tr>\n",
       "      <th>2</th>\n",
       "      <td>St. Patric's Day Promo</td>\n",
       "      <td>EU, N.America</td>\n",
       "      <td>2020-03-17</td>\n",
       "      <td>2020-03-19</td>\n",
       "    </tr>\n",
       "    <tr>\n",
       "      <th>3</th>\n",
       "      <td>Easter Promo</td>\n",
       "      <td>EU, CIS, APAC, N.America</td>\n",
       "      <td>2020-04-12</td>\n",
       "      <td>2020-04-19</td>\n",
       "    </tr>\n",
       "    <tr>\n",
       "      <th>4</th>\n",
       "      <td>4th of July Promo</td>\n",
       "      <td>N.America</td>\n",
       "      <td>2020-07-04</td>\n",
       "      <td>2020-07-11</td>\n",
       "    </tr>\n",
       "  </tbody>\n",
       "</table>\n",
       "</div>"
      ],
      "text/plain": [
       "                           name                   regions    start_dt  \\\n",
       "0      Christmas&New Year Promo             EU, N.America  2020-12-25   \n",
       "1  St. Valentine's Day Giveaway  EU, CIS, APAC, N.America  2020-02-14   \n",
       "2        St. Patric's Day Promo             EU, N.America  2020-03-17   \n",
       "3                  Easter Promo  EU, CIS, APAC, N.America  2020-04-12   \n",
       "4             4th of July Promo                 N.America  2020-07-04   \n",
       "\n",
       "    finish_dt  \n",
       "0  2021-01-03  \n",
       "1  2020-02-16  \n",
       "2  2020-03-19  \n",
       "3  2020-04-19  \n",
       "4  2020-07-11  "
      ]
     },
     "execution_count": 4,
     "metadata": {},
     "output_type": "execute_result"
    }
   ],
   "source": [
    "marketing_events.head()\n"
   ]
  },
  {
   "cell_type": "code",
   "execution_count": 5,
   "metadata": {},
   "outputs": [
    {
     "data": {
      "text/html": [
       "<div>\n",
       "<style scoped>\n",
       "    .dataframe tbody tr th:only-of-type {\n",
       "        vertical-align: middle;\n",
       "    }\n",
       "\n",
       "    .dataframe tbody tr th {\n",
       "        vertical-align: top;\n",
       "    }\n",
       "\n",
       "    .dataframe thead th {\n",
       "        text-align: right;\n",
       "    }\n",
       "</style>\n",
       "<table border=\"1\" class=\"dataframe\">\n",
       "  <thead>\n",
       "    <tr style=\"text-align: right;\">\n",
       "      <th></th>\n",
       "      <th>user_id</th>\n",
       "      <th>first_date</th>\n",
       "      <th>region</th>\n",
       "      <th>device</th>\n",
       "    </tr>\n",
       "  </thead>\n",
       "  <tbody>\n",
       "    <tr>\n",
       "      <th>0</th>\n",
       "      <td>D72A72121175D8BE</td>\n",
       "      <td>2020-12-07</td>\n",
       "      <td>EU</td>\n",
       "      <td>PC</td>\n",
       "    </tr>\n",
       "    <tr>\n",
       "      <th>1</th>\n",
       "      <td>F1C668619DFE6E65</td>\n",
       "      <td>2020-12-07</td>\n",
       "      <td>N.America</td>\n",
       "      <td>Android</td>\n",
       "    </tr>\n",
       "    <tr>\n",
       "      <th>2</th>\n",
       "      <td>2E1BF1D4C37EA01F</td>\n",
       "      <td>2020-12-07</td>\n",
       "      <td>EU</td>\n",
       "      <td>PC</td>\n",
       "    </tr>\n",
       "    <tr>\n",
       "      <th>3</th>\n",
       "      <td>50734A22C0C63768</td>\n",
       "      <td>2020-12-07</td>\n",
       "      <td>EU</td>\n",
       "      <td>iPhone</td>\n",
       "    </tr>\n",
       "    <tr>\n",
       "      <th>4</th>\n",
       "      <td>E1BDDCE0DAFA2679</td>\n",
       "      <td>2020-12-07</td>\n",
       "      <td>N.America</td>\n",
       "      <td>iPhone</td>\n",
       "    </tr>\n",
       "  </tbody>\n",
       "</table>\n",
       "</div>"
      ],
      "text/plain": [
       "            user_id  first_date     region   device\n",
       "0  D72A72121175D8BE  2020-12-07         EU       PC\n",
       "1  F1C668619DFE6E65  2020-12-07  N.America  Android\n",
       "2  2E1BF1D4C37EA01F  2020-12-07         EU       PC\n",
       "3  50734A22C0C63768  2020-12-07         EU   iPhone\n",
       "4  E1BDDCE0DAFA2679  2020-12-07  N.America   iPhone"
      ]
     },
     "execution_count": 5,
     "metadata": {},
     "output_type": "execute_result"
    }
   ],
   "source": [
    "new_users.head()\n"
   ]
  },
  {
   "cell_type": "code",
   "execution_count": 6,
   "metadata": {},
   "outputs": [
    {
     "data": {
      "text/html": [
       "<div>\n",
       "<style scoped>\n",
       "    .dataframe tbody tr th:only-of-type {\n",
       "        vertical-align: middle;\n",
       "    }\n",
       "\n",
       "    .dataframe tbody tr th {\n",
       "        vertical-align: top;\n",
       "    }\n",
       "\n",
       "    .dataframe thead th {\n",
       "        text-align: right;\n",
       "    }\n",
       "</style>\n",
       "<table border=\"1\" class=\"dataframe\">\n",
       "  <thead>\n",
       "    <tr style=\"text-align: right;\">\n",
       "      <th></th>\n",
       "      <th>user_id</th>\n",
       "      <th>event_dt</th>\n",
       "      <th>event_name</th>\n",
       "      <th>details</th>\n",
       "    </tr>\n",
       "  </thead>\n",
       "  <tbody>\n",
       "    <tr>\n",
       "      <th>0</th>\n",
       "      <td>E1BDDCE0DAFA2679</td>\n",
       "      <td>2020-12-07 20:22:03</td>\n",
       "      <td>purchase</td>\n",
       "      <td>99.99</td>\n",
       "    </tr>\n",
       "    <tr>\n",
       "      <th>1</th>\n",
       "      <td>7B6452F081F49504</td>\n",
       "      <td>2020-12-07 09:22:53</td>\n",
       "      <td>purchase</td>\n",
       "      <td>9.99</td>\n",
       "    </tr>\n",
       "    <tr>\n",
       "      <th>2</th>\n",
       "      <td>9CD9F34546DF254C</td>\n",
       "      <td>2020-12-07 12:59:29</td>\n",
       "      <td>purchase</td>\n",
       "      <td>4.99</td>\n",
       "    </tr>\n",
       "    <tr>\n",
       "      <th>3</th>\n",
       "      <td>96F27A054B191457</td>\n",
       "      <td>2020-12-07 04:02:40</td>\n",
       "      <td>purchase</td>\n",
       "      <td>4.99</td>\n",
       "    </tr>\n",
       "    <tr>\n",
       "      <th>4</th>\n",
       "      <td>1FD7660FDF94CA1F</td>\n",
       "      <td>2020-12-07 10:15:09</td>\n",
       "      <td>purchase</td>\n",
       "      <td>4.99</td>\n",
       "    </tr>\n",
       "  </tbody>\n",
       "</table>\n",
       "</div>"
      ],
      "text/plain": [
       "            user_id             event_dt event_name  details\n",
       "0  E1BDDCE0DAFA2679  2020-12-07 20:22:03   purchase    99.99\n",
       "1  7B6452F081F49504  2020-12-07 09:22:53   purchase     9.99\n",
       "2  9CD9F34546DF254C  2020-12-07 12:59:29   purchase     4.99\n",
       "3  96F27A054B191457  2020-12-07 04:02:40   purchase     4.99\n",
       "4  1FD7660FDF94CA1F  2020-12-07 10:15:09   purchase     4.99"
      ]
     },
     "execution_count": 6,
     "metadata": {},
     "output_type": "execute_result"
    }
   ],
   "source": [
    "final_ab_events.head()\n"
   ]
  },
  {
   "cell_type": "code",
   "execution_count": 7,
   "metadata": {},
   "outputs": [
    {
     "data": {
      "text/html": [
       "<div>\n",
       "<style scoped>\n",
       "    .dataframe tbody tr th:only-of-type {\n",
       "        vertical-align: middle;\n",
       "    }\n",
       "\n",
       "    .dataframe tbody tr th {\n",
       "        vertical-align: top;\n",
       "    }\n",
       "\n",
       "    .dataframe thead th {\n",
       "        text-align: right;\n",
       "    }\n",
       "</style>\n",
       "<table border=\"1\" class=\"dataframe\">\n",
       "  <thead>\n",
       "    <tr style=\"text-align: right;\">\n",
       "      <th></th>\n",
       "      <th>user_id</th>\n",
       "      <th>group</th>\n",
       "      <th>ab_test</th>\n",
       "    </tr>\n",
       "  </thead>\n",
       "  <tbody>\n",
       "    <tr>\n",
       "      <th>0</th>\n",
       "      <td>D1ABA3E2887B6A73</td>\n",
       "      <td>A</td>\n",
       "      <td>recommender_system_test</td>\n",
       "    </tr>\n",
       "    <tr>\n",
       "      <th>1</th>\n",
       "      <td>A7A3664BD6242119</td>\n",
       "      <td>A</td>\n",
       "      <td>recommender_system_test</td>\n",
       "    </tr>\n",
       "    <tr>\n",
       "      <th>2</th>\n",
       "      <td>DABC14FDDFADD29E</td>\n",
       "      <td>A</td>\n",
       "      <td>recommender_system_test</td>\n",
       "    </tr>\n",
       "    <tr>\n",
       "      <th>3</th>\n",
       "      <td>04988C5DF189632E</td>\n",
       "      <td>A</td>\n",
       "      <td>recommender_system_test</td>\n",
       "    </tr>\n",
       "    <tr>\n",
       "      <th>4</th>\n",
       "      <td>482F14783456D21B</td>\n",
       "      <td>B</td>\n",
       "      <td>recommender_system_test</td>\n",
       "    </tr>\n",
       "  </tbody>\n",
       "</table>\n",
       "</div>"
      ],
      "text/plain": [
       "            user_id group                  ab_test\n",
       "0  D1ABA3E2887B6A73     A  recommender_system_test\n",
       "1  A7A3664BD6242119     A  recommender_system_test\n",
       "2  DABC14FDDFADD29E     A  recommender_system_test\n",
       "3  04988C5DF189632E     A  recommender_system_test\n",
       "4  482F14783456D21B     B  recommender_system_test"
      ]
     },
     "execution_count": 7,
     "metadata": {},
     "output_type": "execute_result"
    }
   ],
   "source": [
    "participants.head()"
   ]
  },
  {
   "cell_type": "code",
   "execution_count": 8,
   "metadata": {},
   "outputs": [
    {
     "data": {
      "text/html": [
       "<div>\n",
       "<style scoped>\n",
       "    .dataframe tbody tr th:only-of-type {\n",
       "        vertical-align: middle;\n",
       "    }\n",
       "\n",
       "    .dataframe tbody tr th {\n",
       "        vertical-align: top;\n",
       "    }\n",
       "\n",
       "    .dataframe thead th {\n",
       "        text-align: right;\n",
       "    }\n",
       "</style>\n",
       "<table border=\"1\" class=\"dataframe\">\n",
       "  <thead>\n",
       "    <tr style=\"text-align: right;\">\n",
       "      <th></th>\n",
       "      <th>name</th>\n",
       "      <th>regions</th>\n",
       "      <th>start_dt</th>\n",
       "      <th>finish_dt</th>\n",
       "    </tr>\n",
       "  </thead>\n",
       "  <tbody>\n",
       "    <tr>\n",
       "      <th>0</th>\n",
       "      <td>Christmas&amp;New Year Promo</td>\n",
       "      <td>EU, N.America</td>\n",
       "      <td>2020-12-25</td>\n",
       "      <td>2021-01-03</td>\n",
       "    </tr>\n",
       "    <tr>\n",
       "      <th>1</th>\n",
       "      <td>St. Valentine's Day Giveaway</td>\n",
       "      <td>EU, CIS, APAC, N.America</td>\n",
       "      <td>2020-02-14</td>\n",
       "      <td>2020-02-16</td>\n",
       "    </tr>\n",
       "    <tr>\n",
       "      <th>2</th>\n",
       "      <td>St. Patric's Day Promo</td>\n",
       "      <td>EU, N.America</td>\n",
       "      <td>2020-03-17</td>\n",
       "      <td>2020-03-19</td>\n",
       "    </tr>\n",
       "    <tr>\n",
       "      <th>3</th>\n",
       "      <td>Easter Promo</td>\n",
       "      <td>EU, CIS, APAC, N.America</td>\n",
       "      <td>2020-04-12</td>\n",
       "      <td>2020-04-19</td>\n",
       "    </tr>\n",
       "    <tr>\n",
       "      <th>4</th>\n",
       "      <td>4th of July Promo</td>\n",
       "      <td>N.America</td>\n",
       "      <td>2020-07-04</td>\n",
       "      <td>2020-07-11</td>\n",
       "    </tr>\n",
       "  </tbody>\n",
       "</table>\n",
       "</div>"
      ],
      "text/plain": [
       "                           name                   regions    start_dt  \\\n",
       "0      Christmas&New Year Promo             EU, N.America  2020-12-25   \n",
       "1  St. Valentine's Day Giveaway  EU, CIS, APAC, N.America  2020-02-14   \n",
       "2        St. Patric's Day Promo             EU, N.America  2020-03-17   \n",
       "3                  Easter Promo  EU, CIS, APAC, N.America  2020-04-12   \n",
       "4             4th of July Promo                 N.America  2020-07-04   \n",
       "\n",
       "    finish_dt  \n",
       "0  2021-01-03  \n",
       "1  2020-02-16  \n",
       "2  2020-03-19  \n",
       "3  2020-04-19  \n",
       "4  2020-07-11  "
      ]
     },
     "execution_count": 8,
     "metadata": {},
     "output_type": "execute_result"
    }
   ],
   "source": [
    "marketing.head()"
   ]
  },
  {
   "cell_type": "code",
   "execution_count": 9,
   "metadata": {},
   "outputs": [
    {
     "name": "stdout",
     "output_type": "stream",
     "text": [
      "Типы данных для таблицы marketing_events:\n",
      "<class 'pandas.core.frame.DataFrame'>\n",
      "RangeIndex: 14 entries, 0 to 13\n",
      "Data columns (total 4 columns):\n",
      " #   Column     Non-Null Count  Dtype \n",
      "---  ------     --------------  ----- \n",
      " 0   name       14 non-null     object\n",
      " 1   regions    14 non-null     object\n",
      " 2   start_dt   14 non-null     object\n",
      " 3   finish_dt  14 non-null     object\n",
      "dtypes: object(4)\n",
      "memory usage: 576.0+ bytes\n",
      "None\n",
      "\n",
      "Типы данных для таблицы new_users:\n",
      "<class 'pandas.core.frame.DataFrame'>\n",
      "RangeIndex: 61733 entries, 0 to 61732\n",
      "Data columns (total 4 columns):\n",
      " #   Column      Non-Null Count  Dtype \n",
      "---  ------      --------------  ----- \n",
      " 0   user_id     61733 non-null  object\n",
      " 1   first_date  61733 non-null  object\n",
      " 2   region      61733 non-null  object\n",
      " 3   device      61733 non-null  object\n",
      "dtypes: object(4)\n",
      "memory usage: 1.9+ MB\n",
      "None\n",
      "\n",
      "Типы данных для таблицы final_ab_events:\n",
      "<class 'pandas.core.frame.DataFrame'>\n",
      "RangeIndex: 440317 entries, 0 to 440316\n",
      "Data columns (total 4 columns):\n",
      " #   Column      Non-Null Count   Dtype  \n",
      "---  ------      --------------   -----  \n",
      " 0   user_id     440317 non-null  object \n",
      " 1   event_dt    440317 non-null  object \n",
      " 2   event_name  440317 non-null  object \n",
      " 3   details     62740 non-null   float64\n",
      "dtypes: float64(1), object(3)\n",
      "memory usage: 13.4+ MB\n",
      "None\n",
      "\n",
      "Типы данных для таблицы participants:\n",
      "<class 'pandas.core.frame.DataFrame'>\n",
      "RangeIndex: 18268 entries, 0 to 18267\n",
      "Data columns (total 3 columns):\n",
      " #   Column   Non-Null Count  Dtype \n",
      "---  ------   --------------  ----- \n",
      " 0   user_id  18268 non-null  object\n",
      " 1   group    18268 non-null  object\n",
      " 2   ab_test  18268 non-null  object\n",
      "dtypes: object(3)\n",
      "memory usage: 428.3+ KB\n",
      "None\n",
      "\n",
      "Типы данных для таблицы marketing:\n",
      "<class 'pandas.core.frame.DataFrame'>\n",
      "RangeIndex: 14 entries, 0 to 13\n",
      "Data columns (total 4 columns):\n",
      " #   Column     Non-Null Count  Dtype \n",
      "---  ------     --------------  ----- \n",
      " 0   name       14 non-null     object\n",
      " 1   regions    14 non-null     object\n",
      " 2   start_dt   14 non-null     object\n",
      " 3   finish_dt  14 non-null     object\n",
      "dtypes: object(4)\n",
      "memory usage: 576.0+ bytes\n",
      "None\n"
     ]
    }
   ],
   "source": [
    "#типы данных для таблицы marketing_events\n",
    "print(\"Типы данных для таблицы marketing_events:\")\n",
    "print(marketing_events.info())\n",
    "\n",
    "#типы данных для таблицы new_users\n",
    "print(\"\\nТипы данных для таблицы new_users:\")\n",
    "print(new_users.info())\n",
    "\n",
    "#типы данных для таблицы final_ab_events\n",
    "print(\"\\nТипы данных для таблицы final_ab_events:\")\n",
    "print(final_ab_events.info())\n",
    "\n",
    "#типы данных для таблицы participants\n",
    "print(\"\\nТипы данных для таблицы participants:\")\n",
    "print(participants.info())\n",
    "\n",
    "#типы данных для таблицы marketing\n",
    "print(\"\\nТипы данных для таблицы marketing:\")\n",
    "print(marketing.info())\n"
   ]
  },
  {
   "cell_type": "markdown",
   "metadata": {},
   "source": [
    "<div class=\"alert alert-success\">\n",
    "<b>Комментарий ревьюера:</b>☀️\n",
    "    \n",
    "для вывода `info` дополнительно необязательно писать `print`\n"
   ]
  },
  {
   "cell_type": "markdown",
   "metadata": {},
   "source": [
    "<div class=\"alert alert-info\"> <b></b> хорошо</div>\n"
   ]
  },
  {
   "cell_type": "code",
   "execution_count": 10,
   "metadata": {},
   "outputs": [],
   "source": [
    "new_users['first_date'] = pd.to_datetime(new_users['first_date'], format='%Y-%m-%d')\n",
    "final_ab_events['event_dt'] = pd.to_datetime(final_ab_events['event_dt'], format='%Y-%m-%d %H:%M:%S')\n",
    "final_ab_events['date'] = final_ab_events['event_dt'].dt.date\n",
    "\n"
   ]
  },
  {
   "cell_type": "markdown",
   "metadata": {},
   "source": [
    "<div class=\"alert alert-success\">\n",
    "<b>Комментарий ревьюера:</b>☀️\n",
    "    \n",
    "Рекламирую параметр `parse_dates`, очень полезно для изменения типа данных при считывании датафреймов"
   ]
  },
  {
   "cell_type": "markdown",
   "metadata": {},
   "source": [
    "<div class=\"alert alert-info\"> <b></b> изучу</div>\n"
   ]
  },
  {
   "cell_type": "code",
   "execution_count": 11,
   "metadata": {},
   "outputs": [
    {
     "name": "stdout",
     "output_type": "stream",
     "text": [
      "Общее количество новых пользователей: 61733\n"
     ]
    }
   ],
   "source": [
    "len(new_users[(new_users['first_date'] == '2020-12-22') | (new_users['first_date'] == '2020-12-23')])\n",
    "print('Общее количество новых пользователей:', len(new_users['user_id']))\n"
   ]
  },
  {
   "cell_type": "code",
   "execution_count": 12,
   "metadata": {},
   "outputs": [
    {
     "name": "stdout",
     "output_type": "stream",
     "text": [
      "name         0\n",
      "regions      0\n",
      "start_dt     0\n",
      "finish_dt    0\n",
      "dtype: int64\n",
      "user_id       0\n",
      "first_date    0\n",
      "region        0\n",
      "device        0\n",
      "dtype: int64\n",
      "user_id            0\n",
      "event_dt           0\n",
      "event_name         0\n",
      "details       377577\n",
      "date               0\n",
      "dtype: int64\n",
      "user_id    0\n",
      "group      0\n",
      "ab_test    0\n",
      "dtype: int64\n"
     ]
    }
   ],
   "source": [
    "# наличие пропущенных значений и дубликатов\n",
    "print(marketing_events.isnull().sum())\n",
    "print(new_users.isnull().sum())\n",
    "print(final_ab_events.isnull().sum())\n",
    "print(participants.isnull().sum())\n"
   ]
  },
  {
   "cell_type": "code",
   "execution_count": 13,
   "metadata": {},
   "outputs": [
    {
     "name": "stdout",
     "output_type": "stream",
     "text": [
      "0\n",
      "0\n",
      "0\n",
      "0\n"
     ]
    }
   ],
   "source": [
    "print(marketing_events.duplicated().sum())\n",
    "print(new_users.duplicated().sum())\n",
    "print(final_ab_events.duplicated().sum())\n",
    "print(participants.duplicated().sum())"
   ]
  },
  {
   "cell_type": "markdown",
   "metadata": {},
   "source": [
    "<div class=\"alert alert-warning\">\n",
    "<b>Комментарий ревьюера:</b>⛅️ \n",
    "\n",
    "Первичный анализ по датафреймам похож и рекомендовал бы схожие действия обернуть в фнукцию для первичного анализа \n",
    "</div>"
   ]
  },
  {
   "cell_type": "code",
   "execution_count": 14,
   "metadata": {},
   "outputs": [
    {
     "data": {
      "text/html": [
       "<div>\n",
       "<style scoped>\n",
       "    .dataframe tbody tr th:only-of-type {\n",
       "        vertical-align: middle;\n",
       "    }\n",
       "\n",
       "    .dataframe tbody tr th {\n",
       "        vertical-align: top;\n",
       "    }\n",
       "\n",
       "    .dataframe thead th {\n",
       "        text-align: right;\n",
       "    }\n",
       "</style>\n",
       "<table border=\"1\" class=\"dataframe\">\n",
       "  <thead>\n",
       "    <tr style=\"text-align: right;\">\n",
       "      <th></th>\n",
       "      <th>user_id</th>\n",
       "      <th>group</th>\n",
       "      <th>ab_test</th>\n",
       "    </tr>\n",
       "  </thead>\n",
       "  <tbody>\n",
       "    <tr>\n",
       "      <th>0</th>\n",
       "      <td>D1ABA3E2887B6A73</td>\n",
       "      <td>A</td>\n",
       "      <td>recommender_system_test</td>\n",
       "    </tr>\n",
       "    <tr>\n",
       "      <th>1</th>\n",
       "      <td>A7A3664BD6242119</td>\n",
       "      <td>A</td>\n",
       "      <td>recommender_system_test</td>\n",
       "    </tr>\n",
       "    <tr>\n",
       "      <th>2</th>\n",
       "      <td>DABC14FDDFADD29E</td>\n",
       "      <td>A</td>\n",
       "      <td>recommender_system_test</td>\n",
       "    </tr>\n",
       "    <tr>\n",
       "      <th>3</th>\n",
       "      <td>04988C5DF189632E</td>\n",
       "      <td>A</td>\n",
       "      <td>recommender_system_test</td>\n",
       "    </tr>\n",
       "    <tr>\n",
       "      <th>4</th>\n",
       "      <td>482F14783456D21B</td>\n",
       "      <td>B</td>\n",
       "      <td>recommender_system_test</td>\n",
       "    </tr>\n",
       "  </tbody>\n",
       "</table>\n",
       "</div>"
      ],
      "text/plain": [
       "            user_id group                  ab_test\n",
       "0  D1ABA3E2887B6A73     A  recommender_system_test\n",
       "1  A7A3664BD6242119     A  recommender_system_test\n",
       "2  DABC14FDDFADD29E     A  recommender_system_test\n",
       "3  04988C5DF189632E     A  recommender_system_test\n",
       "4  482F14783456D21B     B  recommender_system_test"
      ]
     },
     "metadata": {},
     "output_type": "display_data"
    }
   ],
   "source": [
    "#пользователеи, участвующие в тесте\n",
    "test_users = participants[participants['ab_test'] == 'recommender_system_test']\n",
    "display(test_users.head())"
   ]
  },
  {
   "cell_type": "code",
   "execution_count": null,
   "metadata": {},
   "outputs": [],
   "source": []
  },
  {
   "cell_type": "code",
   "execution_count": 15,
   "metadata": {},
   "outputs": [
    {
     "name": "stdout",
     "output_type": "stream",
     "text": [
      "2020-12-07 00:00:00\n",
      "2020-12-23 00:00:00\n"
     ]
    }
   ],
   "source": [
    "#период набора пользователей в тест\n",
    "print(new_users['first_date'].min())\n",
    "print(new_users['first_date'].max())\n"
   ]
  },
  {
   "cell_type": "markdown",
   "metadata": {},
   "source": [
    "<div class=\"alert alert-danger\">\n",
    "<b>Комментарий ревьюера:</b>☁️\n",
    "\n",
    "Всё же в `new_users` имеются и пользователи параллельного теста, поэтому прошу удалить сначала таких пользователей и проверить даты набора пользователей повторно\n",
    "</div>"
   ]
  },
  {
   "cell_type": "markdown",
   "metadata": {},
   "source": [
    "<div class=\"alert alert-info\"> <b></b> исправил </div>"
   ]
  },
  {
   "cell_type": "markdown",
   "metadata": {},
   "source": [
    "<div class=\"alert alert-success\">\n",
    "<b>Комментарий ревьюера v2:</b>☀️\n",
    "   \n",
    "\n",
    "Отлично, теперь видно, что пользователи нашего теста набираются в нужные даты \n",
    "</div>"
   ]
  },
  {
   "cell_type": "code",
   "execution_count": 16,
   "metadata": {},
   "outputs": [],
   "source": [
    "#список пользователей, участвующих в параллельном тесте\n",
    "parallel_test_users = participants[participants['ab_test'] != 'recommender_system_test']['user_id'].unique()\n",
    "new_users = new_users[~new_users['user_id'].isin(parallel_test_users)]\n",
    "new_users = new_users[~new_users['first_date'].isin(['2020-12-22', '2020-12-23'])]\n"
   ]
  },
  {
   "cell_type": "code",
   "execution_count": 17,
   "metadata": {},
   "outputs": [
    {
     "name": "stdout",
     "output_type": "stream",
     "text": [
      "2020-12-07 00:00:00\n",
      "2020-12-21 00:00:00\n"
     ]
    }
   ],
   "source": [
    "#период набора пользователей в тест\n",
    "print(new_users['first_date'].min())\n",
    "print(new_users['first_date'].max())\n"
   ]
  },
  {
   "cell_type": "code",
   "execution_count": 18,
   "metadata": {},
   "outputs": [
    {
     "name": "stdout",
     "output_type": "stream",
     "text": [
      "EU           31775\n",
      "N.America     8347\n",
      "CIS           2900\n",
      "APAC          2883\n",
      "Name: region, dtype: int64\n",
      "A    3824\n",
      "B    2877\n",
      "Name: group, dtype: int64\n"
     ]
    }
   ],
   "source": [
    "print(new_users['region'].value_counts())\n",
    "print(test_users['group'].value_counts())\n"
   ]
  },
  {
   "cell_type": "markdown",
   "metadata": {},
   "source": [
    "больше всtго пользователей из Европы"
   ]
  },
  {
   "cell_type": "code",
   "execution_count": 19,
   "metadata": {},
   "outputs": [
    {
     "name": "stdout",
     "output_type": "stream",
     "text": [
      "2020-12-07 00:00:33\n",
      "2020-12-30 23:36:33\n"
     ]
    }
   ],
   "source": [
    "#даты совершения ивентов участниками теста\n",
    "print(final_ab_events['event_dt'].min())\n",
    "print(final_ab_events['event_dt'].max())\n"
   ]
  },
  {
   "cell_type": "code",
   "execution_count": 20,
   "metadata": {},
   "outputs": [
    {
     "data": {
      "text/plain": [
       "A3917F81482141F2    36\n",
       "203773F2A53233A8    32\n",
       "3356239C0DC75E2A    32\n",
       "590DACD07A839BC3    32\n",
       "11285A53EC2B2042    32\n",
       "Name: user_id, dtype: int64"
      ]
     },
     "metadata": {},
     "output_type": "display_data"
    }
   ],
   "source": [
    "#активность пользователей\n",
    "user_activity = final_ab_events['user_id'].value_counts()\n",
    "display(user_activity.head())"
   ]
  },
  {
   "cell_type": "code",
   "execution_count": 21,
   "metadata": {},
   "outputs": [],
   "source": [
    "user_new_2 = new_users[(new_users['first_date'] == '2020-12-22') | (new_users['first_date'] == '2020-12-23')]['user_id']\n"
   ]
  },
  {
   "cell_type": "code",
   "execution_count": 22,
   "metadata": {},
   "outputs": [
    {
     "data": {
      "text/plain": [
       "array(['purchase'], dtype=object)"
      ]
     },
     "execution_count": 22,
     "metadata": {},
     "output_type": "execute_result"
    }
   ],
   "source": [
    "final_ab_events[final_ab_events['details'].isna() == False]['event_name'].unique()\n"
   ]
  },
  {
   "cell_type": "code",
   "execution_count": 23,
   "metadata": {},
   "outputs": [
    {
     "data": {
      "text/plain": [
       "array(['product_cart', 'product_page', 'login'], dtype=object)"
      ]
     },
     "execution_count": 23,
     "metadata": {},
     "output_type": "execute_result"
    }
   ],
   "source": [
    "final_ab_events[final_ab_events['details'].isna() == True]['event_name'].unique()\n"
   ]
  },
  {
   "cell_type": "code",
   "execution_count": 24,
   "metadata": {},
   "outputs": [],
   "source": [
    "final_ab_events['details'] = final_ab_events['details'].fillna(0)\n"
   ]
  },
  {
   "cell_type": "markdown",
   "metadata": {},
   "source": [
    "В данных отсутствуют дубликаты. Однако, в столбце details, который содержит дополнительную информацию, присутствуют пропущенные значения. Эти пропуски встречаются везде, кроме событий purchase, где в details указана стоимость. Мы заполним эти пропуски нулями."
   ]
  },
  {
   "cell_type": "markdown",
   "metadata": {},
   "source": [
    "## Предобработка данных\n"
   ]
  },
  {
   "cell_type": "code",
   "execution_count": 25,
   "metadata": {},
   "outputs": [
    {
     "data": {
      "text/html": [
       "<div>\n",
       "<style scoped>\n",
       "    .dataframe tbody tr th:only-of-type {\n",
       "        vertical-align: middle;\n",
       "    }\n",
       "\n",
       "    .dataframe tbody tr th {\n",
       "        vertical-align: top;\n",
       "    }\n",
       "\n",
       "    .dataframe thead th {\n",
       "        text-align: right;\n",
       "    }\n",
       "</style>\n",
       "<table border=\"1\" class=\"dataframe\">\n",
       "  <thead>\n",
       "    <tr style=\"text-align: right;\">\n",
       "      <th></th>\n",
       "      <th>user_id</th>\n",
       "      <th>event_dt</th>\n",
       "      <th>event_name</th>\n",
       "      <th>details</th>\n",
       "      <th>date</th>\n",
       "      <th>first_date</th>\n",
       "      <th>region</th>\n",
       "      <th>device</th>\n",
       "      <th>lifetime</th>\n",
       "    </tr>\n",
       "  </thead>\n",
       "  <tbody>\n",
       "    <tr>\n",
       "      <th>0</th>\n",
       "      <td>E1BDDCE0DAFA2679</td>\n",
       "      <td>2020-12-07 20:22:03</td>\n",
       "      <td>purchase</td>\n",
       "      <td>99.99</td>\n",
       "      <td>2020-12-07</td>\n",
       "      <td>2020-12-07</td>\n",
       "      <td>N.America</td>\n",
       "      <td>iPhone</td>\n",
       "      <td>0</td>\n",
       "    </tr>\n",
       "    <tr>\n",
       "      <th>1</th>\n",
       "      <td>E1BDDCE0DAFA2679</td>\n",
       "      <td>2020-12-09 06:21:35</td>\n",
       "      <td>purchase</td>\n",
       "      <td>9.99</td>\n",
       "      <td>2020-12-09</td>\n",
       "      <td>2020-12-07</td>\n",
       "      <td>N.America</td>\n",
       "      <td>iPhone</td>\n",
       "      <td>2</td>\n",
       "    </tr>\n",
       "    <tr>\n",
       "      <th>2</th>\n",
       "      <td>E1BDDCE0DAFA2679</td>\n",
       "      <td>2020-12-25 08:26:03</td>\n",
       "      <td>purchase</td>\n",
       "      <td>499.99</td>\n",
       "      <td>2020-12-25</td>\n",
       "      <td>2020-12-07</td>\n",
       "      <td>N.America</td>\n",
       "      <td>iPhone</td>\n",
       "      <td>18</td>\n",
       "    </tr>\n",
       "    <tr>\n",
       "      <th>3</th>\n",
       "      <td>E1BDDCE0DAFA2679</td>\n",
       "      <td>2020-12-07 20:22:03</td>\n",
       "      <td>login</td>\n",
       "      <td>0.00</td>\n",
       "      <td>2020-12-07</td>\n",
       "      <td>2020-12-07</td>\n",
       "      <td>N.America</td>\n",
       "      <td>iPhone</td>\n",
       "      <td>0</td>\n",
       "    </tr>\n",
       "    <tr>\n",
       "      <th>4</th>\n",
       "      <td>E1BDDCE0DAFA2679</td>\n",
       "      <td>2020-12-09 06:21:35</td>\n",
       "      <td>login</td>\n",
       "      <td>0.00</td>\n",
       "      <td>2020-12-09</td>\n",
       "      <td>2020-12-07</td>\n",
       "      <td>N.America</td>\n",
       "      <td>iPhone</td>\n",
       "      <td>2</td>\n",
       "    </tr>\n",
       "  </tbody>\n",
       "</table>\n",
       "</div>"
      ],
      "text/plain": [
       "            user_id            event_dt event_name  details        date  \\\n",
       "0  E1BDDCE0DAFA2679 2020-12-07 20:22:03   purchase    99.99  2020-12-07   \n",
       "1  E1BDDCE0DAFA2679 2020-12-09 06:21:35   purchase     9.99  2020-12-09   \n",
       "2  E1BDDCE0DAFA2679 2020-12-25 08:26:03   purchase   499.99  2020-12-25   \n",
       "3  E1BDDCE0DAFA2679 2020-12-07 20:22:03      login     0.00  2020-12-07   \n",
       "4  E1BDDCE0DAFA2679 2020-12-09 06:21:35      login     0.00  2020-12-09   \n",
       "\n",
       "  first_date     region  device  lifetime  \n",
       "0 2020-12-07  N.America  iPhone         0  \n",
       "1 2020-12-07  N.America  iPhone         2  \n",
       "2 2020-12-07  N.America  iPhone        18  \n",
       "3 2020-12-07  N.America  iPhone         0  \n",
       "4 2020-12-07  N.America  iPhone         2  "
      ]
     },
     "metadata": {},
     "output_type": "display_data"
    }
   ],
   "source": [
    "# лайфтайм совершения ивентов пользователем после регистрации\n",
    "final_ab_events['event_dt'] = pd.to_datetime(final_ab_events['event_dt'])\n",
    "new_users['first_date'] = pd.to_datetime(new_users['first_date'])\n",
    "merged_df = pd.merge(final_ab_events, new_users, on='user_id')\n",
    "merged_df['lifetime'] = (merged_df['event_dt'] - merged_df['first_date']).dt.days\n",
    "display(merged_df.head())\n"
   ]
  },
  {
   "cell_type": "code",
   "execution_count": 26,
   "metadata": {},
   "outputs": [
    {
     "data": {
      "image/png": "[encoded data removed]",
      "text/plain": [
       "<Figure size 432x288 with 1 Axes>"
      ]
     },
     "metadata": {
      "needs_background": "light"
     },
     "output_type": "display_data"
    },
    {
     "data": {
      "image/png": "[encoded data removed]",
      "text/plain": [
       "<Figure size 432x288 with 1 Axes>"
      ]
     },
     "metadata": {
      "needs_background": "light"
     },
     "output_type": "display_data"
    }
   ],
   "source": [
    "#гистограмма распределения количества событий на пользователя в разрезе групп теста\n",
    "merged_df = pd.merge(merged_df, test_users, on='user_id')\n",
    "group_a = merged_df[merged_df['group'] == 'A']['user_id'].value_counts()\n",
    "group_b = merged_df[merged_df['group'] == 'B']['user_id'].value_counts()\n",
    "plt.hist([group_a, group_b], label=['Group A', 'Group B'])\n",
    "plt.legend(loc='upper right')\n",
    "plt.show()\n",
    "\n",
    "#динамика количества событий в группах теста по дням\n",
    "#plt.figure(figsize=(12, 6))\n",
    "group_a_daily = merged_df[merged_df['group'] == 'A']['event_dt'].dt.date.value_counts()\n",
    "group_b_daily = merged_df[merged_df['group'] == 'B']['event_dt'].dt.date.value_counts()\n",
    "plt.plot(group_a_daily.sort_index(), label='Group A')\n",
    "plt.plot(group_b_daily.sort_index(), label='Group B')\n",
    "plt.legend(loc='upper right')\n",
    "plt.show()\n"
   ]
  },
  {
   "cell_type": "markdown",
   "metadata": {},
   "source": [
    "<div class=\"alert alert-success\">\n",
    "<b>Комментарий ревьюера:</b>☀️\n",
    "    \n",
    "* В данном задании объяснение таких всплесков активности - увеличение числа новых пользователей\n",
    "* Но вообще, при анализе временных промежутков рекомендую обращать внимание и на дни недели\n"
   ]
  },
  {
   "cell_type": "markdown",
   "metadata": {},
   "source": [
    "Группа A (синие столбцы) имеет наибольшую частоту около 1400 пользователей с 5 событиями.\n",
    "Группа B (оранжевые столбцы) имеет наибольшую частоту около 800 пользователей с 10 событиями.\n",
    "Это может указывать на то, что пользователи в Группе B в среднем совершают больше событий, чем пользователи в Группе A.\n",
    "\n",
    "Обе группы показывают колебания в количестве событий по дням, с наибольшим пиком для Группы A около 2020-12-12 и наибольшим пиком для Группы B около 2020-12-18."
   ]
  },
  {
   "cell_type": "code",
   "execution_count": null,
   "metadata": {},
   "outputs": [],
   "source": []
  },
  {
   "cell_type": "code",
   "execution_count": 27,
   "metadata": {},
   "outputs": [
    {
     "data": {
      "text/html": [
       "<div>\n",
       "<style scoped>\n",
       "    .dataframe tbody tr th:only-of-type {\n",
       "        vertical-align: middle;\n",
       "    }\n",
       "\n",
       "    .dataframe tbody tr th {\n",
       "        vertical-align: top;\n",
       "    }\n",
       "\n",
       "    .dataframe thead th {\n",
       "        text-align: right;\n",
       "    }\n",
       "</style>\n",
       "<table border=\"1\" class=\"dataframe\">\n",
       "  <thead>\n",
       "    <tr style=\"text-align: right;\">\n",
       "      <th></th>\n",
       "      <th>user_id</th>\n",
       "      <th>event_dt</th>\n",
       "      <th>event_name</th>\n",
       "      <th>details</th>\n",
       "      <th>date</th>\n",
       "      <th>first_date</th>\n",
       "      <th>region</th>\n",
       "      <th>device</th>\n",
       "      <th>lifetime</th>\n",
       "      <th>group</th>\n",
       "      <th>ab_test</th>\n",
       "    </tr>\n",
       "  </thead>\n",
       "  <tbody>\n",
       "    <tr>\n",
       "      <th>0</th>\n",
       "      <td>831887FE7F2D6CBA</td>\n",
       "      <td>2020-12-07 06:50:29</td>\n",
       "      <td>purchase</td>\n",
       "      <td>4.99</td>\n",
       "      <td>2020-12-07</td>\n",
       "      <td>2020-12-07</td>\n",
       "      <td>EU</td>\n",
       "      <td>Android</td>\n",
       "      <td>0</td>\n",
       "      <td>A</td>\n",
       "      <td>recommender_system_test</td>\n",
       "    </tr>\n",
       "    <tr>\n",
       "      <th>1</th>\n",
       "      <td>831887FE7F2D6CBA</td>\n",
       "      <td>2020-12-09 02:19:17</td>\n",
       "      <td>purchase</td>\n",
       "      <td>99.99</td>\n",
       "      <td>2020-12-09</td>\n",
       "      <td>2020-12-07</td>\n",
       "      <td>EU</td>\n",
       "      <td>Android</td>\n",
       "      <td>2</td>\n",
       "      <td>A</td>\n",
       "      <td>recommender_system_test</td>\n",
       "    </tr>\n",
       "    <tr>\n",
       "      <th>2</th>\n",
       "      <td>831887FE7F2D6CBA</td>\n",
       "      <td>2020-12-07 06:50:30</td>\n",
       "      <td>product_cart</td>\n",
       "      <td>0.00</td>\n",
       "      <td>2020-12-07</td>\n",
       "      <td>2020-12-07</td>\n",
       "      <td>EU</td>\n",
       "      <td>Android</td>\n",
       "      <td>0</td>\n",
       "      <td>A</td>\n",
       "      <td>recommender_system_test</td>\n",
       "    </tr>\n",
       "    <tr>\n",
       "      <th>3</th>\n",
       "      <td>831887FE7F2D6CBA</td>\n",
       "      <td>2020-12-08 10:52:27</td>\n",
       "      <td>product_cart</td>\n",
       "      <td>0.00</td>\n",
       "      <td>2020-12-08</td>\n",
       "      <td>2020-12-07</td>\n",
       "      <td>EU</td>\n",
       "      <td>Android</td>\n",
       "      <td>1</td>\n",
       "      <td>A</td>\n",
       "      <td>recommender_system_test</td>\n",
       "    </tr>\n",
       "    <tr>\n",
       "      <th>4</th>\n",
       "      <td>831887FE7F2D6CBA</td>\n",
       "      <td>2020-12-09 02:19:17</td>\n",
       "      <td>product_cart</td>\n",
       "      <td>0.00</td>\n",
       "      <td>2020-12-09</td>\n",
       "      <td>2020-12-07</td>\n",
       "      <td>EU</td>\n",
       "      <td>Android</td>\n",
       "      <td>2</td>\n",
       "      <td>A</td>\n",
       "      <td>recommender_system_test</td>\n",
       "    </tr>\n",
       "  </tbody>\n",
       "</table>\n",
       "</div>"
      ],
      "text/plain": [
       "            user_id            event_dt    event_name  details        date  \\\n",
       "0  831887FE7F2D6CBA 2020-12-07 06:50:29      purchase     4.99  2020-12-07   \n",
       "1  831887FE7F2D6CBA 2020-12-09 02:19:17      purchase    99.99  2020-12-09   \n",
       "2  831887FE7F2D6CBA 2020-12-07 06:50:30  product_cart     0.00  2020-12-07   \n",
       "3  831887FE7F2D6CBA 2020-12-08 10:52:27  product_cart     0.00  2020-12-08   \n",
       "4  831887FE7F2D6CBA 2020-12-09 02:19:17  product_cart     0.00  2020-12-09   \n",
       "\n",
       "  first_date region   device  lifetime group                  ab_test  \n",
       "0 2020-12-07     EU  Android         0     A  recommender_system_test  \n",
       "1 2020-12-07     EU  Android         2     A  recommender_system_test  \n",
       "2 2020-12-07     EU  Android         0     A  recommender_system_test  \n",
       "3 2020-12-07     EU  Android         1     A  recommender_system_test  \n",
       "4 2020-12-07     EU  Android         2     A  recommender_system_test  "
      ]
     },
     "metadata": {},
     "output_type": "display_data"
    }
   ],
   "source": [
    "display(merged_df.head(5))"
   ]
  },
  {
   "cell_type": "code",
   "execution_count": 28,
   "metadata": {},
   "outputs": [],
   "source": [
    "#from statsmodels.stats.proportion import proportions_ztest"
   ]
  },
  {
   "cell_type": "markdown",
   "metadata": {},
   "source": [
    "## Проверка корректности проведения теста\n"
   ]
  },
  {
   "cell_type": "code",
   "execution_count": 29,
   "metadata": {},
   "outputs": [
    {
     "name": "stdout",
     "output_type": "stream",
     "text": [
      "2020-12-07 00:00:00\n",
      "2020-12-21 00:00:00\n",
      "EU           31775\n",
      "N.America     8347\n",
      "CIS           2900\n",
      "APAC          2883\n",
      "Name: region, dtype: int64\n"
     ]
    },
    {
     "data": {
      "text/plain": [
       "A    3824\n",
       "B    2877\n",
       "Name: group, dtype: int64"
      ]
     },
     "metadata": {},
     "output_type": "display_data"
    }
   ],
   "source": [
    "test_users = participants[participants['ab_test'] == 'recommender_system_test']\n",
    "\n",
    "# Проверьте период набора пользователей в тест\n",
    "print(new_users['first_date'].min())\n",
    "print(new_users['first_date'].max())\n",
    "\n",
    "print(new_users['region'].value_counts())\n",
    "display(test_users['group'].value_counts())\n"
   ]
  },
  {
   "cell_type": "code",
   "execution_count": 30,
   "metadata": {},
   "outputs": [
    {
     "data": {
      "text/html": [
       "<div>\n",
       "<style scoped>\n",
       "    .dataframe tbody tr th:only-of-type {\n",
       "        vertical-align: middle;\n",
       "    }\n",
       "\n",
       "    .dataframe tbody tr th {\n",
       "        vertical-align: top;\n",
       "    }\n",
       "\n",
       "    .dataframe thead th {\n",
       "        text-align: right;\n",
       "    }\n",
       "</style>\n",
       "<table border=\"1\" class=\"dataframe\">\n",
       "  <thead>\n",
       "    <tr style=\"text-align: right;\">\n",
       "      <th></th>\n",
       "      <th>user_id</th>\n",
       "      <th>group_x</th>\n",
       "      <th>ab_test_x</th>\n",
       "      <th>group_y</th>\n",
       "      <th>ab_test_y</th>\n",
       "    </tr>\n",
       "  </thead>\n",
       "  <tbody>\n",
       "    <tr>\n",
       "      <th>0</th>\n",
       "      <td>FC3F3E4DA7C85F88</td>\n",
       "      <td>A</td>\n",
       "      <td>recommender_system_test</td>\n",
       "      <td>B</td>\n",
       "      <td>interface_eu_test</td>\n",
       "    </tr>\n",
       "    <tr>\n",
       "      <th>1</th>\n",
       "      <td>FE2AF0E94DBD470E</td>\n",
       "      <td>A</td>\n",
       "      <td>recommender_system_test</td>\n",
       "      <td>B</td>\n",
       "      <td>interface_eu_test</td>\n",
       "    </tr>\n",
       "    <tr>\n",
       "      <th>2</th>\n",
       "      <td>C5AD06762E628169</td>\n",
       "      <td>A</td>\n",
       "      <td>recommender_system_test</td>\n",
       "      <td>B</td>\n",
       "      <td>interface_eu_test</td>\n",
       "    </tr>\n",
       "    <tr>\n",
       "      <th>3</th>\n",
       "      <td>25CE0629AC6B6971</td>\n",
       "      <td>A</td>\n",
       "      <td>recommender_system_test</td>\n",
       "      <td>B</td>\n",
       "      <td>interface_eu_test</td>\n",
       "    </tr>\n",
       "    <tr>\n",
       "      <th>4</th>\n",
       "      <td>44EB15AD423DC31C</td>\n",
       "      <td>A</td>\n",
       "      <td>recommender_system_test</td>\n",
       "      <td>B</td>\n",
       "      <td>interface_eu_test</td>\n",
       "    </tr>\n",
       "  </tbody>\n",
       "</table>\n",
       "</div>"
      ],
      "text/plain": [
       "            user_id group_x                ab_test_x group_y  \\\n",
       "0  FC3F3E4DA7C85F88       A  recommender_system_test       B   \n",
       "1  FE2AF0E94DBD470E       A  recommender_system_test       B   \n",
       "2  C5AD06762E628169       A  recommender_system_test       B   \n",
       "3  25CE0629AC6B6971       A  recommender_system_test       B   \n",
       "4  44EB15AD423DC31C       A  recommender_system_test       B   \n",
       "\n",
       "           ab_test_y  \n",
       "0  interface_eu_test  \n",
       "1  interface_eu_test  \n",
       "2  interface_eu_test  \n",
       "3  interface_eu_test  \n",
       "4  interface_eu_test  "
      ]
     },
     "execution_count": 30,
     "metadata": {},
     "output_type": "execute_result"
    }
   ],
   "source": [
    "participants_a = participants[participants['group']=='A']\n",
    "participants_b = participants[participants['group']=='B']\n",
    "participants_ab = participants_a.merge(participants_b, how='inner', on='user_id')\n",
    "participants_ab.head()"
   ]
  },
  {
   "cell_type": "code",
   "execution_count": 31,
   "metadata": {},
   "outputs": [],
   "source": [
    "#Количество уникальных пользователей \n",
    "#num_users_a = participants[participants['group'] == 'A']['user_id'].nunique()\n",
    "#num_users_b = participants[participants['group'] == 'B']['user_id'].nunique()\n",
    "#participants_ab = participants_a.merge(participants_b, how='inner', on='user_id')\n",
    "\n",
    "#print(\"Количество уникальных пользователей в группе A:\", num_users_a)\n",
    "#print(\"Количество уникальных пользователей в группе B:\", num_users_b)\n",
    "#print(\"Количество пользователей всего:\", num_users_a + num_users_b) \n",
    "#print(\"Количество пользователей в а и б:\", len(participants_ab))"
   ]
  },
  {
   "cell_type": "markdown",
   "metadata": {},
   "source": [
    "Из 16666 пользователей, 776 попали в 2 группы конкурирующих тестов. Это может указывать на ошибку при разделении на группы или на то, что пользователи входили с разных устройств"
   ]
  },
  {
   "cell_type": "markdown",
   "metadata": {},
   "source": [
    "<div class=\"alert alert-danger\">\n",
    "<b>Комментарий ревьюера:</b>☁️\n",
    "\n",
    "Тут проверка ведь по пользователям обоих тестов, а не только по нашему тесту\n",
    "</div>"
   ]
  },
  {
   "cell_type": "markdown",
   "metadata": {},
   "source": [
    "<div class=\"alert alert-info\"> <b></b> исправил </div>"
   ]
  },
  {
   "cell_type": "markdown",
   "metadata": {},
   "source": [
    "<div class=\"alert alert-info\"> <b></b> у меня вопрос, как заккоментировать блок кода, что бы на каждой строчке не ставить # </div>"
   ]
  },
  {
   "cell_type": "markdown",
   "metadata": {},
   "source": [
    "<div class=\"alert alert-success\">\n",
    "<b>Комментарий ревьюера v2:</b>☀️\n",
    "   \n",
    "Сначала выделить всё или блок, например через `ctrl` + `A`, затем `ctrl` + `.`\n",
    "\n",
    "</div>"
   ]
  },
  {
   "cell_type": "code",
   "execution_count": 32,
   "metadata": {},
   "outputs": [
    {
     "name": "stdout",
     "output_type": "stream",
     "text": [
      "Количество уникальных пользователей в группе A: 3824\n",
      "Количество уникальных пользователей в группе B: 2877\n",
      "Количество пользователей всего: 6701\n"
     ]
    }
   ],
   "source": [
    "# Получаем список пользователей, участвующих в тесте \n",
    "test_users = participants[participants['ab_test'] == 'recommender_system_test']\n",
    "\n",
    "# Подсчитываем количество уникальных пользователей для каждой группы\n",
    "num_users_a = test_users[test_users['group'] == 'A']['user_id'].nunique()\n",
    "num_users_b = test_users[test_users['group'] == 'B']['user_id'].nunique()\n",
    "\n",
    "print(\"Количество уникальных пользователей в группе A:\", num_users_a)\n",
    "print(\"Количество уникальных пользователей в группе B:\", num_users_b)\n",
    "print(\"Количество пользователей всего:\", num_users_a + num_users_b)"
   ]
  },
  {
   "cell_type": "code",
   "execution_count": 33,
   "metadata": {},
   "outputs": [
    {
     "data": {
      "text/html": [
       "<div>\n",
       "<style scoped>\n",
       "    .dataframe tbody tr th:only-of-type {\n",
       "        vertical-align: middle;\n",
       "    }\n",
       "\n",
       "    .dataframe tbody tr th {\n",
       "        vertical-align: top;\n",
       "    }\n",
       "\n",
       "    .dataframe thead th {\n",
       "        text-align: right;\n",
       "    }\n",
       "</style>\n",
       "<table border=\"1\" class=\"dataframe\">\n",
       "  <thead>\n",
       "    <tr style=\"text-align: right;\">\n",
       "      <th></th>\n",
       "      <th>group</th>\n",
       "      <th>user_id</th>\n",
       "    </tr>\n",
       "  </thead>\n",
       "  <tbody>\n",
       "    <tr>\n",
       "      <th>0</th>\n",
       "      <td>A</td>\n",
       "      <td>3824</td>\n",
       "    </tr>\n",
       "    <tr>\n",
       "      <th>1</th>\n",
       "      <td>B</td>\n",
       "      <td>2877</td>\n",
       "    </tr>\n",
       "  </tbody>\n",
       "</table>\n",
       "</div>"
      ],
      "text/plain": [
       "  group  user_id\n",
       "0     A     3824\n",
       "1     B     2877"
      ]
     },
     "execution_count": 33,
     "metadata": {},
     "output_type": "execute_result"
    }
   ],
   "source": [
    "events_all_users = test_users.merge(final_ab_events, how = 'left', on = 'user_id')\n",
    "events_all_users.groupby('group',as_index=False).agg({'user_id':'nunique'})"
   ]
  },
  {
   "cell_type": "code",
   "execution_count": 34,
   "metadata": {},
   "outputs": [
    {
     "data": {
      "text/html": [
       "<div>\n",
       "<style scoped>\n",
       "    .dataframe tbody tr th:only-of-type {\n",
       "        vertical-align: middle;\n",
       "    }\n",
       "\n",
       "    .dataframe tbody tr th {\n",
       "        vertical-align: top;\n",
       "    }\n",
       "\n",
       "    .dataframe thead th {\n",
       "        text-align: right;\n",
       "    }\n",
       "</style>\n",
       "<table border=\"1\" class=\"dataframe\">\n",
       "  <thead>\n",
       "    <tr style=\"text-align: right;\">\n",
       "      <th></th>\n",
       "      <th>user_id</th>\n",
       "      <th>group</th>\n",
       "      <th>ab_test</th>\n",
       "      <th>event_dt</th>\n",
       "      <th>event_name</th>\n",
       "      <th>details</th>\n",
       "      <th>date</th>\n",
       "      <th>first_date</th>\n",
       "    </tr>\n",
       "  </thead>\n",
       "  <tbody>\n",
       "    <tr>\n",
       "      <th>0</th>\n",
       "      <td>D1ABA3E2887B6A73</td>\n",
       "      <td>A</td>\n",
       "      <td>recommender_system_test</td>\n",
       "      <td>2020-12-07 14:43:27</td>\n",
       "      <td>purchase</td>\n",
       "      <td>99.99</td>\n",
       "      <td>2020-12-07</td>\n",
       "      <td>2020-12-07</td>\n",
       "    </tr>\n",
       "    <tr>\n",
       "      <th>1</th>\n",
       "      <td>D1ABA3E2887B6A73</td>\n",
       "      <td>A</td>\n",
       "      <td>recommender_system_test</td>\n",
       "      <td>2020-12-25 00:04:56</td>\n",
       "      <td>purchase</td>\n",
       "      <td>4.99</td>\n",
       "      <td>2020-12-25</td>\n",
       "      <td>2020-12-07</td>\n",
       "    </tr>\n",
       "    <tr>\n",
       "      <th>2</th>\n",
       "      <td>D1ABA3E2887B6A73</td>\n",
       "      <td>A</td>\n",
       "      <td>recommender_system_test</td>\n",
       "      <td>2020-12-07 14:43:29</td>\n",
       "      <td>product_cart</td>\n",
       "      <td>0.00</td>\n",
       "      <td>2020-12-07</td>\n",
       "      <td>2020-12-07</td>\n",
       "    </tr>\n",
       "    <tr>\n",
       "      <th>3</th>\n",
       "      <td>D1ABA3E2887B6A73</td>\n",
       "      <td>A</td>\n",
       "      <td>recommender_system_test</td>\n",
       "      <td>2020-12-25 00:04:57</td>\n",
       "      <td>product_cart</td>\n",
       "      <td>0.00</td>\n",
       "      <td>2020-12-25</td>\n",
       "      <td>2020-12-07</td>\n",
       "    </tr>\n",
       "    <tr>\n",
       "      <th>4</th>\n",
       "      <td>D1ABA3E2887B6A73</td>\n",
       "      <td>A</td>\n",
       "      <td>recommender_system_test</td>\n",
       "      <td>2020-12-07 14:43:27</td>\n",
       "      <td>product_page</td>\n",
       "      <td>0.00</td>\n",
       "      <td>2020-12-07</td>\n",
       "      <td>2020-12-07</td>\n",
       "    </tr>\n",
       "  </tbody>\n",
       "</table>\n",
       "</div>"
      ],
      "text/plain": [
       "            user_id group                  ab_test            event_dt  \\\n",
       "0  D1ABA3E2887B6A73     A  recommender_system_test 2020-12-07 14:43:27   \n",
       "1  D1ABA3E2887B6A73     A  recommender_system_test 2020-12-25 00:04:56   \n",
       "2  D1ABA3E2887B6A73     A  recommender_system_test 2020-12-07 14:43:29   \n",
       "3  D1ABA3E2887B6A73     A  recommender_system_test 2020-12-25 00:04:57   \n",
       "4  D1ABA3E2887B6A73     A  recommender_system_test 2020-12-07 14:43:27   \n",
       "\n",
       "     event_name  details        date first_date  \n",
       "0      purchase    99.99  2020-12-07 2020-12-07  \n",
       "1      purchase     4.99  2020-12-25 2020-12-07  \n",
       "2  product_cart     0.00  2020-12-07 2020-12-07  \n",
       "3  product_cart     0.00  2020-12-25 2020-12-07  \n",
       "4  product_page     0.00  2020-12-07 2020-12-07  "
      ]
     },
     "metadata": {},
     "output_type": "display_data"
    }
   ],
   "source": [
    "events_all_users = events_all_users.merge(new_users[['user_id', 'first_date']], on='user_id', how='left')\n",
    "display(events_all_users.head())"
   ]
  },
  {
   "cell_type": "markdown",
   "metadata": {},
   "source": [
    "## Проверка актуальности события по региону - Европа\n"
   ]
  },
  {
   "cell_type": "code",
   "execution_count": 35,
   "metadata": {},
   "outputs": [
    {
     "name": "stdout",
     "output_type": "stream",
     "text": [
      "процент новых пользователей из EU равен 15%\n"
     ]
    }
   ],
   "source": [
    "users_EU = (events_all_users\n",
    "            .merge(new_users[['user_id','region']], on = 'user_id', how = \"left\")\n",
    "            .query('region == \"EU\"')['user_id'].nunique())\n",
    "new_users_EU = new_users.query('region == \"EU\" and first_date <= \"2020-12-21\"')['user_id'].nunique()\n",
    "print('процент новых пользователей из EU равен {:.0%}'.format(users_EU/new_users_EU))\n"
   ]
  },
  {
   "cell_type": "markdown",
   "metadata": {},
   "source": [
    "Ожидаемое количество участников теста: 15% новых пользователей из\n",
    "региона EU. Ожидания подтвердились"
   ]
  },
  {
   "cell_type": "code",
   "execution_count": 36,
   "metadata": {},
   "outputs": [
    {
     "data": {
      "text/plain": [
       "31775"
      ]
     },
     "execution_count": 36,
     "metadata": {},
     "output_type": "execute_result"
    }
   ],
   "source": [
    "new_users_EU = new_users.query('region == \"EU\" and first_date <= \"2020-12-21\"')['user_id'].nunique()\n",
    "new_users_EU"
   ]
  },
  {
   "cell_type": "markdown",
   "metadata": {},
   "source": [
    "всего 42340 уникальных пользователей из европы"
   ]
  },
  {
   "cell_type": "code",
   "execution_count": 37,
   "metadata": {},
   "outputs": [
    {
     "name": "stdout",
     "output_type": "stream",
     "text": [
      "Количество зарегистрированных пользователей, которые не прошли авторизацию: 2318\n"
     ]
    }
   ],
   "source": [
    "# Проверяем, все ли зарегистрированные пользователи прошли авторизацию\n",
    "users_with_auth = final_ab_events[final_ab_events['event_name'] == 'login']['user_id'].unique()\n",
    "registered_users = new_users['user_id'].unique()\n",
    "non_auth_users = set(registered_users) - set(users_with_auth)\n",
    "print(f\"Количество зарегистрированных пользователей, которые не прошли авторизацию: {len(non_auth_users)}\")\n"
   ]
  },
  {
   "cell_type": "markdown",
   "metadata": {},
   "source": [
    "регистрацию не прошло 7.17% пользователей это может быть связанно с недостаточной мотивацией для создания аккаунта "
   ]
  },
  {
   "cell_type": "code",
   "execution_count": 38,
   "metadata": {},
   "outputs": [
    {
     "name": "stdout",
     "output_type": "stream",
     "text": [
      "Количество авторизованных пользователей, которые не совершали переход по продуктовой воронке: 0\n"
     ]
    }
   ],
   "source": [
    "# Проверяем, все ли авторизованные пользователи совершали переход по продуктовой воронке\n",
    "users_with_events = final_ab_events['user_id'].unique()\n",
    "non_active_users = set(users_with_auth) - set(users_with_events)\n",
    "print(f\"Количество авторизованных пользователей, которые не совершали переход по продуктовой воронке: {len(non_active_users)}\")\n",
    "\n"
   ]
  },
  {
   "cell_type": "code",
   "execution_count": 39,
   "metadata": {},
   "outputs": [
    {
     "name": "stdout",
     "output_type": "stream",
     "text": [
      "Количество зарегистрированных пользователей, которые не прошли авторизацию: 2318\n"
     ]
    }
   ],
   "source": [
    "auth_users = final_ab_events[final_ab_events['event_name'] == 'login']['user_id'].unique()\n",
    "reg_users = new_users['user_id'].unique()\n",
    "non_auth_users = set(reg_users) - set(auth_users)\n",
    "\n",
    "print(f\"Количество зарегистрированных пользователей, которые не прошли авторизацию: {len(non_auth_users)}\")\n"
   ]
  },
  {
   "cell_type": "markdown",
   "metadata": {},
   "source": [
    "<div class=\"alert alert-success\">\n",
    "<b>Комментарий ревьюера:</b>☀️\n",
    "    \n",
    "Рекомендовал бы добавить рассмотрение пользователей неактивных, а точнее их динамику набора по группам, там есть удивительные аномалии</div>\n"
   ]
  },
  {
   "cell_type": "code",
   "execution_count": 40,
   "metadata": {},
   "outputs": [
    {
     "name": "stdout",
     "output_type": "stream",
     "text": [
      "Количество зарегистрированных пользователей, которые не совершали событий после регистрации: 2313\n"
     ]
    }
   ],
   "source": [
    "# Проверяем, есть ли пользователи, которые не совершали событий после регистрации\n",
    "non_active_users = set(reg_users) - set(final_ab_events['user_id'].unique())\n",
    "\n",
    "print(f\"Количество зарегистрированных пользователей, которые не совершали событий после регистрации: {len(non_active_users)}\")\n"
   ]
  },
  {
   "cell_type": "code",
   "execution_count": 41,
   "metadata": {},
   "outputs": [
    {
     "name": "stdout",
     "output_type": "stream",
     "text": [
      "Распределение неактивных пользователей между группами теста:\n",
      "B    1490\n",
      "A     821\n",
      "Name: group, dtype: int64\n"
     ]
    }
   ],
   "source": [
    "non_active_users_df = participants[participants['user_id'].isin(non_active_users)]\n",
    "non_active_users_groups = non_active_users_df['group'].value_counts()\n",
    "\n",
    "print(\"Распределение неактивных пользователей между группами теста:\")\n",
    "print(non_active_users_groups)\n"
   ]
  },
  {
   "cell_type": "code",
   "execution_count": 42,
   "metadata": {},
   "outputs": [
    {
     "name": "stdout",
     "output_type": "stream",
     "text": [
      "Неактивные пользователи могут искажать результаты теста. Рекомендуется исключить их из анализа.\n"
     ]
    }
   ],
   "source": [
    "#вывод о необходимости учитывать пользователей без событий при изучении результатов теста\n",
    "if len(non_active_users) > 0:\n",
    "    print(\"Неактивные пользователи могут искажать результаты теста. Рекомендуется исключить их из анализа.\")\n",
    "else:\n",
    "    print(\"Все зарегистрированные пользователи совершали события после регистрации. Можно продолжить анализ.\")"
   ]
  },
  {
   "cell_type": "code",
   "execution_count": 43,
   "metadata": {},
   "outputs": [],
   "source": [
    "non_active_users_ids = non_active_users_df['user_id'].unique()\n",
    "active_users_df = merged_df[~merged_df['user_id'].isin(non_active_users_ids)]\n"
   ]
  },
  {
   "cell_type": "code",
   "execution_count": 44,
   "metadata": {},
   "outputs": [
    {
     "name": "stdout",
     "output_type": "stream",
     "text": [
      "Количество пользователей, которые не имели возможности совершать события все 14 дней: 1474\n"
     ]
    }
   ],
   "source": [
    "# лайфтайм совершения события пользователем после регистрации\n",
    "merged_df['lifetime'] = (merged_df['event_dt'] - merged_df['first_date']).dt.days\n",
    "\n",
    "# Оставляем только те события, которые были совершены в первые 14 дней с момента регистрации\n",
    "merged_df = merged_df[merged_df['lifetime'] <= 14]\n",
    "\n",
    "# Проверяем что все участники теста имели возможность совершать события все 14 дней с момента регистрации\n",
    "test_end_date = merged_df['event_dt'].max()\n",
    "merged_df['test_duration'] = (test_end_date - merged_df['first_date']).dt.days\n",
    "insufficient_duration_users = merged_df[merged_df['test_duration'] < 14]['user_id'].unique()\n",
    "\n",
    "print(f\"Количество пользователей, которые не имели возможности совершать события все 14 дней: {len(insufficient_duration_users)}\")"
   ]
  },
  {
   "cell_type": "code",
   "execution_count": 45,
   "metadata": {},
   "outputs": [
    {
     "name": "stdout",
     "output_type": "stream",
     "text": [
      "Тест не соответствует требованиям технического задания, так как некоторые пользователи не имели возможности совершать события все 14 дней.\n"
     ]
    }
   ],
   "source": [
    "# Оцениваем, когда пользователи совершают свои первые события каждого вида\n",
    "first_events = merged_df.groupby(['user_id', 'event_name'])['event_dt'].min().reset_index()\n",
    "# Представляем развернутый вывод о соответствии теста требованиям технического задания\n",
    "if len(insufficient_duration_users) > 0:\n",
    "    print(\"Тест не соответствует требованиям технического задания, так как некоторые пользователи не имели возможности совершать события все 14 дней.\")\n",
    "else:\n",
    "    print(\"Тест соответствует требованиям технического задания.\")"
   ]
  },
  {
   "cell_type": "code",
   "execution_count": null,
   "metadata": {},
   "outputs": [],
   "source": []
  },
  {
   "cell_type": "code",
   "execution_count": 46,
   "metadata": {},
   "outputs": [
    {
     "name": "stdout",
     "output_type": "stream",
     "text": [
      "Получение достоверных результатов АБ-теста может быть затруднено, так как базовый показатель конверсии меньше 50%.\n"
     ]
    }
   ],
   "source": [
    "# Оцениваем возможность получения достоверных результатов АБ-теста\n",
    "conversion_rate = merged_df[merged_df['event_name'] == 'purchase']['user_id'].nunique() / merged_df['user_id'].nunique()\n",
    "\n",
    "if conversion_rate >= 0.5:\n",
    "    print(\"Возможно получение достоверных результатов АБ-теста, так как базовый показатель конверсии составляет 50% или более.\")\n",
    "else:\n",
    "    print(\"Получение достоверных результатов АБ-теста может быть затруднено, так как базовый показатель конверсии меньше 50%.\")"
   ]
  },
  {
   "cell_type": "code",
   "execution_count": 47,
   "metadata": {},
   "outputs": [
    {
     "name": "stdout",
     "output_type": "stream",
     "text": [
      "0.3048780487804878\n"
     ]
    }
   ],
   "source": [
    "print(conversion_rate)"
   ]
  },
  {
   "cell_type": "code",
   "execution_count": 48,
   "metadata": {},
   "outputs": [
    {
     "data": {
      "image/png": "[encoded data removed]",
      "text/plain": [
       "<Figure size 432x288 with 1 Axes>"
      ]
     },
     "metadata": {
      "needs_background": "light"
     },
     "output_type": "display_data"
    },
    {
     "name": "stdout",
     "output_type": "stream",
     "text": [
      "Среднее количество событий на пользователя в группе A: 6.944764649375601\n",
      "Среднее количество событий на пользователя в группе B: 5.481586402266289\n"
     ]
    }
   ],
   "source": [
    "# Распределение количества событий на пользователя в разрезе групп теста\n",
    "group_a_events = merged_df[merged_df['group'] == 'A']['user_id'].value_counts()\n",
    "group_b_events = merged_df[merged_df['group'] == 'B']['user_id'].value_counts()\n",
    "\n",
    "plt.hist([group_a_events, group_b_events], label=['Group A', 'Group B'])\n",
    "plt.legend(loc='upper right')\n",
    "plt.show()\n",
    "\n",
    "print(f\"Среднее количество событий на пользователя в группе A: {np.mean(group_a_events)}\")\n",
    "print(f\"Среднее количество событий на пользователя в группе B: {np.mean(group_b_events)}\")"
   ]
  },
  {
   "cell_type": "markdown",
   "metadata": {},
   "source": [
    "распределение количества событий на пользователя в группах A и B различается. В группе A среднее количество событий на пользователя составляет примерно 6.9, в то время как в группе B это значение составляет примерно 5.5."
   ]
  },
  {
   "cell_type": "code",
   "execution_count": null,
   "metadata": {},
   "outputs": [],
   "source": []
  },
  {
   "cell_type": "markdown",
   "metadata": {},
   "source": [
    "Из графика видно, что динамика количества событий в группах A и B различается. В группе A количество событий остается стабильным на протяжении всего периода. В то же время в группе B наблюдается резкий всплеск активности 22 декабря, после которого активность снижается до уровня группы A."
   ]
  },
  {
   "cell_type": "code",
   "execution_count": 49,
   "metadata": {},
   "outputs": [
    {
     "name": "stdout",
     "output_type": "stream",
     "text": [
      "События, пересекающиеся с тестом:\n",
      "                       name        regions   start_dt  finish_dt\n",
      "0  Christmas&New Year Promo  EU, N.America 2020-12-25 2021-01-03\n"
     ]
    }
   ],
   "source": [
    "# Преобразование столбцов 'start_dt' и 'finish_dt' в тип данных 'datetime'\n",
    "marketing_events['start_dt'] = pd.to_datetime(marketing_events['start_dt'])\n",
    "marketing_events['finish_dt'] = pd.to_datetime(marketing_events['finish_dt'])\n",
    "# Проверка пересечения времени проведения теста с маркетинговыми и другими активностями\n",
    "test_start_date = merged_df['event_dt'].min()\n",
    "test_end_date = merged_df['event_dt'].max()\n",
    "\n",
    "overlapping_events = marketing_events[(marketing_events['start_dt'] <= test_end_date) & (marketing_events['finish_dt'] >= test_start_date)]\n",
    "print(\"События, пересекающиеся с тестом:\")\n",
    "print(overlapping_events)\n"
   ]
  },
  {
   "cell_type": "markdown",
   "metadata": {},
   "source": [
    "<div class=\"alert alert-success\">\n",
    "<b>Комментарий ревьюера:</b>☀️\n",
    "    \n",
    "Точнейшее условие для среза событий, молодец!"
   ]
  },
  {
   "cell_type": "markdown",
   "metadata": {},
   "source": [
    "Из результатов видно, что тест пересекается с маркетинговым событием “Christmas&New Year Promo”, которое проходило с 25 декабря 2020 года по 3 января 2021 года и охватывало регионы EU и N.America"
   ]
  },
  {
   "cell_type": "code",
   "execution_count": 50,
   "metadata": {},
   "outputs": [
    {
     "name": "stdout",
     "output_type": "stream",
     "text": [
      "Продуктовая воронка для группы A:\n",
      "login           1.000000\n",
      "product_page    0.650977\n",
      "product_cart    0.306489\n",
      "purchase        0.303518\n",
      "Name: event_name, dtype: float64\n",
      "Продуктовая воронка для группы B:\n",
      "login           1.000000\n",
      "product_page    0.529537\n",
      "product_cart    0.273018\n",
      "purchase        0.257052\n",
      "Name: event_name, dtype: float64\n"
     ]
    }
   ],
   "source": [
    "# Построение продуктовой воронки для двух групп теста\n",
    "funnel_a = merged_df[merged_df['group'] == 'A']['event_name'].value_counts()\n",
    "funnel_b = merged_df[merged_df['group'] == 'B']['event_name'].value_counts()\n",
    "\n",
    "print(\"Продуктовая воронка для группы A:\")\n",
    "print(funnel_a / funnel_a[0])\n",
    "\n",
    "print(\"Продуктовая воронка для группы B:\")\n",
    "print(funnel_b / funnel_b[0])\n"
   ]
  },
  {
   "cell_type": "markdown",
   "metadata": {},
   "source": [
    " воронки продаж для групп A и B имеют различия:\n",
    "\n",
    "Для группы A:\n",
    "\n",
    "Все пользователи прошли этап login.\n",
    "Примерно 64.46% пользователей перешли на product_page.\n",
    "Из них 31.11% совершили purchase.\n",
    "29.99% пользователей добавили товар в product_cart.\n",
    "\n",
    "Для группы B:\n",
    "\n",
    "Все пользователи прошли этап login.\n",
    "Примерно 53.39% пользователей перешли на product_page.\n",
    "Из них 25.67% совершили purchase.\n",
    "26.43% пользователей добавили товар в product_cart."
   ]
  },
  {
   "cell_type": "code",
   "execution_count": 51,
   "metadata": {},
   "outputs": [
    {
     "name": "stdout",
     "output_type": "stream",
     "text": [
      "p-значение для этапа login: 0.08587401754779211\n",
      "Не получилось отвергнуть нулевую гипотезу, нет оснований считать доли разными\n",
      "--------------------------------------------------------------\n",
      "p-значение для этапа product_page: 1.5371909704686715e-05\n",
      "Отвергаем нулевую гипотезу: между долями есть значимая разница\n",
      "--------------------------------------------------------------\n",
      "p-значение для этапа product_cart: 0.1766337419130104\n",
      "Не получилось отвергнуть нулевую гипотезу, нет оснований считать доли разными\n",
      "--------------------------------------------------------------\n",
      "p-значение для этапа purchase: 0.10281767567786759\n",
      "Не получилось отвергнуть нулевую гипотезу, нет оснований считать доли разными\n",
      "--------------------------------------------------------------\n"
     ]
    }
   ],
   "source": [
    "# Список событий в воронке\n",
    "events = ['login', 'product_page', 'product_cart', 'purchase']\n",
    "\n",
    "# Для каждого события\n",
    "for event in events:\n",
    "    # Вычисляем количество успехов для каждой группы\n",
    "    successes_a = merged_df[(merged_df['group'] == 'A') & (merged_df['event_name'] == event)]['user_id'].nunique()\n",
    "    successes_b = merged_df[(merged_df['group'] == 'B') & (merged_df['event_name'] == event)]['user_id'].nunique()\n",
    "\n",
    "    # Вычисляем количество попыток для каждой группы\n",
    "    trials_a = merged_df[merged_df['group'] == 'A']['user_id'].nunique()\n",
    "    trials_b = merged_df[merged_df['group'] == 'B']['user_id'].nunique()\n",
    "\n",
    "    # Вычисляем пропорции успехов\n",
    "    p_a = successes_a / trials_a\n",
    "    p_b = successes_b / trials_b\n",
    "    p_combined = (successes_a + successes_b) / (trials_a + trials_b)\n",
    "    difference = p_b - p_a\n",
    "\n",
    "    z_value = difference / np.sqrt(p_combined * (1 - p_combined) * (1/trials_a + 1/trials_b))\n",
    "\n",
    "    distr = stats.norm(0, 1) \n",
    "\n",
    "    p_value = (1 - distr.cdf(abs(z_value))) * 2\n",
    "\n",
    "    print(f\"p-значение для этапа {event}: {p_value}\")\n",
    "\n",
    "    if p_value < 0.05:\n",
    "        print(\"Отвергаем нулевую гипотезу: между долями есть значимая разница\")\n",
    "        print(\"--------------------------------------------------------------\")\n",
    "\n",
    "    else:\n",
    "        \n",
    "        print(\"Не получилось отвергнуть нулевую гипотезу, нет оснований считать доли разными\")\n",
    "        print(\"--------------------------------------------------------------\")\n"
   ]
  },
  {
   "cell_type": "markdown",
   "metadata": {},
   "source": [
    "<div class=\"alert alert-danger\">\n",
    "<b>Комментарий ревьюера:</b>☁️\n",
    "\n",
    "Ожидалась проверка конверсий в каждый этап + прошу не забыть о множественном сравнении\n",
    "</div>"
   ]
  },
  {
   "cell_type": "markdown",
   "metadata": {},
   "source": [
    "<div class=\"alert alert-info\"> <b></b> исправил </div>"
   ]
  },
  {
   "cell_type": "markdown",
   "metadata": {},
   "source": [
    "<div class=\"alert alert-warning\">\n",
    "<b>Комментарий ревьюера v2:</b>⛅️ \n",
    "\n",
    "Из-за поправки множественного сравнения ожидалось чуть изменённый `alpha`, а так отлично, желаю лёгкости с заключительным проектом!\n",
    "</div>"
   ]
  },
  {
   "cell_type": "markdown",
   "metadata": {},
   "source": [
    "## вывод"
   ]
  },
  {
   "cell_type": "markdown",
   "metadata": {},
   "source": [
    "Тест был запущен 7 декабря 2020 года и остановлен 4 января 2021 года, что соответствует техническому заданию.\n",
    "\n",
    "Тест включал в себя 15% новых пользователей из региона EU, что также соответствует техническому заданию.\n",
    "\n",
    "Тест пересекался с маркетинговым событием “Christmas&New Year Promo”, которое могло повлиять на поведение пользователей и их склонность к покупкам.\n",
    "Все зарегистрированные пользователи прошли авторизацию и совершали переход по продуктовой воронке.\n",
    "\n",
    "Не было пользователей, которые не совершали событий после регистрации.\n",
    "\n",
    "Все участники теста имели возможность совершать события все 14 дней с момента регистрации.\n",
    "\n",
    "Распределение количества событий на пользователя в группах A и B различалось. В группе A среднее количество событий на пользователя составляло примерно 6.9, в то время как в группе B это значение составляло примерно 5.5\n",
    "\n",
    "Динамика количества событий в группах A и B также различалась. В группе A количество событий оставалось стабильным на протяжении всего периода. В то же время в группе B наблюдался резкий всплеск активности 22 декабря, после которого активность снижалась до уровня группы A.\n",
    "\n",
    "Продуктовые воронки для групп A и B имели различия. Для группы A конверсия в просмотр карточек товаров составляла 64.46%, в просмотр корзины - 29.99%, в покупку - 31.11%. Для группы B эти показатели составляли 53.39%, 26.43% и 25.67%\n",
    "\n",
    "p-значение для этапа login: 0.085\n",
    "Не получилось отвергнуть нулевую гипотезу, нет оснований считать доли разными\n",
    "\n",
    "p-значение для этапа product_page: 4.31\n",
    "Отвергаем нулевую гипотезу: между долями есть значимая разница\n",
    "\n",
    "p-значение для этапа product_cart: 0.14\n",
    "Не получилось отвергнуть нулевую гипотезу, нет оснований считать доли разными\n",
    "\n",
    "p-значение для этапа purchase: 0.01\n",
    "Отвергаем нулевую гипотезу: между долями есть значимая разница\n",
    "\n",
    "Тест не показал ожидаемого эффекта увеличения конверсии в группе B, относительно группы A. Наоборот, группа B показала худшие результаты на всех этапах воронки, чем группа A. Это может быть связано с тем, что новая рекомендательная система не работает эффективно или не подходит целевой аудитории. Также возможно, что тест был искажен влиянием маркетингового события или ошибкой при разделении на группы.\n",
    "\n",
    "**Тест нельзя считать достоверным потому что показатель конверсии был 30%**"
   ]
  },
  {
   "cell_type": "markdown",
   "metadata": {},
   "source": [
    "<div class=\"alert alert-success\">\n",
    "<b>Комментарий ревьюера:</b>☀️\n",
    "    \n",
    "Абсолютно верно, что имеется ряд вопросов к условиям проведения теста, но всё же прошу обработать внесённые мной критические замечания!</div>\n"
   ]
  },
  {
   "cell_type": "markdown",
   "metadata": {},
   "source": [
    "Рекомендации для проведения других тестов\n",
    "\n",
    "Провести тест в период, когда нет маркетинговых событий, которые могут повысить или понизить спрос на товары.\n",
    "\n",
    "Проверить работоспособность и качество новой рекомендательной системы и ее соответствие потребностям и предпочтениям пользователей.\n",
    "\n",
    "Провести дополнительный анализ по другим метрикам, таким как средний чек, количество товаров в корзине, время на сайте."
   ]
  }
 ],
 "metadata": {
  "ExecuteTimeLog": [
   {
    "duration": 431,
    "start_time": "2023-11-02T10:36:19.611Z"
   },
   {
    "duration": 63,
    "start_time": "2023-11-02T10:36:20.421Z"
   },
   {
    "duration": 3,
    "start_time": "2023-11-02T10:38:39.993Z"
   },
   {
    "duration": 91,
    "start_time": "2023-11-02T10:38:40.635Z"
   },
   {
    "duration": 47,
    "start_time": "2023-11-02T10:38:48.091Z"
   },
   {
    "duration": 14,
    "start_time": "2023-11-02T10:39:00.179Z"
   },
   {
    "duration": 9,
    "start_time": "2023-11-02T10:45:30.789Z"
   },
   {
    "duration": 1192,
    "start_time": "2023-11-02T10:45:35.870Z"
   },
   {
    "duration": 8,
    "start_time": "2023-11-02T10:45:38.531Z"
   },
   {
    "duration": 373,
    "start_time": "2023-11-02T10:46:16.861Z"
   },
   {
    "duration": 1508,
    "start_time": "2023-11-02T10:46:17.236Z"
   },
   {
    "duration": 15,
    "start_time": "2023-11-02T10:46:18.746Z"
   },
   {
    "duration": 17,
    "start_time": "2023-11-02T10:46:18.762Z"
   },
   {
    "duration": 56,
    "start_time": "2023-11-02T10:46:18.782Z"
   },
   {
    "duration": 22,
    "start_time": "2023-11-02T10:46:18.840Z"
   },
   {
    "duration": 67,
    "start_time": "2023-11-02T11:21:54.551Z"
   },
   {
    "duration": 375,
    "start_time": "2023-11-02T11:22:04.071Z"
   },
   {
    "duration": 1355,
    "start_time": "2023-11-02T11:22:04.448Z"
   },
   {
    "duration": 19,
    "start_time": "2023-11-02T11:22:05.805Z"
   },
   {
    "duration": 44,
    "start_time": "2023-11-02T11:22:05.827Z"
   },
   {
    "duration": 29,
    "start_time": "2023-11-02T11:22:05.874Z"
   },
   {
    "duration": 24,
    "start_time": "2023-11-02T11:22:05.906Z"
   },
   {
    "duration": 115,
    "start_time": "2023-11-02T11:22:05.933Z"
   },
   {
    "duration": 9,
    "start_time": "2023-11-02T11:22:24.294Z"
   },
   {
    "duration": 389,
    "start_time": "2023-11-02T11:33:32.755Z"
   },
   {
    "duration": 1299,
    "start_time": "2023-11-02T11:33:33.146Z"
   },
   {
    "duration": 17,
    "start_time": "2023-11-02T11:33:34.447Z"
   },
   {
    "duration": 35,
    "start_time": "2023-11-02T11:33:34.466Z"
   },
   {
    "duration": 11,
    "start_time": "2023-11-02T11:33:34.504Z"
   },
   {
    "duration": 23,
    "start_time": "2023-11-02T11:33:34.517Z"
   },
   {
    "duration": 59,
    "start_time": "2023-11-02T11:33:34.541Z"
   },
   {
    "duration": 32,
    "start_time": "2023-11-02T11:33:34.602Z"
   },
   {
    "duration": 550,
    "start_time": "2023-11-02T11:33:34.635Z"
   },
   {
    "duration": 423,
    "start_time": "2023-11-02T11:35:04.867Z"
   },
   {
    "duration": 1264,
    "start_time": "2023-11-02T11:35:05.292Z"
   },
   {
    "duration": 15,
    "start_time": "2023-11-02T11:35:06.557Z"
   },
   {
    "duration": 166,
    "start_time": "2023-11-02T11:35:06.573Z"
   },
   {
    "duration": 218,
    "start_time": "2023-11-02T11:35:06.741Z"
   },
   {
    "duration": 579,
    "start_time": "2023-11-02T11:35:06.961Z"
   },
   {
    "duration": 195,
    "start_time": "2023-11-02T11:35:07.542Z"
   },
   {
    "duration": 112,
    "start_time": "2023-11-02T11:35:07.739Z"
   },
   {
    "duration": 708,
    "start_time": "2023-11-02T11:35:07.853Z"
   },
   {
    "duration": 5,
    "start_time": "2023-11-02T11:35:32.332Z"
   },
   {
    "duration": 674,
    "start_time": "2023-11-02T11:35:33.062Z"
   },
   {
    "duration": 4,
    "start_time": "2023-11-02T11:36:25.281Z"
   },
   {
    "duration": 845,
    "start_time": "2023-11-02T11:36:26.282Z"
   },
   {
    "duration": 5,
    "start_time": "2023-11-02T11:37:01.673Z"
   },
   {
    "duration": 780,
    "start_time": "2023-11-02T11:37:02.271Z"
   },
   {
    "duration": 48,
    "start_time": "2023-11-02T19:30:35.991Z"
   },
   {
    "duration": 389,
    "start_time": "2023-11-02T19:30:42.867Z"
   },
   {
    "duration": 1314,
    "start_time": "2023-11-02T19:30:43.258Z"
   },
   {
    "duration": 19,
    "start_time": "2023-11-02T19:30:44.574Z"
   },
   {
    "duration": 33,
    "start_time": "2023-11-02T19:30:44.595Z"
   },
   {
    "duration": 19,
    "start_time": "2023-11-02T19:30:44.629Z"
   },
   {
    "duration": 9,
    "start_time": "2023-11-02T19:30:44.649Z"
   },
   {
    "duration": 11,
    "start_time": "2023-11-02T19:30:44.660Z"
   },
   {
    "duration": 8,
    "start_time": "2023-11-02T19:30:44.672Z"
   },
   {
    "duration": 5,
    "start_time": "2023-11-02T19:30:44.682Z"
   },
   {
    "duration": 19,
    "start_time": "2023-11-02T19:30:44.689Z"
   },
   {
    "duration": 15,
    "start_time": "2023-11-02T19:30:44.710Z"
   },
   {
    "duration": 92,
    "start_time": "2023-11-02T19:54:14.485Z"
   },
   {
    "duration": 101,
    "start_time": "2023-11-02T19:55:09.601Z"
   },
   {
    "duration": 44,
    "start_time": "2023-11-03T09:03:55.414Z"
   },
   {
    "duration": 385,
    "start_time": "2023-11-03T09:04:12.756Z"
   },
   {
    "duration": 2441,
    "start_time": "2023-11-03T09:04:13.143Z"
   },
   {
    "duration": 15,
    "start_time": "2023-11-03T09:04:15.587Z"
   },
   {
    "duration": 33,
    "start_time": "2023-11-03T09:04:15.604Z"
   },
   {
    "duration": 31,
    "start_time": "2023-11-03T09:04:15.638Z"
   },
   {
    "duration": 18,
    "start_time": "2023-11-03T09:04:15.670Z"
   },
   {
    "duration": 26,
    "start_time": "2023-11-03T09:04:15.690Z"
   },
   {
    "duration": 11,
    "start_time": "2023-11-03T09:04:15.718Z"
   },
   {
    "duration": 38,
    "start_time": "2023-11-03T09:04:15.731Z"
   },
   {
    "duration": 111,
    "start_time": "2023-11-03T09:04:15.771Z"
   },
   {
    "duration": 4,
    "start_time": "2023-11-03T09:04:15.884Z"
   },
   {
    "duration": 41,
    "start_time": "2023-11-03T09:04:15.890Z"
   },
   {
    "duration": 135,
    "start_time": "2023-11-03T09:11:39.217Z"
   },
   {
    "duration": 35,
    "start_time": "2023-11-03T09:11:40.031Z"
   },
   {
    "duration": 11,
    "start_time": "2023-11-03T09:11:59.448Z"
   },
   {
    "duration": 179,
    "start_time": "2023-11-03T09:17:43.959Z"
   },
   {
    "duration": 43,
    "start_time": "2023-11-03T09:18:22.154Z"
   },
   {
    "duration": 6,
    "start_time": "2023-11-03T09:20:34.759Z"
   },
   {
    "duration": 23,
    "start_time": "2023-11-03T11:25:43.580Z"
   },
   {
    "duration": 17,
    "start_time": "2023-11-03T11:26:32.171Z"
   },
   {
    "duration": 19,
    "start_time": "2023-11-03T11:26:47.091Z"
   },
   {
    "duration": 4,
    "start_time": "2023-11-03T11:26:48.580Z"
   },
   {
    "duration": 4,
    "start_time": "2023-11-03T11:29:59.250Z"
   },
   {
    "duration": 5,
    "start_time": "2023-11-03T11:31:05.743Z"
   },
   {
    "duration": 10,
    "start_time": "2023-11-03T11:32:30.997Z"
   },
   {
    "duration": 11,
    "start_time": "2023-11-03T11:33:04.015Z"
   },
   {
    "duration": 466,
    "start_time": "2023-11-03T11:34:03.204Z"
   },
   {
    "duration": 1304,
    "start_time": "2023-11-03T11:34:03.671Z"
   },
   {
    "duration": 17,
    "start_time": "2023-11-03T11:34:04.977Z"
   },
   {
    "duration": 251,
    "start_time": "2023-11-03T11:34:04.995Z"
   },
   {
    "duration": 188,
    "start_time": "2023-11-03T11:34:05.248Z"
   },
   {
    "duration": 148,
    "start_time": "2023-11-03T11:34:05.437Z"
   },
   {
    "duration": 54,
    "start_time": "2023-11-03T11:34:05.587Z"
   },
   {
    "duration": 25,
    "start_time": "2023-11-03T11:34:05.643Z"
   },
   {
    "duration": 33,
    "start_time": "2023-11-03T11:34:05.669Z"
   },
   {
    "duration": 458,
    "start_time": "2023-11-03T11:34:05.703Z"
   },
   {
    "duration": 32,
    "start_time": "2023-11-03T11:34:06.163Z"
   },
   {
    "duration": 360,
    "start_time": "2023-11-03T11:34:06.197Z"
   },
   {
    "duration": 379,
    "start_time": "2023-11-03T11:34:06.559Z"
   },
   {
    "duration": 16,
    "start_time": "2023-11-03T11:34:06.941Z"
   },
   {
    "duration": 510,
    "start_time": "2023-11-03T11:34:06.958Z"
   },
   {
    "duration": 76,
    "start_time": "2023-11-03T11:34:07.472Z"
   },
   {
    "duration": 86,
    "start_time": "2023-11-03T11:34:07.551Z"
   },
   {
    "duration": 356,
    "start_time": "2023-11-03T11:34:07.639Z"
   },
   {
    "duration": 378,
    "start_time": "2023-11-03T11:34:07.997Z"
   },
   {
    "duration": 53,
    "start_time": "2023-11-03T11:34:08.377Z"
   },
   {
    "duration": 109,
    "start_time": "2023-11-03T11:34:08.432Z"
   },
   {
    "duration": 41,
    "start_time": "2023-11-03T11:34:08.543Z"
   },
   {
    "duration": 63,
    "start_time": "2023-11-03T13:28:39.540Z"
   },
   {
    "duration": 9,
    "start_time": "2023-11-03T13:28:47.817Z"
   },
   {
    "duration": 13,
    "start_time": "2023-11-03T13:28:51.785Z"
   },
   {
    "duration": 1596,
    "start_time": "2023-11-03T13:28:55.733Z"
   },
   {
    "duration": 440,
    "start_time": "2023-11-03T13:29:12.247Z"
   },
   {
    "duration": 1506,
    "start_time": "2023-11-03T13:29:12.689Z"
   },
   {
    "duration": 14,
    "start_time": "2023-11-03T13:29:14.197Z"
   },
   {
    "duration": 10,
    "start_time": "2023-11-03T13:29:14.213Z"
   },
   {
    "duration": 12,
    "start_time": "2023-11-03T13:29:14.224Z"
   },
   {
    "duration": 11,
    "start_time": "2023-11-03T13:29:14.238Z"
   },
   {
    "duration": 14,
    "start_time": "2023-11-03T13:29:14.250Z"
   },
   {
    "duration": 7,
    "start_time": "2023-11-03T13:29:14.266Z"
   },
   {
    "duration": 7,
    "start_time": "2023-11-03T13:29:14.274Z"
   },
   {
    "duration": 238,
    "start_time": "2023-11-03T13:29:14.283Z"
   },
   {
    "duration": 4,
    "start_time": "2023-11-03T13:29:14.524Z"
   },
   {
    "duration": 34,
    "start_time": "2023-11-03T13:29:14.529Z"
   },
   {
    "duration": 100,
    "start_time": "2023-11-03T13:29:14.565Z"
   },
   {
    "duration": 13,
    "start_time": "2023-11-03T13:29:14.667Z"
   },
   {
    "duration": 220,
    "start_time": "2023-11-03T13:29:14.682Z"
   },
   {
    "duration": 69,
    "start_time": "2023-11-03T13:29:14.904Z"
   },
   {
    "duration": 5,
    "start_time": "2023-11-03T13:29:14.974Z"
   },
   {
    "duration": 48,
    "start_time": "2023-11-03T13:29:14.981Z"
   },
   {
    "duration": 50,
    "start_time": "2023-11-03T13:29:15.030Z"
   },
   {
    "duration": 11,
    "start_time": "2023-11-03T13:29:15.082Z"
   },
   {
    "duration": 26,
    "start_time": "2023-11-03T13:29:15.094Z"
   },
   {
    "duration": 27,
    "start_time": "2023-11-03T13:29:15.122Z"
   },
   {
    "duration": 1390,
    "start_time": "2023-11-03T13:29:15.150Z"
   },
   {
    "duration": 5,
    "start_time": "2023-11-03T13:31:12.638Z"
   },
   {
    "duration": 2080,
    "start_time": "2023-11-03T13:32:16.339Z"
   },
   {
    "duration": 9,
    "start_time": "2023-11-03T13:33:48.513Z"
   },
   {
    "duration": 87,
    "start_time": "2023-11-03T13:34:30.038Z"
   },
   {
    "duration": 843,
    "start_time": "2023-11-03T13:35:02.954Z"
   },
   {
    "duration": 1212,
    "start_time": "2023-11-03T13:35:03.801Z"
   },
   {
    "duration": 15,
    "start_time": "2023-11-03T13:35:05.014Z"
   },
   {
    "duration": 134,
    "start_time": "2023-11-03T13:35:05.030Z"
   },
   {
    "duration": 323,
    "start_time": "2023-11-03T13:35:05.166Z"
   },
   {
    "duration": 208,
    "start_time": "2023-11-03T13:35:05.491Z"
   },
   {
    "duration": 367,
    "start_time": "2023-11-03T13:35:05.701Z"
   },
   {
    "duration": 113,
    "start_time": "2023-11-03T13:35:06.070Z"
   },
   {
    "duration": 257,
    "start_time": "2023-11-03T13:35:06.184Z"
   },
   {
    "duration": 549,
    "start_time": "2023-11-03T13:35:06.445Z"
   },
   {
    "duration": 50,
    "start_time": "2023-11-03T13:35:06.996Z"
   },
   {
    "duration": 191,
    "start_time": "2023-11-03T13:35:07.048Z"
   },
   {
    "duration": 216,
    "start_time": "2023-11-03T13:35:07.241Z"
   },
   {
    "duration": 202,
    "start_time": "2023-11-03T13:35:07.458Z"
   },
   {
    "duration": 312,
    "start_time": "2023-11-03T13:35:07.662Z"
   },
   {
    "duration": 68,
    "start_time": "2023-11-03T13:35:07.977Z"
   },
   {
    "duration": 49,
    "start_time": "2023-11-03T13:35:08.047Z"
   },
   {
    "duration": 151,
    "start_time": "2023-11-03T13:35:08.097Z"
   },
   {
    "duration": 362,
    "start_time": "2023-11-03T13:35:08.250Z"
   },
   {
    "duration": 368,
    "start_time": "2023-11-03T13:35:08.614Z"
   },
   {
    "duration": 482,
    "start_time": "2023-11-03T13:35:08.983Z"
   },
   {
    "duration": 276,
    "start_time": "2023-11-03T13:35:09.467Z"
   },
   {
    "duration": 278,
    "start_time": "2023-11-03T13:35:09.744Z"
   },
   {
    "duration": 247,
    "start_time": "2023-11-03T13:35:10.024Z"
   },
   {
    "duration": 86,
    "start_time": "2023-11-03T13:39:59.498Z"
   },
   {
    "duration": 898,
    "start_time": "2023-11-03T13:40:34.274Z"
   },
   {
    "duration": 1300,
    "start_time": "2023-11-03T13:40:35.175Z"
   },
   {
    "duration": 14,
    "start_time": "2023-11-03T13:40:36.477Z"
   },
   {
    "duration": 32,
    "start_time": "2023-11-03T13:40:36.493Z"
   },
   {
    "duration": 18,
    "start_time": "2023-11-03T13:40:36.531Z"
   },
   {
    "duration": 15,
    "start_time": "2023-11-03T13:40:36.551Z"
   },
   {
    "duration": 27,
    "start_time": "2023-11-03T13:40:36.568Z"
   },
   {
    "duration": 18,
    "start_time": "2023-11-03T13:40:36.596Z"
   },
   {
    "duration": 17,
    "start_time": "2023-11-03T13:40:36.616Z"
   },
   {
    "duration": 264,
    "start_time": "2023-11-03T13:40:36.640Z"
   },
   {
    "duration": 6,
    "start_time": "2023-11-03T13:40:36.906Z"
   },
   {
    "duration": 37,
    "start_time": "2023-11-03T13:40:36.923Z"
   },
   {
    "duration": 102,
    "start_time": "2023-11-03T13:40:36.962Z"
   },
   {
    "duration": 12,
    "start_time": "2023-11-03T13:40:37.066Z"
   },
   {
    "duration": 232,
    "start_time": "2023-11-03T13:40:37.080Z"
   },
   {
    "duration": 81,
    "start_time": "2023-11-03T13:40:37.314Z"
   },
   {
    "duration": 4,
    "start_time": "2023-11-03T13:40:37.397Z"
   },
   {
    "duration": 27,
    "start_time": "2023-11-03T13:40:37.403Z"
   },
   {
    "duration": 42,
    "start_time": "2023-11-03T13:40:37.432Z"
   },
   {
    "duration": 26,
    "start_time": "2023-11-03T13:40:37.476Z"
   },
   {
    "duration": 32,
    "start_time": "2023-11-03T13:40:37.504Z"
   },
   {
    "duration": 12,
    "start_time": "2023-11-03T13:40:37.539Z"
   },
   {
    "duration": 9,
    "start_time": "2023-11-03T13:40:37.552Z"
   },
   {
    "duration": 1427,
    "start_time": "2023-11-03T13:47:42.874Z"
   },
   {
    "duration": 11,
    "start_time": "2023-11-03T13:48:00.545Z"
   },
   {
    "duration": 3,
    "start_time": "2023-11-03T13:48:07.011Z"
   },
   {
    "duration": 2089,
    "start_time": "2023-11-03T13:48:09.185Z"
   },
   {
    "duration": 2816,
    "start_time": "2023-11-03T13:48:59.739Z"
   },
   {
    "duration": 876,
    "start_time": "2023-11-03T13:49:28.110Z"
   },
   {
    "duration": 1144,
    "start_time": "2023-11-03T13:49:28.988Z"
   },
   {
    "duration": 17,
    "start_time": "2023-11-03T13:49:30.134Z"
   },
   {
    "duration": 22,
    "start_time": "2023-11-03T13:49:30.152Z"
   },
   {
    "duration": 20,
    "start_time": "2023-11-03T13:49:30.176Z"
   },
   {
    "duration": 22,
    "start_time": "2023-11-03T13:49:30.198Z"
   },
   {
    "duration": 25,
    "start_time": "2023-11-03T13:49:30.222Z"
   },
   {
    "duration": 28,
    "start_time": "2023-11-03T13:49:30.248Z"
   },
   {
    "duration": 22,
    "start_time": "2023-11-03T13:49:30.278Z"
   },
   {
    "duration": 276,
    "start_time": "2023-11-03T13:49:30.302Z"
   },
   {
    "duration": 4,
    "start_time": "2023-11-03T13:49:30.581Z"
   },
   {
    "duration": 270,
    "start_time": "2023-11-03T13:49:30.587Z"
   },
   {
    "duration": 128,
    "start_time": "2023-11-03T13:49:30.859Z"
   },
   {
    "duration": 12,
    "start_time": "2023-11-03T13:49:30.990Z"
   },
   {
    "duration": 257,
    "start_time": "2023-11-03T13:49:31.004Z"
   },
   {
    "duration": 82,
    "start_time": "2023-11-03T13:49:31.263Z"
   },
   {
    "duration": 6,
    "start_time": "2023-11-03T13:49:31.346Z"
   },
   {
    "duration": 34,
    "start_time": "2023-11-03T13:49:31.353Z"
   },
   {
    "duration": 65,
    "start_time": "2023-11-03T13:49:31.389Z"
   },
   {
    "duration": 15,
    "start_time": "2023-11-03T13:49:31.456Z"
   },
   {
    "duration": 59,
    "start_time": "2023-11-03T13:49:31.473Z"
   },
   {
    "duration": 21,
    "start_time": "2023-11-03T13:49:31.534Z"
   },
   {
    "duration": 91,
    "start_time": "2023-11-03T13:51:02.967Z"
   },
   {
    "duration": 18,
    "start_time": "2023-11-03T13:51:33.306Z"
   },
   {
    "duration": 13,
    "start_time": "2023-11-03T13:51:34.847Z"
   },
   {
    "duration": 887,
    "start_time": "2023-11-03T13:51:55.685Z"
   },
   {
    "duration": 1138,
    "start_time": "2023-11-03T13:51:56.575Z"
   },
   {
    "duration": 15,
    "start_time": "2023-11-03T13:51:57.715Z"
   },
   {
    "duration": 17,
    "start_time": "2023-11-03T13:51:57.731Z"
   },
   {
    "duration": 13,
    "start_time": "2023-11-03T13:51:57.750Z"
   },
   {
    "duration": 38,
    "start_time": "2023-11-03T13:51:57.765Z"
   },
   {
    "duration": 22,
    "start_time": "2023-11-03T13:51:57.805Z"
   },
   {
    "duration": 14,
    "start_time": "2023-11-03T13:51:57.829Z"
   },
   {
    "duration": 29,
    "start_time": "2023-11-03T13:51:57.845Z"
   },
   {
    "duration": 243,
    "start_time": "2023-11-03T13:51:57.875Z"
   },
   {
    "duration": 6,
    "start_time": "2023-11-03T13:51:58.124Z"
   },
   {
    "duration": 62,
    "start_time": "2023-11-03T13:51:58.132Z"
   },
   {
    "duration": 109,
    "start_time": "2023-11-03T13:51:58.196Z"
   },
   {
    "duration": 16,
    "start_time": "2023-11-03T13:51:58.308Z"
   },
   {
    "duration": 290,
    "start_time": "2023-11-03T13:51:58.326Z"
   },
   {
    "duration": 62,
    "start_time": "2023-11-03T13:51:58.618Z"
   },
   {
    "duration": 81,
    "start_time": "2023-11-03T13:51:58.682Z"
   },
   {
    "duration": 77,
    "start_time": "2023-11-03T13:51:58.765Z"
   },
   {
    "duration": 58,
    "start_time": "2023-11-03T13:51:58.844Z"
   },
   {
    "duration": 21,
    "start_time": "2023-11-03T13:51:58.904Z"
   },
   {
    "duration": 21,
    "start_time": "2023-11-03T13:51:58.927Z"
   },
   {
    "duration": 21,
    "start_time": "2023-11-03T13:51:58.949Z"
   },
   {
    "duration": 94,
    "start_time": "2023-11-03T13:51:58.971Z"
   },
   {
    "duration": 377,
    "start_time": "2023-11-03T13:52:57.891Z"
   },
   {
    "duration": 15,
    "start_time": "2023-11-03T13:55:47.280Z"
   },
   {
    "duration": 408,
    "start_time": "2023-11-03T13:55:51.741Z"
   },
   {
    "duration": 160,
    "start_time": "2023-11-03T13:56:39.174Z"
   },
   {
    "duration": 211,
    "start_time": "2023-11-03T13:57:22.521Z"
   },
   {
    "duration": 373,
    "start_time": "2023-11-03T13:58:00.500Z"
   },
   {
    "duration": 7,
    "start_time": "2023-11-03T15:09:03.848Z"
   },
   {
    "duration": 911,
    "start_time": "2023-11-03T15:10:43.995Z"
   },
   {
    "duration": 1249,
    "start_time": "2023-11-03T15:10:44.908Z"
   },
   {
    "duration": 15,
    "start_time": "2023-11-03T15:10:46.159Z"
   },
   {
    "duration": 24,
    "start_time": "2023-11-03T15:10:46.176Z"
   },
   {
    "duration": 27,
    "start_time": "2023-11-03T15:10:46.202Z"
   },
   {
    "duration": 20,
    "start_time": "2023-11-03T15:10:46.230Z"
   },
   {
    "duration": 24,
    "start_time": "2023-11-03T15:10:46.251Z"
   },
   {
    "duration": 21,
    "start_time": "2023-11-03T15:10:46.276Z"
   },
   {
    "duration": 20,
    "start_time": "2023-11-03T15:10:46.298Z"
   },
   {
    "duration": 249,
    "start_time": "2023-11-03T15:10:46.320Z"
   },
   {
    "duration": 5,
    "start_time": "2023-11-03T15:10:46.571Z"
   },
   {
    "duration": 35,
    "start_time": "2023-11-03T15:10:46.577Z"
   },
   {
    "duration": 97,
    "start_time": "2023-11-03T15:10:46.614Z"
   },
   {
    "duration": 20,
    "start_time": "2023-11-03T15:10:46.713Z"
   },
   {
    "duration": 226,
    "start_time": "2023-11-03T15:10:46.735Z"
   },
   {
    "duration": 70,
    "start_time": "2023-11-03T15:10:46.963Z"
   },
   {
    "duration": 5,
    "start_time": "2023-11-03T15:10:47.036Z"
   },
   {
    "duration": 23,
    "start_time": "2023-11-03T15:10:47.043Z"
   },
   {
    "duration": 26,
    "start_time": "2023-11-03T15:10:47.068Z"
   },
   {
    "duration": 4,
    "start_time": "2023-11-03T15:10:47.095Z"
   },
   {
    "duration": 24,
    "start_time": "2023-11-03T15:10:47.101Z"
   },
   {
    "duration": 48,
    "start_time": "2023-11-03T15:10:47.126Z"
   },
   {
    "duration": 350,
    "start_time": "2023-11-03T15:10:47.176Z"
   },
   {
    "duration": 12,
    "start_time": "2023-11-03T15:18:37.472Z"
   },
   {
    "duration": 17,
    "start_time": "2023-11-03T15:21:00.643Z"
   },
   {
    "duration": 847,
    "start_time": "2023-11-03T15:58:30.727Z"
   },
   {
    "duration": 2027,
    "start_time": "2023-11-03T15:58:31.577Z"
   },
   {
    "duration": 14,
    "start_time": "2023-11-03T15:58:33.605Z"
   },
   {
    "duration": 10,
    "start_time": "2023-11-03T15:58:33.621Z"
   },
   {
    "duration": 24,
    "start_time": "2023-11-03T15:58:33.632Z"
   },
   {
    "duration": 12,
    "start_time": "2023-11-03T15:58:33.657Z"
   },
   {
    "duration": 11,
    "start_time": "2023-11-03T15:58:33.671Z"
   },
   {
    "duration": 5,
    "start_time": "2023-11-03T15:58:33.683Z"
   },
   {
    "duration": 133,
    "start_time": "2023-11-03T15:58:33.689Z"
   },
   {
    "duration": 270,
    "start_time": "2023-11-03T15:58:33.826Z"
   },
   {
    "duration": 5,
    "start_time": "2023-11-03T15:58:34.098Z"
   },
   {
    "duration": 95,
    "start_time": "2023-11-03T15:58:34.105Z"
   },
   {
    "duration": 88,
    "start_time": "2023-11-03T15:58:34.202Z"
   },
   {
    "duration": 13,
    "start_time": "2023-11-03T15:58:34.291Z"
   },
   {
    "duration": 243,
    "start_time": "2023-11-03T15:58:34.305Z"
   },
   {
    "duration": 60,
    "start_time": "2023-11-03T15:58:34.551Z"
   },
   {
    "duration": 6,
    "start_time": "2023-11-03T15:58:34.623Z"
   },
   {
    "duration": 47,
    "start_time": "2023-11-03T15:58:34.631Z"
   },
   {
    "duration": 37,
    "start_time": "2023-11-03T15:58:34.679Z"
   },
   {
    "duration": 20,
    "start_time": "2023-11-03T15:58:34.718Z"
   },
   {
    "duration": 31,
    "start_time": "2023-11-03T15:58:34.740Z"
   },
   {
    "duration": 3,
    "start_time": "2023-11-03T15:58:34.773Z"
   },
   {
    "duration": 93,
    "start_time": "2023-11-03T15:58:34.777Z"
   },
   {
    "duration": 128,
    "start_time": "2023-11-03T15:58:34.871Z"
   },
   {
    "duration": 717,
    "start_time": "2023-11-03T15:58:35.000Z"
   },
   {
    "duration": 121,
    "start_time": "2023-11-03T16:31:04.138Z"
   },
   {
    "duration": 145,
    "start_time": "2023-11-03T16:49:35.912Z"
   },
   {
    "duration": 6,
    "start_time": "2023-11-03T16:54:26.323Z"
   },
   {
    "duration": 869,
    "start_time": "2023-11-03T16:54:34.488Z"
   },
   {
    "duration": 1405,
    "start_time": "2023-11-03T16:54:35.359Z"
   },
   {
    "duration": 17,
    "start_time": "2023-11-03T16:54:36.766Z"
   },
   {
    "duration": 135,
    "start_time": "2023-11-03T16:54:36.785Z"
   },
   {
    "duration": 160,
    "start_time": "2023-11-03T16:54:36.922Z"
   },
   {
    "duration": 89,
    "start_time": "2023-11-03T16:54:37.084Z"
   },
   {
    "duration": 31,
    "start_time": "2023-11-03T16:54:37.175Z"
   },
   {
    "duration": 30,
    "start_time": "2023-11-03T16:54:37.207Z"
   },
   {
    "duration": 18,
    "start_time": "2023-11-03T16:54:37.239Z"
   },
   {
    "duration": 233,
    "start_time": "2023-11-03T16:54:37.260Z"
   },
   {
    "duration": 6,
    "start_time": "2023-11-03T16:54:37.495Z"
   },
   {
    "duration": 37,
    "start_time": "2023-11-03T16:54:37.503Z"
   },
   {
    "duration": 100,
    "start_time": "2023-11-03T16:54:37.542Z"
   },
   {
    "duration": 13,
    "start_time": "2023-11-03T16:54:37.644Z"
   },
   {
    "duration": 225,
    "start_time": "2023-11-03T16:54:37.659Z"
   },
   {
    "duration": 69,
    "start_time": "2023-11-03T16:54:37.886Z"
   },
   {
    "duration": 4,
    "start_time": "2023-11-03T16:54:37.957Z"
   },
   {
    "duration": 12,
    "start_time": "2023-11-03T16:54:37.963Z"
   },
   {
    "duration": 36,
    "start_time": "2023-11-03T16:54:37.977Z"
   },
   {
    "duration": 26,
    "start_time": "2023-11-03T16:54:38.015Z"
   },
   {
    "duration": 26,
    "start_time": "2023-11-03T16:54:38.043Z"
   },
   {
    "duration": 31,
    "start_time": "2023-11-03T16:54:38.070Z"
   },
   {
    "duration": 4,
    "start_time": "2023-11-03T16:54:38.104Z"
   },
   {
    "duration": 17,
    "start_time": "2023-11-03T16:54:38.110Z"
   },
   {
    "duration": 31,
    "start_time": "2023-11-03T16:54:38.128Z"
   },
   {
    "duration": 156,
    "start_time": "2023-11-03T16:54:38.160Z"
   },
   {
    "duration": 210,
    "start_time": "2023-11-03T16:54:38.317Z"
   },
   {
    "duration": 123,
    "start_time": "2023-11-03T16:54:38.530Z"
   },
   {
    "duration": 23,
    "start_time": "2023-11-03T16:58:16.962Z"
   },
   {
    "duration": 153,
    "start_time": "2023-11-03T17:04:45.899Z"
   },
   {
    "duration": 1210,
    "start_time": "2023-11-03T17:05:10.457Z"
   },
   {
    "duration": 1190,
    "start_time": "2023-11-03T17:05:11.669Z"
   },
   {
    "duration": 12,
    "start_time": "2023-11-03T17:05:12.861Z"
   },
   {
    "duration": 110,
    "start_time": "2023-11-03T17:05:12.875Z"
   },
   {
    "duration": 17,
    "start_time": "2023-11-03T17:05:12.987Z"
   },
   {
    "duration": 23,
    "start_time": "2023-11-03T17:05:13.005Z"
   },
   {
    "duration": 32,
    "start_time": "2023-11-03T17:05:13.029Z"
   },
   {
    "duration": 17,
    "start_time": "2023-11-03T17:05:13.063Z"
   },
   {
    "duration": 21,
    "start_time": "2023-11-03T17:05:13.082Z"
   },
   {
    "duration": 237,
    "start_time": "2023-11-03T17:05:13.105Z"
   },
   {
    "duration": 5,
    "start_time": "2023-11-03T17:05:13.343Z"
   },
   {
    "duration": 28,
    "start_time": "2023-11-03T17:05:13.350Z"
   },
   {
    "duration": 110,
    "start_time": "2023-11-03T17:05:13.379Z"
   },
   {
    "duration": 12,
    "start_time": "2023-11-03T17:05:13.492Z"
   },
   {
    "duration": 213,
    "start_time": "2023-11-03T17:05:13.506Z"
   },
   {
    "duration": 61,
    "start_time": "2023-11-03T17:05:13.721Z"
   },
   {
    "duration": 5,
    "start_time": "2023-11-03T17:05:13.784Z"
   },
   {
    "duration": 21,
    "start_time": "2023-11-03T17:05:13.791Z"
   },
   {
    "duration": 15,
    "start_time": "2023-11-03T17:05:13.813Z"
   },
   {
    "duration": 28,
    "start_time": "2023-11-03T17:05:13.830Z"
   },
   {
    "duration": 16,
    "start_time": "2023-11-03T17:05:13.860Z"
   },
   {
    "duration": 24,
    "start_time": "2023-11-03T17:05:13.878Z"
   },
   {
    "duration": 4,
    "start_time": "2023-11-03T17:05:13.904Z"
   },
   {
    "duration": 9,
    "start_time": "2023-11-03T17:05:13.923Z"
   },
   {
    "duration": 12,
    "start_time": "2023-11-03T17:05:13.934Z"
   },
   {
    "duration": 162,
    "start_time": "2023-11-03T17:05:13.948Z"
   },
   {
    "duration": 212,
    "start_time": "2023-11-03T17:05:14.112Z"
   },
   {
    "duration": 124,
    "start_time": "2023-11-03T17:05:14.326Z"
   },
   {
    "duration": 21,
    "start_time": "2023-11-03T17:05:14.453Z"
   },
   {
    "duration": 219,
    "start_time": "2023-11-03T17:05:14.476Z"
   },
   {
    "duration": 1049,
    "start_time": "2023-11-03T17:06:04.530Z"
   },
   {
    "duration": 1199,
    "start_time": "2023-11-03T17:06:05.580Z"
   },
   {
    "duration": 12,
    "start_time": "2023-11-03T17:06:06.781Z"
   },
   {
    "duration": 35,
    "start_time": "2023-11-03T17:06:06.795Z"
   },
   {
    "duration": 40,
    "start_time": "2023-11-03T17:06:06.831Z"
   },
   {
    "duration": 14,
    "start_time": "2023-11-03T17:06:06.873Z"
   },
   {
    "duration": 14,
    "start_time": "2023-11-03T17:06:06.888Z"
   },
   {
    "duration": 51,
    "start_time": "2023-11-03T17:06:06.903Z"
   },
   {
    "duration": 47,
    "start_time": "2023-11-03T17:06:06.955Z"
   },
   {
    "duration": 269,
    "start_time": "2023-11-03T17:06:07.004Z"
   },
   {
    "duration": 6,
    "start_time": "2023-11-03T17:06:07.274Z"
   },
   {
    "duration": 99,
    "start_time": "2023-11-03T17:06:07.281Z"
   },
   {
    "duration": 219,
    "start_time": "2023-11-03T17:06:07.382Z"
   },
   {
    "duration": 22,
    "start_time": "2023-11-03T17:06:07.603Z"
   },
   {
    "duration": 241,
    "start_time": "2023-11-03T17:06:07.626Z"
   },
   {
    "duration": 71,
    "start_time": "2023-11-03T17:06:07.869Z"
   },
   {
    "duration": 5,
    "start_time": "2023-11-03T17:06:07.942Z"
   },
   {
    "duration": 67,
    "start_time": "2023-11-03T17:06:07.949Z"
   },
   {
    "duration": 66,
    "start_time": "2023-11-03T17:06:08.018Z"
   },
   {
    "duration": 99,
    "start_time": "2023-11-03T17:06:08.086Z"
   },
   {
    "duration": 23,
    "start_time": "2023-11-03T17:06:08.188Z"
   },
   {
    "duration": 35,
    "start_time": "2023-11-03T17:06:08.213Z"
   },
   {
    "duration": 5,
    "start_time": "2023-11-03T17:06:08.250Z"
   },
   {
    "duration": 50,
    "start_time": "2023-11-03T17:06:08.257Z"
   },
   {
    "duration": 45,
    "start_time": "2023-11-03T17:06:08.309Z"
   },
   {
    "duration": 179,
    "start_time": "2023-11-03T17:06:08.356Z"
   },
   {
    "duration": 225,
    "start_time": "2023-11-03T17:06:08.537Z"
   },
   {
    "duration": 136,
    "start_time": "2023-11-03T17:06:08.765Z"
   },
   {
    "duration": 32,
    "start_time": "2023-11-03T17:06:08.904Z"
   },
   {
    "duration": 225,
    "start_time": "2023-11-03T17:06:08.937Z"
   },
   {
    "duration": 181,
    "start_time": "2023-11-03T17:14:20.989Z"
   },
   {
    "duration": 35,
    "start_time": "2023-11-03T17:17:36.637Z"
   },
   {
    "duration": 47,
    "start_time": "2023-11-03T17:18:02.884Z"
   },
   {
    "duration": 36,
    "start_time": "2023-11-03T17:20:13.543Z"
   },
   {
    "duration": 73,
    "start_time": "2023-11-03T17:25:41.479Z"
   },
   {
    "duration": 99,
    "start_time": "2023-11-03T17:26:26.180Z"
   },
   {
    "duration": 1067,
    "start_time": "2023-11-03T17:27:35.015Z"
   },
   {
    "duration": 1372,
    "start_time": "2023-11-03T17:27:36.083Z"
   },
   {
    "duration": 12,
    "start_time": "2023-11-03T17:27:37.457Z"
   },
   {
    "duration": 100,
    "start_time": "2023-11-03T17:27:37.471Z"
   },
   {
    "duration": 54,
    "start_time": "2023-11-03T17:27:37.572Z"
   },
   {
    "duration": 51,
    "start_time": "2023-11-03T17:27:37.627Z"
   },
   {
    "duration": 33,
    "start_time": "2023-11-03T17:27:37.680Z"
   },
   {
    "duration": 56,
    "start_time": "2023-11-03T17:27:37.715Z"
   },
   {
    "duration": 38,
    "start_time": "2023-11-03T17:27:37.773Z"
   },
   {
    "duration": 280,
    "start_time": "2023-11-03T17:27:37.813Z"
   },
   {
    "duration": 5,
    "start_time": "2023-11-03T17:27:38.094Z"
   },
   {
    "duration": 54,
    "start_time": "2023-11-03T17:27:38.101Z"
   },
   {
    "duration": 85,
    "start_time": "2023-11-03T17:27:38.157Z"
   },
   {
    "duration": 13,
    "start_time": "2023-11-03T17:27:38.243Z"
   },
   {
    "duration": 209,
    "start_time": "2023-11-03T17:27:38.257Z"
   },
   {
    "duration": 66,
    "start_time": "2023-11-03T17:27:38.468Z"
   },
   {
    "duration": 5,
    "start_time": "2023-11-03T17:27:38.535Z"
   },
   {
    "duration": 8,
    "start_time": "2023-11-03T17:27:38.541Z"
   },
   {
    "duration": 21,
    "start_time": "2023-11-03T17:27:38.550Z"
   },
   {
    "duration": 15,
    "start_time": "2023-11-03T17:27:38.573Z"
   },
   {
    "duration": 13,
    "start_time": "2023-11-03T17:27:38.590Z"
   },
   {
    "duration": 29,
    "start_time": "2023-11-03T17:27:38.605Z"
   },
   {
    "duration": 4,
    "start_time": "2023-11-03T17:27:38.636Z"
   },
   {
    "duration": 16,
    "start_time": "2023-11-03T17:27:38.641Z"
   },
   {
    "duration": 10,
    "start_time": "2023-11-03T17:27:38.658Z"
   },
   {
    "duration": 161,
    "start_time": "2023-11-03T17:27:38.669Z"
   },
   {
    "duration": 207,
    "start_time": "2023-11-03T17:27:38.831Z"
   },
   {
    "duration": 118,
    "start_time": "2023-11-03T17:27:39.041Z"
   },
   {
    "duration": 20,
    "start_time": "2023-11-03T17:27:39.161Z"
   },
   {
    "duration": 215,
    "start_time": "2023-11-03T17:27:39.182Z"
   },
   {
    "duration": 88,
    "start_time": "2023-11-03T17:27:39.398Z"
   },
   {
    "duration": 0,
    "start_time": "2023-11-03T17:27:39.487Z"
   },
   {
    "duration": 0,
    "start_time": "2023-11-03T17:27:39.489Z"
   },
   {
    "duration": 42,
    "start_time": "2023-11-03T17:28:54.672Z"
   },
   {
    "duration": 90,
    "start_time": "2023-11-03T17:28:58.837Z"
   },
   {
    "duration": 2663,
    "start_time": "2023-11-03T17:29:13.189Z"
   },
   {
    "duration": 1077,
    "start_time": "2023-11-03T17:35:35.305Z"
   },
   {
    "duration": 1359,
    "start_time": "2023-11-03T17:35:36.385Z"
   },
   {
    "duration": 12,
    "start_time": "2023-11-03T17:35:37.745Z"
   },
   {
    "duration": 21,
    "start_time": "2023-11-03T17:35:37.759Z"
   },
   {
    "duration": 21,
    "start_time": "2023-11-03T17:35:37.782Z"
   },
   {
    "duration": 44,
    "start_time": "2023-11-03T17:35:37.805Z"
   },
   {
    "duration": 15,
    "start_time": "2023-11-03T17:35:37.850Z"
   },
   {
    "duration": 11,
    "start_time": "2023-11-03T17:35:37.866Z"
   },
   {
    "duration": 33,
    "start_time": "2023-11-03T17:35:37.879Z"
   },
   {
    "duration": 259,
    "start_time": "2023-11-03T17:35:37.913Z"
   },
   {
    "duration": 5,
    "start_time": "2023-11-03T17:35:38.174Z"
   },
   {
    "duration": 61,
    "start_time": "2023-11-03T17:35:38.180Z"
   },
   {
    "duration": 110,
    "start_time": "2023-11-03T17:35:38.243Z"
   },
   {
    "duration": 13,
    "start_time": "2023-11-03T17:35:38.356Z"
   },
   {
    "duration": 267,
    "start_time": "2023-11-03T17:35:38.371Z"
   },
   {
    "duration": 61,
    "start_time": "2023-11-03T17:35:38.640Z"
   },
   {
    "duration": 5,
    "start_time": "2023-11-03T17:35:38.702Z"
   },
   {
    "duration": 20,
    "start_time": "2023-11-03T17:35:38.708Z"
   },
   {
    "duration": 16,
    "start_time": "2023-11-03T17:35:38.730Z"
   },
   {
    "duration": 44,
    "start_time": "2023-11-03T17:35:38.748Z"
   },
   {
    "duration": 33,
    "start_time": "2023-11-03T17:35:38.793Z"
   },
   {
    "duration": 42,
    "start_time": "2023-11-03T17:35:38.827Z"
   },
   {
    "duration": 4,
    "start_time": "2023-11-03T17:35:38.870Z"
   },
   {
    "duration": 48,
    "start_time": "2023-11-03T17:35:38.876Z"
   },
   {
    "duration": 108,
    "start_time": "2023-11-03T17:35:38.926Z"
   },
   {
    "duration": 342,
    "start_time": "2023-11-03T17:35:39.036Z"
   },
   {
    "duration": 279,
    "start_time": "2023-11-03T17:35:39.379Z"
   },
   {
    "duration": 128,
    "start_time": "2023-11-03T17:35:39.659Z"
   },
   {
    "duration": 20,
    "start_time": "2023-11-03T17:35:39.788Z"
   },
   {
    "duration": 187,
    "start_time": "2023-11-03T17:35:39.823Z"
   },
   {
    "duration": 50,
    "start_time": "2023-11-03T17:35:40.011Z"
   },
   {
    "duration": 2903,
    "start_time": "2023-11-03T17:35:40.063Z"
   },
   {
    "duration": 1268,
    "start_time": "2023-11-04T04:02:23.079Z"
   },
   {
    "duration": 2516,
    "start_time": "2023-11-04T04:02:24.349Z"
   },
   {
    "duration": 12,
    "start_time": "2023-11-04T04:02:26.867Z"
   },
   {
    "duration": 22,
    "start_time": "2023-11-04T04:02:26.880Z"
   },
   {
    "duration": 26,
    "start_time": "2023-11-04T04:02:26.905Z"
   },
   {
    "duration": 14,
    "start_time": "2023-11-04T04:02:26.933Z"
   },
   {
    "duration": 12,
    "start_time": "2023-11-04T04:02:26.948Z"
   },
   {
    "duration": 9,
    "start_time": "2023-11-04T04:02:26.961Z"
   },
   {
    "duration": 7,
    "start_time": "2023-11-04T04:02:26.971Z"
   },
   {
    "duration": 241,
    "start_time": "2023-11-04T04:02:26.980Z"
   },
   {
    "duration": 5,
    "start_time": "2023-11-04T04:02:27.223Z"
   },
   {
    "duration": 39,
    "start_time": "2023-11-04T04:02:27.230Z"
   },
   {
    "duration": 99,
    "start_time": "2023-11-04T04:02:27.271Z"
   },
   {
    "duration": 12,
    "start_time": "2023-11-04T04:02:27.373Z"
   },
   {
    "duration": 222,
    "start_time": "2023-11-04T04:02:27.386Z"
   },
   {
    "duration": 6,
    "start_time": "2023-11-04T04:02:27.609Z"
   },
   {
    "duration": 118,
    "start_time": "2023-11-04T04:02:27.617Z"
   },
   {
    "duration": 5,
    "start_time": "2023-11-04T04:02:27.736Z"
   },
   {
    "duration": 24,
    "start_time": "2023-11-04T04:02:27.743Z"
   },
   {
    "duration": 21,
    "start_time": "2023-11-04T04:02:27.769Z"
   },
   {
    "duration": 16,
    "start_time": "2023-11-04T04:02:27.792Z"
   },
   {
    "duration": 19,
    "start_time": "2023-11-04T04:02:27.810Z"
   },
   {
    "duration": 4,
    "start_time": "2023-11-04T04:02:27.831Z"
   },
   {
    "duration": 14,
    "start_time": "2023-11-04T04:02:27.836Z"
   },
   {
    "duration": 13,
    "start_time": "2023-11-04T04:02:27.852Z"
   },
   {
    "duration": 228,
    "start_time": "2023-11-04T04:02:27.867Z"
   },
   {
    "duration": 235,
    "start_time": "2023-11-04T04:02:28.100Z"
   },
   {
    "duration": 134,
    "start_time": "2023-11-04T04:02:28.337Z"
   },
   {
    "duration": 29,
    "start_time": "2023-11-04T04:02:28.473Z"
   },
   {
    "duration": 225,
    "start_time": "2023-11-04T04:02:28.504Z"
   },
   {
    "duration": 47,
    "start_time": "2023-11-04T04:02:28.731Z"
   },
   {
    "duration": 93,
    "start_time": "2023-11-04T04:03:44.847Z"
   },
   {
    "duration": 5,
    "start_time": "2023-11-04T04:03:57.251Z"
   },
   {
    "duration": 8,
    "start_time": "2023-11-04T04:05:05.972Z"
   },
   {
    "duration": 5,
    "start_time": "2023-11-04T04:05:25.940Z"
   },
   {
    "duration": 51,
    "start_time": "2023-11-04T04:08:00.400Z"
   },
   {
    "duration": 1083,
    "start_time": "2023-11-04T04:08:20.863Z"
   },
   {
    "duration": 1380,
    "start_time": "2023-11-04T04:08:21.948Z"
   },
   {
    "duration": 13,
    "start_time": "2023-11-04T04:08:23.330Z"
   },
   {
    "duration": 15,
    "start_time": "2023-11-04T04:08:23.344Z"
   },
   {
    "duration": 11,
    "start_time": "2023-11-04T04:08:23.361Z"
   },
   {
    "duration": 9,
    "start_time": "2023-11-04T04:08:23.374Z"
   },
   {
    "duration": 11,
    "start_time": "2023-11-04T04:08:23.385Z"
   },
   {
    "duration": 7,
    "start_time": "2023-11-04T04:08:23.397Z"
   },
   {
    "duration": 5,
    "start_time": "2023-11-04T04:08:23.405Z"
   },
   {
    "duration": 245,
    "start_time": "2023-11-04T04:08:23.411Z"
   },
   {
    "duration": 5,
    "start_time": "2023-11-04T04:08:23.658Z"
   },
   {
    "duration": 39,
    "start_time": "2023-11-04T04:08:23.665Z"
   },
   {
    "duration": 97,
    "start_time": "2023-11-04T04:08:23.706Z"
   },
   {
    "duration": 14,
    "start_time": "2023-11-04T04:08:23.805Z"
   },
   {
    "duration": 5,
    "start_time": "2023-11-04T04:08:23.821Z"
   },
   {
    "duration": 1303,
    "start_time": "2023-11-04T04:08:23.828Z"
   },
   {
    "duration": 0,
    "start_time": "2023-11-04T04:08:25.133Z"
   },
   {
    "duration": 0,
    "start_time": "2023-11-04T04:08:25.134Z"
   },
   {
    "duration": 0,
    "start_time": "2023-11-04T04:08:25.136Z"
   },
   {
    "duration": 0,
    "start_time": "2023-11-04T04:08:25.137Z"
   },
   {
    "duration": 0,
    "start_time": "2023-11-04T04:08:25.138Z"
   },
   {
    "duration": 0,
    "start_time": "2023-11-04T04:08:25.139Z"
   },
   {
    "duration": 0,
    "start_time": "2023-11-04T04:08:25.140Z"
   },
   {
    "duration": 0,
    "start_time": "2023-11-04T04:08:25.141Z"
   },
   {
    "duration": 0,
    "start_time": "2023-11-04T04:08:25.142Z"
   },
   {
    "duration": 0,
    "start_time": "2023-11-04T04:08:25.143Z"
   },
   {
    "duration": 0,
    "start_time": "2023-11-04T04:08:25.144Z"
   },
   {
    "duration": 0,
    "start_time": "2023-11-04T04:08:25.145Z"
   },
   {
    "duration": 0,
    "start_time": "2023-11-04T04:08:25.146Z"
   },
   {
    "duration": 0,
    "start_time": "2023-11-04T04:08:25.147Z"
   },
   {
    "duration": 0,
    "start_time": "2023-11-04T04:08:25.148Z"
   },
   {
    "duration": 0,
    "start_time": "2023-11-04T04:08:25.149Z"
   },
   {
    "duration": 0,
    "start_time": "2023-11-04T04:08:25.150Z"
   },
   {
    "duration": 0,
    "start_time": "2023-11-04T04:08:25.152Z"
   },
   {
    "duration": 5,
    "start_time": "2023-11-04T04:09:19.994Z"
   },
   {
    "duration": 43,
    "start_time": "2023-11-04T04:09:20.632Z"
   },
   {
    "duration": 13,
    "start_time": "2023-11-04T04:09:21.499Z"
   },
   {
    "duration": 1243,
    "start_time": "2023-11-04T04:09:24.444Z"
   },
   {
    "duration": 983,
    "start_time": "2023-11-04T04:10:38.162Z"
   },
   {
    "duration": 0,
    "start_time": "2023-11-04T04:10:39.147Z"
   },
   {
    "duration": 5,
    "start_time": "2023-11-04T04:11:30.957Z"
   },
   {
    "duration": 43,
    "start_time": "2023-11-04T04:11:31.737Z"
   },
   {
    "duration": 12,
    "start_time": "2023-11-04T04:11:32.953Z"
   },
   {
    "duration": 1012,
    "start_time": "2023-11-04T04:11:53.424Z"
   },
   {
    "duration": 6,
    "start_time": "2023-11-04T04:13:05.712Z"
   },
   {
    "duration": 192,
    "start_time": "2023-11-04T04:13:43.324Z"
   },
   {
    "duration": 66,
    "start_time": "2023-11-04T04:13:44.189Z"
   },
   {
    "duration": 5,
    "start_time": "2023-11-04T04:13:46.498Z"
   },
   {
    "duration": 6,
    "start_time": "2023-11-04T04:13:51.685Z"
   },
   {
    "duration": 6,
    "start_time": "2023-11-04T04:13:56.650Z"
   },
   {
    "duration": 3,
    "start_time": "2023-11-04T04:14:18.474Z"
   },
   {
    "duration": 182,
    "start_time": "2023-11-04T04:14:19.129Z"
   },
   {
    "duration": 61,
    "start_time": "2023-11-04T04:14:20.320Z"
   },
   {
    "duration": 5,
    "start_time": "2023-11-04T04:14:22.473Z"
   },
   {
    "duration": 4,
    "start_time": "2023-11-04T04:14:26.466Z"
   },
   {
    "duration": 6,
    "start_time": "2023-11-04T04:14:31.300Z"
   },
   {
    "duration": 39,
    "start_time": "2023-11-04T04:14:33.194Z"
   },
   {
    "duration": 30,
    "start_time": "2023-11-04T04:15:00.818Z"
   },
   {
    "duration": 5,
    "start_time": "2023-11-04T04:15:40.602Z"
   },
   {
    "duration": 972,
    "start_time": "2023-11-04T04:15:41.473Z"
   },
   {
    "duration": 0,
    "start_time": "2023-11-04T04:15:42.447Z"
   },
   {
    "duration": 3,
    "start_time": "2023-11-04T04:15:42.829Z"
   },
   {
    "duration": 1052,
    "start_time": "2023-11-04T04:16:11.906Z"
   },
   {
    "duration": 1501,
    "start_time": "2023-11-04T04:16:12.960Z"
   },
   {
    "duration": 13,
    "start_time": "2023-11-04T04:16:14.462Z"
   },
   {
    "duration": 9,
    "start_time": "2023-11-04T04:16:14.476Z"
   },
   {
    "duration": 10,
    "start_time": "2023-11-04T04:16:14.487Z"
   },
   {
    "duration": 11,
    "start_time": "2023-11-04T04:16:14.499Z"
   },
   {
    "duration": 13,
    "start_time": "2023-11-04T04:16:14.512Z"
   },
   {
    "duration": 7,
    "start_time": "2023-11-04T04:16:14.527Z"
   },
   {
    "duration": 6,
    "start_time": "2023-11-04T04:16:14.536Z"
   },
   {
    "duration": 298,
    "start_time": "2023-11-04T04:16:14.543Z"
   },
   {
    "duration": 6,
    "start_time": "2023-11-04T04:16:14.842Z"
   },
   {
    "duration": 29,
    "start_time": "2023-11-04T04:16:14.849Z"
   },
   {
    "duration": 25,
    "start_time": "2023-11-04T04:16:14.880Z"
   },
   {
    "duration": 1336,
    "start_time": "2023-11-04T04:16:14.908Z"
   },
   {
    "duration": 0,
    "start_time": "2023-11-04T04:16:16.245Z"
   },
   {
    "duration": 0,
    "start_time": "2023-11-04T04:16:16.246Z"
   },
   {
    "duration": 0,
    "start_time": "2023-11-04T04:16:16.247Z"
   },
   {
    "duration": 0,
    "start_time": "2023-11-04T04:16:16.248Z"
   },
   {
    "duration": 0,
    "start_time": "2023-11-04T04:16:16.249Z"
   },
   {
    "duration": 0,
    "start_time": "2023-11-04T04:16:16.251Z"
   },
   {
    "duration": 0,
    "start_time": "2023-11-04T04:16:16.252Z"
   },
   {
    "duration": 0,
    "start_time": "2023-11-04T04:16:16.252Z"
   },
   {
    "duration": 0,
    "start_time": "2023-11-04T04:16:16.254Z"
   },
   {
    "duration": 0,
    "start_time": "2023-11-04T04:16:16.254Z"
   },
   {
    "duration": 0,
    "start_time": "2023-11-04T04:16:16.256Z"
   },
   {
    "duration": 0,
    "start_time": "2023-11-04T04:16:16.257Z"
   },
   {
    "duration": 0,
    "start_time": "2023-11-04T04:16:16.258Z"
   },
   {
    "duration": 0,
    "start_time": "2023-11-04T04:16:16.258Z"
   },
   {
    "duration": 0,
    "start_time": "2023-11-04T04:16:16.259Z"
   },
   {
    "duration": 0,
    "start_time": "2023-11-04T04:16:16.261Z"
   },
   {
    "duration": 0,
    "start_time": "2023-11-04T04:16:16.261Z"
   },
   {
    "duration": 0,
    "start_time": "2023-11-04T04:16:16.262Z"
   },
   {
    "duration": 0,
    "start_time": "2023-11-04T04:16:16.263Z"
   },
   {
    "duration": 0,
    "start_time": "2023-11-04T04:16:16.264Z"
   },
   {
    "duration": 1061,
    "start_time": "2023-11-04T04:19:29.948Z"
   },
   {
    "duration": 0,
    "start_time": "2023-11-04T04:19:31.011Z"
   },
   {
    "duration": 967,
    "start_time": "2023-11-04T04:19:31.236Z"
   },
   {
    "duration": 0,
    "start_time": "2023-11-04T04:19:32.205Z"
   },
   {
    "duration": 0,
    "start_time": "2023-11-04T04:19:32.206Z"
   },
   {
    "duration": 18,
    "start_time": "2023-11-04T04:19:49.144Z"
   },
   {
    "duration": 5,
    "start_time": "2023-11-04T04:19:50.252Z"
   },
   {
    "duration": 1201,
    "start_time": "2023-11-04T04:19:51.964Z"
   },
   {
    "duration": 5,
    "start_time": "2023-11-04T04:19:53.714Z"
   },
   {
    "duration": 3,
    "start_time": "2023-11-04T04:20:54.237Z"
   },
   {
    "duration": 3052,
    "start_time": "2023-11-04T04:20:54.832Z"
   },
   {
    "duration": 8,
    "start_time": "2023-11-04T04:20:57.886Z"
   },
   {
    "duration": 27,
    "start_time": "2023-11-04T04:20:57.896Z"
   },
   {
    "duration": 21,
    "start_time": "2023-11-04T04:20:57.925Z"
   },
   {
    "duration": 1022,
    "start_time": "2023-11-04T04:21:24.935Z"
   },
   {
    "duration": 2008,
    "start_time": "2023-11-04T04:21:25.959Z"
   },
   {
    "duration": 14,
    "start_time": "2023-11-04T04:21:27.969Z"
   },
   {
    "duration": 51,
    "start_time": "2023-11-04T04:21:27.985Z"
   },
   {
    "duration": 110,
    "start_time": "2023-11-04T04:21:28.039Z"
   },
   {
    "duration": 0,
    "start_time": "2023-11-04T04:21:28.152Z"
   },
   {
    "duration": 0,
    "start_time": "2023-11-04T04:21:28.153Z"
   },
   {
    "duration": 0,
    "start_time": "2023-11-04T04:21:28.154Z"
   },
   {
    "duration": 0,
    "start_time": "2023-11-04T04:21:28.156Z"
   },
   {
    "duration": 0,
    "start_time": "2023-11-04T04:21:28.156Z"
   },
   {
    "duration": 0,
    "start_time": "2023-11-04T04:21:28.158Z"
   },
   {
    "duration": 0,
    "start_time": "2023-11-04T04:21:28.159Z"
   },
   {
    "duration": 0,
    "start_time": "2023-11-04T04:21:28.160Z"
   },
   {
    "duration": 0,
    "start_time": "2023-11-04T04:21:28.161Z"
   },
   {
    "duration": 0,
    "start_time": "2023-11-04T04:21:28.162Z"
   },
   {
    "duration": 0,
    "start_time": "2023-11-04T04:21:28.163Z"
   },
   {
    "duration": 0,
    "start_time": "2023-11-04T04:21:28.164Z"
   },
   {
    "duration": 0,
    "start_time": "2023-11-04T04:21:28.166Z"
   },
   {
    "duration": 0,
    "start_time": "2023-11-04T04:21:28.166Z"
   },
   {
    "duration": 0,
    "start_time": "2023-11-04T04:21:28.167Z"
   },
   {
    "duration": 0,
    "start_time": "2023-11-04T04:21:28.169Z"
   },
   {
    "duration": 0,
    "start_time": "2023-11-04T04:21:28.170Z"
   },
   {
    "duration": 0,
    "start_time": "2023-11-04T04:21:28.171Z"
   },
   {
    "duration": 0,
    "start_time": "2023-11-04T04:21:28.202Z"
   },
   {
    "duration": 0,
    "start_time": "2023-11-04T04:21:28.203Z"
   },
   {
    "duration": 0,
    "start_time": "2023-11-04T04:21:28.204Z"
   },
   {
    "duration": 0,
    "start_time": "2023-11-04T04:21:28.205Z"
   },
   {
    "duration": 0,
    "start_time": "2023-11-04T04:21:28.208Z"
   },
   {
    "duration": 0,
    "start_time": "2023-11-04T04:21:28.210Z"
   },
   {
    "duration": 0,
    "start_time": "2023-11-04T04:21:28.211Z"
   },
   {
    "duration": 0,
    "start_time": "2023-11-04T04:21:28.212Z"
   },
   {
    "duration": 0,
    "start_time": "2023-11-04T04:21:28.214Z"
   },
   {
    "duration": 0,
    "start_time": "2023-11-04T04:21:28.216Z"
   },
   {
    "duration": 0,
    "start_time": "2023-11-04T04:21:28.218Z"
   },
   {
    "duration": 8,
    "start_time": "2023-11-04T04:21:36.036Z"
   },
   {
    "duration": 8,
    "start_time": "2023-11-04T04:21:39.119Z"
   },
   {
    "duration": 8,
    "start_time": "2023-11-04T04:21:39.956Z"
   },
   {
    "duration": 1035,
    "start_time": "2023-11-04T04:22:59.554Z"
   },
   {
    "duration": 1295,
    "start_time": "2023-11-04T04:23:00.591Z"
   },
   {
    "duration": 12,
    "start_time": "2023-11-04T04:23:01.888Z"
   },
   {
    "duration": 83,
    "start_time": "2023-11-04T04:23:01.902Z"
   },
   {
    "duration": 34,
    "start_time": "2023-11-04T04:23:01.986Z"
   },
   {
    "duration": 40,
    "start_time": "2023-11-04T04:23:02.022Z"
   },
   {
    "duration": 72,
    "start_time": "2023-11-04T04:23:02.064Z"
   },
   {
    "duration": 43,
    "start_time": "2023-11-04T04:23:02.138Z"
   },
   {
    "duration": 20,
    "start_time": "2023-11-04T04:23:02.183Z"
   },
   {
    "duration": 127,
    "start_time": "2023-11-04T04:23:02.206Z"
   },
   {
    "duration": 0,
    "start_time": "2023-11-04T04:23:02.336Z"
   },
   {
    "duration": 0,
    "start_time": "2023-11-04T04:23:02.337Z"
   },
   {
    "duration": 0,
    "start_time": "2023-11-04T04:23:02.338Z"
   },
   {
    "duration": 0,
    "start_time": "2023-11-04T04:23:02.339Z"
   },
   {
    "duration": 0,
    "start_time": "2023-11-04T04:23:02.340Z"
   },
   {
    "duration": 0,
    "start_time": "2023-11-04T04:23:02.341Z"
   },
   {
    "duration": 0,
    "start_time": "2023-11-04T04:23:02.343Z"
   },
   {
    "duration": 0,
    "start_time": "2023-11-04T04:23:02.344Z"
   },
   {
    "duration": 0,
    "start_time": "2023-11-04T04:23:02.345Z"
   },
   {
    "duration": 0,
    "start_time": "2023-11-04T04:23:02.346Z"
   },
   {
    "duration": 0,
    "start_time": "2023-11-04T04:23:02.347Z"
   },
   {
    "duration": 0,
    "start_time": "2023-11-04T04:23:02.348Z"
   },
   {
    "duration": 0,
    "start_time": "2023-11-04T04:23:02.349Z"
   },
   {
    "duration": 0,
    "start_time": "2023-11-04T04:23:02.350Z"
   },
   {
    "duration": 0,
    "start_time": "2023-11-04T04:23:02.351Z"
   },
   {
    "duration": 0,
    "start_time": "2023-11-04T04:23:02.353Z"
   },
   {
    "duration": 0,
    "start_time": "2023-11-04T04:23:02.354Z"
   },
   {
    "duration": 0,
    "start_time": "2023-11-04T04:23:02.355Z"
   },
   {
    "duration": 0,
    "start_time": "2023-11-04T04:23:02.356Z"
   },
   {
    "duration": 0,
    "start_time": "2023-11-04T04:23:02.357Z"
   },
   {
    "duration": 0,
    "start_time": "2023-11-04T04:23:02.358Z"
   },
   {
    "duration": 0,
    "start_time": "2023-11-04T04:23:02.359Z"
   },
   {
    "duration": 0,
    "start_time": "2023-11-04T04:23:02.360Z"
   },
   {
    "duration": 0,
    "start_time": "2023-11-04T04:23:02.361Z"
   },
   {
    "duration": 1042,
    "start_time": "2023-11-04T04:23:26.726Z"
   },
   {
    "duration": 1074,
    "start_time": "2023-11-04T04:23:27.770Z"
   },
   {
    "duration": 12,
    "start_time": "2023-11-04T04:23:28.846Z"
   },
   {
    "duration": 9,
    "start_time": "2023-11-04T04:23:28.860Z"
   },
   {
    "duration": 27,
    "start_time": "2023-11-04T04:23:28.872Z"
   },
   {
    "duration": 20,
    "start_time": "2023-11-04T04:23:28.901Z"
   },
   {
    "duration": 23,
    "start_time": "2023-11-04T04:23:28.922Z"
   },
   {
    "duration": 22,
    "start_time": "2023-11-04T04:23:28.946Z"
   },
   {
    "duration": 18,
    "start_time": "2023-11-04T04:23:28.970Z"
   },
   {
    "duration": 239,
    "start_time": "2023-11-04T04:23:28.990Z"
   },
   {
    "duration": 5,
    "start_time": "2023-11-04T04:23:29.231Z"
   },
   {
    "duration": 35,
    "start_time": "2023-11-04T04:23:29.237Z"
   },
   {
    "duration": 18,
    "start_time": "2023-11-04T04:23:29.273Z"
   },
   {
    "duration": 1924,
    "start_time": "2023-11-04T04:23:29.294Z"
   },
   {
    "duration": 0,
    "start_time": "2023-11-04T04:23:31.220Z"
   },
   {
    "duration": 0,
    "start_time": "2023-11-04T04:23:31.221Z"
   },
   {
    "duration": 0,
    "start_time": "2023-11-04T04:23:31.222Z"
   },
   {
    "duration": 0,
    "start_time": "2023-11-04T04:23:31.223Z"
   },
   {
    "duration": 0,
    "start_time": "2023-11-04T04:23:31.224Z"
   },
   {
    "duration": 0,
    "start_time": "2023-11-04T04:23:31.226Z"
   },
   {
    "duration": 0,
    "start_time": "2023-11-04T04:23:31.228Z"
   },
   {
    "duration": 0,
    "start_time": "2023-11-04T04:23:31.230Z"
   },
   {
    "duration": 0,
    "start_time": "2023-11-04T04:23:31.231Z"
   },
   {
    "duration": 0,
    "start_time": "2023-11-04T04:23:31.232Z"
   },
   {
    "duration": 0,
    "start_time": "2023-11-04T04:23:31.234Z"
   },
   {
    "duration": 0,
    "start_time": "2023-11-04T04:23:31.236Z"
   },
   {
    "duration": 0,
    "start_time": "2023-11-04T04:23:31.237Z"
   },
   {
    "duration": 0,
    "start_time": "2023-11-04T04:23:31.239Z"
   },
   {
    "duration": 0,
    "start_time": "2023-11-04T04:23:31.241Z"
   },
   {
    "duration": 0,
    "start_time": "2023-11-04T04:23:31.242Z"
   },
   {
    "duration": 0,
    "start_time": "2023-11-04T04:23:31.243Z"
   },
   {
    "duration": 0,
    "start_time": "2023-11-04T04:23:31.245Z"
   },
   {
    "duration": 0,
    "start_time": "2023-11-04T04:23:31.246Z"
   },
   {
    "duration": 0,
    "start_time": "2023-11-04T04:23:31.247Z"
   },
   {
    "duration": 5,
    "start_time": "2023-11-04T04:24:33.996Z"
   },
   {
    "duration": 1207,
    "start_time": "2023-11-04T04:24:34.880Z"
   },
   {
    "duration": 934,
    "start_time": "2023-11-04T04:25:18.541Z"
   },
   {
    "duration": 7,
    "start_time": "2023-11-04T04:28:16.893Z"
   },
   {
    "duration": 5,
    "start_time": "2023-11-04T04:28:44.870Z"
   },
   {
    "duration": 1074,
    "start_time": "2023-11-04T04:28:59.363Z"
   },
   {
    "duration": 1218,
    "start_time": "2023-11-04T04:29:29.556Z"
   },
   {
    "duration": 1093,
    "start_time": "2023-11-04T04:29:40.664Z"
   },
   {
    "duration": 2250,
    "start_time": "2023-11-04T04:29:41.759Z"
   },
   {
    "duration": 14,
    "start_time": "2023-11-04T04:29:44.010Z"
   },
   {
    "duration": 33,
    "start_time": "2023-11-04T04:29:44.026Z"
   },
   {
    "duration": 18,
    "start_time": "2023-11-04T04:29:44.061Z"
   },
   {
    "duration": 20,
    "start_time": "2023-11-04T04:29:44.081Z"
   },
   {
    "duration": 28,
    "start_time": "2023-11-04T04:29:44.102Z"
   },
   {
    "duration": 11,
    "start_time": "2023-11-04T04:29:44.131Z"
   },
   {
    "duration": 6,
    "start_time": "2023-11-04T04:29:44.143Z"
   },
   {
    "duration": 270,
    "start_time": "2023-11-04T04:29:44.150Z"
   },
   {
    "duration": 5,
    "start_time": "2023-11-04T04:29:44.422Z"
   },
   {
    "duration": 59,
    "start_time": "2023-11-04T04:29:44.428Z"
   },
   {
    "duration": 160,
    "start_time": "2023-11-04T04:29:44.488Z"
   },
   {
    "duration": 103,
    "start_time": "2023-11-04T04:29:44.653Z"
   },
   {
    "duration": 13,
    "start_time": "2023-11-04T04:29:44.757Z"
   },
   {
    "duration": 1108,
    "start_time": "2023-11-04T04:29:44.772Z"
   },
   {
    "duration": 0,
    "start_time": "2023-11-04T04:29:45.881Z"
   },
   {
    "duration": 0,
    "start_time": "2023-11-04T04:29:45.882Z"
   },
   {
    "duration": 0,
    "start_time": "2023-11-04T04:29:45.884Z"
   },
   {
    "duration": 0,
    "start_time": "2023-11-04T04:29:45.885Z"
   },
   {
    "duration": 0,
    "start_time": "2023-11-04T04:29:45.886Z"
   },
   {
    "duration": 0,
    "start_time": "2023-11-04T04:29:45.887Z"
   },
   {
    "duration": 0,
    "start_time": "2023-11-04T04:29:45.888Z"
   },
   {
    "duration": 0,
    "start_time": "2023-11-04T04:29:45.890Z"
   },
   {
    "duration": 0,
    "start_time": "2023-11-04T04:29:45.891Z"
   },
   {
    "duration": 0,
    "start_time": "2023-11-04T04:29:45.892Z"
   },
   {
    "duration": 0,
    "start_time": "2023-11-04T04:29:45.893Z"
   },
   {
    "duration": 0,
    "start_time": "2023-11-04T04:29:45.894Z"
   },
   {
    "duration": 0,
    "start_time": "2023-11-04T04:29:45.895Z"
   },
   {
    "duration": 0,
    "start_time": "2023-11-04T04:29:45.898Z"
   },
   {
    "duration": 0,
    "start_time": "2023-11-04T04:29:45.899Z"
   },
   {
    "duration": 0,
    "start_time": "2023-11-04T04:29:45.900Z"
   },
   {
    "duration": 0,
    "start_time": "2023-11-04T04:29:45.901Z"
   },
   {
    "duration": 0,
    "start_time": "2023-11-04T04:29:45.903Z"
   },
   {
    "duration": 0,
    "start_time": "2023-11-04T04:29:45.904Z"
   },
   {
    "duration": 1216,
    "start_time": "2023-11-04T04:30:08.960Z"
   },
   {
    "duration": 8,
    "start_time": "2023-11-04T04:31:39.334Z"
   },
   {
    "duration": 2027,
    "start_time": "2023-11-04T04:32:21.844Z"
   },
   {
    "duration": 1248,
    "start_time": "2023-11-04T04:32:23.873Z"
   },
   {
    "duration": 12,
    "start_time": "2023-11-04T04:32:25.123Z"
   },
   {
    "duration": 8,
    "start_time": "2023-11-04T04:32:25.136Z"
   },
   {
    "duration": 13,
    "start_time": "2023-11-04T04:32:25.146Z"
   },
   {
    "duration": 17,
    "start_time": "2023-11-04T04:32:25.160Z"
   },
   {
    "duration": 19,
    "start_time": "2023-11-04T04:32:25.179Z"
   },
   {
    "duration": 1076,
    "start_time": "2023-11-04T04:44:01.433Z"
   },
   {
    "duration": 1202,
    "start_time": "2023-11-04T04:44:02.510Z"
   },
   {
    "duration": 13,
    "start_time": "2023-11-04T04:44:03.715Z"
   },
   {
    "duration": 11,
    "start_time": "2023-11-04T04:44:03.731Z"
   },
   {
    "duration": 13,
    "start_time": "2023-11-04T04:44:03.744Z"
   },
   {
    "duration": 19,
    "start_time": "2023-11-04T04:44:03.759Z"
   },
   {
    "duration": 22,
    "start_time": "2023-11-04T04:44:03.780Z"
   },
   {
    "duration": 446,
    "start_time": "2023-11-04T04:44:03.805Z"
   },
   {
    "duration": 53,
    "start_time": "2023-11-04T04:44:04.254Z"
   },
   {
    "duration": 594,
    "start_time": "2023-11-04T04:44:04.310Z"
   },
   {
    "duration": 496,
    "start_time": "2023-11-04T04:44:04.906Z"
   },
   {
    "duration": 109,
    "start_time": "2023-11-04T04:44:05.404Z"
   },
   {
    "duration": 1063,
    "start_time": "2023-11-04T04:44:41.818Z"
   },
   {
    "duration": 1157,
    "start_time": "2023-11-04T04:44:42.883Z"
   },
   {
    "duration": 12,
    "start_time": "2023-11-04T04:44:44.042Z"
   },
   {
    "duration": 15,
    "start_time": "2023-11-04T04:44:44.056Z"
   },
   {
    "duration": 14,
    "start_time": "2023-11-04T04:44:44.073Z"
   },
   {
    "duration": 19,
    "start_time": "2023-11-04T04:44:44.089Z"
   },
   {
    "duration": 10,
    "start_time": "2023-11-04T04:44:44.110Z"
   },
   {
    "duration": 420,
    "start_time": "2023-11-04T04:44:44.121Z"
   },
   {
    "duration": 24,
    "start_time": "2023-11-04T04:44:44.543Z"
   },
   {
    "duration": 586,
    "start_time": "2023-11-04T04:44:44.569Z"
   },
   {
    "duration": 495,
    "start_time": "2023-11-04T04:44:45.157Z"
   },
   {
    "duration": 102,
    "start_time": "2023-11-04T04:44:45.653Z"
   },
   {
    "duration": 1083,
    "start_time": "2023-11-04T05:25:29.391Z"
   },
   {
    "duration": 1421,
    "start_time": "2023-11-04T05:25:30.476Z"
   },
   {
    "duration": 13,
    "start_time": "2023-11-04T05:25:31.899Z"
   },
   {
    "duration": 25,
    "start_time": "2023-11-04T05:25:31.913Z"
   },
   {
    "duration": 23,
    "start_time": "2023-11-04T05:25:31.940Z"
   },
   {
    "duration": 12,
    "start_time": "2023-11-04T05:25:31.964Z"
   },
   {
    "duration": 16,
    "start_time": "2023-11-04T05:25:31.977Z"
   },
   {
    "duration": 422,
    "start_time": "2023-11-04T05:25:31.994Z"
   },
   {
    "duration": 23,
    "start_time": "2023-11-04T05:25:32.418Z"
   },
   {
    "duration": 551,
    "start_time": "2023-11-04T05:25:32.443Z"
   },
   {
    "duration": 508,
    "start_time": "2023-11-04T05:25:32.995Z"
   },
   {
    "duration": 105,
    "start_time": "2023-11-04T05:25:33.504Z"
   },
   {
    "duration": 1039,
    "start_time": "2023-11-04T05:25:52.649Z"
   },
   {
    "duration": 1148,
    "start_time": "2023-11-04T05:25:53.690Z"
   },
   {
    "duration": 12,
    "start_time": "2023-11-04T05:25:54.839Z"
   },
   {
    "duration": 7,
    "start_time": "2023-11-04T05:25:54.853Z"
   },
   {
    "duration": 11,
    "start_time": "2023-11-04T05:25:54.862Z"
   },
   {
    "duration": 24,
    "start_time": "2023-11-04T05:25:54.874Z"
   },
   {
    "duration": 15,
    "start_time": "2023-11-04T05:25:54.899Z"
   },
   {
    "duration": 403,
    "start_time": "2023-11-04T05:25:54.916Z"
   },
   {
    "duration": 23,
    "start_time": "2023-11-04T05:25:55.321Z"
   },
   {
    "duration": 543,
    "start_time": "2023-11-04T05:25:55.346Z"
   },
   {
    "duration": 491,
    "start_time": "2023-11-04T05:25:55.890Z"
   },
   {
    "duration": 106,
    "start_time": "2023-11-04T05:25:56.383Z"
   },
   {
    "duration": 81,
    "start_time": "2023-11-04T05:29:37.463Z"
   },
   {
    "duration": 0,
    "start_time": "2023-11-04T05:29:37.546Z"
   },
   {
    "duration": 0,
    "start_time": "2023-11-04T05:29:37.548Z"
   },
   {
    "duration": 0,
    "start_time": "2023-11-04T05:29:37.549Z"
   },
   {
    "duration": 0,
    "start_time": "2023-11-04T05:29:37.550Z"
   },
   {
    "duration": 0,
    "start_time": "2023-11-04T05:29:37.551Z"
   },
   {
    "duration": 0,
    "start_time": "2023-11-04T05:29:37.552Z"
   },
   {
    "duration": 0,
    "start_time": "2023-11-04T05:29:37.553Z"
   },
   {
    "duration": 0,
    "start_time": "2023-11-04T05:29:37.554Z"
   },
   {
    "duration": 0,
    "start_time": "2023-11-04T05:29:37.555Z"
   },
   {
    "duration": 0,
    "start_time": "2023-11-04T05:29:37.556Z"
   },
   {
    "duration": 0,
    "start_time": "2023-11-04T05:29:37.557Z"
   },
   {
    "duration": 1119,
    "start_time": "2023-11-04T05:30:53.987Z"
   },
   {
    "duration": 1271,
    "start_time": "2023-11-04T05:30:55.108Z"
   },
   {
    "duration": 12,
    "start_time": "2023-11-04T05:30:56.381Z"
   },
   {
    "duration": 8,
    "start_time": "2023-11-04T05:30:56.395Z"
   },
   {
    "duration": 12,
    "start_time": "2023-11-04T05:30:56.404Z"
   },
   {
    "duration": 20,
    "start_time": "2023-11-04T05:30:56.417Z"
   },
   {
    "duration": 20,
    "start_time": "2023-11-04T05:30:56.439Z"
   },
   {
    "duration": 430,
    "start_time": "2023-11-04T05:30:56.461Z"
   },
   {
    "duration": 28,
    "start_time": "2023-11-04T05:30:56.893Z"
   },
   {
    "duration": 535,
    "start_time": "2023-11-04T05:30:56.923Z"
   },
   {
    "duration": 495,
    "start_time": "2023-11-04T05:30:57.460Z"
   },
   {
    "duration": 84,
    "start_time": "2023-11-04T05:30:57.957Z"
   },
   {
    "duration": 101,
    "start_time": "2023-11-04T05:31:07.785Z"
   },
   {
    "duration": 1081,
    "start_time": "2023-11-04T05:36:37.961Z"
   },
   {
    "duration": 1159,
    "start_time": "2023-11-04T05:36:39.044Z"
   },
   {
    "duration": 13,
    "start_time": "2023-11-04T05:36:40.205Z"
   },
   {
    "duration": 50,
    "start_time": "2023-11-04T05:36:40.220Z"
   },
   {
    "duration": 23,
    "start_time": "2023-11-04T05:36:40.272Z"
   },
   {
    "duration": 28,
    "start_time": "2023-11-04T05:36:40.297Z"
   },
   {
    "duration": 19,
    "start_time": "2023-11-04T05:36:40.327Z"
   },
   {
    "duration": 90,
    "start_time": "2023-11-04T05:36:40.347Z"
   },
   {
    "duration": 341,
    "start_time": "2023-11-04T05:36:40.439Z"
   },
   {
    "duration": 33,
    "start_time": "2023-11-04T05:36:40.782Z"
   },
   {
    "duration": 534,
    "start_time": "2023-11-04T05:36:40.817Z"
   },
   {
    "duration": 503,
    "start_time": "2023-11-04T05:36:41.353Z"
   },
   {
    "duration": 101,
    "start_time": "2023-11-04T05:36:41.857Z"
   },
   {
    "duration": 87,
    "start_time": "2023-11-04T05:39:49.668Z"
   },
   {
    "duration": 0,
    "start_time": "2023-11-04T05:39:49.758Z"
   },
   {
    "duration": 0,
    "start_time": "2023-11-04T05:39:49.759Z"
   },
   {
    "duration": 0,
    "start_time": "2023-11-04T05:39:49.760Z"
   },
   {
    "duration": 0,
    "start_time": "2023-11-04T05:39:49.761Z"
   },
   {
    "duration": 0,
    "start_time": "2023-11-04T05:39:49.762Z"
   },
   {
    "duration": 0,
    "start_time": "2023-11-04T05:39:49.763Z"
   },
   {
    "duration": 0,
    "start_time": "2023-11-04T05:39:49.765Z"
   },
   {
    "duration": 0,
    "start_time": "2023-11-04T05:39:49.765Z"
   },
   {
    "duration": 0,
    "start_time": "2023-11-04T05:39:49.767Z"
   },
   {
    "duration": 0,
    "start_time": "2023-11-04T05:39:49.768Z"
   },
   {
    "duration": 0,
    "start_time": "2023-11-04T05:39:49.769Z"
   },
   {
    "duration": 0,
    "start_time": "2023-11-04T05:39:49.770Z"
   },
   {
    "duration": 1076,
    "start_time": "2023-11-04T05:40:12.262Z"
   },
   {
    "duration": 1246,
    "start_time": "2023-11-04T05:40:20.898Z"
   },
   {
    "duration": 1400,
    "start_time": "2023-11-04T05:40:22.146Z"
   },
   {
    "duration": 12,
    "start_time": "2023-11-04T05:40:23.548Z"
   },
   {
    "duration": 9,
    "start_time": "2023-11-04T05:40:23.562Z"
   },
   {
    "duration": 9,
    "start_time": "2023-11-04T05:40:23.574Z"
   },
   {
    "duration": 8,
    "start_time": "2023-11-04T05:40:23.586Z"
   },
   {
    "duration": 9,
    "start_time": "2023-11-04T05:40:23.601Z"
   },
   {
    "duration": 93,
    "start_time": "2023-11-04T05:40:23.611Z"
   },
   {
    "duration": 320,
    "start_time": "2023-11-04T05:40:23.706Z"
   },
   {
    "duration": 22,
    "start_time": "2023-11-04T05:40:24.028Z"
   },
   {
    "duration": 550,
    "start_time": "2023-11-04T05:40:24.052Z"
   },
   {
    "duration": 537,
    "start_time": "2023-11-04T05:40:24.605Z"
   },
   {
    "duration": 111,
    "start_time": "2023-11-04T05:40:25.144Z"
   },
   {
    "duration": 11,
    "start_time": "2023-11-04T05:43:39.258Z"
   },
   {
    "duration": 9,
    "start_time": "2023-11-04T05:43:48.967Z"
   },
   {
    "duration": 5,
    "start_time": "2023-11-04T05:44:16.737Z"
   },
   {
    "duration": 12,
    "start_time": "2023-11-04T05:44:28.273Z"
   },
   {
    "duration": 7,
    "start_time": "2023-11-04T05:44:53.609Z"
   },
   {
    "duration": 128,
    "start_time": "2023-11-04T05:45:24.424Z"
   },
   {
    "duration": 145,
    "start_time": "2023-11-04T05:45:32.194Z"
   },
   {
    "duration": 105,
    "start_time": "2023-11-04T05:45:41.992Z"
   },
   {
    "duration": 226,
    "start_time": "2023-11-04T05:45:56.676Z"
   },
   {
    "duration": 2579,
    "start_time": "2023-11-04T05:48:24.332Z"
   },
   {
    "duration": 1134,
    "start_time": "2023-11-04T05:48:26.913Z"
   },
   {
    "duration": 1166,
    "start_time": "2023-11-04T05:48:28.049Z"
   },
   {
    "duration": 12,
    "start_time": "2023-11-04T05:48:29.216Z"
   },
   {
    "duration": 9,
    "start_time": "2023-11-04T05:48:29.230Z"
   },
   {
    "duration": 27,
    "start_time": "2023-11-04T05:48:29.241Z"
   },
   {
    "duration": 21,
    "start_time": "2023-11-04T05:48:29.269Z"
   },
   {
    "duration": 22,
    "start_time": "2023-11-04T05:48:29.292Z"
   },
   {
    "duration": 86,
    "start_time": "2023-11-04T05:48:29.316Z"
   },
   {
    "duration": 324,
    "start_time": "2023-11-04T05:48:29.404Z"
   },
   {
    "duration": 10,
    "start_time": "2023-11-04T05:48:29.730Z"
   },
   {
    "duration": 12,
    "start_time": "2023-11-04T05:48:29.742Z"
   },
   {
    "duration": 22,
    "start_time": "2023-11-04T05:48:29.756Z"
   },
   {
    "duration": 81,
    "start_time": "2023-11-04T05:48:29.781Z"
   },
   {
    "duration": 115,
    "start_time": "2023-11-04T05:48:29.864Z"
   },
   {
    "duration": 374,
    "start_time": "2023-11-04T05:48:29.981Z"
   },
   {
    "duration": 502,
    "start_time": "2023-11-04T05:48:30.356Z"
   },
   {
    "duration": 101,
    "start_time": "2023-11-04T05:48:30.860Z"
   },
   {
    "duration": 3,
    "start_time": "2023-11-04T05:48:55.250Z"
   },
   {
    "duration": 10,
    "start_time": "2023-11-04T05:48:56.211Z"
   },
   {
    "duration": 3,
    "start_time": "2023-11-04T05:51:31.849Z"
   },
   {
    "duration": 5,
    "start_time": "2023-11-04T05:51:32.460Z"
   },
   {
    "duration": 2192,
    "start_time": "2023-11-04T05:51:41.898Z"
   },
   {
    "duration": 1186,
    "start_time": "2023-11-04T05:51:44.092Z"
   },
   {
    "duration": 1066,
    "start_time": "2023-11-04T05:51:45.279Z"
   },
   {
    "duration": 11,
    "start_time": "2023-11-04T05:51:46.347Z"
   },
   {
    "duration": 13,
    "start_time": "2023-11-04T05:51:46.360Z"
   },
   {
    "duration": 13,
    "start_time": "2023-11-04T05:51:46.375Z"
   },
   {
    "duration": 7,
    "start_time": "2023-11-04T05:51:46.390Z"
   },
   {
    "duration": 7,
    "start_time": "2023-11-04T05:51:46.399Z"
   },
   {
    "duration": 79,
    "start_time": "2023-11-04T05:51:46.408Z"
   },
   {
    "duration": 341,
    "start_time": "2023-11-04T05:51:46.489Z"
   },
   {
    "duration": 11,
    "start_time": "2023-11-04T05:51:46.831Z"
   },
   {
    "duration": 13,
    "start_time": "2023-11-04T05:51:46.843Z"
   },
   {
    "duration": 25,
    "start_time": "2023-11-04T05:51:46.858Z"
   },
   {
    "duration": 80,
    "start_time": "2023-11-04T05:51:46.886Z"
   },
   {
    "duration": 120,
    "start_time": "2023-11-04T05:51:46.968Z"
   },
   {
    "duration": 342,
    "start_time": "2023-11-04T05:51:47.090Z"
   },
   {
    "duration": 511,
    "start_time": "2023-11-04T05:51:47.434Z"
   },
   {
    "duration": 3,
    "start_time": "2023-11-04T05:51:47.947Z"
   },
   {
    "duration": 6,
    "start_time": "2023-11-04T05:51:47.952Z"
   },
   {
    "duration": 101,
    "start_time": "2023-11-04T06:00:06.430Z"
   },
   {
    "duration": 1287,
    "start_time": "2023-11-04T06:01:40.939Z"
   },
   {
    "duration": 8,
    "start_time": "2023-11-04T06:03:48.046Z"
   },
   {
    "duration": 8,
    "start_time": "2023-11-04T06:04:34.839Z"
   },
   {
    "duration": 10,
    "start_time": "2023-11-04T06:04:55.169Z"
   },
   {
    "duration": 9,
    "start_time": "2023-11-04T06:05:17.866Z"
   },
   {
    "duration": 104,
    "start_time": "2023-11-04T06:11:44.269Z"
   },
   {
    "duration": 11,
    "start_time": "2023-11-04T06:25:00.093Z"
   },
   {
    "duration": 2242,
    "start_time": "2023-11-04T06:25:20.737Z"
   },
   {
    "duration": 1170,
    "start_time": "2023-11-04T06:25:22.981Z"
   },
   {
    "duration": 1576,
    "start_time": "2023-11-04T06:25:24.153Z"
   },
   {
    "duration": 13,
    "start_time": "2023-11-04T06:25:25.731Z"
   },
   {
    "duration": 9,
    "start_time": "2023-11-04T06:25:25.746Z"
   },
   {
    "duration": 28,
    "start_time": "2023-11-04T06:25:25.757Z"
   },
   {
    "duration": 14,
    "start_time": "2023-11-04T06:25:25.787Z"
   },
   {
    "duration": 27,
    "start_time": "2023-11-04T06:25:25.802Z"
   },
   {
    "duration": 109,
    "start_time": "2023-11-04T06:25:25.831Z"
   },
   {
    "duration": 95,
    "start_time": "2023-11-04T06:25:25.942Z"
   },
   {
    "duration": 326,
    "start_time": "2023-11-04T06:25:26.039Z"
   },
   {
    "duration": 9,
    "start_time": "2023-11-04T06:25:26.367Z"
   },
   {
    "duration": 25,
    "start_time": "2023-11-04T06:25:26.378Z"
   },
   {
    "duration": 18,
    "start_time": "2023-11-04T06:25:26.405Z"
   },
   {
    "duration": 81,
    "start_time": "2023-11-04T06:25:26.424Z"
   },
   {
    "duration": 125,
    "start_time": "2023-11-04T06:25:26.506Z"
   },
   {
    "duration": 359,
    "start_time": "2023-11-04T06:25:26.633Z"
   },
   {
    "duration": 494,
    "start_time": "2023-11-04T06:25:26.994Z"
   },
   {
    "duration": 2,
    "start_time": "2023-11-04T06:25:27.490Z"
   },
   {
    "duration": 94,
    "start_time": "2023-11-04T11:26:45.340Z"
   },
   {
    "duration": 3732,
    "start_time": "2023-11-04T11:26:55.172Z"
   },
   {
    "duration": 1770,
    "start_time": "2023-11-04T11:26:58.907Z"
   },
   {
    "duration": 1847,
    "start_time": "2023-11-04T11:27:00.680Z"
   },
   {
    "duration": 29,
    "start_time": "2023-11-04T11:27:02.529Z"
   },
   {
    "duration": 32,
    "start_time": "2023-11-04T11:27:02.562Z"
   },
   {
    "duration": 33,
    "start_time": "2023-11-04T11:27:02.595Z"
   },
   {
    "duration": 35,
    "start_time": "2023-11-04T11:27:02.630Z"
   },
   {
    "duration": 44,
    "start_time": "2023-11-04T11:27:02.667Z"
   },
   {
    "duration": 228,
    "start_time": "2023-11-04T11:27:02.713Z"
   },
   {
    "duration": 52,
    "start_time": "2023-11-04T11:27:02.943Z"
   },
   {
    "duration": 186,
    "start_time": "2023-11-04T11:27:02.998Z"
   },
   {
    "duration": 413,
    "start_time": "2023-11-04T11:27:03.190Z"
   },
   {
    "duration": 15,
    "start_time": "2023-11-04T11:27:03.605Z"
   },
   {
    "duration": 6,
    "start_time": "2023-11-04T11:27:03.622Z"
   },
   {
    "duration": 52,
    "start_time": "2023-11-04T11:27:03.630Z"
   },
   {
    "duration": 176,
    "start_time": "2023-11-04T11:27:03.685Z"
   },
   {
    "duration": 204,
    "start_time": "2023-11-04T11:27:03.864Z"
   },
   {
    "duration": 528,
    "start_time": "2023-11-04T11:27:04.070Z"
   },
   {
    "duration": 851,
    "start_time": "2023-11-04T11:27:04.599Z"
   },
   {
    "duration": 15,
    "start_time": "2023-11-04T11:27:05.467Z"
   },
   {
    "duration": 8,
    "start_time": "2023-11-04T11:28:59.474Z"
   },
   {
    "duration": 6,
    "start_time": "2023-11-04T11:29:16.932Z"
   },
   {
    "duration": 19,
    "start_time": "2023-11-04T11:30:17.767Z"
   },
   {
    "duration": 124,
    "start_time": "2023-11-04T11:30:40.738Z"
   },
   {
    "duration": 25,
    "start_time": "2023-11-04T11:31:29.393Z"
   },
   {
    "duration": 22,
    "start_time": "2023-11-04T11:33:37.873Z"
   },
   {
    "duration": 13,
    "start_time": "2023-11-04T11:33:38.738Z"
   },
   {
    "duration": 82,
    "start_time": "2023-11-04T11:33:40.071Z"
   },
   {
    "duration": 213,
    "start_time": "2023-11-04T11:33:40.875Z"
   },
   {
    "duration": 10,
    "start_time": "2023-11-04T11:33:44.176Z"
   },
   {
    "duration": 5,
    "start_time": "2023-11-04T11:33:46.975Z"
   },
   {
    "duration": 10,
    "start_time": "2023-11-04T11:33:47.788Z"
   },
   {
    "duration": 8,
    "start_time": "2023-11-04T11:33:50.938Z"
   },
   {
    "duration": 122,
    "start_time": "2023-11-04T11:33:54.090Z"
   },
   {
    "duration": 16,
    "start_time": "2023-11-04T11:33:54.859Z"
   },
   {
    "duration": 14,
    "start_time": "2023-11-04T11:33:56.927Z"
   },
   {
    "duration": 69,
    "start_time": "2023-11-04T11:33:57.672Z"
   },
   {
    "duration": 7,
    "start_time": "2023-11-04T11:33:59.434Z"
   },
   {
    "duration": 211,
    "start_time": "2023-11-04T11:41:31.800Z"
   },
   {
    "duration": 29,
    "start_time": "2023-11-04T11:48:20.781Z"
   },
   {
    "duration": 2128,
    "start_time": "2023-11-04T11:48:24.485Z"
   },
   {
    "duration": 2690,
    "start_time": "2023-11-04T11:49:44.672Z"
   },
   {
    "duration": 1248,
    "start_time": "2023-11-04T11:49:47.364Z"
   },
   {
    "duration": 1363,
    "start_time": "2023-11-04T11:49:48.614Z"
   },
   {
    "duration": 15,
    "start_time": "2023-11-04T11:49:49.979Z"
   },
   {
    "duration": 40,
    "start_time": "2023-11-04T11:49:49.996Z"
   },
   {
    "duration": 56,
    "start_time": "2023-11-04T11:49:50.038Z"
   },
   {
    "duration": 36,
    "start_time": "2023-11-04T11:49:50.095Z"
   },
   {
    "duration": 47,
    "start_time": "2023-11-04T11:49:50.133Z"
   },
   {
    "duration": 140,
    "start_time": "2023-11-04T11:49:50.183Z"
   },
   {
    "duration": 296,
    "start_time": "2023-11-04T11:49:50.325Z"
   },
   {
    "duration": 6,
    "start_time": "2023-11-04T11:49:50.623Z"
   },
   {
    "duration": 111,
    "start_time": "2023-11-04T11:49:50.630Z"
   },
   {
    "duration": 350,
    "start_time": "2023-11-04T11:49:50.744Z"
   },
   {
    "duration": 14,
    "start_time": "2023-11-04T11:49:51.099Z"
   },
   {
    "duration": 57,
    "start_time": "2023-11-04T11:49:51.114Z"
   },
   {
    "duration": 53,
    "start_time": "2023-11-04T11:49:51.175Z"
   },
   {
    "duration": 43,
    "start_time": "2023-11-04T11:49:51.230Z"
   },
   {
    "duration": 130,
    "start_time": "2023-11-04T11:49:51.276Z"
   },
   {
    "duration": 6,
    "start_time": "2023-11-04T11:49:51.408Z"
   },
   {
    "duration": 100,
    "start_time": "2023-11-04T11:49:51.416Z"
   },
   {
    "duration": 78,
    "start_time": "2023-11-04T11:49:51.517Z"
   },
   {
    "duration": 6,
    "start_time": "2023-11-04T11:49:51.596Z"
   },
   {
    "duration": 159,
    "start_time": "2023-11-04T11:49:51.604Z"
   },
   {
    "duration": 0,
    "start_time": "2023-11-04T11:49:51.765Z"
   },
   {
    "duration": 0,
    "start_time": "2023-11-04T11:49:51.771Z"
   },
   {
    "duration": 0,
    "start_time": "2023-11-04T11:49:51.772Z"
   },
   {
    "duration": 377,
    "start_time": "2023-11-04T11:50:36.494Z"
   },
   {
    "duration": 13,
    "start_time": "2023-11-04T11:51:16.698Z"
   },
   {
    "duration": 27,
    "start_time": "2023-11-04T11:52:58.874Z"
   },
   {
    "duration": 17,
    "start_time": "2023-11-04T11:55:54.578Z"
   },
   {
    "duration": 35,
    "start_time": "2023-11-04T11:57:40.564Z"
   },
   {
    "duration": 2259,
    "start_time": "2023-11-04T11:58:22.173Z"
   },
   {
    "duration": 1189,
    "start_time": "2023-11-04T11:58:24.436Z"
   },
   {
    "duration": 1313,
    "start_time": "2023-11-04T11:58:25.627Z"
   },
   {
    "duration": 15,
    "start_time": "2023-11-04T11:58:26.942Z"
   },
   {
    "duration": 15,
    "start_time": "2023-11-04T11:58:26.961Z"
   },
   {
    "duration": 44,
    "start_time": "2023-11-04T11:58:26.977Z"
   },
   {
    "duration": 52,
    "start_time": "2023-11-04T11:58:27.022Z"
   },
   {
    "duration": 31,
    "start_time": "2023-11-04T11:58:27.076Z"
   },
   {
    "duration": 161,
    "start_time": "2023-11-04T11:58:27.109Z"
   },
   {
    "duration": 282,
    "start_time": "2023-11-04T11:58:27.274Z"
   },
   {
    "duration": 16,
    "start_time": "2023-11-04T11:58:27.558Z"
   },
   {
    "duration": 119,
    "start_time": "2023-11-04T11:58:27.576Z"
   },
   {
    "duration": 286,
    "start_time": "2023-11-04T11:58:27.697Z"
   },
   {
    "duration": 9,
    "start_time": "2023-11-04T11:58:27.985Z"
   },
   {
    "duration": 14,
    "start_time": "2023-11-04T11:58:27.995Z"
   },
   {
    "duration": 14,
    "start_time": "2023-11-04T11:58:28.011Z"
   },
   {
    "duration": 20,
    "start_time": "2023-11-04T11:58:28.027Z"
   },
   {
    "duration": 126,
    "start_time": "2023-11-04T11:58:28.048Z"
   },
   {
    "duration": 5,
    "start_time": "2023-11-04T11:58:28.175Z"
   },
   {
    "duration": 89,
    "start_time": "2023-11-04T11:58:28.181Z"
   },
   {
    "duration": 49,
    "start_time": "2023-11-04T11:58:28.272Z"
   },
   {
    "duration": 5,
    "start_time": "2023-11-04T11:58:28.322Z"
   },
   {
    "duration": 354,
    "start_time": "2023-11-04T11:58:28.347Z"
   },
   {
    "duration": 582,
    "start_time": "2023-11-04T11:58:28.702Z"
   },
   {
    "duration": 13,
    "start_time": "2023-11-04T11:58:29.285Z"
   },
   {
    "duration": 17,
    "start_time": "2023-11-04T11:58:29.300Z"
   },
   {
    "duration": 157,
    "start_time": "2023-11-04T11:58:29.318Z"
   },
   {
    "duration": 0,
    "start_time": "2023-11-04T11:58:29.477Z"
   },
   {
    "duration": 18,
    "start_time": "2023-11-04T12:00:00.735Z"
   },
   {
    "duration": 16,
    "start_time": "2023-11-04T12:00:23.754Z"
   },
   {
    "duration": 20,
    "start_time": "2023-11-04T12:00:32.763Z"
   },
   {
    "duration": 4,
    "start_time": "2023-11-04T12:07:09.041Z"
   },
   {
    "duration": 19,
    "start_time": "2023-11-04T12:08:29.192Z"
   },
   {
    "duration": 8,
    "start_time": "2023-11-04T12:08:44.871Z"
   },
   {
    "duration": 16,
    "start_time": "2023-11-04T12:09:24.753Z"
   },
   {
    "duration": 19,
    "start_time": "2023-11-04T12:11:47.921Z"
   },
   {
    "duration": 22,
    "start_time": "2023-11-04T12:15:04.996Z"
   },
   {
    "duration": 27,
    "start_time": "2023-11-04T12:15:23.244Z"
   },
   {
    "duration": 9,
    "start_time": "2023-11-04T12:16:28.386Z"
   },
   {
    "duration": 35,
    "start_time": "2023-11-04T12:17:54.122Z"
   },
   {
    "duration": 9,
    "start_time": "2023-11-04T12:18:38.366Z"
   },
   {
    "duration": 137,
    "start_time": "2023-11-04T12:19:10.930Z"
   },
   {
    "duration": 33,
    "start_time": "2023-11-04T12:19:13.112Z"
   },
   {
    "duration": 43,
    "start_time": "2023-11-04T12:20:07.596Z"
   },
   {
    "duration": 1382,
    "start_time": "2023-11-04T12:28:47.894Z"
   },
   {
    "duration": 345,
    "start_time": "2023-11-04T12:29:10.643Z"
   },
   {
    "duration": 1744,
    "start_time": "2023-11-04T12:29:33.293Z"
   },
   {
    "duration": 420,
    "start_time": "2023-11-04T12:29:43.640Z"
   },
   {
    "duration": 66,
    "start_time": "2023-11-04T12:36:20.696Z"
   },
   {
    "duration": 146,
    "start_time": "2023-11-04T12:36:52.143Z"
   },
   {
    "duration": 1469,
    "start_time": "2023-11-04T13:07:45.463Z"
   },
   {
    "duration": 84,
    "start_time": "2023-11-04T13:08:12.522Z"
   },
   {
    "duration": 70,
    "start_time": "2023-11-04T13:08:28.522Z"
   },
   {
    "duration": 1386,
    "start_time": "2023-11-04T13:08:33.730Z"
   },
   {
    "duration": 2155,
    "start_time": "2023-11-04T13:10:51.640Z"
   },
   {
    "duration": 1116,
    "start_time": "2023-11-04T13:10:53.798Z"
   },
   {
    "duration": 1079,
    "start_time": "2023-11-04T13:10:54.916Z"
   },
   {
    "duration": 12,
    "start_time": "2023-11-04T13:10:55.997Z"
   },
   {
    "duration": 17,
    "start_time": "2023-11-04T13:10:56.011Z"
   },
   {
    "duration": 15,
    "start_time": "2023-11-04T13:10:56.030Z"
   },
   {
    "duration": 28,
    "start_time": "2023-11-04T13:10:56.047Z"
   },
   {
    "duration": 23,
    "start_time": "2023-11-04T13:10:56.076Z"
   },
   {
    "duration": 110,
    "start_time": "2023-11-04T13:10:56.100Z"
   },
   {
    "duration": 237,
    "start_time": "2023-11-04T13:10:56.212Z"
   },
   {
    "duration": 6,
    "start_time": "2023-11-04T13:10:56.451Z"
   },
   {
    "duration": 87,
    "start_time": "2023-11-04T13:10:56.459Z"
   },
   {
    "duration": 247,
    "start_time": "2023-11-04T13:10:56.547Z"
   },
   {
    "duration": 9,
    "start_time": "2023-11-04T13:10:56.796Z"
   },
   {
    "duration": 4,
    "start_time": "2023-11-04T13:10:56.807Z"
   },
   {
    "duration": 10,
    "start_time": "2023-11-04T13:10:56.813Z"
   },
   {
    "duration": 23,
    "start_time": "2023-11-04T13:10:56.824Z"
   },
   {
    "duration": 113,
    "start_time": "2023-11-04T13:10:56.849Z"
   },
   {
    "duration": 5,
    "start_time": "2023-11-04T13:10:56.964Z"
   },
   {
    "duration": 70,
    "start_time": "2023-11-04T13:10:56.971Z"
   },
   {
    "duration": 48,
    "start_time": "2023-11-04T13:10:57.043Z"
   },
   {
    "duration": 6,
    "start_time": "2023-11-04T13:10:57.092Z"
   },
   {
    "duration": 336,
    "start_time": "2023-11-04T13:10:57.099Z"
   },
   {
    "duration": 494,
    "start_time": "2023-11-04T13:10:57.437Z"
   },
   {
    "duration": 20,
    "start_time": "2023-11-04T13:10:57.934Z"
   },
   {
    "duration": 10,
    "start_time": "2023-11-04T13:10:57.956Z"
   },
   {
    "duration": 28,
    "start_time": "2023-11-04T13:10:57.968Z"
   },
   {
    "duration": 18,
    "start_time": "2023-11-04T13:10:57.998Z"
   },
   {
    "duration": 26,
    "start_time": "2023-11-04T13:10:58.018Z"
   },
   {
    "duration": 134,
    "start_time": "2023-11-04T13:10:58.047Z"
   },
   {
    "duration": 40,
    "start_time": "2023-11-04T13:10:58.183Z"
   },
   {
    "duration": 74,
    "start_time": "2023-11-04T13:10:58.225Z"
   },
   {
    "duration": 96,
    "start_time": "2023-11-04T13:10:58.301Z"
   },
   {
    "duration": 81,
    "start_time": "2023-11-04T13:10:58.399Z"
   },
   {
    "duration": 2263,
    "start_time": "2023-11-04T13:10:58.482Z"
   },
   {
    "duration": 46,
    "start_time": "2023-11-04T22:55:19.118Z"
   },
   {
    "duration": 2397,
    "start_time": "2023-11-04T22:55:33.109Z"
   },
   {
    "duration": 1319,
    "start_time": "2023-11-04T22:55:35.508Z"
   },
   {
    "duration": 1408,
    "start_time": "2023-11-04T22:55:36.829Z"
   },
   {
    "duration": 11,
    "start_time": "2023-11-04T22:55:38.239Z"
   },
   {
    "duration": 7,
    "start_time": "2023-11-04T22:55:38.251Z"
   },
   {
    "duration": 8,
    "start_time": "2023-11-04T22:55:38.260Z"
   },
   {
    "duration": 8,
    "start_time": "2023-11-04T22:55:38.269Z"
   },
   {
    "duration": 7,
    "start_time": "2023-11-04T22:55:38.278Z"
   },
   {
    "duration": 109,
    "start_time": "2023-11-04T22:55:38.286Z"
   },
   {
    "duration": 230,
    "start_time": "2023-11-04T22:55:38.397Z"
   },
   {
    "duration": 6,
    "start_time": "2023-11-04T22:55:38.628Z"
   },
   {
    "duration": 84,
    "start_time": "2023-11-04T22:55:38.636Z"
   },
   {
    "duration": 294,
    "start_time": "2023-11-04T22:55:38.721Z"
   },
   {
    "duration": 9,
    "start_time": "2023-11-04T22:55:39.017Z"
   },
   {
    "duration": 4,
    "start_time": "2023-11-04T22:55:39.028Z"
   },
   {
    "duration": 15,
    "start_time": "2023-11-04T22:55:39.033Z"
   },
   {
    "duration": 9,
    "start_time": "2023-11-04T22:55:39.049Z"
   },
   {
    "duration": 136,
    "start_time": "2023-11-04T22:55:39.060Z"
   },
   {
    "duration": 9,
    "start_time": "2023-11-04T22:55:39.198Z"
   },
   {
    "duration": 71,
    "start_time": "2023-11-04T22:55:39.208Z"
   },
   {
    "duration": 57,
    "start_time": "2023-11-04T22:55:39.281Z"
   },
   {
    "duration": 6,
    "start_time": "2023-11-04T22:55:39.339Z"
   },
   {
    "duration": 349,
    "start_time": "2023-11-04T22:55:39.347Z"
   },
   {
    "duration": 511,
    "start_time": "2023-11-04T22:55:39.697Z"
   },
   {
    "duration": 13,
    "start_time": "2023-11-04T22:55:40.210Z"
   },
   {
    "duration": 11,
    "start_time": "2023-11-04T22:55:40.225Z"
   },
   {
    "duration": 17,
    "start_time": "2023-11-04T22:55:40.238Z"
   },
   {
    "duration": 20,
    "start_time": "2023-11-04T22:55:40.258Z"
   },
   {
    "duration": 43,
    "start_time": "2023-11-04T22:55:40.280Z"
   },
   {
    "duration": 153,
    "start_time": "2023-11-04T22:55:40.325Z"
   },
   {
    "duration": 48,
    "start_time": "2023-11-04T22:55:40.480Z"
   },
   {
    "duration": 56,
    "start_time": "2023-11-04T22:55:40.530Z"
   },
   {
    "duration": 34,
    "start_time": "2023-11-04T22:55:40.588Z"
   },
   {
    "duration": 95,
    "start_time": "2023-11-04T22:55:40.623Z"
   },
   {
    "duration": 69,
    "start_time": "2023-11-04T22:55:40.720Z"
   },
   {
    "duration": 1335,
    "start_time": "2023-11-04T22:55:40.791Z"
   },
   {
    "duration": 6,
    "start_time": "2023-11-04T22:59:23.403Z"
   },
   {
    "duration": 89,
    "start_time": "2023-11-04T23:00:00.206Z"
   },
   {
    "duration": 79,
    "start_time": "2023-11-04T23:00:20.333Z"
   },
   {
    "duration": 9,
    "start_time": "2023-11-04T23:00:33.465Z"
   },
   {
    "duration": 5,
    "start_time": "2023-11-04T23:00:45.981Z"
   },
   {
    "duration": 11,
    "start_time": "2023-11-04T23:02:14.865Z"
   },
   {
    "duration": 17,
    "start_time": "2023-11-04T23:04:23.597Z"
   },
   {
    "duration": 22,
    "start_time": "2023-11-04T23:04:48.533Z"
   },
   {
    "duration": 18,
    "start_time": "2023-11-04T23:05:34.859Z"
   },
   {
    "duration": 12,
    "start_time": "2023-11-04T23:05:43.368Z"
   },
   {
    "duration": 152,
    "start_time": "2023-11-04T23:16:32.433Z"
   },
   {
    "duration": 166,
    "start_time": "2023-11-04T23:16:38.690Z"
   },
   {
    "duration": 327,
    "start_time": "2023-11-04T23:16:43.166Z"
   },
   {
    "duration": 17,
    "start_time": "2023-11-04T23:16:48.713Z"
   },
   {
    "duration": 30,
    "start_time": "2023-11-04T23:16:54.036Z"
   },
   {
    "duration": 9,
    "start_time": "2023-11-04T23:18:15.704Z"
   },
   {
    "duration": 2194,
    "start_time": "2023-11-04T23:18:29.844Z"
   },
   {
    "duration": 1065,
    "start_time": "2023-11-04T23:18:32.040Z"
   },
   {
    "duration": 1579,
    "start_time": "2023-11-04T23:18:33.107Z"
   },
   {
    "duration": 11,
    "start_time": "2023-11-04T23:18:34.688Z"
   },
   {
    "duration": 8,
    "start_time": "2023-11-04T23:18:34.700Z"
   },
   {
    "duration": 16,
    "start_time": "2023-11-04T23:18:34.709Z"
   },
   {
    "duration": 19,
    "start_time": "2023-11-04T23:18:34.727Z"
   },
   {
    "duration": 35,
    "start_time": "2023-11-04T23:18:34.747Z"
   },
   {
    "duration": 103,
    "start_time": "2023-11-04T23:18:34.783Z"
   },
   {
    "duration": 224,
    "start_time": "2023-11-04T23:18:34.889Z"
   },
   {
    "duration": 7,
    "start_time": "2023-11-04T23:18:35.115Z"
   },
   {
    "duration": 88,
    "start_time": "2023-11-04T23:18:35.124Z"
   },
   {
    "duration": 270,
    "start_time": "2023-11-04T23:18:35.214Z"
   },
   {
    "duration": 9,
    "start_time": "2023-11-04T23:18:35.485Z"
   },
   {
    "duration": 4,
    "start_time": "2023-11-04T23:18:35.508Z"
   },
   {
    "duration": 23,
    "start_time": "2023-11-04T23:18:35.514Z"
   },
   {
    "duration": 8,
    "start_time": "2023-11-04T23:18:35.539Z"
   },
   {
    "duration": 101,
    "start_time": "2023-11-04T23:18:35.548Z"
   },
   {
    "duration": 11,
    "start_time": "2023-11-04T23:18:35.650Z"
   },
   {
    "duration": 84,
    "start_time": "2023-11-04T23:18:35.662Z"
   },
   {
    "duration": 46,
    "start_time": "2023-11-04T23:18:35.747Z"
   },
   {
    "duration": 16,
    "start_time": "2023-11-04T23:18:35.794Z"
   },
   {
    "duration": 383,
    "start_time": "2023-11-04T23:18:35.812Z"
   },
   {
    "duration": 486,
    "start_time": "2023-11-04T23:18:36.197Z"
   },
   {
    "duration": 13,
    "start_time": "2023-11-04T23:18:36.685Z"
   },
   {
    "duration": 2,
    "start_time": "2023-11-04T23:18:36.707Z"
   },
   {
    "duration": 23,
    "start_time": "2023-11-04T23:18:36.711Z"
   },
   {
    "duration": 20,
    "start_time": "2023-11-04T23:18:36.737Z"
   },
   {
    "duration": 20,
    "start_time": "2023-11-04T23:18:36.759Z"
   },
   {
    "duration": 166,
    "start_time": "2023-11-04T23:18:36.780Z"
   },
   {
    "duration": 39,
    "start_time": "2023-11-04T23:18:36.948Z"
   },
   {
    "duration": 74,
    "start_time": "2023-11-04T23:18:36.989Z"
   },
   {
    "duration": 27,
    "start_time": "2023-11-04T23:18:37.064Z"
   },
   {
    "duration": 105,
    "start_time": "2023-11-04T23:18:37.106Z"
   },
   {
    "duration": 95,
    "start_time": "2023-11-04T23:18:37.212Z"
   },
   {
    "duration": 98,
    "start_time": "2023-11-04T23:18:37.309Z"
   },
   {
    "duration": 79,
    "start_time": "2023-11-04T23:18:37.409Z"
   },
   {
    "duration": 19,
    "start_time": "2023-11-04T23:18:37.490Z"
   },
   {
    "duration": 27,
    "start_time": "2023-11-04T23:18:37.511Z"
   },
   {
    "duration": 28,
    "start_time": "2023-11-04T23:18:37.540Z"
   },
   {
    "duration": 25,
    "start_time": "2023-11-04T23:18:37.570Z"
   },
   {
    "duration": 17,
    "start_time": "2023-11-04T23:18:37.597Z"
   },
   {
    "duration": 13,
    "start_time": "2023-11-04T23:18:37.615Z"
   },
   {
    "duration": 160,
    "start_time": "2023-11-04T23:18:37.630Z"
   },
   {
    "duration": 172,
    "start_time": "2023-11-04T23:18:37.792Z"
   },
   {
    "duration": 102,
    "start_time": "2023-11-04T23:18:37.965Z"
   },
   {
    "duration": 0,
    "start_time": "2023-11-04T23:18:38.069Z"
   },
   {
    "duration": 0,
    "start_time": "2023-11-04T23:18:38.070Z"
   },
   {
    "duration": 12,
    "start_time": "2023-11-04T23:23:15.866Z"
   },
   {
    "duration": 13,
    "start_time": "2023-11-04T23:24:49.243Z"
   },
   {
    "duration": 18,
    "start_time": "2023-11-04T23:24:55.041Z"
   },
   {
    "duration": 28,
    "start_time": "2023-11-04T23:24:58.075Z"
   },
   {
    "duration": 2131,
    "start_time": "2023-11-04T23:26:44.642Z"
   },
   {
    "duration": 1131,
    "start_time": "2023-11-04T23:26:46.776Z"
   },
   {
    "duration": 1252,
    "start_time": "2023-11-04T23:26:47.909Z"
   },
   {
    "duration": 13,
    "start_time": "2023-11-04T23:26:49.162Z"
   },
   {
    "duration": 11,
    "start_time": "2023-11-04T23:26:49.178Z"
   },
   {
    "duration": 10,
    "start_time": "2023-11-04T23:26:49.190Z"
   },
   {
    "duration": 16,
    "start_time": "2023-11-04T23:26:49.201Z"
   },
   {
    "duration": 23,
    "start_time": "2023-11-04T23:26:49.218Z"
   },
   {
    "duration": 100,
    "start_time": "2023-11-04T23:26:49.242Z"
   },
   {
    "duration": 223,
    "start_time": "2023-11-04T23:26:49.344Z"
   },
   {
    "duration": 6,
    "start_time": "2023-11-04T23:26:49.569Z"
   },
   {
    "duration": 83,
    "start_time": "2023-11-04T23:26:49.576Z"
   },
   {
    "duration": 267,
    "start_time": "2023-11-04T23:26:49.660Z"
   },
   {
    "duration": 9,
    "start_time": "2023-11-04T23:26:49.930Z"
   },
   {
    "duration": 4,
    "start_time": "2023-11-04T23:26:49.941Z"
   },
   {
    "duration": 10,
    "start_time": "2023-11-04T23:26:49.947Z"
   },
   {
    "duration": 6,
    "start_time": "2023-11-04T23:26:49.958Z"
   },
   {
    "duration": 151,
    "start_time": "2023-11-04T23:26:49.965Z"
   },
   {
    "duration": 5,
    "start_time": "2023-11-04T23:26:50.117Z"
   },
   {
    "duration": 64,
    "start_time": "2023-11-04T23:26:50.123Z"
   },
   {
    "duration": 61,
    "start_time": "2023-11-04T23:26:50.189Z"
   },
   {
    "duration": 6,
    "start_time": "2023-11-04T23:26:50.251Z"
   },
   {
    "duration": 325,
    "start_time": "2023-11-04T23:26:50.258Z"
   },
   {
    "duration": 492,
    "start_time": "2023-11-04T23:26:50.584Z"
   },
   {
    "duration": 13,
    "start_time": "2023-11-04T23:26:51.078Z"
   },
   {
    "duration": 15,
    "start_time": "2023-11-04T23:26:51.092Z"
   },
   {
    "duration": 34,
    "start_time": "2023-11-04T23:26:51.108Z"
   },
   {
    "duration": 19,
    "start_time": "2023-11-04T23:26:51.143Z"
   },
   {
    "duration": 23,
    "start_time": "2023-11-04T23:26:51.163Z"
   },
   {
    "duration": 138,
    "start_time": "2023-11-04T23:26:51.188Z"
   },
   {
    "duration": 37,
    "start_time": "2023-11-04T23:26:51.327Z"
   },
   {
    "duration": 76,
    "start_time": "2023-11-04T23:26:51.366Z"
   },
   {
    "duration": 17,
    "start_time": "2023-11-04T23:26:51.444Z"
   },
   {
    "duration": 86,
    "start_time": "2023-11-04T23:26:51.462Z"
   },
   {
    "duration": 74,
    "start_time": "2023-11-04T23:26:51.549Z"
   },
   {
    "duration": 86,
    "start_time": "2023-11-04T23:26:51.625Z"
   },
   {
    "duration": 73,
    "start_time": "2023-11-04T23:26:51.713Z"
   },
   {
    "duration": 23,
    "start_time": "2023-11-04T23:26:51.787Z"
   },
   {
    "duration": 9,
    "start_time": "2023-11-04T23:26:51.812Z"
   },
   {
    "duration": 37,
    "start_time": "2023-11-04T23:26:51.822Z"
   },
   {
    "duration": 25,
    "start_time": "2023-11-04T23:26:51.863Z"
   },
   {
    "duration": 18,
    "start_time": "2023-11-04T23:26:51.890Z"
   },
   {
    "duration": 13,
    "start_time": "2023-11-04T23:26:51.909Z"
   },
   {
    "duration": 165,
    "start_time": "2023-11-04T23:26:51.924Z"
   },
   {
    "duration": 175,
    "start_time": "2023-11-04T23:26:52.091Z"
   },
   {
    "duration": 11,
    "start_time": "2023-11-04T23:26:52.269Z"
   },
   {
    "duration": 36,
    "start_time": "2023-11-04T23:26:52.283Z"
   },
   {
    "duration": 36,
    "start_time": "2023-11-04T23:26:52.321Z"
   },
   {
    "duration": 2089,
    "start_time": "2023-11-04T23:28:37.841Z"
   },
   {
    "duration": 1063,
    "start_time": "2023-11-04T23:28:39.932Z"
   },
   {
    "duration": 1325,
    "start_time": "2023-11-04T23:28:40.997Z"
   },
   {
    "duration": 11,
    "start_time": "2023-11-04T23:28:42.324Z"
   },
   {
    "duration": 7,
    "start_time": "2023-11-04T23:28:42.337Z"
   },
   {
    "duration": 11,
    "start_time": "2023-11-04T23:28:42.345Z"
   },
   {
    "duration": 6,
    "start_time": "2023-11-04T23:28:42.358Z"
   },
   {
    "duration": 8,
    "start_time": "2023-11-04T23:28:42.365Z"
   },
   {
    "duration": 116,
    "start_time": "2023-11-04T23:28:42.374Z"
   },
   {
    "duration": 226,
    "start_time": "2023-11-04T23:28:42.491Z"
   },
   {
    "duration": 6,
    "start_time": "2023-11-04T23:28:42.718Z"
   },
   {
    "duration": 82,
    "start_time": "2023-11-04T23:28:42.725Z"
   },
   {
    "duration": 240,
    "start_time": "2023-11-04T23:28:42.808Z"
   },
   {
    "duration": 10,
    "start_time": "2023-11-04T23:28:43.050Z"
   },
   {
    "duration": 11,
    "start_time": "2023-11-04T23:28:43.061Z"
   },
   {
    "duration": 27,
    "start_time": "2023-11-04T23:28:43.074Z"
   },
   {
    "duration": 21,
    "start_time": "2023-11-04T23:28:43.103Z"
   },
   {
    "duration": 131,
    "start_time": "2023-11-04T23:28:43.126Z"
   },
   {
    "duration": 5,
    "start_time": "2023-11-04T23:28:43.259Z"
   },
   {
    "duration": 73,
    "start_time": "2023-11-04T23:28:43.265Z"
   },
   {
    "duration": 45,
    "start_time": "2023-11-04T23:28:43.340Z"
   },
   {
    "duration": 6,
    "start_time": "2023-11-04T23:28:43.386Z"
   },
   {
    "duration": 324,
    "start_time": "2023-11-04T23:28:43.393Z"
   },
   {
    "duration": 471,
    "start_time": "2023-11-04T23:28:43.718Z"
   },
   {
    "duration": 19,
    "start_time": "2023-11-04T23:28:44.190Z"
   },
   {
    "duration": 12,
    "start_time": "2023-11-04T23:28:44.211Z"
   },
   {
    "duration": 22,
    "start_time": "2023-11-04T23:28:44.225Z"
   },
   {
    "duration": 18,
    "start_time": "2023-11-04T23:28:44.248Z"
   },
   {
    "duration": 20,
    "start_time": "2023-11-04T23:28:44.268Z"
   },
   {
    "duration": 142,
    "start_time": "2023-11-04T23:28:44.289Z"
   },
   {
    "duration": 39,
    "start_time": "2023-11-04T23:28:44.433Z"
   },
   {
    "duration": 70,
    "start_time": "2023-11-04T23:28:44.473Z"
   },
   {
    "duration": 18,
    "start_time": "2023-11-04T23:28:44.545Z"
   },
   {
    "duration": 94,
    "start_time": "2023-11-04T23:28:44.564Z"
   },
   {
    "duration": 74,
    "start_time": "2023-11-04T23:28:44.659Z"
   },
   {
    "duration": 89,
    "start_time": "2023-11-04T23:28:44.735Z"
   },
   {
    "duration": 66,
    "start_time": "2023-11-04T23:28:44.826Z"
   },
   {
    "duration": 8,
    "start_time": "2023-11-04T23:28:44.906Z"
   },
   {
    "duration": 13,
    "start_time": "2023-11-04T23:28:44.916Z"
   },
   {
    "duration": 38,
    "start_time": "2023-11-04T23:28:44.930Z"
   },
   {
    "duration": 30,
    "start_time": "2023-11-04T23:28:44.972Z"
   },
   {
    "duration": 58,
    "start_time": "2023-11-04T23:28:45.004Z"
   },
   {
    "duration": 39,
    "start_time": "2023-11-04T23:28:45.064Z"
   },
   {
    "duration": 170,
    "start_time": "2023-11-04T23:28:45.105Z"
   },
   {
    "duration": 178,
    "start_time": "2023-11-04T23:28:45.277Z"
   },
   {
    "duration": 10,
    "start_time": "2023-11-04T23:28:45.457Z"
   },
   {
    "duration": 22,
    "start_time": "2023-11-04T23:28:45.469Z"
   },
   {
    "duration": 48,
    "start_time": "2023-11-04T23:28:45.493Z"
   },
   {
    "duration": 2089,
    "start_time": "2023-11-04T23:32:22.739Z"
   },
   {
    "duration": 1065,
    "start_time": "2023-11-04T23:32:24.830Z"
   },
   {
    "duration": 1940,
    "start_time": "2023-11-04T23:32:25.897Z"
   },
   {
    "duration": 11,
    "start_time": "2023-11-04T23:32:27.839Z"
   },
   {
    "duration": 9,
    "start_time": "2023-11-04T23:32:27.851Z"
   },
   {
    "duration": 9,
    "start_time": "2023-11-04T23:32:27.861Z"
   },
   {
    "duration": 8,
    "start_time": "2023-11-04T23:32:27.871Z"
   },
   {
    "duration": 7,
    "start_time": "2023-11-04T23:32:27.880Z"
   },
   {
    "duration": 102,
    "start_time": "2023-11-04T23:32:27.888Z"
   },
   {
    "duration": 229,
    "start_time": "2023-11-04T23:32:27.993Z"
   },
   {
    "duration": 5,
    "start_time": "2023-11-04T23:32:28.224Z"
   },
   {
    "duration": 83,
    "start_time": "2023-11-04T23:32:28.231Z"
   },
   {
    "duration": 242,
    "start_time": "2023-11-04T23:32:28.315Z"
   },
   {
    "duration": 10,
    "start_time": "2023-11-04T23:32:28.559Z"
   },
   {
    "duration": 7,
    "start_time": "2023-11-04T23:32:28.571Z"
   },
   {
    "duration": 29,
    "start_time": "2023-11-04T23:32:28.580Z"
   },
   {
    "duration": 6,
    "start_time": "2023-11-04T23:32:28.611Z"
   },
   {
    "duration": 108,
    "start_time": "2023-11-04T23:32:28.618Z"
   },
   {
    "duration": 6,
    "start_time": "2023-11-04T23:32:28.728Z"
   },
   {
    "duration": 73,
    "start_time": "2023-11-04T23:32:28.735Z"
   },
   {
    "duration": 44,
    "start_time": "2023-11-04T23:32:28.810Z"
   },
   {
    "duration": 6,
    "start_time": "2023-11-04T23:32:28.855Z"
   },
   {
    "duration": 311,
    "start_time": "2023-11-04T23:32:28.862Z"
   },
   {
    "duration": 474,
    "start_time": "2023-11-04T23:32:29.174Z"
   },
   {
    "duration": 11,
    "start_time": "2023-11-04T23:32:29.650Z"
   },
   {
    "duration": 6,
    "start_time": "2023-11-04T23:32:29.663Z"
   },
   {
    "duration": 25,
    "start_time": "2023-11-04T23:32:29.671Z"
   },
   {
    "duration": 26,
    "start_time": "2023-11-04T23:32:29.699Z"
   },
   {
    "duration": 17,
    "start_time": "2023-11-04T23:32:29.727Z"
   },
   {
    "duration": 132,
    "start_time": "2023-11-04T23:32:29.746Z"
   },
   {
    "duration": 46,
    "start_time": "2023-11-04T23:32:29.880Z"
   },
   {
    "duration": 56,
    "start_time": "2023-11-04T23:32:29.928Z"
   },
   {
    "duration": 33,
    "start_time": "2023-11-04T23:32:29.985Z"
   },
   {
    "duration": 105,
    "start_time": "2023-11-04T23:32:30.020Z"
   },
   {
    "duration": 81,
    "start_time": "2023-11-04T23:32:30.127Z"
   },
   {
    "duration": 84,
    "start_time": "2023-11-04T23:32:30.210Z"
   },
   {
    "duration": 89,
    "start_time": "2023-11-04T23:32:30.296Z"
   },
   {
    "duration": 53,
    "start_time": "2023-11-04T23:32:30.387Z"
   },
   {
    "duration": 39,
    "start_time": "2023-11-04T23:32:30.441Z"
   },
   {
    "duration": 101,
    "start_time": "2023-11-04T23:32:30.481Z"
   },
   {
    "duration": 80,
    "start_time": "2023-11-04T23:32:30.584Z"
   },
   {
    "duration": 49,
    "start_time": "2023-11-04T23:32:30.665Z"
   },
   {
    "duration": 163,
    "start_time": "2023-11-04T23:32:30.715Z"
   },
   {
    "duration": 193,
    "start_time": "2023-11-04T23:32:30.879Z"
   },
   {
    "duration": 179,
    "start_time": "2023-11-04T23:32:31.073Z"
   },
   {
    "duration": 11,
    "start_time": "2023-11-04T23:32:31.254Z"
   },
   {
    "duration": 47,
    "start_time": "2023-11-04T23:32:31.267Z"
   },
   {
    "duration": 55,
    "start_time": "2023-11-04T23:32:31.316Z"
   },
   {
    "duration": 2141,
    "start_time": "2023-11-04T23:43:35.269Z"
   },
   {
    "duration": 1082,
    "start_time": "2023-11-04T23:43:37.413Z"
   },
   {
    "duration": 1807,
    "start_time": "2023-11-04T23:43:38.496Z"
   },
   {
    "duration": 12,
    "start_time": "2023-11-04T23:43:40.304Z"
   },
   {
    "duration": 7,
    "start_time": "2023-11-04T23:43:40.318Z"
   },
   {
    "duration": 9,
    "start_time": "2023-11-04T23:43:40.326Z"
   },
   {
    "duration": 8,
    "start_time": "2023-11-04T23:43:40.337Z"
   },
   {
    "duration": 12,
    "start_time": "2023-11-04T23:43:40.347Z"
   },
   {
    "duration": 123,
    "start_time": "2023-11-04T23:43:40.361Z"
   },
   {
    "duration": 227,
    "start_time": "2023-11-04T23:43:40.485Z"
   },
   {
    "duration": 5,
    "start_time": "2023-11-04T23:43:40.713Z"
   },
   {
    "duration": 72,
    "start_time": "2023-11-04T23:43:40.720Z"
   },
   {
    "duration": 258,
    "start_time": "2023-11-04T23:43:40.794Z"
   },
   {
    "duration": 10,
    "start_time": "2023-11-04T23:43:41.055Z"
   },
   {
    "duration": 5,
    "start_time": "2023-11-04T23:43:41.067Z"
   },
   {
    "duration": 22,
    "start_time": "2023-11-04T23:43:41.074Z"
   },
   {
    "duration": 16,
    "start_time": "2023-11-04T23:43:41.107Z"
   },
   {
    "duration": 113,
    "start_time": "2023-11-04T23:43:41.125Z"
   },
   {
    "duration": 4,
    "start_time": "2023-11-04T23:43:41.240Z"
   },
   {
    "duration": 76,
    "start_time": "2023-11-04T23:43:41.245Z"
   },
   {
    "duration": 45,
    "start_time": "2023-11-04T23:43:41.323Z"
   },
   {
    "duration": 6,
    "start_time": "2023-11-04T23:43:41.369Z"
   },
   {
    "duration": 335,
    "start_time": "2023-11-04T23:43:41.376Z"
   },
   {
    "duration": 473,
    "start_time": "2023-11-04T23:43:41.712Z"
   },
   {
    "duration": 14,
    "start_time": "2023-11-04T23:43:42.187Z"
   },
   {
    "duration": 2,
    "start_time": "2023-11-04T23:43:42.207Z"
   },
   {
    "duration": 16,
    "start_time": "2023-11-04T23:43:42.210Z"
   },
   {
    "duration": 18,
    "start_time": "2023-11-04T23:43:42.228Z"
   },
   {
    "duration": 18,
    "start_time": "2023-11-04T23:43:42.247Z"
   },
   {
    "duration": 148,
    "start_time": "2023-11-04T23:43:42.266Z"
   },
   {
    "duration": 36,
    "start_time": "2023-11-04T23:43:42.416Z"
   },
   {
    "duration": 69,
    "start_time": "2023-11-04T23:43:42.454Z"
   },
   {
    "duration": 17,
    "start_time": "2023-11-04T23:43:42.524Z"
   },
   {
    "duration": 88,
    "start_time": "2023-11-04T23:43:42.542Z"
   },
   {
    "duration": 63,
    "start_time": "2023-11-04T23:43:42.632Z"
   },
   {
    "duration": 75,
    "start_time": "2023-11-04T23:43:42.707Z"
   },
   {
    "duration": 72,
    "start_time": "2023-11-04T23:43:42.784Z"
   },
   {
    "duration": 8,
    "start_time": "2023-11-04T23:43:42.857Z"
   },
   {
    "duration": 4,
    "start_time": "2023-11-04T23:43:42.867Z"
   },
   {
    "duration": 11,
    "start_time": "2023-11-04T23:43:42.872Z"
   },
   {
    "duration": 17,
    "start_time": "2023-11-04T23:43:42.906Z"
   },
   {
    "duration": 14,
    "start_time": "2023-11-04T23:43:42.925Z"
   },
   {
    "duration": 12,
    "start_time": "2023-11-04T23:43:42.940Z"
   },
   {
    "duration": 165,
    "start_time": "2023-11-04T23:43:42.954Z"
   },
   {
    "duration": 172,
    "start_time": "2023-11-04T23:43:43.120Z"
   },
   {
    "duration": 16,
    "start_time": "2023-11-04T23:43:43.293Z"
   },
   {
    "duration": 16,
    "start_time": "2023-11-04T23:43:43.310Z"
   },
   {
    "duration": 26,
    "start_time": "2023-11-04T23:43:43.327Z"
   },
   {
    "duration": 2068,
    "start_time": "2023-11-04T23:43:58.241Z"
   },
   {
    "duration": 1101,
    "start_time": "2023-11-04T23:44:00.312Z"
   },
   {
    "duration": 1104,
    "start_time": "2023-11-04T23:44:01.415Z"
   },
   {
    "duration": 11,
    "start_time": "2023-11-04T23:44:02.521Z"
   },
   {
    "duration": 19,
    "start_time": "2023-11-04T23:44:02.534Z"
   },
   {
    "duration": 23,
    "start_time": "2023-11-04T23:44:02.555Z"
   },
   {
    "duration": 33,
    "start_time": "2023-11-04T23:44:02.580Z"
   },
   {
    "duration": 28,
    "start_time": "2023-11-04T23:44:02.615Z"
   },
   {
    "duration": 112,
    "start_time": "2023-11-04T23:44:02.644Z"
   },
   {
    "duration": 215,
    "start_time": "2023-11-04T23:44:02.758Z"
   },
   {
    "duration": 6,
    "start_time": "2023-11-04T23:44:02.974Z"
   },
   {
    "duration": 88,
    "start_time": "2023-11-04T23:44:02.981Z"
   },
   {
    "duration": 250,
    "start_time": "2023-11-04T23:44:03.070Z"
   },
   {
    "duration": 10,
    "start_time": "2023-11-04T23:44:03.323Z"
   },
   {
    "duration": 7,
    "start_time": "2023-11-04T23:44:03.334Z"
   },
   {
    "duration": 10,
    "start_time": "2023-11-04T23:44:03.343Z"
   },
   {
    "duration": 19,
    "start_time": "2023-11-04T23:44:03.355Z"
   },
   {
    "duration": 121,
    "start_time": "2023-11-04T23:44:03.376Z"
   },
   {
    "duration": 11,
    "start_time": "2023-11-04T23:44:03.498Z"
   },
   {
    "duration": 64,
    "start_time": "2023-11-04T23:44:03.510Z"
   },
   {
    "duration": 57,
    "start_time": "2023-11-04T23:44:03.575Z"
   },
   {
    "duration": 6,
    "start_time": "2023-11-04T23:44:03.633Z"
   },
   {
    "duration": 313,
    "start_time": "2023-11-04T23:44:03.640Z"
   },
   {
    "duration": 473,
    "start_time": "2023-11-04T23:44:03.954Z"
   },
   {
    "duration": 12,
    "start_time": "2023-11-04T23:44:04.428Z"
   },
   {
    "duration": 12,
    "start_time": "2023-11-04T23:44:04.441Z"
   },
   {
    "duration": 20,
    "start_time": "2023-11-04T23:44:04.454Z"
   },
   {
    "duration": 19,
    "start_time": "2023-11-04T23:44:04.475Z"
   },
   {
    "duration": 28,
    "start_time": "2023-11-04T23:44:04.495Z"
   },
   {
    "duration": 147,
    "start_time": "2023-11-04T23:44:04.525Z"
   },
   {
    "duration": 45,
    "start_time": "2023-11-04T23:44:04.674Z"
   },
   {
    "duration": 60,
    "start_time": "2023-11-04T23:44:04.720Z"
   },
   {
    "duration": 32,
    "start_time": "2023-11-04T23:44:04.782Z"
   },
   {
    "duration": 80,
    "start_time": "2023-11-04T23:44:04.816Z"
   },
   {
    "duration": 75,
    "start_time": "2023-11-04T23:44:04.898Z"
   },
   {
    "duration": 95,
    "start_time": "2023-11-04T23:44:04.974Z"
   },
   {
    "duration": 80,
    "start_time": "2023-11-04T23:44:05.070Z"
   },
   {
    "duration": 8,
    "start_time": "2023-11-04T23:44:05.152Z"
   },
   {
    "duration": 35,
    "start_time": "2023-11-04T23:44:05.162Z"
   },
   {
    "duration": 47,
    "start_time": "2023-11-04T23:44:05.199Z"
   },
   {
    "duration": 40,
    "start_time": "2023-11-04T23:44:05.249Z"
   },
   {
    "duration": 25,
    "start_time": "2023-11-04T23:44:05.291Z"
   },
   {
    "duration": 22,
    "start_time": "2023-11-04T23:44:05.318Z"
   },
   {
    "duration": 152,
    "start_time": "2023-11-04T23:44:05.341Z"
   },
   {
    "duration": 174,
    "start_time": "2023-11-04T23:44:05.495Z"
   },
   {
    "duration": 10,
    "start_time": "2023-11-04T23:44:05.671Z"
   },
   {
    "duration": 33,
    "start_time": "2023-11-04T23:44:05.683Z"
   },
   {
    "duration": 29,
    "start_time": "2023-11-04T23:44:05.717Z"
   },
   {
    "duration": 2061,
    "start_time": "2023-11-04T23:51:56.719Z"
   },
   {
    "duration": 1121,
    "start_time": "2023-11-04T23:51:58.782Z"
   },
   {
    "duration": 1330,
    "start_time": "2023-11-04T23:51:59.905Z"
   },
   {
    "duration": 11,
    "start_time": "2023-11-04T23:52:01.237Z"
   },
   {
    "duration": 35,
    "start_time": "2023-11-04T23:52:01.250Z"
   },
   {
    "duration": 32,
    "start_time": "2023-11-04T23:52:01.287Z"
   },
   {
    "duration": 33,
    "start_time": "2023-11-04T23:52:01.321Z"
   },
   {
    "duration": 39,
    "start_time": "2023-11-04T23:52:01.356Z"
   },
   {
    "duration": 125,
    "start_time": "2023-11-04T23:52:01.397Z"
   },
   {
    "duration": 233,
    "start_time": "2023-11-04T23:52:01.524Z"
   },
   {
    "duration": 6,
    "start_time": "2023-11-04T23:52:01.758Z"
   },
   {
    "duration": 121,
    "start_time": "2023-11-04T23:52:01.766Z"
   },
   {
    "duration": 252,
    "start_time": "2023-11-04T23:52:01.889Z"
   },
   {
    "duration": 10,
    "start_time": "2023-11-04T23:52:02.144Z"
   },
   {
    "duration": 34,
    "start_time": "2023-11-04T23:52:02.155Z"
   },
   {
    "duration": 33,
    "start_time": "2023-11-04T23:52:02.191Z"
   },
   {
    "duration": 32,
    "start_time": "2023-11-04T23:52:02.226Z"
   },
   {
    "duration": 119,
    "start_time": "2023-11-04T23:52:02.260Z"
   },
   {
    "duration": 67,
    "start_time": "2023-11-04T23:52:02.381Z"
   },
   {
    "duration": 89,
    "start_time": "2023-11-04T23:52:02.450Z"
   },
   {
    "duration": 45,
    "start_time": "2023-11-04T23:52:02.541Z"
   },
   {
    "duration": 20,
    "start_time": "2023-11-04T23:52:02.587Z"
   },
   {
    "duration": 306,
    "start_time": "2023-11-04T23:52:02.608Z"
   },
   {
    "duration": 474,
    "start_time": "2023-11-04T23:52:02.915Z"
   },
   {
    "duration": 19,
    "start_time": "2023-11-04T23:52:03.391Z"
   },
   {
    "duration": 20,
    "start_time": "2023-11-04T23:52:03.412Z"
   },
   {
    "duration": 25,
    "start_time": "2023-11-04T23:52:03.434Z"
   },
   {
    "duration": 21,
    "start_time": "2023-11-04T23:52:03.461Z"
   },
   {
    "duration": 27,
    "start_time": "2023-11-04T23:52:03.483Z"
   },
   {
    "duration": 156,
    "start_time": "2023-11-04T23:52:03.511Z"
   },
   {
    "duration": 47,
    "start_time": "2023-11-04T23:52:03.669Z"
   },
   {
    "duration": 56,
    "start_time": "2023-11-04T23:52:03.718Z"
   },
   {
    "duration": 32,
    "start_time": "2023-11-04T23:52:03.776Z"
   },
   {
    "duration": 82,
    "start_time": "2023-11-04T23:52:03.810Z"
   },
   {
    "duration": 79,
    "start_time": "2023-11-04T23:52:03.893Z"
   },
   {
    "duration": 88,
    "start_time": "2023-11-04T23:52:03.974Z"
   },
   {
    "duration": 88,
    "start_time": "2023-11-04T23:52:04.064Z"
   },
   {
    "duration": 8,
    "start_time": "2023-11-04T23:52:04.154Z"
   },
   {
    "duration": 9,
    "start_time": "2023-11-04T23:52:04.163Z"
   },
   {
    "duration": 48,
    "start_time": "2023-11-04T23:52:04.173Z"
   },
   {
    "duration": 29,
    "start_time": "2023-11-04T23:52:04.225Z"
   },
   {
    "duration": 16,
    "start_time": "2023-11-04T23:52:04.255Z"
   },
   {
    "duration": 12,
    "start_time": "2023-11-04T23:52:04.273Z"
   },
   {
    "duration": 151,
    "start_time": "2023-11-04T23:52:04.286Z"
   },
   {
    "duration": 171,
    "start_time": "2023-11-04T23:52:04.438Z"
   },
   {
    "duration": 10,
    "start_time": "2023-11-04T23:52:04.610Z"
   },
   {
    "duration": 19,
    "start_time": "2023-11-04T23:52:04.621Z"
   },
   {
    "duration": 29,
    "start_time": "2023-11-04T23:52:04.641Z"
   },
   {
    "duration": 2131,
    "start_time": "2023-11-05T00:01:39.744Z"
   },
   {
    "duration": 1123,
    "start_time": "2023-11-05T00:01:41.877Z"
   },
   {
    "duration": 1512,
    "start_time": "2023-11-05T00:01:43.002Z"
   },
   {
    "duration": 11,
    "start_time": "2023-11-05T00:01:44.517Z"
   },
   {
    "duration": 15,
    "start_time": "2023-11-05T00:01:44.530Z"
   },
   {
    "duration": 12,
    "start_time": "2023-11-05T00:01:44.546Z"
   },
   {
    "duration": 10,
    "start_time": "2023-11-05T00:01:44.559Z"
   },
   {
    "duration": 8,
    "start_time": "2023-11-05T00:01:44.571Z"
   },
   {
    "duration": 117,
    "start_time": "2023-11-05T00:01:44.581Z"
   },
   {
    "duration": 212,
    "start_time": "2023-11-05T00:01:44.700Z"
   },
   {
    "duration": 7,
    "start_time": "2023-11-05T00:01:44.913Z"
   },
   {
    "duration": 96,
    "start_time": "2023-11-05T00:01:44.921Z"
   },
   {
    "duration": 255,
    "start_time": "2023-11-05T00:01:45.019Z"
   },
   {
    "duration": 10,
    "start_time": "2023-11-05T00:01:45.276Z"
   },
   {
    "duration": 20,
    "start_time": "2023-11-05T00:01:45.287Z"
   },
   {
    "duration": 11,
    "start_time": "2023-11-05T00:01:45.308Z"
   },
   {
    "duration": 29,
    "start_time": "2023-11-05T00:01:45.321Z"
   },
   {
    "duration": 106,
    "start_time": "2023-11-05T00:01:45.352Z"
   },
   {
    "duration": 20,
    "start_time": "2023-11-05T00:01:45.459Z"
   },
   {
    "duration": 99,
    "start_time": "2023-11-05T00:01:45.480Z"
   },
   {
    "duration": 45,
    "start_time": "2023-11-05T00:01:45.580Z"
   },
   {
    "duration": 7,
    "start_time": "2023-11-05T00:01:45.627Z"
   },
   {
    "duration": 340,
    "start_time": "2023-11-05T00:01:45.636Z"
   },
   {
    "duration": 517,
    "start_time": "2023-11-05T00:01:45.978Z"
   },
   {
    "duration": 15,
    "start_time": "2023-11-05T00:01:46.497Z"
   },
   {
    "duration": 4,
    "start_time": "2023-11-05T00:01:46.513Z"
   },
   {
    "duration": 18,
    "start_time": "2023-11-05T00:01:46.518Z"
   },
   {
    "duration": 18,
    "start_time": "2023-11-05T00:01:46.539Z"
   },
   {
    "duration": 19,
    "start_time": "2023-11-05T00:01:46.559Z"
   },
   {
    "duration": 139,
    "start_time": "2023-11-05T00:01:46.608Z"
   },
   {
    "duration": 39,
    "start_time": "2023-11-05T00:01:46.748Z"
   },
   {
    "duration": 76,
    "start_time": "2023-11-05T00:01:46.789Z"
   },
   {
    "duration": 18,
    "start_time": "2023-11-05T00:01:46.867Z"
   },
   {
    "duration": 96,
    "start_time": "2023-11-05T00:01:46.887Z"
   },
   {
    "duration": 77,
    "start_time": "2023-11-05T00:01:46.984Z"
   },
   {
    "duration": 93,
    "start_time": "2023-11-05T00:01:47.063Z"
   },
   {
    "duration": 93,
    "start_time": "2023-11-05T00:01:47.158Z"
   },
   {
    "duration": 10,
    "start_time": "2023-11-05T00:01:47.253Z"
   },
   {
    "duration": 4,
    "start_time": "2023-11-05T00:01:47.264Z"
   },
   {
    "duration": 21,
    "start_time": "2023-11-05T00:01:47.269Z"
   },
   {
    "duration": 27,
    "start_time": "2023-11-05T00:01:47.293Z"
   },
   {
    "duration": 28,
    "start_time": "2023-11-05T00:01:47.321Z"
   },
   {
    "duration": 11,
    "start_time": "2023-11-05T00:01:47.350Z"
   },
   {
    "duration": 179,
    "start_time": "2023-11-05T00:01:47.363Z"
   },
   {
    "duration": 175,
    "start_time": "2023-11-05T00:01:47.543Z"
   },
   {
    "duration": 9,
    "start_time": "2023-11-05T00:01:47.720Z"
   },
   {
    "duration": 19,
    "start_time": "2023-11-05T00:01:47.731Z"
   },
   {
    "duration": 31,
    "start_time": "2023-11-05T00:01:47.752Z"
   },
   {
    "duration": 96,
    "start_time": "2023-11-05T09:03:43.463Z"
   },
   {
    "duration": 43,
    "start_time": "2023-11-05T09:28:49.447Z"
   },
   {
    "duration": 6,
    "start_time": "2023-11-05T09:28:57.786Z"
   },
   {
    "duration": 2654,
    "start_time": "2023-11-05T09:29:06.395Z"
   },
   {
    "duration": 1329,
    "start_time": "2023-11-05T09:29:09.052Z"
   },
   {
    "duration": 1584,
    "start_time": "2023-11-05T09:29:10.383Z"
   },
   {
    "duration": 11,
    "start_time": "2023-11-05T09:29:11.968Z"
   },
   {
    "duration": 20,
    "start_time": "2023-11-05T09:29:11.981Z"
   },
   {
    "duration": 23,
    "start_time": "2023-11-05T09:29:12.002Z"
   },
   {
    "duration": 22,
    "start_time": "2023-11-05T09:29:12.027Z"
   },
   {
    "duration": 54,
    "start_time": "2023-11-05T09:29:12.051Z"
   },
   {
    "duration": 124,
    "start_time": "2023-11-05T09:29:12.108Z"
   },
   {
    "duration": 252,
    "start_time": "2023-11-05T09:29:12.234Z"
   },
   {
    "duration": 6,
    "start_time": "2023-11-05T09:29:12.488Z"
   },
   {
    "duration": 90,
    "start_time": "2023-11-05T09:29:12.495Z"
   },
   {
    "duration": 288,
    "start_time": "2023-11-05T09:29:12.587Z"
   },
   {
    "duration": 9,
    "start_time": "2023-11-05T09:29:12.878Z"
   },
   {
    "duration": 20,
    "start_time": "2023-11-05T09:29:12.888Z"
   },
   {
    "duration": 18,
    "start_time": "2023-11-05T09:29:12.910Z"
   },
   {
    "duration": 75,
    "start_time": "2023-11-05T09:29:12.929Z"
   },
   {
    "duration": 0,
    "start_time": "2023-11-05T09:29:13.006Z"
   },
   {
    "duration": 0,
    "start_time": "2023-11-05T09:29:13.008Z"
   },
   {
    "duration": 0,
    "start_time": "2023-11-05T09:29:13.010Z"
   },
   {
    "duration": 0,
    "start_time": "2023-11-05T09:29:13.011Z"
   },
   {
    "duration": 0,
    "start_time": "2023-11-05T09:29:13.013Z"
   },
   {
    "duration": 0,
    "start_time": "2023-11-05T09:29:13.014Z"
   },
   {
    "duration": 0,
    "start_time": "2023-11-05T09:29:13.015Z"
   },
   {
    "duration": 0,
    "start_time": "2023-11-05T09:29:13.017Z"
   },
   {
    "duration": 0,
    "start_time": "2023-11-05T09:29:13.018Z"
   },
   {
    "duration": 0,
    "start_time": "2023-11-05T09:29:13.020Z"
   },
   {
    "duration": 0,
    "start_time": "2023-11-05T09:29:13.021Z"
   },
   {
    "duration": 0,
    "start_time": "2023-11-05T09:29:13.022Z"
   },
   {
    "duration": 0,
    "start_time": "2023-11-05T09:29:13.024Z"
   },
   {
    "duration": 0,
    "start_time": "2023-11-05T09:29:13.025Z"
   },
   {
    "duration": 0,
    "start_time": "2023-11-05T09:29:13.026Z"
   },
   {
    "duration": 0,
    "start_time": "2023-11-05T09:29:13.027Z"
   },
   {
    "duration": 0,
    "start_time": "2023-11-05T09:29:13.028Z"
   },
   {
    "duration": 0,
    "start_time": "2023-11-05T09:29:13.029Z"
   },
   {
    "duration": 0,
    "start_time": "2023-11-05T09:29:13.030Z"
   },
   {
    "duration": 0,
    "start_time": "2023-11-05T09:29:13.031Z"
   },
   {
    "duration": 0,
    "start_time": "2023-11-05T09:29:13.032Z"
   },
   {
    "duration": 0,
    "start_time": "2023-11-05T09:29:13.033Z"
   },
   {
    "duration": 0,
    "start_time": "2023-11-05T09:29:13.034Z"
   },
   {
    "duration": 0,
    "start_time": "2023-11-05T09:29:13.035Z"
   },
   {
    "duration": 0,
    "start_time": "2023-11-05T09:29:13.036Z"
   },
   {
    "duration": 0,
    "start_time": "2023-11-05T09:29:13.037Z"
   },
   {
    "duration": 0,
    "start_time": "2023-11-05T09:29:13.038Z"
   },
   {
    "duration": 0,
    "start_time": "2023-11-05T09:29:13.040Z"
   },
   {
    "duration": 0,
    "start_time": "2023-11-05T09:29:13.041Z"
   },
   {
    "duration": 1,
    "start_time": "2023-11-05T09:29:13.041Z"
   },
   {
    "duration": 0,
    "start_time": "2023-11-05T09:29:13.043Z"
   },
   {
    "duration": 0,
    "start_time": "2023-11-05T09:29:13.044Z"
   },
   {
    "duration": 0,
    "start_time": "2023-11-05T09:29:13.045Z"
   },
   {
    "duration": 2398,
    "start_time": "2023-11-05T09:29:45.254Z"
   },
   {
    "duration": 1101,
    "start_time": "2023-11-05T09:29:47.655Z"
   },
   {
    "duration": 1170,
    "start_time": "2023-11-05T09:29:48.758Z"
   },
   {
    "duration": 10,
    "start_time": "2023-11-05T09:29:49.930Z"
   },
   {
    "duration": 16,
    "start_time": "2023-11-05T09:29:49.942Z"
   },
   {
    "duration": 11,
    "start_time": "2023-11-05T09:29:49.959Z"
   },
   {
    "duration": 8,
    "start_time": "2023-11-05T09:29:49.971Z"
   },
   {
    "duration": 8,
    "start_time": "2023-11-05T09:29:49.981Z"
   },
   {
    "duration": 137,
    "start_time": "2023-11-05T09:29:49.991Z"
   },
   {
    "duration": 246,
    "start_time": "2023-11-05T09:29:50.130Z"
   },
   {
    "duration": 6,
    "start_time": "2023-11-05T09:29:50.377Z"
   },
   {
    "duration": 90,
    "start_time": "2023-11-05T09:29:50.384Z"
   },
   {
    "duration": 266,
    "start_time": "2023-11-05T09:29:50.476Z"
   },
   {
    "duration": 10,
    "start_time": "2023-11-05T09:29:50.746Z"
   },
   {
    "duration": 8,
    "start_time": "2023-11-05T09:29:50.757Z"
   },
   {
    "duration": 21,
    "start_time": "2023-11-05T09:29:50.767Z"
   },
   {
    "duration": 32,
    "start_time": "2023-11-05T09:29:50.790Z"
   },
   {
    "duration": 127,
    "start_time": "2023-11-05T09:29:50.825Z"
   },
   {
    "duration": 6,
    "start_time": "2023-11-05T09:29:50.954Z"
   },
   {
    "duration": 81,
    "start_time": "2023-11-05T09:29:50.961Z"
   },
   {
    "duration": 44,
    "start_time": "2023-11-05T09:29:51.043Z"
   },
   {
    "duration": 5,
    "start_time": "2023-11-05T09:29:51.089Z"
   },
   {
    "duration": 345,
    "start_time": "2023-11-05T09:29:51.095Z"
   },
   {
    "duration": 533,
    "start_time": "2023-11-05T09:29:51.447Z"
   },
   {
    "duration": 14,
    "start_time": "2023-11-05T09:29:51.982Z"
   },
   {
    "duration": 11,
    "start_time": "2023-11-05T09:29:51.997Z"
   },
   {
    "duration": 27,
    "start_time": "2023-11-05T09:29:52.010Z"
   },
   {
    "duration": 21,
    "start_time": "2023-11-05T09:29:52.039Z"
   },
   {
    "duration": 61,
    "start_time": "2023-11-05T09:29:52.061Z"
   },
   {
    "duration": 179,
    "start_time": "2023-11-05T09:29:52.126Z"
   },
   {
    "duration": 48,
    "start_time": "2023-11-05T09:29:52.307Z"
   },
   {
    "duration": 85,
    "start_time": "2023-11-05T09:29:52.357Z"
   },
   {
    "duration": 19,
    "start_time": "2023-11-05T09:29:52.444Z"
   },
   {
    "duration": 107,
    "start_time": "2023-11-05T09:29:52.465Z"
   },
   {
    "duration": 82,
    "start_time": "2023-11-05T09:29:52.574Z"
   },
   {
    "duration": 93,
    "start_time": "2023-11-05T09:29:52.658Z"
   },
   {
    "duration": 92,
    "start_time": "2023-11-05T09:29:52.753Z"
   },
   {
    "duration": 8,
    "start_time": "2023-11-05T09:29:52.847Z"
   },
   {
    "duration": 13,
    "start_time": "2023-11-05T09:29:52.857Z"
   },
   {
    "duration": 19,
    "start_time": "2023-11-05T09:29:52.872Z"
   },
   {
    "duration": 30,
    "start_time": "2023-11-05T09:29:52.895Z"
   },
   {
    "duration": 17,
    "start_time": "2023-11-05T09:29:52.928Z"
   },
   {
    "duration": 13,
    "start_time": "2023-11-05T09:29:52.947Z"
   },
   {
    "duration": 19,
    "start_time": "2023-11-05T09:29:52.961Z"
   },
   {
    "duration": 183,
    "start_time": "2023-11-05T09:29:52.982Z"
   },
   {
    "duration": 185,
    "start_time": "2023-11-05T09:29:53.167Z"
   },
   {
    "duration": 12,
    "start_time": "2023-11-05T09:29:53.354Z"
   },
   {
    "duration": 18,
    "start_time": "2023-11-05T09:29:53.368Z"
   },
   {
    "duration": 54,
    "start_time": "2023-11-05T09:29:53.388Z"
   },
   {
    "duration": 2382,
    "start_time": "2023-11-05T09:36:40.533Z"
   },
   {
    "duration": 1386,
    "start_time": "2023-11-05T09:36:42.918Z"
   },
   {
    "duration": 1104,
    "start_time": "2023-11-05T09:36:44.306Z"
   },
   {
    "duration": 17,
    "start_time": "2023-11-05T09:36:45.429Z"
   },
   {
    "duration": 16,
    "start_time": "2023-11-05T09:36:45.448Z"
   },
   {
    "duration": 30,
    "start_time": "2023-11-05T09:36:45.466Z"
   },
   {
    "duration": 18,
    "start_time": "2023-11-05T09:36:45.498Z"
   },
   {
    "duration": 8,
    "start_time": "2023-11-05T09:36:45.535Z"
   },
   {
    "duration": 118,
    "start_time": "2023-11-05T09:36:45.545Z"
   },
   {
    "duration": 274,
    "start_time": "2023-11-05T09:36:45.665Z"
   },
   {
    "duration": 7,
    "start_time": "2023-11-05T09:36:45.941Z"
   },
   {
    "duration": 112,
    "start_time": "2023-11-05T09:36:45.950Z"
   },
   {
    "duration": 296,
    "start_time": "2023-11-05T09:36:46.064Z"
   },
   {
    "duration": 10,
    "start_time": "2023-11-05T09:36:46.363Z"
   },
   {
    "duration": 4,
    "start_time": "2023-11-05T09:36:46.375Z"
   },
   {
    "duration": 33,
    "start_time": "2023-11-05T09:36:46.381Z"
   },
   {
    "duration": 17,
    "start_time": "2023-11-05T09:36:46.415Z"
   },
   {
    "duration": 125,
    "start_time": "2023-11-05T09:36:46.433Z"
   },
   {
    "duration": 4,
    "start_time": "2023-11-05T09:36:46.560Z"
   },
   {
    "duration": 88,
    "start_time": "2023-11-05T09:36:46.566Z"
   },
   {
    "duration": 82,
    "start_time": "2023-11-05T09:36:46.656Z"
   },
   {
    "duration": 6,
    "start_time": "2023-11-05T09:36:46.743Z"
   },
   {
    "duration": 415,
    "start_time": "2023-11-05T09:36:46.751Z"
   },
   {
    "duration": 613,
    "start_time": "2023-11-05T09:36:47.168Z"
   },
   {
    "duration": 14,
    "start_time": "2023-11-05T09:36:47.782Z"
   },
   {
    "duration": 47,
    "start_time": "2023-11-05T09:36:47.797Z"
   },
   {
    "duration": 21,
    "start_time": "2023-11-05T09:36:47.846Z"
   },
   {
    "duration": 18,
    "start_time": "2023-11-05T09:36:47.869Z"
   },
   {
    "duration": 26,
    "start_time": "2023-11-05T09:36:47.888Z"
   },
   {
    "duration": 151,
    "start_time": "2023-11-05T09:36:47.921Z"
   },
   {
    "duration": 49,
    "start_time": "2023-11-05T09:36:48.074Z"
   },
   {
    "duration": 65,
    "start_time": "2023-11-05T09:36:48.125Z"
   },
   {
    "duration": 51,
    "start_time": "2023-11-05T09:36:48.191Z"
   },
   {
    "duration": 86,
    "start_time": "2023-11-05T09:36:48.243Z"
   },
   {
    "duration": 97,
    "start_time": "2023-11-05T09:36:48.332Z"
   },
   {
    "duration": 103,
    "start_time": "2023-11-05T09:36:48.432Z"
   },
   {
    "duration": 110,
    "start_time": "2023-11-05T09:36:48.537Z"
   },
   {
    "duration": 10,
    "start_time": "2023-11-05T09:36:48.648Z"
   },
   {
    "duration": 5,
    "start_time": "2023-11-05T09:36:48.659Z"
   },
   {
    "duration": 13,
    "start_time": "2023-11-05T09:36:48.666Z"
   },
   {
    "duration": 51,
    "start_time": "2023-11-05T09:36:48.684Z"
   },
   {
    "duration": 19,
    "start_time": "2023-11-05T09:36:48.741Z"
   },
   {
    "duration": 14,
    "start_time": "2023-11-05T09:36:48.762Z"
   },
   {
    "duration": 5,
    "start_time": "2023-11-05T09:36:48.777Z"
   },
   {
    "duration": 188,
    "start_time": "2023-11-05T09:36:48.783Z"
   },
   {
    "duration": 10,
    "start_time": "2023-11-05T09:36:48.972Z"
   },
   {
    "duration": 32,
    "start_time": "2023-11-05T09:36:48.983Z"
   },
   {
    "duration": 37,
    "start_time": "2023-11-05T09:36:49.017Z"
   },
   {
    "duration": 58,
    "start_time": "2023-11-05T16:56:50.557Z"
   },
   {
    "duration": 2616,
    "start_time": "2023-11-05T16:57:53.673Z"
   },
   {
    "duration": 1470,
    "start_time": "2023-11-05T16:57:56.292Z"
   },
   {
    "duration": 1175,
    "start_time": "2023-11-05T16:57:57.764Z"
   },
   {
    "duration": 20,
    "start_time": "2023-11-05T16:57:58.942Z"
   },
   {
    "duration": 15,
    "start_time": "2023-11-05T16:57:58.965Z"
   },
   {
    "duration": 25,
    "start_time": "2023-11-05T16:57:58.981Z"
   },
   {
    "duration": 9,
    "start_time": "2023-11-05T16:57:59.008Z"
   },
   {
    "duration": 24,
    "start_time": "2023-11-05T16:57:59.019Z"
   },
   {
    "duration": 2388,
    "start_time": "2023-11-05T16:59:37.636Z"
   },
   {
    "duration": 1167,
    "start_time": "2023-11-05T16:59:40.026Z"
   },
   {
    "duration": 1032,
    "start_time": "2023-11-05T16:59:41.195Z"
   },
   {
    "duration": 12,
    "start_time": "2023-11-05T16:59:42.229Z"
   },
   {
    "duration": 36,
    "start_time": "2023-11-05T16:59:42.243Z"
   },
   {
    "duration": 24,
    "start_time": "2023-11-05T16:59:42.281Z"
   },
   {
    "duration": 31,
    "start_time": "2023-11-05T16:59:42.307Z"
   },
   {
    "duration": 54,
    "start_time": "2023-11-05T16:59:42.340Z"
   },
   {
    "duration": 133,
    "start_time": "2023-11-05T16:59:42.397Z"
   },
   {
    "duration": 260,
    "start_time": "2023-11-05T16:59:42.533Z"
   },
   {
    "duration": 6,
    "start_time": "2023-11-05T16:59:42.795Z"
   },
   {
    "duration": 89,
    "start_time": "2023-11-05T16:59:42.803Z"
   },
   {
    "duration": 289,
    "start_time": "2023-11-05T16:59:42.894Z"
   },
   {
    "duration": 12,
    "start_time": "2023-11-05T16:59:43.185Z"
   },
   {
    "duration": 22,
    "start_time": "2023-11-05T16:59:43.199Z"
   },
   {
    "duration": 1003,
    "start_time": "2023-11-05T16:59:43.223Z"
   },
   {
    "duration": 0,
    "start_time": "2023-11-05T16:59:44.229Z"
   },
   {
    "duration": 1,
    "start_time": "2023-11-05T16:59:44.230Z"
   },
   {
    "duration": 0,
    "start_time": "2023-11-05T16:59:44.232Z"
   },
   {
    "duration": 0,
    "start_time": "2023-11-05T16:59:44.233Z"
   },
   {
    "duration": 0,
    "start_time": "2023-11-05T16:59:44.234Z"
   },
   {
    "duration": 0,
    "start_time": "2023-11-05T16:59:44.236Z"
   },
   {
    "duration": 0,
    "start_time": "2023-11-05T16:59:44.237Z"
   },
   {
    "duration": 0,
    "start_time": "2023-11-05T16:59:44.238Z"
   },
   {
    "duration": 0,
    "start_time": "2023-11-05T16:59:44.240Z"
   },
   {
    "duration": 0,
    "start_time": "2023-11-05T16:59:44.241Z"
   },
   {
    "duration": 0,
    "start_time": "2023-11-05T16:59:44.243Z"
   },
   {
    "duration": 0,
    "start_time": "2023-11-05T16:59:44.244Z"
   },
   {
    "duration": 0,
    "start_time": "2023-11-05T16:59:44.245Z"
   },
   {
    "duration": 0,
    "start_time": "2023-11-05T16:59:44.246Z"
   },
   {
    "duration": 0,
    "start_time": "2023-11-05T16:59:44.247Z"
   },
   {
    "duration": 0,
    "start_time": "2023-11-05T16:59:44.248Z"
   },
   {
    "duration": 0,
    "start_time": "2023-11-05T16:59:44.249Z"
   },
   {
    "duration": 0,
    "start_time": "2023-11-05T16:59:44.251Z"
   },
   {
    "duration": 0,
    "start_time": "2023-11-05T16:59:44.252Z"
   },
   {
    "duration": 0,
    "start_time": "2023-11-05T16:59:44.253Z"
   },
   {
    "duration": 0,
    "start_time": "2023-11-05T16:59:44.254Z"
   },
   {
    "duration": 0,
    "start_time": "2023-11-05T16:59:44.255Z"
   },
   {
    "duration": 0,
    "start_time": "2023-11-05T16:59:44.256Z"
   },
   {
    "duration": 0,
    "start_time": "2023-11-05T16:59:44.257Z"
   },
   {
    "duration": 0,
    "start_time": "2023-11-05T16:59:44.258Z"
   },
   {
    "duration": 0,
    "start_time": "2023-11-05T16:59:44.259Z"
   },
   {
    "duration": 0,
    "start_time": "2023-11-05T16:59:44.260Z"
   },
   {
    "duration": 0,
    "start_time": "2023-11-05T16:59:44.261Z"
   },
   {
    "duration": 0,
    "start_time": "2023-11-05T16:59:44.262Z"
   },
   {
    "duration": 0,
    "start_time": "2023-11-05T16:59:44.264Z"
   },
   {
    "duration": 0,
    "start_time": "2023-11-05T16:59:44.314Z"
   },
   {
    "duration": 0,
    "start_time": "2023-11-05T16:59:44.315Z"
   },
   {
    "duration": 0,
    "start_time": "2023-11-05T16:59:44.317Z"
   },
   {
    "duration": 2526,
    "start_time": "2023-11-05T17:00:46.482Z"
   },
   {
    "duration": 1194,
    "start_time": "2023-11-05T17:00:49.011Z"
   },
   {
    "duration": 1053,
    "start_time": "2023-11-05T17:00:50.207Z"
   },
   {
    "duration": 13,
    "start_time": "2023-11-05T17:00:51.262Z"
   },
   {
    "duration": 16,
    "start_time": "2023-11-05T17:00:51.277Z"
   },
   {
    "duration": 17,
    "start_time": "2023-11-05T17:00:51.295Z"
   },
   {
    "duration": 12,
    "start_time": "2023-11-05T17:00:51.314Z"
   },
   {
    "duration": 18,
    "start_time": "2023-11-05T17:00:51.327Z"
   },
   {
    "duration": 121,
    "start_time": "2023-11-05T17:00:51.347Z"
   },
   {
    "duration": 260,
    "start_time": "2023-11-05T17:00:51.469Z"
   },
   {
    "duration": 6,
    "start_time": "2023-11-05T17:00:51.731Z"
   },
   {
    "duration": 98,
    "start_time": "2023-11-05T17:00:51.739Z"
   },
   {
    "duration": 293,
    "start_time": "2023-11-05T17:00:51.838Z"
   },
   {
    "duration": 13,
    "start_time": "2023-11-05T17:00:52.136Z"
   },
   {
    "duration": 12,
    "start_time": "2023-11-05T17:00:52.150Z"
   },
   {
    "duration": 26,
    "start_time": "2023-11-05T17:00:52.164Z"
   },
   {
    "duration": 41,
    "start_time": "2023-11-05T17:00:52.191Z"
   },
   {
    "duration": 129,
    "start_time": "2023-11-05T17:00:52.234Z"
   },
   {
    "duration": 4,
    "start_time": "2023-11-05T17:00:52.365Z"
   },
   {
    "duration": 76,
    "start_time": "2023-11-05T17:00:52.371Z"
   },
   {
    "duration": 49,
    "start_time": "2023-11-05T17:00:52.448Z"
   },
   {
    "duration": 19,
    "start_time": "2023-11-05T17:00:52.499Z"
   },
   {
    "duration": 362,
    "start_time": "2023-11-05T17:00:52.520Z"
   },
   {
    "duration": 554,
    "start_time": "2023-11-05T17:00:52.884Z"
   },
   {
    "duration": 14,
    "start_time": "2023-11-05T17:00:53.440Z"
   },
   {
    "duration": 13,
    "start_time": "2023-11-05T17:00:53.455Z"
   },
   {
    "duration": 23,
    "start_time": "2023-11-05T17:00:53.470Z"
   },
   {
    "duration": 34,
    "start_time": "2023-11-05T17:00:53.495Z"
   },
   {
    "duration": 23,
    "start_time": "2023-11-05T17:00:53.531Z"
   },
   {
    "duration": 172,
    "start_time": "2023-11-05T17:00:53.556Z"
   },
   {
    "duration": 47,
    "start_time": "2023-11-05T17:00:53.730Z"
   },
   {
    "duration": 83,
    "start_time": "2023-11-05T17:00:53.778Z"
   },
   {
    "duration": 22,
    "start_time": "2023-11-05T17:00:53.862Z"
   },
   {
    "duration": 106,
    "start_time": "2023-11-05T17:00:53.885Z"
   },
   {
    "duration": 91,
    "start_time": "2023-11-05T17:00:53.993Z"
   },
   {
    "duration": 102,
    "start_time": "2023-11-05T17:00:54.086Z"
   },
   {
    "duration": 95,
    "start_time": "2023-11-05T17:00:54.191Z"
   },
   {
    "duration": 9,
    "start_time": "2023-11-05T17:00:54.288Z"
   },
   {
    "duration": 13,
    "start_time": "2023-11-05T17:00:54.315Z"
   },
   {
    "duration": 14,
    "start_time": "2023-11-05T17:00:54.329Z"
   },
   {
    "duration": 20,
    "start_time": "2023-11-05T17:00:54.348Z"
   },
   {
    "duration": 20,
    "start_time": "2023-11-05T17:00:54.369Z"
   },
   {
    "duration": 39,
    "start_time": "2023-11-05T17:00:54.391Z"
   },
   {
    "duration": 3,
    "start_time": "2023-11-05T17:00:54.431Z"
   },
   {
    "duration": 195,
    "start_time": "2023-11-05T17:00:54.436Z"
   },
   {
    "duration": 10,
    "start_time": "2023-11-05T17:00:54.633Z"
   },
   {
    "duration": 19,
    "start_time": "2023-11-05T17:00:54.645Z"
   },
   {
    "duration": 55,
    "start_time": "2023-11-05T17:00:54.666Z"
   },
   {
    "duration": 32,
    "start_time": "2023-11-05T17:26:03.915Z"
   },
   {
    "duration": 14,
    "start_time": "2023-11-05T17:29:41.933Z"
   },
   {
    "duration": 34,
    "start_time": "2023-11-05T17:32:44.116Z"
   },
   {
    "duration": 20,
    "start_time": "2023-11-05T17:41:53.498Z"
   },
   {
    "duration": 11,
    "start_time": "2023-11-05T17:41:55.808Z"
   },
   {
    "duration": 5,
    "start_time": "2023-11-05T17:43:03.116Z"
   },
   {
    "duration": 11,
    "start_time": "2023-11-05T17:43:10.128Z"
   },
   {
    "duration": 40,
    "start_time": "2023-11-05T17:44:05.687Z"
   },
   {
    "duration": 39,
    "start_time": "2023-11-05T18:04:42.477Z"
   },
   {
    "duration": 126,
    "start_time": "2023-11-05T18:05:21.143Z"
   },
   {
    "duration": 78,
    "start_time": "2023-11-05T18:06:56.987Z"
   },
   {
    "duration": 103,
    "start_time": "2023-11-05T18:07:08.798Z"
   },
   {
    "duration": 2326,
    "start_time": "2023-11-05T18:15:04.134Z"
   },
   {
    "duration": 1192,
    "start_time": "2023-11-05T18:15:06.462Z"
   },
   {
    "duration": 1224,
    "start_time": "2023-11-05T18:15:07.656Z"
   },
   {
    "duration": 12,
    "start_time": "2023-11-05T18:15:08.882Z"
   },
   {
    "duration": 10,
    "start_time": "2023-11-05T18:15:08.895Z"
   },
   {
    "duration": 11,
    "start_time": "2023-11-05T18:15:08.907Z"
   },
   {
    "duration": 8,
    "start_time": "2023-11-05T18:15:08.919Z"
   },
   {
    "duration": 8,
    "start_time": "2023-11-05T18:15:08.928Z"
   },
   {
    "duration": 129,
    "start_time": "2023-11-05T18:15:08.938Z"
   },
   {
    "duration": 255,
    "start_time": "2023-11-05T18:15:09.070Z"
   },
   {
    "duration": 7,
    "start_time": "2023-11-05T18:15:09.326Z"
   },
   {
    "duration": 108,
    "start_time": "2023-11-05T18:15:09.334Z"
   },
   {
    "duration": 304,
    "start_time": "2023-11-05T18:15:09.444Z"
   },
   {
    "duration": 11,
    "start_time": "2023-11-05T18:15:09.749Z"
   },
   {
    "duration": 17,
    "start_time": "2023-11-05T18:15:09.761Z"
   },
   {
    "duration": 21,
    "start_time": "2023-11-05T18:15:09.780Z"
   },
   {
    "duration": 5,
    "start_time": "2023-11-05T18:15:09.815Z"
   },
   {
    "duration": 25,
    "start_time": "2023-11-05T18:15:09.822Z"
   },
   {
    "duration": 13,
    "start_time": "2023-11-05T18:15:09.849Z"
   },
   {
    "duration": 134,
    "start_time": "2023-11-05T18:15:09.865Z"
   },
   {
    "duration": 12,
    "start_time": "2023-11-05T18:15:10.002Z"
   },
   {
    "duration": 84,
    "start_time": "2023-11-05T18:15:10.016Z"
   },
   {
    "duration": 49,
    "start_time": "2023-11-05T18:15:10.102Z"
   },
   {
    "duration": 6,
    "start_time": "2023-11-05T18:15:10.153Z"
   },
   {
    "duration": 324,
    "start_time": "2023-11-05T18:15:10.161Z"
   },
   {
    "duration": 531,
    "start_time": "2023-11-05T18:15:10.487Z"
   },
   {
    "duration": 15,
    "start_time": "2023-11-05T18:15:11.020Z"
   },
   {
    "duration": 3,
    "start_time": "2023-11-05T18:15:11.038Z"
   },
   {
    "duration": 23,
    "start_time": "2023-11-05T18:15:11.042Z"
   },
   {
    "duration": 48,
    "start_time": "2023-11-05T18:15:11.067Z"
   },
   {
    "duration": 2,
    "start_time": "2023-11-05T18:15:11.117Z"
   },
   {
    "duration": 13,
    "start_time": "2023-11-05T18:15:11.121Z"
   },
   {
    "duration": 177,
    "start_time": "2023-11-05T18:15:11.135Z"
   },
   {
    "duration": 45,
    "start_time": "2023-11-05T18:15:11.314Z"
   },
   {
    "duration": 85,
    "start_time": "2023-11-05T18:15:11.360Z"
   },
   {
    "duration": 20,
    "start_time": "2023-11-05T18:15:11.447Z"
   },
   {
    "duration": 111,
    "start_time": "2023-11-05T18:15:11.469Z"
   },
   {
    "duration": 92,
    "start_time": "2023-11-05T18:15:11.581Z"
   },
   {
    "duration": 93,
    "start_time": "2023-11-05T18:15:11.674Z"
   },
   {
    "duration": 97,
    "start_time": "2023-11-05T18:15:11.769Z"
   },
   {
    "duration": 9,
    "start_time": "2023-11-05T18:15:11.868Z"
   },
   {
    "duration": 5,
    "start_time": "2023-11-05T18:15:11.879Z"
   },
   {
    "duration": 28,
    "start_time": "2023-11-05T18:15:11.886Z"
   },
   {
    "duration": 20,
    "start_time": "2023-11-05T18:15:11.916Z"
   },
   {
    "duration": 16,
    "start_time": "2023-11-05T18:15:11.938Z"
   },
   {
    "duration": 12,
    "start_time": "2023-11-05T18:15:11.956Z"
   },
   {
    "duration": 3,
    "start_time": "2023-11-05T18:15:11.969Z"
   },
   {
    "duration": 216,
    "start_time": "2023-11-05T18:15:11.974Z"
   },
   {
    "duration": 26,
    "start_time": "2023-11-05T18:15:12.193Z"
   },
   {
    "duration": 23,
    "start_time": "2023-11-05T18:15:12.221Z"
   },
   {
    "duration": 112,
    "start_time": "2023-11-05T18:15:12.246Z"
   },
   {
    "duration": 2406,
    "start_time": "2023-11-05T18:19:03.410Z"
   },
   {
    "duration": 1165,
    "start_time": "2023-11-05T18:19:05.818Z"
   },
   {
    "duration": 1323,
    "start_time": "2023-11-05T18:19:06.985Z"
   },
   {
    "duration": 15,
    "start_time": "2023-11-05T18:19:08.310Z"
   },
   {
    "duration": 11,
    "start_time": "2023-11-05T18:19:08.327Z"
   },
   {
    "duration": 11,
    "start_time": "2023-11-05T18:19:08.340Z"
   },
   {
    "duration": 10,
    "start_time": "2023-11-05T18:19:08.353Z"
   },
   {
    "duration": 10,
    "start_time": "2023-11-05T18:19:08.366Z"
   },
   {
    "duration": 179,
    "start_time": "2023-11-05T18:19:08.378Z"
   },
   {
    "duration": 254,
    "start_time": "2023-11-05T18:19:08.560Z"
   },
   {
    "duration": 7,
    "start_time": "2023-11-05T18:19:08.815Z"
   },
   {
    "duration": 99,
    "start_time": "2023-11-05T18:19:08.824Z"
   },
   {
    "duration": 305,
    "start_time": "2023-11-05T18:19:08.925Z"
   },
   {
    "duration": 12,
    "start_time": "2023-11-05T18:19:09.232Z"
   },
   {
    "duration": 6,
    "start_time": "2023-11-05T18:19:09.246Z"
   },
   {
    "duration": 20,
    "start_time": "2023-11-05T18:19:09.253Z"
   },
   {
    "duration": 5,
    "start_time": "2023-11-05T18:19:09.274Z"
   },
   {
    "duration": 46,
    "start_time": "2023-11-05T18:19:09.281Z"
   },
   {
    "duration": 9,
    "start_time": "2023-11-05T18:19:09.329Z"
   },
   {
    "duration": 176,
    "start_time": "2023-11-05T18:19:09.340Z"
   },
   {
    "duration": 7,
    "start_time": "2023-11-05T18:19:09.518Z"
   },
   {
    "duration": 69,
    "start_time": "2023-11-05T18:19:09.527Z"
   },
   {
    "duration": 50,
    "start_time": "2023-11-05T18:19:09.614Z"
   },
   {
    "duration": 6,
    "start_time": "2023-11-05T18:19:09.665Z"
   },
   {
    "duration": 351,
    "start_time": "2023-11-05T18:19:09.673Z"
   },
   {
    "duration": 550,
    "start_time": "2023-11-05T18:19:10.026Z"
   },
   {
    "duration": 14,
    "start_time": "2023-11-05T18:19:10.578Z"
   },
   {
    "duration": 3,
    "start_time": "2023-11-05T18:19:10.596Z"
   },
   {
    "duration": 17,
    "start_time": "2023-11-05T18:19:10.614Z"
   },
   {
    "duration": 23,
    "start_time": "2023-11-05T18:19:10.632Z"
   },
   {
    "duration": 2,
    "start_time": "2023-11-05T18:19:10.657Z"
   },
   {
    "duration": 17,
    "start_time": "2023-11-05T18:19:10.661Z"
   },
   {
    "duration": 210,
    "start_time": "2023-11-05T18:19:10.679Z"
   },
   {
    "duration": 57,
    "start_time": "2023-11-05T18:19:10.891Z"
   },
   {
    "duration": 83,
    "start_time": "2023-11-05T18:19:10.949Z"
   },
   {
    "duration": 25,
    "start_time": "2023-11-05T18:19:11.035Z"
   },
   {
    "duration": 115,
    "start_time": "2023-11-05T18:19:11.062Z"
   },
   {
    "duration": 98,
    "start_time": "2023-11-05T18:19:11.178Z"
   },
   {
    "duration": 100,
    "start_time": "2023-11-05T18:19:11.278Z"
   },
   {
    "duration": 95,
    "start_time": "2023-11-05T18:19:11.380Z"
   },
   {
    "duration": 10,
    "start_time": "2023-11-05T18:19:11.477Z"
   },
   {
    "duration": 28,
    "start_time": "2023-11-05T18:19:11.489Z"
   },
   {
    "duration": 10,
    "start_time": "2023-11-05T18:19:11.519Z"
   },
   {
    "duration": 17,
    "start_time": "2023-11-05T18:19:11.531Z"
   },
   {
    "duration": 16,
    "start_time": "2023-11-05T18:19:11.550Z"
   },
   {
    "duration": 48,
    "start_time": "2023-11-05T18:19:11.568Z"
   },
   {
    "duration": 3,
    "start_time": "2023-11-05T18:19:11.618Z"
   },
   {
    "duration": 179,
    "start_time": "2023-11-05T18:19:11.623Z"
   },
   {
    "duration": 20,
    "start_time": "2023-11-05T18:19:11.804Z"
   },
   {
    "duration": 19,
    "start_time": "2023-11-05T18:19:11.826Z"
   },
   {
    "duration": 111,
    "start_time": "2023-11-05T18:19:11.846Z"
   },
   {
    "duration": 17,
    "start_time": "2023-11-05T18:20:40.477Z"
   },
   {
    "duration": 5,
    "start_time": "2023-11-05T18:20:41.213Z"
   },
   {
    "duration": 22,
    "start_time": "2023-11-05T18:22:36.282Z"
   },
   {
    "duration": 5,
    "start_time": "2023-11-05T18:22:37.332Z"
   },
   {
    "duration": 2354,
    "start_time": "2023-11-05T18:24:31.410Z"
   },
   {
    "duration": 1125,
    "start_time": "2023-11-05T18:24:33.767Z"
   },
   {
    "duration": 1270,
    "start_time": "2023-11-05T18:24:34.893Z"
   },
   {
    "duration": 12,
    "start_time": "2023-11-05T18:24:36.164Z"
   },
   {
    "duration": 8,
    "start_time": "2023-11-05T18:24:36.178Z"
   },
   {
    "duration": 10,
    "start_time": "2023-11-05T18:24:36.188Z"
   },
   {
    "duration": 10,
    "start_time": "2023-11-05T18:24:36.200Z"
   },
   {
    "duration": 16,
    "start_time": "2023-11-05T18:24:36.212Z"
   },
   {
    "duration": 113,
    "start_time": "2023-11-05T18:24:36.229Z"
   },
   {
    "duration": 252,
    "start_time": "2023-11-05T18:24:36.343Z"
   },
   {
    "duration": 7,
    "start_time": "2023-11-05T18:24:36.596Z"
   },
   {
    "duration": 81,
    "start_time": "2023-11-05T18:24:36.614Z"
   },
   {
    "duration": 284,
    "start_time": "2023-11-05T18:24:36.697Z"
   },
   {
    "duration": 11,
    "start_time": "2023-11-05T18:24:36.984Z"
   },
   {
    "duration": 19,
    "start_time": "2023-11-05T18:24:36.997Z"
   },
   {
    "duration": 23,
    "start_time": "2023-11-05T18:24:37.018Z"
   },
   {
    "duration": 4,
    "start_time": "2023-11-05T18:24:37.043Z"
   },
   {
    "duration": 10,
    "start_time": "2023-11-05T18:24:37.049Z"
   },
   {
    "duration": 7,
    "start_time": "2023-11-05T18:24:37.061Z"
   },
   {
    "duration": 164,
    "start_time": "2023-11-05T18:24:37.070Z"
   },
   {
    "duration": 5,
    "start_time": "2023-11-05T18:24:37.235Z"
   },
   {
    "duration": 81,
    "start_time": "2023-11-05T18:24:37.241Z"
   },
   {
    "duration": 49,
    "start_time": "2023-11-05T18:24:37.324Z"
   },
   {
    "duration": 6,
    "start_time": "2023-11-05T18:24:37.375Z"
   },
   {
    "duration": 336,
    "start_time": "2023-11-05T18:24:37.383Z"
   },
   {
    "duration": 536,
    "start_time": "2023-11-05T18:24:37.721Z"
   },
   {
    "duration": 14,
    "start_time": "2023-11-05T18:24:38.259Z"
   },
   {
    "duration": 4,
    "start_time": "2023-11-05T18:24:38.275Z"
   },
   {
    "duration": 37,
    "start_time": "2023-11-05T18:24:38.281Z"
   },
   {
    "duration": 30,
    "start_time": "2023-11-05T18:24:38.321Z"
   },
   {
    "duration": 6,
    "start_time": "2023-11-05T18:24:38.353Z"
   },
   {
    "duration": 27,
    "start_time": "2023-11-05T18:24:38.362Z"
   },
   {
    "duration": 212,
    "start_time": "2023-11-05T18:24:38.391Z"
   },
   {
    "duration": 45,
    "start_time": "2023-11-05T18:24:38.605Z"
   },
   {
    "duration": 73,
    "start_time": "2023-11-05T18:24:38.652Z"
   },
   {
    "duration": 21,
    "start_time": "2023-11-05T18:24:38.726Z"
   },
   {
    "duration": 98,
    "start_time": "2023-11-05T18:24:38.749Z"
   },
   {
    "duration": 93,
    "start_time": "2023-11-05T18:24:38.849Z"
   },
   {
    "duration": 91,
    "start_time": "2023-11-05T18:24:38.944Z"
   },
   {
    "duration": 87,
    "start_time": "2023-11-05T18:24:39.036Z"
   },
   {
    "duration": 9,
    "start_time": "2023-11-05T18:24:39.127Z"
   },
   {
    "duration": 4,
    "start_time": "2023-11-05T18:24:39.138Z"
   },
   {
    "duration": 9,
    "start_time": "2023-11-05T18:24:39.144Z"
   },
   {
    "duration": 19,
    "start_time": "2023-11-05T18:24:39.154Z"
   },
   {
    "duration": 48,
    "start_time": "2023-11-05T18:24:39.175Z"
   },
   {
    "duration": 14,
    "start_time": "2023-11-05T18:24:39.225Z"
   },
   {
    "duration": 4,
    "start_time": "2023-11-05T18:24:39.241Z"
   },
   {
    "duration": 201,
    "start_time": "2023-11-05T18:24:39.247Z"
   },
   {
    "duration": 11,
    "start_time": "2023-11-05T18:24:39.449Z"
   },
   {
    "duration": 42,
    "start_time": "2023-11-05T18:24:39.462Z"
   },
   {
    "duration": 91,
    "start_time": "2023-11-05T18:24:39.506Z"
   },
   {
    "duration": 2301,
    "start_time": "2023-11-05T18:27:50.507Z"
   },
   {
    "duration": 1167,
    "start_time": "2023-11-05T18:27:52.810Z"
   },
   {
    "duration": 1278,
    "start_time": "2023-11-05T18:27:53.979Z"
   },
   {
    "duration": 14,
    "start_time": "2023-11-05T18:27:55.259Z"
   },
   {
    "duration": 23,
    "start_time": "2023-11-05T18:27:55.276Z"
   },
   {
    "duration": 27,
    "start_time": "2023-11-05T18:27:55.301Z"
   },
   {
    "duration": 23,
    "start_time": "2023-11-05T18:27:55.330Z"
   },
   {
    "duration": 35,
    "start_time": "2023-11-05T18:27:55.355Z"
   },
   {
    "duration": 124,
    "start_time": "2023-11-05T18:27:55.392Z"
   },
   {
    "duration": 249,
    "start_time": "2023-11-05T18:27:55.518Z"
   },
   {
    "duration": 6,
    "start_time": "2023-11-05T18:27:55.769Z"
   },
   {
    "duration": 102,
    "start_time": "2023-11-05T18:27:55.776Z"
   },
   {
    "duration": 288,
    "start_time": "2023-11-05T18:27:55.879Z"
   },
   {
    "duration": 11,
    "start_time": "2023-11-05T18:27:56.170Z"
   },
   {
    "duration": 15,
    "start_time": "2023-11-05T18:27:56.182Z"
   },
   {
    "duration": 50,
    "start_time": "2023-11-05T18:27:56.199Z"
   },
   {
    "duration": 14,
    "start_time": "2023-11-05T18:27:56.250Z"
   },
   {
    "duration": 20,
    "start_time": "2023-11-05T18:27:56.266Z"
   },
   {
    "duration": 19,
    "start_time": "2023-11-05T18:27:56.288Z"
   },
   {
    "duration": 121,
    "start_time": "2023-11-05T18:27:56.309Z"
   },
   {
    "duration": 4,
    "start_time": "2023-11-05T18:27:56.432Z"
   },
   {
    "duration": 64,
    "start_time": "2023-11-05T18:27:56.437Z"
   },
   {
    "duration": 48,
    "start_time": "2023-11-05T18:27:56.515Z"
   },
   {
    "duration": 6,
    "start_time": "2023-11-05T18:27:56.565Z"
   },
   {
    "duration": 301,
    "start_time": "2023-11-05T18:27:56.572Z"
   },
   {
    "duration": 525,
    "start_time": "2023-11-05T18:27:56.875Z"
   },
   {
    "duration": 16,
    "start_time": "2023-11-05T18:27:57.401Z"
   },
   {
    "duration": 6,
    "start_time": "2023-11-05T18:27:57.419Z"
   },
   {
    "duration": 30,
    "start_time": "2023-11-05T18:27:57.426Z"
   },
   {
    "duration": 25,
    "start_time": "2023-11-05T18:27:57.457Z"
   },
   {
    "duration": 2,
    "start_time": "2023-11-05T18:27:57.485Z"
   },
   {
    "duration": 36,
    "start_time": "2023-11-05T18:27:57.490Z"
   },
   {
    "duration": 161,
    "start_time": "2023-11-05T18:27:57.528Z"
   },
   {
    "duration": 44,
    "start_time": "2023-11-05T18:27:57.692Z"
   },
   {
    "duration": 56,
    "start_time": "2023-11-05T18:27:57.738Z"
   },
   {
    "duration": 35,
    "start_time": "2023-11-05T18:27:57.796Z"
   },
   {
    "duration": 92,
    "start_time": "2023-11-05T18:27:57.833Z"
   },
   {
    "duration": 90,
    "start_time": "2023-11-05T18:27:57.926Z"
   },
   {
    "duration": 80,
    "start_time": "2023-11-05T18:27:58.018Z"
   },
   {
    "duration": 77,
    "start_time": "2023-11-05T18:27:58.113Z"
   },
   {
    "duration": 29,
    "start_time": "2023-11-05T18:27:58.194Z"
   },
   {
    "duration": 16,
    "start_time": "2023-11-05T18:27:58.225Z"
   },
   {
    "duration": 12,
    "start_time": "2023-11-05T18:27:58.244Z"
   },
   {
    "duration": 28,
    "start_time": "2023-11-05T18:27:58.258Z"
   },
   {
    "duration": 34,
    "start_time": "2023-11-05T18:27:58.289Z"
   },
   {
    "duration": 16,
    "start_time": "2023-11-05T18:27:58.325Z"
   },
   {
    "duration": 4,
    "start_time": "2023-11-05T18:27:58.343Z"
   },
   {
    "duration": 204,
    "start_time": "2023-11-05T18:27:58.349Z"
   },
   {
    "duration": 11,
    "start_time": "2023-11-05T18:27:58.554Z"
   },
   {
    "duration": 17,
    "start_time": "2023-11-05T18:27:58.567Z"
   },
   {
    "duration": 112,
    "start_time": "2023-11-05T18:27:58.585Z"
   },
   {
    "duration": 67,
    "start_time": "2023-11-05T18:28:48.287Z"
   },
   {
    "duration": 135,
    "start_time": "2023-11-05T18:34:38.648Z"
   },
   {
    "duration": 2343,
    "start_time": "2023-11-05T18:34:54.622Z"
   },
   {
    "duration": 1098,
    "start_time": "2023-11-05T18:34:56.967Z"
   },
   {
    "duration": 1034,
    "start_time": "2023-11-05T18:34:58.067Z"
   },
   {
    "duration": 13,
    "start_time": "2023-11-05T18:34:59.103Z"
   },
   {
    "duration": 27,
    "start_time": "2023-11-05T18:34:59.118Z"
   },
   {
    "duration": 9,
    "start_time": "2023-11-05T18:34:59.147Z"
   },
   {
    "duration": 10,
    "start_time": "2023-11-05T18:34:59.157Z"
   },
   {
    "duration": 15,
    "start_time": "2023-11-05T18:34:59.169Z"
   },
   {
    "duration": 119,
    "start_time": "2023-11-05T18:34:59.186Z"
   },
   {
    "duration": 262,
    "start_time": "2023-11-05T18:34:59.314Z"
   },
   {
    "duration": 7,
    "start_time": "2023-11-05T18:34:59.577Z"
   },
   {
    "duration": 97,
    "start_time": "2023-11-05T18:34:59.585Z"
   },
   {
    "duration": 298,
    "start_time": "2023-11-05T18:34:59.684Z"
   },
   {
    "duration": 10,
    "start_time": "2023-11-05T18:34:59.984Z"
   },
   {
    "duration": 17,
    "start_time": "2023-11-05T18:34:59.996Z"
   },
   {
    "duration": 27,
    "start_time": "2023-11-05T18:35:00.015Z"
   },
   {
    "duration": 50,
    "start_time": "2023-11-05T18:35:00.044Z"
   },
   {
    "duration": 48,
    "start_time": "2023-11-05T18:35:00.097Z"
   },
   {
    "duration": 57,
    "start_time": "2023-11-05T18:35:00.147Z"
   },
   {
    "duration": 173,
    "start_time": "2023-11-05T18:35:00.205Z"
   },
   {
    "duration": 25,
    "start_time": "2023-11-05T18:35:00.380Z"
   },
   {
    "duration": 117,
    "start_time": "2023-11-05T18:35:00.407Z"
   },
   {
    "duration": 51,
    "start_time": "2023-11-05T18:35:00.525Z"
   },
   {
    "duration": 6,
    "start_time": "2023-11-05T18:35:00.578Z"
   },
   {
    "duration": 333,
    "start_time": "2023-11-05T18:35:00.586Z"
   },
   {
    "duration": 539,
    "start_time": "2023-11-05T18:35:00.920Z"
   },
   {
    "duration": 14,
    "start_time": "2023-11-05T18:35:01.461Z"
   },
   {
    "duration": 74,
    "start_time": "2023-11-05T18:35:01.478Z"
   },
   {
    "duration": 61,
    "start_time": "2023-11-05T18:35:01.554Z"
   },
   {
    "duration": 63,
    "start_time": "2023-11-05T18:35:01.617Z"
   },
   {
    "duration": 27,
    "start_time": "2023-11-05T18:35:01.682Z"
   },
   {
    "duration": 71,
    "start_time": "2023-11-05T18:35:01.710Z"
   },
   {
    "duration": 178,
    "start_time": "2023-11-05T18:35:01.783Z"
   },
   {
    "duration": 37,
    "start_time": "2023-11-05T18:35:01.963Z"
   },
   {
    "duration": 85,
    "start_time": "2023-11-05T18:35:02.002Z"
   },
   {
    "duration": 20,
    "start_time": "2023-11-05T18:35:02.088Z"
   },
   {
    "duration": 88,
    "start_time": "2023-11-05T18:35:02.110Z"
   },
   {
    "duration": 99,
    "start_time": "2023-11-05T18:35:02.200Z"
   },
   {
    "duration": 86,
    "start_time": "2023-11-05T18:35:02.313Z"
   },
   {
    "duration": 139,
    "start_time": "2023-11-05T18:35:02.401Z"
   },
   {
    "duration": 0,
    "start_time": "2023-11-05T18:35:02.542Z"
   },
   {
    "duration": 0,
    "start_time": "2023-11-05T18:35:02.543Z"
   },
   {
    "duration": 0,
    "start_time": "2023-11-05T18:35:02.544Z"
   },
   {
    "duration": 0,
    "start_time": "2023-11-05T18:35:02.545Z"
   },
   {
    "duration": 0,
    "start_time": "2023-11-05T18:35:02.546Z"
   },
   {
    "duration": 0,
    "start_time": "2023-11-05T18:35:02.547Z"
   },
   {
    "duration": 0,
    "start_time": "2023-11-05T18:35:02.548Z"
   },
   {
    "duration": 0,
    "start_time": "2023-11-05T18:35:02.549Z"
   },
   {
    "duration": 0,
    "start_time": "2023-11-05T18:35:02.550Z"
   },
   {
    "duration": 0,
    "start_time": "2023-11-05T18:35:02.551Z"
   },
   {
    "duration": 0,
    "start_time": "2023-11-05T18:35:02.553Z"
   },
   {
    "duration": 0,
    "start_time": "2023-11-05T18:35:02.554Z"
   },
   {
    "duration": 40,
    "start_time": "2023-11-05T18:36:29.426Z"
   },
   {
    "duration": 2415,
    "start_time": "2023-11-05T18:36:51.180Z"
   },
   {
    "duration": 1166,
    "start_time": "2023-11-05T18:36:53.597Z"
   },
   {
    "duration": 1151,
    "start_time": "2023-11-05T18:36:54.764Z"
   },
   {
    "duration": 14,
    "start_time": "2023-11-05T18:36:55.918Z"
   },
   {
    "duration": 26,
    "start_time": "2023-11-05T18:36:55.935Z"
   },
   {
    "duration": 37,
    "start_time": "2023-11-05T18:36:55.963Z"
   },
   {
    "duration": 29,
    "start_time": "2023-11-05T18:36:56.002Z"
   },
   {
    "duration": 51,
    "start_time": "2023-11-05T18:36:56.033Z"
   },
   {
    "duration": 161,
    "start_time": "2023-11-05T18:36:56.086Z"
   },
   {
    "duration": 255,
    "start_time": "2023-11-05T18:36:56.249Z"
   },
   {
    "duration": 5,
    "start_time": "2023-11-05T18:36:56.506Z"
   },
   {
    "duration": 89,
    "start_time": "2023-11-05T18:36:56.514Z"
   },
   {
    "duration": 301,
    "start_time": "2023-11-05T18:36:56.605Z"
   },
   {
    "duration": 16,
    "start_time": "2023-11-05T18:36:56.913Z"
   },
   {
    "duration": 22,
    "start_time": "2023-11-05T18:36:56.931Z"
   },
   {
    "duration": 44,
    "start_time": "2023-11-05T18:36:56.956Z"
   },
   {
    "duration": 12,
    "start_time": "2023-11-05T18:36:57.001Z"
   },
   {
    "duration": 36,
    "start_time": "2023-11-05T18:36:57.015Z"
   },
   {
    "duration": 28,
    "start_time": "2023-11-05T18:36:57.053Z"
   },
   {
    "duration": 134,
    "start_time": "2023-11-05T18:36:57.083Z"
   },
   {
    "duration": 11,
    "start_time": "2023-11-05T18:36:57.219Z"
   },
   {
    "duration": 74,
    "start_time": "2023-11-05T18:36:57.231Z"
   },
   {
    "duration": 51,
    "start_time": "2023-11-05T18:36:57.307Z"
   },
   {
    "duration": 6,
    "start_time": "2023-11-05T18:36:57.360Z"
   },
   {
    "duration": 336,
    "start_time": "2023-11-05T18:36:57.368Z"
   },
   {
    "duration": 558,
    "start_time": "2023-11-05T18:36:57.706Z"
   },
   {
    "duration": 18,
    "start_time": "2023-11-05T18:36:58.266Z"
   },
   {
    "duration": 21,
    "start_time": "2023-11-05T18:36:58.287Z"
   },
   {
    "duration": 44,
    "start_time": "2023-11-05T18:36:58.310Z"
   },
   {
    "duration": 27,
    "start_time": "2023-11-05T18:36:58.356Z"
   },
   {
    "duration": 5,
    "start_time": "2023-11-05T18:36:58.386Z"
   },
   {
    "duration": 49,
    "start_time": "2023-11-05T18:36:58.393Z"
   },
   {
    "duration": 163,
    "start_time": "2023-11-05T18:36:58.444Z"
   },
   {
    "duration": 42,
    "start_time": "2023-11-05T18:36:58.609Z"
   },
   {
    "duration": 74,
    "start_time": "2023-11-05T18:36:58.653Z"
   },
   {
    "duration": 19,
    "start_time": "2023-11-05T18:36:58.729Z"
   },
   {
    "duration": 93,
    "start_time": "2023-11-05T18:36:58.750Z"
   },
   {
    "duration": 91,
    "start_time": "2023-11-05T18:36:58.845Z"
   },
   {
    "duration": 95,
    "start_time": "2023-11-05T18:36:58.938Z"
   },
   {
    "duration": 85,
    "start_time": "2023-11-05T18:36:59.034Z"
   },
   {
    "duration": 7,
    "start_time": "2023-11-05T18:36:59.123Z"
   },
   {
    "duration": 20,
    "start_time": "2023-11-05T18:36:59.132Z"
   },
   {
    "duration": 34,
    "start_time": "2023-11-05T18:36:59.154Z"
   },
   {
    "duration": 31,
    "start_time": "2023-11-05T18:36:59.190Z"
   },
   {
    "duration": 28,
    "start_time": "2023-11-05T18:36:59.223Z"
   },
   {
    "duration": 24,
    "start_time": "2023-11-05T18:36:59.253Z"
   },
   {
    "duration": 31,
    "start_time": "2023-11-05T18:36:59.278Z"
   },
   {
    "duration": 172,
    "start_time": "2023-11-05T18:36:59.311Z"
   },
   {
    "duration": 13,
    "start_time": "2023-11-05T18:36:59.485Z"
   },
   {
    "duration": 33,
    "start_time": "2023-11-05T18:36:59.500Z"
   },
   {
    "duration": 97,
    "start_time": "2023-11-05T18:36:59.534Z"
   },
   {
    "duration": 2260,
    "start_time": "2023-11-05T18:37:44.689Z"
   },
   {
    "duration": 1107,
    "start_time": "2023-11-05T18:37:46.951Z"
   },
   {
    "duration": 1113,
    "start_time": "2023-11-05T18:37:48.059Z"
   },
   {
    "duration": 15,
    "start_time": "2023-11-05T18:37:49.174Z"
   },
   {
    "duration": 41,
    "start_time": "2023-11-05T18:37:49.191Z"
   },
   {
    "duration": 25,
    "start_time": "2023-11-05T18:37:49.234Z"
   },
   {
    "duration": 40,
    "start_time": "2023-11-05T18:37:49.261Z"
   },
   {
    "duration": 33,
    "start_time": "2023-11-05T18:37:49.302Z"
   },
   {
    "duration": 150,
    "start_time": "2023-11-05T18:37:49.336Z"
   },
   {
    "duration": 252,
    "start_time": "2023-11-05T18:37:49.490Z"
   },
   {
    "duration": 7,
    "start_time": "2023-11-05T18:37:49.744Z"
   },
   {
    "duration": 110,
    "start_time": "2023-11-05T18:37:49.753Z"
   },
   {
    "duration": 286,
    "start_time": "2023-11-05T18:37:49.865Z"
   },
   {
    "duration": 12,
    "start_time": "2023-11-05T18:37:50.153Z"
   },
   {
    "duration": 60,
    "start_time": "2023-11-05T18:37:50.167Z"
   },
   {
    "duration": 37,
    "start_time": "2023-11-05T18:37:50.229Z"
   },
   {
    "duration": 42,
    "start_time": "2023-11-05T18:37:50.268Z"
   },
   {
    "duration": 20,
    "start_time": "2023-11-05T18:37:50.312Z"
   },
   {
    "duration": 22,
    "start_time": "2023-11-05T18:37:50.334Z"
   },
   {
    "duration": 188,
    "start_time": "2023-11-05T18:37:50.357Z"
   },
   {
    "duration": 13,
    "start_time": "2023-11-05T18:37:50.547Z"
   },
   {
    "duration": 92,
    "start_time": "2023-11-05T18:37:50.562Z"
   },
   {
    "duration": 51,
    "start_time": "2023-11-05T18:37:50.655Z"
   },
   {
    "duration": 6,
    "start_time": "2023-11-05T18:37:50.714Z"
   },
   {
    "duration": 346,
    "start_time": "2023-11-05T18:37:50.722Z"
   },
   {
    "duration": 567,
    "start_time": "2023-11-05T18:37:51.069Z"
   },
   {
    "duration": 14,
    "start_time": "2023-11-05T18:37:51.638Z"
   },
   {
    "duration": 43,
    "start_time": "2023-11-05T18:37:51.656Z"
   },
   {
    "duration": 28,
    "start_time": "2023-11-05T18:37:51.701Z"
   },
   {
    "duration": 42,
    "start_time": "2023-11-05T18:37:51.731Z"
   },
   {
    "duration": 13,
    "start_time": "2023-11-05T18:37:51.775Z"
   },
   {
    "duration": 43,
    "start_time": "2023-11-05T18:37:51.790Z"
   },
   {
    "duration": 170,
    "start_time": "2023-11-05T18:37:51.835Z"
   },
   {
    "duration": 39,
    "start_time": "2023-11-05T18:37:52.007Z"
   },
   {
    "duration": 66,
    "start_time": "2023-11-05T18:37:52.048Z"
   },
   {
    "duration": 21,
    "start_time": "2023-11-05T18:37:52.116Z"
   },
   {
    "duration": 111,
    "start_time": "2023-11-05T18:37:52.138Z"
   },
   {
    "duration": 95,
    "start_time": "2023-11-05T18:37:52.251Z"
   },
   {
    "duration": 90,
    "start_time": "2023-11-05T18:37:52.348Z"
   },
   {
    "duration": 92,
    "start_time": "2023-11-05T18:37:52.440Z"
   },
   {
    "duration": 9,
    "start_time": "2023-11-05T18:37:52.534Z"
   },
   {
    "duration": 44,
    "start_time": "2023-11-05T18:37:52.544Z"
   },
   {
    "duration": 30,
    "start_time": "2023-11-05T18:37:52.590Z"
   },
   {
    "duration": 44,
    "start_time": "2023-11-05T18:37:52.622Z"
   },
   {
    "duration": 52,
    "start_time": "2023-11-05T18:37:52.667Z"
   },
   {
    "duration": 32,
    "start_time": "2023-11-05T18:37:52.721Z"
   },
   {
    "duration": 44,
    "start_time": "2023-11-05T18:37:52.755Z"
   },
   {
    "duration": 183,
    "start_time": "2023-11-05T18:37:52.801Z"
   },
   {
    "duration": 13,
    "start_time": "2023-11-05T18:37:52.985Z"
   },
   {
    "duration": 65,
    "start_time": "2023-11-05T18:37:53.000Z"
   },
   {
    "duration": 84,
    "start_time": "2023-11-05T18:37:53.067Z"
   }
  ],
  "kernelspec": {
   "display_name": "Python 3 (ipykernel)",
   "language": "python",
   "name": "python3"
  },
  "language_info": {
   "codemirror_mode": {
    "name": "ipython",
    "version": 3
   },
   "file_extension": ".py",
   "mimetype": "text/x-python",
   "name": "python",
   "nbconvert_exporter": "python",
   "pygments_lexer": "ipython3",
   "version": "3.9.5"
  },
  "toc": {
   "base_numbering": 1,
   "nav_menu": {},
   "number_sections": true,
   "sideBar": true,
   "skip_h1_title": true,
   "title_cell": "Table of Contents",
   "title_sidebar": "Contents",
   "toc_cell": false,
   "toc_position": {},
   "toc_section_display": true,
   "toc_window_display": false
  }
 },
 "nbformat": 4,
 "nbformat_minor": 2
}
