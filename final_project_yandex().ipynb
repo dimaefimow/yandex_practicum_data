{
 "cells": [
  {
   "cell_type": "markdown",
   "metadata": {},
   "source": [
    "ё«НуПозвони» — провайдер виртуальной телефонии. Его клиенты — колл-центры (юр. лица), которые:\n",
    "- распределяют входящие вызовы по своим операторам\n",
    "- обеспечивают исходящие вызовы от операторов\n",
    "\n",
    "\n",
    "#### Тарифная сетка\n",
    "В Телекоме действуют следующие тарифные планы:\n",
    "\n",
    "|   Тарифный план    |     Ежемесячная плата    |     Входящие    |     Исходящие звонки* внутри сети**|     Лимит внут. исх    |     Исходящие   звонки*, кроме внутренних    | Плата за 1 оператора |\n",
    "|:---:|:---:|:---:|:---:|:---:|:---:|:---:|\n",
    "|     А    |     4 000 ₽    |     0    |     0.10 ₽/мин.    |     2000    |     0.3 ₽/мин.    | 50 ₽/оператор |\n",
    "|     В    |     2 000 ₽    |     0    |     0.15 ₽/мин.    |     500     |     0.5 ₽/мин.    | 150 ₽/оператор |\n",
    "|     С    |     1 000 ₽    |     0    |     0.30 ₽/мин.    |     0       |     0.7 ₽/мин.    | 300 ₽/оператор |\n",
    "\n",
    "\\* исходящие звонки с учетом времени ожидания; <br>\n",
    "\\** на некоторых тарифах на исходящие звонки внутри сети существует бесплатный лимит в определенное количество минут (см. тарифный план); цена приведена на расход свыше установленного лимита.\n",
    "\n",
    "Расходы клиента состоят из (<font color='#b89559'>структура затрат</font>):\n",
    "1. ежемесячной платы +\n",
    "2. платы за перерасход по внутренним исходящим звонкам, с учетом времени ожидания (`total_call_duration`) +\n",
    "3. платы за внешние исходящие звонки, с учетом времени ожидания (`total_call_duration`) +\n",
    "4. платы оператора\n",
    "\n",
    "<font color='#b89559'>Клиенты, которые используют неэффективно действующий тариф</font>: такие клиенты, которые могли бы иметь меньшие расходы в месяц, если бы использовали один из других тарифных планов. Например, клиент использует тариф `В` и платит `5250 ₽`, но на тарифе `С` он бы платил бы `5150 ₽`, то такой клиент использует свой тариф неэффективно, и ему можно предложить сменить его.\n",
    "\n",
    "\n",
    "#### Привила выставления счета\n",
    "\n",
    "<font color='#b89559'>Счета</font> выставляются за прошедший календарный месяц, поэтому датой списания можно считать <font color='#b89559'>1-е число каждого месяца</font>. Остаток внутреннего исходящего трафика сгорает на начало месяца. \n",
    "\n",
    "<font color='#b89559'>Тарификация</font> происходит на основе кумулятивных показателей за период расчета (календарный месяц). Общая продолжительность звонков (в минутах) за день по каждому оператору <font color='#b89559'>округляется в большую сторону</font>. \n",
    "\n",
    "\n"
   ]
  },
  {
   "cell_type": "markdown",
   "metadata": {},
   "source": [
    "#### Исходные данные\n",
    "\n",
    "В работу поступило два датасета, которые характеризуют использование услуг «НуПозвони».\n",
    "\n",
    "1. датасет `telecom_dataset.csv`\n",
    "- `user_id` - идентификатор клиента,\n",
    "- `date` - дата статистики;\n",
    "- `direction` - направление вызовов: out — исходящий вызов, in — входящий; \n",
    "- `internal` - маркер внутренних и внешних вызовов; вызовы между сотрудниками одного колл-центра называют внутренними, остальные — внешними.\n",
    "- `operator_id` - идентификатор оператора;\n",
    "- `is_missed_call` - маркер пропущенных вызовов;\n",
    "- `calls_count` - количество звонков;\n",
    "- `call_duration` - длительность **всех звонков** без учёта времени ожидания;\n",
    "- `total_call_duration` - длительность **всех звонков** с учётом времени ожидания.\n",
    "\n",
    "2. датасет `telecom_clients.csv`\n",
    "- `user_id` — идентификатор клиента;\n",
    "- `tariff_plan` — тарифный план клиента;\n",
    "- `date_start` — дата регистрации клиента в сервисе.\n",
    "\n",
    "---\n",
    "\n",
    "#### период анализа данных\n",
    "\n",
    "данные для анализа берутся за последние 3 месяца\n",
    "\n",
    "активные клиенты - пользователи которые совершали звонки за последние 10 дней \n"
   ]
  },
  {
   "cell_type": "markdown",
   "metadata": {},
   "source": [
    "#### цели анализа данных \n",
    "\n",
    "\n",
    "*  выяснить сколько будет получать компания если пользователи будут использовать оптимальные тарифы; \n",
    "*  как компания может минимизировать потери выручки при переводе клиентов на другие тарифы.\n"
   ]
  },
  {
   "cell_type": "markdown",
   "metadata": {},
   "source": [
    "#### декомпозиция \n",
    "\n",
    "1. Изучение данных:\n",
    "   - Импорт и загрузка данных из датасета\n",
    "   - Просмотр основной информации о данных (столбцы, типы данных, пропущенные значения, дубликаты)\n",
    "   - Оценка качества данных, их достоверности и полноты\n",
    "\n",
    "\n",
    "\n",
    "2. Предобработка данных:\n",
    "   - Обработка пропущенных значений (если есть) и заполнение их соответствующим образом\n",
    "   - Преобразование формата даты в удобный вид\n",
    "   - Проверка наличия выбросов и аномалий в данных\n",
    "   - Создание новых столбцов, если необходимо (например, вычисление общей стоимости звонков для каждого клиента)\n",
    "\n",
    "\n",
    "3. Анализ данных:\n",
    "   - определить активных клиентов (польтзователи совершающие звонки 10 дней за последний месяц)\n",
    "   - найти пользователей которые больше всего платят\n",
    "   - посчитать сколько переплачивает конкретный клиент на неоптимальном тарифе\n",
    "     (посчитать сколько пользователь будет тратить на тарифах 'a' 'b' 'c' и подобрать оптимальный)  \n",
    "   - посчитать выручку компании в текущий момент \n",
    "   - посчитать выручку компании после перевода всех клиентов на оптимальные тарифы\n",
    "   - посчитать выручку компании если на оптимальные тарифы перейдут только активные клиенты \n",
    "   - создать сводную таблицу клиентов которые переплачивают с рекомендациями нового тарифа \n",
    "\n",
    "\n",
    "\n",
    "4. Предложение решения для уменьшения риска падения выручки:\n",
    "   - предложение кастомизированных тарифов для клиентов \n",
    "   - посчитать колличество прибыли которая потеряет компания если клиенты с неоптимальными тарифпми уйдут к конкуренту \n",
    "   - внедрение дополнительных услуг например комбо тарифы с подписками на музыку и фильмамы\n",
    "\n",
    "\n",
    "\n",
    "\n",
    "\n",
    "\n",
    "5. провести а/б тесты \n",
    "\n",
    "\n",
    "\n",
    "6. создать дашборд и презентацию \n",
    "\n",
    "\n",
    "7. написать выводы по проекту и предложения по улучшению или оптимизации сервиса телеком компании \n",
    "\n"
   ]
  },
  {
   "cell_type": "markdown",
   "metadata": {},
   "source": [
    "**презентация по проекту:** https://disk.yandex.ru/d/U-c1uofa3lQPYA"
   ]
  },
  {
   "cell_type": "code",
   "execution_count": 1,
   "metadata": {},
   "outputs": [],
   "source": [
    "import pandas as pd\n",
    "import numpy as np\n",
    "import os\n",
    "import scipy.stats as stats\n",
    "\n",
    "\n",
    "import matplotlib.pyplot as plt\n",
    "%matplotlib inline\n",
    "import matplotlib.cm as cm\n",
    "import seaborn as sns\n",
    "import plotly.express as px\n",
    "\n",
    "import warnings\n",
    "warnings.filterwarnings('ignore')\n",
    "\n",
    "import scipy\n",
    "import datetime\n"
   ]
  },
  {
   "cell_type": "code",
   "execution_count": 2,
   "metadata": {},
   "outputs": [],
   "source": [
    "# загрузка данных:\n",
    "telecom = pd.read_csv('https://code.s3.yandex.net/datasets/telecom_dataset.csv')\n",
    "clients = pd.read_csv('https://code.s3.yandex.net/datasets/telecom_clients.csv')"
   ]
  },
  {
   "cell_type": "markdown",
   "metadata": {},
   "source": [
    "## изучение данных"
   ]
  },
  {
   "cell_type": "code",
   "execution_count": 3,
   "metadata": {},
   "outputs": [
    {
     "data": {
      "text/html": [
       "<div>\n",
       "<style scoped>\n",
       "    .dataframe tbody tr th:only-of-type {\n",
       "        vertical-align: middle;\n",
       "    }\n",
       "\n",
       "    .dataframe tbody tr th {\n",
       "        vertical-align: top;\n",
       "    }\n",
       "\n",
       "    .dataframe thead th {\n",
       "        text-align: right;\n",
       "    }\n",
       "</style>\n",
       "<table border=\"1\" class=\"dataframe\">\n",
       "  <thead>\n",
       "    <tr style=\"text-align: right;\">\n",
       "      <th></th>\n",
       "      <th>user_id</th>\n",
       "      <th>date</th>\n",
       "      <th>direction</th>\n",
       "      <th>internal</th>\n",
       "      <th>operator_id</th>\n",
       "      <th>is_missed_call</th>\n",
       "      <th>calls_count</th>\n",
       "      <th>call_duration</th>\n",
       "      <th>total_call_duration</th>\n",
       "    </tr>\n",
       "  </thead>\n",
       "  <tbody>\n",
       "    <tr>\n",
       "      <th>0</th>\n",
       "      <td>166377</td>\n",
       "      <td>2019-08-04 00:00:00+03:00</td>\n",
       "      <td>in</td>\n",
       "      <td>False</td>\n",
       "      <td>NaN</td>\n",
       "      <td>True</td>\n",
       "      <td>2</td>\n",
       "      <td>0</td>\n",
       "      <td>4</td>\n",
       "    </tr>\n",
       "    <tr>\n",
       "      <th>1</th>\n",
       "      <td>166377</td>\n",
       "      <td>2019-08-05 00:00:00+03:00</td>\n",
       "      <td>out</td>\n",
       "      <td>True</td>\n",
       "      <td>880022.0</td>\n",
       "      <td>True</td>\n",
       "      <td>3</td>\n",
       "      <td>0</td>\n",
       "      <td>5</td>\n",
       "    </tr>\n",
       "    <tr>\n",
       "      <th>2</th>\n",
       "      <td>166377</td>\n",
       "      <td>2019-08-05 00:00:00+03:00</td>\n",
       "      <td>out</td>\n",
       "      <td>True</td>\n",
       "      <td>880020.0</td>\n",
       "      <td>True</td>\n",
       "      <td>1</td>\n",
       "      <td>0</td>\n",
       "      <td>1</td>\n",
       "    </tr>\n",
       "    <tr>\n",
       "      <th>3</th>\n",
       "      <td>166377</td>\n",
       "      <td>2019-08-05 00:00:00+03:00</td>\n",
       "      <td>out</td>\n",
       "      <td>True</td>\n",
       "      <td>880020.0</td>\n",
       "      <td>False</td>\n",
       "      <td>1</td>\n",
       "      <td>10</td>\n",
       "      <td>18</td>\n",
       "    </tr>\n",
       "    <tr>\n",
       "      <th>4</th>\n",
       "      <td>166377</td>\n",
       "      <td>2019-08-05 00:00:00+03:00</td>\n",
       "      <td>out</td>\n",
       "      <td>False</td>\n",
       "      <td>880022.0</td>\n",
       "      <td>True</td>\n",
       "      <td>3</td>\n",
       "      <td>0</td>\n",
       "      <td>25</td>\n",
       "    </tr>\n",
       "  </tbody>\n",
       "</table>\n",
       "</div>"
      ],
      "text/plain": [
       "   user_id                       date direction internal  operator_id  \\\n",
       "0   166377  2019-08-04 00:00:00+03:00        in    False          NaN   \n",
       "1   166377  2019-08-05 00:00:00+03:00       out     True     880022.0   \n",
       "2   166377  2019-08-05 00:00:00+03:00       out     True     880020.0   \n",
       "3   166377  2019-08-05 00:00:00+03:00       out     True     880020.0   \n",
       "4   166377  2019-08-05 00:00:00+03:00       out    False     880022.0   \n",
       "\n",
       "   is_missed_call  calls_count  call_duration  total_call_duration  \n",
       "0            True            2              0                    4  \n",
       "1            True            3              0                    5  \n",
       "2            True            1              0                    1  \n",
       "3           False            1             10                   18  \n",
       "4            True            3              0                   25  "
      ]
     },
     "execution_count": 3,
     "metadata": {},
     "output_type": "execute_result"
    }
   ],
   "source": [
    "telecom.head()"
   ]
  },
  {
   "cell_type": "code",
   "execution_count": 4,
   "metadata": {},
   "outputs": [
    {
     "data": {
      "text/html": [
       "<div>\n",
       "<style scoped>\n",
       "    .dataframe tbody tr th:only-of-type {\n",
       "        vertical-align: middle;\n",
       "    }\n",
       "\n",
       "    .dataframe tbody tr th {\n",
       "        vertical-align: top;\n",
       "    }\n",
       "\n",
       "    .dataframe thead th {\n",
       "        text-align: right;\n",
       "    }\n",
       "</style>\n",
       "<table border=\"1\" class=\"dataframe\">\n",
       "  <thead>\n",
       "    <tr style=\"text-align: right;\">\n",
       "      <th></th>\n",
       "      <th>user_id</th>\n",
       "      <th>tariff_plan</th>\n",
       "      <th>date_start</th>\n",
       "    </tr>\n",
       "  </thead>\n",
       "  <tbody>\n",
       "    <tr>\n",
       "      <th>0</th>\n",
       "      <td>166713</td>\n",
       "      <td>A</td>\n",
       "      <td>2019-08-15</td>\n",
       "    </tr>\n",
       "    <tr>\n",
       "      <th>1</th>\n",
       "      <td>166901</td>\n",
       "      <td>A</td>\n",
       "      <td>2019-08-23</td>\n",
       "    </tr>\n",
       "    <tr>\n",
       "      <th>2</th>\n",
       "      <td>168527</td>\n",
       "      <td>A</td>\n",
       "      <td>2019-10-29</td>\n",
       "    </tr>\n",
       "    <tr>\n",
       "      <th>3</th>\n",
       "      <td>167097</td>\n",
       "      <td>A</td>\n",
       "      <td>2019-09-01</td>\n",
       "    </tr>\n",
       "    <tr>\n",
       "      <th>4</th>\n",
       "      <td>168193</td>\n",
       "      <td>A</td>\n",
       "      <td>2019-10-16</td>\n",
       "    </tr>\n",
       "  </tbody>\n",
       "</table>\n",
       "</div>"
      ],
      "text/plain": [
       "   user_id tariff_plan  date_start\n",
       "0   166713           A  2019-08-15\n",
       "1   166901           A  2019-08-23\n",
       "2   168527           A  2019-10-29\n",
       "3   167097           A  2019-09-01\n",
       "4   168193           A  2019-10-16"
      ]
     },
     "execution_count": 4,
     "metadata": {},
     "output_type": "execute_result"
    }
   ],
   "source": [
    "clients.head()"
   ]
  },
  {
   "cell_type": "markdown",
   "metadata": {},
   "source": [
    "анализ буду проводить на основе 2 таблиц"
   ]
  },
  {
   "cell_type": "code",
   "execution_count": 5,
   "metadata": {},
   "outputs": [],
   "source": [
    "clients['date_start'] = pd.to_datetime(clients['date_start'], format='%Y-%m-%d')\n",
    "telecom['date'] = pd.to_datetime(telecom['date']).dt.date\n",
    "telecom['internal'] = telecom['internal'].astype(bool)\n"
   ]
  },
  {
   "cell_type": "markdown",
   "metadata": {},
   "source": [
    "изменение формата date для удобного извлечения нужных дат и замена internal на значение bool"
   ]
  },
  {
   "cell_type": "code",
   "execution_count": 6,
   "metadata": {},
   "outputs": [],
   "source": [
    "telecom_shape = telecom.shape\n",
    "clients_shape = clients.shape"
   ]
  },
  {
   "cell_type": "code",
   "execution_count": 7,
   "metadata": {},
   "outputs": [],
   "source": [
    "clients_missing_rows = clients.isnull().sum()\n",
    "clients_duplicates = clients.duplicated().sum()\n",
    "\n",
    "telecom_missing_rows = telecom.isnull().sum()\n",
    "telecom_duplicates = telecom.duplicated().sum()\n"
   ]
  },
  {
   "cell_type": "code",
   "execution_count": 8,
   "metadata": {},
   "outputs": [
    {
     "name": "stdout",
     "output_type": "stream",
     "text": [
      "Объем данных:\n",
      "Датасет telecom.csv: (53902, 9)\n",
      "Датасет clients.csv: (732, 3)\n"
     ]
    }
   ],
   "source": [
    "print(\"Объем данных:\")\n",
    "print(\"Датасет telecom.csv:\", telecom_shape)\n",
    "print(\"Датасет clients.csv:\", clients_shape)"
   ]
  },
  {
   "cell_type": "code",
   "execution_count": 9,
   "metadata": {},
   "outputs": [
    {
     "name": "stdout",
     "output_type": "stream",
     "text": [
      "Явные дубликаты и их доля:\n",
      "user_id                   0\n",
      "date                      0\n",
      "direction                 0\n",
      "internal                  0\n",
      "operator_id            8172\n",
      "is_missed_call            0\n",
      "calls_count               0\n",
      "call_duration             0\n",
      "total_call_duration       0\n",
      "dtype: int64\n",
      "Количество явных дубликатов в датасете telecom.csv: 4900\n",
      "45730\n"
     ]
    }
   ],
   "source": [
    "print(\"Явные дубликаты и их доля:\")\n",
    "print(telecom_missing_rows)\n",
    "print(\"Количество явных дубликатов в датасете telecom.csv:\", telecom_duplicates)\n",
    "print(telecom['operator_id'].count())"
   ]
  },
  {
   "cell_type": "code",
   "execution_count": 10,
   "metadata": {},
   "outputs": [
    {
     "name": "stdout",
     "output_type": "stream",
     "text": [
      "Процент пустых строк в столбце operator_id: 15.16%\n"
     ]
    }
   ],
   "source": [
    "missing_percentage = (telecom['operator_id'].isnull().sum() / len(telecom)) * 100\n",
    "print(f'Процент пустых строк в столбце operator_id: {missing_percentage:.2f}%')"
   ]
  },
  {
   "cell_type": "code",
   "execution_count": 11,
   "metadata": {},
   "outputs": [
    {
     "data": {
      "text/html": [
       "<div>\n",
       "<style scoped>\n",
       "    .dataframe tbody tr th:only-of-type {\n",
       "        vertical-align: middle;\n",
       "    }\n",
       "\n",
       "    .dataframe tbody tr th {\n",
       "        vertical-align: top;\n",
       "    }\n",
       "\n",
       "    .dataframe thead th {\n",
       "        text-align: right;\n",
       "    }\n",
       "</style>\n",
       "<table border=\"1\" class=\"dataframe\">\n",
       "  <thead>\n",
       "    <tr style=\"text-align: right;\">\n",
       "      <th></th>\n",
       "      <th>user_id</th>\n",
       "      <th>date</th>\n",
       "      <th>direction</th>\n",
       "      <th>internal</th>\n",
       "      <th>operator_id</th>\n",
       "      <th>is_missed_call</th>\n",
       "      <th>calls_count</th>\n",
       "      <th>call_duration</th>\n",
       "      <th>total_call_duration</th>\n",
       "    </tr>\n",
       "  </thead>\n",
       "  <tbody>\n",
       "    <tr>\n",
       "      <th>53632</th>\n",
       "      <td>168473</td>\n",
       "      <td>2019-10-29</td>\n",
       "      <td>in</td>\n",
       "      <td>False</td>\n",
       "      <td>NaN</td>\n",
       "      <td>True</td>\n",
       "      <td>1</td>\n",
       "      <td>0</td>\n",
       "      <td>2</td>\n",
       "    </tr>\n",
       "    <tr>\n",
       "      <th>35686</th>\n",
       "      <td>167533</td>\n",
       "      <td>2019-09-23</td>\n",
       "      <td>in</td>\n",
       "      <td>True</td>\n",
       "      <td>NaN</td>\n",
       "      <td>True</td>\n",
       "      <td>1</td>\n",
       "      <td>0</td>\n",
       "      <td>12</td>\n",
       "    </tr>\n",
       "    <tr>\n",
       "      <th>39974</th>\n",
       "      <td>167781</td>\n",
       "      <td>2019-11-13</td>\n",
       "      <td>in</td>\n",
       "      <td>False</td>\n",
       "      <td>NaN</td>\n",
       "      <td>True</td>\n",
       "      <td>1</td>\n",
       "      <td>0</td>\n",
       "      <td>30</td>\n",
       "    </tr>\n",
       "    <tr>\n",
       "      <th>39356</th>\n",
       "      <td>167727</td>\n",
       "      <td>2019-10-30</td>\n",
       "      <td>in</td>\n",
       "      <td>False</td>\n",
       "      <td>NaN</td>\n",
       "      <td>True</td>\n",
       "      <td>1</td>\n",
       "      <td>0</td>\n",
       "      <td>2</td>\n",
       "    </tr>\n",
       "    <tr>\n",
       "      <th>50279</th>\n",
       "      <td>168252</td>\n",
       "      <td>2019-11-05</td>\n",
       "      <td>out</td>\n",
       "      <td>False</td>\n",
       "      <td>NaN</td>\n",
       "      <td>False</td>\n",
       "      <td>3</td>\n",
       "      <td>2128</td>\n",
       "      <td>2184</td>\n",
       "    </tr>\n",
       "    <tr>\n",
       "      <th>42977</th>\n",
       "      <td>167977</td>\n",
       "      <td>2019-11-07</td>\n",
       "      <td>in</td>\n",
       "      <td>False</td>\n",
       "      <td>NaN</td>\n",
       "      <td>True</td>\n",
       "      <td>7</td>\n",
       "      <td>0</td>\n",
       "      <td>203</td>\n",
       "    </tr>\n",
       "    <tr>\n",
       "      <th>24731</th>\n",
       "      <td>167112</td>\n",
       "      <td>2019-10-24</td>\n",
       "      <td>in</td>\n",
       "      <td>False</td>\n",
       "      <td>NaN</td>\n",
       "      <td>True</td>\n",
       "      <td>6</td>\n",
       "      <td>0</td>\n",
       "      <td>130</td>\n",
       "    </tr>\n",
       "    <tr>\n",
       "      <th>18607</th>\n",
       "      <td>166975</td>\n",
       "      <td>2019-09-24</td>\n",
       "      <td>in</td>\n",
       "      <td>False</td>\n",
       "      <td>NaN</td>\n",
       "      <td>True</td>\n",
       "      <td>1</td>\n",
       "      <td>0</td>\n",
       "      <td>2</td>\n",
       "    </tr>\n",
       "    <tr>\n",
       "      <th>51312</th>\n",
       "      <td>168275</td>\n",
       "      <td>2019-11-05</td>\n",
       "      <td>in</td>\n",
       "      <td>False</td>\n",
       "      <td>NaN</td>\n",
       "      <td>True</td>\n",
       "      <td>2</td>\n",
       "      <td>0</td>\n",
       "      <td>32</td>\n",
       "    </tr>\n",
       "    <tr>\n",
       "      <th>20992</th>\n",
       "      <td>167012</td>\n",
       "      <td>2019-08-28</td>\n",
       "      <td>in</td>\n",
       "      <td>False</td>\n",
       "      <td>NaN</td>\n",
       "      <td>True</td>\n",
       "      <td>1</td>\n",
       "      <td>0</td>\n",
       "      <td>21</td>\n",
       "    </tr>\n",
       "    <tr>\n",
       "      <th>6876</th>\n",
       "      <td>166582</td>\n",
       "      <td>2019-09-17</td>\n",
       "      <td>in</td>\n",
       "      <td>False</td>\n",
       "      <td>NaN</td>\n",
       "      <td>True</td>\n",
       "      <td>129</td>\n",
       "      <td>0</td>\n",
       "      <td>2347</td>\n",
       "    </tr>\n",
       "    <tr>\n",
       "      <th>28990</th>\n",
       "      <td>167189</td>\n",
       "      <td>2019-10-25</td>\n",
       "      <td>in</td>\n",
       "      <td>False</td>\n",
       "      <td>NaN</td>\n",
       "      <td>True</td>\n",
       "      <td>1</td>\n",
       "      <td>0</td>\n",
       "      <td>2</td>\n",
       "    </tr>\n",
       "    <tr>\n",
       "      <th>2911</th>\n",
       "      <td>166485</td>\n",
       "      <td>2019-08-28</td>\n",
       "      <td>in</td>\n",
       "      <td>False</td>\n",
       "      <td>NaN</td>\n",
       "      <td>True</td>\n",
       "      <td>2</td>\n",
       "      <td>0</td>\n",
       "      <td>42</td>\n",
       "    </tr>\n",
       "    <tr>\n",
       "      <th>16389</th>\n",
       "      <td>166916</td>\n",
       "      <td>2019-10-11</td>\n",
       "      <td>in</td>\n",
       "      <td>False</td>\n",
       "      <td>NaN</td>\n",
       "      <td>True</td>\n",
       "      <td>10</td>\n",
       "      <td>0</td>\n",
       "      <td>119</td>\n",
       "    </tr>\n",
       "    <tr>\n",
       "      <th>7831</th>\n",
       "      <td>166636</td>\n",
       "      <td>2019-11-19</td>\n",
       "      <td>in</td>\n",
       "      <td>False</td>\n",
       "      <td>NaN</td>\n",
       "      <td>True</td>\n",
       "      <td>1</td>\n",
       "      <td>0</td>\n",
       "      <td>13</td>\n",
       "    </tr>\n",
       "  </tbody>\n",
       "</table>\n",
       "</div>"
      ],
      "text/plain": [
       "       user_id        date direction  internal  operator_id  is_missed_call  \\\n",
       "53632   168473  2019-10-29        in     False          NaN            True   \n",
       "35686   167533  2019-09-23        in      True          NaN            True   \n",
       "39974   167781  2019-11-13        in     False          NaN            True   \n",
       "39356   167727  2019-10-30        in     False          NaN            True   \n",
       "50279   168252  2019-11-05       out     False          NaN           False   \n",
       "42977   167977  2019-11-07        in     False          NaN            True   \n",
       "24731   167112  2019-10-24        in     False          NaN            True   \n",
       "18607   166975  2019-09-24        in     False          NaN            True   \n",
       "51312   168275  2019-11-05        in     False          NaN            True   \n",
       "20992   167012  2019-08-28        in     False          NaN            True   \n",
       "6876    166582  2019-09-17        in     False          NaN            True   \n",
       "28990   167189  2019-10-25        in     False          NaN            True   \n",
       "2911    166485  2019-08-28        in     False          NaN            True   \n",
       "16389   166916  2019-10-11        in     False          NaN            True   \n",
       "7831    166636  2019-11-19        in     False          NaN            True   \n",
       "\n",
       "       calls_count  call_duration  total_call_duration  \n",
       "53632            1              0                    2  \n",
       "35686            1              0                   12  \n",
       "39974            1              0                   30  \n",
       "39356            1              0                    2  \n",
       "50279            3           2128                 2184  \n",
       "42977            7              0                  203  \n",
       "24731            6              0                  130  \n",
       "18607            1              0                    2  \n",
       "51312            2              0                   32  \n",
       "20992            1              0                   21  \n",
       "6876           129              0                 2347  \n",
       "28990            1              0                    2  \n",
       "2911             2              0                   42  \n",
       "16389           10              0                  119  \n",
       "7831             1              0                   13  "
      ]
     },
     "metadata": {},
     "output_type": "display_data"
    }
   ],
   "source": [
    "missing_operator_id = telecom[telecom['operator_id'].isnull()]\n",
    "random_missing = missing_operator_id.sample(n=15)\n",
    "display(random_missing)\n"
   ]
  },
  {
   "cell_type": "markdown",
   "metadata": {},
   "source": [
    "15 рандомных строк с пропусками operator_id. Могу предположитьь что эти звонки были совершенны по ошибке а клиент сразу сбросил, поэтому продолжительность всех звонков 0 а также все эти звонки обозначаются как пропущенные. "
   ]
  },
  {
   "cell_type": "code",
   "execution_count": 12,
   "metadata": {},
   "outputs": [
    {
     "data": {
      "text/html": [
       "<div>\n",
       "<style scoped>\n",
       "    .dataframe tbody tr th:only-of-type {\n",
       "        vertical-align: middle;\n",
       "    }\n",
       "\n",
       "    .dataframe tbody tr th {\n",
       "        vertical-align: top;\n",
       "    }\n",
       "\n",
       "    .dataframe thead th {\n",
       "        text-align: right;\n",
       "    }\n",
       "</style>\n",
       "<table border=\"1\" class=\"dataframe\">\n",
       "  <thead>\n",
       "    <tr style=\"text-align: right;\">\n",
       "      <th></th>\n",
       "      <th></th>\n",
       "      <th>user_id</th>\n",
       "      <th>calls_count</th>\n",
       "      <th>calls_share</th>\n",
       "      <th>total_calls_share</th>\n",
       "    </tr>\n",
       "    <tr>\n",
       "      <th>is_missed_call</th>\n",
       "      <th>direction</th>\n",
       "      <th></th>\n",
       "      <th></th>\n",
       "      <th></th>\n",
       "      <th></th>\n",
       "    </tr>\n",
       "  </thead>\n",
       "  <tbody>\n",
       "    <tr>\n",
       "      <th rowspan=\"2\" valign=\"top\">False</th>\n",
       "      <th>in</th>\n",
       "      <td>10</td>\n",
       "      <td>714</td>\n",
       "      <td>0.006279</td>\n",
       "      <td>0.000805</td>\n",
       "    </tr>\n",
       "    <tr>\n",
       "      <th>out</th>\n",
       "      <td>3</td>\n",
       "      <td>334</td>\n",
       "      <td>0.002937</td>\n",
       "      <td>0.000377</td>\n",
       "    </tr>\n",
       "    <tr>\n",
       "      <th rowspan=\"2\" valign=\"top\">True</th>\n",
       "      <th>in</th>\n",
       "      <td>305</td>\n",
       "      <td>112453</td>\n",
       "      <td>0.988893</td>\n",
       "      <td>0.126814</td>\n",
       "    </tr>\n",
       "    <tr>\n",
       "      <th>out</th>\n",
       "      <td>49</td>\n",
       "      <td>215</td>\n",
       "      <td>0.001891</td>\n",
       "      <td>0.000242</td>\n",
       "    </tr>\n",
       "  </tbody>\n",
       "</table>\n",
       "</div>"
      ],
      "text/plain": [
       "                          user_id  calls_count  calls_share  total_calls_share\n",
       "is_missed_call direction                                                      \n",
       "False          in              10          714     0.006279           0.000805\n",
       "               out              3          334     0.002937           0.000377\n",
       "True           in             305       112453     0.988893           0.126814\n",
       "               out             49          215     0.001891           0.000242"
      ]
     },
     "execution_count": 12,
     "metadata": {},
     "output_type": "execute_result"
    }
   ],
   "source": [
    "# ячейка ревьюера:\n",
    "tmp = pd.read_csv('https://code.s3.yandex.net/datasets/telecom_dataset.csv')\n",
    "\n",
    "(tmp\n",
    " .query('operator_id != operator_id') # оставляем только пропуски\n",
    " .groupby(['is_missed_call','direction']) # группируем по важным признакам\n",
    " .agg({'user_id':'nunique','calls_count':'sum'})  # подсчитываем какие-то метрики\n",
    " .assign(calls_share = lambda x: x['calls_count'] / tmp.query('operator_id != operator_id').calls_count.sum(),\n",
    "         total_calls_share = lambda x: x['calls_count'] / tmp.calls_count.sum()) # добавляем новый столбец с расчетом долей \n",
    ")"
   ]
  },
  {
   "cell_type": "code",
   "execution_count": 13,
   "metadata": {},
   "outputs": [
    {
     "name": "stdout",
     "output_type": "stream",
     "text": [
      "Явные дубликаты и их доля:\n",
      "user_id        0\n",
      "tariff_plan    0\n",
      "date_start     0\n",
      "dtype: int64\n",
      "Количество явных дубликатов в датасете clients.csv: 0\n"
     ]
    }
   ],
   "source": [
    "print(\"Явные дубликаты и их доля:\")\n",
    "print(clients_missing_rows)\n",
    "print(\"Количество явных дубликатов в датасете clients.csv:\", clients_duplicates)\n"
   ]
  },
  {
   "cell_type": "code",
   "execution_count": 14,
   "metadata": {},
   "outputs": [
    {
     "name": "stdout",
     "output_type": "stream",
     "text": [
      "Доля пропущенных значений в 'telecom':\n",
      "user_id                0.000000\n",
      "date                   0.000000\n",
      "direction              0.000000\n",
      "internal               0.000000\n",
      "operator_id            0.151608\n",
      "is_missed_call         0.000000\n",
      "calls_count            0.000000\n",
      "call_duration          0.000000\n",
      "total_call_duration    0.000000\n",
      "dtype: float64\n",
      "Доля пропущенных значений в 'clients':\n",
      "user_id        0.0\n",
      "tariff_plan    0.0\n",
      "date_start     0.0\n",
      "dtype: float64\n"
     ]
    }
   ],
   "source": [
    "print(\"Доля пропущенных значений в 'telecom':\")\n",
    "print(telecom.isnull().sum() / len(telecom))\n",
    "\n",
    "print(\"Доля пропущенных значений в 'clients':\")\n",
    "print(clients.isnull().sum() / len(clients))"
   ]
  },
  {
   "cell_type": "code",
   "execution_count": 15,
   "metadata": {},
   "outputs": [
    {
     "name": "stdout",
     "output_type": "stream",
     "text": [
      "user_id                         int64\n",
      "date                   datetime64[ns]\n",
      "direction                      object\n",
      "internal                         bool\n",
      "operator_id                   float64\n",
      "is_missed_call                   bool\n",
      "calls_count                     int64\n",
      "call_duration                   int64\n",
      "total_call_duration             int64\n",
      "tariff_plan                    object\n",
      "date_start             datetime64[ns]\n",
      "month_n                         int64\n",
      "dtype: object\n"
     ]
    }
   ],
   "source": [
    "#добавляем новый столбец\n",
    "combined_data = pd.merge(telecom, clients, on='user_id')\n",
    "combined_data['date'] = pd.to_datetime(combined_data['date'])\n",
    "combined_data = combined_data[combined_data['date'].dt.month != 8]\n",
    "combined_data['month_n'] = combined_data['date'].dt.month\n",
    "\n",
    "print(combined_data.dtypes)\n"
   ]
  },
  {
   "cell_type": "markdown",
   "metadata": {},
   "source": [
    "**Вывод**\n",
    "\n",
    "объём датасетов: \n",
    "* telecom: (53902, 9)\n",
    "* Датасет clients: (732, 3)\n",
    "\n",
    "в таблице clients не было не одного пропуска или дубликата, в таблице telecom было обнариженно 8172 пустых строк(чуть больше 15%). Эти данные не стоит удалять потому что, у клиентов таких звонков было достаночно много и в сумме они минуты за которые надо заплатить. Были изменены типы данных для более удобного анализа и 1 дополнительный столбец. Так же я удалил данные за 1 месяц. Его мы анализировать не будем"
   ]
  },
  {
   "cell_type": "code",
   "execution_count": 16,
   "metadata": {},
   "outputs": [
    {
     "data": {
      "text/html": [
       "<div>\n",
       "<style scoped>\n",
       "    .dataframe tbody tr th:only-of-type {\n",
       "        vertical-align: middle;\n",
       "    }\n",
       "\n",
       "    .dataframe tbody tr th {\n",
       "        vertical-align: top;\n",
       "    }\n",
       "\n",
       "    .dataframe thead th {\n",
       "        text-align: right;\n",
       "    }\n",
       "</style>\n",
       "<table border=\"1\" class=\"dataframe\">\n",
       "  <thead>\n",
       "    <tr style=\"text-align: right;\">\n",
       "      <th></th>\n",
       "      <th>user_id</th>\n",
       "      <th>date</th>\n",
       "      <th>direction</th>\n",
       "      <th>internal</th>\n",
       "      <th>operator_id</th>\n",
       "      <th>is_missed_call</th>\n",
       "      <th>calls_count</th>\n",
       "      <th>call_duration</th>\n",
       "      <th>total_call_duration</th>\n",
       "      <th>tariff_plan</th>\n",
       "      <th>date_start</th>\n",
       "      <th>month_n</th>\n",
       "    </tr>\n",
       "  </thead>\n",
       "  <tbody>\n",
       "    <tr>\n",
       "      <th>118</th>\n",
       "      <td>166377</td>\n",
       "      <td>2019-09-02</td>\n",
       "      <td>in</td>\n",
       "      <td>False</td>\n",
       "      <td>880028.0</td>\n",
       "      <td>False</td>\n",
       "      <td>2</td>\n",
       "      <td>66</td>\n",
       "      <td>75</td>\n",
       "      <td>B</td>\n",
       "      <td>2019-08-01</td>\n",
       "      <td>9</td>\n",
       "    </tr>\n",
       "    <tr>\n",
       "      <th>119</th>\n",
       "      <td>166377</td>\n",
       "      <td>2019-09-02</td>\n",
       "      <td>in</td>\n",
       "      <td>False</td>\n",
       "      <td>880026.0</td>\n",
       "      <td>False</td>\n",
       "      <td>1</td>\n",
       "      <td>31</td>\n",
       "      <td>34</td>\n",
       "      <td>B</td>\n",
       "      <td>2019-08-01</td>\n",
       "      <td>9</td>\n",
       "    </tr>\n",
       "    <tr>\n",
       "      <th>120</th>\n",
       "      <td>166377</td>\n",
       "      <td>2019-09-02</td>\n",
       "      <td>out</td>\n",
       "      <td>False</td>\n",
       "      <td>880026.0</td>\n",
       "      <td>False</td>\n",
       "      <td>16</td>\n",
       "      <td>1853</td>\n",
       "      <td>1983</td>\n",
       "      <td>B</td>\n",
       "      <td>2019-08-01</td>\n",
       "      <td>9</td>\n",
       "    </tr>\n",
       "    <tr>\n",
       "      <th>121</th>\n",
       "      <td>166377</td>\n",
       "      <td>2019-09-02</td>\n",
       "      <td>out</td>\n",
       "      <td>False</td>\n",
       "      <td>880026.0</td>\n",
       "      <td>True</td>\n",
       "      <td>6</td>\n",
       "      <td>0</td>\n",
       "      <td>168</td>\n",
       "      <td>B</td>\n",
       "      <td>2019-08-01</td>\n",
       "      <td>9</td>\n",
       "    </tr>\n",
       "    <tr>\n",
       "      <th>122</th>\n",
       "      <td>166377</td>\n",
       "      <td>2019-09-02</td>\n",
       "      <td>out</td>\n",
       "      <td>False</td>\n",
       "      <td>880028.0</td>\n",
       "      <td>False</td>\n",
       "      <td>20</td>\n",
       "      <td>2529</td>\n",
       "      <td>2687</td>\n",
       "      <td>B</td>\n",
       "      <td>2019-08-01</td>\n",
       "      <td>9</td>\n",
       "    </tr>\n",
       "  </tbody>\n",
       "</table>\n",
       "</div>"
      ],
      "text/plain": [
       "     user_id       date direction  internal  operator_id  is_missed_call  \\\n",
       "118   166377 2019-09-02        in     False     880028.0           False   \n",
       "119   166377 2019-09-02        in     False     880026.0           False   \n",
       "120   166377 2019-09-02       out     False     880026.0           False   \n",
       "121   166377 2019-09-02       out     False     880026.0            True   \n",
       "122   166377 2019-09-02       out     False     880028.0           False   \n",
       "\n",
       "     calls_count  call_duration  total_call_duration tariff_plan date_start  \\\n",
       "118            2             66                   75           B 2019-08-01   \n",
       "119            1             31                   34           B 2019-08-01   \n",
       "120           16           1853                 1983           B 2019-08-01   \n",
       "121            6              0                  168           B 2019-08-01   \n",
       "122           20           2529                 2687           B 2019-08-01   \n",
       "\n",
       "     month_n  \n",
       "118        9  \n",
       "119        9  \n",
       "120        9  \n",
       "121        9  \n",
       "122        9  "
      ]
     },
     "metadata": {},
     "output_type": "display_data"
    }
   ],
   "source": [
    "display(combined_data.head(5))"
   ]
  },
  {
   "cell_type": "code",
   "execution_count": 17,
   "metadata": {},
   "outputs": [
    {
     "name": "stdout",
     "output_type": "stream",
     "text": [
      "<class 'pandas.core.frame.DataFrame'>\n",
      "Int64Index: 51865 entries, 118 to 53901\n",
      "Data columns (total 12 columns):\n",
      " #   Column               Non-Null Count  Dtype         \n",
      "---  ------               --------------  -----         \n",
      " 0   user_id              51865 non-null  int64         \n",
      " 1   date                 51865 non-null  datetime64[ns]\n",
      " 2   direction            51865 non-null  object        \n",
      " 3   internal             51865 non-null  bool          \n",
      " 4   operator_id          44124 non-null  float64       \n",
      " 5   is_missed_call       51865 non-null  bool          \n",
      " 6   calls_count          51865 non-null  int64         \n",
      " 7   call_duration        51865 non-null  int64         \n",
      " 8   total_call_duration  51865 non-null  int64         \n",
      " 9   tariff_plan          51865 non-null  object        \n",
      " 10  date_start           51865 non-null  datetime64[ns]\n",
      " 11  month_n              51865 non-null  int64         \n",
      "dtypes: bool(2), datetime64[ns](2), float64(1), int64(5), object(2)\n",
      "memory usage: 4.5+ MB\n"
     ]
    }
   ],
   "source": [
    "combined_data.info()"
   ]
  },
  {
   "cell_type": "code",
   "execution_count": 18,
   "metadata": {},
   "outputs": [
    {
     "name": "stdout",
     "output_type": "stream",
     "text": [
      "Количество уникальных user_id: 303\n"
     ]
    }
   ],
   "source": [
    "#подсчёт уникальных user_id\n",
    "unique_user_count = combined_data['user_id'].nunique()\n",
    "\n",
    "print(\"Количество уникальных user_id:\", unique_user_count)"
   ]
  },
  {
   "cell_type": "code",
   "execution_count": 19,
   "metadata": {},
   "outputs": [
    {
     "name": "stdout",
     "output_type": "stream",
     "text": [
      "Доступные данные охватывают период с 2019-09-01 00:00:00 по 2019-11-28 00:00:00\n"
     ]
    }
   ],
   "source": [
    "#поиск максимальной и минимальной даты\n",
    "min_date = combined_data['date'].min()\n",
    "max_date = combined_data['date'].max()\n",
    "\n",
    "print('Доступные данные охватывают период с', min_date, 'по', max_date)"
   ]
  },
  {
   "cell_type": "markdown",
   "metadata": {},
   "source": [
    "в отфильтрованном датасете имеются даты за 3 месяца"
   ]
  },
  {
   "cell_type": "code",
   "execution_count": 20,
   "metadata": {},
   "outputs": [
    {
     "name": "stdout",
     "output_type": "stream",
     "text": [
      "время разговора 144395\n"
     ]
    },
    {
     "data": {
      "text/plain": [
       "user_id                             166582\n",
       "date                   2019-09-25 00:00:00\n",
       "direction                              out\n",
       "internal                             False\n",
       "operator_id                       885876.0\n",
       "is_missed_call                       False\n",
       "calls_count                           1230\n",
       "call_duration                       144395\n",
       "total_call_duration                 166155\n",
       "tariff_plan                              A\n",
       "date_start             2019-08-09 00:00:00\n",
       "month_n                                  9\n",
       "Name: 6946, dtype: object"
      ]
     },
     "metadata": {},
     "output_type": "display_data"
    }
   ],
   "source": [
    "#поиск самого продолжительного периона звонков \n",
    "max_call_duration = combined_data['call_duration'].max()\n",
    "max_call_info = combined_data.loc[combined_data['call_duration'].idxmax()]\n",
    "print('время разговора', max_call_duration)\n",
    "display(max_call_info)"
   ]
  },
  {
   "cell_type": "markdown",
   "metadata": {},
   "source": [
    "заказчик - говорит, что у одного клиента была какая-то ошибка в фиксации длительности звонков. \n",
    "\n",
    "вот он: user_id 166582\n",
    "\n",
    "время разговора в базе данных 144395 минут "
   ]
  },
  {
   "cell_type": "markdown",
   "metadata": {},
   "source": [
    "данные охватывают период с 1 сентября 2019 года по 28 ноября 2019 года. В этот период было 303 уникальных пользователя.\n",
    "\n",
    "Самый долгий звонок длился 144395 секунд (или примерно 40 часов). Этот звонок был совершен 25 сентября 2019 года пользователем с ID 166582. Звонок был исходящим, и он был совершен во внешнюю сеть."
   ]
  },
  {
   "cell_type": "code",
   "execution_count": 21,
   "metadata": {},
   "outputs": [
    {
     "name": "stdout",
     "output_type": "stream",
     "text": [
      "Количество клиентов: 732\n",
      "Распределение клиентов по тарифам:\n",
      "C    395\n",
      "B    261\n",
      "A     76\n",
      "Name: tariff_plan, dtype: int64\n"
     ]
    }
   ],
   "source": [
    "# Количество клиентов и их распределение по тарифам\n",
    "num_clients = len(clients['user_id'].unique())\n",
    "tariff_distribution = clients['tariff_plan'].value_counts()\n",
    "print(f\"Количество клиентов: {num_clients}\")\n",
    "print(\"Распределение клиентов по тарифам:\")\n",
    "print(tariff_distribution)"
   ]
  },
  {
   "cell_type": "code",
   "execution_count": 22,
   "metadata": {},
   "outputs": [
    {
     "data": {
      "image/png": "[encoded data removed]",
      "text/plain": [
       "<Figure size 432x288 with 1 Axes>"
      ]
     },
     "metadata": {
      "needs_background": "light"
     },
     "output_type": "display_data"
    }
   ],
   "source": [
    "# Динамика регистрации клиентов\n",
    "clients['date_start'].groupby(clients[\"date_start\"].dt.month).count().plot(kind=\"bar\")\n",
    "plt.title('Динамика регистрации клиентов')\n",
    "plt.xlabel('Месяц')\n",
    "plt.ylabel('Количество регистраций')\n",
    "plt.show()"
   ]
  },
  {
   "cell_type": "markdown",
   "metadata": {},
   "source": [
    "прирост клиентов стабилен"
   ]
  },
  {
   "cell_type": "code",
   "execution_count": 23,
   "metadata": {},
   "outputs": [
    {
     "name": "stdout",
     "output_type": "stream",
     "text": [
      "Количество клиентов, которые перестали пользоваться услугами в ноябре: 282\n"
     ]
    }
   ],
   "source": [
    "inactive_users = combined_data.loc[combined_data['date'].dt.month != 11, 'user_id'].unique()\n",
    "print(f\"Количество клиентов, которые перестали пользоваться услугами в ноябре: {len(inactive_users)}\")"
   ]
  },
  {
   "cell_type": "code",
   "execution_count": 24,
   "metadata": {},
   "outputs": [
    {
     "name": "stdout",
     "output_type": "stream",
     "text": [
      "Количество операторов: 1093\n",
      "Распределение операторов по клиентам:\n",
      "count    307.000000\n",
      "mean       3.557003\n",
      "std        5.623176\n",
      "min        0.000000\n",
      "25%        1.000000\n",
      "50%        2.000000\n",
      "75%        4.000000\n",
      "max       50.000000\n",
      "Name: operator_id, dtype: float64\n"
     ]
    }
   ],
   "source": [
    "# Количество операторов и их распределение по клиентам\n",
    "num_operators = len(telecom['operator_id'].unique())\n",
    "operator_distribution = telecom.groupby('user_id')['operator_id'].nunique()\n",
    "print(f\"Количество операторов: {num_operators}\")\n",
    "print(\"Распределение операторов по клиентам:\")\n",
    "print(operator_distribution.describe())"
   ]
  },
  {
   "cell_type": "markdown",
   "metadata": {},
   "source": [
    "в среднем человек звонит через 3 операторов "
   ]
  },
  {
   "cell_type": "code",
   "execution_count": 25,
   "metadata": {},
   "outputs": [
    {
     "name": "stdout",
     "output_type": "stream",
     "text": [
      "Распределение звонков по типам:\n",
      "out    31917\n",
      "in     21985\n",
      "Name: direction, dtype: int64\n"
     ]
    }
   ],
   "source": [
    "# Распределение звонков по типам\n",
    "call_types = telecom['direction'].value_counts()\n",
    "print(\"Распределение звонков по типам:\")\n",
    "print(call_types)"
   ]
  },
  {
   "cell_type": "markdown",
   "metadata": {},
   "source": [
    "исходящих звонков больше"
   ]
  },
  {
   "cell_type": "code",
   "execution_count": 26,
   "metadata": {},
   "outputs": [
    {
     "data": {
      "image/png": "[encoded data removed]",
      "text/plain": [
       "<Figure size 432x288 with 1 Axes>"
      ]
     },
     "metadata": {
      "needs_background": "light"
     },
     "output_type": "display_data"
    }
   ],
   "source": [
    "# Распределение звонков по типам в течении времени \n",
    "telecom.groupby(['date', 'direction']).size().unstack().plot(kind='bar', stacked=True)\n",
    "plt.title('Распределение звонков по типам в динамике')\n",
    "plt.xlabel('Дата')\n",
    "plt.ylabel('Количество звонков')\n",
    "plt.show()"
   ]
  },
  {
   "cell_type": "markdown",
   "metadata": {},
   "source": [
    "на графике виден стабильный рост колличества звонков. "
   ]
  },
  {
   "cell_type": "markdown",
   "metadata": {},
   "source": [
    "**вывод**\n",
    "\n",
    "1. **Клиенты и тарифы**: имеется 732 клиента, большинство из которых (395) используют тариф C, в то время как тариф A используется наименьшим числом клиентов (76). Это может помочь вам лучше понять предпочтения ваших клиентов и планировать маркетинговые кампании.\n",
    "\n",
    "2. **Активность клиентов**: 282 клиента перестали пользоваться услугами в ноябре. \n",
    "\n",
    "3. **Операторы**:  1093 оператора, и большинство клиентов имеют от 1 до 4 операторов. Однако есть клиенты, у которых до 50 операторов, что значительно выше среднего. Это может быть полезной информацией при планировании распределения ресурсов.\n",
    "\n",
    "4. **Типы звонков**: Количество исходящих звонков (31917) превышает количество входящих (21985)\n",
    "\n",
    "5. **Динамика звонков**: стабильно растёт \n",
    "\n",
    "\n",
    "Большинство клиентов имеют от 1 до 4 операторов, но есть клиенты, у которых до 50 операторов. Количество исходящих звонков превышает количество входящих. Данные охватывают период с 1 сентября 2019 года по 28 ноября 2019 года. В этот период было 303 уникальных пользователя.\n",
    "\n",
    "Самый долгий звонок длился 144395 секунд (или примерно 40 часов). Этот звонок был совершен 25 сентября 2019 года пользователем с ID 166582. Звонок был исходящим, и он был совершен во внешнюю сеть. Распределение звонков по типам показывает, что исходящих звонков больше, чем входящих."
   ]
  },
  {
   "cell_type": "code",
   "execution_count": 27,
   "metadata": {},
   "outputs": [
    {
     "name": "stdout",
     "output_type": "stream",
     "text": [
      "[ 9 10 11]\n"
     ]
    }
   ],
   "source": [
    "# Определение активных пользователей в месяце №11\n",
    "active_days_november = combined_data[combined_data['month_n'] == 11].groupby('user_id')['date'].nunique()\n",
    "active_users_november = active_days_november[active_days_november >= 1].index\n",
    "\n",
    "# Сохранение активных пользователей в новой таблице\n",
    "combined_data_2 = combined_data[combined_data['user_id'].isin(active_users_november)]\n",
    "print(combined_data_2['month_n'].unique())"
   ]
  },
  {
   "cell_type": "markdown",
   "metadata": {},
   "source": [
    "## анализ данных"
   ]
  },
  {
   "cell_type": "code",
   "execution_count": 28,
   "metadata": {},
   "outputs": [],
   "source": [
    "# Описание тарифных планов\n",
    "tariff_plans = {\n",
    "    'A': {'monthly_fee': 4000, 'incoming_calls': 0, 'internal_calls': 0.10, 'outgoing_calls_within_network': 0.10, 'outgoing_calls_outside_network': 0.30, 'operator_fee': 50},\n",
    "    'B': {'monthly_fee': 2000, 'incoming_calls': 0, 'internal_calls': 0.15, 'outgoing_calls_within_network': 0.15, 'outgoing_calls_outside_network': 0.50, 'operator_fee': 150},\n",
    "    'C': {'monthly_fee': 1000, 'incoming_calls': 0, 'internal_calls': 0.30, 'outgoing_calls_within_network': 0.30, 'outgoing_calls_outside_network': 0.70, 'operator_fee': 300},\n",
    "    'D': {'monthly_fee': 2500, 'incoming_calls': 0, 'internal_calls': 0.20, 'outgoing_calls_within_network': 0.20, 'outgoing_calls_outside_network': 0.50, 'operator_fee': 150, 'subscription_for_movies_and_music': 300}\n",
    "}\n"
   ]
  },
  {
   "cell_type": "code",
   "execution_count": 29,
   "metadata": {},
   "outputs": [],
   "source": [
    "# Преобразование данных для расчета\n",
    "def calculate_calls(row):\n",
    "    return {\n",
    "        'outgoing_calls': row['call_duration'] if row['direction'] == 'out' else 0,\n",
    "        'incoming_calls': row['call_duration'] if row['direction'] == 'in' else 0,\n",
    "        'internal_calls': row['call_duration'] if row['internal'] else 0,\n",
    "        'external_calls': row['call_duration'] if not row['internal'] else 0\n",
    "    }\n",
    "\n",
    "summary_table = combined_data_2.agg(calculate_calls, result_type='expand', axis=1).join(combined_data_2[['user_id', 'tariff_plan', 'operator_id', 'total_call_duration', 'month_n']])\n",
    "summary_table = summary_table.groupby(['user_id', 'month_n']).agg({\n",
    "    'tariff_plan': 'first',\n",
    "    'operator_id': 'nunique',\n",
    "    'total_call_duration': 'sum',\n",
    "    'outgoing_calls' : 'sum',\n",
    "    'incoming_calls' : 'sum',\n",
    "    'internal_calls' : 'sum',\n",
    "    'external_calls' : 'sum'\n",
    "})\n",
    "\n",
    "# Функция для расчета расходов для каждого тарифного плана\n",
    "def calculate_expenses_for_all_plans(row):\n",
    "    expenses_per_plan = {\n",
    "        plan_id: (\n",
    "            plan['monthly_fee'] +\n",
    "            (plan['subscription_for_movies_and_music'] if 'subscription_for_movies_and_music' in plan else 0) +\n",
    "            plan['operator_fee'] * row['operator_id'] +\n",
    "            plan['internal_calls'] * (row['internal_calls'] / 60) +\n",
    "            plan['outgoing_calls_within_network'] * (row['outgoing_calls'] / 60) +\n",
    "            plan['outgoing_calls_outside_network'] * (row['external_calls'] / 60)\n",
    "        )\n",
    "        for plan_id, plan in tariff_plans.items()\n",
    "    }\n",
    "\n",
    "    return pd.Series({\n",
    "        'expenses_A': expenses_per_plan['A'],\n",
    "        'expenses_B': expenses_per_plan['B'],\n",
    "        'expenses_C': expenses_per_plan['C'],\n",
    "        'expenses_D': expenses_per_plan['D'],\n",
    "        'current_plan_expense': expenses_per_plan[row['tariff_plan']],\n",
    "        'optimal_plan': min(expenses_per_plan, key=expenses_per_plan.get)\n",
    "    })\n",
    "\n",
    "expenses_and_optimal_plans = summary_table.apply(calculate_expenses_for_all_plans, axis=1)\n",
    "\n",
    "# Вычисляем переплату для каждого клиента\n",
    "summary_table = pd.concat([summary_table, expenses_and_optimal_plans], axis=1)\n",
    "summary_table['overpayment'] = summary_table.apply(lambda row: row[f'expenses_{row[\"tariff_plan\"]}'] - row[f'expenses_{row[\"optimal_plan\"]}'], axis=1)\n",
    "\n",
    "pd.options.display.float_format = '{:.2f}'.format\n",
    "#display(summary_table)\n",
    "\n"
   ]
  },
  {
   "cell_type": "code",
   "execution_count": 30,
   "metadata": {},
   "outputs": [
    {
     "name": "stdout",
     "output_type": "stream",
     "text": [
      "Сентябрь:\n"
     ]
    },
    {
     "data": {
      "text/html": [
       "<div>\n",
       "<style scoped>\n",
       "    .dataframe tbody tr th:only-of-type {\n",
       "        vertical-align: middle;\n",
       "    }\n",
       "\n",
       "    .dataframe tbody tr th {\n",
       "        vertical-align: top;\n",
       "    }\n",
       "\n",
       "    .dataframe thead th {\n",
       "        text-align: right;\n",
       "    }\n",
       "</style>\n",
       "<table border=\"1\" class=\"dataframe\">\n",
       "  <thead>\n",
       "    <tr style=\"text-align: right;\">\n",
       "      <th></th>\n",
       "      <th></th>\n",
       "      <th>tariff_plan</th>\n",
       "      <th>operator_id</th>\n",
       "      <th>total_call_duration</th>\n",
       "      <th>outgoing_calls</th>\n",
       "      <th>incoming_calls</th>\n",
       "      <th>internal_calls</th>\n",
       "      <th>external_calls</th>\n",
       "      <th>expenses_A</th>\n",
       "      <th>expenses_B</th>\n",
       "      <th>expenses_C</th>\n",
       "      <th>expenses_D</th>\n",
       "      <th>current_plan_expense</th>\n",
       "      <th>optimal_plan</th>\n",
       "      <th>overpayment</th>\n",
       "    </tr>\n",
       "    <tr>\n",
       "      <th>user_id</th>\n",
       "      <th>month_n</th>\n",
       "      <th></th>\n",
       "      <th></th>\n",
       "      <th></th>\n",
       "      <th></th>\n",
       "      <th></th>\n",
       "      <th></th>\n",
       "      <th></th>\n",
       "      <th></th>\n",
       "      <th></th>\n",
       "      <th></th>\n",
       "      <th></th>\n",
       "      <th></th>\n",
       "      <th></th>\n",
       "      <th></th>\n",
       "    </tr>\n",
       "  </thead>\n",
       "  <tbody>\n",
       "    <tr>\n",
       "      <th>166377</th>\n",
       "      <th>9</th>\n",
       "      <td>B</td>\n",
       "      <td>4</td>\n",
       "      <td>117136</td>\n",
       "      <td>93092</td>\n",
       "      <td>1510</td>\n",
       "      <td>0</td>\n",
       "      <td>94602</td>\n",
       "      <td>4828.16</td>\n",
       "      <td>3621.08</td>\n",
       "      <td>3769.15</td>\n",
       "      <td>4498.66</td>\n",
       "      <td>3621.08</td>\n",
       "      <td>B</td>\n",
       "      <td>0.00</td>\n",
       "    </tr>\n",
       "    <tr>\n",
       "      <th>166391</th>\n",
       "      <th>9</th>\n",
       "      <td>C</td>\n",
       "      <td>1</td>\n",
       "      <td>36</td>\n",
       "      <td>0</td>\n",
       "      <td>4</td>\n",
       "      <td>0</td>\n",
       "      <td>4</td>\n",
       "      <td>4050.02</td>\n",
       "      <td>2150.03</td>\n",
       "      <td>1300.05</td>\n",
       "      <td>2950.03</td>\n",
       "      <td>1300.05</td>\n",
       "      <td>C</td>\n",
       "      <td>0.00</td>\n",
       "    </tr>\n",
       "    <tr>\n",
       "      <th>166392</th>\n",
       "      <th>9</th>\n",
       "      <td>C</td>\n",
       "      <td>2</td>\n",
       "      <td>2817</td>\n",
       "      <td>0</td>\n",
       "      <td>2286</td>\n",
       "      <td>0</td>\n",
       "      <td>2286</td>\n",
       "      <td>4111.43</td>\n",
       "      <td>2319.05</td>\n",
       "      <td>1626.67</td>\n",
       "      <td>3119.05</td>\n",
       "      <td>1626.67</td>\n",
       "      <td>C</td>\n",
       "      <td>0.00</td>\n",
       "    </tr>\n",
       "    <tr>\n",
       "      <th>166405</th>\n",
       "      <th>9</th>\n",
       "      <td>B</td>\n",
       "      <td>4</td>\n",
       "      <td>367980</td>\n",
       "      <td>122940</td>\n",
       "      <td>202878</td>\n",
       "      <td>0</td>\n",
       "      <td>325818</td>\n",
       "      <td>6033.99</td>\n",
       "      <td>5622.50</td>\n",
       "      <td>6615.91</td>\n",
       "      <td>6524.95</td>\n",
       "      <td>5622.50</td>\n",
       "      <td>B</td>\n",
       "      <td>0.00</td>\n",
       "    </tr>\n",
       "    <tr>\n",
       "      <th>166406</th>\n",
       "      <th>9</th>\n",
       "      <td>B</td>\n",
       "      <td>2</td>\n",
       "      <td>129478</td>\n",
       "      <td>87866</td>\n",
       "      <td>4160</td>\n",
       "      <td>2</td>\n",
       "      <td>92024</td>\n",
       "      <td>4706.57</td>\n",
       "      <td>3286.54</td>\n",
       "      <td>3112.95</td>\n",
       "      <td>4159.76</td>\n",
       "      <td>3286.54</td>\n",
       "      <td>C</td>\n",
       "      <td>173.58</td>\n",
       "    </tr>\n",
       "    <tr>\n",
       "      <th>...</th>\n",
       "      <th>...</th>\n",
       "      <td>...</td>\n",
       "      <td>...</td>\n",
       "      <td>...</td>\n",
       "      <td>...</td>\n",
       "      <td>...</td>\n",
       "      <td>...</td>\n",
       "      <td>...</td>\n",
       "      <td>...</td>\n",
       "      <td>...</td>\n",
       "      <td>...</td>\n",
       "      <td>...</td>\n",
       "      <td>...</td>\n",
       "      <td>...</td>\n",
       "      <td>...</td>\n",
       "    </tr>\n",
       "    <tr>\n",
       "      <th>167716</th>\n",
       "      <th>9</th>\n",
       "      <td>B</td>\n",
       "      <td>1</td>\n",
       "      <td>3289</td>\n",
       "      <td>1950</td>\n",
       "      <td>0</td>\n",
       "      <td>0</td>\n",
       "      <td>1950</td>\n",
       "      <td>4063.00</td>\n",
       "      <td>2171.12</td>\n",
       "      <td>1332.50</td>\n",
       "      <td>2972.75</td>\n",
       "      <td>2171.12</td>\n",
       "      <td>C</td>\n",
       "      <td>838.62</td>\n",
       "    </tr>\n",
       "    <tr>\n",
       "      <th>167721</th>\n",
       "      <th>9</th>\n",
       "      <td>C</td>\n",
       "      <td>0</td>\n",
       "      <td>4</td>\n",
       "      <td>0</td>\n",
       "      <td>0</td>\n",
       "      <td>0</td>\n",
       "      <td>0</td>\n",
       "      <td>4000.00</td>\n",
       "      <td>2000.00</td>\n",
       "      <td>1000.00</td>\n",
       "      <td>2800.00</td>\n",
       "      <td>1000.00</td>\n",
       "      <td>C</td>\n",
       "      <td>0.00</td>\n",
       "    </tr>\n",
       "    <tr>\n",
       "      <th>167727</th>\n",
       "      <th>9</th>\n",
       "      <td>C</td>\n",
       "      <td>0</td>\n",
       "      <td>2</td>\n",
       "      <td>0</td>\n",
       "      <td>0</td>\n",
       "      <td>0</td>\n",
       "      <td>0</td>\n",
       "      <td>4000.00</td>\n",
       "      <td>2000.00</td>\n",
       "      <td>1000.00</td>\n",
       "      <td>2800.00</td>\n",
       "      <td>1000.00</td>\n",
       "      <td>C</td>\n",
       "      <td>0.00</td>\n",
       "    </tr>\n",
       "    <tr>\n",
       "      <th>167744</th>\n",
       "      <th>9</th>\n",
       "      <td>C</td>\n",
       "      <td>0</td>\n",
       "      <td>4</td>\n",
       "      <td>0</td>\n",
       "      <td>0</td>\n",
       "      <td>0</td>\n",
       "      <td>0</td>\n",
       "      <td>4000.00</td>\n",
       "      <td>2000.00</td>\n",
       "      <td>1000.00</td>\n",
       "      <td>2800.00</td>\n",
       "      <td>1000.00</td>\n",
       "      <td>C</td>\n",
       "      <td>0.00</td>\n",
       "    </tr>\n",
       "    <tr>\n",
       "      <th>167781</th>\n",
       "      <th>9</th>\n",
       "      <td>C</td>\n",
       "      <td>0</td>\n",
       "      <td>12</td>\n",
       "      <td>0</td>\n",
       "      <td>0</td>\n",
       "      <td>0</td>\n",
       "      <td>0</td>\n",
       "      <td>4000.00</td>\n",
       "      <td>2000.00</td>\n",
       "      <td>1000.00</td>\n",
       "      <td>2800.00</td>\n",
       "      <td>1000.00</td>\n",
       "      <td>C</td>\n",
       "      <td>0.00</td>\n",
       "    </tr>\n",
       "  </tbody>\n",
       "</table>\n",
       "<p>140 rows × 14 columns</p>\n",
       "</div>"
      ],
      "text/plain": [
       "                tariff_plan  operator_id  total_call_duration  outgoing_calls  \\\n",
       "user_id month_n                                                                 \n",
       "166377  9                 B            4               117136           93092   \n",
       "166391  9                 C            1                   36               0   \n",
       "166392  9                 C            2                 2817               0   \n",
       "166405  9                 B            4               367980          122940   \n",
       "166406  9                 B            2               129478           87866   \n",
       "...                     ...          ...                  ...             ...   \n",
       "167716  9                 B            1                 3289            1950   \n",
       "167721  9                 C            0                    4               0   \n",
       "167727  9                 C            0                    2               0   \n",
       "167744  9                 C            0                    4               0   \n",
       "167781  9                 C            0                   12               0   \n",
       "\n",
       "                 incoming_calls  internal_calls  external_calls  expenses_A  \\\n",
       "user_id month_n                                                               \n",
       "166377  9                  1510               0           94602     4828.16   \n",
       "166391  9                     4               0               4     4050.02   \n",
       "166392  9                  2286               0            2286     4111.43   \n",
       "166405  9                202878               0          325818     6033.99   \n",
       "166406  9                  4160               2           92024     4706.57   \n",
       "...                         ...             ...             ...         ...   \n",
       "167716  9                     0               0            1950     4063.00   \n",
       "167721  9                     0               0               0     4000.00   \n",
       "167727  9                     0               0               0     4000.00   \n",
       "167744  9                     0               0               0     4000.00   \n",
       "167781  9                     0               0               0     4000.00   \n",
       "\n",
       "                 expenses_B  expenses_C  expenses_D  current_plan_expense  \\\n",
       "user_id month_n                                                             \n",
       "166377  9           3621.08     3769.15     4498.66               3621.08   \n",
       "166391  9           2150.03     1300.05     2950.03               1300.05   \n",
       "166392  9           2319.05     1626.67     3119.05               1626.67   \n",
       "166405  9           5622.50     6615.91     6524.95               5622.50   \n",
       "166406  9           3286.54     3112.95     4159.76               3286.54   \n",
       "...                     ...         ...         ...                   ...   \n",
       "167716  9           2171.12     1332.50     2972.75               2171.12   \n",
       "167721  9           2000.00     1000.00     2800.00               1000.00   \n",
       "167727  9           2000.00     1000.00     2800.00               1000.00   \n",
       "167744  9           2000.00     1000.00     2800.00               1000.00   \n",
       "167781  9           2000.00     1000.00     2800.00               1000.00   \n",
       "\n",
       "                optimal_plan  overpayment  \n",
       "user_id month_n                            \n",
       "166377  9                  B         0.00  \n",
       "166391  9                  C         0.00  \n",
       "166392  9                  C         0.00  \n",
       "166405  9                  B         0.00  \n",
       "166406  9                  C       173.58  \n",
       "...                      ...          ...  \n",
       "167716  9                  C       838.62  \n",
       "167721  9                  C         0.00  \n",
       "167727  9                  C         0.00  \n",
       "167744  9                  C         0.00  \n",
       "167781  9                  C         0.00  \n",
       "\n",
       "[140 rows x 14 columns]"
      ]
     },
     "metadata": {},
     "output_type": "display_data"
    },
    {
     "name": "stdout",
     "output_type": "stream",
     "text": [
      "\n",
      "Октябрь:\n"
     ]
    },
    {
     "data": {
      "text/html": [
       "<div>\n",
       "<style scoped>\n",
       "    .dataframe tbody tr th:only-of-type {\n",
       "        vertical-align: middle;\n",
       "    }\n",
       "\n",
       "    .dataframe tbody tr th {\n",
       "        vertical-align: top;\n",
       "    }\n",
       "\n",
       "    .dataframe thead th {\n",
       "        text-align: right;\n",
       "    }\n",
       "</style>\n",
       "<table border=\"1\" class=\"dataframe\">\n",
       "  <thead>\n",
       "    <tr style=\"text-align: right;\">\n",
       "      <th></th>\n",
       "      <th></th>\n",
       "      <th>tariff_plan</th>\n",
       "      <th>operator_id</th>\n",
       "      <th>total_call_duration</th>\n",
       "      <th>outgoing_calls</th>\n",
       "      <th>incoming_calls</th>\n",
       "      <th>internal_calls</th>\n",
       "      <th>external_calls</th>\n",
       "      <th>expenses_A</th>\n",
       "      <th>expenses_B</th>\n",
       "      <th>expenses_C</th>\n",
       "      <th>expenses_D</th>\n",
       "      <th>current_plan_expense</th>\n",
       "      <th>optimal_plan</th>\n",
       "      <th>overpayment</th>\n",
       "    </tr>\n",
       "    <tr>\n",
       "      <th>user_id</th>\n",
       "      <th>month_n</th>\n",
       "      <th></th>\n",
       "      <th></th>\n",
       "      <th></th>\n",
       "      <th></th>\n",
       "      <th></th>\n",
       "      <th></th>\n",
       "      <th></th>\n",
       "      <th></th>\n",
       "      <th></th>\n",
       "      <th></th>\n",
       "      <th></th>\n",
       "      <th></th>\n",
       "      <th></th>\n",
       "      <th></th>\n",
       "    </tr>\n",
       "  </thead>\n",
       "  <tbody>\n",
       "    <tr>\n",
       "      <th>166377</th>\n",
       "      <th>10</th>\n",
       "      <td>B</td>\n",
       "      <td>5</td>\n",
       "      <td>116756</td>\n",
       "      <td>93116</td>\n",
       "      <td>2377</td>\n",
       "      <td>4</td>\n",
       "      <td>95489</td>\n",
       "      <td>4882.65</td>\n",
       "      <td>3778.54</td>\n",
       "      <td>4079.64</td>\n",
       "      <td>4656.14</td>\n",
       "      <td>3778.54</td>\n",
       "      <td>B</td>\n",
       "      <td>0.00</td>\n",
       "    </tr>\n",
       "    <tr>\n",
       "      <th>166391</th>\n",
       "      <th>10</th>\n",
       "      <td>C</td>\n",
       "      <td>0</td>\n",
       "      <td>2</td>\n",
       "      <td>0</td>\n",
       "      <td>0</td>\n",
       "      <td>0</td>\n",
       "      <td>0</td>\n",
       "      <td>4000.00</td>\n",
       "      <td>2000.00</td>\n",
       "      <td>1000.00</td>\n",
       "      <td>2800.00</td>\n",
       "      <td>1000.00</td>\n",
       "      <td>C</td>\n",
       "      <td>0.00</td>\n",
       "    </tr>\n",
       "    <tr>\n",
       "      <th>166392</th>\n",
       "      <th>10</th>\n",
       "      <td>C</td>\n",
       "      <td>2</td>\n",
       "      <td>8168</td>\n",
       "      <td>0</td>\n",
       "      <td>6551</td>\n",
       "      <td>0</td>\n",
       "      <td>6551</td>\n",
       "      <td>4132.76</td>\n",
       "      <td>2354.59</td>\n",
       "      <td>1676.43</td>\n",
       "      <td>3154.59</td>\n",
       "      <td>1676.43</td>\n",
       "      <td>C</td>\n",
       "      <td>0.00</td>\n",
       "    </tr>\n",
       "    <tr>\n",
       "      <th>166405</th>\n",
       "      <th>10</th>\n",
       "      <td>B</td>\n",
       "      <td>10</td>\n",
       "      <td>515120</td>\n",
       "      <td>333500</td>\n",
       "      <td>48277</td>\n",
       "      <td>271</td>\n",
       "      <td>381506</td>\n",
       "      <td>6963.81</td>\n",
       "      <td>7513.64</td>\n",
       "      <td>10119.76</td>\n",
       "      <td>8591.79</td>\n",
       "      <td>7513.64</td>\n",
       "      <td>A</td>\n",
       "      <td>549.83</td>\n",
       "    </tr>\n",
       "    <tr>\n",
       "      <th>166406</th>\n",
       "      <th>10</th>\n",
       "      <td>B</td>\n",
       "      <td>2</td>\n",
       "      <td>125875</td>\n",
       "      <td>78638</td>\n",
       "      <td>2395</td>\n",
       "      <td>583</td>\n",
       "      <td>80450</td>\n",
       "      <td>4634.28</td>\n",
       "      <td>3168.47</td>\n",
       "      <td>2934.69</td>\n",
       "      <td>4034.49</td>\n",
       "      <td>3168.47</td>\n",
       "      <td>C</td>\n",
       "      <td>233.78</td>\n",
       "    </tr>\n",
       "    <tr>\n",
       "      <th>...</th>\n",
       "      <th>...</th>\n",
       "      <td>...</td>\n",
       "      <td>...</td>\n",
       "      <td>...</td>\n",
       "      <td>...</td>\n",
       "      <td>...</td>\n",
       "      <td>...</td>\n",
       "      <td>...</td>\n",
       "      <td>...</td>\n",
       "      <td>...</td>\n",
       "      <td>...</td>\n",
       "      <td>...</td>\n",
       "      <td>...</td>\n",
       "      <td>...</td>\n",
       "      <td>...</td>\n",
       "    </tr>\n",
       "    <tr>\n",
       "      <th>168473</th>\n",
       "      <th>10</th>\n",
       "      <td>C</td>\n",
       "      <td>0</td>\n",
       "      <td>4</td>\n",
       "      <td>0</td>\n",
       "      <td>0</td>\n",
       "      <td>0</td>\n",
       "      <td>0</td>\n",
       "      <td>4000.00</td>\n",
       "      <td>2000.00</td>\n",
       "      <td>1000.00</td>\n",
       "      <td>2800.00</td>\n",
       "      <td>1000.00</td>\n",
       "      <td>C</td>\n",
       "      <td>0.00</td>\n",
       "    </tr>\n",
       "    <tr>\n",
       "      <th>168500</th>\n",
       "      <th>10</th>\n",
       "      <td>B</td>\n",
       "      <td>0</td>\n",
       "      <td>2</td>\n",
       "      <td>0</td>\n",
       "      <td>0</td>\n",
       "      <td>0</td>\n",
       "      <td>0</td>\n",
       "      <td>4000.00</td>\n",
       "      <td>2000.00</td>\n",
       "      <td>1000.00</td>\n",
       "      <td>2800.00</td>\n",
       "      <td>2000.00</td>\n",
       "      <td>C</td>\n",
       "      <td>1000.00</td>\n",
       "    </tr>\n",
       "    <tr>\n",
       "      <th>168522</th>\n",
       "      <th>10</th>\n",
       "      <td>C</td>\n",
       "      <td>1</td>\n",
       "      <td>58</td>\n",
       "      <td>0</td>\n",
       "      <td>36</td>\n",
       "      <td>0</td>\n",
       "      <td>36</td>\n",
       "      <td>4050.18</td>\n",
       "      <td>2150.30</td>\n",
       "      <td>1300.42</td>\n",
       "      <td>2950.30</td>\n",
       "      <td>1300.42</td>\n",
       "      <td>C</td>\n",
       "      <td>0.00</td>\n",
       "    </tr>\n",
       "    <tr>\n",
       "      <th>168575</th>\n",
       "      <th>10</th>\n",
       "      <td>C</td>\n",
       "      <td>0</td>\n",
       "      <td>2</td>\n",
       "      <td>0</td>\n",
       "      <td>0</td>\n",
       "      <td>0</td>\n",
       "      <td>0</td>\n",
       "      <td>4000.00</td>\n",
       "      <td>2000.00</td>\n",
       "      <td>1000.00</td>\n",
       "      <td>2800.00</td>\n",
       "      <td>1000.00</td>\n",
       "      <td>C</td>\n",
       "      <td>0.00</td>\n",
       "    </tr>\n",
       "    <tr>\n",
       "      <th>168583</th>\n",
       "      <th>10</th>\n",
       "      <td>B</td>\n",
       "      <td>1</td>\n",
       "      <td>36</td>\n",
       "      <td>0</td>\n",
       "      <td>24</td>\n",
       "      <td>0</td>\n",
       "      <td>24</td>\n",
       "      <td>4050.12</td>\n",
       "      <td>2150.20</td>\n",
       "      <td>1300.28</td>\n",
       "      <td>2950.20</td>\n",
       "      <td>2150.20</td>\n",
       "      <td>C</td>\n",
       "      <td>849.92</td>\n",
       "    </tr>\n",
       "  </tbody>\n",
       "</table>\n",
       "<p>239 rows × 14 columns</p>\n",
       "</div>"
      ],
      "text/plain": [
       "                tariff_plan  operator_id  total_call_duration  outgoing_calls  \\\n",
       "user_id month_n                                                                 \n",
       "166377  10                B            5               116756           93116   \n",
       "166391  10                C            0                    2               0   \n",
       "166392  10                C            2                 8168               0   \n",
       "166405  10                B           10               515120          333500   \n",
       "166406  10                B            2               125875           78638   \n",
       "...                     ...          ...                  ...             ...   \n",
       "168473  10                C            0                    4               0   \n",
       "168500  10                B            0                    2               0   \n",
       "168522  10                C            1                   58               0   \n",
       "168575  10                C            0                    2               0   \n",
       "168583  10                B            1                   36               0   \n",
       "\n",
       "                 incoming_calls  internal_calls  external_calls  expenses_A  \\\n",
       "user_id month_n                                                               \n",
       "166377  10                 2377               4           95489     4882.65   \n",
       "166391  10                    0               0               0     4000.00   \n",
       "166392  10                 6551               0            6551     4132.76   \n",
       "166405  10                48277             271          381506     6963.81   \n",
       "166406  10                 2395             583           80450     4634.28   \n",
       "...                         ...             ...             ...         ...   \n",
       "168473  10                    0               0               0     4000.00   \n",
       "168500  10                    0               0               0     4000.00   \n",
       "168522  10                   36               0              36     4050.18   \n",
       "168575  10                    0               0               0     4000.00   \n",
       "168583  10                   24               0              24     4050.12   \n",
       "\n",
       "                 expenses_B  expenses_C  expenses_D  current_plan_expense  \\\n",
       "user_id month_n                                                             \n",
       "166377  10          3778.54     4079.64     4656.14               3778.54   \n",
       "166391  10          2000.00     1000.00     2800.00               1000.00   \n",
       "166392  10          2354.59     1676.43     3154.59               1676.43   \n",
       "166405  10          7513.64    10119.76     8591.79               7513.64   \n",
       "166406  10          3168.47     2934.69     4034.49               3168.47   \n",
       "...                     ...         ...         ...                   ...   \n",
       "168473  10          2000.00     1000.00     2800.00               1000.00   \n",
       "168500  10          2000.00     1000.00     2800.00               2000.00   \n",
       "168522  10          2150.30     1300.42     2950.30               1300.42   \n",
       "168575  10          2000.00     1000.00     2800.00               1000.00   \n",
       "168583  10          2150.20     1300.28     2950.20               2150.20   \n",
       "\n",
       "                optimal_plan  overpayment  \n",
       "user_id month_n                            \n",
       "166377  10                 B         0.00  \n",
       "166391  10                 C         0.00  \n",
       "166392  10                 C         0.00  \n",
       "166405  10                 A       549.83  \n",
       "166406  10                 C       233.78  \n",
       "...                      ...          ...  \n",
       "168473  10                 C         0.00  \n",
       "168500  10                 C      1000.00  \n",
       "168522  10                 C         0.00  \n",
       "168575  10                 C         0.00  \n",
       "168583  10                 C       849.92  \n",
       "\n",
       "[239 rows x 14 columns]"
      ]
     },
     "metadata": {},
     "output_type": "display_data"
    },
    {
     "name": "stdout",
     "output_type": "stream",
     "text": [
      "\n",
      "Ноябрь:\n"
     ]
    },
    {
     "data": {
      "text/html": [
       "<div>\n",
       "<style scoped>\n",
       "    .dataframe tbody tr th:only-of-type {\n",
       "        vertical-align: middle;\n",
       "    }\n",
       "\n",
       "    .dataframe tbody tr th {\n",
       "        vertical-align: top;\n",
       "    }\n",
       "\n",
       "    .dataframe thead th {\n",
       "        text-align: right;\n",
       "    }\n",
       "</style>\n",
       "<table border=\"1\" class=\"dataframe\">\n",
       "  <thead>\n",
       "    <tr style=\"text-align: right;\">\n",
       "      <th></th>\n",
       "      <th></th>\n",
       "      <th>tariff_plan</th>\n",
       "      <th>operator_id</th>\n",
       "      <th>total_call_duration</th>\n",
       "      <th>outgoing_calls</th>\n",
       "      <th>incoming_calls</th>\n",
       "      <th>internal_calls</th>\n",
       "      <th>external_calls</th>\n",
       "      <th>expenses_A</th>\n",
       "      <th>expenses_B</th>\n",
       "      <th>expenses_C</th>\n",
       "      <th>expenses_D</th>\n",
       "      <th>current_plan_expense</th>\n",
       "      <th>optimal_plan</th>\n",
       "      <th>overpayment</th>\n",
       "    </tr>\n",
       "    <tr>\n",
       "      <th>user_id</th>\n",
       "      <th>month_n</th>\n",
       "      <th></th>\n",
       "      <th></th>\n",
       "      <th></th>\n",
       "      <th></th>\n",
       "      <th></th>\n",
       "      <th></th>\n",
       "      <th></th>\n",
       "      <th></th>\n",
       "      <th></th>\n",
       "      <th></th>\n",
       "      <th></th>\n",
       "      <th></th>\n",
       "      <th></th>\n",
       "      <th></th>\n",
       "    </tr>\n",
       "  </thead>\n",
       "  <tbody>\n",
       "    <tr>\n",
       "      <th>166377</th>\n",
       "      <th>11</th>\n",
       "      <td>B</td>\n",
       "      <td>4</td>\n",
       "      <td>109235</td>\n",
       "      <td>87019</td>\n",
       "      <td>2915</td>\n",
       "      <td>120</td>\n",
       "      <td>89814</td>\n",
       "      <td>4794.30</td>\n",
       "      <td>3566.30</td>\n",
       "      <td>3683.52</td>\n",
       "      <td>4438.91</td>\n",
       "      <td>3566.30</td>\n",
       "      <td>B</td>\n",
       "      <td>0.00</td>\n",
       "    </tr>\n",
       "    <tr>\n",
       "      <th>166391</th>\n",
       "      <th>11</th>\n",
       "      <td>C</td>\n",
       "      <td>1</td>\n",
       "      <td>85</td>\n",
       "      <td>0</td>\n",
       "      <td>13</td>\n",
       "      <td>0</td>\n",
       "      <td>13</td>\n",
       "      <td>4050.07</td>\n",
       "      <td>2150.11</td>\n",
       "      <td>1300.15</td>\n",
       "      <td>2950.11</td>\n",
       "      <td>1300.15</td>\n",
       "      <td>C</td>\n",
       "      <td>0.00</td>\n",
       "    </tr>\n",
       "    <tr>\n",
       "      <th>166392</th>\n",
       "      <th>11</th>\n",
       "      <td>C</td>\n",
       "      <td>2</td>\n",
       "      <td>12302</td>\n",
       "      <td>0</td>\n",
       "      <td>10531</td>\n",
       "      <td>0</td>\n",
       "      <td>10531</td>\n",
       "      <td>4152.65</td>\n",
       "      <td>2387.76</td>\n",
       "      <td>1722.86</td>\n",
       "      <td>3187.76</td>\n",
       "      <td>1722.86</td>\n",
       "      <td>C</td>\n",
       "      <td>0.00</td>\n",
       "    </tr>\n",
       "    <tr>\n",
       "      <th>166405</th>\n",
       "      <th>11</th>\n",
       "      <td>B</td>\n",
       "      <td>8</td>\n",
       "      <td>575014</td>\n",
       "      <td>340464</td>\n",
       "      <td>95294</td>\n",
       "      <td>35</td>\n",
       "      <td>435723</td>\n",
       "      <td>7146.11</td>\n",
       "      <td>7682.27</td>\n",
       "      <td>10185.93</td>\n",
       "      <td>8766.02</td>\n",
       "      <td>7682.27</td>\n",
       "      <td>A</td>\n",
       "      <td>536.16</td>\n",
       "    </tr>\n",
       "    <tr>\n",
       "      <th>166406</th>\n",
       "      <th>11</th>\n",
       "      <td>B</td>\n",
       "      <td>2</td>\n",
       "      <td>50470</td>\n",
       "      <td>31545</td>\n",
       "      <td>1617</td>\n",
       "      <td>0</td>\n",
       "      <td>33162</td>\n",
       "      <td>4318.39</td>\n",
       "      <td>2655.21</td>\n",
       "      <td>2144.61</td>\n",
       "      <td>3481.50</td>\n",
       "      <td>2655.21</td>\n",
       "      <td>C</td>\n",
       "      <td>510.60</td>\n",
       "    </tr>\n",
       "    <tr>\n",
       "      <th>...</th>\n",
       "      <th>...</th>\n",
       "      <td>...</td>\n",
       "      <td>...</td>\n",
       "      <td>...</td>\n",
       "      <td>...</td>\n",
       "      <td>...</td>\n",
       "      <td>...</td>\n",
       "      <td>...</td>\n",
       "      <td>...</td>\n",
       "      <td>...</td>\n",
       "      <td>...</td>\n",
       "      <td>...</td>\n",
       "      <td>...</td>\n",
       "      <td>...</td>\n",
       "      <td>...</td>\n",
       "    </tr>\n",
       "    <tr>\n",
       "      <th>168583</th>\n",
       "      <th>11</th>\n",
       "      <td>B</td>\n",
       "      <td>2</td>\n",
       "      <td>2176</td>\n",
       "      <td>0</td>\n",
       "      <td>1191</td>\n",
       "      <td>0</td>\n",
       "      <td>1191</td>\n",
       "      <td>4105.95</td>\n",
       "      <td>2309.93</td>\n",
       "      <td>1613.89</td>\n",
       "      <td>3109.93</td>\n",
       "      <td>2309.93</td>\n",
       "      <td>C</td>\n",
       "      <td>696.03</td>\n",
       "    </tr>\n",
       "    <tr>\n",
       "      <th>168598</th>\n",
       "      <th>11</th>\n",
       "      <td>C</td>\n",
       "      <td>1</td>\n",
       "      <td>5046</td>\n",
       "      <td>0</td>\n",
       "      <td>4262</td>\n",
       "      <td>11</td>\n",
       "      <td>4251</td>\n",
       "      <td>4071.27</td>\n",
       "      <td>2185.45</td>\n",
       "      <td>1349.65</td>\n",
       "      <td>2985.46</td>\n",
       "      <td>1349.65</td>\n",
       "      <td>C</td>\n",
       "      <td>0.00</td>\n",
       "    </tr>\n",
       "    <tr>\n",
       "      <th>168601</th>\n",
       "      <th>11</th>\n",
       "      <td>C</td>\n",
       "      <td>2</td>\n",
       "      <td>49027</td>\n",
       "      <td>27263</td>\n",
       "      <td>10975</td>\n",
       "      <td>0</td>\n",
       "      <td>38238</td>\n",
       "      <td>4336.63</td>\n",
       "      <td>2686.81</td>\n",
       "      <td>2182.43</td>\n",
       "      <td>3509.53</td>\n",
       "      <td>2182.43</td>\n",
       "      <td>C</td>\n",
       "      <td>0.00</td>\n",
       "    </tr>\n",
       "    <tr>\n",
       "      <th>168603</th>\n",
       "      <th>11</th>\n",
       "      <td>B</td>\n",
       "      <td>1</td>\n",
       "      <td>1306</td>\n",
       "      <td>905</td>\n",
       "      <td>0</td>\n",
       "      <td>0</td>\n",
       "      <td>905</td>\n",
       "      <td>4056.03</td>\n",
       "      <td>2159.80</td>\n",
       "      <td>1315.08</td>\n",
       "      <td>2960.56</td>\n",
       "      <td>2159.80</td>\n",
       "      <td>C</td>\n",
       "      <td>844.72</td>\n",
       "    </tr>\n",
       "    <tr>\n",
       "      <th>168606</th>\n",
       "      <th>11</th>\n",
       "      <td>C</td>\n",
       "      <td>1</td>\n",
       "      <td>8802</td>\n",
       "      <td>7545</td>\n",
       "      <td>686</td>\n",
       "      <td>6739</td>\n",
       "      <td>1492</td>\n",
       "      <td>4081.27</td>\n",
       "      <td>2198.14</td>\n",
       "      <td>1388.83</td>\n",
       "      <td>3010.05</td>\n",
       "      <td>1388.83</td>\n",
       "      <td>C</td>\n",
       "      <td>0.00</td>\n",
       "    </tr>\n",
       "  </tbody>\n",
       "</table>\n",
       "<p>261 rows × 14 columns</p>\n",
       "</div>"
      ],
      "text/plain": [
       "                tariff_plan  operator_id  total_call_duration  outgoing_calls  \\\n",
       "user_id month_n                                                                 \n",
       "166377  11                B            4               109235           87019   \n",
       "166391  11                C            1                   85               0   \n",
       "166392  11                C            2                12302               0   \n",
       "166405  11                B            8               575014          340464   \n",
       "166406  11                B            2                50470           31545   \n",
       "...                     ...          ...                  ...             ...   \n",
       "168583  11                B            2                 2176               0   \n",
       "168598  11                C            1                 5046               0   \n",
       "168601  11                C            2                49027           27263   \n",
       "168603  11                B            1                 1306             905   \n",
       "168606  11                C            1                 8802            7545   \n",
       "\n",
       "                 incoming_calls  internal_calls  external_calls  expenses_A  \\\n",
       "user_id month_n                                                               \n",
       "166377  11                 2915             120           89814     4794.30   \n",
       "166391  11                   13               0              13     4050.07   \n",
       "166392  11                10531               0           10531     4152.65   \n",
       "166405  11                95294              35          435723     7146.11   \n",
       "166406  11                 1617               0           33162     4318.39   \n",
       "...                         ...             ...             ...         ...   \n",
       "168583  11                 1191               0            1191     4105.95   \n",
       "168598  11                 4262              11            4251     4071.27   \n",
       "168601  11                10975               0           38238     4336.63   \n",
       "168603  11                    0               0             905     4056.03   \n",
       "168606  11                  686            6739            1492     4081.27   \n",
       "\n",
       "                 expenses_B  expenses_C  expenses_D  current_plan_expense  \\\n",
       "user_id month_n                                                             \n",
       "166377  11          3566.30     3683.52     4438.91               3566.30   \n",
       "166391  11          2150.11     1300.15     2950.11               1300.15   \n",
       "166392  11          2387.76     1722.86     3187.76               1722.86   \n",
       "166405  11          7682.27    10185.93     8766.02               7682.27   \n",
       "166406  11          2655.21     2144.61     3481.50               2655.21   \n",
       "...                     ...         ...         ...                   ...   \n",
       "168583  11          2309.93     1613.89     3109.93               2309.93   \n",
       "168598  11          2185.45     1349.65     2985.46               1349.65   \n",
       "168601  11          2686.81     2182.43     3509.53               2182.43   \n",
       "168603  11          2159.80     1315.08     2960.56               2159.80   \n",
       "168606  11          2198.14     1388.83     3010.05               1388.83   \n",
       "\n",
       "                optimal_plan  overpayment  \n",
       "user_id month_n                            \n",
       "166377  11                 B         0.00  \n",
       "166391  11                 C         0.00  \n",
       "166392  11                 C         0.00  \n",
       "166405  11                 A       536.16  \n",
       "166406  11                 C       510.60  \n",
       "...                      ...          ...  \n",
       "168583  11                 C       696.03  \n",
       "168598  11                 C         0.00  \n",
       "168601  11                 C         0.00  \n",
       "168603  11                 C       844.72  \n",
       "168606  11                 C         0.00  \n",
       "\n",
       "[261 rows x 14 columns]"
      ]
     },
     "metadata": {},
     "output_type": "display_data"
    }
   ],
   "source": [
    "def display_monthly_tables(summary_table):\n",
    "    # Разделение таблицы по месяцам\n",
    "    summary_table_sep = summary_table[summary_table.index.get_level_values('month_n') == 9]\n",
    "    summary_table_oct = summary_table[summary_table.index.get_level_values('month_n') == 10]\n",
    "    summary_table_nov = summary_table[summary_table.index.get_level_values('month_n') == 11]\n",
    "\n",
    "    # Отображение таблиц\n",
    "    print(\"Сентябрь:\")\n",
    "    display(summary_table_sep)\n",
    "    print(\"\\nОктябрь:\")\n",
    "    display(summary_table_oct)\n",
    "    print(\"\\nНоябрь:\")\n",
    "    display(summary_table_nov)\n",
    "\n",
    "# Вызов функции\n",
    "display_monthly_tables(summary_table)\n"
   ]
  },
  {
   "cell_type": "markdown",
   "metadata": {},
   "source": [
    "в сентябре было 140 клиентов, октябре 249, ноябре 261. из них 300 человек неоптимально используют свои тарифы "
   ]
  },
  {
   "cell_type": "markdown",
   "metadata": {},
   "source": [
    "это сводная таблица с данными о тарифах переплатах и времени разговора\n",
    "\n",
    "в ней содержиться информация об использовании связи активных клиентов(клиенты которые были активны 10 раз) за последний месяц\n",
    "\n",
    "так же в таблице имеется дополнительный тарифный план D. Помимо стандартных услуг в нём имеется подписка на различные сервисы и пакет интернет трафика "
   ]
  },
  {
   "cell_type": "code",
   "execution_count": 31,
   "metadata": {},
   "outputs": [
    {
     "data": {
      "text/html": [
       "<div>\n",
       "<style scoped>\n",
       "    .dataframe tbody tr th:only-of-type {\n",
       "        vertical-align: middle;\n",
       "    }\n",
       "\n",
       "    .dataframe tbody tr th {\n",
       "        vertical-align: top;\n",
       "    }\n",
       "\n",
       "    .dataframe thead th {\n",
       "        text-align: right;\n",
       "    }\n",
       "</style>\n",
       "<table border=\"1\" class=\"dataframe\">\n",
       "  <thead>\n",
       "    <tr style=\"text-align: right;\">\n",
       "      <th></th>\n",
       "      <th></th>\n",
       "      <th>tariff_plan</th>\n",
       "      <th>optimal_plan</th>\n",
       "      <th>overpayment</th>\n",
       "    </tr>\n",
       "    <tr>\n",
       "      <th>user_id</th>\n",
       "      <th>month_n</th>\n",
       "      <th></th>\n",
       "      <th></th>\n",
       "      <th></th>\n",
       "    </tr>\n",
       "  </thead>\n",
       "  <tbody>\n",
       "    <tr>\n",
       "      <th rowspan=\"2\" valign=\"top\">166405</th>\n",
       "      <th>10</th>\n",
       "      <td>B</td>\n",
       "      <td>A</td>\n",
       "      <td>549.83</td>\n",
       "    </tr>\n",
       "    <tr>\n",
       "      <th>11</th>\n",
       "      <td>B</td>\n",
       "      <td>A</td>\n",
       "      <td>536.16</td>\n",
       "    </tr>\n",
       "    <tr>\n",
       "      <th rowspan=\"3\" valign=\"top\">166406</th>\n",
       "      <th>9</th>\n",
       "      <td>B</td>\n",
       "      <td>C</td>\n",
       "      <td>173.58</td>\n",
       "    </tr>\n",
       "    <tr>\n",
       "      <th>10</th>\n",
       "      <td>B</td>\n",
       "      <td>C</td>\n",
       "      <td>233.78</td>\n",
       "    </tr>\n",
       "    <tr>\n",
       "      <th>11</th>\n",
       "      <td>B</td>\n",
       "      <td>C</td>\n",
       "      <td>510.60</td>\n",
       "    </tr>\n",
       "    <tr>\n",
       "      <th>...</th>\n",
       "      <th>...</th>\n",
       "      <td>...</td>\n",
       "      <td>...</td>\n",
       "      <td>...</td>\n",
       "    </tr>\n",
       "    <tr>\n",
       "      <th>168578</th>\n",
       "      <th>11</th>\n",
       "      <td>B</td>\n",
       "      <td>C</td>\n",
       "      <td>1000.00</td>\n",
       "    </tr>\n",
       "    <tr>\n",
       "      <th>168579</th>\n",
       "      <th>11</th>\n",
       "      <td>B</td>\n",
       "      <td>C</td>\n",
       "      <td>690.82</td>\n",
       "    </tr>\n",
       "    <tr>\n",
       "      <th rowspan=\"2\" valign=\"top\">168583</th>\n",
       "      <th>10</th>\n",
       "      <td>B</td>\n",
       "      <td>C</td>\n",
       "      <td>849.92</td>\n",
       "    </tr>\n",
       "    <tr>\n",
       "      <th>11</th>\n",
       "      <td>B</td>\n",
       "      <td>C</td>\n",
       "      <td>696.03</td>\n",
       "    </tr>\n",
       "    <tr>\n",
       "      <th>168603</th>\n",
       "      <th>11</th>\n",
       "      <td>B</td>\n",
       "      <td>C</td>\n",
       "      <td>844.72</td>\n",
       "    </tr>\n",
       "  </tbody>\n",
       "</table>\n",
       "<p>300 rows × 3 columns</p>\n",
       "</div>"
      ],
      "text/plain": [
       "                tariff_plan optimal_plan  overpayment\n",
       "user_id month_n                                      \n",
       "166405  10                B            A       549.83\n",
       "        11                B            A       536.16\n",
       "166406  9                 B            C       173.58\n",
       "        10                B            C       233.78\n",
       "        11                B            C       510.60\n",
       "...                     ...          ...          ...\n",
       "168578  11                B            C      1000.00\n",
       "168579  11                B            C       690.82\n",
       "168583  10                B            C       849.92\n",
       "        11                B            C       696.03\n",
       "168603  11                B            C       844.72\n",
       "\n",
       "[300 rows x 3 columns]"
      ]
     },
     "metadata": {},
     "output_type": "display_data"
    }
   ],
   "source": [
    "filtered_table = summary_table[summary_table['overpayment'] != 0]\n",
    "display(filtered_table[['tariff_plan', 'optimal_plan', 'overpayment']])\n",
    "\n"
   ]
  },
  {
   "cell_type": "markdown",
   "metadata": {},
   "source": [
    "в этой таблице отображенны все пользоваетли которые переплачивают за связь. Всего таких 300 человек. каждому из них можно сообщить об ежемесячной переплате и предлажить более подходящий тариф "
   ]
  },
  {
   "cell_type": "code",
   "execution_count": 32,
   "metadata": {
    "scrolled": true
   },
   "outputs": [
    {
     "name": "stdout",
     "output_type": "stream",
     "text": [
      "Сентябрь:\n"
     ]
    },
    {
     "data": {
      "text/html": [
       "<div>\n",
       "<style scoped>\n",
       "    .dataframe tbody tr th:only-of-type {\n",
       "        vertical-align: middle;\n",
       "    }\n",
       "\n",
       "    .dataframe tbody tr th {\n",
       "        vertical-align: top;\n",
       "    }\n",
       "\n",
       "    .dataframe thead th {\n",
       "        text-align: right;\n",
       "    }\n",
       "</style>\n",
       "<table border=\"1\" class=\"dataframe\">\n",
       "  <thead>\n",
       "    <tr style=\"text-align: right;\">\n",
       "      <th></th>\n",
       "      <th></th>\n",
       "      <th>tariff_plan</th>\n",
       "      <th>operator_id</th>\n",
       "      <th>total_call_duration</th>\n",
       "      <th>outgoing_calls</th>\n",
       "      <th>incoming_calls</th>\n",
       "      <th>internal_calls</th>\n",
       "      <th>external_calls</th>\n",
       "      <th>expenses_A</th>\n",
       "      <th>expenses_B</th>\n",
       "      <th>expenses_C</th>\n",
       "      <th>expenses_D</th>\n",
       "      <th>current_plan_expense</th>\n",
       "      <th>optimal_plan</th>\n",
       "      <th>overpayment</th>\n",
       "    </tr>\n",
       "    <tr>\n",
       "      <th>user_id</th>\n",
       "      <th>month_n</th>\n",
       "      <th></th>\n",
       "      <th></th>\n",
       "      <th></th>\n",
       "      <th></th>\n",
       "      <th></th>\n",
       "      <th></th>\n",
       "      <th></th>\n",
       "      <th></th>\n",
       "      <th></th>\n",
       "      <th></th>\n",
       "      <th></th>\n",
       "      <th></th>\n",
       "      <th></th>\n",
       "      <th></th>\n",
       "    </tr>\n",
       "  </thead>\n",
       "  <tbody>\n",
       "    <tr>\n",
       "      <th>166406</th>\n",
       "      <th>9</th>\n",
       "      <td>B</td>\n",
       "      <td>2</td>\n",
       "      <td>129478</td>\n",
       "      <td>87866</td>\n",
       "      <td>4160</td>\n",
       "      <td>2</td>\n",
       "      <td>92024</td>\n",
       "      <td>4706.57</td>\n",
       "      <td>3286.54</td>\n",
       "      <td>3112.95</td>\n",
       "      <td>4159.76</td>\n",
       "      <td>3286.54</td>\n",
       "      <td>C</td>\n",
       "      <td>173.58</td>\n",
       "    </tr>\n",
       "    <tr>\n",
       "      <th>166407</th>\n",
       "      <th>9</th>\n",
       "      <td>A</td>\n",
       "      <td>7</td>\n",
       "      <td>12833</td>\n",
       "      <td>6737</td>\n",
       "      <td>2339</td>\n",
       "      <td>4796</td>\n",
       "      <td>4280</td>\n",
       "      <td>4390.62</td>\n",
       "      <td>3114.50</td>\n",
       "      <td>3207.60</td>\n",
       "      <td>3924.11</td>\n",
       "      <td>4390.62</td>\n",
       "      <td>B</td>\n",
       "      <td>1276.12</td>\n",
       "    </tr>\n",
       "    <tr>\n",
       "      <th>166428</th>\n",
       "      <th>9</th>\n",
       "      <td>B</td>\n",
       "      <td>1</td>\n",
       "      <td>1419</td>\n",
       "      <td>0</td>\n",
       "      <td>961</td>\n",
       "      <td>0</td>\n",
       "      <td>961</td>\n",
       "      <td>4054.80</td>\n",
       "      <td>2158.01</td>\n",
       "      <td>1311.21</td>\n",
       "      <td>2958.01</td>\n",
       "      <td>2158.01</td>\n",
       "      <td>C</td>\n",
       "      <td>846.80</td>\n",
       "    </tr>\n",
       "    <tr>\n",
       "      <th>166495</th>\n",
       "      <th>9</th>\n",
       "      <td>B</td>\n",
       "      <td>1</td>\n",
       "      <td>53634</td>\n",
       "      <td>40991</td>\n",
       "      <td>2033</td>\n",
       "      <td>0</td>\n",
       "      <td>43024</td>\n",
       "      <td>4333.44</td>\n",
       "      <td>2611.01</td>\n",
       "      <td>2006.90</td>\n",
       "      <td>3445.17</td>\n",
       "      <td>2611.01</td>\n",
       "      <td>C</td>\n",
       "      <td>604.11</td>\n",
       "    </tr>\n",
       "    <tr>\n",
       "      <th>166503</th>\n",
       "      <th>9</th>\n",
       "      <td>B</td>\n",
       "      <td>5</td>\n",
       "      <td>40244</td>\n",
       "      <td>26546</td>\n",
       "      <td>2133</td>\n",
       "      <td>221</td>\n",
       "      <td>28458</td>\n",
       "      <td>4436.90</td>\n",
       "      <td>3054.07</td>\n",
       "      <td>2965.85</td>\n",
       "      <td>3876.37</td>\n",
       "      <td>3054.07</td>\n",
       "      <td>C</td>\n",
       "      <td>88.22</td>\n",
       "    </tr>\n",
       "    <tr>\n",
       "      <th>...</th>\n",
       "      <th>...</th>\n",
       "      <td>...</td>\n",
       "      <td>...</td>\n",
       "      <td>...</td>\n",
       "      <td>...</td>\n",
       "      <td>...</td>\n",
       "      <td>...</td>\n",
       "      <td>...</td>\n",
       "      <td>...</td>\n",
       "      <td>...</td>\n",
       "      <td>...</td>\n",
       "      <td>...</td>\n",
       "      <td>...</td>\n",
       "      <td>...</td>\n",
       "      <td>...</td>\n",
       "    </tr>\n",
       "    <tr>\n",
       "      <th>167580</th>\n",
       "      <th>9</th>\n",
       "      <td>B</td>\n",
       "      <td>0</td>\n",
       "      <td>4</td>\n",
       "      <td>0</td>\n",
       "      <td>0</td>\n",
       "      <td>0</td>\n",
       "      <td>0</td>\n",
       "      <td>4000.00</td>\n",
       "      <td>2000.00</td>\n",
       "      <td>1000.00</td>\n",
       "      <td>2800.00</td>\n",
       "      <td>2000.00</td>\n",
       "      <td>C</td>\n",
       "      <td>1000.00</td>\n",
       "    </tr>\n",
       "    <tr>\n",
       "      <th>167621</th>\n",
       "      <th>9</th>\n",
       "      <td>B</td>\n",
       "      <td>1</td>\n",
       "      <td>114</td>\n",
       "      <td>0</td>\n",
       "      <td>30</td>\n",
       "      <td>0</td>\n",
       "      <td>30</td>\n",
       "      <td>4050.15</td>\n",
       "      <td>2150.25</td>\n",
       "      <td>1300.35</td>\n",
       "      <td>2950.25</td>\n",
       "      <td>2150.25</td>\n",
       "      <td>C</td>\n",
       "      <td>849.90</td>\n",
       "    </tr>\n",
       "    <tr>\n",
       "      <th>167634</th>\n",
       "      <th>9</th>\n",
       "      <td>A</td>\n",
       "      <td>1</td>\n",
       "      <td>30</td>\n",
       "      <td>0</td>\n",
       "      <td>12</td>\n",
       "      <td>0</td>\n",
       "      <td>12</td>\n",
       "      <td>4050.06</td>\n",
       "      <td>2150.10</td>\n",
       "      <td>1300.14</td>\n",
       "      <td>2950.10</td>\n",
       "      <td>4050.06</td>\n",
       "      <td>C</td>\n",
       "      <td>2749.92</td>\n",
       "    </tr>\n",
       "    <tr>\n",
       "      <th>167654</th>\n",
       "      <th>9</th>\n",
       "      <td>B</td>\n",
       "      <td>2</td>\n",
       "      <td>115</td>\n",
       "      <td>0</td>\n",
       "      <td>77</td>\n",
       "      <td>0</td>\n",
       "      <td>77</td>\n",
       "      <td>4100.39</td>\n",
       "      <td>2300.64</td>\n",
       "      <td>1600.90</td>\n",
       "      <td>3100.64</td>\n",
       "      <td>2300.64</td>\n",
       "      <td>C</td>\n",
       "      <td>699.74</td>\n",
       "    </tr>\n",
       "    <tr>\n",
       "      <th>167716</th>\n",
       "      <th>9</th>\n",
       "      <td>B</td>\n",
       "      <td>1</td>\n",
       "      <td>3289</td>\n",
       "      <td>1950</td>\n",
       "      <td>0</td>\n",
       "      <td>0</td>\n",
       "      <td>1950</td>\n",
       "      <td>4063.00</td>\n",
       "      <td>2171.12</td>\n",
       "      <td>1332.50</td>\n",
       "      <td>2972.75</td>\n",
       "      <td>2171.12</td>\n",
       "      <td>C</td>\n",
       "      <td>838.62</td>\n",
       "    </tr>\n",
       "  </tbody>\n",
       "</table>\n",
       "<p>74 rows × 14 columns</p>\n",
       "</div>"
      ],
      "text/plain": [
       "                tariff_plan  operator_id  total_call_duration  outgoing_calls  \\\n",
       "user_id month_n                                                                 \n",
       "166406  9                 B            2               129478           87866   \n",
       "166407  9                 A            7                12833            6737   \n",
       "166428  9                 B            1                 1419               0   \n",
       "166495  9                 B            1                53634           40991   \n",
       "166503  9                 B            5                40244           26546   \n",
       "...                     ...          ...                  ...             ...   \n",
       "167580  9                 B            0                    4               0   \n",
       "167621  9                 B            1                  114               0   \n",
       "167634  9                 A            1                   30               0   \n",
       "167654  9                 B            2                  115               0   \n",
       "167716  9                 B            1                 3289            1950   \n",
       "\n",
       "                 incoming_calls  internal_calls  external_calls  expenses_A  \\\n",
       "user_id month_n                                                               \n",
       "166406  9                  4160               2           92024     4706.57   \n",
       "166407  9                  2339            4796            4280     4390.62   \n",
       "166428  9                   961               0             961     4054.80   \n",
       "166495  9                  2033               0           43024     4333.44   \n",
       "166503  9                  2133             221           28458     4436.90   \n",
       "...                         ...             ...             ...         ...   \n",
       "167580  9                     0               0               0     4000.00   \n",
       "167621  9                    30               0              30     4050.15   \n",
       "167634  9                    12               0              12     4050.06   \n",
       "167654  9                    77               0              77     4100.39   \n",
       "167716  9                     0               0            1950     4063.00   \n",
       "\n",
       "                 expenses_B  expenses_C  expenses_D  current_plan_expense  \\\n",
       "user_id month_n                                                             \n",
       "166406  9           3286.54     3112.95     4159.76               3286.54   \n",
       "166407  9           3114.50     3207.60     3924.11               4390.62   \n",
       "166428  9           2158.01     1311.21     2958.01               2158.01   \n",
       "166495  9           2611.01     2006.90     3445.17               2611.01   \n",
       "166503  9           3054.07     2965.85     3876.37               3054.07   \n",
       "...                     ...         ...         ...                   ...   \n",
       "167580  9           2000.00     1000.00     2800.00               2000.00   \n",
       "167621  9           2150.25     1300.35     2950.25               2150.25   \n",
       "167634  9           2150.10     1300.14     2950.10               4050.06   \n",
       "167654  9           2300.64     1600.90     3100.64               2300.64   \n",
       "167716  9           2171.12     1332.50     2972.75               2171.12   \n",
       "\n",
       "                optimal_plan  overpayment  \n",
       "user_id month_n                            \n",
       "166406  9                  C       173.58  \n",
       "166407  9                  B      1276.12  \n",
       "166428  9                  C       846.80  \n",
       "166495  9                  C       604.11  \n",
       "166503  9                  C        88.22  \n",
       "...                      ...          ...  \n",
       "167580  9                  C      1000.00  \n",
       "167621  9                  C       849.90  \n",
       "167634  9                  C      2749.92  \n",
       "167654  9                  C       699.74  \n",
       "167716  9                  C       838.62  \n",
       "\n",
       "[74 rows x 14 columns]"
      ]
     },
     "metadata": {},
     "output_type": "display_data"
    },
    {
     "name": "stdout",
     "output_type": "stream",
     "text": [
      "\n",
      "Октябрь:\n"
     ]
    },
    {
     "data": {
      "text/html": [
       "<div>\n",
       "<style scoped>\n",
       "    .dataframe tbody tr th:only-of-type {\n",
       "        vertical-align: middle;\n",
       "    }\n",
       "\n",
       "    .dataframe tbody tr th {\n",
       "        vertical-align: top;\n",
       "    }\n",
       "\n",
       "    .dataframe thead th {\n",
       "        text-align: right;\n",
       "    }\n",
       "</style>\n",
       "<table border=\"1\" class=\"dataframe\">\n",
       "  <thead>\n",
       "    <tr style=\"text-align: right;\">\n",
       "      <th></th>\n",
       "      <th></th>\n",
       "      <th>tariff_plan</th>\n",
       "      <th>operator_id</th>\n",
       "      <th>total_call_duration</th>\n",
       "      <th>outgoing_calls</th>\n",
       "      <th>incoming_calls</th>\n",
       "      <th>internal_calls</th>\n",
       "      <th>external_calls</th>\n",
       "      <th>expenses_A</th>\n",
       "      <th>expenses_B</th>\n",
       "      <th>expenses_C</th>\n",
       "      <th>expenses_D</th>\n",
       "      <th>current_plan_expense</th>\n",
       "      <th>optimal_plan</th>\n",
       "      <th>overpayment</th>\n",
       "    </tr>\n",
       "    <tr>\n",
       "      <th>user_id</th>\n",
       "      <th>month_n</th>\n",
       "      <th></th>\n",
       "      <th></th>\n",
       "      <th></th>\n",
       "      <th></th>\n",
       "      <th></th>\n",
       "      <th></th>\n",
       "      <th></th>\n",
       "      <th></th>\n",
       "      <th></th>\n",
       "      <th></th>\n",
       "      <th></th>\n",
       "      <th></th>\n",
       "      <th></th>\n",
       "      <th></th>\n",
       "    </tr>\n",
       "  </thead>\n",
       "  <tbody>\n",
       "    <tr>\n",
       "      <th>166405</th>\n",
       "      <th>10</th>\n",
       "      <td>B</td>\n",
       "      <td>10</td>\n",
       "      <td>515120</td>\n",
       "      <td>333500</td>\n",
       "      <td>48277</td>\n",
       "      <td>271</td>\n",
       "      <td>381506</td>\n",
       "      <td>6963.81</td>\n",
       "      <td>7513.64</td>\n",
       "      <td>10119.76</td>\n",
       "      <td>8591.79</td>\n",
       "      <td>7513.64</td>\n",
       "      <td>A</td>\n",
       "      <td>549.83</td>\n",
       "    </tr>\n",
       "    <tr>\n",
       "      <th>166406</th>\n",
       "      <th>10</th>\n",
       "      <td>B</td>\n",
       "      <td>2</td>\n",
       "      <td>125875</td>\n",
       "      <td>78638</td>\n",
       "      <td>2395</td>\n",
       "      <td>583</td>\n",
       "      <td>80450</td>\n",
       "      <td>4634.28</td>\n",
       "      <td>3168.47</td>\n",
       "      <td>2934.69</td>\n",
       "      <td>4034.49</td>\n",
       "      <td>3168.47</td>\n",
       "      <td>C</td>\n",
       "      <td>233.78</td>\n",
       "    </tr>\n",
       "    <tr>\n",
       "      <th>166407</th>\n",
       "      <th>10</th>\n",
       "      <td>A</td>\n",
       "      <td>7</td>\n",
       "      <td>35543</td>\n",
       "      <td>23257</td>\n",
       "      <td>5744</td>\n",
       "      <td>8646</td>\n",
       "      <td>20355</td>\n",
       "      <td>4504.95</td>\n",
       "      <td>3299.38</td>\n",
       "      <td>3496.99</td>\n",
       "      <td>4125.97</td>\n",
       "      <td>4504.95</td>\n",
       "      <td>B</td>\n",
       "      <td>1205.56</td>\n",
       "    </tr>\n",
       "    <tr>\n",
       "      <th>166428</th>\n",
       "      <th>10</th>\n",
       "      <td>B</td>\n",
       "      <td>3</td>\n",
       "      <td>10703</td>\n",
       "      <td>0</td>\n",
       "      <td>9618</td>\n",
       "      <td>44</td>\n",
       "      <td>9574</td>\n",
       "      <td>4197.94</td>\n",
       "      <td>2529.89</td>\n",
       "      <td>2011.92</td>\n",
       "      <td>3329.93</td>\n",
       "      <td>2529.89</td>\n",
       "      <td>C</td>\n",
       "      <td>517.98</td>\n",
       "    </tr>\n",
       "    <tr>\n",
       "      <th>166495</th>\n",
       "      <th>10</th>\n",
       "      <td>B</td>\n",
       "      <td>2</td>\n",
       "      <td>31696</td>\n",
       "      <td>22628</td>\n",
       "      <td>3664</td>\n",
       "      <td>0</td>\n",
       "      <td>26292</td>\n",
       "      <td>4269.17</td>\n",
       "      <td>2575.67</td>\n",
       "      <td>2019.88</td>\n",
       "      <td>3394.53</td>\n",
       "      <td>2575.67</td>\n",
       "      <td>C</td>\n",
       "      <td>555.79</td>\n",
       "    </tr>\n",
       "    <tr>\n",
       "      <th>...</th>\n",
       "      <th>...</th>\n",
       "      <td>...</td>\n",
       "      <td>...</td>\n",
       "      <td>...</td>\n",
       "      <td>...</td>\n",
       "      <td>...</td>\n",
       "      <td>...</td>\n",
       "      <td>...</td>\n",
       "      <td>...</td>\n",
       "      <td>...</td>\n",
       "      <td>...</td>\n",
       "      <td>...</td>\n",
       "      <td>...</td>\n",
       "      <td>...</td>\n",
       "      <td>...</td>\n",
       "    </tr>\n",
       "    <tr>\n",
       "      <th>168329</th>\n",
       "      <th>10</th>\n",
       "      <td>B</td>\n",
       "      <td>0</td>\n",
       "      <td>8</td>\n",
       "      <td>0</td>\n",
       "      <td>0</td>\n",
       "      <td>0</td>\n",
       "      <td>0</td>\n",
       "      <td>4000.00</td>\n",
       "      <td>2000.00</td>\n",
       "      <td>1000.00</td>\n",
       "      <td>2800.00</td>\n",
       "      <td>2000.00</td>\n",
       "      <td>C</td>\n",
       "      <td>1000.00</td>\n",
       "    </tr>\n",
       "    <tr>\n",
       "      <th>168377</th>\n",
       "      <th>10</th>\n",
       "      <td>B</td>\n",
       "      <td>0</td>\n",
       "      <td>20</td>\n",
       "      <td>0</td>\n",
       "      <td>0</td>\n",
       "      <td>0</td>\n",
       "      <td>0</td>\n",
       "      <td>4000.00</td>\n",
       "      <td>2000.00</td>\n",
       "      <td>1000.00</td>\n",
       "      <td>2800.00</td>\n",
       "      <td>2000.00</td>\n",
       "      <td>C</td>\n",
       "      <td>1000.00</td>\n",
       "    </tr>\n",
       "    <tr>\n",
       "      <th>168446</th>\n",
       "      <th>10</th>\n",
       "      <td>B</td>\n",
       "      <td>0</td>\n",
       "      <td>3</td>\n",
       "      <td>0</td>\n",
       "      <td>0</td>\n",
       "      <td>0</td>\n",
       "      <td>0</td>\n",
       "      <td>4000.00</td>\n",
       "      <td>2000.00</td>\n",
       "      <td>1000.00</td>\n",
       "      <td>2800.00</td>\n",
       "      <td>2000.00</td>\n",
       "      <td>C</td>\n",
       "      <td>1000.00</td>\n",
       "    </tr>\n",
       "    <tr>\n",
       "      <th>168500</th>\n",
       "      <th>10</th>\n",
       "      <td>B</td>\n",
       "      <td>0</td>\n",
       "      <td>2</td>\n",
       "      <td>0</td>\n",
       "      <td>0</td>\n",
       "      <td>0</td>\n",
       "      <td>0</td>\n",
       "      <td>4000.00</td>\n",
       "      <td>2000.00</td>\n",
       "      <td>1000.00</td>\n",
       "      <td>2800.00</td>\n",
       "      <td>2000.00</td>\n",
       "      <td>C</td>\n",
       "      <td>1000.00</td>\n",
       "    </tr>\n",
       "    <tr>\n",
       "      <th>168583</th>\n",
       "      <th>10</th>\n",
       "      <td>B</td>\n",
       "      <td>1</td>\n",
       "      <td>36</td>\n",
       "      <td>0</td>\n",
       "      <td>24</td>\n",
       "      <td>0</td>\n",
       "      <td>24</td>\n",
       "      <td>4050.12</td>\n",
       "      <td>2150.20</td>\n",
       "      <td>1300.28</td>\n",
       "      <td>2950.20</td>\n",
       "      <td>2150.20</td>\n",
       "      <td>C</td>\n",
       "      <td>849.92</td>\n",
       "    </tr>\n",
       "  </tbody>\n",
       "</table>\n",
       "<p>108 rows × 14 columns</p>\n",
       "</div>"
      ],
      "text/plain": [
       "                tariff_plan  operator_id  total_call_duration  outgoing_calls  \\\n",
       "user_id month_n                                                                 \n",
       "166405  10                B           10               515120          333500   \n",
       "166406  10                B            2               125875           78638   \n",
       "166407  10                A            7                35543           23257   \n",
       "166428  10                B            3                10703               0   \n",
       "166495  10                B            2                31696           22628   \n",
       "...                     ...          ...                  ...             ...   \n",
       "168329  10                B            0                    8               0   \n",
       "168377  10                B            0                   20               0   \n",
       "168446  10                B            0                    3               0   \n",
       "168500  10                B            0                    2               0   \n",
       "168583  10                B            1                   36               0   \n",
       "\n",
       "                 incoming_calls  internal_calls  external_calls  expenses_A  \\\n",
       "user_id month_n                                                               \n",
       "166405  10                48277             271          381506     6963.81   \n",
       "166406  10                 2395             583           80450     4634.28   \n",
       "166407  10                 5744            8646           20355     4504.95   \n",
       "166428  10                 9618              44            9574     4197.94   \n",
       "166495  10                 3664               0           26292     4269.17   \n",
       "...                         ...             ...             ...         ...   \n",
       "168329  10                    0               0               0     4000.00   \n",
       "168377  10                    0               0               0     4000.00   \n",
       "168446  10                    0               0               0     4000.00   \n",
       "168500  10                    0               0               0     4000.00   \n",
       "168583  10                   24               0              24     4050.12   \n",
       "\n",
       "                 expenses_B  expenses_C  expenses_D  current_plan_expense  \\\n",
       "user_id month_n                                                             \n",
       "166405  10          7513.64    10119.76     8591.79               7513.64   \n",
       "166406  10          3168.47     2934.69     4034.49               3168.47   \n",
       "166407  10          3299.38     3496.99     4125.97               4504.95   \n",
       "166428  10          2529.89     2011.92     3329.93               2529.89   \n",
       "166495  10          2575.67     2019.88     3394.53               2575.67   \n",
       "...                     ...         ...         ...                   ...   \n",
       "168329  10          2000.00     1000.00     2800.00               2000.00   \n",
       "168377  10          2000.00     1000.00     2800.00               2000.00   \n",
       "168446  10          2000.00     1000.00     2800.00               2000.00   \n",
       "168500  10          2000.00     1000.00     2800.00               2000.00   \n",
       "168583  10          2150.20     1300.28     2950.20               2150.20   \n",
       "\n",
       "                optimal_plan  overpayment  \n",
       "user_id month_n                            \n",
       "166405  10                 A       549.83  \n",
       "166406  10                 C       233.78  \n",
       "166407  10                 B      1205.56  \n",
       "166428  10                 C       517.98  \n",
       "166495  10                 C       555.79  \n",
       "...                      ...          ...  \n",
       "168329  10                 C      1000.00  \n",
       "168377  10                 C      1000.00  \n",
       "168446  10                 C      1000.00  \n",
       "168500  10                 C      1000.00  \n",
       "168583  10                 C       849.92  \n",
       "\n",
       "[108 rows x 14 columns]"
      ]
     },
     "metadata": {},
     "output_type": "display_data"
    },
    {
     "name": "stdout",
     "output_type": "stream",
     "text": [
      "\n",
      "Ноябрь:\n"
     ]
    },
    {
     "data": {
      "text/html": [
       "<div>\n",
       "<style scoped>\n",
       "    .dataframe tbody tr th:only-of-type {\n",
       "        vertical-align: middle;\n",
       "    }\n",
       "\n",
       "    .dataframe tbody tr th {\n",
       "        vertical-align: top;\n",
       "    }\n",
       "\n",
       "    .dataframe thead th {\n",
       "        text-align: right;\n",
       "    }\n",
       "</style>\n",
       "<table border=\"1\" class=\"dataframe\">\n",
       "  <thead>\n",
       "    <tr style=\"text-align: right;\">\n",
       "      <th></th>\n",
       "      <th></th>\n",
       "      <th>tariff_plan</th>\n",
       "      <th>operator_id</th>\n",
       "      <th>total_call_duration</th>\n",
       "      <th>outgoing_calls</th>\n",
       "      <th>incoming_calls</th>\n",
       "      <th>internal_calls</th>\n",
       "      <th>external_calls</th>\n",
       "      <th>expenses_A</th>\n",
       "      <th>expenses_B</th>\n",
       "      <th>expenses_C</th>\n",
       "      <th>expenses_D</th>\n",
       "      <th>current_plan_expense</th>\n",
       "      <th>optimal_plan</th>\n",
       "      <th>overpayment</th>\n",
       "    </tr>\n",
       "    <tr>\n",
       "      <th>user_id</th>\n",
       "      <th>month_n</th>\n",
       "      <th></th>\n",
       "      <th></th>\n",
       "      <th></th>\n",
       "      <th></th>\n",
       "      <th></th>\n",
       "      <th></th>\n",
       "      <th></th>\n",
       "      <th></th>\n",
       "      <th></th>\n",
       "      <th></th>\n",
       "      <th></th>\n",
       "      <th></th>\n",
       "      <th></th>\n",
       "      <th></th>\n",
       "    </tr>\n",
       "  </thead>\n",
       "  <tbody>\n",
       "    <tr>\n",
       "      <th>166405</th>\n",
       "      <th>11</th>\n",
       "      <td>B</td>\n",
       "      <td>8</td>\n",
       "      <td>575014</td>\n",
       "      <td>340464</td>\n",
       "      <td>95294</td>\n",
       "      <td>35</td>\n",
       "      <td>435723</td>\n",
       "      <td>7146.11</td>\n",
       "      <td>7682.27</td>\n",
       "      <td>10185.93</td>\n",
       "      <td>8766.02</td>\n",
       "      <td>7682.27</td>\n",
       "      <td>A</td>\n",
       "      <td>536.16</td>\n",
       "    </tr>\n",
       "    <tr>\n",
       "      <th>166406</th>\n",
       "      <th>11</th>\n",
       "      <td>B</td>\n",
       "      <td>2</td>\n",
       "      <td>50470</td>\n",
       "      <td>31545</td>\n",
       "      <td>1617</td>\n",
       "      <td>0</td>\n",
       "      <td>33162</td>\n",
       "      <td>4318.39</td>\n",
       "      <td>2655.21</td>\n",
       "      <td>2144.61</td>\n",
       "      <td>3481.50</td>\n",
       "      <td>2655.21</td>\n",
       "      <td>C</td>\n",
       "      <td>510.60</td>\n",
       "    </tr>\n",
       "    <tr>\n",
       "      <th>166407</th>\n",
       "      <th>11</th>\n",
       "      <td>A</td>\n",
       "      <td>8</td>\n",
       "      <td>18418</td>\n",
       "      <td>12808</td>\n",
       "      <td>1817</td>\n",
       "      <td>5614</td>\n",
       "      <td>9011</td>\n",
       "      <td>4475.76</td>\n",
       "      <td>3321.15</td>\n",
       "      <td>3597.24</td>\n",
       "      <td>4136.50</td>\n",
       "      <td>4475.76</td>\n",
       "      <td>B</td>\n",
       "      <td>1154.61</td>\n",
       "    </tr>\n",
       "    <tr>\n",
       "      <th>166428</th>\n",
       "      <th>11</th>\n",
       "      <td>B</td>\n",
       "      <td>1</td>\n",
       "      <td>3226</td>\n",
       "      <td>0</td>\n",
       "      <td>2685</td>\n",
       "      <td>28</td>\n",
       "      <td>2657</td>\n",
       "      <td>4063.33</td>\n",
       "      <td>2172.21</td>\n",
       "      <td>1331.14</td>\n",
       "      <td>2972.24</td>\n",
       "      <td>2172.21</td>\n",
       "      <td>C</td>\n",
       "      <td>841.07</td>\n",
       "    </tr>\n",
       "    <tr>\n",
       "      <th>166495</th>\n",
       "      <th>11</th>\n",
       "      <td>B</td>\n",
       "      <td>1</td>\n",
       "      <td>29415</td>\n",
       "      <td>23164</td>\n",
       "      <td>587</td>\n",
       "      <td>0</td>\n",
       "      <td>23751</td>\n",
       "      <td>4207.36</td>\n",
       "      <td>2405.84</td>\n",
       "      <td>1692.91</td>\n",
       "      <td>3225.14</td>\n",
       "      <td>2405.84</td>\n",
       "      <td>C</td>\n",
       "      <td>712.92</td>\n",
       "    </tr>\n",
       "    <tr>\n",
       "      <th>...</th>\n",
       "      <th>...</th>\n",
       "      <td>...</td>\n",
       "      <td>...</td>\n",
       "      <td>...</td>\n",
       "      <td>...</td>\n",
       "      <td>...</td>\n",
       "      <td>...</td>\n",
       "      <td>...</td>\n",
       "      <td>...</td>\n",
       "      <td>...</td>\n",
       "      <td>...</td>\n",
       "      <td>...</td>\n",
       "      <td>...</td>\n",
       "      <td>...</td>\n",
       "      <td>...</td>\n",
       "    </tr>\n",
       "    <tr>\n",
       "      <th>168562</th>\n",
       "      <th>11</th>\n",
       "      <td>B</td>\n",
       "      <td>1</td>\n",
       "      <td>2039</td>\n",
       "      <td>0</td>\n",
       "      <td>1476</td>\n",
       "      <td>0</td>\n",
       "      <td>1476</td>\n",
       "      <td>4057.38</td>\n",
       "      <td>2162.30</td>\n",
       "      <td>1317.22</td>\n",
       "      <td>2962.30</td>\n",
       "      <td>2162.30</td>\n",
       "      <td>C</td>\n",
       "      <td>845.08</td>\n",
       "    </tr>\n",
       "    <tr>\n",
       "      <th>168578</th>\n",
       "      <th>11</th>\n",
       "      <td>B</td>\n",
       "      <td>0</td>\n",
       "      <td>2</td>\n",
       "      <td>0</td>\n",
       "      <td>0</td>\n",
       "      <td>0</td>\n",
       "      <td>0</td>\n",
       "      <td>4000.00</td>\n",
       "      <td>2000.00</td>\n",
       "      <td>1000.00</td>\n",
       "      <td>2800.00</td>\n",
       "      <td>2000.00</td>\n",
       "      <td>C</td>\n",
       "      <td>1000.00</td>\n",
       "    </tr>\n",
       "    <tr>\n",
       "      <th>168579</th>\n",
       "      <th>11</th>\n",
       "      <td>B</td>\n",
       "      <td>2</td>\n",
       "      <td>4773</td>\n",
       "      <td>0</td>\n",
       "      <td>2754</td>\n",
       "      <td>0</td>\n",
       "      <td>2754</td>\n",
       "      <td>4113.77</td>\n",
       "      <td>2322.95</td>\n",
       "      <td>1632.13</td>\n",
       "      <td>3122.95</td>\n",
       "      <td>2322.95</td>\n",
       "      <td>C</td>\n",
       "      <td>690.82</td>\n",
       "    </tr>\n",
       "    <tr>\n",
       "      <th>168583</th>\n",
       "      <th>11</th>\n",
       "      <td>B</td>\n",
       "      <td>2</td>\n",
       "      <td>2176</td>\n",
       "      <td>0</td>\n",
       "      <td>1191</td>\n",
       "      <td>0</td>\n",
       "      <td>1191</td>\n",
       "      <td>4105.95</td>\n",
       "      <td>2309.93</td>\n",
       "      <td>1613.89</td>\n",
       "      <td>3109.93</td>\n",
       "      <td>2309.93</td>\n",
       "      <td>C</td>\n",
       "      <td>696.03</td>\n",
       "    </tr>\n",
       "    <tr>\n",
       "      <th>168603</th>\n",
       "      <th>11</th>\n",
       "      <td>B</td>\n",
       "      <td>1</td>\n",
       "      <td>1306</td>\n",
       "      <td>905</td>\n",
       "      <td>0</td>\n",
       "      <td>0</td>\n",
       "      <td>905</td>\n",
       "      <td>4056.03</td>\n",
       "      <td>2159.80</td>\n",
       "      <td>1315.08</td>\n",
       "      <td>2960.56</td>\n",
       "      <td>2159.80</td>\n",
       "      <td>C</td>\n",
       "      <td>844.72</td>\n",
       "    </tr>\n",
       "  </tbody>\n",
       "</table>\n",
       "<p>118 rows × 14 columns</p>\n",
       "</div>"
      ],
      "text/plain": [
       "                tariff_plan  operator_id  total_call_duration  outgoing_calls  \\\n",
       "user_id month_n                                                                 \n",
       "166405  11                B            8               575014          340464   \n",
       "166406  11                B            2                50470           31545   \n",
       "166407  11                A            8                18418           12808   \n",
       "166428  11                B            1                 3226               0   \n",
       "166495  11                B            1                29415           23164   \n",
       "...                     ...          ...                  ...             ...   \n",
       "168562  11                B            1                 2039               0   \n",
       "168578  11                B            0                    2               0   \n",
       "168579  11                B            2                 4773               0   \n",
       "168583  11                B            2                 2176               0   \n",
       "168603  11                B            1                 1306             905   \n",
       "\n",
       "                 incoming_calls  internal_calls  external_calls  expenses_A  \\\n",
       "user_id month_n                                                               \n",
       "166405  11                95294              35          435723     7146.11   \n",
       "166406  11                 1617               0           33162     4318.39   \n",
       "166407  11                 1817            5614            9011     4475.76   \n",
       "166428  11                 2685              28            2657     4063.33   \n",
       "166495  11                  587               0           23751     4207.36   \n",
       "...                         ...             ...             ...         ...   \n",
       "168562  11                 1476               0            1476     4057.38   \n",
       "168578  11                    0               0               0     4000.00   \n",
       "168579  11                 2754               0            2754     4113.77   \n",
       "168583  11                 1191               0            1191     4105.95   \n",
       "168603  11                    0               0             905     4056.03   \n",
       "\n",
       "                 expenses_B  expenses_C  expenses_D  current_plan_expense  \\\n",
       "user_id month_n                                                             \n",
       "166405  11          7682.27    10185.93     8766.02               7682.27   \n",
       "166406  11          2655.21     2144.61     3481.50               2655.21   \n",
       "166407  11          3321.15     3597.24     4136.50               4475.76   \n",
       "166428  11          2172.21     1331.14     2972.24               2172.21   \n",
       "166495  11          2405.84     1692.91     3225.14               2405.84   \n",
       "...                     ...         ...         ...                   ...   \n",
       "168562  11          2162.30     1317.22     2962.30               2162.30   \n",
       "168578  11          2000.00     1000.00     2800.00               2000.00   \n",
       "168579  11          2322.95     1632.13     3122.95               2322.95   \n",
       "168583  11          2309.93     1613.89     3109.93               2309.93   \n",
       "168603  11          2159.80     1315.08     2960.56               2159.80   \n",
       "\n",
       "                optimal_plan  overpayment  \n",
       "user_id month_n                            \n",
       "166405  11                 A       536.16  \n",
       "166406  11                 C       510.60  \n",
       "166407  11                 B      1154.61  \n",
       "166428  11                 C       841.07  \n",
       "166495  11                 C       712.92  \n",
       "...                      ...          ...  \n",
       "168562  11                 C       845.08  \n",
       "168578  11                 C      1000.00  \n",
       "168579  11                 C       690.82  \n",
       "168583  11                 C       696.03  \n",
       "168603  11                 C       844.72  \n",
       "\n",
       "[118 rows x 14 columns]"
      ]
     },
     "metadata": {},
     "output_type": "display_data"
    }
   ],
   "source": [
    "filtered_table[['tariff_plan' ,'expenses_A', 'expenses_B', 'expenses_C', 'tariff_plan', 'overpayment']].sort_values(by='overpayment', ascending=False)\n",
    "display_monthly_tables(filtered_table)\n"
   ]
  },
  {
   "cell_type": "markdown",
   "metadata": {},
   "source": [
    "таблица отображающая сколько пользователь будет платить наи каждом тарифном плане "
   ]
  },
  {
   "cell_type": "markdown",
   "metadata": {},
   "source": [
    "**вывод**\n",
    "\n",
    "данные показывают, что некоторые клиенты переплачивают за свои текущие тарифные планы. Это может привести к недовольству клиентов, и они могут рассмотреть возможность перехода к конкурентам в поисках более выгодных предложений.\n",
    "\n",
    "Особенно это касается 300 клиентов, которые переплачивают. Важно обратить внимание на этих клиентов и предложить им оптимальные тарифные планы, которые лучше соответствуют их потребностям. Это не только поможет удержать этих клиентов, но и улучшит их удовлетворенность услугами."
   ]
  },
  {
   "cell_type": "markdown",
   "metadata": {},
   "source": [
    "## Предложение решения для уменьшения риска падения выручки"
   ]
  },
  {
   "cell_type": "code",
   "execution_count": 33,
   "metadata": {},
   "outputs": [
    {
     "name": "stdout",
     "output_type": "stream",
     "text": [
      "Прибыль компании на текущих тарифах: 1777792.38 руб.\n",
      "Прибыль компании, если все клиенты перейдут на оптимальные тарифы: 1480431.62 руб.\n",
      "Процент потери прибыли, если пользователи перейдут на оптимальные тарифы: 16.73%\n",
      "Потери компании, если пользователи с неоптимальными тарифами перестанут платить: 987727.88 руб.\n"
     ]
    }
   ],
   "source": [
    "# Расчет прибыли компании на текущих тарифах\n",
    "current_profit = summary_table['current_plan_expense'].sum()\n",
    "\n",
    "# Расчет прибыли компании, если все клиенты перейдут на оптимальные тарифы\n",
    "optimal_profit = summary_table[['expenses_A', 'expenses_B', 'expenses_C', 'expenses_D']].min(axis=1).sum()\n",
    "\n",
    "# Расчет процента потери прибыли, если пользователи перейдут на оптимальные тарифы\n",
    "profit_loss_percentage = (current_profit - optimal_profit) / current_profit * 100\n",
    "\n",
    "non_optimal_users_loss = summary_table[summary_table['tariff_plan'] != summary_table['optimal_plan']]['current_plan_expense'].sum()\n",
    "\n",
    "print(f\"Прибыль компании на текущих тарифах: {current_profit:.2f} руб.\")\n",
    "print(f\"Прибыль компании, если все клиенты перейдут на оптимальные тарифы: {optimal_profit:.2f} руб.\")\n",
    "print(f\"Процент потери прибыли, если пользователи перейдут на оптимальные тарифы: {profit_loss_percentage:.2f}%\")\n",
    "print(f\"Потери компании, если пользователи с неоптимальными тарифами перестанут платить: {non_optimal_users_loss:.2f} руб.\")\n"
   ]
  },
  {
   "cell_type": "code",
   "execution_count": 34,
   "metadata": {},
   "outputs": [],
   "source": [
    "summary_table_sep = summary_table[summary_table.index.get_level_values('month_n') == 9]\n",
    "summary_table_oct = summary_table[summary_table.index.get_level_values('month_n') == 10]\n",
    "summary_table_nov = summary_table[summary_table.index.get_level_values('month_n') == 11]\n"
   ]
  },
  {
   "cell_type": "code",
   "execution_count": 35,
   "metadata": {},
   "outputs": [
    {
     "name": "stdout",
     "output_type": "stream",
     "text": [
      "Сентябрь:\n",
      "Прибыль компании на текущих тарифах: 380184.04 руб.\n",
      "Прибыль компании, если все клиенты перейдут на оптимальные тарифы: 306615.21 руб.\n",
      "Процент потери прибыли, если пользователи перейдут на оптимальные тарифы: 19.35%\n",
      "Потери компании, если пользователи с неоптимальными тарифами перестанут платить: 235618.10 руб.\n",
      "------------------------------------------------------------------\n",
      "Октябрь:\n",
      "Прибыль компании на текущих тарифах: 652202.86 руб.\n",
      "Прибыль компании, если все клиенты перейдут на оптимальные тарифы: 543269.66 руб.\n",
      "Процент потери прибыли, если пользователи перейдут на оптимальные тарифы: 16.70%\n",
      "Потери компании, если пользователи с неоптимальными тарифами перестанут платить: 362406.56 руб.\n",
      "------------------------------------------------------------------\n",
      "Ноябрь:\n",
      "Прибыль компании на текущих тарифах: 745405.47 руб.\n",
      "Прибыль компании, если все клиенты перейдут на оптимальные тарифы: 630546.76 руб.\n",
      "Процент потери прибыли, если пользователи перейдут на оптимальные тарифы: 15.41%\n",
      "Потери компании, если пользователи с неоптимальными тарифами перестанут платить: 389703.22 руб.\n",
      "------------------------------------------------------------------\n"
     ]
    }
   ],
   "source": [
    "\n",
    "# Функция для расчета прибыли и потерь\n",
    "def calculate_profit_and_loss(summary_table):\n",
    "    # Расчет прибыли компании на текущих тарифах\n",
    "    current_profit = summary_table['current_plan_expense'].sum()\n",
    "\n",
    "    # Расчет прибыли компании, если все клиенты перейдут на оптимальные тарифы\n",
    "    optimal_profit = summary_table[['expenses_A', 'expenses_B', 'expenses_C', 'expenses_D']].min(axis=1).sum()\n",
    "\n",
    "    # Расчет процента потери прибыли, если пользователи перейдут на оптимальные тарифы\n",
    "    profit_loss_percentage = (current_profit - optimal_profit) / current_profit * 100\n",
    "\n",
    "    # Расчет потерь компании, если пользователи с неоптимальными тарифами перестанут платить\n",
    "    non_optimal_users_loss = summary_table[summary_table['tariff_plan'] != summary_table['optimal_plan']]['current_plan_expense'].sum()\n",
    "\n",
    "    return current_profit, optimal_profit, profit_loss_percentage, non_optimal_users_loss\n",
    "\n",
    "# Расчет и вывод значений для каждого месяца\n",
    "for month, table in zip(['Сентябрь', 'Октябрь', 'Ноябрь'], [summary_table_sep, summary_table_oct, summary_table_nov]):\n",
    "    current_profit, optimal_profit, profit_loss_percentage, non_optimal_users_loss = calculate_profit_and_loss(table)\n",
    "    print(f\"{month}:\")\n",
    "    print(f\"Прибыль компании на текущих тарифах: {current_profit:.2f} руб.\")\n",
    "    print(f\"Прибыль компании, если все клиенты перейдут на оптимальные тарифы: {optimal_profit:.2f} руб.\")\n",
    "    print(f\"Процент потери прибыли, если пользователи перейдут на оптимальные тарифы: {profit_loss_percentage:.2f}%\")\n",
    "    print(f\"Потери компании, если пользователи с неоптимальными тарифами перестанут платить: {non_optimal_users_loss:.2f} руб.\")\n",
    "    print('------------------------------------------------------------------')\n",
    "\n"
   ]
  },
  {
   "cell_type": "code",
   "execution_count": 36,
   "metadata": {},
   "outputs": [
    {
     "data": {
      "image/png": "[encoded data removed]",
      "text/plain": [
       "<Figure size 720x432 with 1 Axes>"
      ]
     },
     "metadata": {
      "needs_background": "light"
     },
     "output_type": "display_data"
    }
   ],
   "source": [
    "\n",
    "# Создание графика\n",
    "plt.figure(figsize=(10, 6))\n",
    "plt.plot(['Сентябрь', 'Октябрь', 'Ноябрь'], [summary_table_sep['current_plan_expense'].sum(), summary_table_oct['current_plan_expense'].sum(), summary_table_nov['current_plan_expense'].sum()], marker='o', label='Текущие тарифы')\n",
    "plt.plot(['Сентябрь', 'Октябрь', 'Ноябрь'], [summary_table_sep[['expenses_A', 'expenses_B', 'expenses_C', 'expenses_D']].min(axis=1).sum(), summary_table_oct[['expenses_A', 'expenses_B', 'expenses_C', 'expenses_D']].min(axis=1).sum(), summary_table_nov[['expenses_A', 'expenses_B', 'expenses_C', 'expenses_D']].min(axis=1).sum()], marker='o', label='Оптимальные тарифы')\n",
    "plt.title('Прибыль компании')\n",
    "plt.xlabel('Месяц')\n",
    "plt.ylabel('Прибыль')\n",
    "plt.legend()\n",
    "plt.grid(True)\n",
    "plt.show()\n"
   ]
  },
  {
   "cell_type": "markdown",
   "metadata": {},
   "source": [
    "**вывод**\n",
    "\n",
    "На данный момент есть 300 пользователя которые переплачивают за связь. В проекте имеется таблица с id клиента, его тарифным планом, рекомендуемым тарифным планом а так же суммой которую клиент переплачивает\n",
    "\n",
    "Есть вторая таблица, в ней имеется информация о там сколько будет платить человек на каждом из доступных тарифов\n",
    "\n",
    "Бизнес показатели:\n",
    "\n",
    "В сентябре, октябре и ноябре прибыль компании составила 380184.04 руб., 652202.86 руб. и 745405.47 руб. соответственно.\n",
    "\n",
    "Если все клиенты перейдут на оптимальные тарифы, прибыль компании снизится на 19.35% в сентябре, 16.70% в октябре и 15.41% в ноябре.\n",
    "\n",
    "Если пользователи с неоптимальными тарифами перестанут платить, потери компании составят 235618.10 руб. в сентябре, 362406.56 руб. в октябре и 389703.22 руб. в ноябре.\n",
    "\n",
    "\n",
    "Общая прибыль за квартал: 1777792.37 руб.\n",
    "\n",
    "- Прибыль за квартал, если все клиенты перейдут на оптимальные тарифы 1480431.63 руб.\n",
    "\n",
    "- Общая потеря прибыли за квартал, если все клиенты перейдут на оптимальные тарифы: 16.74%.\n",
    "\n",
    "- Общие потери за квартал, если пользователи с неоптимальными тарифами перестанут платить: 987727.88 руб.\n",
    "\n",
    "прибыль компании растёт от месяца к месяцу но всё же стоит стоит подготовиться к запуску продукта конкурента, а именно подобрать лптимальные тарифные планы и добавть новые тарифы или услуги "
   ]
  },
  {
   "cell_type": "markdown",
   "metadata": {},
   "source": [
    "## диаграммы"
   ]
  },
  {
   "cell_type": "code",
   "execution_count": 37,
   "metadata": {},
   "outputs": [],
   "source": [
    "incoming_calls = combined_data[combined_data['direction'] == 'in']\n",
    "call_duration = incoming_calls['call_duration']\n",
    "#среднее значение столбца call_duration\n",
    "avg_incoming_duration = call_duration.mean()"
   ]
  },
  {
   "cell_type": "code",
   "execution_count": 38,
   "metadata": {},
   "outputs": [
    {
     "data": {
      "image/png": "[encoded data removed]",
      "text/plain": [
       "<Figure size 720x432 with 1 Axes>"
      ]
     },
     "metadata": {
      "needs_background": "light"
     },
     "output_type": "display_data"
    }
   ],
   "source": [
    "#строки, соответствующие входящим звонкам\n",
    "avg_incoming_duration = incoming_calls.groupby('tariff_plan')['call_duration'].mean()\n",
    "\n",
    "outgoing_calls = combined_data[combined_data['direction'] == 'out']\n",
    "avg_outgoing_duration = outgoing_calls.groupby('tariff_plan')['call_duration'].mean()\n",
    "\n",
    "plt.figure(figsize=(10, 6))\n",
    "\n",
    "bar_width = 0.35\n",
    "index = np.arange(len(avg_incoming_duration.index))\n",
    "\n",
    "plt.bar(index, avg_incoming_duration.values, bar_width, alpha=0.5, label='Входящие звонки')\n",
    "plt.bar(index + bar_width, avg_outgoing_duration.values, bar_width, alpha=0.5, label='Исходящие звонки')\n",
    "\n",
    "plt.xlabel('Тарифный план')\n",
    "plt.ylabel('Средняя длительность звонка')\n",
    "plt.title('Зависимость средней длительности звонка от тарифного плана')\n",
    "\n",
    "plt.legend()\n",
    "\n",
    "# Добавляем подписи к оси X\n",
    "plt.xticks(index + bar_width / 2, avg_incoming_duration.index)\n",
    "\n",
    "# Отображаем график\n",
    "plt.show()"
   ]
  },
  {
   "cell_type": "markdown",
   "metadata": {},
   "source": [
    "колличкство входящих звонков примерно одинаковое \n",
    "а колличество исходящих различается\n",
    "\n",
    " - больше всего звонят с тарифа A \n",
    " (он самый дорогой но при этом выгоден для большого колличества звонков)\n",
    " \n",
    " \n",
    " - далее идёт тариф C \n",
    " (он самый недорогой но звонят с него больше чем со среднего тарифа В)"
   ]
  },
  {
   "cell_type": "markdown",
   "metadata": {},
   "source": [
    " "
   ]
  },
  {
   "cell_type": "code",
   "execution_count": 39,
   "metadata": {},
   "outputs": [
    {
     "data": {
      "image/png": "[encoded data removed]",
      "text/plain": [
       "<Figure size 720x432 with 1 Axes>"
      ]
     },
     "metadata": {
      "needs_background": "light"
     },
     "output_type": "display_data"
    },
    {
     "data": {
      "image/png": "[encoded data removed]",
      "text/plain": [
       "<Figure size 720x432 with 1 Axes>"
      ]
     },
     "metadata": {
      "needs_background": "light"
     },
     "output_type": "display_data"
    },
    {
     "data": {
      "image/png": "[encoded data removed]",
      "text/plain": [
       "<Figure size 720x432 with 1 Axes>"
      ]
     },
     "metadata": {
      "needs_background": "light"
     },
     "output_type": "display_data"
    }
   ],
   "source": [
    "# Создание отдельных диаграмм размаха для каждого тарифного плана\n",
    "for plan, limit in zip(['A', 'B', 'C'], [15000, 6000, 5000]):\n",
    "    plt.figure(figsize=(10, 6))\n",
    "    plt.boxplot(summary_table[summary_table['tariff_plan'] == plan]['current_plan_expense'], labels=[plan])\n",
    "    plt.title(f'Диаграмма размаха для стоимости тарифного плана {plan}')\n",
    "    plt.xlabel('Тарифный план')\n",
    "    plt.ylabel('Стоимость')\n",
    "    plt.ylim([0, limit])  # Ограничение оси y\n",
    "    plt.grid(True)\n",
    "    plt.show()\n"
   ]
  },
  {
   "cell_type": "code",
   "execution_count": 40,
   "metadata": {},
   "outputs": [
    {
     "name": "stdout",
     "output_type": "stream",
     "text": [
      "Процентили для тарифного плана A:\n",
      "25%: 4088.9\n",
      "50%: 4307.9\n",
      "75%: 4522.3\n",
      "Процентили для тарифного плана B:\n",
      "25%: 2159.7\n",
      "50%: 2418.5\n",
      "75%: 2877.6\n",
      "Процентили для тарифного плана C:\n",
      "25%: 1303.7\n",
      "50%: 1601.7\n",
      "75%: 2012.2\n"
     ]
    }
   ],
   "source": [
    "for plan in ['A', 'B', 'C']:\n",
    "    data = summary_table[summary_table['tariff_plan'] == plan]['current_plan_expense']\n",
    "    print(f\"Процентили для тарифного плана {plan}:\")\n",
    "    for percentile in [25, 50, 75]:\n",
    "        value = np.percentile(data, percentile)\n",
    "        print(f\"{percentile}%: {value:.5}\")\n"
   ]
  },
  {
   "cell_type": "markdown",
   "metadata": {},
   "source": [
    "боксплоты со средней плптой по каждому из тарифов, на тарифном плане А самый маленький разброс среднего чека. На тарифных планах В и С разброс больше \n",
    "\n",
    "Тарифный план A является самым дорогим, с медианной стоимостью в 4307.90, в то время как тарифный план C является самым дешевым, с медианной стоимостью в 1601.66."
   ]
  },
  {
   "cell_type": "code",
   "execution_count": 41,
   "metadata": {},
   "outputs": [
    {
     "data": {
      "image/png": "[encoded data removed]",
      "text/plain": [
       "<Figure size 432x288 with 1 Axes>"
      ]
     },
     "metadata": {
      "needs_background": "light"
     },
     "output_type": "display_data"
    }
   ],
   "source": [
    "\n",
    "# Расчет текущего и оптимального дохода, а также упущенного дохода\n",
    "current_income = summary_table['current_plan_expense'].sum()\n",
    "optimal_income = summary_table[['expenses_A', 'expenses_B', 'expenses_C', 'expenses_D']].min(axis=1).sum()\n",
    "missed_income = current_income - optimal_income\n",
    "\n",
    "# Создание столбчатой диаграммы\n",
    "labels = ['Текущий доход', 'Оптимальный доход', 'Упущенный доход']\n",
    "values = [current_income, optimal_income, missed_income]\n",
    "\n",
    "x = np.arange(len(labels))  # местоположение меток\n",
    "width = 0.35  # ширина столбцов\n",
    "\n",
    "fig, ax = plt.subplots()\n",
    "rects = ax.bar(x, values, width)\n",
    "\n",
    "# Добавление некоторого текста для меток, названия и пользовательской оси x\n",
    "ax.set_ylabel('Доход')\n",
    "ax.set_title('Текущий, оптимальный и упущенный доход')\n",
    "ax.set_xticks(x)\n",
    "ax.set_xticklabels(labels)\n",
    "\n",
    "# Вывод значений на столбцах\n",
    "for rect in rects:\n",
    "    height = rect.get_height()\n",
    "    ax.annotate('{}'.format(height),\n",
    "                xy=(rect.get_x() + rect.get_width() / 2, height),\n",
    "                xytext=(0, 3),  # 3 points vertical offset\n",
    "                textcoords=\"offset points\",\n",
    "                ha='center', va='bottom')\n",
    "\n",
    "plt.show()\n"
   ]
  },
  {
   "cell_type": "markdown",
   "metadata": {},
   "source": [
    "при переходе на опттмальные тарифы компания потеряет 16.74% прибыли. Но этолучше чем потеря платящих клиентов "
   ]
  },
  {
   "cell_type": "markdown",
   "metadata": {},
   "source": [
    "## Гипотезы"
   ]
  },
  {
   "cell_type": "markdown",
   "metadata": {},
   "source": [
    "1. **Гипотеза о влиянии тарифного плана на переплаты:**\n",
    "    - **Общая гипотеза:** Тарифный план влияет на размер переплаты клиента.\n",
    "    - **Н0 (нулевая гипотеза):** Размер переплаты одинаков для всех тарифных планов.\n",
    "    - **Н1 (альтернативная гипотеза):** Размер переплаты отличается для разных тарифных планов.\n",
    "\n",
    "2. **Гипотеза о влиянии количества звонков на переплаты:**\n",
    "    - **Общая гипотеза:** Количество звонков влияет на размер переплаты клиента.\n",
    "    - **Н0 (нулевая гипотеза):** Размер переплаты не зависит от количества звонков.\n",
    "    - **Н1 (альтернативная гипотеза):** Размер переплаты зависит от количества звонков.\n"
   ]
  },
  {
   "cell_type": "code",
   "execution_count": 42,
   "metadata": {},
   "outputs": [],
   "source": [
    "def calculate_expenses_for_plan_A(combined_data_2):\n",
    "    expenses_A = combined_data_2['call_duration'] * tariff_plans['A']['internal_calls']\n",
    "    return expenses_A\n",
    "\n",
    "def calculate_expenses_for_plan_B(combined_data_2):\n",
    "    expenses_B = combined_data_2['call_duration'] * tariff_plans['B']['internal_calls']\n",
    "    return expenses_B\n",
    "\n",
    "def calculate_expenses_for_plan_C(combined_data_2):\n",
    "    expenses_C = combined_data_2['call_duration'] * tariff_plans['C']['internal_calls']\n",
    "    return expenses_C\n",
    "\n",
    "#def calculate_expenses_for_plan_D(combined_data_2):\n",
    "    #expenses_D = combined_data_2['call_duration'] * tariff_plans['D']['internal_calls']\n",
    "    #return expenses_D\n"
   ]
  },
  {
   "cell_type": "code",
   "execution_count": 43,
   "metadata": {},
   "outputs": [],
   "source": [
    "def determine_optimal_plan(row):\n",
    "    expenses = {\n",
    "        'A': row['expenses_A'],\n",
    "        'B': row['expenses_B'],\n",
    "        'C': row['expenses_C'],\n",
    "        #'D': row['expenses_D']\n",
    "    }\n",
    "    optimal_plan = min(expenses, key=expenses.get)\n",
    "    return optimal_plan\n"
   ]
  },
  {
   "cell_type": "code",
   "execution_count": 44,
   "metadata": {},
   "outputs": [],
   "source": [
    "# подсчёьт каждого плана\n",
    "combined_data_2['expenses_A'] = calculate_expenses_for_plan_A(combined_data_2)\n",
    "combined_data_2['expenses_B'] = calculate_expenses_for_plan_B(combined_data_2)\n",
    "combined_data_2['expenses_C'] = calculate_expenses_for_plan_C(combined_data_2)\n",
    "#combined_data_2['expenses_D'] = calculate_expenses_for_plan_D(combined_data_2)\n",
    "\n",
    "# оптимальный план\n",
    "combined_data_2['optimal_plan'] = combined_data_2.apply(determine_optimal_plan, axis=1)\n",
    "\n",
    "# переплата\n",
    "combined_data_2['overpayment'] = combined_data_2.apply(lambda row: row[f'expenses_{row[\"tariff_plan\"]}'] - row[f'expenses_{row[\"optimal_plan\"]}'], axis=1)\n",
    "\n"
   ]
  },
  {
   "cell_type": "code",
   "execution_count": 45,
   "metadata": {},
   "outputs": [
    {
     "name": "stdout",
     "output_type": "stream",
     "text": [
      "F-статистика: 1929.0778269538519, p-значение: 0.0\n",
      "Мы отвергаем нулевую гипотезу и делаем вывод, что размер переплаты отличается для разных тарифных планов.\n"
     ]
    }
   ],
   "source": [
    "# Группировка данных по тарифному плану\n",
    "tariff_groups = [combined_data_2[combined_data_2['tariff_plan'] == tariff]['overpayment'] for tariff in combined_data_2['tariff_plan'].unique()]\n",
    "\n",
    "# Выполнение ANOVA-теста\n",
    "f_statistic, p_value = stats.f_oneway(*tariff_groups)\n",
    "\n",
    "print(f'F-статистика: {f_statistic}, p-значение: {p_value}')\n",
    "if p_value < 0.05:\n",
    "    print(\"Мы отвергаем нулевую гипотезу и делаем вывод, что размер переплаты отличается для разных тарифных планов.\")\n",
    "else:\n",
    "    print(\"Мы не можем отвергнуть нулевую гипотезу и делаем вывод, что размер переплаты одинаков для всех тарифных планов.\")\n",
    "\n"
   ]
  },
  {
   "cell_type": "code",
   "execution_count": 46,
   "metadata": {},
   "outputs": [
    {
     "name": "stdout",
     "output_type": "stream",
     "text": [
      "Корреляция: 0.12296400235821488, p-значение: 1.5424004594251675e-162\n",
      "Мы отвергаем нулевую гипотезу и делаем вывод, что размер переплаты зависит от количества звонков.\n"
     ]
    }
   ],
   "source": [
    "# Вычисление корреляции\n",
    "correlation, p_value = stats.pearsonr(combined_data_2['calls_count'], combined_data_2['overpayment'])\n",
    "\n",
    "print(f'Корреляция: {correlation}, p-значение: {p_value}')\n",
    "if p_value < 0.05:\n",
    "    print(\"Мы отвергаем нулевую гипотезу и делаем вывод, что размер переплаты зависит от количества звонков.\")\n",
    "else:\n",
    "    print(\"Мы не можем отвергнуть нулевую гипотезу и делаем вывод, что размер переплаты не зависит от количества звонков.\")\n"
   ]
  },
  {
   "cell_type": "markdown",
   "metadata": {},
   "source": [
    "**результаты провери гипотиз**\n",
    "\n",
    "*Гипотеза о влиянии тарифного плана на переплаты:*\n",
    "\n",
    "- Полученное p-значение равно 0.0, что меньше уровня значимости 0.05. Это означает, что мы отвергаем нулевую гипотезу и делаем вывод, что размер переплаты отличается для разных тарифных планов.\n",
    "\n",
    "*Гипотеза о влиянии количества звонков на переплаты:*\n",
    "\n",
    "- Полученное p-значение равно 1.54e-162, что также меньше уровня значимости 0.05. Это означает, что мы отвергаем нулевую гипотезу и делаем вывод, что размер переплаты зависит от количества звонков."
   ]
  },
  {
   "cell_type": "markdown",
   "metadata": {},
   "source": [
    "## калькулятор для отдела маркетинга "
   ]
  },
  {
   "cell_type": "markdown",
   "metadata": {},
   "source": []
  },
  {
   "cell_type": "code",
   "execution_count": 47,
   "metadata": {},
   "outputs": [],
   "source": [
    "combined_data_2['outgoing_calls'] = combined_data_2.direction.eq('out').mul(combined_data.call_duration)\n",
    "combined_data_2['incoming_calls'] = combined_data_2.direction.eq('in').mul(combined_data.call_duration)\n",
    "combined_data_2['internal_calls'] = combined_data_2.internal.fillna(False).mul(combined_data.call_duration)\n",
    "combined_data_2['external_calls'] = (~combined_data_2.internal.fillna(False)).mul(combined_data.call_duration)"
   ]
  },
  {
   "cell_type": "code",
   "execution_count": 48,
   "metadata": {},
   "outputs": [],
   "source": [
    "def calculate_expenses(user_id, custom_plan):\n",
    "    # Получение данных для заданного пользователя\n",
    "    user_data = combined_data_2[combined_data_2['user_id'] == user_id]\n",
    "    \n",
    "    current_plan = tariff_plans[user_data['tariff_plan'].iloc[0]]\n",
    "    current_expenses = calculate_plan_expenses(user_data, current_plan)\n",
    "    \n",
    "    # Расчет общих расходов по кастомизированному тарифному плану\n",
    "    custom_expenses = calculate_plan_expenses(user_data, custom_plan)\n",
    "    \n",
    "    return current_expenses, custom_expenses\n",
    "\n",
    "def calculate_plan_expenses(user_data, plan):\n",
    "    monthly_fee = plan['monthly_fee'] * len(user_data['month_n'].unique())\n",
    "    \n",
    "    # Расчет платы за операторов\n",
    "    operator_fee = plan['operator_fee'] * user_data['operator_id'].nunique()\n",
    "    \n",
    "    internal_outgoing_calls_fee = plan['internal_calls'] * (user_data['internal_calls'].sum() / 60)\n",
    "    \n",
    "    external_outgoing_calls_fee = plan['outgoing_calls_outside_network'] * (user_data['external_calls'].sum() / 60)\n",
    "    \n",
    "    return monthly_fee + operator_fee + internal_outgoing_calls_fee + external_outgoing_calls_fee\n",
    "\n"
   ]
  },
  {
   "cell_type": "markdown",
   "metadata": {},
   "source": [
    "**с помощью этого калькулятора можно собрать кастомный тариф для любого клиента, и сравнить на сколько измится плата в месяц**\n",
    "\n",
    "как работает:\n",
    "\n",
    "вводим id клиента и стоимость каждой услуги. После этого получаем плату по старому и новому тарифу\n"
   ]
  },
  {
   "cell_type": "code",
   "execution_count": 49,
   "metadata": {},
   "outputs": [
    {
     "name": "stdout",
     "output_type": "stream",
     "text": [
      "Общие расходы по текущему тарифному плану: 27094.93 руб.\n",
      "Общие расходы по кастомизированному тарифному плану: 14296.82 руб.\n"
     ]
    }
   ],
   "source": [
    "#  использования функции\n",
    "custom_plan = {'monthly_fee': 1000, \n",
    "               'operator_fee': 10, \n",
    "               'internal_calls': 0.05, \n",
    "               'outgoing_calls_within_network': 0.10, \n",
    "               'outgoing_calls_outside_network': 0.30}\n",
    "current_expenses, custom_expenses = calculate_expenses(166658, custom_plan)\n",
    "\n",
    "print(f\"Общие расходы по текущему тарифному плану: {current_expenses:.2f} руб.\")\n",
    "print(f\"Общие расходы по кастомизированному тарифному плану: {custom_expenses:.2f} руб.\")\n"
   ]
  },
  {
   "cell_type": "markdown",
   "metadata": {},
   "source": [
    "## предложения по увеличению выручки"
   ]
  },
  {
   "cell_type": "markdown",
   "metadata": {},
   "source": []
  },
  {
   "cell_type": "markdown",
   "metadata": {},
   "source": [
    " предложения\n",
    "\n",
    "Не в одном из тарифов нет нет пакета интернет трафика. Это может стать причиной перехода клиентов к другой телеком компании\n",
    "\n",
    "\n",
    "\n",
    "***причины для предоставения кастомизированных тарифов***\n",
    "\n",
    "1. Удовлетворение разнообразных потребностей: Разные люди имеют разные потребности в связи. Кастомизированные тарифы позволяют пользователям выбирать план, который соответствует их конкретным потребностям в минутах разговора, сообщениях и мобильном интернете. Например, одни могут предпочесть больше интернет-трафика, а другие — больше звонков и сообщений.\n",
    "\n",
    "2. Экономия денег: Кастомизированные тарифы позволяют пользователям оплачивать только те услуги, которые им действительно необходимы. Это позволяет сэкономить деньги, так как нет необходимости платить за ненужные опции или ограничения.\n",
    "\n",
    "3. Больший комфорт и удобство: Когда пользователи могут выбирать тариф, который соответствует их потребностям, это создает более комфортный опыт использования мобильной связи. Они не будут переплачивать за лишние услуги или сталкиваться с нехваткой минут или трафика.\n",
    "\n",
    "***Пользователям также нужен мобильный интернет по нескольким причинам:***\n",
    "\n",
    "1. Доступ к информации: Мобильный интернет предоставляет пользователям мгновенный доступ к информации в любое время и в любом месте. Это позволяет получать новости, искать информацию, общаться, и многое другое, что раньше было доступно только на компьютере.\n",
    "\n",
    "2. Социальные сети и мессенджеры: Мобильный интернет позволяет пользователям оставаться на связи с друзьями и семьей через социальные сети и мессенджеры. Это важно для поддержания социальных связей и обмена информацией.\n",
    "\n",
    "3. Работа и развлечения: Многие люди используют мобильный интернет для работы, онлайн-игр, потокового просмотра видео, музыки и других развлечений. Мобильный интернет обеспечивает им доступ к этим возможностям в любое время.\n",
    "\n",
    "4. Навигация: Мобильный интернет позволяет использовать навигационные приложения, что особенно полезно при поиске местоположения, поездках и перемещении по незнакомым местам.\n",
    "\n",
    "В итоге, предоставление кастомизированных тарифов и доступ к мобильному интернету удовлетворяет разнообразные потребности пользователей и создает удобный и современный опыт использования мобильной связи."
   ]
  },
  {
   "cell_type": "markdown",
   "metadata": {},
   "source": [
    "## Вопросы от заказчика "
   ]
  },
  {
   "cell_type": "markdown",
   "metadata": {},
   "source": [
    "1. Тут как раз небольшой вопрос от заказчика, была ли какая-то динамика среднего чека за последние три месяца или нет? Кто-то уже подсчитал?"
   ]
  },
  {
   "cell_type": "code",
   "execution_count": 50,
   "metadata": {},
   "outputs": [
    {
     "name": "stdout",
     "output_type": "stream",
     "text": [
      "month_n\n",
      "11   2855.96\n",
      "10   2728.88\n",
      "9    2715.60\n",
      "Name: current_plan_expense, dtype: float64\n"
     ]
    }
   ],
   "source": [
    "# Вычисляем средний чек для каждого месяца\n",
    "average_check_per_month = summary_table.groupby('month_n')['current_plan_expense'].mean()\n",
    "\n",
    "# Получаем значения за последние три месяца\n",
    "last_three_months = average_check_per_month.sort_index(ascending=False).head(3)\n",
    "\n",
    "print(last_three_months)\n"
   ]
  },
  {
   "cell_type": "markdown",
   "metadata": {},
   "source": [
    "Средний чек вырос следующим образом:\n",
    "\n",
    "От 9-го к 10-му месяцу: +0.49%\n",
    "От 10-го к 11-му месяцу: +4.66%"
   ]
  },
  {
   "cell_type": "code",
   "execution_count": 51,
   "metadata": {},
   "outputs": [],
   "source": [
    "# Группировка данных по тарифному плану и месяцу\n",
    "average_check_per_month_per_plan = summary_table.groupby(['tariff_plan', 'month_n'])['current_plan_expense'].mean()\n",
    "# Получение значений за последние три месяца для каждого тарифного плана\n",
    "last_three_months_per_plan = average_check_per_month_per_plan.sort_index(level='month_n', ascending=False).groupby(level='tariff_plan').head(3)\n",
    "\n",
    "#print(last_three_months_per_plan)\n"
   ]
  },
  {
   "cell_type": "markdown",
   "metadata": {},
   "source": [
    "2. заказчик - говорит, что у одного клиента была какая-то ошибка в фиксации длительности звонков.\n"
   ]
  },
  {
   "cell_type": "code",
   "execution_count": 52,
   "metadata": {},
   "outputs": [
    {
     "data": {
      "text/plain": [
       "user_id                             166582\n",
       "date                   2019-09-25 00:00:00\n",
       "direction                              out\n",
       "internal                             False\n",
       "operator_id                      885876.00\n",
       "is_missed_call                       False\n",
       "calls_count                           1230\n",
       "call_duration                       144395\n",
       "total_call_duration                 166155\n",
       "tariff_plan                              A\n",
       "date_start             2019-08-09 00:00:00\n",
       "month_n                                  9\n",
       "Name: 6946, dtype: object"
      ]
     },
     "metadata": {},
     "output_type": "display_data"
    }
   ],
   "source": [
    "display(max_call_info)"
   ]
  },
  {
   "cell_type": "markdown",
   "metadata": {},
   "source": [
    "вот он: user_id 166582\n",
    "\n",
    "время разговора в базе данных 144395 минут\n",
    "\n",
    "данные охватывают период с 1 сентября 2019 года по 28 ноября 2019 года. В этот период было 303 уникальных пользователя.\n",
    "\n",
    "Самый долгий звонок длился 144395 секунд (или примерно 40 часов). Этот звонок был совершен 25 сентября 2019 года пользователем с ID 166582. Звонок был исходящим, и он был совершен во внешнюю сеть."
   ]
  }
 ],
 "metadata": {
  "ExecuteTimeLog": [
   {
    "duration": 27,
    "start_time": "2023-10-27T11:09:15.373Z"
   },
   {
    "duration": 1406,
    "start_time": "2023-10-27T11:22:17.785Z"
   },
   {
    "duration": 364,
    "start_time": "2023-10-27T11:22:19.199Z"
   },
   {
    "duration": 23,
    "start_time": "2023-10-27T11:22:19.569Z"
   },
   {
    "duration": 7,
    "start_time": "2023-10-27T11:22:19.596Z"
   },
   {
    "duration": 98,
    "start_time": "2023-10-27T11:22:19.606Z"
   },
   {
    "duration": 6,
    "start_time": "2023-10-27T11:22:19.706Z"
   },
   {
    "duration": 173,
    "start_time": "2023-10-27T11:22:19.714Z"
   },
   {
    "duration": 1256,
    "start_time": "2023-10-27T11:22:52.577Z"
   },
   {
    "duration": 445,
    "start_time": "2023-10-27T11:22:53.835Z"
   },
   {
    "duration": 15,
    "start_time": "2023-10-27T11:22:54.282Z"
   },
   {
    "duration": 18,
    "start_time": "2023-10-27T11:22:54.298Z"
   },
   {
    "duration": 98,
    "start_time": "2023-10-27T11:22:54.319Z"
   },
   {
    "duration": 8,
    "start_time": "2023-10-27T11:22:54.419Z"
   },
   {
    "duration": 128,
    "start_time": "2023-10-27T11:22:54.429Z"
   },
   {
    "duration": 81,
    "start_time": "2023-10-27T11:37:40.563Z"
   },
   {
    "duration": 11,
    "start_time": "2023-10-27T11:37:43.379Z"
   },
   {
    "duration": 1297,
    "start_time": "2023-10-27T11:37:52.758Z"
   },
   {
    "duration": 238,
    "start_time": "2023-10-27T11:37:54.067Z"
   },
   {
    "duration": 15,
    "start_time": "2023-10-27T11:37:54.306Z"
   },
   {
    "duration": 8,
    "start_time": "2023-10-27T11:37:54.322Z"
   },
   {
    "duration": 104,
    "start_time": "2023-10-27T11:37:54.332Z"
   },
   {
    "duration": 26,
    "start_time": "2023-10-27T11:37:54.437Z"
   },
   {
    "duration": 86,
    "start_time": "2023-10-27T11:37:54.464Z"
   },
   {
    "duration": 27,
    "start_time": "2023-10-27T11:40:41.765Z"
   },
   {
    "duration": 21,
    "start_time": "2023-10-27T11:41:05.302Z"
   },
   {
    "duration": 11,
    "start_time": "2023-10-27T11:43:47.106Z"
   },
   {
    "duration": 1292,
    "start_time": "2023-10-27T11:47:20.412Z"
   },
   {
    "duration": 304,
    "start_time": "2023-10-27T11:47:21.710Z"
   },
   {
    "duration": 14,
    "start_time": "2023-10-27T11:47:22.016Z"
   },
   {
    "duration": 7,
    "start_time": "2023-10-27T11:47:22.031Z"
   },
   {
    "duration": 115,
    "start_time": "2023-10-27T11:47:22.052Z"
   },
   {
    "duration": 16,
    "start_time": "2023-10-27T11:47:22.176Z"
   },
   {
    "duration": 87,
    "start_time": "2023-10-27T11:47:22.201Z"
   },
   {
    "duration": 16,
    "start_time": "2023-10-27T11:47:22.293Z"
   },
   {
    "duration": 15,
    "start_time": "2023-10-27T11:47:22.311Z"
   },
   {
    "duration": 4,
    "start_time": "2023-10-27T11:47:22.328Z"
   },
   {
    "duration": 9,
    "start_time": "2023-10-27T11:47:22.333Z"
   },
   {
    "duration": 26,
    "start_time": "2023-10-27T11:47:22.349Z"
   },
   {
    "duration": 37,
    "start_time": "2023-10-27T11:47:22.379Z"
   },
   {
    "duration": 70,
    "start_time": "2023-10-27T11:47:22.418Z"
   },
   {
    "duration": 6004,
    "start_time": "2023-10-27T11:47:22.492Z"
   },
   {
    "duration": 123,
    "start_time": "2023-10-27T11:55:04.507Z"
   },
   {
    "duration": 1150,
    "start_time": "2023-10-27T11:55:28.210Z"
   },
   {
    "duration": 219,
    "start_time": "2023-10-27T11:55:29.374Z"
   },
   {
    "duration": 15,
    "start_time": "2023-10-27T11:55:29.595Z"
   },
   {
    "duration": 7,
    "start_time": "2023-10-27T11:55:29.612Z"
   },
   {
    "duration": 99,
    "start_time": "2023-10-27T11:55:29.620Z"
   },
   {
    "duration": 5,
    "start_time": "2023-10-27T11:55:29.721Z"
   },
   {
    "duration": 86,
    "start_time": "2023-10-27T11:55:29.728Z"
   },
   {
    "duration": 14,
    "start_time": "2023-10-27T11:55:29.816Z"
   },
   {
    "duration": 29,
    "start_time": "2023-10-27T11:55:29.831Z"
   },
   {
    "duration": 4,
    "start_time": "2023-10-27T11:55:29.870Z"
   },
   {
    "duration": 4,
    "start_time": "2023-10-27T11:55:29.875Z"
   },
   {
    "duration": 12,
    "start_time": "2023-10-27T11:55:29.880Z"
   },
   {
    "duration": 13,
    "start_time": "2023-10-27T11:55:29.894Z"
   },
   {
    "duration": 44,
    "start_time": "2023-10-27T11:55:29.908Z"
   },
   {
    "duration": 4837,
    "start_time": "2023-10-27T11:55:29.969Z"
   },
   {
    "duration": 140,
    "start_time": "2023-10-27T11:55:34.808Z"
   },
   {
    "duration": 14,
    "start_time": "2023-10-27T11:57:57.711Z"
   },
   {
    "duration": 1308,
    "start_time": "2023-10-27T12:10:21.871Z"
   },
   {
    "duration": 318,
    "start_time": "2023-10-27T12:10:23.181Z"
   },
   {
    "duration": 13,
    "start_time": "2023-10-27T12:10:23.501Z"
   },
   {
    "duration": 6,
    "start_time": "2023-10-27T12:10:23.515Z"
   },
   {
    "duration": 92,
    "start_time": "2023-10-27T12:10:23.523Z"
   },
   {
    "duration": 8,
    "start_time": "2023-10-27T12:10:23.617Z"
   },
   {
    "duration": 78,
    "start_time": "2023-10-27T12:10:23.626Z"
   },
   {
    "duration": 14,
    "start_time": "2023-10-27T12:10:23.705Z"
   },
   {
    "duration": 69,
    "start_time": "2023-10-27T12:10:23.720Z"
   },
   {
    "duration": 11,
    "start_time": "2023-10-27T12:10:23.791Z"
   },
   {
    "duration": 13,
    "start_time": "2023-10-27T12:10:23.804Z"
   },
   {
    "duration": 17,
    "start_time": "2023-10-27T12:10:23.819Z"
   },
   {
    "duration": 18,
    "start_time": "2023-10-27T12:10:23.838Z"
   },
   {
    "duration": 29,
    "start_time": "2023-10-27T12:10:23.859Z"
   },
   {
    "duration": 4915,
    "start_time": "2023-10-27T12:10:23.890Z"
   },
   {
    "duration": 10,
    "start_time": "2023-10-27T12:10:28.806Z"
   },
   {
    "duration": 23,
    "start_time": "2023-10-27T12:10:28.817Z"
   },
   {
    "duration": 16,
    "start_time": "2023-10-27T12:10:28.841Z"
   },
   {
    "duration": 138,
    "start_time": "2023-10-27T12:10:28.859Z"
   },
   {
    "duration": 4,
    "start_time": "2023-10-27T12:10:28.999Z"
   },
   {
    "duration": 245,
    "start_time": "2023-10-27T12:11:51.099Z"
   },
   {
    "duration": 117,
    "start_time": "2023-10-27T12:16:23.312Z"
   },
   {
    "duration": 8,
    "start_time": "2023-10-27T12:17:40.056Z"
   },
   {
    "duration": 5,
    "start_time": "2023-10-27T12:17:47.552Z"
   },
   {
    "duration": 5,
    "start_time": "2023-10-27T12:17:48.904Z"
   },
   {
    "duration": 5,
    "start_time": "2023-10-27T12:18:21.743Z"
   },
   {
    "duration": 7,
    "start_time": "2023-10-27T12:18:22.469Z"
   },
   {
    "duration": 5,
    "start_time": "2023-10-27T12:19:52.929Z"
   },
   {
    "duration": 1206,
    "start_time": "2023-10-27T12:27:37.418Z"
   },
   {
    "duration": 293,
    "start_time": "2023-10-27T12:27:38.627Z"
   },
   {
    "duration": 18,
    "start_time": "2023-10-27T12:27:38.922Z"
   },
   {
    "duration": 7,
    "start_time": "2023-10-27T12:27:38.942Z"
   },
   {
    "duration": 60,
    "start_time": "2023-10-27T12:27:38.950Z"
   },
   {
    "duration": 6,
    "start_time": "2023-10-27T12:27:39.012Z"
   },
   {
    "duration": 71,
    "start_time": "2023-10-27T12:27:39.020Z"
   },
   {
    "duration": 15,
    "start_time": "2023-10-27T12:27:39.092Z"
   },
   {
    "duration": 37,
    "start_time": "2023-10-27T12:27:39.109Z"
   },
   {
    "duration": 5,
    "start_time": "2023-10-27T12:27:39.148Z"
   },
   {
    "duration": 6,
    "start_time": "2023-10-27T12:27:39.154Z"
   },
   {
    "duration": 8,
    "start_time": "2023-10-27T12:27:39.161Z"
   },
   {
    "duration": 10,
    "start_time": "2023-10-27T12:27:39.171Z"
   },
   {
    "duration": 62,
    "start_time": "2023-10-27T12:27:39.182Z"
   },
   {
    "duration": 4652,
    "start_time": "2023-10-27T12:27:39.245Z"
   },
   {
    "duration": 11,
    "start_time": "2023-10-27T12:27:43.898Z"
   },
   {
    "duration": 30,
    "start_time": "2023-10-27T12:27:43.910Z"
   },
   {
    "duration": 8,
    "start_time": "2023-10-27T12:27:43.942Z"
   },
   {
    "duration": 131,
    "start_time": "2023-10-27T12:27:43.951Z"
   },
   {
    "duration": 5,
    "start_time": "2023-10-27T12:27:44.083Z"
   },
   {
    "duration": 357,
    "start_time": "2023-10-27T12:27:44.089Z"
   },
   {
    "duration": 301,
    "start_time": "2023-10-27T12:27:44.447Z"
   },
   {
    "duration": 793,
    "start_time": "2023-10-27T12:27:44.749Z"
   },
   {
    "duration": 138,
    "start_time": "2023-10-27T12:27:45.544Z"
   },
   {
    "duration": 4,
    "start_time": "2023-10-27T12:27:45.683Z"
   },
   {
    "duration": 16,
    "start_time": "2023-10-27T12:27:45.689Z"
   },
   {
    "duration": 47,
    "start_time": "2023-10-28T10:52:54.708Z"
   },
   {
    "duration": 1430,
    "start_time": "2023-10-28T10:53:02.866Z"
   },
   {
    "duration": 328,
    "start_time": "2023-10-28T10:53:04.298Z"
   },
   {
    "duration": 14,
    "start_time": "2023-10-28T10:53:04.628Z"
   },
   {
    "duration": 10,
    "start_time": "2023-10-28T10:53:04.643Z"
   },
   {
    "duration": 68,
    "start_time": "2023-10-28T10:53:04.655Z"
   },
   {
    "duration": 6,
    "start_time": "2023-10-28T10:53:04.724Z"
   },
   {
    "duration": 90,
    "start_time": "2023-10-28T10:53:04.732Z"
   },
   {
    "duration": 15,
    "start_time": "2023-10-28T10:53:04.824Z"
   },
   {
    "duration": 28,
    "start_time": "2023-10-28T10:53:04.840Z"
   },
   {
    "duration": 78,
    "start_time": "2023-10-28T10:53:04.870Z"
   },
   {
    "duration": 0,
    "start_time": "2023-10-28T10:53:04.949Z"
   },
   {
    "duration": 0,
    "start_time": "2023-10-28T10:53:04.950Z"
   },
   {
    "duration": 0,
    "start_time": "2023-10-28T10:53:04.951Z"
   },
   {
    "duration": 0,
    "start_time": "2023-10-28T10:53:04.952Z"
   },
   {
    "duration": 0,
    "start_time": "2023-10-28T10:53:04.953Z"
   },
   {
    "duration": 0,
    "start_time": "2023-10-28T10:53:04.954Z"
   },
   {
    "duration": 0,
    "start_time": "2023-10-28T10:53:04.955Z"
   },
   {
    "duration": 0,
    "start_time": "2023-10-28T10:53:04.956Z"
   },
   {
    "duration": 0,
    "start_time": "2023-10-28T10:53:04.957Z"
   },
   {
    "duration": 0,
    "start_time": "2023-10-28T10:53:04.958Z"
   },
   {
    "duration": 0,
    "start_time": "2023-10-28T10:53:04.959Z"
   },
   {
    "duration": 0,
    "start_time": "2023-10-28T10:53:04.960Z"
   },
   {
    "duration": 0,
    "start_time": "2023-10-28T10:53:04.961Z"
   },
   {
    "duration": 0,
    "start_time": "2023-10-28T10:53:04.962Z"
   },
   {
    "duration": 0,
    "start_time": "2023-10-28T10:53:04.963Z"
   },
   {
    "duration": 0,
    "start_time": "2023-10-28T10:53:04.964Z"
   },
   {
    "duration": 0,
    "start_time": "2023-10-28T10:53:04.965Z"
   },
   {
    "duration": 1233,
    "start_time": "2023-10-28T10:53:29.155Z"
   },
   {
    "duration": 198,
    "start_time": "2023-10-28T10:53:30.390Z"
   },
   {
    "duration": 14,
    "start_time": "2023-10-28T10:53:30.590Z"
   },
   {
    "duration": 42,
    "start_time": "2023-10-28T10:53:30.606Z"
   },
   {
    "duration": 116,
    "start_time": "2023-10-28T10:53:30.651Z"
   },
   {
    "duration": 10,
    "start_time": "2023-10-28T10:53:30.768Z"
   },
   {
    "duration": 108,
    "start_time": "2023-10-28T10:53:30.779Z"
   },
   {
    "duration": 16,
    "start_time": "2023-10-28T10:53:30.889Z"
   },
   {
    "duration": 83,
    "start_time": "2023-10-28T10:53:30.906Z"
   },
   {
    "duration": 95,
    "start_time": "2023-10-28T10:53:30.992Z"
   },
   {
    "duration": 51,
    "start_time": "2023-10-28T10:53:31.089Z"
   },
   {
    "duration": 81,
    "start_time": "2023-10-28T10:53:31.142Z"
   },
   {
    "duration": 50,
    "start_time": "2023-10-28T10:53:31.225Z"
   },
   {
    "duration": 61,
    "start_time": "2023-10-28T10:53:31.279Z"
   },
   {
    "duration": 4404,
    "start_time": "2023-10-28T10:53:31.342Z"
   },
   {
    "duration": 13,
    "start_time": "2023-10-28T10:53:35.748Z"
   },
   {
    "duration": 14,
    "start_time": "2023-10-28T10:53:35.762Z"
   },
   {
    "duration": 31,
    "start_time": "2023-10-28T10:53:35.777Z"
   },
   {
    "duration": 165,
    "start_time": "2023-10-28T10:53:35.809Z"
   },
   {
    "duration": 10,
    "start_time": "2023-10-28T10:53:35.977Z"
   },
   {
    "duration": 226,
    "start_time": "2023-10-28T10:53:35.989Z"
   },
   {
    "duration": 128,
    "start_time": "2023-10-28T10:53:36.216Z"
   },
   {
    "duration": 445,
    "start_time": "2023-10-28T10:53:36.346Z"
   },
   {
    "duration": 141,
    "start_time": "2023-10-28T10:53:36.793Z"
   },
   {
    "duration": 6,
    "start_time": "2023-10-28T10:53:36.936Z"
   },
   {
    "duration": 30,
    "start_time": "2023-10-28T10:53:36.944Z"
   },
   {
    "duration": 1263,
    "start_time": "2023-10-28T10:55:17.432Z"
   },
   {
    "duration": 274,
    "start_time": "2023-10-28T10:55:18.697Z"
   },
   {
    "duration": 19,
    "start_time": "2023-10-28T10:55:18.973Z"
   },
   {
    "duration": 30,
    "start_time": "2023-10-28T10:55:18.995Z"
   },
   {
    "duration": 112,
    "start_time": "2023-10-28T10:55:19.028Z"
   },
   {
    "duration": 7,
    "start_time": "2023-10-28T10:55:19.142Z"
   },
   {
    "duration": 100,
    "start_time": "2023-10-28T10:55:19.150Z"
   },
   {
    "duration": 19,
    "start_time": "2023-10-28T10:55:19.252Z"
   },
   {
    "duration": 37,
    "start_time": "2023-10-28T10:55:19.273Z"
   },
   {
    "duration": 5,
    "start_time": "2023-10-28T10:55:19.314Z"
   },
   {
    "duration": 18,
    "start_time": "2023-10-28T10:55:19.324Z"
   },
   {
    "duration": 33,
    "start_time": "2023-10-28T10:55:19.345Z"
   },
   {
    "duration": 25,
    "start_time": "2023-10-28T10:55:19.380Z"
   },
   {
    "duration": 42,
    "start_time": "2023-10-28T10:55:19.411Z"
   },
   {
    "duration": 4560,
    "start_time": "2023-10-28T10:55:19.456Z"
   },
   {
    "duration": 12,
    "start_time": "2023-10-28T10:55:24.017Z"
   },
   {
    "duration": 21,
    "start_time": "2023-10-28T10:55:24.031Z"
   },
   {
    "duration": 9,
    "start_time": "2023-10-28T10:55:24.053Z"
   },
   {
    "duration": 150,
    "start_time": "2023-10-28T10:55:24.064Z"
   },
   {
    "duration": 4,
    "start_time": "2023-10-28T10:55:24.216Z"
   },
   {
    "duration": 168,
    "start_time": "2023-10-28T10:55:24.222Z"
   },
   {
    "duration": 127,
    "start_time": "2023-10-28T10:55:24.391Z"
   },
   {
    "duration": 461,
    "start_time": "2023-10-28T10:55:24.520Z"
   },
   {
    "duration": 164,
    "start_time": "2023-10-28T10:55:24.983Z"
   },
   {
    "duration": 6,
    "start_time": "2023-10-28T10:55:25.149Z"
   },
   {
    "duration": 36,
    "start_time": "2023-10-28T10:55:25.157Z"
   },
   {
    "duration": 1301,
    "start_time": "2023-10-28T10:55:39.308Z"
   },
   {
    "duration": 156,
    "start_time": "2023-10-28T10:55:40.611Z"
   },
   {
    "duration": 15,
    "start_time": "2023-10-28T10:55:40.769Z"
   },
   {
    "duration": 11,
    "start_time": "2023-10-28T10:55:40.785Z"
   },
   {
    "duration": 88,
    "start_time": "2023-10-28T10:55:40.798Z"
   },
   {
    "duration": 6,
    "start_time": "2023-10-28T10:55:40.888Z"
   },
   {
    "duration": 124,
    "start_time": "2023-10-28T10:55:40.895Z"
   },
   {
    "duration": 23,
    "start_time": "2023-10-28T10:55:41.021Z"
   },
   {
    "duration": 46,
    "start_time": "2023-10-28T10:55:41.046Z"
   },
   {
    "duration": 5,
    "start_time": "2023-10-28T10:55:41.094Z"
   },
   {
    "duration": 29,
    "start_time": "2023-10-28T10:55:41.101Z"
   },
   {
    "duration": 38,
    "start_time": "2023-10-28T10:55:41.132Z"
   },
   {
    "duration": 15,
    "start_time": "2023-10-28T10:55:41.172Z"
   },
   {
    "duration": 49,
    "start_time": "2023-10-28T10:55:41.190Z"
   },
   {
    "duration": 4270,
    "start_time": "2023-10-28T10:55:41.242Z"
   },
   {
    "duration": 11,
    "start_time": "2023-10-28T10:55:45.514Z"
   },
   {
    "duration": 13,
    "start_time": "2023-10-28T10:55:45.527Z"
   },
   {
    "duration": 10,
    "start_time": "2023-10-28T10:55:45.542Z"
   },
   {
    "duration": 149,
    "start_time": "2023-10-28T10:55:45.554Z"
   },
   {
    "duration": 5,
    "start_time": "2023-10-28T10:55:45.707Z"
   },
   {
    "duration": 184,
    "start_time": "2023-10-28T10:55:45.713Z"
   },
   {
    "duration": 162,
    "start_time": "2023-10-28T10:55:45.899Z"
   },
   {
    "duration": 499,
    "start_time": "2023-10-28T10:55:46.063Z"
   },
   {
    "duration": 137,
    "start_time": "2023-10-28T10:55:46.564Z"
   },
   {
    "duration": 8,
    "start_time": "2023-10-28T10:55:46.703Z"
   },
   {
    "duration": 44,
    "start_time": "2023-10-28T10:55:46.713Z"
   },
   {
    "duration": 6,
    "start_time": "2023-10-28T11:16:47.570Z"
   },
   {
    "duration": 1346,
    "start_time": "2023-10-28T12:13:12.103Z"
   },
   {
    "duration": 261,
    "start_time": "2023-10-28T12:13:13.451Z"
   },
   {
    "duration": 15,
    "start_time": "2023-10-28T12:13:13.714Z"
   },
   {
    "duration": 37,
    "start_time": "2023-10-28T12:13:13.731Z"
   },
   {
    "duration": 109,
    "start_time": "2023-10-28T12:13:13.770Z"
   },
   {
    "duration": 6,
    "start_time": "2023-10-28T12:13:13.881Z"
   },
   {
    "duration": 131,
    "start_time": "2023-10-28T12:13:13.889Z"
   },
   {
    "duration": 24,
    "start_time": "2023-10-28T12:13:14.022Z"
   },
   {
    "duration": 60,
    "start_time": "2023-10-28T12:13:14.047Z"
   },
   {
    "duration": 37,
    "start_time": "2023-10-28T12:13:14.108Z"
   },
   {
    "duration": 28,
    "start_time": "2023-10-28T12:13:14.147Z"
   },
   {
    "duration": 40,
    "start_time": "2023-10-28T12:13:14.178Z"
   },
   {
    "duration": 58,
    "start_time": "2023-10-28T12:13:14.220Z"
   },
   {
    "duration": 78,
    "start_time": "2023-10-28T12:13:14.282Z"
   },
   {
    "duration": 4493,
    "start_time": "2023-10-28T12:13:14.362Z"
   },
   {
    "duration": 11,
    "start_time": "2023-10-28T12:13:18.857Z"
   },
   {
    "duration": 59,
    "start_time": "2023-10-28T12:13:18.870Z"
   },
   {
    "duration": 45,
    "start_time": "2023-10-28T12:13:18.931Z"
   },
   {
    "duration": 168,
    "start_time": "2023-10-28T12:13:18.978Z"
   },
   {
    "duration": 4,
    "start_time": "2023-10-28T12:13:19.148Z"
   },
   {
    "duration": 185,
    "start_time": "2023-10-28T12:13:19.154Z"
   },
   {
    "duration": 134,
    "start_time": "2023-10-28T12:13:19.341Z"
   },
   {
    "duration": 473,
    "start_time": "2023-10-28T12:13:19.476Z"
   },
   {
    "duration": 159,
    "start_time": "2023-10-28T12:13:19.951Z"
   },
   {
    "duration": 6,
    "start_time": "2023-10-28T12:13:20.112Z"
   },
   {
    "duration": 37,
    "start_time": "2023-10-28T12:13:20.120Z"
   },
   {
    "duration": 1363,
    "start_time": "2023-10-28T12:13:27.547Z"
   },
   {
    "duration": 178,
    "start_time": "2023-10-28T12:13:28.911Z"
   },
   {
    "duration": 16,
    "start_time": "2023-10-28T12:13:29.093Z"
   },
   {
    "duration": 8,
    "start_time": "2023-10-28T12:13:29.111Z"
   },
   {
    "duration": 72,
    "start_time": "2023-10-28T12:13:29.121Z"
   },
   {
    "duration": 17,
    "start_time": "2023-10-28T12:13:29.195Z"
   },
   {
    "duration": 65,
    "start_time": "2023-10-28T12:13:29.214Z"
   },
   {
    "duration": 29,
    "start_time": "2023-10-28T12:13:29.281Z"
   },
   {
    "duration": 26,
    "start_time": "2023-10-28T12:13:29.312Z"
   },
   {
    "duration": 27,
    "start_time": "2023-10-28T12:13:29.340Z"
   },
   {
    "duration": 21,
    "start_time": "2023-10-28T12:13:29.369Z"
   },
   {
    "duration": 43,
    "start_time": "2023-10-28T12:13:29.392Z"
   },
   {
    "duration": 30,
    "start_time": "2023-10-28T12:13:29.438Z"
   },
   {
    "duration": 58,
    "start_time": "2023-10-28T12:13:29.470Z"
   },
   {
    "duration": 4613,
    "start_time": "2023-10-28T12:13:29.531Z"
   },
   {
    "duration": 12,
    "start_time": "2023-10-28T12:13:34.146Z"
   },
   {
    "duration": 28,
    "start_time": "2023-10-28T12:13:34.160Z"
   },
   {
    "duration": 18,
    "start_time": "2023-10-28T12:13:34.190Z"
   },
   {
    "duration": 130,
    "start_time": "2023-10-28T12:13:34.210Z"
   },
   {
    "duration": 7,
    "start_time": "2023-10-28T12:13:34.341Z"
   },
   {
    "duration": 182,
    "start_time": "2023-10-28T12:13:34.350Z"
   },
   {
    "duration": 132,
    "start_time": "2023-10-28T12:13:34.534Z"
   },
   {
    "duration": 438,
    "start_time": "2023-10-28T12:13:34.668Z"
   },
   {
    "duration": 149,
    "start_time": "2023-10-28T12:13:35.108Z"
   },
   {
    "duration": 5,
    "start_time": "2023-10-28T12:13:35.258Z"
   },
   {
    "duration": 18,
    "start_time": "2023-10-28T12:13:35.265Z"
   },
   {
    "duration": 1493,
    "start_time": "2023-10-28T17:44:23.562Z"
   },
   {
    "duration": 308,
    "start_time": "2023-10-28T17:44:25.057Z"
   },
   {
    "duration": 14,
    "start_time": "2023-10-28T17:44:25.367Z"
   },
   {
    "duration": 11,
    "start_time": "2023-10-28T17:44:25.382Z"
   },
   {
    "duration": 68,
    "start_time": "2023-10-28T17:44:25.395Z"
   },
   {
    "duration": 6,
    "start_time": "2023-10-28T17:44:25.464Z"
   },
   {
    "duration": 69,
    "start_time": "2023-10-28T17:44:25.471Z"
   },
   {
    "duration": 15,
    "start_time": "2023-10-28T17:44:25.543Z"
   },
   {
    "duration": 35,
    "start_time": "2023-10-28T17:44:25.559Z"
   },
   {
    "duration": 10,
    "start_time": "2023-10-28T17:44:25.595Z"
   },
   {
    "duration": 5,
    "start_time": "2023-10-28T17:44:25.607Z"
   },
   {
    "duration": 11,
    "start_time": "2023-10-28T17:44:25.613Z"
   },
   {
    "duration": 19,
    "start_time": "2023-10-28T17:44:25.626Z"
   },
   {
    "duration": 29,
    "start_time": "2023-10-28T17:44:25.648Z"
   },
   {
    "duration": 4192,
    "start_time": "2023-10-28T17:44:25.679Z"
   },
   {
    "duration": 12,
    "start_time": "2023-10-28T17:44:29.872Z"
   },
   {
    "duration": 18,
    "start_time": "2023-10-28T17:44:29.885Z"
   },
   {
    "duration": 27,
    "start_time": "2023-10-28T17:44:29.904Z"
   },
   {
    "duration": 124,
    "start_time": "2023-10-28T17:44:29.932Z"
   },
   {
    "duration": 4,
    "start_time": "2023-10-28T17:44:30.058Z"
   },
   {
    "duration": 194,
    "start_time": "2023-10-28T17:44:30.064Z"
   },
   {
    "duration": 117,
    "start_time": "2023-10-28T17:44:30.260Z"
   },
   {
    "duration": 477,
    "start_time": "2023-10-28T17:44:30.379Z"
   },
   {
    "duration": 123,
    "start_time": "2023-10-28T17:44:30.858Z"
   },
   {
    "duration": 5,
    "start_time": "2023-10-28T17:44:30.983Z"
   },
   {
    "duration": 116,
    "start_time": "2023-10-28T17:44:30.990Z"
   },
   {
    "duration": 1259,
    "start_time": "2023-10-28T18:09:39.716Z"
   },
   {
    "duration": 351,
    "start_time": "2023-10-28T18:09:40.977Z"
   },
   {
    "duration": 14,
    "start_time": "2023-10-28T18:09:41.329Z"
   },
   {
    "duration": 6,
    "start_time": "2023-10-28T18:09:41.346Z"
   },
   {
    "duration": 72,
    "start_time": "2023-10-28T18:09:41.354Z"
   },
   {
    "duration": 6,
    "start_time": "2023-10-28T18:09:41.428Z"
   },
   {
    "duration": 60,
    "start_time": "2023-10-28T18:09:41.445Z"
   },
   {
    "duration": 15,
    "start_time": "2023-10-28T18:09:41.507Z"
   },
   {
    "duration": 36,
    "start_time": "2023-10-28T18:09:41.524Z"
   },
   {
    "duration": 29,
    "start_time": "2023-10-28T18:09:41.562Z"
   },
   {
    "duration": 20,
    "start_time": "2023-10-28T18:09:41.593Z"
   },
   {
    "duration": 33,
    "start_time": "2023-10-28T18:09:41.614Z"
   },
   {
    "duration": 40,
    "start_time": "2023-10-28T18:09:41.649Z"
   },
   {
    "duration": 37,
    "start_time": "2023-10-28T18:09:41.691Z"
   },
   {
    "duration": 4295,
    "start_time": "2023-10-28T18:09:41.730Z"
   },
   {
    "duration": 20,
    "start_time": "2023-10-28T18:09:46.027Z"
   },
   {
    "duration": 51,
    "start_time": "2023-10-28T18:09:46.049Z"
   },
   {
    "duration": 14,
    "start_time": "2023-10-28T18:09:46.101Z"
   },
   {
    "duration": 204,
    "start_time": "2023-10-28T18:09:46.117Z"
   },
   {
    "duration": 12,
    "start_time": "2023-10-28T18:09:46.322Z"
   },
   {
    "duration": 242,
    "start_time": "2023-10-28T18:09:46.336Z"
   },
   {
    "duration": 135,
    "start_time": "2023-10-28T18:09:46.580Z"
   },
   {
    "duration": 440,
    "start_time": "2023-10-28T18:09:46.716Z"
   },
   {
    "duration": 132,
    "start_time": "2023-10-28T18:09:47.158Z"
   },
   {
    "duration": 4,
    "start_time": "2023-10-28T18:09:47.292Z"
   },
   {
    "duration": 23,
    "start_time": "2023-10-28T18:09:47.298Z"
   },
   {
    "duration": 15,
    "start_time": "2023-10-28T18:41:31.456Z"
   },
   {
    "duration": 14,
    "start_time": "2023-10-28T18:42:54.557Z"
   },
   {
    "duration": 13,
    "start_time": "2023-10-28T18:43:30.003Z"
   },
   {
    "duration": 1451,
    "start_time": "2023-10-29T12:22:09.130Z"
   },
   {
    "duration": 229,
    "start_time": "2023-10-29T12:22:10.583Z"
   },
   {
    "duration": 14,
    "start_time": "2023-10-29T12:22:10.814Z"
   },
   {
    "duration": 14,
    "start_time": "2023-10-29T12:22:10.831Z"
   },
   {
    "duration": 94,
    "start_time": "2023-10-29T12:22:10.846Z"
   },
   {
    "duration": 5,
    "start_time": "2023-10-29T12:22:10.942Z"
   },
   {
    "duration": 82,
    "start_time": "2023-10-29T12:22:10.948Z"
   },
   {
    "duration": 17,
    "start_time": "2023-10-29T12:22:11.032Z"
   },
   {
    "duration": 27,
    "start_time": "2023-10-29T12:22:11.051Z"
   },
   {
    "duration": 4,
    "start_time": "2023-10-29T12:22:11.080Z"
   },
   {
    "duration": 16,
    "start_time": "2023-10-29T12:22:11.086Z"
   },
   {
    "duration": 17,
    "start_time": "2023-10-29T12:22:11.104Z"
   },
   {
    "duration": 11,
    "start_time": "2023-10-29T12:22:11.122Z"
   },
   {
    "duration": 30,
    "start_time": "2023-10-29T12:22:11.144Z"
   },
   {
    "duration": 4407,
    "start_time": "2023-10-29T12:22:11.176Z"
   },
   {
    "duration": 11,
    "start_time": "2023-10-29T12:22:15.584Z"
   },
   {
    "duration": 50,
    "start_time": "2023-10-29T12:22:15.596Z"
   },
   {
    "duration": 34,
    "start_time": "2023-10-29T12:22:15.648Z"
   },
   {
    "duration": 170,
    "start_time": "2023-10-29T12:22:15.683Z"
   },
   {
    "duration": 5,
    "start_time": "2023-10-29T12:22:15.854Z"
   },
   {
    "duration": 183,
    "start_time": "2023-10-29T12:22:15.860Z"
   },
   {
    "duration": 115,
    "start_time": "2023-10-29T12:22:16.045Z"
   },
   {
    "duration": 495,
    "start_time": "2023-10-29T12:22:16.162Z"
   },
   {
    "duration": 135,
    "start_time": "2023-10-29T12:22:16.659Z"
   },
   {
    "duration": 5,
    "start_time": "2023-10-29T12:22:16.795Z"
   },
   {
    "duration": 19,
    "start_time": "2023-10-29T12:22:16.801Z"
   },
   {
    "duration": 4335,
    "start_time": "2023-10-29T12:22:26.659Z"
   },
   {
    "duration": 4403,
    "start_time": "2023-10-29T12:25:13.232Z"
   },
   {
    "duration": 1233,
    "start_time": "2023-10-29T12:25:33.191Z"
   },
   {
    "duration": 209,
    "start_time": "2023-10-29T12:25:34.426Z"
   },
   {
    "duration": 18,
    "start_time": "2023-10-29T12:25:34.637Z"
   },
   {
    "duration": 11,
    "start_time": "2023-10-29T12:25:34.657Z"
   },
   {
    "duration": 77,
    "start_time": "2023-10-29T12:25:34.670Z"
   },
   {
    "duration": 8,
    "start_time": "2023-10-29T12:25:34.748Z"
   },
   {
    "duration": 82,
    "start_time": "2023-10-29T12:25:34.758Z"
   },
   {
    "duration": 15,
    "start_time": "2023-10-29T12:25:34.842Z"
   },
   {
    "duration": 32,
    "start_time": "2023-10-29T12:25:34.859Z"
   },
   {
    "duration": 4,
    "start_time": "2023-10-29T12:25:34.892Z"
   },
   {
    "duration": 18,
    "start_time": "2023-10-29T12:25:34.898Z"
   },
   {
    "duration": 27,
    "start_time": "2023-10-29T12:25:34.918Z"
   },
   {
    "duration": 14,
    "start_time": "2023-10-29T12:25:34.947Z"
   },
   {
    "duration": 29,
    "start_time": "2023-10-29T12:25:34.963Z"
   },
   {
    "duration": 4330,
    "start_time": "2023-10-29T12:25:34.994Z"
   },
   {
    "duration": 18,
    "start_time": "2023-10-29T12:25:39.325Z"
   },
   {
    "duration": 37,
    "start_time": "2023-10-29T12:25:39.345Z"
   },
   {
    "duration": 27,
    "start_time": "2023-10-29T12:25:39.383Z"
   },
   {
    "duration": 137,
    "start_time": "2023-10-29T12:25:39.411Z"
   },
   {
    "duration": 4,
    "start_time": "2023-10-29T12:25:39.550Z"
   },
   {
    "duration": 166,
    "start_time": "2023-10-29T12:25:39.556Z"
   },
   {
    "duration": 120,
    "start_time": "2023-10-29T12:25:39.724Z"
   },
   {
    "duration": 473,
    "start_time": "2023-10-29T12:25:39.845Z"
   },
   {
    "duration": 134,
    "start_time": "2023-10-29T12:25:40.319Z"
   },
   {
    "duration": 5,
    "start_time": "2023-10-29T12:25:40.454Z"
   },
   {
    "duration": 25,
    "start_time": "2023-10-29T12:25:40.460Z"
   },
   {
    "duration": 4614,
    "start_time": "2023-10-29T12:25:40.487Z"
   },
   {
    "duration": 3,
    "start_time": "2023-10-29T12:33:58.191Z"
   },
   {
    "duration": 1196,
    "start_time": "2023-10-29T12:36:32.493Z"
   },
   {
    "duration": 286,
    "start_time": "2023-10-29T12:36:33.691Z"
   },
   {
    "duration": 14,
    "start_time": "2023-10-29T12:36:33.979Z"
   },
   {
    "duration": 6,
    "start_time": "2023-10-29T12:36:33.995Z"
   },
   {
    "duration": 40,
    "start_time": "2023-10-29T12:36:34.003Z"
   },
   {
    "duration": 3,
    "start_time": "2023-10-29T12:36:34.044Z"
   },
   {
    "duration": 39,
    "start_time": "2023-10-29T12:36:34.048Z"
   },
   {
    "duration": 8,
    "start_time": "2023-10-29T12:36:34.089Z"
   },
   {
    "duration": 157,
    "start_time": "2023-10-29T12:36:34.098Z"
   },
   {
    "duration": 0,
    "start_time": "2023-10-29T12:36:34.257Z"
   },
   {
    "duration": 0,
    "start_time": "2023-10-29T12:36:34.258Z"
   },
   {
    "duration": 0,
    "start_time": "2023-10-29T12:36:34.259Z"
   },
   {
    "duration": 0,
    "start_time": "2023-10-29T12:36:34.260Z"
   },
   {
    "duration": 0,
    "start_time": "2023-10-29T12:36:34.262Z"
   },
   {
    "duration": 0,
    "start_time": "2023-10-29T12:36:34.263Z"
   },
   {
    "duration": 0,
    "start_time": "2023-10-29T12:36:34.264Z"
   },
   {
    "duration": 0,
    "start_time": "2023-10-29T12:36:34.264Z"
   },
   {
    "duration": 0,
    "start_time": "2023-10-29T12:36:34.265Z"
   },
   {
    "duration": 0,
    "start_time": "2023-10-29T12:36:34.267Z"
   },
   {
    "duration": 0,
    "start_time": "2023-10-29T12:36:34.268Z"
   },
   {
    "duration": 0,
    "start_time": "2023-10-29T12:36:34.269Z"
   },
   {
    "duration": 0,
    "start_time": "2023-10-29T12:36:34.270Z"
   },
   {
    "duration": 0,
    "start_time": "2023-10-29T12:36:34.271Z"
   },
   {
    "duration": 0,
    "start_time": "2023-10-29T12:36:34.272Z"
   },
   {
    "duration": 0,
    "start_time": "2023-10-29T12:36:34.273Z"
   },
   {
    "duration": 0,
    "start_time": "2023-10-29T12:36:34.274Z"
   },
   {
    "duration": 0,
    "start_time": "2023-10-29T12:36:34.275Z"
   },
   {
    "duration": 0,
    "start_time": "2023-10-29T12:36:34.276Z"
   },
   {
    "duration": 0,
    "start_time": "2023-10-29T12:36:34.277Z"
   },
   {
    "duration": 0,
    "start_time": "2023-10-29T12:36:34.278Z"
   },
   {
    "duration": 32,
    "start_time": "2023-10-29T12:37:19.115Z"
   },
   {
    "duration": 1278,
    "start_time": "2023-10-29T12:38:08.759Z"
   },
   {
    "duration": 177,
    "start_time": "2023-10-29T12:38:10.039Z"
   },
   {
    "duration": 15,
    "start_time": "2023-10-29T12:38:10.217Z"
   },
   {
    "duration": 26,
    "start_time": "2023-10-29T12:38:10.233Z"
   },
   {
    "duration": 64,
    "start_time": "2023-10-29T12:38:10.261Z"
   },
   {
    "duration": 30,
    "start_time": "2023-10-29T12:38:10.327Z"
   },
   {
    "duration": 133,
    "start_time": "2023-10-29T12:38:10.359Z"
   },
   {
    "duration": 39,
    "start_time": "2023-10-29T12:38:10.493Z"
   },
   {
    "duration": 52,
    "start_time": "2023-10-29T12:38:10.534Z"
   },
   {
    "duration": 69,
    "start_time": "2023-10-29T12:38:10.587Z"
   },
   {
    "duration": 14,
    "start_time": "2023-10-29T12:38:10.658Z"
   },
   {
    "duration": 95,
    "start_time": "2023-10-29T12:38:10.673Z"
   },
   {
    "duration": 15,
    "start_time": "2023-10-29T12:38:10.769Z"
   },
   {
    "duration": 70,
    "start_time": "2023-10-29T12:38:10.786Z"
   },
   {
    "duration": 33,
    "start_time": "2023-10-29T12:38:10.858Z"
   },
   {
    "duration": 27,
    "start_time": "2023-10-29T12:38:10.893Z"
   },
   {
    "duration": 58,
    "start_time": "2023-10-29T12:38:10.922Z"
   },
   {
    "duration": 42,
    "start_time": "2023-10-29T12:38:10.981Z"
   },
   {
    "duration": 48,
    "start_time": "2023-10-29T12:38:11.025Z"
   },
   {
    "duration": 4340,
    "start_time": "2023-10-29T12:38:11.075Z"
   },
   {
    "duration": 10,
    "start_time": "2023-10-29T12:38:15.417Z"
   },
   {
    "duration": 28,
    "start_time": "2023-10-29T12:38:15.428Z"
   },
   {
    "duration": 24,
    "start_time": "2023-10-29T12:38:15.457Z"
   },
   {
    "duration": 142,
    "start_time": "2023-10-29T12:38:15.482Z"
   },
   {
    "duration": 5,
    "start_time": "2023-10-29T12:38:15.626Z"
   },
   {
    "duration": 168,
    "start_time": "2023-10-29T12:38:15.633Z"
   },
   {
    "duration": 121,
    "start_time": "2023-10-29T12:38:15.802Z"
   },
   {
    "duration": 429,
    "start_time": "2023-10-29T12:38:15.925Z"
   },
   {
    "duration": 135,
    "start_time": "2023-10-29T12:38:16.356Z"
   },
   {
    "duration": 5,
    "start_time": "2023-10-29T12:38:16.493Z"
   },
   {
    "duration": 16,
    "start_time": "2023-10-29T12:38:16.499Z"
   },
   {
    "duration": 1232,
    "start_time": "2023-10-29T12:43:58.702Z"
   },
   {
    "duration": 174,
    "start_time": "2023-10-29T12:43:59.936Z"
   },
   {
    "duration": 15,
    "start_time": "2023-10-29T12:44:00.111Z"
   },
   {
    "duration": 25,
    "start_time": "2023-10-29T12:44:00.128Z"
   },
   {
    "duration": 65,
    "start_time": "2023-10-29T12:44:00.155Z"
   },
   {
    "duration": 45,
    "start_time": "2023-10-29T12:44:00.222Z"
   },
   {
    "duration": 71,
    "start_time": "2023-10-29T12:44:00.269Z"
   },
   {
    "duration": 109,
    "start_time": "2023-10-29T12:44:00.342Z"
   },
   {
    "duration": 9,
    "start_time": "2023-10-29T12:44:00.453Z"
   },
   {
    "duration": 36,
    "start_time": "2023-10-29T12:44:00.464Z"
   },
   {
    "duration": 36,
    "start_time": "2023-10-29T12:44:00.502Z"
   },
   {
    "duration": 85,
    "start_time": "2023-10-29T12:44:00.540Z"
   },
   {
    "duration": 57,
    "start_time": "2023-10-29T12:44:00.627Z"
   },
   {
    "duration": 123,
    "start_time": "2023-10-29T12:44:00.687Z"
   },
   {
    "duration": 16,
    "start_time": "2023-10-29T12:44:00.812Z"
   },
   {
    "duration": 69,
    "start_time": "2023-10-29T12:44:00.830Z"
   },
   {
    "duration": 104,
    "start_time": "2023-10-29T12:44:00.900Z"
   },
   {
    "duration": 53,
    "start_time": "2023-10-29T12:44:01.006Z"
   },
   {
    "duration": 108,
    "start_time": "2023-10-29T12:44:01.061Z"
   },
   {
    "duration": 76,
    "start_time": "2023-10-29T12:44:01.171Z"
   },
   {
    "duration": 89,
    "start_time": "2023-10-29T12:44:01.249Z"
   },
   {
    "duration": 4493,
    "start_time": "2023-10-29T12:44:01.340Z"
   },
   {
    "duration": 15,
    "start_time": "2023-10-29T12:44:05.835Z"
   },
   {
    "duration": 39,
    "start_time": "2023-10-29T12:44:05.852Z"
   },
   {
    "duration": 16,
    "start_time": "2023-10-29T12:44:05.893Z"
   },
   {
    "duration": 138,
    "start_time": "2023-10-29T12:44:05.910Z"
   },
   {
    "duration": 5,
    "start_time": "2023-10-29T12:44:06.050Z"
   },
   {
    "duration": 173,
    "start_time": "2023-10-29T12:44:06.057Z"
   },
   {
    "duration": 122,
    "start_time": "2023-10-29T12:44:06.231Z"
   },
   {
    "duration": 453,
    "start_time": "2023-10-29T12:44:06.354Z"
   },
   {
    "duration": 137,
    "start_time": "2023-10-29T12:44:06.809Z"
   },
   {
    "duration": 5,
    "start_time": "2023-10-29T12:44:06.948Z"
   },
   {
    "duration": 40,
    "start_time": "2023-10-29T12:44:06.954Z"
   },
   {
    "duration": 7,
    "start_time": "2023-10-29T13:04:14.954Z"
   },
   {
    "duration": 4,
    "start_time": "2023-10-29T13:04:59.846Z"
   },
   {
    "duration": 4,
    "start_time": "2023-10-29T13:05:00.681Z"
   },
   {
    "duration": 5,
    "start_time": "2023-10-29T13:05:01.499Z"
   },
   {
    "duration": 4,
    "start_time": "2023-10-29T13:06:25.968Z"
   },
   {
    "duration": 7,
    "start_time": "2023-10-29T13:07:06.360Z"
   },
   {
    "duration": 4,
    "start_time": "2023-10-29T13:07:31.835Z"
   },
   {
    "duration": 6,
    "start_time": "2023-10-29T13:08:05.916Z"
   },
   {
    "duration": 5,
    "start_time": "2023-10-29T13:08:33.968Z"
   },
   {
    "duration": 1304,
    "start_time": "2023-10-29T13:09:00.568Z"
   },
   {
    "duration": 268,
    "start_time": "2023-10-29T13:09:01.874Z"
   },
   {
    "duration": 14,
    "start_time": "2023-10-29T13:09:02.143Z"
   },
   {
    "duration": 48,
    "start_time": "2023-10-29T13:09:02.159Z"
   },
   {
    "duration": 205,
    "start_time": "2023-10-29T13:09:02.210Z"
   },
   {
    "duration": 19,
    "start_time": "2023-10-29T13:09:02.417Z"
   },
   {
    "duration": 53,
    "start_time": "2023-10-29T13:09:02.438Z"
   },
   {
    "duration": 90,
    "start_time": "2023-10-29T13:09:02.493Z"
   },
   {
    "duration": 34,
    "start_time": "2023-10-29T13:09:02.585Z"
   },
   {
    "duration": 71,
    "start_time": "2023-10-29T13:09:02.621Z"
   },
   {
    "duration": 62,
    "start_time": "2023-10-29T13:09:02.694Z"
   },
   {
    "duration": 92,
    "start_time": "2023-10-29T13:09:02.758Z"
   },
   {
    "duration": 10,
    "start_time": "2023-10-29T13:09:02.851Z"
   },
   {
    "duration": 97,
    "start_time": "2023-10-29T13:09:02.864Z"
   },
   {
    "duration": 24,
    "start_time": "2023-10-29T13:09:02.963Z"
   },
   {
    "duration": 30,
    "start_time": "2023-10-29T13:09:02.989Z"
   },
   {
    "duration": 9,
    "start_time": "2023-10-29T13:09:03.020Z"
   },
   {
    "duration": 21,
    "start_time": "2023-10-29T13:09:03.031Z"
   },
   {
    "duration": 44,
    "start_time": "2023-10-29T13:09:03.053Z"
   },
   {
    "duration": 24,
    "start_time": "2023-10-29T13:09:03.099Z"
   },
   {
    "duration": 67,
    "start_time": "2023-10-29T13:09:03.126Z"
   },
   {
    "duration": 4619,
    "start_time": "2023-10-29T13:09:03.196Z"
   },
   {
    "duration": 12,
    "start_time": "2023-10-29T13:09:07.817Z"
   },
   {
    "duration": 34,
    "start_time": "2023-10-29T13:09:07.831Z"
   },
   {
    "duration": 14,
    "start_time": "2023-10-29T13:09:07.867Z"
   },
   {
    "duration": 161,
    "start_time": "2023-10-29T13:09:07.883Z"
   },
   {
    "duration": 4,
    "start_time": "2023-10-29T13:09:08.046Z"
   },
   {
    "duration": 188,
    "start_time": "2023-10-29T13:09:08.052Z"
   },
   {
    "duration": 124,
    "start_time": "2023-10-29T13:09:08.243Z"
   },
   {
    "duration": 477,
    "start_time": "2023-10-29T13:09:08.369Z"
   },
   {
    "duration": 150,
    "start_time": "2023-10-29T13:09:08.849Z"
   },
   {
    "duration": 5,
    "start_time": "2023-10-29T13:09:09.001Z"
   },
   {
    "duration": 11,
    "start_time": "2023-10-29T13:09:09.007Z"
   },
   {
    "duration": 37,
    "start_time": "2023-10-29T13:09:27.535Z"
   },
   {
    "duration": 4,
    "start_time": "2023-10-29T13:09:28.196Z"
   },
   {
    "duration": 6,
    "start_time": "2023-10-29T13:09:29.846Z"
   },
   {
    "duration": 1285,
    "start_time": "2023-10-29T13:09:55.070Z"
   },
   {
    "duration": 197,
    "start_time": "2023-10-29T13:09:56.358Z"
   },
   {
    "duration": 19,
    "start_time": "2023-10-29T13:09:56.557Z"
   },
   {
    "duration": 10,
    "start_time": "2023-10-29T13:09:56.578Z"
   },
   {
    "duration": 61,
    "start_time": "2023-10-29T13:09:56.590Z"
   },
   {
    "duration": 3,
    "start_time": "2023-10-29T13:09:56.654Z"
   },
   {
    "duration": 9,
    "start_time": "2023-10-29T13:09:56.659Z"
   },
   {
    "duration": 49,
    "start_time": "2023-10-29T13:09:56.670Z"
   },
   {
    "duration": 27,
    "start_time": "2023-10-29T13:09:56.721Z"
   },
   {
    "duration": 18,
    "start_time": "2023-10-29T13:09:56.752Z"
   },
   {
    "duration": 15,
    "start_time": "2023-10-29T13:09:56.772Z"
   },
   {
    "duration": 57,
    "start_time": "2023-10-29T13:09:56.788Z"
   },
   {
    "duration": 9,
    "start_time": "2023-10-29T13:09:56.849Z"
   },
   {
    "duration": 63,
    "start_time": "2023-10-29T13:09:56.860Z"
   },
   {
    "duration": 35,
    "start_time": "2023-10-29T13:09:56.925Z"
   },
   {
    "duration": 37,
    "start_time": "2023-10-29T13:09:56.962Z"
   },
   {
    "duration": 6,
    "start_time": "2023-10-29T13:09:57.002Z"
   },
   {
    "duration": 10,
    "start_time": "2023-10-29T13:09:57.010Z"
   },
   {
    "duration": 23,
    "start_time": "2023-10-29T13:09:57.022Z"
   },
   {
    "duration": 15,
    "start_time": "2023-10-29T13:09:57.047Z"
   },
   {
    "duration": 38,
    "start_time": "2023-10-29T13:09:57.064Z"
   },
   {
    "duration": 4869,
    "start_time": "2023-10-29T13:09:57.104Z"
   },
   {
    "duration": 12,
    "start_time": "2023-10-29T13:10:01.975Z"
   },
   {
    "duration": 44,
    "start_time": "2023-10-29T13:10:01.989Z"
   },
   {
    "duration": 82,
    "start_time": "2023-10-29T13:10:02.035Z"
   },
   {
    "duration": 195,
    "start_time": "2023-10-29T13:10:02.119Z"
   },
   {
    "duration": 6,
    "start_time": "2023-10-29T13:10:02.316Z"
   },
   {
    "duration": 235,
    "start_time": "2023-10-29T13:10:02.325Z"
   },
   {
    "duration": 135,
    "start_time": "2023-10-29T13:10:02.563Z"
   },
   {
    "duration": 561,
    "start_time": "2023-10-29T13:10:02.700Z"
   },
   {
    "duration": 198,
    "start_time": "2023-10-29T13:10:03.263Z"
   },
   {
    "duration": 8,
    "start_time": "2023-10-29T13:10:03.463Z"
   },
   {
    "duration": 38,
    "start_time": "2023-10-29T13:10:03.474Z"
   },
   {
    "duration": 6,
    "start_time": "2023-10-29T13:11:11.973Z"
   },
   {
    "duration": 1301,
    "start_time": "2023-10-29T13:12:03.109Z"
   },
   {
    "duration": 275,
    "start_time": "2023-10-29T13:12:04.412Z"
   },
   {
    "duration": 20,
    "start_time": "2023-10-29T13:12:04.690Z"
   },
   {
    "duration": 25,
    "start_time": "2023-10-29T13:12:04.711Z"
   },
   {
    "duration": 59,
    "start_time": "2023-10-29T13:12:04.740Z"
   },
   {
    "duration": 14,
    "start_time": "2023-10-29T13:12:04.801Z"
   },
   {
    "duration": 35,
    "start_time": "2023-10-29T13:12:04.817Z"
   },
   {
    "duration": 49,
    "start_time": "2023-10-29T13:12:04.854Z"
   },
   {
    "duration": 4,
    "start_time": "2023-10-29T13:12:04.905Z"
   },
   {
    "duration": 11,
    "start_time": "2023-10-29T13:12:04.912Z"
   },
   {
    "duration": 12,
    "start_time": "2023-10-29T13:12:04.926Z"
   },
   {
    "duration": 19,
    "start_time": "2023-10-29T13:12:04.940Z"
   },
   {
    "duration": 7,
    "start_time": "2023-10-29T13:12:04.960Z"
   },
   {
    "duration": 83,
    "start_time": "2023-10-29T13:12:04.971Z"
   },
   {
    "duration": 16,
    "start_time": "2023-10-29T13:12:05.056Z"
   },
   {
    "duration": 24,
    "start_time": "2023-10-29T13:12:05.074Z"
   },
   {
    "duration": 26,
    "start_time": "2023-10-29T13:12:05.100Z"
   },
   {
    "duration": 18,
    "start_time": "2023-10-29T13:12:05.128Z"
   },
   {
    "duration": 20,
    "start_time": "2023-10-29T13:12:05.148Z"
   },
   {
    "duration": 22,
    "start_time": "2023-10-29T13:12:05.170Z"
   },
   {
    "duration": 57,
    "start_time": "2023-10-29T13:12:05.194Z"
   },
   {
    "duration": 4913,
    "start_time": "2023-10-29T13:12:05.253Z"
   },
   {
    "duration": 13,
    "start_time": "2023-10-29T13:12:10.167Z"
   },
   {
    "duration": 25,
    "start_time": "2023-10-29T13:12:10.181Z"
   },
   {
    "duration": 41,
    "start_time": "2023-10-29T13:12:10.207Z"
   },
   {
    "duration": 138,
    "start_time": "2023-10-29T13:12:10.250Z"
   },
   {
    "duration": 6,
    "start_time": "2023-10-29T13:12:10.390Z"
   },
   {
    "duration": 269,
    "start_time": "2023-10-29T13:12:10.397Z"
   },
   {
    "duration": 128,
    "start_time": "2023-10-29T13:12:10.667Z"
   },
   {
    "duration": 434,
    "start_time": "2023-10-29T13:12:10.797Z"
   },
   {
    "duration": 141,
    "start_time": "2023-10-29T13:12:11.233Z"
   },
   {
    "duration": 4,
    "start_time": "2023-10-29T13:12:11.376Z"
   },
   {
    "duration": 14,
    "start_time": "2023-10-29T13:12:11.382Z"
   },
   {
    "duration": 1243,
    "start_time": "2023-10-29T13:44:07.111Z"
   },
   {
    "duration": 274,
    "start_time": "2023-10-29T13:44:08.356Z"
   },
   {
    "duration": 13,
    "start_time": "2023-10-29T13:44:08.632Z"
   },
   {
    "duration": 6,
    "start_time": "2023-10-29T13:44:08.647Z"
   },
   {
    "duration": 31,
    "start_time": "2023-10-29T13:44:08.655Z"
   },
   {
    "duration": 3,
    "start_time": "2023-10-29T13:44:08.687Z"
   },
   {
    "duration": 10,
    "start_time": "2023-10-29T13:44:08.691Z"
   },
   {
    "duration": 48,
    "start_time": "2023-10-29T13:44:08.702Z"
   },
   {
    "duration": 4,
    "start_time": "2023-10-29T13:44:08.752Z"
   },
   {
    "duration": 5,
    "start_time": "2023-10-29T13:44:08.758Z"
   },
   {
    "duration": 6,
    "start_time": "2023-10-29T13:44:08.765Z"
   },
   {
    "duration": 17,
    "start_time": "2023-10-29T13:44:08.772Z"
   },
   {
    "duration": 13,
    "start_time": "2023-10-29T13:44:08.790Z"
   },
   {
    "duration": 98,
    "start_time": "2023-10-29T13:44:08.805Z"
   },
   {
    "duration": 16,
    "start_time": "2023-10-29T13:44:08.905Z"
   },
   {
    "duration": 37,
    "start_time": "2023-10-29T13:44:08.923Z"
   },
   {
    "duration": 5,
    "start_time": "2023-10-29T13:44:08.961Z"
   },
   {
    "duration": 9,
    "start_time": "2023-10-29T13:44:08.967Z"
   },
   {
    "duration": 18,
    "start_time": "2023-10-29T13:44:08.978Z"
   },
   {
    "duration": 22,
    "start_time": "2023-10-29T13:44:08.998Z"
   },
   {
    "duration": 48,
    "start_time": "2023-10-29T13:44:09.022Z"
   },
   {
    "duration": 5588,
    "start_time": "2023-10-29T13:44:09.072Z"
   },
   {
    "duration": 11,
    "start_time": "2023-10-29T13:44:14.661Z"
   },
   {
    "duration": 26,
    "start_time": "2023-10-29T13:44:14.674Z"
   },
   {
    "duration": 42,
    "start_time": "2023-10-29T13:44:14.701Z"
   },
   {
    "duration": 138,
    "start_time": "2023-10-29T13:44:14.745Z"
   },
   {
    "duration": 5,
    "start_time": "2023-10-29T13:44:14.884Z"
   },
   {
    "duration": 187,
    "start_time": "2023-10-29T13:44:14.891Z"
   },
   {
    "duration": 133,
    "start_time": "2023-10-29T13:44:15.080Z"
   },
   {
    "duration": 430,
    "start_time": "2023-10-29T13:44:15.215Z"
   },
   {
    "duration": 141,
    "start_time": "2023-10-29T13:44:15.646Z"
   },
   {
    "duration": 4,
    "start_time": "2023-10-29T13:44:15.789Z"
   },
   {
    "duration": 33,
    "start_time": "2023-10-29T13:44:15.795Z"
   },
   {
    "duration": 36,
    "start_time": "2023-10-29T13:48:19.169Z"
   },
   {
    "duration": 14,
    "start_time": "2023-10-29T13:55:48.816Z"
   },
   {
    "duration": 1251,
    "start_time": "2023-10-29T13:58:09.452Z"
   },
   {
    "duration": 247,
    "start_time": "2023-10-29T13:58:10.705Z"
   },
   {
    "duration": 14,
    "start_time": "2023-10-29T13:58:10.954Z"
   },
   {
    "duration": 21,
    "start_time": "2023-10-29T13:58:10.970Z"
   },
   {
    "duration": 48,
    "start_time": "2023-10-29T13:58:10.993Z"
   },
   {
    "duration": 2,
    "start_time": "2023-10-29T13:58:11.043Z"
   },
   {
    "duration": 15,
    "start_time": "2023-10-29T13:58:11.047Z"
   },
   {
    "duration": 45,
    "start_time": "2023-10-29T13:58:11.064Z"
   },
   {
    "duration": 4,
    "start_time": "2023-10-29T13:58:11.110Z"
   },
   {
    "duration": 12,
    "start_time": "2023-10-29T13:58:11.115Z"
   },
   {
    "duration": 15,
    "start_time": "2023-10-29T13:58:11.129Z"
   },
   {
    "duration": 21,
    "start_time": "2023-10-29T13:58:11.145Z"
   },
   {
    "duration": 11,
    "start_time": "2023-10-29T13:58:11.168Z"
   },
   {
    "duration": 15,
    "start_time": "2023-10-29T13:58:11.182Z"
   },
   {
    "duration": 37,
    "start_time": "2023-10-29T13:58:11.199Z"
   },
   {
    "duration": 4,
    "start_time": "2023-10-29T13:58:11.243Z"
   },
   {
    "duration": 12,
    "start_time": "2023-10-29T13:58:11.249Z"
   },
   {
    "duration": 15,
    "start_time": "2023-10-29T13:58:11.263Z"
   },
   {
    "duration": 34,
    "start_time": "2023-10-29T13:58:11.279Z"
   },
   {
    "duration": 49,
    "start_time": "2023-10-29T13:58:11.315Z"
   },
   {
    "duration": 5679,
    "start_time": "2023-10-29T13:58:11.366Z"
   },
   {
    "duration": 12,
    "start_time": "2023-10-29T13:58:17.047Z"
   },
   {
    "duration": 15,
    "start_time": "2023-10-29T13:58:17.060Z"
   },
   {
    "duration": 18,
    "start_time": "2023-10-29T13:58:17.077Z"
   },
   {
    "duration": 155,
    "start_time": "2023-10-29T13:58:17.096Z"
   },
   {
    "duration": 5,
    "start_time": "2023-10-29T13:58:17.252Z"
   },
   {
    "duration": 181,
    "start_time": "2023-10-29T13:58:17.259Z"
   },
   {
    "duration": 123,
    "start_time": "2023-10-29T13:58:17.443Z"
   },
   {
    "duration": 464,
    "start_time": "2023-10-29T13:58:17.568Z"
   },
   {
    "duration": 144,
    "start_time": "2023-10-29T13:58:18.034Z"
   },
   {
    "duration": 5,
    "start_time": "2023-10-29T13:58:18.180Z"
   },
   {
    "duration": 16,
    "start_time": "2023-10-29T13:58:18.186Z"
   },
   {
    "duration": 1220,
    "start_time": "2023-10-29T14:05:25.498Z"
   },
   {
    "duration": 168,
    "start_time": "2023-10-29T14:05:26.720Z"
   },
   {
    "duration": 15,
    "start_time": "2023-10-29T14:05:26.889Z"
   },
   {
    "duration": 7,
    "start_time": "2023-10-29T14:05:26.906Z"
   },
   {
    "duration": 52,
    "start_time": "2023-10-29T14:05:26.915Z"
   },
   {
    "duration": 3,
    "start_time": "2023-10-29T14:05:26.969Z"
   },
   {
    "duration": 52,
    "start_time": "2023-10-29T14:05:26.973Z"
   },
   {
    "duration": 3,
    "start_time": "2023-10-29T14:05:27.027Z"
   },
   {
    "duration": 13,
    "start_time": "2023-10-29T14:05:27.032Z"
   },
   {
    "duration": 16,
    "start_time": "2023-10-29T14:05:27.047Z"
   },
   {
    "duration": 23,
    "start_time": "2023-10-29T14:05:27.065Z"
   },
   {
    "duration": 15,
    "start_time": "2023-10-29T14:05:27.090Z"
   },
   {
    "duration": 25,
    "start_time": "2023-10-29T14:05:27.107Z"
   },
   {
    "duration": 28,
    "start_time": "2023-10-29T14:05:27.134Z"
   },
   {
    "duration": 6,
    "start_time": "2023-10-29T14:05:27.164Z"
   },
   {
    "duration": 15,
    "start_time": "2023-10-29T14:05:27.172Z"
   },
   {
    "duration": 19,
    "start_time": "2023-10-29T14:05:27.189Z"
   },
   {
    "duration": 35,
    "start_time": "2023-10-29T14:05:27.210Z"
   },
   {
    "duration": 57,
    "start_time": "2023-10-29T14:05:27.248Z"
   },
   {
    "duration": 5843,
    "start_time": "2023-10-29T14:05:27.307Z"
   },
   {
    "duration": 11,
    "start_time": "2023-10-29T14:05:33.152Z"
   },
   {
    "duration": 18,
    "start_time": "2023-10-29T14:05:33.164Z"
   },
   {
    "duration": 35,
    "start_time": "2023-10-29T14:05:33.183Z"
   },
   {
    "duration": 180,
    "start_time": "2023-10-29T14:05:33.220Z"
   },
   {
    "duration": 6,
    "start_time": "2023-10-29T14:05:33.402Z"
   },
   {
    "duration": 186,
    "start_time": "2023-10-29T14:05:33.409Z"
   },
   {
    "duration": 148,
    "start_time": "2023-10-29T14:05:33.596Z"
   },
   {
    "duration": 497,
    "start_time": "2023-10-29T14:05:33.746Z"
   },
   {
    "duration": 126,
    "start_time": "2023-10-29T14:05:34.245Z"
   },
   {
    "duration": 6,
    "start_time": "2023-10-29T14:05:34.373Z"
   },
   {
    "duration": 23,
    "start_time": "2023-10-29T14:05:34.381Z"
   },
   {
    "duration": 4,
    "start_time": "2023-10-29T14:07:39.899Z"
   },
   {
    "duration": 1379,
    "start_time": "2023-10-29T14:08:23.542Z"
   },
   {
    "duration": 7,
    "start_time": "2023-10-29T14:09:00.699Z"
   },
   {
    "duration": 3,
    "start_time": "2023-10-29T14:12:22.399Z"
   },
   {
    "duration": 7,
    "start_time": "2023-10-29T14:12:25.245Z"
   },
   {
    "duration": 38,
    "start_time": "2023-10-29T14:12:31.130Z"
   },
   {
    "duration": 16,
    "start_time": "2023-10-29T14:17:55.803Z"
   },
   {
    "duration": 10,
    "start_time": "2023-10-29T14:20:06.641Z"
   },
   {
    "duration": 124,
    "start_time": "2023-10-29T14:26:58.662Z"
   },
   {
    "duration": 6,
    "start_time": "2023-10-29T14:27:48.763Z"
   },
   {
    "duration": 115,
    "start_time": "2023-10-29T14:29:24.090Z"
   },
   {
    "duration": 12,
    "start_time": "2023-10-29T14:30:18.641Z"
   },
   {
    "duration": 12,
    "start_time": "2023-10-29T14:30:55.093Z"
   },
   {
    "duration": 9,
    "start_time": "2023-10-29T14:31:13.870Z"
   },
   {
    "duration": 2014,
    "start_time": "2023-10-29T14:31:35.130Z"
   },
   {
    "duration": 1918,
    "start_time": "2023-10-29T14:31:58.040Z"
   },
   {
    "duration": 5321,
    "start_time": "2023-10-29T14:45:20.263Z"
   },
   {
    "duration": 20,
    "start_time": "2023-10-29T14:45:51.463Z"
   },
   {
    "duration": 5093,
    "start_time": "2023-10-29T14:46:51.792Z"
   },
   {
    "duration": 15,
    "start_time": "2023-10-29T14:47:25.641Z"
   },
   {
    "duration": 4821,
    "start_time": "2023-10-29T14:47:49.463Z"
   },
   {
    "duration": 18,
    "start_time": "2023-10-29T14:49:55.373Z"
   },
   {
    "duration": 21,
    "start_time": "2023-10-29T14:51:02.713Z"
   },
   {
    "duration": 1314,
    "start_time": "2023-10-29T14:58:48.227Z"
   },
   {
    "duration": 204,
    "start_time": "2023-10-29T14:58:49.543Z"
   },
   {
    "duration": 15,
    "start_time": "2023-10-29T14:58:49.749Z"
   },
   {
    "duration": 11,
    "start_time": "2023-10-29T14:58:49.766Z"
   },
   {
    "duration": 57,
    "start_time": "2023-10-29T14:58:49.778Z"
   },
   {
    "duration": 11,
    "start_time": "2023-10-29T14:58:49.837Z"
   },
   {
    "duration": 52,
    "start_time": "2023-10-29T14:58:49.849Z"
   },
   {
    "duration": 4,
    "start_time": "2023-10-29T14:58:49.903Z"
   },
   {
    "duration": 11,
    "start_time": "2023-10-29T14:58:49.909Z"
   },
   {
    "duration": 22,
    "start_time": "2023-10-29T14:58:49.923Z"
   },
   {
    "duration": 51,
    "start_time": "2023-10-29T14:58:49.947Z"
   },
   {
    "duration": 72,
    "start_time": "2023-10-29T14:58:50.000Z"
   },
   {
    "duration": 109,
    "start_time": "2023-10-29T14:58:50.074Z"
   },
   {
    "duration": 58,
    "start_time": "2023-10-29T14:58:50.185Z"
   },
   {
    "duration": 12,
    "start_time": "2023-10-29T14:58:50.245Z"
   },
   {
    "duration": 52,
    "start_time": "2023-10-29T14:58:50.259Z"
   },
   {
    "duration": 38,
    "start_time": "2023-10-29T14:58:50.313Z"
   },
   {
    "duration": 93,
    "start_time": "2023-10-29T14:58:50.353Z"
   },
   {
    "duration": 56,
    "start_time": "2023-10-29T14:58:50.448Z"
   },
   {
    "duration": 215,
    "start_time": "2023-10-29T14:58:50.505Z"
   },
   {
    "duration": 13,
    "start_time": "2023-10-29T14:58:50.722Z"
   },
   {
    "duration": 45,
    "start_time": "2023-10-29T14:58:50.743Z"
   },
   {
    "duration": 59,
    "start_time": "2023-10-29T14:58:50.791Z"
   },
   {
    "duration": 2044,
    "start_time": "2023-10-29T14:58:50.852Z"
   },
   {
    "duration": 28,
    "start_time": "2023-10-29T14:58:52.897Z"
   },
   {
    "duration": 18,
    "start_time": "2023-10-29T14:58:52.927Z"
   },
   {
    "duration": 30,
    "start_time": "2023-10-29T14:58:52.946Z"
   },
   {
    "duration": 9,
    "start_time": "2023-10-29T14:58:52.979Z"
   },
   {
    "duration": 187,
    "start_time": "2023-10-29T14:58:52.990Z"
   },
   {
    "duration": 0,
    "start_time": "2023-10-29T14:58:53.179Z"
   },
   {
    "duration": 0,
    "start_time": "2023-10-29T14:58:53.180Z"
   },
   {
    "duration": 0,
    "start_time": "2023-10-29T14:58:53.181Z"
   },
   {
    "duration": 0,
    "start_time": "2023-10-29T14:58:53.183Z"
   },
   {
    "duration": 0,
    "start_time": "2023-10-29T14:58:53.183Z"
   },
   {
    "duration": 0,
    "start_time": "2023-10-29T14:58:53.184Z"
   },
   {
    "duration": 0,
    "start_time": "2023-10-29T14:58:53.186Z"
   },
   {
    "duration": 0,
    "start_time": "2023-10-29T14:58:53.187Z"
   },
   {
    "duration": 0,
    "start_time": "2023-10-29T14:58:53.188Z"
   },
   {
    "duration": 0,
    "start_time": "2023-10-29T14:58:53.189Z"
   },
   {
    "duration": 0,
    "start_time": "2023-10-29T14:58:53.190Z"
   },
   {
    "duration": 31,
    "start_time": "2023-10-29T14:59:14.509Z"
   },
   {
    "duration": 1275,
    "start_time": "2023-10-29T14:59:27.369Z"
   },
   {
    "duration": 163,
    "start_time": "2023-10-29T14:59:28.646Z"
   },
   {
    "duration": 13,
    "start_time": "2023-10-29T14:59:28.811Z"
   },
   {
    "duration": 8,
    "start_time": "2023-10-29T14:59:28.826Z"
   },
   {
    "duration": 33,
    "start_time": "2023-10-29T14:59:28.836Z"
   },
   {
    "duration": 3,
    "start_time": "2023-10-29T14:59:28.871Z"
   },
   {
    "duration": 43,
    "start_time": "2023-10-29T14:59:28.875Z"
   },
   {
    "duration": 5,
    "start_time": "2023-10-29T14:59:28.919Z"
   },
   {
    "duration": 19,
    "start_time": "2023-10-29T14:59:28.925Z"
   },
   {
    "duration": 6,
    "start_time": "2023-10-29T14:59:28.946Z"
   },
   {
    "duration": 20,
    "start_time": "2023-10-29T14:59:28.953Z"
   },
   {
    "duration": 22,
    "start_time": "2023-10-29T14:59:28.975Z"
   },
   {
    "duration": 16,
    "start_time": "2023-10-29T14:59:28.999Z"
   },
   {
    "duration": 25,
    "start_time": "2023-10-29T14:59:29.047Z"
   },
   {
    "duration": 5,
    "start_time": "2023-10-29T14:59:29.074Z"
   },
   {
    "duration": 6,
    "start_time": "2023-10-29T14:59:29.080Z"
   },
   {
    "duration": 9,
    "start_time": "2023-10-29T14:59:29.088Z"
   },
   {
    "duration": 13,
    "start_time": "2023-10-29T14:59:29.099Z"
   },
   {
    "duration": 6,
    "start_time": "2023-10-29T14:59:29.144Z"
   },
   {
    "duration": 145,
    "start_time": "2023-10-29T14:59:29.151Z"
   },
   {
    "duration": 10,
    "start_time": "2023-10-29T14:59:29.298Z"
   },
   {
    "duration": 12,
    "start_time": "2023-10-29T14:59:29.310Z"
   },
   {
    "duration": 9,
    "start_time": "2023-10-29T14:59:29.344Z"
   },
   {
    "duration": 2094,
    "start_time": "2023-10-29T14:59:29.355Z"
   },
   {
    "duration": 29,
    "start_time": "2023-10-29T14:59:31.451Z"
   },
   {
    "duration": 11,
    "start_time": "2023-10-29T14:59:31.481Z"
   },
   {
    "duration": 42,
    "start_time": "2023-10-29T14:59:31.494Z"
   },
   {
    "duration": 133,
    "start_time": "2023-10-29T14:59:31.538Z"
   },
   {
    "duration": 121,
    "start_time": "2023-10-29T14:59:31.672Z"
   },
   {
    "duration": 0,
    "start_time": "2023-10-29T14:59:31.795Z"
   },
   {
    "duration": 0,
    "start_time": "2023-10-29T14:59:31.797Z"
   },
   {
    "duration": 0,
    "start_time": "2023-10-29T14:59:31.798Z"
   },
   {
    "duration": 0,
    "start_time": "2023-10-29T14:59:31.799Z"
   },
   {
    "duration": 0,
    "start_time": "2023-10-29T14:59:31.801Z"
   },
   {
    "duration": 0,
    "start_time": "2023-10-29T14:59:31.802Z"
   },
   {
    "duration": 0,
    "start_time": "2023-10-29T14:59:31.803Z"
   },
   {
    "duration": 0,
    "start_time": "2023-10-29T14:59:31.805Z"
   },
   {
    "duration": 0,
    "start_time": "2023-10-29T14:59:31.806Z"
   },
   {
    "duration": 0,
    "start_time": "2023-10-29T14:59:31.808Z"
   },
   {
    "duration": 0,
    "start_time": "2023-10-29T14:59:31.809Z"
   },
   {
    "duration": 23,
    "start_time": "2023-10-29T15:00:26.985Z"
   },
   {
    "duration": 5884,
    "start_time": "2023-10-29T15:00:34.069Z"
   },
   {
    "duration": 14,
    "start_time": "2023-10-29T15:01:23.279Z"
   },
   {
    "duration": 5844,
    "start_time": "2023-10-29T15:01:53.420Z"
   },
   {
    "duration": 138,
    "start_time": "2023-10-29T15:06:03.394Z"
   },
   {
    "duration": 9,
    "start_time": "2023-10-29T15:06:07.481Z"
   },
   {
    "duration": 5933,
    "start_time": "2023-10-29T15:06:56.802Z"
   },
   {
    "duration": 1288,
    "start_time": "2023-10-29T15:07:38.223Z"
   },
   {
    "duration": 235,
    "start_time": "2023-10-29T15:07:39.514Z"
   },
   {
    "duration": 19,
    "start_time": "2023-10-29T15:07:39.751Z"
   },
   {
    "duration": 34,
    "start_time": "2023-10-29T15:07:39.772Z"
   },
   {
    "duration": 83,
    "start_time": "2023-10-29T15:07:39.809Z"
   },
   {
    "duration": 2,
    "start_time": "2023-10-29T15:07:39.895Z"
   },
   {
    "duration": 86,
    "start_time": "2023-10-29T15:07:39.899Z"
   },
   {
    "duration": 4,
    "start_time": "2023-10-29T15:07:39.987Z"
   },
   {
    "duration": 33,
    "start_time": "2023-10-29T15:07:39.993Z"
   },
   {
    "duration": 31,
    "start_time": "2023-10-29T15:07:40.028Z"
   },
   {
    "duration": 49,
    "start_time": "2023-10-29T15:07:40.061Z"
   },
   {
    "duration": 30,
    "start_time": "2023-10-29T15:07:40.112Z"
   },
   {
    "duration": 19,
    "start_time": "2023-10-29T15:07:40.143Z"
   },
   {
    "duration": 36,
    "start_time": "2023-10-29T15:07:40.165Z"
   },
   {
    "duration": 5,
    "start_time": "2023-10-29T15:07:40.203Z"
   },
   {
    "duration": 19,
    "start_time": "2023-10-29T15:07:40.210Z"
   },
   {
    "duration": 8,
    "start_time": "2023-10-29T15:07:40.231Z"
   },
   {
    "duration": 16,
    "start_time": "2023-10-29T15:07:40.241Z"
   },
   {
    "duration": 5,
    "start_time": "2023-10-29T15:07:40.259Z"
   },
   {
    "duration": 142,
    "start_time": "2023-10-29T15:07:40.266Z"
   },
   {
    "duration": 10,
    "start_time": "2023-10-29T15:07:40.410Z"
   },
   {
    "duration": 28,
    "start_time": "2023-10-29T15:07:40.422Z"
   },
   {
    "duration": 16,
    "start_time": "2023-10-29T15:07:40.451Z"
   },
   {
    "duration": 1971,
    "start_time": "2023-10-29T15:07:40.469Z"
   },
   {
    "duration": 27,
    "start_time": "2023-10-29T15:07:42.442Z"
   },
   {
    "duration": 9,
    "start_time": "2023-10-29T15:07:42.471Z"
   },
   {
    "duration": 20,
    "start_time": "2023-10-29T15:07:42.482Z"
   },
   {
    "duration": 93,
    "start_time": "2023-10-29T15:07:42.504Z"
   },
   {
    "duration": 5524,
    "start_time": "2023-10-29T15:07:42.599Z"
   },
   {
    "duration": 0,
    "start_time": "2023-10-29T15:07:48.124Z"
   },
   {
    "duration": 0,
    "start_time": "2023-10-29T15:07:48.125Z"
   },
   {
    "duration": 0,
    "start_time": "2023-10-29T15:07:48.126Z"
   },
   {
    "duration": 0,
    "start_time": "2023-10-29T15:07:48.127Z"
   },
   {
    "duration": 1,
    "start_time": "2023-10-29T15:07:48.127Z"
   },
   {
    "duration": 0,
    "start_time": "2023-10-29T15:07:48.128Z"
   },
   {
    "duration": 0,
    "start_time": "2023-10-29T15:07:48.129Z"
   },
   {
    "duration": 0,
    "start_time": "2023-10-29T15:07:48.130Z"
   },
   {
    "duration": 0,
    "start_time": "2023-10-29T15:07:48.143Z"
   },
   {
    "duration": 0,
    "start_time": "2023-10-29T15:07:48.144Z"
   },
   {
    "duration": 5648,
    "start_time": "2023-10-29T15:09:13.191Z"
   },
   {
    "duration": 5525,
    "start_time": "2023-10-29T15:10:06.669Z"
   },
   {
    "duration": 8383,
    "start_time": "2023-10-29T15:11:34.801Z"
   },
   {
    "duration": 1635,
    "start_time": "2023-10-29T15:12:00.676Z"
   },
   {
    "duration": 5486,
    "start_time": "2023-10-29T15:12:27.677Z"
   },
   {
    "duration": 12,
    "start_time": "2023-10-29T15:12:33.166Z"
   },
   {
    "duration": 8536,
    "start_time": "2023-10-29T15:17:57.674Z"
   },
   {
    "duration": 5846,
    "start_time": "2023-10-29T15:19:31.459Z"
   },
   {
    "duration": 11,
    "start_time": "2023-10-29T15:19:37.307Z"
   },
   {
    "duration": 8335,
    "start_time": "2023-10-29T15:19:54.391Z"
   },
   {
    "duration": 1280,
    "start_time": "2023-10-29T15:20:44.563Z"
   },
   {
    "duration": 197,
    "start_time": "2023-10-29T15:20:45.845Z"
   },
   {
    "duration": 15,
    "start_time": "2023-10-29T15:20:46.043Z"
   },
   {
    "duration": 7,
    "start_time": "2023-10-29T15:20:46.059Z"
   },
   {
    "duration": 30,
    "start_time": "2023-10-29T15:20:46.068Z"
   },
   {
    "duration": 2,
    "start_time": "2023-10-29T15:20:46.100Z"
   },
   {
    "duration": 55,
    "start_time": "2023-10-29T15:20:46.104Z"
   },
   {
    "duration": 5,
    "start_time": "2023-10-29T15:20:46.160Z"
   },
   {
    "duration": 36,
    "start_time": "2023-10-29T15:20:46.166Z"
   },
   {
    "duration": 23,
    "start_time": "2023-10-29T15:20:46.203Z"
   },
   {
    "duration": 26,
    "start_time": "2023-10-29T15:20:46.228Z"
   },
   {
    "duration": 40,
    "start_time": "2023-10-29T15:20:46.256Z"
   },
   {
    "duration": 20,
    "start_time": "2023-10-29T15:20:46.298Z"
   },
   {
    "duration": 50,
    "start_time": "2023-10-29T15:20:46.321Z"
   },
   {
    "duration": 18,
    "start_time": "2023-10-29T15:20:46.373Z"
   },
   {
    "duration": 18,
    "start_time": "2023-10-29T15:20:46.392Z"
   },
   {
    "duration": 14,
    "start_time": "2023-10-29T15:20:46.412Z"
   },
   {
    "duration": 33,
    "start_time": "2023-10-29T15:20:46.427Z"
   },
   {
    "duration": 35,
    "start_time": "2023-10-29T15:20:46.462Z"
   },
   {
    "duration": 138,
    "start_time": "2023-10-29T15:20:46.499Z"
   },
   {
    "duration": 10,
    "start_time": "2023-10-29T15:20:46.644Z"
   },
   {
    "duration": 23,
    "start_time": "2023-10-29T15:20:46.656Z"
   },
   {
    "duration": 20,
    "start_time": "2023-10-29T15:20:46.680Z"
   },
   {
    "duration": 1972,
    "start_time": "2023-10-29T15:20:46.701Z"
   },
   {
    "duration": 26,
    "start_time": "2023-10-29T15:20:48.675Z"
   },
   {
    "duration": 3,
    "start_time": "2023-10-29T15:20:48.702Z"
   },
   {
    "duration": 9,
    "start_time": "2023-10-29T15:20:48.707Z"
   },
   {
    "duration": 102,
    "start_time": "2023-10-29T15:20:48.717Z"
   },
   {
    "duration": 2777,
    "start_time": "2023-10-29T15:20:48.820Z"
   },
   {
    "duration": 5637,
    "start_time": "2023-10-29T15:20:51.599Z"
   },
   {
    "duration": 16,
    "start_time": "2023-10-29T15:20:57.237Z"
   },
   {
    "duration": 32,
    "start_time": "2023-10-29T15:20:57.254Z"
   },
   {
    "duration": 12,
    "start_time": "2023-10-29T15:20:57.288Z"
   },
   {
    "duration": 139,
    "start_time": "2023-10-29T15:20:57.302Z"
   },
   {
    "duration": 4,
    "start_time": "2023-10-29T15:20:57.444Z"
   },
   {
    "duration": 167,
    "start_time": "2023-10-29T15:20:57.450Z"
   },
   {
    "duration": 133,
    "start_time": "2023-10-29T15:20:57.619Z"
   },
   {
    "duration": 454,
    "start_time": "2023-10-29T15:20:57.754Z"
   },
   {
    "duration": 136,
    "start_time": "2023-10-29T15:20:58.210Z"
   },
   {
    "duration": 101,
    "start_time": "2023-10-29T15:20:58.348Z"
   },
   {
    "duration": 5813,
    "start_time": "2023-10-29T15:46:42.772Z"
   },
   {
    "duration": 14,
    "start_time": "2023-10-29T15:47:26.641Z"
   },
   {
    "duration": 5900,
    "start_time": "2023-10-29T15:50:14.995Z"
   },
   {
    "duration": 11,
    "start_time": "2023-10-29T15:50:28.178Z"
   },
   {
    "duration": 5696,
    "start_time": "2023-10-29T15:56:16.767Z"
   },
   {
    "duration": 62,
    "start_time": "2023-10-29T15:57:52.296Z"
   },
   {
    "duration": 5878,
    "start_time": "2023-10-29T16:02:00.052Z"
   },
   {
    "duration": 6475,
    "start_time": "2023-10-29T16:12:11.885Z"
   },
   {
    "duration": 6479,
    "start_time": "2023-10-29T16:21:02.685Z"
   },
   {
    "duration": 67,
    "start_time": "2023-10-29T16:21:49.184Z"
   },
   {
    "duration": 74,
    "start_time": "2023-10-29T16:23:37.154Z"
   },
   {
    "duration": 6092,
    "start_time": "2023-10-29T16:23:56.125Z"
   },
   {
    "duration": 79,
    "start_time": "2023-10-29T16:24:02.219Z"
   },
   {
    "duration": 71,
    "start_time": "2023-10-29T16:24:25.928Z"
   },
   {
    "duration": 97,
    "start_time": "2023-10-29T16:26:07.803Z"
   },
   {
    "duration": 6246,
    "start_time": "2023-10-29T16:30:28.918Z"
   },
   {
    "duration": 94,
    "start_time": "2023-10-29T16:30:35.167Z"
   },
   {
    "duration": 1265,
    "start_time": "2023-10-29T16:30:51.267Z"
   },
   {
    "duration": 324,
    "start_time": "2023-10-29T16:30:52.534Z"
   },
   {
    "duration": 15,
    "start_time": "2023-10-29T16:30:52.860Z"
   },
   {
    "duration": 21,
    "start_time": "2023-10-29T16:30:52.877Z"
   },
   {
    "duration": 48,
    "start_time": "2023-10-29T16:30:52.900Z"
   },
   {
    "duration": 2,
    "start_time": "2023-10-29T16:30:52.950Z"
   },
   {
    "duration": 40,
    "start_time": "2023-10-29T16:30:52.954Z"
   },
   {
    "duration": 3,
    "start_time": "2023-10-29T16:30:52.996Z"
   },
   {
    "duration": 18,
    "start_time": "2023-10-29T16:30:53.001Z"
   },
   {
    "duration": 16,
    "start_time": "2023-10-29T16:30:53.020Z"
   },
   {
    "duration": 22,
    "start_time": "2023-10-29T16:30:53.037Z"
   },
   {
    "duration": 23,
    "start_time": "2023-10-29T16:30:53.060Z"
   },
   {
    "duration": 15,
    "start_time": "2023-10-29T16:30:53.087Z"
   },
   {
    "duration": 41,
    "start_time": "2023-10-29T16:30:53.103Z"
   },
   {
    "duration": 5,
    "start_time": "2023-10-29T16:30:53.145Z"
   },
   {
    "duration": 27,
    "start_time": "2023-10-29T16:30:53.152Z"
   },
   {
    "duration": 13,
    "start_time": "2023-10-29T16:30:53.181Z"
   },
   {
    "duration": 19,
    "start_time": "2023-10-29T16:30:53.196Z"
   },
   {
    "duration": 6,
    "start_time": "2023-10-29T16:30:53.217Z"
   },
   {
    "duration": 126,
    "start_time": "2023-10-29T16:30:53.225Z"
   },
   {
    "duration": 10,
    "start_time": "2023-10-29T16:30:53.354Z"
   },
   {
    "duration": 13,
    "start_time": "2023-10-29T16:30:53.366Z"
   },
   {
    "duration": 9,
    "start_time": "2023-10-29T16:30:53.380Z"
   },
   {
    "duration": 2095,
    "start_time": "2023-10-29T16:30:53.391Z"
   },
   {
    "duration": 28,
    "start_time": "2023-10-29T16:30:55.488Z"
   },
   {
    "duration": 28,
    "start_time": "2023-10-29T16:30:55.518Z"
   },
   {
    "duration": 46,
    "start_time": "2023-10-29T16:30:55.548Z"
   },
   {
    "duration": 103,
    "start_time": "2023-10-29T16:30:55.596Z"
   },
   {
    "duration": 2893,
    "start_time": "2023-10-29T16:30:55.701Z"
   },
   {
    "duration": 5897,
    "start_time": "2023-10-29T16:30:58.596Z"
   },
   {
    "duration": 6240,
    "start_time": "2023-10-29T16:31:04.495Z"
   },
   {
    "duration": 120,
    "start_time": "2023-10-29T16:31:10.737Z"
   },
   {
    "duration": 0,
    "start_time": "2023-10-29T16:31:10.860Z"
   },
   {
    "duration": 0,
    "start_time": "2023-10-29T16:31:10.861Z"
   },
   {
    "duration": 0,
    "start_time": "2023-10-29T16:31:10.863Z"
   },
   {
    "duration": 0,
    "start_time": "2023-10-29T16:31:10.864Z"
   },
   {
    "duration": 0,
    "start_time": "2023-10-29T16:31:10.865Z"
   },
   {
    "duration": 0,
    "start_time": "2023-10-29T16:31:10.866Z"
   },
   {
    "duration": 0,
    "start_time": "2023-10-29T16:31:10.868Z"
   },
   {
    "duration": 0,
    "start_time": "2023-10-29T16:31:10.869Z"
   },
   {
    "duration": 0,
    "start_time": "2023-10-29T16:31:10.870Z"
   },
   {
    "duration": 0,
    "start_time": "2023-10-29T16:31:10.870Z"
   },
   {
    "duration": 6296,
    "start_time": "2023-10-29T16:31:46.908Z"
   },
   {
    "duration": 8,
    "start_time": "2023-10-29T16:31:53.206Z"
   },
   {
    "duration": 6241,
    "start_time": "2023-10-29T16:32:33.864Z"
   },
   {
    "duration": 72,
    "start_time": "2023-10-29T16:33:06.693Z"
   },
   {
    "duration": 1296,
    "start_time": "2023-10-29T16:34:44.434Z"
   },
   {
    "duration": 200,
    "start_time": "2023-10-29T16:34:45.732Z"
   },
   {
    "duration": 13,
    "start_time": "2023-10-29T16:34:45.934Z"
   },
   {
    "duration": 27,
    "start_time": "2023-10-29T16:34:45.949Z"
   },
   {
    "duration": 49,
    "start_time": "2023-10-29T16:34:45.977Z"
   },
   {
    "duration": 5,
    "start_time": "2023-10-29T16:34:46.028Z"
   },
   {
    "duration": 58,
    "start_time": "2023-10-29T16:34:46.035Z"
   },
   {
    "duration": 4,
    "start_time": "2023-10-29T16:34:46.095Z"
   },
   {
    "duration": 10,
    "start_time": "2023-10-29T16:34:46.101Z"
   },
   {
    "duration": 16,
    "start_time": "2023-10-29T16:34:46.113Z"
   },
   {
    "duration": 18,
    "start_time": "2023-10-29T16:34:46.131Z"
   },
   {
    "duration": 60,
    "start_time": "2023-10-29T16:34:46.151Z"
   },
   {
    "duration": 16,
    "start_time": "2023-10-29T16:34:46.212Z"
   },
   {
    "duration": 18,
    "start_time": "2023-10-29T16:34:46.230Z"
   },
   {
    "duration": 4,
    "start_time": "2023-10-29T16:34:46.250Z"
   },
   {
    "duration": 16,
    "start_time": "2023-10-29T16:34:46.256Z"
   },
   {
    "duration": 30,
    "start_time": "2023-10-29T16:34:46.273Z"
   },
   {
    "duration": 19,
    "start_time": "2023-10-29T16:34:46.304Z"
   },
   {
    "duration": 6,
    "start_time": "2023-10-29T16:34:46.325Z"
   },
   {
    "duration": 121,
    "start_time": "2023-10-29T16:34:46.333Z"
   },
   {
    "duration": 9,
    "start_time": "2023-10-29T16:34:46.456Z"
   },
   {
    "duration": 25,
    "start_time": "2023-10-29T16:34:46.466Z"
   },
   {
    "duration": 11,
    "start_time": "2023-10-29T16:34:46.492Z"
   },
   {
    "duration": 1987,
    "start_time": "2023-10-29T16:34:46.504Z"
   },
   {
    "duration": 26,
    "start_time": "2023-10-29T16:34:48.492Z"
   },
   {
    "duration": 3,
    "start_time": "2023-10-29T16:34:48.520Z"
   },
   {
    "duration": 21,
    "start_time": "2023-10-29T16:34:48.525Z"
   },
   {
    "duration": 28,
    "start_time": "2023-10-29T16:34:48.548Z"
   },
   {
    "duration": 2726,
    "start_time": "2023-10-29T16:34:48.577Z"
   },
   {
    "duration": 5287,
    "start_time": "2023-10-29T16:34:51.305Z"
   },
   {
    "duration": 5751,
    "start_time": "2023-10-29T16:34:56.593Z"
   },
   {
    "duration": 54,
    "start_time": "2023-10-29T16:35:02.346Z"
   },
   {
    "duration": 191,
    "start_time": "2023-10-29T16:35:02.401Z"
   },
   {
    "duration": 193,
    "start_time": "2023-10-29T16:35:02.593Z"
   },
   {
    "duration": 0,
    "start_time": "2023-10-29T16:35:02.788Z"
   },
   {
    "duration": 0,
    "start_time": "2023-10-29T16:35:02.789Z"
   },
   {
    "duration": 0,
    "start_time": "2023-10-29T16:35:02.790Z"
   },
   {
    "duration": 0,
    "start_time": "2023-10-29T16:35:02.791Z"
   },
   {
    "duration": 0,
    "start_time": "2023-10-29T16:35:02.793Z"
   },
   {
    "duration": 0,
    "start_time": "2023-10-29T16:35:02.794Z"
   },
   {
    "duration": 0,
    "start_time": "2023-10-29T16:35:02.795Z"
   },
   {
    "duration": 0,
    "start_time": "2023-10-29T16:35:02.796Z"
   },
   {
    "duration": 12,
    "start_time": "2023-10-29T16:36:26.026Z"
   },
   {
    "duration": 22,
    "start_time": "2023-10-29T16:36:50.723Z"
   },
   {
    "duration": 1366,
    "start_time": "2023-10-29T16:37:03.051Z"
   },
   {
    "duration": 19,
    "start_time": "2023-10-29T16:37:27.828Z"
   },
   {
    "duration": 1251,
    "start_time": "2023-10-29T16:38:00.600Z"
   },
   {
    "duration": 205,
    "start_time": "2023-10-29T16:38:01.853Z"
   },
   {
    "duration": 15,
    "start_time": "2023-10-29T16:38:02.059Z"
   },
   {
    "duration": 47,
    "start_time": "2023-10-29T16:38:02.075Z"
   },
   {
    "duration": 74,
    "start_time": "2023-10-29T16:38:02.124Z"
   },
   {
    "duration": 39,
    "start_time": "2023-10-29T16:38:02.200Z"
   },
   {
    "duration": 106,
    "start_time": "2023-10-29T16:38:02.241Z"
   },
   {
    "duration": 24,
    "start_time": "2023-10-29T16:38:02.348Z"
   },
   {
    "duration": 53,
    "start_time": "2023-10-29T16:38:02.373Z"
   },
   {
    "duration": 90,
    "start_time": "2023-10-29T16:38:02.428Z"
   },
   {
    "duration": 57,
    "start_time": "2023-10-29T16:38:02.520Z"
   },
   {
    "duration": 78,
    "start_time": "2023-10-29T16:38:02.579Z"
   },
   {
    "duration": 16,
    "start_time": "2023-10-29T16:38:02.659Z"
   },
   {
    "duration": 61,
    "start_time": "2023-10-29T16:38:02.678Z"
   },
   {
    "duration": 39,
    "start_time": "2023-10-29T16:38:02.741Z"
   },
   {
    "duration": 81,
    "start_time": "2023-10-29T16:38:02.782Z"
   },
   {
    "duration": 77,
    "start_time": "2023-10-29T16:38:02.865Z"
   },
   {
    "duration": 276,
    "start_time": "2023-10-29T16:38:02.944Z"
   },
   {
    "duration": 91,
    "start_time": "2023-10-29T16:38:03.222Z"
   },
   {
    "duration": 177,
    "start_time": "2023-10-29T16:38:03.315Z"
   },
   {
    "duration": 8,
    "start_time": "2023-10-29T16:38:03.494Z"
   },
   {
    "duration": 34,
    "start_time": "2023-10-29T16:38:03.504Z"
   },
   {
    "duration": 39,
    "start_time": "2023-10-29T16:38:03.540Z"
   },
   {
    "duration": 2138,
    "start_time": "2023-10-29T16:38:03.581Z"
   },
   {
    "duration": 32,
    "start_time": "2023-10-29T16:38:05.720Z"
   },
   {
    "duration": 3,
    "start_time": "2023-10-29T16:38:05.754Z"
   },
   {
    "duration": 34,
    "start_time": "2023-10-29T16:38:05.758Z"
   },
   {
    "duration": 127,
    "start_time": "2023-10-29T16:38:05.794Z"
   },
   {
    "duration": 2733,
    "start_time": "2023-10-29T16:38:05.923Z"
   },
   {
    "duration": 5410,
    "start_time": "2023-10-29T16:38:08.658Z"
   },
   {
    "duration": 5994,
    "start_time": "2023-10-29T16:38:14.069Z"
   },
   {
    "duration": 50,
    "start_time": "2023-10-29T16:38:20.064Z"
   },
   {
    "duration": 35,
    "start_time": "2023-10-29T16:38:20.115Z"
   },
   {
    "duration": 25,
    "start_time": "2023-10-29T16:38:20.151Z"
   },
   {
    "duration": 118,
    "start_time": "2023-10-29T16:38:20.178Z"
   },
   {
    "duration": 0,
    "start_time": "2023-10-29T16:38:20.298Z"
   },
   {
    "duration": 0,
    "start_time": "2023-10-29T16:38:20.299Z"
   },
   {
    "duration": 0,
    "start_time": "2023-10-29T16:38:20.301Z"
   },
   {
    "duration": 0,
    "start_time": "2023-10-29T16:38:20.302Z"
   },
   {
    "duration": 0,
    "start_time": "2023-10-29T16:38:20.303Z"
   },
   {
    "duration": 0,
    "start_time": "2023-10-29T16:38:20.304Z"
   },
   {
    "duration": 0,
    "start_time": "2023-10-29T16:38:20.305Z"
   },
   {
    "duration": 1305,
    "start_time": "2023-10-29T16:43:03.571Z"
   },
   {
    "duration": 172,
    "start_time": "2023-10-29T16:43:04.878Z"
   },
   {
    "duration": 14,
    "start_time": "2023-10-29T16:43:05.052Z"
   },
   {
    "duration": 101,
    "start_time": "2023-10-29T16:43:05.067Z"
   },
   {
    "duration": 45,
    "start_time": "2023-10-29T16:43:05.170Z"
   },
   {
    "duration": 2,
    "start_time": "2023-10-29T16:43:05.217Z"
   },
   {
    "duration": 67,
    "start_time": "2023-10-29T16:43:05.221Z"
   },
   {
    "duration": 4,
    "start_time": "2023-10-29T16:43:05.290Z"
   },
   {
    "duration": 27,
    "start_time": "2023-10-29T16:43:05.295Z"
   },
   {
    "duration": 13,
    "start_time": "2023-10-29T16:43:05.323Z"
   },
   {
    "duration": 42,
    "start_time": "2023-10-29T16:43:05.337Z"
   },
   {
    "duration": 38,
    "start_time": "2023-10-29T16:43:05.381Z"
   },
   {
    "duration": 16,
    "start_time": "2023-10-29T16:43:05.421Z"
   },
   {
    "duration": 25,
    "start_time": "2023-10-29T16:43:05.439Z"
   },
   {
    "duration": 25,
    "start_time": "2023-10-29T16:43:05.466Z"
   },
   {
    "duration": 22,
    "start_time": "2023-10-29T16:43:05.492Z"
   },
   {
    "duration": 40,
    "start_time": "2023-10-29T16:43:05.515Z"
   },
   {
    "duration": 53,
    "start_time": "2023-10-29T16:43:05.557Z"
   },
   {
    "duration": 9,
    "start_time": "2023-10-29T16:43:05.611Z"
   },
   {
    "duration": 136,
    "start_time": "2023-10-29T16:43:05.622Z"
   },
   {
    "duration": 9,
    "start_time": "2023-10-29T16:43:05.760Z"
   },
   {
    "duration": 30,
    "start_time": "2023-10-29T16:43:05.770Z"
   },
   {
    "duration": 37,
    "start_time": "2023-10-29T16:43:05.802Z"
   },
   {
    "duration": 2010,
    "start_time": "2023-10-29T16:43:05.840Z"
   },
   {
    "duration": 27,
    "start_time": "2023-10-29T16:43:07.852Z"
   },
   {
    "duration": 7,
    "start_time": "2023-10-29T16:43:07.880Z"
   },
   {
    "duration": 16,
    "start_time": "2023-10-29T16:43:07.888Z"
   },
   {
    "duration": 99,
    "start_time": "2023-10-29T16:43:07.905Z"
   },
   {
    "duration": 2727,
    "start_time": "2023-10-29T16:43:08.006Z"
   },
   {
    "duration": 5498,
    "start_time": "2023-10-29T16:43:10.735Z"
   },
   {
    "duration": 5736,
    "start_time": "2023-10-29T16:43:16.234Z"
   },
   {
    "duration": 73,
    "start_time": "2023-10-29T16:43:21.971Z"
   },
   {
    "duration": 17,
    "start_time": "2023-10-29T16:43:22.045Z"
   },
   {
    "duration": 49,
    "start_time": "2023-10-29T16:43:22.063Z"
   },
   {
    "duration": 124,
    "start_time": "2023-10-29T16:43:22.114Z"
   },
   {
    "duration": 0,
    "start_time": "2023-10-29T16:43:22.240Z"
   },
   {
    "duration": 0,
    "start_time": "2023-10-29T16:43:22.241Z"
   },
   {
    "duration": 0,
    "start_time": "2023-10-29T16:43:22.243Z"
   },
   {
    "duration": 0,
    "start_time": "2023-10-29T16:43:22.244Z"
   },
   {
    "duration": 0,
    "start_time": "2023-10-29T16:43:22.245Z"
   },
   {
    "duration": 0,
    "start_time": "2023-10-29T16:43:22.247Z"
   },
   {
    "duration": 0,
    "start_time": "2023-10-29T16:43:22.247Z"
   },
   {
    "duration": 6,
    "start_time": "2023-10-29T17:42:14.062Z"
   },
   {
    "duration": 4,
    "start_time": "2023-10-29T17:42:21.169Z"
   },
   {
    "duration": 35,
    "start_time": "2023-10-29T17:52:26.871Z"
   },
   {
    "duration": 3,
    "start_time": "2023-10-29T17:52:27.695Z"
   },
   {
    "duration": 32,
    "start_time": "2023-10-29T17:53:02.442Z"
   },
   {
    "duration": 18,
    "start_time": "2023-10-29T17:54:37.482Z"
   },
   {
    "duration": 1398,
    "start_time": "2023-10-29T17:54:52.723Z"
   },
   {
    "duration": 197,
    "start_time": "2023-10-29T17:54:54.124Z"
   },
   {
    "duration": 16,
    "start_time": "2023-10-29T17:54:54.322Z"
   },
   {
    "duration": 26,
    "start_time": "2023-10-29T17:54:54.339Z"
   },
   {
    "duration": 67,
    "start_time": "2023-10-29T17:54:54.367Z"
   },
   {
    "duration": 3,
    "start_time": "2023-10-29T17:54:54.436Z"
   },
   {
    "duration": 62,
    "start_time": "2023-10-29T17:54:54.441Z"
   },
   {
    "duration": 4,
    "start_time": "2023-10-29T17:54:54.506Z"
   },
   {
    "duration": 20,
    "start_time": "2023-10-29T17:54:54.512Z"
   },
   {
    "duration": 19,
    "start_time": "2023-10-29T17:54:54.534Z"
   },
   {
    "duration": 41,
    "start_time": "2023-10-29T17:54:54.556Z"
   },
   {
    "duration": 58,
    "start_time": "2023-10-29T17:54:54.600Z"
   },
   {
    "duration": 26,
    "start_time": "2023-10-29T17:54:54.660Z"
   },
   {
    "duration": 23,
    "start_time": "2023-10-29T17:54:54.689Z"
   },
   {
    "duration": 7,
    "start_time": "2023-10-29T17:54:54.714Z"
   },
   {
    "duration": 12,
    "start_time": "2023-10-29T17:54:54.744Z"
   },
   {
    "duration": 31,
    "start_time": "2023-10-29T17:54:54.758Z"
   },
   {
    "duration": 11,
    "start_time": "2023-10-29T17:54:54.791Z"
   },
   {
    "duration": 11,
    "start_time": "2023-10-29T17:54:54.803Z"
   },
   {
    "duration": 129,
    "start_time": "2023-10-29T17:54:54.815Z"
   },
   {
    "duration": 11,
    "start_time": "2023-10-29T17:54:54.946Z"
   },
   {
    "duration": 29,
    "start_time": "2023-10-29T17:54:54.959Z"
   },
   {
    "duration": 42,
    "start_time": "2023-10-29T17:54:54.990Z"
   },
   {
    "duration": 2011,
    "start_time": "2023-10-29T17:54:55.033Z"
   },
   {
    "duration": 35,
    "start_time": "2023-10-29T17:54:57.046Z"
   },
   {
    "duration": 4,
    "start_time": "2023-10-29T17:54:57.083Z"
   },
   {
    "duration": 34,
    "start_time": "2023-10-29T17:54:57.088Z"
   },
   {
    "duration": 135,
    "start_time": "2023-10-29T17:54:57.124Z"
   },
   {
    "duration": 2709,
    "start_time": "2023-10-29T17:54:57.260Z"
   },
   {
    "duration": 5664,
    "start_time": "2023-10-29T17:54:59.971Z"
   },
   {
    "duration": 5948,
    "start_time": "2023-10-29T17:55:05.636Z"
   },
   {
    "duration": 73,
    "start_time": "2023-10-29T17:55:11.586Z"
   },
   {
    "duration": 23,
    "start_time": "2023-10-29T17:55:11.661Z"
   },
   {
    "duration": 33,
    "start_time": "2023-10-29T17:55:11.687Z"
   },
   {
    "duration": 155,
    "start_time": "2023-10-29T17:55:11.745Z"
   },
   {
    "duration": 0,
    "start_time": "2023-10-29T17:55:11.902Z"
   },
   {
    "duration": 0,
    "start_time": "2023-10-29T17:55:11.903Z"
   },
   {
    "duration": 0,
    "start_time": "2023-10-29T17:55:11.904Z"
   },
   {
    "duration": 0,
    "start_time": "2023-10-29T17:55:11.905Z"
   },
   {
    "duration": 0,
    "start_time": "2023-10-29T17:55:11.907Z"
   },
   {
    "duration": 0,
    "start_time": "2023-10-29T17:55:11.908Z"
   },
   {
    "duration": 0,
    "start_time": "2023-10-29T17:55:11.909Z"
   },
   {
    "duration": 13,
    "start_time": "2023-10-29T17:55:42.391Z"
   },
   {
    "duration": 13,
    "start_time": "2023-10-29T18:02:02.121Z"
   },
   {
    "duration": 5,
    "start_time": "2023-10-29T18:02:14.096Z"
   },
   {
    "duration": 4,
    "start_time": "2023-10-29T18:02:38.663Z"
   },
   {
    "duration": 6,
    "start_time": "2023-10-29T18:02:58.207Z"
   },
   {
    "duration": 4,
    "start_time": "2023-10-29T18:03:07.273Z"
   },
   {
    "duration": 4,
    "start_time": "2023-10-29T18:03:48.324Z"
   },
   {
    "duration": 16,
    "start_time": "2023-10-29T18:06:14.507Z"
   },
   {
    "duration": 15,
    "start_time": "2023-10-29T18:06:29.951Z"
   },
   {
    "duration": 14,
    "start_time": "2023-10-29T18:13:02.239Z"
   },
   {
    "duration": 11,
    "start_time": "2023-10-29T18:16:30.934Z"
   },
   {
    "duration": 10,
    "start_time": "2023-10-29T18:18:32.373Z"
   },
   {
    "duration": 11,
    "start_time": "2023-10-29T18:19:18.496Z"
   },
   {
    "duration": 1157,
    "start_time": "2023-10-29T18:35:29.291Z"
   },
   {
    "duration": 188,
    "start_time": "2023-10-29T18:35:30.450Z"
   },
   {
    "duration": 15,
    "start_time": "2023-10-29T18:35:30.640Z"
   },
   {
    "duration": 28,
    "start_time": "2023-10-29T18:35:30.657Z"
   },
   {
    "duration": 72,
    "start_time": "2023-10-29T18:35:30.687Z"
   },
   {
    "duration": 5,
    "start_time": "2023-10-29T18:35:30.761Z"
   },
   {
    "duration": 67,
    "start_time": "2023-10-29T18:35:30.768Z"
   },
   {
    "duration": 26,
    "start_time": "2023-10-29T18:35:30.837Z"
   },
   {
    "duration": 52,
    "start_time": "2023-10-29T18:36:23.255Z"
   },
   {
    "duration": 1246,
    "start_time": "2023-10-29T18:37:09.798Z"
   },
   {
    "duration": 213,
    "start_time": "2023-10-29T18:37:11.046Z"
   },
   {
    "duration": 15,
    "start_time": "2023-10-29T18:37:11.260Z"
   },
   {
    "duration": 20,
    "start_time": "2023-10-29T18:37:11.277Z"
   },
   {
    "duration": 49,
    "start_time": "2023-10-29T18:37:11.298Z"
   },
   {
    "duration": 3,
    "start_time": "2023-10-29T18:37:11.348Z"
   },
   {
    "duration": 38,
    "start_time": "2023-10-29T18:37:11.352Z"
   },
   {
    "duration": 4,
    "start_time": "2023-10-29T18:37:11.391Z"
   },
   {
    "duration": 25,
    "start_time": "2023-10-29T18:37:11.397Z"
   },
   {
    "duration": 8,
    "start_time": "2023-10-29T18:37:11.426Z"
   },
   {
    "duration": 19,
    "start_time": "2023-10-29T18:37:11.436Z"
   },
   {
    "duration": 13,
    "start_time": "2023-10-29T18:37:11.457Z"
   },
   {
    "duration": 16,
    "start_time": "2023-10-29T18:37:11.471Z"
   },
   {
    "duration": 34,
    "start_time": "2023-10-29T18:37:11.489Z"
   },
   {
    "duration": 22,
    "start_time": "2023-10-29T18:37:11.524Z"
   },
   {
    "duration": 16,
    "start_time": "2023-10-29T18:37:11.548Z"
   },
   {
    "duration": 5,
    "start_time": "2023-10-29T18:37:11.566Z"
   },
   {
    "duration": 6,
    "start_time": "2023-10-29T18:37:11.572Z"
   },
   {
    "duration": 13,
    "start_time": "2023-10-29T18:37:11.580Z"
   },
   {
    "duration": 6,
    "start_time": "2023-10-29T18:37:11.594Z"
   },
   {
    "duration": 162,
    "start_time": "2023-10-29T18:37:11.601Z"
   },
   {
    "duration": 8,
    "start_time": "2023-10-29T18:37:11.765Z"
   },
   {
    "duration": 14,
    "start_time": "2023-10-29T18:37:11.775Z"
   },
   {
    "duration": 9,
    "start_time": "2023-10-29T18:37:11.791Z"
   },
   {
    "duration": 2019,
    "start_time": "2023-10-29T18:37:11.801Z"
   },
   {
    "duration": 42,
    "start_time": "2023-10-29T18:37:13.822Z"
   },
   {
    "duration": 4,
    "start_time": "2023-10-29T18:37:13.866Z"
   },
   {
    "duration": 27,
    "start_time": "2023-10-29T18:37:13.873Z"
   },
   {
    "duration": 25,
    "start_time": "2023-10-29T18:37:13.902Z"
   },
   {
    "duration": 2799,
    "start_time": "2023-10-29T18:37:13.928Z"
   },
   {
    "duration": 5361,
    "start_time": "2023-10-29T18:37:16.729Z"
   },
   {
    "duration": 5805,
    "start_time": "2023-10-29T18:37:22.092Z"
   },
   {
    "duration": 61,
    "start_time": "2023-10-29T18:37:27.899Z"
   },
   {
    "duration": 15,
    "start_time": "2023-10-29T18:37:27.961Z"
   },
   {
    "duration": 36,
    "start_time": "2023-10-29T18:37:27.977Z"
   },
   {
    "duration": 115,
    "start_time": "2023-10-29T18:37:28.014Z"
   },
   {
    "duration": 0,
    "start_time": "2023-10-29T18:37:28.131Z"
   },
   {
    "duration": 0,
    "start_time": "2023-10-29T18:37:28.132Z"
   },
   {
    "duration": 0,
    "start_time": "2023-10-29T18:37:28.134Z"
   },
   {
    "duration": 0,
    "start_time": "2023-10-29T18:37:28.144Z"
   },
   {
    "duration": 0,
    "start_time": "2023-10-29T18:37:28.145Z"
   },
   {
    "duration": 0,
    "start_time": "2023-10-29T18:37:28.146Z"
   },
   {
    "duration": 0,
    "start_time": "2023-10-29T18:37:28.148Z"
   },
   {
    "duration": 1313,
    "start_time": "2023-10-29T18:41:33.827Z"
   },
   {
    "duration": 235,
    "start_time": "2023-10-29T18:41:35.142Z"
   },
   {
    "duration": 13,
    "start_time": "2023-10-29T18:41:35.379Z"
   },
   {
    "duration": 6,
    "start_time": "2023-10-29T18:41:35.394Z"
   },
   {
    "duration": 31,
    "start_time": "2023-10-29T18:41:35.401Z"
   },
   {
    "duration": 2,
    "start_time": "2023-10-29T18:41:35.434Z"
   },
   {
    "duration": 34,
    "start_time": "2023-10-29T18:41:35.437Z"
   },
   {
    "duration": 3,
    "start_time": "2023-10-29T18:41:35.473Z"
   },
   {
    "duration": 16,
    "start_time": "2023-10-29T18:41:35.478Z"
   },
   {
    "duration": 4,
    "start_time": "2023-10-29T18:41:35.496Z"
   },
   {
    "duration": 17,
    "start_time": "2023-10-29T18:41:35.502Z"
   },
   {
    "duration": 4,
    "start_time": "2023-10-29T18:41:35.520Z"
   },
   {
    "duration": 25,
    "start_time": "2023-10-29T18:41:35.525Z"
   },
   {
    "duration": 36,
    "start_time": "2023-10-29T18:41:35.552Z"
   },
   {
    "duration": 12,
    "start_time": "2023-10-29T18:41:35.590Z"
   },
   {
    "duration": 17,
    "start_time": "2023-10-29T18:41:35.603Z"
   },
   {
    "duration": 24,
    "start_time": "2023-10-29T18:41:35.622Z"
   },
   {
    "duration": 16,
    "start_time": "2023-10-29T18:41:35.648Z"
   },
   {
    "duration": 12,
    "start_time": "2023-10-29T18:41:35.666Z"
   },
   {
    "duration": 8,
    "start_time": "2023-10-29T18:41:35.679Z"
   },
   {
    "duration": 125,
    "start_time": "2023-10-29T18:41:35.688Z"
   },
   {
    "duration": 8,
    "start_time": "2023-10-29T18:41:35.815Z"
   },
   {
    "duration": 27,
    "start_time": "2023-10-29T18:41:35.825Z"
   },
   {
    "duration": 29,
    "start_time": "2023-10-29T18:41:35.854Z"
   },
   {
    "duration": 1977,
    "start_time": "2023-10-29T18:41:35.885Z"
   },
   {
    "duration": 25,
    "start_time": "2023-10-29T18:41:37.864Z"
   },
   {
    "duration": 3,
    "start_time": "2023-10-29T18:41:37.891Z"
   },
   {
    "duration": 8,
    "start_time": "2023-10-29T18:41:37.896Z"
   },
   {
    "duration": 10,
    "start_time": "2023-10-29T18:41:37.905Z"
   },
   {
    "duration": 2765,
    "start_time": "2023-10-29T18:41:37.916Z"
   },
   {
    "duration": 5446,
    "start_time": "2023-10-29T18:41:40.683Z"
   },
   {
    "duration": 5821,
    "start_time": "2023-10-29T18:41:46.131Z"
   },
   {
    "duration": 54,
    "start_time": "2023-10-29T18:41:51.954Z"
   },
   {
    "duration": 35,
    "start_time": "2023-10-29T18:41:52.010Z"
   },
   {
    "duration": 37,
    "start_time": "2023-10-29T18:41:52.047Z"
   },
   {
    "duration": 137,
    "start_time": "2023-10-29T18:41:52.086Z"
   },
   {
    "duration": 0,
    "start_time": "2023-10-29T18:41:52.225Z"
   },
   {
    "duration": 0,
    "start_time": "2023-10-29T18:41:52.226Z"
   },
   {
    "duration": 0,
    "start_time": "2023-10-29T18:41:52.228Z"
   },
   {
    "duration": 0,
    "start_time": "2023-10-29T18:41:52.230Z"
   },
   {
    "duration": 0,
    "start_time": "2023-10-29T18:41:52.231Z"
   },
   {
    "duration": 0,
    "start_time": "2023-10-29T18:41:52.232Z"
   },
   {
    "duration": 0,
    "start_time": "2023-10-29T18:41:52.243Z"
   },
   {
    "duration": 5730,
    "start_time": "2023-10-29T18:42:24.741Z"
   },
   {
    "duration": 72,
    "start_time": "2023-10-29T18:42:30.473Z"
   },
   {
    "duration": 55,
    "start_time": "2023-10-29T18:51:47.229Z"
   },
   {
    "duration": 16,
    "start_time": "2023-10-29T18:55:48.979Z"
   },
   {
    "duration": 18,
    "start_time": "2023-10-29T18:56:37.418Z"
   },
   {
    "duration": 5919,
    "start_time": "2023-10-29T19:17:52.778Z"
   },
   {
    "duration": 5887,
    "start_time": "2023-10-29T19:19:01.275Z"
   },
   {
    "duration": 60,
    "start_time": "2023-10-29T19:19:07.164Z"
   },
   {
    "duration": 5724,
    "start_time": "2023-10-29T19:19:54.554Z"
   },
   {
    "duration": 68,
    "start_time": "2023-10-29T19:20:00.281Z"
   },
   {
    "duration": 84,
    "start_time": "2023-10-29T19:25:12.859Z"
   },
   {
    "duration": 55,
    "start_time": "2023-10-29T19:36:22.907Z"
   },
   {
    "duration": 26,
    "start_time": "2023-10-29T19:39:18.467Z"
   },
   {
    "duration": 1205,
    "start_time": "2023-10-29T19:39:25.031Z"
   },
   {
    "duration": 184,
    "start_time": "2023-10-29T19:39:26.238Z"
   },
   {
    "duration": 15,
    "start_time": "2023-10-29T19:39:26.423Z"
   },
   {
    "duration": 11,
    "start_time": "2023-10-29T19:39:26.440Z"
   },
   {
    "duration": 42,
    "start_time": "2023-10-29T19:39:26.453Z"
   },
   {
    "duration": 2,
    "start_time": "2023-10-29T19:39:26.497Z"
   },
   {
    "duration": 32,
    "start_time": "2023-10-29T19:39:26.500Z"
   },
   {
    "duration": 4,
    "start_time": "2023-10-29T19:39:26.533Z"
   },
   {
    "duration": 10,
    "start_time": "2023-10-29T19:39:26.538Z"
   },
   {
    "duration": 12,
    "start_time": "2023-10-29T19:39:26.551Z"
   },
   {
    "duration": 15,
    "start_time": "2023-10-29T19:39:26.565Z"
   },
   {
    "duration": 3,
    "start_time": "2023-10-29T19:39:26.582Z"
   },
   {
    "duration": 24,
    "start_time": "2023-10-29T19:39:26.587Z"
   },
   {
    "duration": 55,
    "start_time": "2023-10-29T19:39:26.612Z"
   },
   {
    "duration": 12,
    "start_time": "2023-10-29T19:39:26.669Z"
   },
   {
    "duration": 22,
    "start_time": "2023-10-29T19:39:26.683Z"
   },
   {
    "duration": 4,
    "start_time": "2023-10-29T19:39:26.706Z"
   },
   {
    "duration": 32,
    "start_time": "2023-10-29T19:39:26.712Z"
   },
   {
    "duration": 27,
    "start_time": "2023-10-29T19:39:26.746Z"
   },
   {
    "duration": 24,
    "start_time": "2023-10-29T19:39:26.775Z"
   },
   {
    "duration": 138,
    "start_time": "2023-10-29T19:39:26.801Z"
   },
   {
    "duration": 12,
    "start_time": "2023-10-29T19:39:26.951Z"
   },
   {
    "duration": 37,
    "start_time": "2023-10-29T19:39:26.965Z"
   },
   {
    "duration": 10,
    "start_time": "2023-10-29T19:39:27.004Z"
   },
   {
    "duration": 1956,
    "start_time": "2023-10-29T19:39:27.016Z"
   },
   {
    "duration": 27,
    "start_time": "2023-10-29T19:39:28.973Z"
   },
   {
    "duration": 4,
    "start_time": "2023-10-29T19:39:29.001Z"
   },
   {
    "duration": 18,
    "start_time": "2023-10-29T19:39:29.008Z"
   },
   {
    "duration": 26,
    "start_time": "2023-10-29T19:39:29.028Z"
   },
   {
    "duration": 213,
    "start_time": "2023-10-29T19:39:29.056Z"
   },
   {
    "duration": 0,
    "start_time": "2023-10-29T19:39:29.271Z"
   },
   {
    "duration": 0,
    "start_time": "2023-10-29T19:39:29.272Z"
   },
   {
    "duration": 0,
    "start_time": "2023-10-29T19:39:29.273Z"
   },
   {
    "duration": 0,
    "start_time": "2023-10-29T19:39:29.274Z"
   },
   {
    "duration": 0,
    "start_time": "2023-10-29T19:39:29.275Z"
   },
   {
    "duration": 0,
    "start_time": "2023-10-29T19:39:29.276Z"
   },
   {
    "duration": 0,
    "start_time": "2023-10-29T19:39:29.277Z"
   },
   {
    "duration": 0,
    "start_time": "2023-10-29T19:39:29.278Z"
   },
   {
    "duration": 0,
    "start_time": "2023-10-29T19:39:29.279Z"
   },
   {
    "duration": 0,
    "start_time": "2023-10-29T19:39:29.279Z"
   },
   {
    "duration": 0,
    "start_time": "2023-10-29T19:39:29.280Z"
   },
   {
    "duration": 0,
    "start_time": "2023-10-29T19:39:29.281Z"
   },
   {
    "duration": 0,
    "start_time": "2023-10-29T19:39:29.282Z"
   },
   {
    "duration": 9,
    "start_time": "2023-10-29T19:50:23.459Z"
   },
   {
    "duration": 55,
    "start_time": "2023-10-30T10:00:22.383Z"
   },
   {
    "duration": 1460,
    "start_time": "2023-10-30T10:00:29.905Z"
   },
   {
    "duration": 394,
    "start_time": "2023-10-30T10:00:31.367Z"
   },
   {
    "duration": 16,
    "start_time": "2023-10-30T10:00:31.762Z"
   },
   {
    "duration": 63,
    "start_time": "2023-10-30T10:00:31.780Z"
   },
   {
    "duration": 69,
    "start_time": "2023-10-30T10:00:31.845Z"
   },
   {
    "duration": 43,
    "start_time": "2023-10-30T10:00:31.916Z"
   },
   {
    "duration": 98,
    "start_time": "2023-10-30T10:00:31.961Z"
   },
   {
    "duration": 28,
    "start_time": "2023-10-30T10:00:32.061Z"
   },
   {
    "duration": 59,
    "start_time": "2023-10-30T10:00:32.091Z"
   },
   {
    "duration": 72,
    "start_time": "2023-10-30T10:00:32.152Z"
   },
   {
    "duration": 105,
    "start_time": "2023-10-30T10:00:32.225Z"
   },
   {
    "duration": 206,
    "start_time": "2023-10-30T10:00:32.332Z"
   },
   {
    "duration": 168,
    "start_time": "2023-10-30T10:00:32.540Z"
   },
   {
    "duration": 69,
    "start_time": "2023-10-30T10:00:32.710Z"
   },
   {
    "duration": 12,
    "start_time": "2023-10-30T10:00:32.780Z"
   },
   {
    "duration": 101,
    "start_time": "2023-10-30T10:00:32.793Z"
   },
   {
    "duration": 18,
    "start_time": "2023-10-30T10:00:32.896Z"
   },
   {
    "duration": 47,
    "start_time": "2023-10-30T10:00:32.915Z"
   },
   {
    "duration": 54,
    "start_time": "2023-10-30T10:00:32.963Z"
   },
   {
    "duration": 38,
    "start_time": "2023-10-30T10:00:33.019Z"
   },
   {
    "duration": 162,
    "start_time": "2023-10-30T10:00:33.059Z"
   },
   {
    "duration": 9,
    "start_time": "2023-10-30T10:00:33.223Z"
   },
   {
    "duration": 166,
    "start_time": "2023-10-30T10:00:33.234Z"
   },
   {
    "duration": 57,
    "start_time": "2023-10-30T10:00:33.402Z"
   },
   {
    "duration": 2073,
    "start_time": "2023-10-30T10:00:33.460Z"
   },
   {
    "duration": 33,
    "start_time": "2023-10-30T10:00:35.535Z"
   },
   {
    "duration": 301,
    "start_time": "2023-10-30T10:00:35.570Z"
   },
   {
    "duration": 49,
    "start_time": "2023-10-30T10:00:35.874Z"
   },
   {
    "duration": 43,
    "start_time": "2023-10-30T10:00:35.925Z"
   },
   {
    "duration": 2782,
    "start_time": "2023-10-30T10:00:35.969Z"
   },
   {
    "duration": 5289,
    "start_time": "2023-10-30T10:00:38.753Z"
   },
   {
    "duration": 0,
    "start_time": "2023-10-30T10:00:44.044Z"
   },
   {
    "duration": 0,
    "start_time": "2023-10-30T10:00:44.045Z"
   },
   {
    "duration": 0,
    "start_time": "2023-10-30T10:00:44.046Z"
   },
   {
    "duration": 0,
    "start_time": "2023-10-30T10:00:44.047Z"
   },
   {
    "duration": 0,
    "start_time": "2023-10-30T10:00:44.048Z"
   },
   {
    "duration": 0,
    "start_time": "2023-10-30T10:00:44.049Z"
   },
   {
    "duration": 0,
    "start_time": "2023-10-30T10:00:44.050Z"
   },
   {
    "duration": 0,
    "start_time": "2023-10-30T10:00:44.051Z"
   },
   {
    "duration": 0,
    "start_time": "2023-10-30T10:00:44.052Z"
   },
   {
    "duration": 0,
    "start_time": "2023-10-30T10:00:44.053Z"
   },
   {
    "duration": 0,
    "start_time": "2023-10-30T10:00:44.054Z"
   },
   {
    "duration": 5462,
    "start_time": "2023-10-30T10:01:11.250Z"
   },
   {
    "duration": 5,
    "start_time": "2023-10-30T10:02:46.098Z"
   },
   {
    "duration": 5687,
    "start_time": "2023-10-30T10:02:47.107Z"
   },
   {
    "duration": 5,
    "start_time": "2023-10-30T10:04:03.817Z"
   },
   {
    "duration": 5159,
    "start_time": "2023-10-30T10:04:04.655Z"
   },
   {
    "duration": 2706,
    "start_time": "2023-10-30T10:04:28.680Z"
   },
   {
    "duration": 4,
    "start_time": "2023-10-30T10:04:31.387Z"
   },
   {
    "duration": 5674,
    "start_time": "2023-10-30T10:04:31.393Z"
   },
   {
    "duration": 103,
    "start_time": "2023-10-30T10:08:18.761Z"
   },
   {
    "duration": 0,
    "start_time": "2023-10-30T10:10:47.232Z"
   },
   {
    "duration": 75,
    "start_time": "2023-10-30T10:11:04.523Z"
   },
   {
    "duration": 10696,
    "start_time": "2023-10-30T10:11:23.477Z"
   },
   {
    "duration": 1374,
    "start_time": "2023-10-30T10:11:49.961Z"
   },
   {
    "duration": 526,
    "start_time": "2023-10-30T10:11:51.337Z"
   },
   {
    "duration": 16,
    "start_time": "2023-10-30T10:11:51.864Z"
   },
   {
    "duration": 33,
    "start_time": "2023-10-30T10:11:51.882Z"
   },
   {
    "duration": 56,
    "start_time": "2023-10-30T10:11:51.917Z"
   },
   {
    "duration": 6,
    "start_time": "2023-10-30T10:11:51.975Z"
   },
   {
    "duration": 90,
    "start_time": "2023-10-30T10:11:51.983Z"
   },
   {
    "duration": 11,
    "start_time": "2023-10-30T10:11:52.076Z"
   },
   {
    "duration": 40,
    "start_time": "2023-10-30T10:11:52.089Z"
   },
   {
    "duration": 52,
    "start_time": "2023-10-30T10:11:52.133Z"
   },
   {
    "duration": 77,
    "start_time": "2023-10-30T10:11:52.187Z"
   },
   {
    "duration": 16,
    "start_time": "2023-10-30T10:11:52.266Z"
   },
   {
    "duration": 73,
    "start_time": "2023-10-30T10:11:52.283Z"
   },
   {
    "duration": 55,
    "start_time": "2023-10-30T10:11:52.358Z"
   },
   {
    "duration": 20,
    "start_time": "2023-10-30T10:11:52.415Z"
   },
   {
    "duration": 46,
    "start_time": "2023-10-30T10:11:52.437Z"
   },
   {
    "duration": 17,
    "start_time": "2023-10-30T10:11:52.485Z"
   },
   {
    "duration": 20,
    "start_time": "2023-10-30T10:11:52.505Z"
   },
   {
    "duration": 31,
    "start_time": "2023-10-30T10:11:52.527Z"
   },
   {
    "duration": 49,
    "start_time": "2023-10-30T10:11:52.560Z"
   },
   {
    "duration": 163,
    "start_time": "2023-10-30T10:11:52.611Z"
   },
   {
    "duration": 9,
    "start_time": "2023-10-30T10:11:52.775Z"
   },
   {
    "duration": 59,
    "start_time": "2023-10-30T10:11:52.785Z"
   },
   {
    "duration": 35,
    "start_time": "2023-10-30T10:11:52.847Z"
   },
   {
    "duration": 2362,
    "start_time": "2023-10-30T10:11:52.885Z"
   },
   {
    "duration": 31,
    "start_time": "2023-10-30T10:11:55.250Z"
   },
   {
    "duration": 46,
    "start_time": "2023-10-30T10:11:55.283Z"
   },
   {
    "duration": 32,
    "start_time": "2023-10-30T10:11:55.333Z"
   },
   {
    "duration": 48,
    "start_time": "2023-10-30T10:11:55.367Z"
   },
   {
    "duration": 8972,
    "start_time": "2023-10-30T10:11:55.418Z"
   },
   {
    "duration": 0,
    "start_time": "2023-10-30T10:12:04.393Z"
   },
   {
    "duration": 0,
    "start_time": "2023-10-30T10:12:04.394Z"
   },
   {
    "duration": 0,
    "start_time": "2023-10-30T10:12:04.396Z"
   },
   {
    "duration": 0,
    "start_time": "2023-10-30T10:12:04.397Z"
   },
   {
    "duration": 0,
    "start_time": "2023-10-30T10:12:04.398Z"
   },
   {
    "duration": 0,
    "start_time": "2023-10-30T10:12:04.400Z"
   },
   {
    "duration": 0,
    "start_time": "2023-10-30T10:12:04.401Z"
   },
   {
    "duration": 0,
    "start_time": "2023-10-30T10:12:04.403Z"
   },
   {
    "duration": 0,
    "start_time": "2023-10-30T10:12:04.404Z"
   },
   {
    "duration": 0,
    "start_time": "2023-10-30T10:12:04.406Z"
   },
   {
    "duration": 4,
    "start_time": "2023-10-30T10:12:55.482Z"
   },
   {
    "duration": 10947,
    "start_time": "2023-10-30T10:12:56.385Z"
   },
   {
    "duration": 0,
    "start_time": "2023-10-30T10:13:07.334Z"
   },
   {
    "duration": 3020,
    "start_time": "2023-10-30T10:13:36.667Z"
   },
   {
    "duration": 4,
    "start_time": "2023-10-30T10:13:39.689Z"
   },
   {
    "duration": 11575,
    "start_time": "2023-10-30T10:13:39.695Z"
   },
   {
    "duration": 0,
    "start_time": "2023-10-30T10:13:51.271Z"
   },
   {
    "duration": 13403,
    "start_time": "2023-10-30T10:15:27.637Z"
   },
   {
    "duration": 14504,
    "start_time": "2023-10-30T10:18:35.883Z"
   },
   {
    "duration": 11647,
    "start_time": "2023-10-30T10:20:28.331Z"
   },
   {
    "duration": 62,
    "start_time": "2023-10-30T10:20:42.969Z"
   },
   {
    "duration": 1438,
    "start_time": "2023-10-30T10:21:22.615Z"
   },
   {
    "duration": 231,
    "start_time": "2023-10-30T10:21:24.055Z"
   },
   {
    "duration": 15,
    "start_time": "2023-10-30T10:21:24.288Z"
   },
   {
    "duration": 36,
    "start_time": "2023-10-30T10:21:24.305Z"
   },
   {
    "duration": 104,
    "start_time": "2023-10-30T10:21:24.343Z"
   },
   {
    "duration": 3,
    "start_time": "2023-10-30T10:21:24.449Z"
   },
   {
    "duration": 45,
    "start_time": "2023-10-30T10:21:24.454Z"
   },
   {
    "duration": 132,
    "start_time": "2023-10-30T10:21:24.502Z"
   },
   {
    "duration": 80,
    "start_time": "2023-10-30T10:21:24.636Z"
   },
   {
    "duration": 60,
    "start_time": "2023-10-30T10:21:24.720Z"
   },
   {
    "duration": 51,
    "start_time": "2023-10-30T10:21:24.782Z"
   },
   {
    "duration": 85,
    "start_time": "2023-10-30T10:21:24.834Z"
   },
   {
    "duration": 128,
    "start_time": "2023-10-30T10:21:24.921Z"
   },
   {
    "duration": 56,
    "start_time": "2023-10-30T10:21:25.051Z"
   },
   {
    "duration": 46,
    "start_time": "2023-10-30T10:21:25.109Z"
   },
   {
    "duration": 110,
    "start_time": "2023-10-30T10:21:25.156Z"
   },
   {
    "duration": 21,
    "start_time": "2023-10-30T10:21:25.267Z"
   },
   {
    "duration": 31,
    "start_time": "2023-10-30T10:21:25.290Z"
   },
   {
    "duration": 40,
    "start_time": "2023-10-30T10:21:25.323Z"
   },
   {
    "duration": 29,
    "start_time": "2023-10-30T10:21:25.365Z"
   },
   {
    "duration": 173,
    "start_time": "2023-10-30T10:21:25.396Z"
   },
   {
    "duration": 10,
    "start_time": "2023-10-30T10:21:25.571Z"
   },
   {
    "duration": 41,
    "start_time": "2023-10-30T10:21:25.582Z"
   },
   {
    "duration": 20,
    "start_time": "2023-10-30T10:21:25.625Z"
   },
   {
    "duration": 2185,
    "start_time": "2023-10-30T10:21:25.647Z"
   },
   {
    "duration": 34,
    "start_time": "2023-10-30T10:21:27.834Z"
   },
   {
    "duration": 3,
    "start_time": "2023-10-30T10:21:27.870Z"
   },
   {
    "duration": 46,
    "start_time": "2023-10-30T10:21:27.876Z"
   },
   {
    "duration": 53,
    "start_time": "2023-10-30T10:21:27.924Z"
   },
   {
    "duration": 11039,
    "start_time": "2023-10-30T10:21:27.979Z"
   },
   {
    "duration": 0,
    "start_time": "2023-10-30T10:21:39.020Z"
   },
   {
    "duration": 0,
    "start_time": "2023-10-30T10:21:39.021Z"
   },
   {
    "duration": 0,
    "start_time": "2023-10-30T10:21:39.022Z"
   },
   {
    "duration": 0,
    "start_time": "2023-10-30T10:21:39.023Z"
   },
   {
    "duration": 0,
    "start_time": "2023-10-30T10:21:39.024Z"
   },
   {
    "duration": 0,
    "start_time": "2023-10-30T10:21:39.026Z"
   },
   {
    "duration": 0,
    "start_time": "2023-10-30T10:21:39.026Z"
   },
   {
    "duration": 0,
    "start_time": "2023-10-30T10:21:39.027Z"
   },
   {
    "duration": 0,
    "start_time": "2023-10-30T10:21:39.028Z"
   },
   {
    "duration": 0,
    "start_time": "2023-10-30T10:21:39.029Z"
   },
   {
    "duration": 11248,
    "start_time": "2023-10-30T10:21:47.044Z"
   },
   {
    "duration": 0,
    "start_time": "2023-10-30T10:21:58.294Z"
   },
   {
    "duration": 5,
    "start_time": "2023-10-30T10:24:29.040Z"
   },
   {
    "duration": 6396,
    "start_time": "2023-10-30T10:24:29.764Z"
   },
   {
    "duration": 37,
    "start_time": "2023-10-30T10:26:25.968Z"
   },
   {
    "duration": 12,
    "start_time": "2023-10-30T10:27:13.966Z"
   },
   {
    "duration": 52,
    "start_time": "2023-10-30T10:29:25.043Z"
   },
   {
    "duration": 1351,
    "start_time": "2023-10-30T10:30:09.515Z"
   },
   {
    "duration": 274,
    "start_time": "2023-10-30T10:30:10.868Z"
   },
   {
    "duration": 16,
    "start_time": "2023-10-30T10:30:11.147Z"
   },
   {
    "duration": 7,
    "start_time": "2023-10-30T10:30:11.164Z"
   },
   {
    "duration": 42,
    "start_time": "2023-10-30T10:30:11.173Z"
   },
   {
    "duration": 3,
    "start_time": "2023-10-30T10:30:11.217Z"
   },
   {
    "duration": 68,
    "start_time": "2023-10-30T10:30:11.222Z"
   },
   {
    "duration": 8,
    "start_time": "2023-10-30T10:30:11.291Z"
   },
   {
    "duration": 33,
    "start_time": "2023-10-30T10:30:11.300Z"
   },
   {
    "duration": 36,
    "start_time": "2023-10-30T10:30:11.335Z"
   },
   {
    "duration": 18,
    "start_time": "2023-10-30T10:30:11.373Z"
   },
   {
    "duration": 4,
    "start_time": "2023-10-30T10:30:11.393Z"
   },
   {
    "duration": 21,
    "start_time": "2023-10-30T10:30:11.399Z"
   },
   {
    "duration": 49,
    "start_time": "2023-10-30T10:30:11.422Z"
   },
   {
    "duration": 11,
    "start_time": "2023-10-30T10:30:11.474Z"
   },
   {
    "duration": 19,
    "start_time": "2023-10-30T10:30:11.486Z"
   },
   {
    "duration": 5,
    "start_time": "2023-10-30T10:30:11.506Z"
   },
   {
    "duration": 7,
    "start_time": "2023-10-30T10:30:11.512Z"
   },
   {
    "duration": 37,
    "start_time": "2023-10-30T10:30:11.520Z"
   },
   {
    "duration": 17,
    "start_time": "2023-10-30T10:30:11.560Z"
   },
   {
    "duration": 146,
    "start_time": "2023-10-30T10:30:11.578Z"
   },
   {
    "duration": 8,
    "start_time": "2023-10-30T10:30:11.726Z"
   },
   {
    "duration": 20,
    "start_time": "2023-10-30T10:30:11.749Z"
   },
   {
    "duration": 9,
    "start_time": "2023-10-30T10:30:11.771Z"
   },
   {
    "duration": 2165,
    "start_time": "2023-10-30T10:30:11.782Z"
   },
   {
    "duration": 31,
    "start_time": "2023-10-30T10:30:13.950Z"
   },
   {
    "duration": 4,
    "start_time": "2023-10-30T10:30:13.983Z"
   },
   {
    "duration": 16,
    "start_time": "2023-10-30T10:30:13.991Z"
   },
   {
    "duration": 41,
    "start_time": "2023-10-30T10:30:14.008Z"
   },
   {
    "duration": 24,
    "start_time": "2023-10-30T10:30:14.052Z"
   },
   {
    "duration": 5889,
    "start_time": "2023-10-30T10:30:14.078Z"
   },
   {
    "duration": 108,
    "start_time": "2023-10-30T10:30:19.969Z"
   },
   {
    "duration": 0,
    "start_time": "2023-10-30T10:30:20.078Z"
   },
   {
    "duration": 0,
    "start_time": "2023-10-30T10:30:20.079Z"
   },
   {
    "duration": 0,
    "start_time": "2023-10-30T10:30:20.080Z"
   },
   {
    "duration": 0,
    "start_time": "2023-10-30T10:30:20.082Z"
   },
   {
    "duration": 0,
    "start_time": "2023-10-30T10:30:20.083Z"
   },
   {
    "duration": 0,
    "start_time": "2023-10-30T10:30:20.085Z"
   },
   {
    "duration": 0,
    "start_time": "2023-10-30T10:30:20.086Z"
   },
   {
    "duration": 0,
    "start_time": "2023-10-30T10:30:20.087Z"
   },
   {
    "duration": 0,
    "start_time": "2023-10-30T10:30:20.089Z"
   },
   {
    "duration": 12,
    "start_time": "2023-10-30T10:35:28.761Z"
   },
   {
    "duration": 5356,
    "start_time": "2023-10-30T10:46:05.491Z"
   },
   {
    "duration": 5264,
    "start_time": "2023-10-30T10:46:38.188Z"
   },
   {
    "duration": 5451,
    "start_time": "2023-10-30T10:47:17.190Z"
   },
   {
    "duration": 17,
    "start_time": "2023-10-30T10:51:59.529Z"
   },
   {
    "duration": 37,
    "start_time": "2023-10-30T10:52:17.087Z"
   },
   {
    "duration": 13,
    "start_time": "2023-10-30T10:53:13.185Z"
   },
   {
    "duration": 5107,
    "start_time": "2023-10-30T10:56:09.767Z"
   },
   {
    "duration": 6,
    "start_time": "2023-10-30T10:57:57.794Z"
   },
   {
    "duration": 51,
    "start_time": "2023-10-30T11:00:55.721Z"
   },
   {
    "duration": 1347,
    "start_time": "2023-10-30T11:01:16.904Z"
   },
   {
    "duration": 286,
    "start_time": "2023-10-30T11:01:18.253Z"
   },
   {
    "duration": 16,
    "start_time": "2023-10-30T11:01:18.541Z"
   },
   {
    "duration": 30,
    "start_time": "2023-10-30T11:01:18.560Z"
   },
   {
    "duration": 58,
    "start_time": "2023-10-30T11:01:18.592Z"
   },
   {
    "duration": 6,
    "start_time": "2023-10-30T11:01:18.652Z"
   },
   {
    "duration": 55,
    "start_time": "2023-10-30T11:01:18.660Z"
   },
   {
    "duration": 6,
    "start_time": "2023-10-30T11:01:18.716Z"
   },
   {
    "duration": 25,
    "start_time": "2023-10-30T11:01:18.723Z"
   },
   {
    "duration": 24,
    "start_time": "2023-10-30T11:01:18.752Z"
   },
   {
    "duration": 32,
    "start_time": "2023-10-30T11:01:18.778Z"
   },
   {
    "duration": 19,
    "start_time": "2023-10-30T11:01:18.811Z"
   },
   {
    "duration": 32,
    "start_time": "2023-10-30T11:01:18.832Z"
   },
   {
    "duration": 51,
    "start_time": "2023-10-30T11:01:18.866Z"
   },
   {
    "duration": 13,
    "start_time": "2023-10-30T11:01:18.919Z"
   },
   {
    "duration": 32,
    "start_time": "2023-10-30T11:01:18.933Z"
   },
   {
    "duration": 12,
    "start_time": "2023-10-30T11:01:18.966Z"
   },
   {
    "duration": 28,
    "start_time": "2023-10-30T11:01:18.980Z"
   },
   {
    "duration": 38,
    "start_time": "2023-10-30T11:01:19.010Z"
   },
   {
    "duration": 31,
    "start_time": "2023-10-30T11:01:19.050Z"
   },
   {
    "duration": 164,
    "start_time": "2023-10-30T11:01:19.083Z"
   },
   {
    "duration": 8,
    "start_time": "2023-10-30T11:01:19.249Z"
   },
   {
    "duration": 38,
    "start_time": "2023-10-30T11:01:19.259Z"
   },
   {
    "duration": 16,
    "start_time": "2023-10-30T11:01:19.298Z"
   },
   {
    "duration": 2117,
    "start_time": "2023-10-30T11:01:19.316Z"
   },
   {
    "duration": 15,
    "start_time": "2023-10-30T11:01:21.435Z"
   },
   {
    "duration": 40,
    "start_time": "2023-10-30T11:01:21.452Z"
   },
   {
    "duration": 5624,
    "start_time": "2023-10-30T11:01:21.495Z"
   },
   {
    "duration": 59,
    "start_time": "2023-10-30T11:01:27.120Z"
   },
   {
    "duration": 15,
    "start_time": "2023-10-30T11:01:27.180Z"
   },
   {
    "duration": 48,
    "start_time": "2023-10-30T11:01:27.197Z"
   },
   {
    "duration": 123,
    "start_time": "2023-10-30T11:01:27.247Z"
   },
   {
    "duration": 0,
    "start_time": "2023-10-30T11:01:27.372Z"
   },
   {
    "duration": 0,
    "start_time": "2023-10-30T11:01:27.374Z"
   },
   {
    "duration": 0,
    "start_time": "2023-10-30T11:01:27.375Z"
   },
   {
    "duration": 0,
    "start_time": "2023-10-30T11:01:27.376Z"
   },
   {
    "duration": 0,
    "start_time": "2023-10-30T11:01:27.378Z"
   },
   {
    "duration": 0,
    "start_time": "2023-10-30T11:01:27.379Z"
   },
   {
    "duration": 5218,
    "start_time": "2023-10-30T11:05:10.054Z"
   },
   {
    "duration": 17,
    "start_time": "2023-10-30T11:06:19.666Z"
   },
   {
    "duration": 8,
    "start_time": "2023-10-30T11:13:31.360Z"
   },
   {
    "duration": 24,
    "start_time": "2023-10-30T11:15:28.939Z"
   },
   {
    "duration": 16,
    "start_time": "2023-10-30T11:16:15.916Z"
   },
   {
    "duration": 20,
    "start_time": "2023-10-30T11:16:36.052Z"
   },
   {
    "duration": 151,
    "start_time": "2023-10-30T11:17:41.469Z"
   },
   {
    "duration": 14,
    "start_time": "2023-10-30T11:18:03.507Z"
   },
   {
    "duration": 138,
    "start_time": "2023-10-30T11:23:09.764Z"
   },
   {
    "duration": 195,
    "start_time": "2023-10-30T11:23:27.079Z"
   },
   {
    "duration": 185,
    "start_time": "2023-10-30T11:26:45.877Z"
   },
   {
    "duration": 111,
    "start_time": "2023-10-30T11:27:41.481Z"
   },
   {
    "duration": 114,
    "start_time": "2023-10-30T11:28:13.234Z"
   },
   {
    "duration": 162,
    "start_time": "2023-10-30T11:28:37.695Z"
   },
   {
    "duration": 10,
    "start_time": "2023-10-30T11:28:55.239Z"
   },
   {
    "duration": 10,
    "start_time": "2023-10-30T11:29:15.699Z"
   },
   {
    "duration": 10,
    "start_time": "2023-10-30T11:29:22.274Z"
   },
   {
    "duration": 124,
    "start_time": "2023-10-30T11:31:56.300Z"
   },
   {
    "duration": 158,
    "start_time": "2023-10-30T11:34:03.417Z"
   },
   {
    "duration": 10,
    "start_time": "2023-10-30T11:34:20.985Z"
   },
   {
    "duration": 162,
    "start_time": "2023-10-30T11:37:52.678Z"
   },
   {
    "duration": 236,
    "start_time": "2023-10-30T11:38:20.624Z"
   },
   {
    "duration": 463,
    "start_time": "2023-10-30T11:39:57.394Z"
   },
   {
    "duration": 389,
    "start_time": "2023-10-30T11:40:13.716Z"
   },
   {
    "duration": 138,
    "start_time": "2023-10-30T11:46:49.234Z"
   },
   {
    "duration": 1320,
    "start_time": "2023-10-30T11:50:55.333Z"
   },
   {
    "duration": 1323,
    "start_time": "2023-10-30T11:54:10.215Z"
   },
   {
    "duration": 1294,
    "start_time": "2023-10-30T11:56:06.701Z"
   },
   {
    "duration": 340,
    "start_time": "2023-10-30T11:56:07.997Z"
   },
   {
    "duration": 15,
    "start_time": "2023-10-30T11:56:08.338Z"
   },
   {
    "duration": 19,
    "start_time": "2023-10-30T11:56:08.355Z"
   },
   {
    "duration": 51,
    "start_time": "2023-10-30T11:56:08.375Z"
   },
   {
    "duration": 16,
    "start_time": "2023-10-30T11:56:08.428Z"
   },
   {
    "duration": 48,
    "start_time": "2023-10-30T11:56:08.445Z"
   },
   {
    "duration": 4,
    "start_time": "2023-10-30T11:56:08.495Z"
   },
   {
    "duration": 31,
    "start_time": "2023-10-30T11:56:08.500Z"
   },
   {
    "duration": 6,
    "start_time": "2023-10-30T11:56:08.533Z"
   },
   {
    "duration": 29,
    "start_time": "2023-10-30T11:56:08.540Z"
   },
   {
    "duration": 4,
    "start_time": "2023-10-30T11:56:08.570Z"
   },
   {
    "duration": 38,
    "start_time": "2023-10-30T11:56:08.575Z"
   },
   {
    "duration": 42,
    "start_time": "2023-10-30T11:56:08.645Z"
   },
   {
    "duration": 11,
    "start_time": "2023-10-30T11:56:08.689Z"
   },
   {
    "duration": 17,
    "start_time": "2023-10-30T11:56:08.743Z"
   },
   {
    "duration": 7,
    "start_time": "2023-10-30T11:56:08.762Z"
   },
   {
    "duration": 9,
    "start_time": "2023-10-30T11:56:08.770Z"
   },
   {
    "duration": 13,
    "start_time": "2023-10-30T11:56:08.781Z"
   },
   {
    "duration": 5,
    "start_time": "2023-10-30T11:56:08.795Z"
   },
   {
    "duration": 141,
    "start_time": "2023-10-30T11:56:08.802Z"
   },
   {
    "duration": 8,
    "start_time": "2023-10-30T11:56:08.945Z"
   },
   {
    "duration": 44,
    "start_time": "2023-10-30T11:56:08.955Z"
   },
   {
    "duration": 11,
    "start_time": "2023-10-30T11:56:09.000Z"
   },
   {
    "duration": 1996,
    "start_time": "2023-10-30T11:56:09.013Z"
   },
   {
    "duration": 14,
    "start_time": "2023-10-30T11:56:11.012Z"
   },
   {
    "duration": 20,
    "start_time": "2023-10-30T11:56:11.028Z"
   },
   {
    "duration": 5225,
    "start_time": "2023-10-30T11:56:11.053Z"
   },
   {
    "duration": 67,
    "start_time": "2023-10-30T11:56:16.280Z"
   },
   {
    "duration": 15,
    "start_time": "2023-10-30T11:56:16.349Z"
   },
   {
    "duration": 64,
    "start_time": "2023-10-30T11:56:16.366Z"
   },
   {
    "duration": 54,
    "start_time": "2023-10-30T11:56:16.431Z"
   },
   {
    "duration": 137,
    "start_time": "2023-10-30T11:56:16.486Z"
   },
   {
    "duration": 0,
    "start_time": "2023-10-30T11:56:16.625Z"
   },
   {
    "duration": 0,
    "start_time": "2023-10-30T11:56:16.627Z"
   },
   {
    "duration": 0,
    "start_time": "2023-10-30T11:56:16.628Z"
   },
   {
    "duration": 0,
    "start_time": "2023-10-30T11:56:16.630Z"
   },
   {
    "duration": 0,
    "start_time": "2023-10-30T11:56:16.644Z"
   },
   {
    "duration": 0,
    "start_time": "2023-10-30T11:56:16.645Z"
   },
   {
    "duration": 0,
    "start_time": "2023-10-30T11:56:16.647Z"
   },
   {
    "duration": 0,
    "start_time": "2023-10-30T11:56:16.648Z"
   },
   {
    "duration": 7,
    "start_time": "2023-10-30T11:57:24.588Z"
   },
   {
    "duration": 16,
    "start_time": "2023-10-30T11:57:25.631Z"
   },
   {
    "duration": 132,
    "start_time": "2023-10-30T11:57:49.574Z"
   },
   {
    "duration": 107,
    "start_time": "2023-10-30T11:57:51.933Z"
   },
   {
    "duration": 155,
    "start_time": "2023-10-30T11:57:52.708Z"
   },
   {
    "duration": 155,
    "start_time": "2023-10-30T11:57:53.320Z"
   },
   {
    "duration": 389,
    "start_time": "2023-10-30T11:58:00.295Z"
   },
   {
    "duration": 130,
    "start_time": "2023-10-30T11:58:09.690Z"
   },
   {
    "duration": 1282,
    "start_time": "2023-10-30T11:58:17.743Z"
   },
   {
    "duration": 1246,
    "start_time": "2023-10-30T11:58:33.730Z"
   },
   {
    "duration": 205,
    "start_time": "2023-10-30T11:58:34.978Z"
   },
   {
    "duration": 13,
    "start_time": "2023-10-30T11:58:35.185Z"
   },
   {
    "duration": 21,
    "start_time": "2023-10-30T11:58:35.200Z"
   },
   {
    "duration": 68,
    "start_time": "2023-10-30T11:58:35.223Z"
   },
   {
    "duration": 33,
    "start_time": "2023-10-30T11:58:35.293Z"
   },
   {
    "duration": 57,
    "start_time": "2023-10-30T11:58:35.327Z"
   },
   {
    "duration": 40,
    "start_time": "2023-10-30T11:58:35.385Z"
   },
   {
    "duration": 35,
    "start_time": "2023-10-30T11:58:35.426Z"
   },
   {
    "duration": 31,
    "start_time": "2023-10-30T11:58:35.463Z"
   },
   {
    "duration": 40,
    "start_time": "2023-10-30T11:58:35.496Z"
   },
   {
    "duration": 46,
    "start_time": "2023-10-30T11:58:35.538Z"
   },
   {
    "duration": 83,
    "start_time": "2023-10-30T11:58:35.586Z"
   },
   {
    "duration": 37,
    "start_time": "2023-10-30T11:58:35.672Z"
   },
   {
    "duration": 14,
    "start_time": "2023-10-30T11:58:35.711Z"
   },
   {
    "duration": 56,
    "start_time": "2023-10-30T11:58:35.726Z"
   },
   {
    "duration": 5,
    "start_time": "2023-10-30T11:58:35.784Z"
   },
   {
    "duration": 14,
    "start_time": "2023-10-30T11:58:35.790Z"
   },
   {
    "duration": 115,
    "start_time": "2023-10-30T11:58:35.806Z"
   },
   {
    "duration": 25,
    "start_time": "2023-10-30T11:58:35.923Z"
   },
   {
    "duration": 128,
    "start_time": "2023-10-30T11:58:35.949Z"
   },
   {
    "duration": 9,
    "start_time": "2023-10-30T11:58:36.078Z"
   },
   {
    "duration": 23,
    "start_time": "2023-10-30T11:58:36.089Z"
   },
   {
    "duration": 15,
    "start_time": "2023-10-30T11:58:36.114Z"
   },
   {
    "duration": 1991,
    "start_time": "2023-10-30T11:58:36.130Z"
   },
   {
    "duration": 14,
    "start_time": "2023-10-30T11:58:38.122Z"
   },
   {
    "duration": 4,
    "start_time": "2023-10-30T11:58:38.144Z"
   },
   {
    "duration": 5213,
    "start_time": "2023-10-30T11:58:38.149Z"
   },
   {
    "duration": 53,
    "start_time": "2023-10-30T11:58:43.364Z"
   },
   {
    "duration": 34,
    "start_time": "2023-10-30T11:58:43.419Z"
   },
   {
    "duration": 58,
    "start_time": "2023-10-30T11:58:43.455Z"
   },
   {
    "duration": 16,
    "start_time": "2023-10-30T11:58:43.515Z"
   },
   {
    "duration": 42,
    "start_time": "2023-10-30T11:58:43.533Z"
   },
   {
    "duration": 32,
    "start_time": "2023-10-30T11:58:43.576Z"
   },
   {
    "duration": 161,
    "start_time": "2023-10-30T11:58:43.609Z"
   },
   {
    "duration": 139,
    "start_time": "2023-10-30T11:58:43.771Z"
   },
   {
    "duration": 175,
    "start_time": "2023-10-30T11:58:43.911Z"
   },
   {
    "duration": 155,
    "start_time": "2023-10-30T11:58:44.088Z"
   },
   {
    "duration": 412,
    "start_time": "2023-10-30T11:58:44.245Z"
   },
   {
    "duration": 142,
    "start_time": "2023-10-30T11:58:44.659Z"
   },
   {
    "duration": 2154,
    "start_time": "2023-10-30T11:58:44.805Z"
   },
   {
    "duration": 0,
    "start_time": "2023-10-30T11:58:46.961Z"
   },
   {
    "duration": 5,
    "start_time": "2023-10-30T12:04:44.833Z"
   },
   {
    "duration": 2098,
    "start_time": "2023-10-30T12:05:07.447Z"
   },
   {
    "duration": 2231,
    "start_time": "2023-10-30T12:05:50.198Z"
   },
   {
    "duration": 1262,
    "start_time": "2023-10-30T12:13:31.727Z"
   },
   {
    "duration": 274,
    "start_time": "2023-10-30T12:13:32.991Z"
   },
   {
    "duration": 23,
    "start_time": "2023-10-30T12:13:33.267Z"
   },
   {
    "duration": 27,
    "start_time": "2023-10-30T12:13:33.292Z"
   },
   {
    "duration": 37,
    "start_time": "2023-10-30T12:13:33.323Z"
   },
   {
    "duration": 2,
    "start_time": "2023-10-30T12:13:33.362Z"
   },
   {
    "duration": 38,
    "start_time": "2023-10-30T12:13:33.366Z"
   },
   {
    "duration": 4,
    "start_time": "2023-10-30T12:13:33.406Z"
   },
   {
    "duration": 15,
    "start_time": "2023-10-30T12:13:33.412Z"
   },
   {
    "duration": 24,
    "start_time": "2023-10-30T12:13:33.429Z"
   },
   {
    "duration": 30,
    "start_time": "2023-10-30T12:13:33.455Z"
   },
   {
    "duration": 27,
    "start_time": "2023-10-30T12:13:33.486Z"
   },
   {
    "duration": 22,
    "start_time": "2023-10-30T12:13:33.515Z"
   },
   {
    "duration": 42,
    "start_time": "2023-10-30T12:13:33.540Z"
   },
   {
    "duration": 12,
    "start_time": "2023-10-30T12:13:33.583Z"
   },
   {
    "duration": 24,
    "start_time": "2023-10-30T12:13:33.598Z"
   },
   {
    "duration": 5,
    "start_time": "2023-10-30T12:13:33.625Z"
   },
   {
    "duration": 6,
    "start_time": "2023-10-30T12:13:33.644Z"
   },
   {
    "duration": 17,
    "start_time": "2023-10-30T12:13:33.652Z"
   },
   {
    "duration": 18,
    "start_time": "2023-10-30T12:13:33.671Z"
   },
   {
    "duration": 191,
    "start_time": "2023-10-30T12:13:33.690Z"
   },
   {
    "duration": 12,
    "start_time": "2023-10-30T12:13:33.883Z"
   },
   {
    "duration": 31,
    "start_time": "2023-10-30T12:13:33.897Z"
   },
   {
    "duration": 19,
    "start_time": "2023-10-30T12:13:33.930Z"
   },
   {
    "duration": 2115,
    "start_time": "2023-10-30T12:13:33.951Z"
   },
   {
    "duration": 14,
    "start_time": "2023-10-30T12:13:36.067Z"
   },
   {
    "duration": 13,
    "start_time": "2023-10-30T12:13:36.083Z"
   },
   {
    "duration": 5133,
    "start_time": "2023-10-30T12:13:36.098Z"
   },
   {
    "duration": 55,
    "start_time": "2023-10-30T12:13:41.233Z"
   },
   {
    "duration": 15,
    "start_time": "2023-10-30T12:13:41.289Z"
   },
   {
    "duration": 41,
    "start_time": "2023-10-30T12:13:41.305Z"
   },
   {
    "duration": 9,
    "start_time": "2023-10-30T12:13:41.347Z"
   },
   {
    "duration": 7,
    "start_time": "2023-10-30T12:13:41.357Z"
   },
   {
    "duration": 16,
    "start_time": "2023-10-30T12:13:41.365Z"
   },
   {
    "duration": 163,
    "start_time": "2023-10-30T12:13:41.382Z"
   },
   {
    "duration": 118,
    "start_time": "2023-10-30T12:13:41.547Z"
   },
   {
    "duration": 173,
    "start_time": "2023-10-30T12:13:41.666Z"
   },
   {
    "duration": 164,
    "start_time": "2023-10-30T12:13:41.844Z"
   },
   {
    "duration": 370,
    "start_time": "2023-10-30T12:13:42.010Z"
   },
   {
    "duration": 141,
    "start_time": "2023-10-30T12:13:42.382Z"
   },
   {
    "duration": 4,
    "start_time": "2023-10-30T12:13:42.527Z"
   },
   {
    "duration": 1394,
    "start_time": "2023-10-30T12:13:42.546Z"
   },
   {
    "duration": 4,
    "start_time": "2023-10-30T12:15:02.817Z"
   },
   {
    "duration": 5,
    "start_time": "2023-10-30T12:15:08.317Z"
   },
   {
    "duration": 1488,
    "start_time": "2023-10-30T12:15:09.052Z"
   },
   {
    "duration": 1381,
    "start_time": "2023-10-30T12:18:35.677Z"
   },
   {
    "duration": 5,
    "start_time": "2023-10-30T12:19:54.466Z"
   },
   {
    "duration": 1470,
    "start_time": "2023-10-30T12:19:57.662Z"
   },
   {
    "duration": 1735,
    "start_time": "2023-10-30T12:26:06.868Z"
   },
   {
    "duration": 5413,
    "start_time": "2023-10-30T12:27:58.662Z"
   },
   {
    "duration": 4,
    "start_time": "2023-10-30T12:28:04.077Z"
   },
   {
    "duration": 2063,
    "start_time": "2023-10-30T12:28:04.083Z"
   },
   {
    "duration": 1217,
    "start_time": "2023-10-30T12:28:57.190Z"
   },
   {
    "duration": 1168,
    "start_time": "2023-10-30T12:28:58.409Z"
   },
   {
    "duration": 14,
    "start_time": "2023-10-30T12:28:59.578Z"
   },
   {
    "duration": 41,
    "start_time": "2023-10-30T12:28:59.594Z"
   },
   {
    "duration": 68,
    "start_time": "2023-10-30T12:28:59.637Z"
   },
   {
    "duration": 4,
    "start_time": "2023-10-30T12:28:59.707Z"
   },
   {
    "duration": 34,
    "start_time": "2023-10-30T12:28:59.713Z"
   },
   {
    "duration": 4,
    "start_time": "2023-10-30T12:28:59.749Z"
   },
   {
    "duration": 19,
    "start_time": "2023-10-30T12:28:59.755Z"
   },
   {
    "duration": 6,
    "start_time": "2023-10-30T12:28:59.776Z"
   },
   {
    "duration": 20,
    "start_time": "2023-10-30T12:28:59.784Z"
   },
   {
    "duration": 5,
    "start_time": "2023-10-30T12:28:59.806Z"
   },
   {
    "duration": 33,
    "start_time": "2023-10-30T12:28:59.813Z"
   },
   {
    "duration": 41,
    "start_time": "2023-10-30T12:28:59.850Z"
   },
   {
    "duration": 12,
    "start_time": "2023-10-30T12:28:59.893Z"
   },
   {
    "duration": 56,
    "start_time": "2023-10-30T12:28:59.907Z"
   },
   {
    "duration": 54,
    "start_time": "2023-10-30T12:28:59.965Z"
   },
   {
    "duration": 62,
    "start_time": "2023-10-30T12:29:00.022Z"
   },
   {
    "duration": 58,
    "start_time": "2023-10-30T12:29:00.086Z"
   },
   {
    "duration": 60,
    "start_time": "2023-10-30T12:29:00.145Z"
   },
   {
    "duration": 161,
    "start_time": "2023-10-30T12:29:00.207Z"
   },
   {
    "duration": 10,
    "start_time": "2023-10-30T12:29:00.370Z"
   },
   {
    "duration": 48,
    "start_time": "2023-10-30T12:29:00.381Z"
   },
   {
    "duration": 111,
    "start_time": "2023-10-30T12:29:00.431Z"
   },
   {
    "duration": 2084,
    "start_time": "2023-10-30T12:29:00.544Z"
   },
   {
    "duration": 25,
    "start_time": "2023-10-30T12:29:02.629Z"
   },
   {
    "duration": 16,
    "start_time": "2023-10-30T12:29:02.656Z"
   },
   {
    "duration": 5336,
    "start_time": "2023-10-30T12:29:02.674Z"
   },
   {
    "duration": 65,
    "start_time": "2023-10-30T12:29:08.012Z"
   },
   {
    "duration": 14,
    "start_time": "2023-10-30T12:29:08.079Z"
   },
   {
    "duration": 31,
    "start_time": "2023-10-30T12:29:08.094Z"
   },
   {
    "duration": 45,
    "start_time": "2023-10-30T12:29:08.127Z"
   },
   {
    "duration": 20,
    "start_time": "2023-10-30T12:29:08.173Z"
   },
   {
    "duration": 30,
    "start_time": "2023-10-30T12:29:08.195Z"
   },
   {
    "duration": 138,
    "start_time": "2023-10-30T12:29:08.227Z"
   },
   {
    "duration": 120,
    "start_time": "2023-10-30T12:29:08.367Z"
   },
   {
    "duration": 180,
    "start_time": "2023-10-30T12:29:08.489Z"
   },
   {
    "duration": 168,
    "start_time": "2023-10-30T12:29:08.671Z"
   },
   {
    "duration": 366,
    "start_time": "2023-10-30T12:29:08.844Z"
   },
   {
    "duration": 145,
    "start_time": "2023-10-30T12:29:09.212Z"
   },
   {
    "duration": 4,
    "start_time": "2023-10-30T12:29:09.362Z"
   },
   {
    "duration": 2464,
    "start_time": "2023-10-30T12:29:09.368Z"
   },
   {
    "duration": 20,
    "start_time": "2023-10-30T12:33:46.223Z"
   },
   {
    "duration": 1370,
    "start_time": "2023-10-30T12:38:28.223Z"
   },
   {
    "duration": 4,
    "start_time": "2023-10-30T12:38:58.495Z"
   },
   {
    "duration": 5389,
    "start_time": "2023-10-30T12:45:23.939Z"
   },
   {
    "duration": 60,
    "start_time": "2023-10-30T12:45:29.330Z"
   },
   {
    "duration": 6302,
    "start_time": "2023-10-30T12:45:38.887Z"
   },
   {
    "duration": 5042,
    "start_time": "2023-10-30T12:49:14.595Z"
   },
   {
    "duration": 52,
    "start_time": "2023-10-30T12:49:19.639Z"
   },
   {
    "duration": 1592,
    "start_time": "2023-10-30T12:54:38.932Z"
   },
   {
    "duration": 1815,
    "start_time": "2023-10-30T12:57:45.005Z"
   },
   {
    "duration": 48,
    "start_time": "2023-10-30T12:59:53.201Z"
   },
   {
    "duration": 1072,
    "start_time": "2023-10-30T12:59:55.959Z"
   },
   {
    "duration": 47,
    "start_time": "2023-10-30T13:00:19.156Z"
   },
   {
    "duration": 4,
    "start_time": "2023-10-30T13:00:20.128Z"
   },
   {
    "duration": 84,
    "start_time": "2023-10-30T13:00:21.717Z"
   },
   {
    "duration": 176,
    "start_time": "2023-10-30T13:01:43.208Z"
   },
   {
    "duration": 10,
    "start_time": "2023-10-30T13:02:15.466Z"
   },
   {
    "duration": 10,
    "start_time": "2023-10-30T13:04:33.694Z"
   },
   {
    "duration": 10,
    "start_time": "2023-10-30T13:07:46.087Z"
   },
   {
    "duration": 5,
    "start_time": "2023-10-30T13:09:20.332Z"
   },
   {
    "duration": 8,
    "start_time": "2023-10-30T13:09:21.180Z"
   },
   {
    "duration": 9,
    "start_time": "2023-10-30T13:09:38.512Z"
   },
   {
    "duration": 1168,
    "start_time": "2023-10-30T13:10:38.475Z"
   },
   {
    "duration": 284,
    "start_time": "2023-10-30T13:10:39.645Z"
   },
   {
    "duration": 15,
    "start_time": "2023-10-30T13:10:39.930Z"
   },
   {
    "duration": 27,
    "start_time": "2023-10-30T13:10:39.947Z"
   },
   {
    "duration": 41,
    "start_time": "2023-10-30T13:10:39.977Z"
   },
   {
    "duration": 18,
    "start_time": "2023-10-30T13:10:40.020Z"
   },
   {
    "duration": 94,
    "start_time": "2023-10-30T13:10:40.039Z"
   },
   {
    "duration": 77,
    "start_time": "2023-10-30T13:10:40.135Z"
   },
   {
    "duration": 27,
    "start_time": "2023-10-30T13:10:40.213Z"
   },
   {
    "duration": 37,
    "start_time": "2023-10-30T13:10:40.241Z"
   },
   {
    "duration": 41,
    "start_time": "2023-10-30T13:10:40.280Z"
   },
   {
    "duration": 23,
    "start_time": "2023-10-30T13:10:40.322Z"
   },
   {
    "duration": 36,
    "start_time": "2023-10-30T13:10:40.347Z"
   },
   {
    "duration": 92,
    "start_time": "2023-10-30T13:10:40.385Z"
   },
   {
    "duration": 14,
    "start_time": "2023-10-30T13:10:40.478Z"
   },
   {
    "duration": 41,
    "start_time": "2023-10-30T13:10:40.493Z"
   },
   {
    "duration": 19,
    "start_time": "2023-10-30T13:10:40.535Z"
   },
   {
    "duration": 23,
    "start_time": "2023-10-30T13:10:40.556Z"
   },
   {
    "duration": 25,
    "start_time": "2023-10-30T13:10:40.581Z"
   },
   {
    "duration": 11,
    "start_time": "2023-10-30T13:10:40.608Z"
   },
   {
    "duration": 146,
    "start_time": "2023-10-30T13:10:40.620Z"
   },
   {
    "duration": 9,
    "start_time": "2023-10-30T13:10:40.768Z"
   },
   {
    "duration": 36,
    "start_time": "2023-10-30T13:10:40.778Z"
   },
   {
    "duration": 16,
    "start_time": "2023-10-30T13:10:40.816Z"
   },
   {
    "duration": 1938,
    "start_time": "2023-10-30T13:10:40.834Z"
   },
   {
    "duration": 15,
    "start_time": "2023-10-30T13:10:42.774Z"
   },
   {
    "duration": 5,
    "start_time": "2023-10-30T13:10:42.790Z"
   },
   {
    "duration": 5295,
    "start_time": "2023-10-30T13:10:42.797Z"
   },
   {
    "duration": 66,
    "start_time": "2023-10-30T13:10:48.094Z"
   },
   {
    "duration": 15,
    "start_time": "2023-10-30T13:10:48.161Z"
   },
   {
    "duration": 25,
    "start_time": "2023-10-30T13:10:48.177Z"
   },
   {
    "duration": 13,
    "start_time": "2023-10-30T13:10:48.203Z"
   },
   {
    "duration": 17,
    "start_time": "2023-10-30T13:10:48.217Z"
   },
   {
    "duration": 28,
    "start_time": "2023-10-30T13:10:48.236Z"
   },
   {
    "duration": 146,
    "start_time": "2023-10-30T13:10:48.265Z"
   },
   {
    "duration": 107,
    "start_time": "2023-10-30T13:10:48.412Z"
   },
   {
    "duration": 195,
    "start_time": "2023-10-30T13:10:48.521Z"
   },
   {
    "duration": 160,
    "start_time": "2023-10-30T13:10:48.718Z"
   },
   {
    "duration": 372,
    "start_time": "2023-10-30T13:10:48.880Z"
   },
   {
    "duration": 143,
    "start_time": "2023-10-30T13:10:49.254Z"
   },
   {
    "duration": 55,
    "start_time": "2023-10-30T13:10:49.398Z"
   },
   {
    "duration": 5,
    "start_time": "2023-10-30T13:10:49.454Z"
   },
   {
    "duration": 35,
    "start_time": "2023-10-30T13:10:49.460Z"
   },
   {
    "duration": 1240,
    "start_time": "2023-10-30T13:14:00.688Z"
   },
   {
    "duration": 248,
    "start_time": "2023-10-30T13:14:01.930Z"
   },
   {
    "duration": 16,
    "start_time": "2023-10-30T13:14:02.180Z"
   },
   {
    "duration": 170,
    "start_time": "2023-10-30T13:14:02.198Z"
   },
   {
    "duration": 282,
    "start_time": "2023-10-30T13:14:02.370Z"
   },
   {
    "duration": 302,
    "start_time": "2023-10-30T13:14:02.655Z"
   },
   {
    "duration": 144,
    "start_time": "2023-10-30T13:14:02.959Z"
   },
   {
    "duration": 42,
    "start_time": "2023-10-30T13:14:03.105Z"
   },
   {
    "duration": 54,
    "start_time": "2023-10-30T13:14:03.148Z"
   },
   {
    "duration": 42,
    "start_time": "2023-10-30T13:14:03.204Z"
   },
   {
    "duration": 77,
    "start_time": "2023-10-30T13:14:03.248Z"
   },
   {
    "duration": 12,
    "start_time": "2023-10-30T13:14:03.327Z"
   },
   {
    "duration": 29,
    "start_time": "2023-10-30T13:14:03.341Z"
   },
   {
    "duration": 73,
    "start_time": "2023-10-30T13:14:03.371Z"
   },
   {
    "duration": 19,
    "start_time": "2023-10-30T13:14:03.447Z"
   },
   {
    "duration": 39,
    "start_time": "2023-10-30T13:14:03.467Z"
   },
   {
    "duration": 16,
    "start_time": "2023-10-30T13:14:03.508Z"
   },
   {
    "duration": 37,
    "start_time": "2023-10-30T13:14:03.526Z"
   },
   {
    "duration": 68,
    "start_time": "2023-10-30T13:14:03.565Z"
   },
   {
    "duration": 22,
    "start_time": "2023-10-30T13:14:03.635Z"
   },
   {
    "duration": 229,
    "start_time": "2023-10-30T13:14:03.658Z"
   },
   {
    "duration": 8,
    "start_time": "2023-10-30T13:14:03.888Z"
   },
   {
    "duration": 106,
    "start_time": "2023-10-30T13:14:03.898Z"
   },
   {
    "duration": 52,
    "start_time": "2023-10-30T13:14:04.005Z"
   },
   {
    "duration": 2249,
    "start_time": "2023-10-30T13:14:04.059Z"
   },
   {
    "duration": 14,
    "start_time": "2023-10-30T13:14:06.310Z"
   },
   {
    "duration": 40,
    "start_time": "2023-10-30T13:14:06.326Z"
   },
   {
    "duration": 5331,
    "start_time": "2023-10-30T13:14:06.370Z"
   },
   {
    "duration": 70,
    "start_time": "2023-10-30T13:14:11.702Z"
   },
   {
    "duration": 16,
    "start_time": "2023-10-30T13:14:11.774Z"
   },
   {
    "duration": 21,
    "start_time": "2023-10-30T13:14:11.792Z"
   },
   {
    "duration": 35,
    "start_time": "2023-10-30T13:14:11.815Z"
   },
   {
    "duration": 29,
    "start_time": "2023-10-30T13:14:11.852Z"
   },
   {
    "duration": 26,
    "start_time": "2023-10-30T13:14:11.883Z"
   },
   {
    "duration": 150,
    "start_time": "2023-10-30T13:14:11.911Z"
   },
   {
    "duration": 120,
    "start_time": "2023-10-30T13:14:12.062Z"
   },
   {
    "duration": 178,
    "start_time": "2023-10-30T13:14:12.184Z"
   },
   {
    "duration": 172,
    "start_time": "2023-10-30T13:14:12.364Z"
   },
   {
    "duration": 359,
    "start_time": "2023-10-30T13:14:12.538Z"
   },
   {
    "duration": 156,
    "start_time": "2023-10-30T13:14:12.899Z"
   },
   {
    "duration": 53,
    "start_time": "2023-10-30T13:14:13.057Z"
   },
   {
    "duration": 45,
    "start_time": "2023-10-30T13:14:13.112Z"
   },
   {
    "duration": 32,
    "start_time": "2023-10-30T13:14:13.159Z"
   },
   {
    "duration": 37,
    "start_time": "2023-10-30T13:21:06.692Z"
   },
   {
    "duration": 89,
    "start_time": "2023-10-30T13:22:18.115Z"
   },
   {
    "duration": 89,
    "start_time": "2023-10-30T13:26:52.443Z"
   },
   {
    "duration": 8,
    "start_time": "2023-10-30T14:06:28.876Z"
   },
   {
    "duration": 151,
    "start_time": "2023-10-30T14:08:51.605Z"
   },
   {
    "duration": 60,
    "start_time": "2023-10-30T14:16:45.992Z"
   },
   {
    "duration": 102,
    "start_time": "2023-10-30T14:24:28.808Z"
   },
   {
    "duration": 12,
    "start_time": "2023-10-30T14:33:20.063Z"
   },
   {
    "duration": 13,
    "start_time": "2023-10-30T14:34:36.892Z"
   },
   {
    "duration": 157,
    "start_time": "2023-10-30T14:36:33.498Z"
   },
   {
    "duration": 161,
    "start_time": "2023-10-30T14:36:53.280Z"
   },
   {
    "duration": 177,
    "start_time": "2023-10-30T14:39:24.725Z"
   },
   {
    "duration": 484,
    "start_time": "2023-10-30T14:50:15.684Z"
   },
   {
    "duration": 1274,
    "start_time": "2023-10-30T16:10:16.967Z"
   },
   {
    "duration": 262,
    "start_time": "2023-10-30T16:10:18.244Z"
   },
   {
    "duration": 16,
    "start_time": "2023-10-30T16:10:18.507Z"
   },
   {
    "duration": 12,
    "start_time": "2023-10-30T16:10:18.526Z"
   },
   {
    "duration": 54,
    "start_time": "2023-10-30T16:10:18.539Z"
   },
   {
    "duration": 2,
    "start_time": "2023-10-30T16:10:18.596Z"
   },
   {
    "duration": 32,
    "start_time": "2023-10-30T16:10:18.599Z"
   },
   {
    "duration": 5,
    "start_time": "2023-10-30T16:10:18.634Z"
   },
   {
    "duration": 21,
    "start_time": "2023-10-30T16:10:18.641Z"
   },
   {
    "duration": 16,
    "start_time": "2023-10-30T16:10:18.666Z"
   },
   {
    "duration": 34,
    "start_time": "2023-10-30T16:10:18.684Z"
   },
   {
    "duration": 5,
    "start_time": "2023-10-30T16:10:18.721Z"
   },
   {
    "duration": 29,
    "start_time": "2023-10-30T16:10:18.728Z"
   },
   {
    "duration": 40,
    "start_time": "2023-10-30T16:10:18.759Z"
   },
   {
    "duration": 12,
    "start_time": "2023-10-30T16:10:18.801Z"
   },
   {
    "duration": 42,
    "start_time": "2023-10-30T16:10:18.815Z"
   },
   {
    "duration": 6,
    "start_time": "2023-10-30T16:10:18.859Z"
   },
   {
    "duration": 44,
    "start_time": "2023-10-30T16:10:18.867Z"
   },
   {
    "duration": 26,
    "start_time": "2023-10-30T16:10:18.913Z"
   },
   {
    "duration": 11,
    "start_time": "2023-10-30T16:10:18.941Z"
   },
   {
    "duration": 172,
    "start_time": "2023-10-30T16:10:18.954Z"
   },
   {
    "duration": 11,
    "start_time": "2023-10-30T16:10:19.128Z"
   },
   {
    "duration": 14,
    "start_time": "2023-10-30T16:10:19.144Z"
   },
   {
    "duration": 9,
    "start_time": "2023-10-30T16:10:19.160Z"
   },
   {
    "duration": 2084,
    "start_time": "2023-10-30T16:10:19.170Z"
   },
   {
    "duration": 19,
    "start_time": "2023-10-30T16:10:21.257Z"
   },
   {
    "duration": 119,
    "start_time": "2023-10-30T16:10:21.279Z"
   },
   {
    "duration": 0,
    "start_time": "2023-10-30T16:10:21.402Z"
   },
   {
    "duration": 0,
    "start_time": "2023-10-30T16:10:21.403Z"
   },
   {
    "duration": 0,
    "start_time": "2023-10-30T16:10:21.404Z"
   },
   {
    "duration": 0,
    "start_time": "2023-10-30T16:10:21.405Z"
   },
   {
    "duration": 0,
    "start_time": "2023-10-30T16:10:21.406Z"
   },
   {
    "duration": 0,
    "start_time": "2023-10-30T16:10:21.407Z"
   },
   {
    "duration": 0,
    "start_time": "2023-10-30T16:10:21.505Z"
   },
   {
    "duration": 0,
    "start_time": "2023-10-30T16:10:21.507Z"
   },
   {
    "duration": 0,
    "start_time": "2023-10-30T16:10:21.509Z"
   },
   {
    "duration": 0,
    "start_time": "2023-10-30T16:10:21.510Z"
   },
   {
    "duration": 0,
    "start_time": "2023-10-30T16:10:21.511Z"
   },
   {
    "duration": 0,
    "start_time": "2023-10-30T16:10:21.512Z"
   },
   {
    "duration": 0,
    "start_time": "2023-10-30T16:10:21.513Z"
   },
   {
    "duration": 0,
    "start_time": "2023-10-30T16:10:21.515Z"
   },
   {
    "duration": 0,
    "start_time": "2023-10-30T16:10:21.516Z"
   },
   {
    "duration": 0,
    "start_time": "2023-10-30T16:10:21.517Z"
   },
   {
    "duration": 0,
    "start_time": "2023-10-30T16:10:21.543Z"
   },
   {
    "duration": 0,
    "start_time": "2023-10-30T16:10:21.545Z"
   },
   {
    "duration": 0,
    "start_time": "2023-10-30T16:10:21.546Z"
   },
   {
    "duration": 1316,
    "start_time": "2023-10-30T16:13:00.320Z"
   },
   {
    "duration": 316,
    "start_time": "2023-10-30T16:13:01.639Z"
   },
   {
    "duration": 17,
    "start_time": "2023-10-30T16:13:01.956Z"
   },
   {
    "duration": 54,
    "start_time": "2023-10-30T16:13:01.975Z"
   },
   {
    "duration": 90,
    "start_time": "2023-10-30T16:13:02.031Z"
   },
   {
    "duration": 63,
    "start_time": "2023-10-30T16:13:02.123Z"
   },
   {
    "duration": 84,
    "start_time": "2023-10-30T16:13:02.188Z"
   },
   {
    "duration": 87,
    "start_time": "2023-10-30T16:13:02.274Z"
   },
   {
    "duration": 83,
    "start_time": "2023-10-30T16:13:02.363Z"
   },
   {
    "duration": 49,
    "start_time": "2023-10-30T16:13:02.449Z"
   },
   {
    "duration": 96,
    "start_time": "2023-10-30T16:13:02.501Z"
   },
   {
    "duration": 52,
    "start_time": "2023-10-30T16:13:02.599Z"
   },
   {
    "duration": 107,
    "start_time": "2023-10-30T16:13:02.654Z"
   },
   {
    "duration": 77,
    "start_time": "2023-10-30T16:13:02.763Z"
   },
   {
    "duration": 171,
    "start_time": "2023-10-30T16:13:02.842Z"
   },
   {
    "duration": 79,
    "start_time": "2023-10-30T16:13:03.015Z"
   },
   {
    "duration": 12,
    "start_time": "2023-10-30T16:13:03.097Z"
   },
   {
    "duration": 36,
    "start_time": "2023-10-30T16:13:03.112Z"
   },
   {
    "duration": 62,
    "start_time": "2023-10-30T16:13:03.150Z"
   },
   {
    "duration": 29,
    "start_time": "2023-10-30T16:13:03.214Z"
   },
   {
    "duration": 206,
    "start_time": "2023-10-30T16:13:03.246Z"
   },
   {
    "duration": 9,
    "start_time": "2023-10-30T16:13:03.454Z"
   },
   {
    "duration": 56,
    "start_time": "2023-10-30T16:13:03.465Z"
   },
   {
    "duration": 36,
    "start_time": "2023-10-30T16:13:03.523Z"
   },
   {
    "duration": 2279,
    "start_time": "2023-10-30T16:13:03.561Z"
   },
   {
    "duration": 16,
    "start_time": "2023-10-30T16:13:05.841Z"
   },
   {
    "duration": 132,
    "start_time": "2023-10-30T16:13:05.859Z"
   },
   {
    "duration": 0,
    "start_time": "2023-10-30T16:13:05.993Z"
   },
   {
    "duration": 0,
    "start_time": "2023-10-30T16:13:05.995Z"
   },
   {
    "duration": 0,
    "start_time": "2023-10-30T16:13:05.996Z"
   },
   {
    "duration": 0,
    "start_time": "2023-10-30T16:13:05.997Z"
   },
   {
    "duration": 0,
    "start_time": "2023-10-30T16:13:05.998Z"
   },
   {
    "duration": 0,
    "start_time": "2023-10-30T16:13:05.999Z"
   },
   {
    "duration": 0,
    "start_time": "2023-10-30T16:13:06.105Z"
   },
   {
    "duration": 0,
    "start_time": "2023-10-30T16:13:06.106Z"
   },
   {
    "duration": 0,
    "start_time": "2023-10-30T16:13:06.108Z"
   },
   {
    "duration": 0,
    "start_time": "2023-10-30T16:13:06.109Z"
   },
   {
    "duration": 0,
    "start_time": "2023-10-30T16:13:06.110Z"
   },
   {
    "duration": 0,
    "start_time": "2023-10-30T16:13:06.111Z"
   },
   {
    "duration": 0,
    "start_time": "2023-10-30T16:13:06.113Z"
   },
   {
    "duration": 0,
    "start_time": "2023-10-30T16:13:06.114Z"
   },
   {
    "duration": 0,
    "start_time": "2023-10-30T16:13:06.115Z"
   },
   {
    "duration": 0,
    "start_time": "2023-10-30T16:13:06.116Z"
   },
   {
    "duration": 0,
    "start_time": "2023-10-30T16:13:06.117Z"
   },
   {
    "duration": 0,
    "start_time": "2023-10-30T16:13:06.118Z"
   },
   {
    "duration": 0,
    "start_time": "2023-10-30T16:13:06.144Z"
   },
   {
    "duration": 6,
    "start_time": "2023-10-30T16:13:33.013Z"
   },
   {
    "duration": 5730,
    "start_time": "2023-10-30T16:13:33.528Z"
   },
   {
    "duration": 86,
    "start_time": "2023-10-30T16:13:39.259Z"
   },
   {
    "duration": 1393,
    "start_time": "2023-10-30T16:13:43.167Z"
   },
   {
    "duration": 411,
    "start_time": "2023-10-30T16:13:44.562Z"
   },
   {
    "duration": 14,
    "start_time": "2023-10-30T16:13:44.974Z"
   },
   {
    "duration": 71,
    "start_time": "2023-10-30T16:13:44.990Z"
   },
   {
    "duration": 145,
    "start_time": "2023-10-30T16:13:45.063Z"
   },
   {
    "duration": 2,
    "start_time": "2023-10-30T16:13:45.210Z"
   },
   {
    "duration": 57,
    "start_time": "2023-10-30T16:13:45.214Z"
   },
   {
    "duration": 4,
    "start_time": "2023-10-30T16:13:45.272Z"
   },
   {
    "duration": 10,
    "start_time": "2023-10-30T16:13:45.278Z"
   },
   {
    "duration": 4,
    "start_time": "2023-10-30T16:13:45.290Z"
   },
   {
    "duration": 16,
    "start_time": "2023-10-30T16:13:45.296Z"
   },
   {
    "duration": 33,
    "start_time": "2023-10-30T16:13:45.314Z"
   },
   {
    "duration": 25,
    "start_time": "2023-10-30T16:13:45.349Z"
   },
   {
    "duration": 42,
    "start_time": "2023-10-30T16:13:45.376Z"
   },
   {
    "duration": 27,
    "start_time": "2023-10-30T16:13:45.419Z"
   },
   {
    "duration": 32,
    "start_time": "2023-10-30T16:13:45.448Z"
   },
   {
    "duration": 6,
    "start_time": "2023-10-30T16:13:45.483Z"
   },
   {
    "duration": 7,
    "start_time": "2023-10-30T16:13:45.491Z"
   },
   {
    "duration": 44,
    "start_time": "2023-10-30T16:13:45.501Z"
   },
   {
    "duration": 9,
    "start_time": "2023-10-30T16:13:45.547Z"
   },
   {
    "duration": 187,
    "start_time": "2023-10-30T16:13:45.558Z"
   },
   {
    "duration": 16,
    "start_time": "2023-10-30T16:13:45.747Z"
   },
   {
    "duration": 77,
    "start_time": "2023-10-30T16:13:45.765Z"
   },
   {
    "duration": 19,
    "start_time": "2023-10-30T16:13:45.845Z"
   },
   {
    "duration": 2226,
    "start_time": "2023-10-30T16:13:45.866Z"
   },
   {
    "duration": 16,
    "start_time": "2023-10-30T16:13:48.094Z"
   },
   {
    "duration": 4,
    "start_time": "2023-10-30T16:13:48.113Z"
   },
   {
    "duration": 6523,
    "start_time": "2023-10-30T16:13:48.143Z"
   },
   {
    "duration": 109,
    "start_time": "2023-10-30T16:13:54.669Z"
   },
   {
    "duration": 25,
    "start_time": "2023-10-30T16:13:54.781Z"
   },
   {
    "duration": 104,
    "start_time": "2023-10-30T16:13:54.808Z"
   },
   {
    "duration": 37,
    "start_time": "2023-10-30T16:13:54.914Z"
   },
   {
    "duration": 16,
    "start_time": "2023-10-30T16:13:54.953Z"
   },
   {
    "duration": 18,
    "start_time": "2023-10-30T16:13:54.971Z"
   },
   {
    "duration": 186,
    "start_time": "2023-10-30T16:13:54.991Z"
   },
   {
    "duration": 157,
    "start_time": "2023-10-30T16:13:55.179Z"
   },
   {
    "duration": 139,
    "start_time": "2023-10-30T16:13:55.337Z"
   },
   {
    "duration": 186,
    "start_time": "2023-10-30T16:13:55.478Z"
   },
   {
    "duration": 244,
    "start_time": "2023-10-30T16:13:55.666Z"
   },
   {
    "duration": 183,
    "start_time": "2023-10-30T16:13:55.912Z"
   },
   {
    "duration": 456,
    "start_time": "2023-10-30T16:13:56.096Z"
   },
   {
    "duration": 168,
    "start_time": "2023-10-30T16:13:56.555Z"
   },
   {
    "duration": 73,
    "start_time": "2023-10-30T16:13:56.725Z"
   },
   {
    "duration": 7,
    "start_time": "2023-10-30T16:13:56.799Z"
   },
   {
    "duration": 18,
    "start_time": "2023-10-30T16:13:56.808Z"
   },
   {
    "duration": 1451,
    "start_time": "2023-10-30T16:29:32.349Z"
   },
   {
    "duration": 203,
    "start_time": "2023-10-30T16:29:33.803Z"
   },
   {
    "duration": 21,
    "start_time": "2023-10-30T16:29:34.008Z"
   },
   {
    "duration": 10,
    "start_time": "2023-10-30T16:29:34.032Z"
   },
   {
    "duration": 41,
    "start_time": "2023-10-30T16:29:34.046Z"
   },
   {
    "duration": 3,
    "start_time": "2023-10-30T16:29:34.090Z"
   },
   {
    "duration": 32,
    "start_time": "2023-10-30T16:29:34.095Z"
   },
   {
    "duration": 22,
    "start_time": "2023-10-30T16:29:34.129Z"
   },
   {
    "duration": 13,
    "start_time": "2023-10-30T16:29:34.159Z"
   },
   {
    "duration": 13,
    "start_time": "2023-10-30T16:29:34.173Z"
   },
   {
    "duration": 17,
    "start_time": "2023-10-30T16:29:34.187Z"
   },
   {
    "duration": 4,
    "start_time": "2023-10-30T16:29:34.205Z"
   },
   {
    "duration": 37,
    "start_time": "2023-10-30T16:29:34.210Z"
   },
   {
    "duration": 46,
    "start_time": "2023-10-30T16:29:34.251Z"
   },
   {
    "duration": 12,
    "start_time": "2023-10-30T16:29:34.299Z"
   },
   {
    "duration": 32,
    "start_time": "2023-10-30T16:29:34.312Z"
   },
   {
    "duration": 4,
    "start_time": "2023-10-30T16:29:34.346Z"
   },
   {
    "duration": 6,
    "start_time": "2023-10-30T16:29:34.352Z"
   },
   {
    "duration": 11,
    "start_time": "2023-10-30T16:29:34.359Z"
   },
   {
    "duration": 30,
    "start_time": "2023-10-30T16:29:34.372Z"
   },
   {
    "duration": 177,
    "start_time": "2023-10-30T16:29:34.405Z"
   },
   {
    "duration": 18,
    "start_time": "2023-10-30T16:29:34.585Z"
   },
   {
    "duration": 15,
    "start_time": "2023-10-30T16:29:34.606Z"
   },
   {
    "duration": 28,
    "start_time": "2023-10-30T16:29:34.624Z"
   },
   {
    "duration": 2189,
    "start_time": "2023-10-30T16:29:34.654Z"
   },
   {
    "duration": 23,
    "start_time": "2023-10-30T16:29:36.845Z"
   },
   {
    "duration": 14,
    "start_time": "2023-10-30T16:29:36.869Z"
   },
   {
    "duration": 5797,
    "start_time": "2023-10-30T16:29:36.884Z"
   },
   {
    "duration": 74,
    "start_time": "2023-10-30T16:29:42.683Z"
   },
   {
    "duration": 25,
    "start_time": "2023-10-30T16:29:42.759Z"
   },
   {
    "duration": 88,
    "start_time": "2023-10-30T16:29:42.787Z"
   },
   {
    "duration": 10,
    "start_time": "2023-10-30T16:29:42.876Z"
   },
   {
    "duration": 31,
    "start_time": "2023-10-30T16:29:42.888Z"
   },
   {
    "duration": 49,
    "start_time": "2023-10-30T16:29:42.921Z"
   },
   {
    "duration": 212,
    "start_time": "2023-10-30T16:29:42.972Z"
   },
   {
    "duration": 437,
    "start_time": "2023-10-30T16:29:43.186Z"
   },
   {
    "duration": 178,
    "start_time": "2023-10-30T16:29:43.625Z"
   },
   {
    "duration": 84,
    "start_time": "2023-10-30T16:29:43.806Z"
   },
   {
    "duration": 5,
    "start_time": "2023-10-30T16:29:43.892Z"
   },
   {
    "duration": 45,
    "start_time": "2023-10-30T16:29:43.898Z"
   },
   {
    "duration": 108,
    "start_time": "2023-10-30T17:25:44.963Z"
   },
   {
    "duration": 131,
    "start_time": "2023-10-30T17:26:37.188Z"
   },
   {
    "duration": 428,
    "start_time": "2023-10-30T17:28:18.285Z"
   },
   {
    "duration": 182,
    "start_time": "2023-10-30T17:29:44.678Z"
   },
   {
    "duration": 155,
    "start_time": "2023-10-30T17:31:41.467Z"
   },
   {
    "duration": 178,
    "start_time": "2023-10-30T17:35:56.164Z"
   },
   {
    "duration": 182,
    "start_time": "2023-10-30T17:39:35.175Z"
   },
   {
    "duration": 10,
    "start_time": "2023-10-30T18:07:27.532Z"
   },
   {
    "duration": 10,
    "start_time": "2023-10-30T18:07:51.476Z"
   },
   {
    "duration": 15,
    "start_time": "2023-10-30T18:13:24.757Z"
   },
   {
    "duration": 1324,
    "start_time": "2023-10-30T18:16:21.928Z"
   },
   {
    "duration": 10,
    "start_time": "2023-10-31T08:06:35.773Z"
   },
   {
    "duration": 46,
    "start_time": "2023-10-31T08:06:43.202Z"
   },
   {
    "duration": 1566,
    "start_time": "2023-10-31T08:06:55.774Z"
   },
   {
    "duration": 277,
    "start_time": "2023-10-31T08:06:57.342Z"
   },
   {
    "duration": 21,
    "start_time": "2023-10-31T08:06:57.621Z"
   },
   {
    "duration": 27,
    "start_time": "2023-10-31T08:06:57.645Z"
   },
   {
    "duration": 112,
    "start_time": "2023-10-31T08:06:57.674Z"
   },
   {
    "duration": 2,
    "start_time": "2023-10-31T08:06:57.788Z"
   },
   {
    "duration": 54,
    "start_time": "2023-10-31T08:06:57.792Z"
   },
   {
    "duration": 4,
    "start_time": "2023-10-31T08:06:57.848Z"
   },
   {
    "duration": 10,
    "start_time": "2023-10-31T08:06:57.854Z"
   },
   {
    "duration": 13,
    "start_time": "2023-10-31T08:06:57.868Z"
   },
   {
    "duration": 32,
    "start_time": "2023-10-31T08:06:57.884Z"
   },
   {
    "duration": 6,
    "start_time": "2023-10-31T08:06:57.918Z"
   },
   {
    "duration": 25,
    "start_time": "2023-10-31T08:06:57.926Z"
   },
   {
    "duration": 64,
    "start_time": "2023-10-31T08:06:57.953Z"
   },
   {
    "duration": 13,
    "start_time": "2023-10-31T08:06:58.019Z"
   },
   {
    "duration": 50,
    "start_time": "2023-10-31T08:06:58.034Z"
   },
   {
    "duration": 35,
    "start_time": "2023-10-31T08:06:58.086Z"
   },
   {
    "duration": 97,
    "start_time": "2023-10-31T08:06:58.123Z"
   },
   {
    "duration": 23,
    "start_time": "2023-10-31T08:06:58.222Z"
   },
   {
    "duration": 16,
    "start_time": "2023-10-31T08:06:58.247Z"
   },
   {
    "duration": 147,
    "start_time": "2023-10-31T08:06:58.266Z"
   },
   {
    "duration": 10,
    "start_time": "2023-10-31T08:06:58.414Z"
   },
   {
    "duration": 28,
    "start_time": "2023-10-31T08:06:58.426Z"
   },
   {
    "duration": 10,
    "start_time": "2023-10-31T08:06:58.455Z"
   },
   {
    "duration": 2203,
    "start_time": "2023-10-31T08:06:58.467Z"
   },
   {
    "duration": 29,
    "start_time": "2023-10-31T08:07:00.672Z"
   },
   {
    "duration": 85,
    "start_time": "2023-10-31T08:07:00.703Z"
   },
   {
    "duration": 5713,
    "start_time": "2023-10-31T08:07:00.792Z"
   },
   {
    "duration": 65,
    "start_time": "2023-10-31T08:07:06.507Z"
   },
   {
    "duration": 30,
    "start_time": "2023-10-31T08:07:06.601Z"
   },
   {
    "duration": 112,
    "start_time": "2023-10-31T08:07:06.633Z"
   },
   {
    "duration": 12,
    "start_time": "2023-10-31T08:07:06.748Z"
   },
   {
    "duration": 41,
    "start_time": "2023-10-31T08:07:06.763Z"
   },
   {
    "duration": 49,
    "start_time": "2023-10-31T08:07:06.807Z"
   },
   {
    "duration": 201,
    "start_time": "2023-10-31T08:07:06.857Z"
   },
   {
    "duration": 125,
    "start_time": "2023-10-31T08:07:07.060Z"
   },
   {
    "duration": 0,
    "start_time": "2023-10-31T08:07:07.187Z"
   },
   {
    "duration": 0,
    "start_time": "2023-10-31T08:07:07.189Z"
   },
   {
    "duration": 0,
    "start_time": "2023-10-31T08:07:07.201Z"
   },
   {
    "duration": 0,
    "start_time": "2023-10-31T08:07:07.203Z"
   },
   {
    "duration": 0,
    "start_time": "2023-10-31T08:07:07.205Z"
   },
   {
    "duration": 0,
    "start_time": "2023-10-31T08:07:07.206Z"
   },
   {
    "duration": 1622,
    "start_time": "2023-10-31T08:10:14.548Z"
   },
   {
    "duration": 268,
    "start_time": "2023-10-31T08:10:16.173Z"
   },
   {
    "duration": 25,
    "start_time": "2023-10-31T08:10:16.444Z"
   },
   {
    "duration": 108,
    "start_time": "2023-10-31T08:10:16.473Z"
   },
   {
    "duration": 59,
    "start_time": "2023-10-31T08:10:16.583Z"
   },
   {
    "duration": 4,
    "start_time": "2023-10-31T08:10:16.644Z"
   },
   {
    "duration": 72,
    "start_time": "2023-10-31T08:10:16.650Z"
   },
   {
    "duration": 5,
    "start_time": "2023-10-31T08:10:16.724Z"
   },
   {
    "duration": 30,
    "start_time": "2023-10-31T08:10:16.731Z"
   },
   {
    "duration": 25,
    "start_time": "2023-10-31T08:10:16.765Z"
   },
   {
    "duration": 106,
    "start_time": "2023-10-31T08:10:16.793Z"
   },
   {
    "duration": 72,
    "start_time": "2023-10-31T08:10:16.902Z"
   },
   {
    "duration": 91,
    "start_time": "2023-10-31T08:10:16.976Z"
   },
   {
    "duration": 189,
    "start_time": "2023-10-31T08:10:17.069Z"
   },
   {
    "duration": 21,
    "start_time": "2023-10-31T08:10:17.260Z"
   },
   {
    "duration": 47,
    "start_time": "2023-10-31T08:10:17.302Z"
   },
   {
    "duration": 43,
    "start_time": "2023-10-31T08:10:17.352Z"
   },
   {
    "duration": 51,
    "start_time": "2023-10-31T08:10:17.398Z"
   },
   {
    "duration": 39,
    "start_time": "2023-10-31T08:10:17.452Z"
   },
   {
    "duration": 8,
    "start_time": "2023-10-31T08:10:17.496Z"
   },
   {
    "duration": 243,
    "start_time": "2023-10-31T08:10:17.506Z"
   },
   {
    "duration": 13,
    "start_time": "2023-10-31T08:10:17.752Z"
   },
   {
    "duration": 194,
    "start_time": "2023-10-31T08:10:17.767Z"
   },
   {
    "duration": 26,
    "start_time": "2023-10-31T08:10:17.963Z"
   },
   {
    "duration": 2367,
    "start_time": "2023-10-31T08:10:17.991Z"
   },
   {
    "duration": 19,
    "start_time": "2023-10-31T08:10:20.359Z"
   },
   {
    "duration": 222,
    "start_time": "2023-10-31T08:10:20.381Z"
   },
   {
    "duration": 5886,
    "start_time": "2023-10-31T08:10:20.607Z"
   },
   {
    "duration": 107,
    "start_time": "2023-10-31T08:10:26.495Z"
   },
   {
    "duration": 23,
    "start_time": "2023-10-31T08:10:26.604Z"
   },
   {
    "duration": 103,
    "start_time": "2023-10-31T08:10:26.630Z"
   },
   {
    "duration": 10,
    "start_time": "2023-10-31T08:10:26.735Z"
   },
   {
    "duration": 18,
    "start_time": "2023-10-31T08:10:26.747Z"
   },
   {
    "duration": 40,
    "start_time": "2023-10-31T08:10:26.767Z"
   },
   {
    "duration": 222,
    "start_time": "2023-10-31T08:10:26.810Z"
   },
   {
    "duration": 121,
    "start_time": "2023-10-31T08:10:27.034Z"
   },
   {
    "duration": 0,
    "start_time": "2023-10-31T08:10:27.156Z"
   },
   {
    "duration": 0,
    "start_time": "2023-10-31T08:10:27.158Z"
   },
   {
    "duration": 0,
    "start_time": "2023-10-31T08:10:27.164Z"
   },
   {
    "duration": 0,
    "start_time": "2023-10-31T08:10:27.165Z"
   },
   {
    "duration": 0,
    "start_time": "2023-10-31T08:10:27.167Z"
   },
   {
    "duration": 0,
    "start_time": "2023-10-31T08:10:27.169Z"
   },
   {
    "duration": 13,
    "start_time": "2023-10-31T08:10:54.876Z"
   },
   {
    "duration": 9,
    "start_time": "2023-10-31T08:12:21.020Z"
   },
   {
    "duration": 18,
    "start_time": "2023-10-31T08:12:23.346Z"
   },
   {
    "duration": 14,
    "start_time": "2023-10-31T08:12:38.943Z"
   },
   {
    "duration": 19,
    "start_time": "2023-10-31T08:12:43.037Z"
   },
   {
    "duration": 167,
    "start_time": "2023-10-31T08:15:53.569Z"
   },
   {
    "duration": 1873,
    "start_time": "2023-10-31T08:16:03.433Z"
   },
   {
    "duration": 188,
    "start_time": "2023-10-31T08:17:50.831Z"
   },
   {
    "duration": 187,
    "start_time": "2023-10-31T08:18:11.219Z"
   },
   {
    "duration": 1504,
    "start_time": "2023-10-31T08:18:24.033Z"
   },
   {
    "duration": 194,
    "start_time": "2023-10-31T08:18:25.540Z"
   },
   {
    "duration": 15,
    "start_time": "2023-10-31T08:18:25.736Z"
   },
   {
    "duration": 8,
    "start_time": "2023-10-31T08:18:25.753Z"
   },
   {
    "duration": 56,
    "start_time": "2023-10-31T08:18:25.762Z"
   },
   {
    "duration": 3,
    "start_time": "2023-10-31T08:18:25.820Z"
   },
   {
    "duration": 40,
    "start_time": "2023-10-31T08:18:25.825Z"
   },
   {
    "duration": 5,
    "start_time": "2023-10-31T08:18:25.867Z"
   },
   {
    "duration": 25,
    "start_time": "2023-10-31T08:18:25.874Z"
   },
   {
    "duration": 29,
    "start_time": "2023-10-31T08:18:25.902Z"
   },
   {
    "duration": 65,
    "start_time": "2023-10-31T08:18:25.933Z"
   },
   {
    "duration": 25,
    "start_time": "2023-10-31T08:18:26.000Z"
   },
   {
    "duration": 59,
    "start_time": "2023-10-31T08:18:26.027Z"
   },
   {
    "duration": 100,
    "start_time": "2023-10-31T08:18:26.088Z"
   },
   {
    "duration": 20,
    "start_time": "2023-10-31T08:18:26.191Z"
   },
   {
    "duration": 86,
    "start_time": "2023-10-31T08:18:26.213Z"
   },
   {
    "duration": 34,
    "start_time": "2023-10-31T08:18:26.301Z"
   },
   {
    "duration": 16,
    "start_time": "2023-10-31T08:18:26.337Z"
   },
   {
    "duration": 26,
    "start_time": "2023-10-31T08:18:26.356Z"
   },
   {
    "duration": 17,
    "start_time": "2023-10-31T08:18:26.384Z"
   },
   {
    "duration": 175,
    "start_time": "2023-10-31T08:18:26.403Z"
   },
   {
    "duration": 21,
    "start_time": "2023-10-31T08:18:26.581Z"
   },
   {
    "duration": 14,
    "start_time": "2023-10-31T08:18:26.604Z"
   },
   {
    "duration": 17,
    "start_time": "2023-10-31T08:18:26.619Z"
   },
   {
    "duration": 2313,
    "start_time": "2023-10-31T08:18:26.638Z"
   },
   {
    "duration": 14,
    "start_time": "2023-10-31T08:18:28.953Z"
   },
   {
    "duration": 32,
    "start_time": "2023-10-31T08:18:28.969Z"
   },
   {
    "duration": 5692,
    "start_time": "2023-10-31T08:18:29.005Z"
   },
   {
    "duration": 113,
    "start_time": "2023-10-31T08:18:34.699Z"
   },
   {
    "duration": 23,
    "start_time": "2023-10-31T08:18:34.814Z"
   },
   {
    "duration": 91,
    "start_time": "2023-10-31T08:18:34.839Z"
   },
   {
    "duration": 10,
    "start_time": "2023-10-31T08:18:34.932Z"
   },
   {
    "duration": 29,
    "start_time": "2023-10-31T08:18:34.944Z"
   },
   {
    "duration": 31,
    "start_time": "2023-10-31T08:18:34.976Z"
   },
   {
    "duration": 186,
    "start_time": "2023-10-31T08:18:35.009Z"
   },
   {
    "duration": 113,
    "start_time": "2023-10-31T08:18:35.201Z"
   },
   {
    "duration": 0,
    "start_time": "2023-10-31T08:18:35.315Z"
   },
   {
    "duration": 0,
    "start_time": "2023-10-31T08:18:35.317Z"
   },
   {
    "duration": 0,
    "start_time": "2023-10-31T08:18:35.318Z"
   },
   {
    "duration": 0,
    "start_time": "2023-10-31T08:18:35.319Z"
   },
   {
    "duration": 0,
    "start_time": "2023-10-31T08:18:35.320Z"
   },
   {
    "duration": 0,
    "start_time": "2023-10-31T08:18:35.322Z"
   },
   {
    "duration": 14,
    "start_time": "2023-10-31T08:19:56.836Z"
   },
   {
    "duration": 188,
    "start_time": "2023-10-31T08:19:59.027Z"
   },
   {
    "duration": 14,
    "start_time": "2023-10-31T08:20:21.262Z"
   },
   {
    "duration": 280,
    "start_time": "2023-10-31T08:20:21.931Z"
   },
   {
    "duration": 458,
    "start_time": "2023-10-31T08:20:23.984Z"
   },
   {
    "duration": 164,
    "start_time": "2023-10-31T08:20:32.914Z"
   },
   {
    "duration": 3542,
    "start_time": "2023-10-31T08:20:43.740Z"
   },
   {
    "duration": 1742,
    "start_time": "2023-10-31T08:23:23.662Z"
   },
   {
    "duration": 1852,
    "start_time": "2023-10-31T08:23:56.485Z"
   },
   {
    "duration": 16,
    "start_time": "2023-10-31T08:28:37.978Z"
   },
   {
    "duration": 1298,
    "start_time": "2023-10-31T08:28:50.413Z"
   },
   {
    "duration": 205,
    "start_time": "2023-10-31T08:28:51.713Z"
   },
   {
    "duration": 15,
    "start_time": "2023-10-31T08:28:51.920Z"
   },
   {
    "duration": 25,
    "start_time": "2023-10-31T08:28:51.937Z"
   },
   {
    "duration": 83,
    "start_time": "2023-10-31T08:28:51.964Z"
   },
   {
    "duration": 3,
    "start_time": "2023-10-31T08:28:52.049Z"
   },
   {
    "duration": 56,
    "start_time": "2023-10-31T08:28:52.054Z"
   },
   {
    "duration": 37,
    "start_time": "2023-10-31T08:28:52.112Z"
   },
   {
    "duration": 21,
    "start_time": "2023-10-31T08:28:52.151Z"
   },
   {
    "duration": 22,
    "start_time": "2023-10-31T08:28:52.175Z"
   },
   {
    "duration": 53,
    "start_time": "2023-10-31T08:28:52.198Z"
   },
   {
    "duration": 19,
    "start_time": "2023-10-31T08:28:52.252Z"
   },
   {
    "duration": 40,
    "start_time": "2023-10-31T08:28:52.273Z"
   },
   {
    "duration": 57,
    "start_time": "2023-10-31T08:28:52.315Z"
   },
   {
    "duration": 19,
    "start_time": "2023-10-31T08:28:52.374Z"
   },
   {
    "duration": 57,
    "start_time": "2023-10-31T08:28:52.395Z"
   },
   {
    "duration": 27,
    "start_time": "2023-10-31T08:28:52.454Z"
   },
   {
    "duration": 14,
    "start_time": "2023-10-31T08:28:52.484Z"
   },
   {
    "duration": 53,
    "start_time": "2023-10-31T08:28:52.500Z"
   },
   {
    "duration": 29,
    "start_time": "2023-10-31T08:28:52.555Z"
   },
   {
    "duration": 158,
    "start_time": "2023-10-31T08:28:52.586Z"
   },
   {
    "duration": 9,
    "start_time": "2023-10-31T08:28:52.745Z"
   },
   {
    "duration": 37,
    "start_time": "2023-10-31T08:28:52.756Z"
   },
   {
    "duration": 29,
    "start_time": "2023-10-31T08:28:52.794Z"
   },
   {
    "duration": 2269,
    "start_time": "2023-10-31T08:28:52.825Z"
   },
   {
    "duration": 20,
    "start_time": "2023-10-31T08:28:55.097Z"
   },
   {
    "duration": 6,
    "start_time": "2023-10-31T08:28:55.120Z"
   },
   {
    "duration": 5781,
    "start_time": "2023-10-31T08:28:55.131Z"
   },
   {
    "duration": 88,
    "start_time": "2023-10-31T08:29:00.914Z"
   },
   {
    "duration": 89,
    "start_time": "2023-10-31T08:29:01.004Z"
   },
   {
    "duration": 129,
    "start_time": "2023-10-31T08:29:01.095Z"
   },
   {
    "duration": 10,
    "start_time": "2023-10-31T08:29:01.226Z"
   },
   {
    "duration": 142,
    "start_time": "2023-10-31T08:29:01.238Z"
   },
   {
    "duration": 157,
    "start_time": "2023-10-31T08:29:01.382Z"
   },
   {
    "duration": 427,
    "start_time": "2023-10-31T08:29:01.544Z"
   },
   {
    "duration": 9,
    "start_time": "2023-10-31T08:29:01.974Z"
   },
   {
    "duration": 298,
    "start_time": "2023-10-31T08:29:01.985Z"
   },
   {
    "duration": 438,
    "start_time": "2023-10-31T08:29:02.286Z"
   },
   {
    "duration": 148,
    "start_time": "2023-10-31T08:29:02.725Z"
   },
   {
    "duration": 114,
    "start_time": "2023-10-31T08:29:02.875Z"
   },
   {
    "duration": 0,
    "start_time": "2023-10-31T08:29:02.991Z"
   },
   {
    "duration": 0,
    "start_time": "2023-10-31T08:29:03.000Z"
   },
   {
    "duration": 0,
    "start_time": "2023-10-31T08:29:03.002Z"
   },
   {
    "duration": 0,
    "start_time": "2023-10-31T08:29:03.003Z"
   },
   {
    "duration": 1750,
    "start_time": "2023-10-31T08:33:32.473Z"
   },
   {
    "duration": 10,
    "start_time": "2023-10-31T08:34:54.386Z"
   },
   {
    "duration": 3247,
    "start_time": "2023-10-31T08:35:06.731Z"
   },
   {
    "duration": 1474,
    "start_time": "2023-10-31T08:35:43.399Z"
   },
   {
    "duration": 220,
    "start_time": "2023-10-31T08:35:44.875Z"
   },
   {
    "duration": 17,
    "start_time": "2023-10-31T08:35:45.097Z"
   },
   {
    "duration": 24,
    "start_time": "2023-10-31T08:35:45.115Z"
   },
   {
    "duration": 43,
    "start_time": "2023-10-31T08:35:45.141Z"
   },
   {
    "duration": 3,
    "start_time": "2023-10-31T08:35:45.186Z"
   },
   {
    "duration": 43,
    "start_time": "2023-10-31T08:35:45.191Z"
   },
   {
    "duration": 5,
    "start_time": "2023-10-31T08:35:45.237Z"
   },
   {
    "duration": 24,
    "start_time": "2023-10-31T08:35:45.244Z"
   },
   {
    "duration": 22,
    "start_time": "2023-10-31T08:35:45.270Z"
   },
   {
    "duration": 25,
    "start_time": "2023-10-31T08:35:45.294Z"
   },
   {
    "duration": 5,
    "start_time": "2023-10-31T08:35:45.321Z"
   },
   {
    "duration": 30,
    "start_time": "2023-10-31T08:35:45.328Z"
   },
   {
    "duration": 72,
    "start_time": "2023-10-31T08:35:45.362Z"
   },
   {
    "duration": 20,
    "start_time": "2023-10-31T08:35:45.437Z"
   },
   {
    "duration": 65,
    "start_time": "2023-10-31T08:35:45.459Z"
   },
   {
    "duration": 5,
    "start_time": "2023-10-31T08:35:45.527Z"
   },
   {
    "duration": 7,
    "start_time": "2023-10-31T08:35:45.535Z"
   },
   {
    "duration": 25,
    "start_time": "2023-10-31T08:35:45.544Z"
   },
   {
    "duration": 7,
    "start_time": "2023-10-31T08:35:45.571Z"
   },
   {
    "duration": 157,
    "start_time": "2023-10-31T08:35:45.580Z"
   },
   {
    "duration": 10,
    "start_time": "2023-10-31T08:35:45.739Z"
   },
   {
    "duration": 35,
    "start_time": "2023-10-31T08:35:45.751Z"
   },
   {
    "duration": 22,
    "start_time": "2023-10-31T08:35:45.788Z"
   },
   {
    "duration": 2166,
    "start_time": "2023-10-31T08:35:45.812Z"
   },
   {
    "duration": 32,
    "start_time": "2023-10-31T08:35:47.980Z"
   },
   {
    "duration": 5,
    "start_time": "2023-10-31T08:35:48.016Z"
   },
   {
    "duration": 6068,
    "start_time": "2023-10-31T08:35:48.023Z"
   },
   {
    "duration": 70,
    "start_time": "2023-10-31T08:35:54.093Z"
   },
   {
    "duration": 46,
    "start_time": "2023-10-31T08:35:54.165Z"
   },
   {
    "duration": 104,
    "start_time": "2023-10-31T08:35:54.213Z"
   },
   {
    "duration": 18,
    "start_time": "2023-10-31T08:35:54.320Z"
   },
   {
    "duration": 33,
    "start_time": "2023-10-31T08:35:54.340Z"
   },
   {
    "duration": 24,
    "start_time": "2023-10-31T08:35:54.375Z"
   },
   {
    "duration": 179,
    "start_time": "2023-10-31T08:35:54.401Z"
   },
   {
    "duration": 23,
    "start_time": "2023-10-31T08:35:54.582Z"
   },
   {
    "duration": 245,
    "start_time": "2023-10-31T08:35:54.608Z"
   },
   {
    "duration": 393,
    "start_time": "2023-10-31T08:35:54.856Z"
   },
   {
    "duration": 154,
    "start_time": "2023-10-31T08:35:55.250Z"
   },
   {
    "duration": 114,
    "start_time": "2023-10-31T08:35:55.406Z"
   },
   {
    "duration": 0,
    "start_time": "2023-10-31T08:35:55.521Z"
   },
   {
    "duration": 0,
    "start_time": "2023-10-31T08:35:55.523Z"
   },
   {
    "duration": 0,
    "start_time": "2023-10-31T08:35:55.524Z"
   },
   {
    "duration": 0,
    "start_time": "2023-10-31T08:35:55.525Z"
   },
   {
    "duration": 4,
    "start_time": "2023-10-31T08:41:08.599Z"
   },
   {
    "duration": 15,
    "start_time": "2023-10-31T08:41:13.197Z"
   },
   {
    "duration": 7,
    "start_time": "2023-10-31T08:41:25.032Z"
   },
   {
    "duration": 1521,
    "start_time": "2023-10-31T08:41:33.451Z"
   },
   {
    "duration": 1301,
    "start_time": "2023-10-31T08:42:05.928Z"
   },
   {
    "duration": 196,
    "start_time": "2023-10-31T08:42:07.231Z"
   },
   {
    "duration": 15,
    "start_time": "2023-10-31T08:42:07.429Z"
   },
   {
    "duration": 8,
    "start_time": "2023-10-31T08:42:07.446Z"
   },
   {
    "duration": 42,
    "start_time": "2023-10-31T08:42:07.456Z"
   },
   {
    "duration": 5,
    "start_time": "2023-10-31T08:42:07.500Z"
   },
   {
    "duration": 34,
    "start_time": "2023-10-31T08:42:07.507Z"
   },
   {
    "duration": 4,
    "start_time": "2023-10-31T08:42:07.543Z"
   },
   {
    "duration": 16,
    "start_time": "2023-10-31T08:42:07.549Z"
   },
   {
    "duration": 11,
    "start_time": "2023-10-31T08:42:07.567Z"
   },
   {
    "duration": 38,
    "start_time": "2023-10-31T08:42:07.579Z"
   },
   {
    "duration": 5,
    "start_time": "2023-10-31T08:42:07.618Z"
   },
   {
    "duration": 20,
    "start_time": "2023-10-31T08:42:07.624Z"
   },
   {
    "duration": 76,
    "start_time": "2023-10-31T08:42:07.647Z"
   },
   {
    "duration": 12,
    "start_time": "2023-10-31T08:42:07.725Z"
   },
   {
    "duration": 31,
    "start_time": "2023-10-31T08:42:07.739Z"
   },
   {
    "duration": 5,
    "start_time": "2023-10-31T08:42:07.772Z"
   },
   {
    "duration": 23,
    "start_time": "2023-10-31T08:42:07.778Z"
   },
   {
    "duration": 11,
    "start_time": "2023-10-31T08:42:07.803Z"
   },
   {
    "duration": 7,
    "start_time": "2023-10-31T08:42:07.816Z"
   },
   {
    "duration": 156,
    "start_time": "2023-10-31T08:42:07.825Z"
   },
   {
    "duration": 19,
    "start_time": "2023-10-31T08:42:07.983Z"
   },
   {
    "duration": 14,
    "start_time": "2023-10-31T08:42:08.004Z"
   },
   {
    "duration": 11,
    "start_time": "2023-10-31T08:42:08.019Z"
   },
   {
    "duration": 2194,
    "start_time": "2023-10-31T08:42:08.031Z"
   },
   {
    "duration": 15,
    "start_time": "2023-10-31T08:42:10.226Z"
   },
   {
    "duration": 21,
    "start_time": "2023-10-31T08:42:10.242Z"
   },
   {
    "duration": 5644,
    "start_time": "2023-10-31T08:42:10.265Z"
   },
   {
    "duration": 63,
    "start_time": "2023-10-31T08:42:15.910Z"
   },
   {
    "duration": 18,
    "start_time": "2023-10-31T08:42:16.001Z"
   },
   {
    "duration": 213,
    "start_time": "2023-10-31T08:42:16.021Z"
   },
   {
    "duration": 8,
    "start_time": "2023-10-31T08:42:16.236Z"
   },
   {
    "duration": 12,
    "start_time": "2023-10-31T08:42:16.246Z"
   },
   {
    "duration": 43,
    "start_time": "2023-10-31T08:42:16.260Z"
   },
   {
    "duration": 169,
    "start_time": "2023-10-31T08:42:16.305Z"
   },
   {
    "duration": 11,
    "start_time": "2023-10-31T08:42:16.476Z"
   },
   {
    "duration": 207,
    "start_time": "2023-10-31T08:42:16.500Z"
   },
   {
    "duration": 394,
    "start_time": "2023-10-31T08:42:16.709Z"
   },
   {
    "duration": 163,
    "start_time": "2023-10-31T08:42:17.105Z"
   },
   {
    "duration": 57,
    "start_time": "2023-10-31T08:42:17.271Z"
   },
   {
    "duration": 6,
    "start_time": "2023-10-31T08:42:17.332Z"
   },
   {
    "duration": 48,
    "start_time": "2023-10-31T08:42:17.340Z"
   },
   {
    "duration": 119,
    "start_time": "2023-10-31T08:45:12.925Z"
   },
   {
    "duration": 11,
    "start_time": "2023-10-31T08:45:51.695Z"
   },
   {
    "duration": 3,
    "start_time": "2023-10-31T08:46:55.719Z"
   },
   {
    "duration": 13,
    "start_time": "2023-10-31T08:47:01.069Z"
   },
   {
    "duration": 3,
    "start_time": "2023-10-31T08:47:35.882Z"
   },
   {
    "duration": 5,
    "start_time": "2023-10-31T08:48:54.574Z"
   },
   {
    "duration": 16,
    "start_time": "2023-10-31T08:48:57.035Z"
   },
   {
    "duration": 3,
    "start_time": "2023-10-31T08:50:12.831Z"
   },
   {
    "duration": 2014,
    "start_time": "2023-10-31T08:50:15.899Z"
   },
   {
    "duration": 33,
    "start_time": "2023-10-31T08:53:59.633Z"
   },
   {
    "duration": 24,
    "start_time": "2023-10-31T08:55:42.637Z"
   },
   {
    "duration": 6,
    "start_time": "2023-10-31T08:56:06.852Z"
   },
   {
    "duration": 28,
    "start_time": "2023-10-31T08:56:57.578Z"
   },
   {
    "duration": 6,
    "start_time": "2023-10-31T08:57:22.799Z"
   },
   {
    "duration": 23,
    "start_time": "2023-10-31T08:57:33.406Z"
   },
   {
    "duration": 12,
    "start_time": "2023-10-31T08:57:34.731Z"
   },
   {
    "duration": 1303,
    "start_time": "2023-10-31T09:01:45.032Z"
   },
   {
    "duration": 397,
    "start_time": "2023-10-31T09:01:46.337Z"
   },
   {
    "duration": 15,
    "start_time": "2023-10-31T09:01:46.736Z"
   },
   {
    "duration": 9,
    "start_time": "2023-10-31T09:01:46.753Z"
   },
   {
    "duration": 52,
    "start_time": "2023-10-31T09:01:46.765Z"
   },
   {
    "duration": 4,
    "start_time": "2023-10-31T09:01:46.818Z"
   },
   {
    "duration": 37,
    "start_time": "2023-10-31T09:01:46.823Z"
   },
   {
    "duration": 5,
    "start_time": "2023-10-31T09:01:46.861Z"
   },
   {
    "duration": 8,
    "start_time": "2023-10-31T09:01:46.868Z"
   },
   {
    "duration": 26,
    "start_time": "2023-10-31T09:01:46.877Z"
   },
   {
    "duration": 48,
    "start_time": "2023-10-31T09:01:46.905Z"
   },
   {
    "duration": 4,
    "start_time": "2023-10-31T09:01:46.955Z"
   },
   {
    "duration": 20,
    "start_time": "2023-10-31T09:01:46.961Z"
   },
   {
    "duration": 43,
    "start_time": "2023-10-31T09:01:46.983Z"
   },
   {
    "duration": 13,
    "start_time": "2023-10-31T09:01:47.028Z"
   },
   {
    "duration": 40,
    "start_time": "2023-10-31T09:01:47.043Z"
   },
   {
    "duration": 4,
    "start_time": "2023-10-31T09:01:47.085Z"
   },
   {
    "duration": 13,
    "start_time": "2023-10-31T09:01:47.091Z"
   },
   {
    "duration": 28,
    "start_time": "2023-10-31T09:01:47.106Z"
   },
   {
    "duration": 24,
    "start_time": "2023-10-31T09:01:47.136Z"
   },
   {
    "duration": 143,
    "start_time": "2023-10-31T09:01:47.162Z"
   },
   {
    "duration": 9,
    "start_time": "2023-10-31T09:01:47.307Z"
   },
   {
    "duration": 26,
    "start_time": "2023-10-31T09:01:47.318Z"
   },
   {
    "duration": 9,
    "start_time": "2023-10-31T09:01:47.346Z"
   },
   {
    "duration": 2193,
    "start_time": "2023-10-31T09:01:47.357Z"
   },
   {
    "duration": 16,
    "start_time": "2023-10-31T09:01:49.551Z"
   },
   {
    "duration": 9,
    "start_time": "2023-10-31T09:01:49.569Z"
   },
   {
    "duration": 5559,
    "start_time": "2023-10-31T09:01:49.580Z"
   },
   {
    "duration": 4,
    "start_time": "2023-10-31T09:01:55.141Z"
   },
   {
    "duration": 57,
    "start_time": "2023-10-31T09:01:55.147Z"
   },
   {
    "duration": 95,
    "start_time": "2023-10-31T09:01:55.206Z"
   },
   {
    "duration": 10,
    "start_time": "2023-10-31T09:01:55.303Z"
   },
   {
    "duration": 25,
    "start_time": "2023-10-31T09:01:55.314Z"
   },
   {
    "duration": 51,
    "start_time": "2023-10-31T09:01:55.341Z"
   },
   {
    "duration": 190,
    "start_time": "2023-10-31T09:01:55.394Z"
   },
   {
    "duration": 16,
    "start_time": "2023-10-31T09:01:55.586Z"
   },
   {
    "duration": 189,
    "start_time": "2023-10-31T09:01:55.604Z"
   },
   {
    "duration": 393,
    "start_time": "2023-10-31T09:01:55.801Z"
   },
   {
    "duration": 160,
    "start_time": "2023-10-31T09:01:56.196Z"
   },
   {
    "duration": 4,
    "start_time": "2023-10-31T09:01:56.359Z"
   },
   {
    "duration": 49,
    "start_time": "2023-10-31T09:01:56.367Z"
   },
   {
    "duration": 167,
    "start_time": "2023-10-31T09:01:56.418Z"
   },
   {
    "duration": 0,
    "start_time": "2023-10-31T09:01:56.586Z"
   },
   {
    "duration": 0,
    "start_time": "2023-10-31T09:01:56.588Z"
   },
   {
    "duration": 0,
    "start_time": "2023-10-31T09:01:56.601Z"
   },
   {
    "duration": 0,
    "start_time": "2023-10-31T09:01:56.602Z"
   },
   {
    "duration": 0,
    "start_time": "2023-10-31T09:01:56.603Z"
   },
   {
    "duration": 1600,
    "start_time": "2023-10-31T09:04:28.535Z"
   },
   {
    "duration": 4,
    "start_time": "2023-10-31T09:04:52.474Z"
   },
   {
    "duration": 3,
    "start_time": "2023-10-31T09:04:54.854Z"
   },
   {
    "duration": 11,
    "start_time": "2023-10-31T09:04:57.499Z"
   },
   {
    "duration": 2076,
    "start_time": "2023-10-31T09:05:10.138Z"
   },
   {
    "duration": 4,
    "start_time": "2023-10-31T09:05:23.082Z"
   },
   {
    "duration": 4,
    "start_time": "2023-10-31T09:05:56.629Z"
   },
   {
    "duration": 3,
    "start_time": "2023-10-31T09:05:59.255Z"
   },
   {
    "duration": 10,
    "start_time": "2023-10-31T09:06:01.840Z"
   },
   {
    "duration": 4,
    "start_time": "2023-10-31T09:06:18.472Z"
   },
   {
    "duration": 3,
    "start_time": "2023-10-31T09:06:20.356Z"
   },
   {
    "duration": 16,
    "start_time": "2023-10-31T09:06:20.760Z"
   },
   {
    "duration": 1686,
    "start_time": "2023-10-31T09:06:22.373Z"
   },
   {
    "duration": 4,
    "start_time": "2023-10-31T09:06:58.179Z"
   },
   {
    "duration": 3,
    "start_time": "2023-10-31T09:06:59.091Z"
   },
   {
    "duration": 2070,
    "start_time": "2023-10-31T09:07:00.122Z"
   },
   {
    "duration": 28,
    "start_time": "2023-10-31T09:07:07.967Z"
   },
   {
    "duration": 4,
    "start_time": "2023-10-31T09:08:06.056Z"
   },
   {
    "duration": 4,
    "start_time": "2023-10-31T09:08:06.866Z"
   },
   {
    "duration": 1999,
    "start_time": "2023-10-31T09:08:07.633Z"
   },
   {
    "duration": 27,
    "start_time": "2023-10-31T09:08:09.634Z"
   },
   {
    "duration": 1239,
    "start_time": "2023-10-31T09:08:34.937Z"
   },
   {
    "duration": 230,
    "start_time": "2023-10-31T09:08:36.178Z"
   },
   {
    "duration": 16,
    "start_time": "2023-10-31T09:08:36.410Z"
   },
   {
    "duration": 20,
    "start_time": "2023-10-31T09:08:36.427Z"
   },
   {
    "duration": 54,
    "start_time": "2023-10-31T09:08:36.450Z"
   },
   {
    "duration": 11,
    "start_time": "2023-10-31T09:08:36.506Z"
   },
   {
    "duration": 59,
    "start_time": "2023-10-31T09:08:36.519Z"
   },
   {
    "duration": 4,
    "start_time": "2023-10-31T09:08:36.579Z"
   },
   {
    "duration": 26,
    "start_time": "2023-10-31T09:08:36.585Z"
   },
   {
    "duration": 17,
    "start_time": "2023-10-31T09:08:36.613Z"
   },
   {
    "duration": 206,
    "start_time": "2023-10-31T09:08:36.632Z"
   },
   {
    "duration": 4,
    "start_time": "2023-10-31T09:08:36.839Z"
   },
   {
    "duration": 34,
    "start_time": "2023-10-31T09:08:36.845Z"
   },
   {
    "duration": 56,
    "start_time": "2023-10-31T09:08:36.882Z"
   },
   {
    "duration": 13,
    "start_time": "2023-10-31T09:08:36.939Z"
   },
   {
    "duration": 20,
    "start_time": "2023-10-31T09:08:36.954Z"
   },
   {
    "duration": 26,
    "start_time": "2023-10-31T09:08:36.976Z"
   },
   {
    "duration": 5,
    "start_time": "2023-10-31T09:08:37.004Z"
   },
   {
    "duration": 46,
    "start_time": "2023-10-31T09:08:37.011Z"
   },
   {
    "duration": 24,
    "start_time": "2023-10-31T09:08:37.059Z"
   },
   {
    "duration": 132,
    "start_time": "2023-10-31T09:08:37.084Z"
   },
   {
    "duration": 9,
    "start_time": "2023-10-31T09:08:37.218Z"
   },
   {
    "duration": 27,
    "start_time": "2023-10-31T09:08:37.228Z"
   },
   {
    "duration": 10,
    "start_time": "2023-10-31T09:08:37.256Z"
   },
   {
    "duration": 2193,
    "start_time": "2023-10-31T09:08:37.267Z"
   },
   {
    "duration": 16,
    "start_time": "2023-10-31T09:08:39.462Z"
   },
   {
    "duration": 22,
    "start_time": "2023-10-31T09:08:39.479Z"
   },
   {
    "duration": 5663,
    "start_time": "2023-10-31T09:08:39.504Z"
   },
   {
    "duration": 3,
    "start_time": "2023-10-31T09:08:45.169Z"
   },
   {
    "duration": 28,
    "start_time": "2023-10-31T09:08:45.174Z"
   },
   {
    "duration": 67,
    "start_time": "2023-10-31T09:08:45.204Z"
   },
   {
    "duration": 10,
    "start_time": "2023-10-31T09:08:45.273Z"
   },
   {
    "duration": 6,
    "start_time": "2023-10-31T09:08:45.302Z"
   },
   {
    "duration": 24,
    "start_time": "2023-10-31T09:08:45.310Z"
   },
   {
    "duration": 161,
    "start_time": "2023-10-31T09:08:45.336Z"
   },
   {
    "duration": 11,
    "start_time": "2023-10-31T09:08:45.499Z"
   },
   {
    "duration": 190,
    "start_time": "2023-10-31T09:08:45.512Z"
   },
   {
    "duration": 399,
    "start_time": "2023-10-31T09:08:45.704Z"
   },
   {
    "duration": 148,
    "start_time": "2023-10-31T09:08:46.105Z"
   },
   {
    "duration": 5,
    "start_time": "2023-10-31T09:08:46.255Z"
   },
   {
    "duration": 39,
    "start_time": "2023-10-31T09:08:46.265Z"
   },
   {
    "duration": 1997,
    "start_time": "2023-10-31T09:08:46.306Z"
   },
   {
    "duration": 26,
    "start_time": "2023-10-31T09:08:48.305Z"
   },
   {
    "duration": 34,
    "start_time": "2023-10-31T09:08:48.333Z"
   },
   {
    "duration": 144,
    "start_time": "2023-10-31T09:08:48.405Z"
   },
   {
    "duration": 5,
    "start_time": "2023-10-31T09:08:48.551Z"
   },
   {
    "duration": 49,
    "start_time": "2023-10-31T09:08:48.557Z"
   },
   {
    "duration": 3,
    "start_time": "2023-10-31T09:09:32.720Z"
   },
   {
    "duration": 3,
    "start_time": "2023-10-31T09:09:35.247Z"
   },
   {
    "duration": 1949,
    "start_time": "2023-10-31T09:09:35.252Z"
   },
   {
    "duration": 24,
    "start_time": "2023-10-31T09:09:37.204Z"
   },
   {
    "duration": 45,
    "start_time": "2023-10-31T09:09:37.229Z"
   },
   {
    "duration": 1258,
    "start_time": "2023-10-31T09:09:55.839Z"
   },
   {
    "duration": 194,
    "start_time": "2023-10-31T09:09:57.099Z"
   },
   {
    "duration": 15,
    "start_time": "2023-10-31T09:09:57.295Z"
   },
   {
    "duration": 7,
    "start_time": "2023-10-31T09:09:57.312Z"
   },
   {
    "duration": 52,
    "start_time": "2023-10-31T09:09:57.320Z"
   },
   {
    "duration": 3,
    "start_time": "2023-10-31T09:09:57.374Z"
   },
   {
    "duration": 40,
    "start_time": "2023-10-31T09:09:57.378Z"
   },
   {
    "duration": 4,
    "start_time": "2023-10-31T09:09:57.419Z"
   },
   {
    "duration": 22,
    "start_time": "2023-10-31T09:09:57.424Z"
   },
   {
    "duration": 10,
    "start_time": "2023-10-31T09:09:57.449Z"
   },
   {
    "duration": 20,
    "start_time": "2023-10-31T09:09:57.460Z"
   },
   {
    "duration": 4,
    "start_time": "2023-10-31T09:09:57.482Z"
   },
   {
    "duration": 24,
    "start_time": "2023-10-31T09:09:57.488Z"
   },
   {
    "duration": 55,
    "start_time": "2023-10-31T09:09:57.514Z"
   },
   {
    "duration": 13,
    "start_time": "2023-10-31T09:09:57.571Z"
   },
   {
    "duration": 30,
    "start_time": "2023-10-31T09:09:57.586Z"
   },
   {
    "duration": 5,
    "start_time": "2023-10-31T09:09:57.618Z"
   },
   {
    "duration": 53,
    "start_time": "2023-10-31T09:09:57.624Z"
   },
   {
    "duration": 18,
    "start_time": "2023-10-31T09:09:57.679Z"
   },
   {
    "duration": 19,
    "start_time": "2023-10-31T09:09:57.698Z"
   },
   {
    "duration": 140,
    "start_time": "2023-10-31T09:09:57.719Z"
   },
   {
    "duration": 9,
    "start_time": "2023-10-31T09:09:57.861Z"
   },
   {
    "duration": 33,
    "start_time": "2023-10-31T09:09:57.871Z"
   },
   {
    "duration": 73,
    "start_time": "2023-10-31T09:09:57.906Z"
   },
   {
    "duration": 2236,
    "start_time": "2023-10-31T09:09:57.981Z"
   },
   {
    "duration": 15,
    "start_time": "2023-10-31T09:10:00.219Z"
   },
   {
    "duration": 203,
    "start_time": "2023-10-31T09:10:00.236Z"
   },
   {
    "duration": 5622,
    "start_time": "2023-10-31T09:10:00.443Z"
   },
   {
    "duration": 5,
    "start_time": "2023-10-31T09:10:06.067Z"
   },
   {
    "duration": 32,
    "start_time": "2023-10-31T09:10:06.073Z"
   },
   {
    "duration": 84,
    "start_time": "2023-10-31T09:10:06.106Z"
   },
   {
    "duration": 8,
    "start_time": "2023-10-31T09:10:06.192Z"
   },
   {
    "duration": 19,
    "start_time": "2023-10-31T09:10:06.202Z"
   },
   {
    "duration": 20,
    "start_time": "2023-10-31T09:10:06.223Z"
   },
   {
    "duration": 196,
    "start_time": "2023-10-31T09:10:06.245Z"
   },
   {
    "duration": 9,
    "start_time": "2023-10-31T09:10:06.443Z"
   },
   {
    "duration": 204,
    "start_time": "2023-10-31T09:10:06.454Z"
   },
   {
    "duration": 400,
    "start_time": "2023-10-31T09:10:06.661Z"
   },
   {
    "duration": 142,
    "start_time": "2023-10-31T09:10:07.063Z"
   },
   {
    "duration": 4,
    "start_time": "2023-10-31T09:10:07.206Z"
   },
   {
    "duration": 41,
    "start_time": "2023-10-31T09:10:07.212Z"
   },
   {
    "duration": 1869,
    "start_time": "2023-10-31T09:10:07.254Z"
   },
   {
    "duration": 24,
    "start_time": "2023-10-31T09:10:09.124Z"
   },
   {
    "duration": 55,
    "start_time": "2023-10-31T09:10:09.150Z"
   },
   {
    "duration": 240,
    "start_time": "2023-10-31T09:10:09.209Z"
   },
   {
    "duration": 5,
    "start_time": "2023-10-31T09:10:09.451Z"
   },
   {
    "duration": 71,
    "start_time": "2023-10-31T09:10:09.458Z"
   },
   {
    "duration": 6,
    "start_time": "2023-10-31T09:20:19.581Z"
   },
   {
    "duration": 7,
    "start_time": "2023-10-31T09:21:46.655Z"
   },
   {
    "duration": 5,
    "start_time": "2023-10-31T09:25:27.373Z"
   },
   {
    "duration": 5,
    "start_time": "2023-10-31T09:25:50.175Z"
   },
   {
    "duration": 9,
    "start_time": "2023-10-31T09:27:23.780Z"
   },
   {
    "duration": 1333,
    "start_time": "2023-10-31T09:30:28.363Z"
   },
   {
    "duration": 337,
    "start_time": "2023-10-31T09:30:29.702Z"
   },
   {
    "duration": 14,
    "start_time": "2023-10-31T09:30:30.041Z"
   },
   {
    "duration": 50,
    "start_time": "2023-10-31T09:30:30.057Z"
   },
   {
    "duration": 111,
    "start_time": "2023-10-31T09:30:30.108Z"
   },
   {
    "duration": 22,
    "start_time": "2023-10-31T09:30:30.221Z"
   },
   {
    "duration": 74,
    "start_time": "2023-10-31T09:30:30.245Z"
   },
   {
    "duration": 12,
    "start_time": "2023-10-31T09:30:30.321Z"
   },
   {
    "duration": 56,
    "start_time": "2023-10-31T09:30:30.334Z"
   },
   {
    "duration": 33,
    "start_time": "2023-10-31T09:30:30.393Z"
   },
   {
    "duration": 90,
    "start_time": "2023-10-31T09:30:30.428Z"
   },
   {
    "duration": 37,
    "start_time": "2023-10-31T09:30:30.519Z"
   },
   {
    "duration": 59,
    "start_time": "2023-10-31T09:30:30.559Z"
   },
   {
    "duration": 66,
    "start_time": "2023-10-31T09:30:30.620Z"
   },
   {
    "duration": 13,
    "start_time": "2023-10-31T09:30:30.689Z"
   },
   {
    "duration": 35,
    "start_time": "2023-10-31T09:30:30.703Z"
   },
   {
    "duration": 22,
    "start_time": "2023-10-31T09:30:30.740Z"
   },
   {
    "duration": 32,
    "start_time": "2023-10-31T09:30:30.764Z"
   },
   {
    "duration": 33,
    "start_time": "2023-10-31T09:30:30.798Z"
   },
   {
    "duration": 37,
    "start_time": "2023-10-31T09:30:30.833Z"
   },
   {
    "duration": 218,
    "start_time": "2023-10-31T09:30:30.872Z"
   },
   {
    "duration": 26,
    "start_time": "2023-10-31T09:30:31.092Z"
   },
   {
    "duration": 152,
    "start_time": "2023-10-31T09:30:31.120Z"
   },
   {
    "duration": 99,
    "start_time": "2023-10-31T09:30:31.275Z"
   },
   {
    "duration": 2116,
    "start_time": "2023-10-31T09:30:31.376Z"
   },
   {
    "duration": 19,
    "start_time": "2023-10-31T09:30:33.494Z"
   },
   {
    "duration": 13,
    "start_time": "2023-10-31T09:30:33.515Z"
   },
   {
    "duration": 5616,
    "start_time": "2023-10-31T09:30:33.531Z"
   },
   {
    "duration": 4,
    "start_time": "2023-10-31T09:30:39.149Z"
   },
   {
    "duration": 42,
    "start_time": "2023-10-31T09:30:39.155Z"
   },
   {
    "duration": 57,
    "start_time": "2023-10-31T09:30:39.199Z"
   },
   {
    "duration": 12,
    "start_time": "2023-10-31T09:30:39.258Z"
   },
   {
    "duration": 222,
    "start_time": "2023-10-31T09:30:39.272Z"
   },
   {
    "duration": 21,
    "start_time": "2023-10-31T09:30:39.495Z"
   },
   {
    "duration": 163,
    "start_time": "2023-10-31T09:30:39.518Z"
   },
   {
    "duration": 43,
    "start_time": "2023-10-31T09:30:39.683Z"
   },
   {
    "duration": 195,
    "start_time": "2023-10-31T09:30:39.728Z"
   },
   {
    "duration": 392,
    "start_time": "2023-10-31T09:30:39.925Z"
   },
   {
    "duration": 153,
    "start_time": "2023-10-31T09:30:40.319Z"
   },
   {
    "duration": 5,
    "start_time": "2023-10-31T09:30:40.473Z"
   },
   {
    "duration": 57,
    "start_time": "2023-10-31T09:30:40.479Z"
   },
   {
    "duration": 1933,
    "start_time": "2023-10-31T09:30:40.538Z"
   },
   {
    "duration": 33,
    "start_time": "2023-10-31T09:30:42.473Z"
   },
   {
    "duration": 8,
    "start_time": "2023-10-31T09:30:42.508Z"
   },
   {
    "duration": 226,
    "start_time": "2023-10-31T09:30:42.519Z"
   },
   {
    "duration": 6,
    "start_time": "2023-10-31T09:30:42.747Z"
   },
   {
    "duration": 45,
    "start_time": "2023-10-31T09:30:42.755Z"
   },
   {
    "duration": 32,
    "start_time": "2023-10-31T09:30:42.802Z"
   },
   {
    "duration": 25,
    "start_time": "2023-10-31T09:30:42.836Z"
   },
   {
    "duration": 23,
    "start_time": "2023-10-31T09:30:42.863Z"
   },
   {
    "duration": 8,
    "start_time": "2023-10-31T09:31:37.300Z"
   },
   {
    "duration": 125,
    "start_time": "2023-10-31T09:35:01.343Z"
   },
   {
    "duration": 1243,
    "start_time": "2023-10-31T09:35:19.957Z"
   },
   {
    "duration": 204,
    "start_time": "2023-10-31T09:35:21.202Z"
   },
   {
    "duration": 15,
    "start_time": "2023-10-31T09:35:21.407Z"
   },
   {
    "duration": 24,
    "start_time": "2023-10-31T09:35:21.424Z"
   },
   {
    "duration": 58,
    "start_time": "2023-10-31T09:35:21.451Z"
   },
   {
    "duration": 3,
    "start_time": "2023-10-31T09:35:21.511Z"
   },
   {
    "duration": 48,
    "start_time": "2023-10-31T09:35:21.516Z"
   },
   {
    "duration": 5,
    "start_time": "2023-10-31T09:35:21.566Z"
   },
   {
    "duration": 18,
    "start_time": "2023-10-31T09:35:21.573Z"
   },
   {
    "duration": 30,
    "start_time": "2023-10-31T09:35:21.593Z"
   },
   {
    "duration": 25,
    "start_time": "2023-10-31T09:35:21.625Z"
   },
   {
    "duration": 27,
    "start_time": "2023-10-31T09:35:21.653Z"
   },
   {
    "duration": 24,
    "start_time": "2023-10-31T09:35:21.681Z"
   },
   {
    "duration": 51,
    "start_time": "2023-10-31T09:35:21.708Z"
   },
   {
    "duration": 13,
    "start_time": "2023-10-31T09:35:21.761Z"
   },
   {
    "duration": 27,
    "start_time": "2023-10-31T09:35:21.775Z"
   },
   {
    "duration": 9,
    "start_time": "2023-10-31T09:35:21.804Z"
   },
   {
    "duration": 31,
    "start_time": "2023-10-31T09:35:21.814Z"
   },
   {
    "duration": 23,
    "start_time": "2023-10-31T09:35:21.846Z"
   },
   {
    "duration": 16,
    "start_time": "2023-10-31T09:35:21.871Z"
   },
   {
    "duration": 151,
    "start_time": "2023-10-31T09:35:21.888Z"
   },
   {
    "duration": 11,
    "start_time": "2023-10-31T09:35:22.041Z"
   },
   {
    "duration": 15,
    "start_time": "2023-10-31T09:35:22.054Z"
   },
   {
    "duration": 33,
    "start_time": "2023-10-31T09:35:22.071Z"
   },
   {
    "duration": 2142,
    "start_time": "2023-10-31T09:35:22.106Z"
   },
   {
    "duration": 15,
    "start_time": "2023-10-31T09:35:24.250Z"
   },
   {
    "duration": 10,
    "start_time": "2023-10-31T09:35:24.267Z"
   },
   {
    "duration": 5724,
    "start_time": "2023-10-31T09:35:24.279Z"
   },
   {
    "duration": 6,
    "start_time": "2023-10-31T09:35:30.004Z"
   },
   {
    "duration": 82,
    "start_time": "2023-10-31T09:35:30.012Z"
   },
   {
    "duration": 132,
    "start_time": "2023-10-31T09:35:30.096Z"
   },
   {
    "duration": 10,
    "start_time": "2023-10-31T09:35:30.230Z"
   },
   {
    "duration": 45,
    "start_time": "2023-10-31T09:35:30.242Z"
   },
   {
    "duration": 47,
    "start_time": "2023-10-31T09:35:30.289Z"
   },
   {
    "duration": 261,
    "start_time": "2023-10-31T09:35:30.338Z"
   },
   {
    "duration": 11,
    "start_time": "2023-10-31T09:35:30.601Z"
   },
   {
    "duration": 247,
    "start_time": "2023-10-31T09:35:30.614Z"
   },
   {
    "duration": 391,
    "start_time": "2023-10-31T09:35:30.863Z"
   },
   {
    "duration": 148,
    "start_time": "2023-10-31T09:35:31.255Z"
   },
   {
    "duration": 4,
    "start_time": "2023-10-31T09:35:31.405Z"
   },
   {
    "duration": 66,
    "start_time": "2023-10-31T09:35:31.413Z"
   },
   {
    "duration": 2086,
    "start_time": "2023-10-31T09:35:31.481Z"
   },
   {
    "duration": 22,
    "start_time": "2023-10-31T09:35:33.569Z"
   },
   {
    "duration": 8,
    "start_time": "2023-10-31T09:35:33.601Z"
   },
   {
    "duration": 230,
    "start_time": "2023-10-31T09:35:33.611Z"
   },
   {
    "duration": 5,
    "start_time": "2023-10-31T09:35:33.843Z"
   },
   {
    "duration": 38,
    "start_time": "2023-10-31T09:35:33.850Z"
   },
   {
    "duration": 6,
    "start_time": "2023-10-31T09:35:33.891Z"
   },
   {
    "duration": 8,
    "start_time": "2023-10-31T09:35:33.902Z"
   },
   {
    "duration": 6,
    "start_time": "2023-10-31T09:35:33.912Z"
   },
   {
    "duration": 1269,
    "start_time": "2023-10-31T09:36:23.137Z"
   },
   {
    "duration": 439,
    "start_time": "2023-10-31T09:36:24.408Z"
   },
   {
    "duration": 15,
    "start_time": "2023-10-31T09:36:24.849Z"
   },
   {
    "duration": 32,
    "start_time": "2023-10-31T09:36:24.866Z"
   },
   {
    "duration": 48,
    "start_time": "2023-10-31T09:36:24.900Z"
   },
   {
    "duration": 3,
    "start_time": "2023-10-31T09:36:24.950Z"
   },
   {
    "duration": 42,
    "start_time": "2023-10-31T09:36:24.955Z"
   },
   {
    "duration": 4,
    "start_time": "2023-10-31T09:36:24.999Z"
   },
   {
    "duration": 27,
    "start_time": "2023-10-31T09:36:25.005Z"
   },
   {
    "duration": 38,
    "start_time": "2023-10-31T09:36:25.035Z"
   },
   {
    "duration": 40,
    "start_time": "2023-10-31T09:36:25.075Z"
   },
   {
    "duration": 8,
    "start_time": "2023-10-31T09:36:25.117Z"
   },
   {
    "duration": 40,
    "start_time": "2023-10-31T09:36:25.126Z"
   },
   {
    "duration": 50,
    "start_time": "2023-10-31T09:36:25.168Z"
   },
   {
    "duration": 13,
    "start_time": "2023-10-31T09:36:25.219Z"
   },
   {
    "duration": 27,
    "start_time": "2023-10-31T09:36:25.234Z"
   },
   {
    "duration": 5,
    "start_time": "2023-10-31T09:36:25.263Z"
   },
   {
    "duration": 23,
    "start_time": "2023-10-31T09:36:25.270Z"
   },
   {
    "duration": 32,
    "start_time": "2023-10-31T09:36:25.295Z"
   },
   {
    "duration": 9,
    "start_time": "2023-10-31T09:36:25.330Z"
   },
   {
    "duration": 142,
    "start_time": "2023-10-31T09:36:25.341Z"
   },
   {
    "duration": 22,
    "start_time": "2023-10-31T09:36:25.485Z"
   },
   {
    "duration": 13,
    "start_time": "2023-10-31T09:36:25.509Z"
   },
   {
    "duration": 19,
    "start_time": "2023-10-31T09:36:25.524Z"
   },
   {
    "duration": 2098,
    "start_time": "2023-10-31T09:36:25.545Z"
   },
   {
    "duration": 15,
    "start_time": "2023-10-31T09:36:27.644Z"
   },
   {
    "duration": 4,
    "start_time": "2023-10-31T09:36:27.661Z"
   },
   {
    "duration": 5475,
    "start_time": "2023-10-31T09:36:27.669Z"
   },
   {
    "duration": 4,
    "start_time": "2023-10-31T09:36:33.145Z"
   },
   {
    "duration": 31,
    "start_time": "2023-10-31T09:36:33.151Z"
   },
   {
    "duration": 61,
    "start_time": "2023-10-31T09:36:33.185Z"
   },
   {
    "duration": 9,
    "start_time": "2023-10-31T09:36:33.247Z"
   },
   {
    "duration": 6,
    "start_time": "2023-10-31T09:36:33.258Z"
   },
   {
    "duration": 48,
    "start_time": "2023-10-31T09:36:33.265Z"
   },
   {
    "duration": 155,
    "start_time": "2023-10-31T09:36:33.315Z"
   },
   {
    "duration": 9,
    "start_time": "2023-10-31T09:36:33.472Z"
   },
   {
    "duration": 212,
    "start_time": "2023-10-31T09:36:33.483Z"
   },
   {
    "duration": 388,
    "start_time": "2023-10-31T09:36:33.697Z"
   },
   {
    "duration": 155,
    "start_time": "2023-10-31T09:36:34.087Z"
   },
   {
    "duration": 4,
    "start_time": "2023-10-31T09:36:34.244Z"
   },
   {
    "duration": 20,
    "start_time": "2023-10-31T09:36:34.251Z"
   },
   {
    "duration": 1889,
    "start_time": "2023-10-31T09:36:34.272Z"
   },
   {
    "duration": 21,
    "start_time": "2023-10-31T09:36:36.163Z"
   },
   {
    "duration": 22,
    "start_time": "2023-10-31T09:36:36.186Z"
   },
   {
    "duration": 235,
    "start_time": "2023-10-31T09:36:36.211Z"
   },
   {
    "duration": 6,
    "start_time": "2023-10-31T09:36:36.447Z"
   },
   {
    "duration": 41,
    "start_time": "2023-10-31T09:36:36.455Z"
   },
   {
    "duration": 12,
    "start_time": "2023-10-31T09:36:36.499Z"
   },
   {
    "duration": 11,
    "start_time": "2023-10-31T09:36:36.512Z"
   },
   {
    "duration": 19,
    "start_time": "2023-10-31T09:36:36.525Z"
   },
   {
    "duration": 1375,
    "start_time": "2023-10-31T10:05:56.010Z"
   },
   {
    "duration": 199,
    "start_time": "2023-10-31T10:05:57.387Z"
   },
   {
    "duration": 15,
    "start_time": "2023-10-31T10:05:57.588Z"
   },
   {
    "duration": 10,
    "start_time": "2023-10-31T10:05:57.606Z"
   },
   {
    "duration": 38,
    "start_time": "2023-10-31T10:05:57.617Z"
   },
   {
    "duration": 3,
    "start_time": "2023-10-31T10:05:57.657Z"
   },
   {
    "duration": 74,
    "start_time": "2023-10-31T10:05:57.661Z"
   },
   {
    "duration": 5,
    "start_time": "2023-10-31T10:05:57.736Z"
   },
   {
    "duration": 28,
    "start_time": "2023-10-31T10:05:57.742Z"
   },
   {
    "duration": 9,
    "start_time": "2023-10-31T10:05:57.773Z"
   },
   {
    "duration": 18,
    "start_time": "2023-10-31T10:05:57.784Z"
   },
   {
    "duration": 30,
    "start_time": "2023-10-31T10:05:57.804Z"
   },
   {
    "duration": 26,
    "start_time": "2023-10-31T10:05:57.836Z"
   },
   {
    "duration": 65,
    "start_time": "2023-10-31T10:05:57.864Z"
   },
   {
    "duration": 17,
    "start_time": "2023-10-31T10:05:57.930Z"
   },
   {
    "duration": 58,
    "start_time": "2023-10-31T10:05:57.950Z"
   },
   {
    "duration": 5,
    "start_time": "2023-10-31T10:05:58.010Z"
   },
   {
    "duration": 19,
    "start_time": "2023-10-31T10:05:58.017Z"
   },
   {
    "duration": 32,
    "start_time": "2023-10-31T10:05:58.038Z"
   },
   {
    "duration": 31,
    "start_time": "2023-10-31T10:05:58.072Z"
   },
   {
    "duration": 165,
    "start_time": "2023-10-31T10:05:58.105Z"
   },
   {
    "duration": 10,
    "start_time": "2023-10-31T10:05:58.272Z"
   },
   {
    "duration": 33,
    "start_time": "2023-10-31T10:05:58.283Z"
   },
   {
    "duration": 273,
    "start_time": "2023-10-31T10:05:58.318Z"
   },
   {
    "duration": 2471,
    "start_time": "2023-10-31T10:05:58.593Z"
   },
   {
    "duration": 17,
    "start_time": "2023-10-31T10:06:01.066Z"
   },
   {
    "duration": 124,
    "start_time": "2023-10-31T10:06:01.086Z"
   },
   {
    "duration": 5986,
    "start_time": "2023-10-31T10:06:01.215Z"
   },
   {
    "duration": 5,
    "start_time": "2023-10-31T10:06:07.203Z"
   },
   {
    "duration": 50,
    "start_time": "2023-10-31T10:06:07.210Z"
   },
   {
    "duration": 72,
    "start_time": "2023-10-31T10:06:07.262Z"
   },
   {
    "duration": 9,
    "start_time": "2023-10-31T10:06:07.335Z"
   },
   {
    "duration": 13,
    "start_time": "2023-10-31T10:06:07.346Z"
   },
   {
    "duration": 55,
    "start_time": "2023-10-31T10:06:07.361Z"
   },
   {
    "duration": 187,
    "start_time": "2023-10-31T10:06:07.417Z"
   },
   {
    "duration": 9,
    "start_time": "2023-10-31T10:06:07.606Z"
   },
   {
    "duration": 197,
    "start_time": "2023-10-31T10:06:07.617Z"
   },
   {
    "duration": 419,
    "start_time": "2023-10-31T10:06:07.817Z"
   },
   {
    "duration": 143,
    "start_time": "2023-10-31T10:06:08.238Z"
   },
   {
    "duration": 4,
    "start_time": "2023-10-31T10:06:08.383Z"
   },
   {
    "duration": 31,
    "start_time": "2023-10-31T10:06:08.389Z"
   },
   {
    "duration": 1967,
    "start_time": "2023-10-31T10:06:08.423Z"
   },
   {
    "duration": 26,
    "start_time": "2023-10-31T10:06:10.392Z"
   },
   {
    "duration": 81,
    "start_time": "2023-10-31T10:06:10.419Z"
   },
   {
    "duration": 146,
    "start_time": "2023-10-31T10:06:10.503Z"
   },
   {
    "duration": 5,
    "start_time": "2023-10-31T10:06:10.651Z"
   },
   {
    "duration": 52,
    "start_time": "2023-10-31T10:06:10.658Z"
   },
   {
    "duration": 30,
    "start_time": "2023-10-31T10:06:10.712Z"
   },
   {
    "duration": 11,
    "start_time": "2023-10-31T10:06:10.744Z"
   },
   {
    "duration": 29,
    "start_time": "2023-10-31T10:06:10.757Z"
   },
   {
    "duration": 1268,
    "start_time": "2023-10-31T10:17:19.835Z"
   },
   {
    "duration": 288,
    "start_time": "2023-10-31T10:17:21.105Z"
   },
   {
    "duration": 15,
    "start_time": "2023-10-31T10:17:21.395Z"
   },
   {
    "duration": 36,
    "start_time": "2023-10-31T10:17:21.412Z"
   },
   {
    "duration": 71,
    "start_time": "2023-10-31T10:17:21.450Z"
   },
   {
    "duration": 32,
    "start_time": "2023-10-31T10:17:21.524Z"
   },
   {
    "duration": 86,
    "start_time": "2023-10-31T10:17:21.557Z"
   },
   {
    "duration": 32,
    "start_time": "2023-10-31T10:17:21.644Z"
   },
   {
    "duration": 37,
    "start_time": "2023-10-31T10:17:21.678Z"
   },
   {
    "duration": 47,
    "start_time": "2023-10-31T10:17:21.717Z"
   },
   {
    "duration": 56,
    "start_time": "2023-10-31T10:17:21.766Z"
   },
   {
    "duration": 33,
    "start_time": "2023-10-31T10:17:21.823Z"
   },
   {
    "duration": 52,
    "start_time": "2023-10-31T10:17:21.858Z"
   },
   {
    "duration": 74,
    "start_time": "2023-10-31T10:17:21.913Z"
   },
   {
    "duration": 13,
    "start_time": "2023-10-31T10:17:21.988Z"
   },
   {
    "duration": 38,
    "start_time": "2023-10-31T10:17:22.002Z"
   },
   {
    "duration": 25,
    "start_time": "2023-10-31T10:17:22.042Z"
   },
   {
    "duration": 16,
    "start_time": "2023-10-31T10:17:22.069Z"
   },
   {
    "duration": 52,
    "start_time": "2023-10-31T10:17:22.087Z"
   },
   {
    "duration": 22,
    "start_time": "2023-10-31T10:17:22.140Z"
   },
   {
    "duration": 167,
    "start_time": "2023-10-31T10:17:22.164Z"
   },
   {
    "duration": 10,
    "start_time": "2023-10-31T10:17:22.333Z"
   },
   {
    "duration": 57,
    "start_time": "2023-10-31T10:17:22.344Z"
   },
   {
    "duration": 68,
    "start_time": "2023-10-31T10:17:22.403Z"
   },
   {
    "duration": 2192,
    "start_time": "2023-10-31T10:17:22.473Z"
   },
   {
    "duration": 19,
    "start_time": "2023-10-31T10:17:24.667Z"
   },
   {
    "duration": 83,
    "start_time": "2023-10-31T10:17:24.701Z"
   },
   {
    "duration": 5481,
    "start_time": "2023-10-31T10:17:24.787Z"
   },
   {
    "duration": 5,
    "start_time": "2023-10-31T10:17:30.270Z"
   },
   {
    "duration": 63,
    "start_time": "2023-10-31T10:17:30.277Z"
   },
   {
    "duration": 81,
    "start_time": "2023-10-31T10:17:30.343Z"
   },
   {
    "duration": 19,
    "start_time": "2023-10-31T10:17:30.426Z"
   },
   {
    "duration": 50,
    "start_time": "2023-10-31T10:17:30.447Z"
   },
   {
    "duration": 78,
    "start_time": "2023-10-31T10:17:30.499Z"
   },
   {
    "duration": 201,
    "start_time": "2023-10-31T10:17:30.579Z"
   },
   {
    "duration": 9,
    "start_time": "2023-10-31T10:17:30.782Z"
   },
   {
    "duration": 218,
    "start_time": "2023-10-31T10:17:30.792Z"
   },
   {
    "duration": 382,
    "start_time": "2023-10-31T10:17:31.011Z"
   },
   {
    "duration": 148,
    "start_time": "2023-10-31T10:17:31.395Z"
   },
   {
    "duration": 4,
    "start_time": "2023-10-31T10:17:31.545Z"
   },
   {
    "duration": 141,
    "start_time": "2023-10-31T10:17:31.553Z"
   },
   {
    "duration": 1933,
    "start_time": "2023-10-31T10:17:31.696Z"
   },
   {
    "duration": 23,
    "start_time": "2023-10-31T10:17:33.631Z"
   },
   {
    "duration": 48,
    "start_time": "2023-10-31T10:17:33.656Z"
   },
   {
    "duration": 236,
    "start_time": "2023-10-31T10:17:33.708Z"
   },
   {
    "duration": 6,
    "start_time": "2023-10-31T10:17:33.946Z"
   },
   {
    "duration": 52,
    "start_time": "2023-10-31T10:17:33.954Z"
   },
   {
    "duration": 26,
    "start_time": "2023-10-31T10:17:34.008Z"
   },
   {
    "duration": 48,
    "start_time": "2023-10-31T10:17:34.036Z"
   },
   {
    "duration": 36,
    "start_time": "2023-10-31T10:17:34.086Z"
   },
   {
    "duration": 55,
    "start_time": "2023-10-31T10:18:36.482Z"
   },
   {
    "duration": 88,
    "start_time": "2023-10-31T10:32:17.601Z"
   },
   {
    "duration": 1310,
    "start_time": "2023-10-31T10:32:37.906Z"
   },
   {
    "duration": 263,
    "start_time": "2023-10-31T10:32:39.218Z"
   },
   {
    "duration": 15,
    "start_time": "2023-10-31T10:32:39.482Z"
   },
   {
    "duration": 34,
    "start_time": "2023-10-31T10:32:39.499Z"
   },
   {
    "duration": 94,
    "start_time": "2023-10-31T10:32:39.535Z"
   },
   {
    "duration": 23,
    "start_time": "2023-10-31T10:32:39.631Z"
   },
   {
    "duration": 63,
    "start_time": "2023-10-31T10:32:39.655Z"
   },
   {
    "duration": 5,
    "start_time": "2023-10-31T10:32:39.719Z"
   },
   {
    "duration": 7,
    "start_time": "2023-10-31T10:32:39.725Z"
   },
   {
    "duration": 31,
    "start_time": "2023-10-31T10:32:39.735Z"
   },
   {
    "duration": 21,
    "start_time": "2023-10-31T10:32:39.768Z"
   },
   {
    "duration": 6,
    "start_time": "2023-10-31T10:32:39.791Z"
   },
   {
    "duration": 18,
    "start_time": "2023-10-31T10:32:39.799Z"
   },
   {
    "duration": 44,
    "start_time": "2023-10-31T10:32:39.819Z"
   },
   {
    "duration": 13,
    "start_time": "2023-10-31T10:32:39.864Z"
   },
   {
    "duration": 30,
    "start_time": "2023-10-31T10:32:39.878Z"
   },
   {
    "duration": 5,
    "start_time": "2023-10-31T10:32:39.909Z"
   },
   {
    "duration": 11,
    "start_time": "2023-10-31T10:32:39.915Z"
   },
   {
    "duration": 17,
    "start_time": "2023-10-31T10:32:39.928Z"
   },
   {
    "duration": 6,
    "start_time": "2023-10-31T10:32:39.947Z"
   },
   {
    "duration": 151,
    "start_time": "2023-10-31T10:32:39.955Z"
   },
   {
    "duration": 10,
    "start_time": "2023-10-31T10:32:40.108Z"
   },
   {
    "duration": 35,
    "start_time": "2023-10-31T10:32:40.120Z"
   },
   {
    "duration": 18,
    "start_time": "2023-10-31T10:32:40.157Z"
   },
   {
    "duration": 2091,
    "start_time": "2023-10-31T10:32:40.177Z"
   },
   {
    "duration": 14,
    "start_time": "2023-10-31T10:32:42.270Z"
   },
   {
    "duration": 44,
    "start_time": "2023-10-31T10:32:42.286Z"
   },
   {
    "duration": 5513,
    "start_time": "2023-10-31T10:32:42.334Z"
   },
   {
    "duration": 67,
    "start_time": "2023-10-31T10:32:47.849Z"
   },
   {
    "duration": 91,
    "start_time": "2023-10-31T10:32:47.918Z"
   },
   {
    "duration": 0,
    "start_time": "2023-10-31T10:32:48.010Z"
   },
   {
    "duration": 0,
    "start_time": "2023-10-31T10:32:48.011Z"
   },
   {
    "duration": 0,
    "start_time": "2023-10-31T10:32:48.013Z"
   },
   {
    "duration": 0,
    "start_time": "2023-10-31T10:32:48.014Z"
   },
   {
    "duration": 0,
    "start_time": "2023-10-31T10:32:48.015Z"
   },
   {
    "duration": 0,
    "start_time": "2023-10-31T10:32:48.017Z"
   },
   {
    "duration": 0,
    "start_time": "2023-10-31T10:32:48.018Z"
   },
   {
    "duration": 0,
    "start_time": "2023-10-31T10:32:48.019Z"
   },
   {
    "duration": 0,
    "start_time": "2023-10-31T10:32:48.020Z"
   },
   {
    "duration": 0,
    "start_time": "2023-10-31T10:32:48.021Z"
   },
   {
    "duration": 1,
    "start_time": "2023-10-31T10:32:48.022Z"
   },
   {
    "duration": 0,
    "start_time": "2023-10-31T10:32:48.023Z"
   },
   {
    "duration": 0,
    "start_time": "2023-10-31T10:32:48.025Z"
   },
   {
    "duration": 0,
    "start_time": "2023-10-31T10:32:48.025Z"
   },
   {
    "duration": 0,
    "start_time": "2023-10-31T10:32:48.026Z"
   },
   {
    "duration": 0,
    "start_time": "2023-10-31T10:32:48.027Z"
   },
   {
    "duration": 0,
    "start_time": "2023-10-31T10:32:48.028Z"
   },
   {
    "duration": 0,
    "start_time": "2023-10-31T10:32:48.030Z"
   },
   {
    "duration": 0,
    "start_time": "2023-10-31T10:32:48.030Z"
   },
   {
    "duration": 0,
    "start_time": "2023-10-31T10:32:48.031Z"
   },
   {
    "duration": 0,
    "start_time": "2023-10-31T10:32:48.032Z"
   },
   {
    "duration": 1516,
    "start_time": "2023-10-31T10:35:25.939Z"
   },
   {
    "duration": 1304,
    "start_time": "2023-10-31T10:35:38.030Z"
   },
   {
    "duration": 430,
    "start_time": "2023-10-31T10:35:39.336Z"
   },
   {
    "duration": 16,
    "start_time": "2023-10-31T10:35:39.767Z"
   },
   {
    "duration": 33,
    "start_time": "2023-10-31T10:35:39.784Z"
   },
   {
    "duration": 56,
    "start_time": "2023-10-31T10:35:39.820Z"
   },
   {
    "duration": 6,
    "start_time": "2023-10-31T10:35:39.878Z"
   },
   {
    "duration": 63,
    "start_time": "2023-10-31T10:35:39.886Z"
   },
   {
    "duration": 6,
    "start_time": "2023-10-31T10:35:39.950Z"
   },
   {
    "duration": 30,
    "start_time": "2023-10-31T10:35:39.957Z"
   },
   {
    "duration": 30,
    "start_time": "2023-10-31T10:35:39.989Z"
   },
   {
    "duration": 48,
    "start_time": "2023-10-31T10:35:40.020Z"
   },
   {
    "duration": 21,
    "start_time": "2023-10-31T10:35:40.070Z"
   },
   {
    "duration": 47,
    "start_time": "2023-10-31T10:35:40.093Z"
   },
   {
    "duration": 53,
    "start_time": "2023-10-31T10:35:40.143Z"
   },
   {
    "duration": 16,
    "start_time": "2023-10-31T10:35:40.198Z"
   },
   {
    "duration": 34,
    "start_time": "2023-10-31T10:35:40.216Z"
   },
   {
    "duration": 18,
    "start_time": "2023-10-31T10:35:40.252Z"
   },
   {
    "duration": 31,
    "start_time": "2023-10-31T10:35:40.272Z"
   },
   {
    "duration": 24,
    "start_time": "2023-10-31T10:35:40.306Z"
   },
   {
    "duration": 13,
    "start_time": "2023-10-31T10:35:40.332Z"
   },
   {
    "duration": 137,
    "start_time": "2023-10-31T10:35:40.347Z"
   },
   {
    "duration": 19,
    "start_time": "2023-10-31T10:35:40.486Z"
   },
   {
    "duration": 13,
    "start_time": "2023-10-31T10:35:40.506Z"
   },
   {
    "duration": 10,
    "start_time": "2023-10-31T10:35:40.521Z"
   },
   {
    "duration": 2154,
    "start_time": "2023-10-31T10:35:40.532Z"
   },
   {
    "duration": 25,
    "start_time": "2023-10-31T10:35:42.687Z"
   },
   {
    "duration": 34,
    "start_time": "2023-10-31T10:35:42.714Z"
   },
   {
    "duration": 5568,
    "start_time": "2023-10-31T10:35:42.750Z"
   },
   {
    "duration": 55,
    "start_time": "2023-10-31T10:35:48.320Z"
   },
   {
    "duration": 1492,
    "start_time": "2023-10-31T10:35:48.376Z"
   },
   {
    "duration": 0,
    "start_time": "2023-10-31T10:35:49.870Z"
   },
   {
    "duration": 0,
    "start_time": "2023-10-31T10:35:49.871Z"
   },
   {
    "duration": 0,
    "start_time": "2023-10-31T10:35:49.872Z"
   },
   {
    "duration": 0,
    "start_time": "2023-10-31T10:35:49.874Z"
   },
   {
    "duration": 0,
    "start_time": "2023-10-31T10:35:49.876Z"
   },
   {
    "duration": 0,
    "start_time": "2023-10-31T10:35:49.877Z"
   },
   {
    "duration": 0,
    "start_time": "2023-10-31T10:35:49.878Z"
   },
   {
    "duration": 0,
    "start_time": "2023-10-31T10:35:49.879Z"
   },
   {
    "duration": 0,
    "start_time": "2023-10-31T10:35:49.880Z"
   },
   {
    "duration": 0,
    "start_time": "2023-10-31T10:35:49.882Z"
   },
   {
    "duration": 0,
    "start_time": "2023-10-31T10:35:49.883Z"
   },
   {
    "duration": 0,
    "start_time": "2023-10-31T10:35:49.884Z"
   },
   {
    "duration": 0,
    "start_time": "2023-10-31T10:35:49.884Z"
   },
   {
    "duration": 0,
    "start_time": "2023-10-31T10:35:49.886Z"
   },
   {
    "duration": 0,
    "start_time": "2023-10-31T10:35:49.887Z"
   },
   {
    "duration": 0,
    "start_time": "2023-10-31T10:35:49.888Z"
   },
   {
    "duration": 0,
    "start_time": "2023-10-31T10:35:49.889Z"
   },
   {
    "duration": 0,
    "start_time": "2023-10-31T10:35:49.891Z"
   },
   {
    "duration": 0,
    "start_time": "2023-10-31T10:35:49.892Z"
   },
   {
    "duration": 0,
    "start_time": "2023-10-31T10:35:49.893Z"
   },
   {
    "duration": 0,
    "start_time": "2023-10-31T10:35:49.894Z"
   },
   {
    "duration": 1187,
    "start_time": "2023-10-31T10:37:28.011Z"
   },
   {
    "duration": 1316,
    "start_time": "2023-10-31T10:40:39.470Z"
   },
   {
    "duration": 202,
    "start_time": "2023-10-31T10:40:40.788Z"
   },
   {
    "duration": 15,
    "start_time": "2023-10-31T10:40:40.992Z"
   },
   {
    "duration": 7,
    "start_time": "2023-10-31T10:40:41.008Z"
   },
   {
    "duration": 43,
    "start_time": "2023-10-31T10:40:41.017Z"
   },
   {
    "duration": 3,
    "start_time": "2023-10-31T10:40:41.062Z"
   },
   {
    "duration": 48,
    "start_time": "2023-10-31T10:40:41.066Z"
   },
   {
    "duration": 4,
    "start_time": "2023-10-31T10:40:41.116Z"
   },
   {
    "duration": 12,
    "start_time": "2023-10-31T10:40:41.121Z"
   },
   {
    "duration": 30,
    "start_time": "2023-10-31T10:40:41.135Z"
   },
   {
    "duration": 24,
    "start_time": "2023-10-31T10:40:41.167Z"
   },
   {
    "duration": 10,
    "start_time": "2023-10-31T10:40:41.192Z"
   },
   {
    "duration": 18,
    "start_time": "2023-10-31T10:40:41.204Z"
   },
   {
    "duration": 47,
    "start_time": "2023-10-31T10:40:41.225Z"
   },
   {
    "duration": 12,
    "start_time": "2023-10-31T10:40:41.274Z"
   },
   {
    "duration": 28,
    "start_time": "2023-10-31T10:40:41.287Z"
   },
   {
    "duration": 5,
    "start_time": "2023-10-31T10:40:41.316Z"
   },
   {
    "duration": 11,
    "start_time": "2023-10-31T10:40:41.322Z"
   },
   {
    "duration": 11,
    "start_time": "2023-10-31T10:40:41.335Z"
   },
   {
    "duration": 13,
    "start_time": "2023-10-31T10:40:41.348Z"
   },
   {
    "duration": 151,
    "start_time": "2023-10-31T10:40:41.362Z"
   },
   {
    "duration": 9,
    "start_time": "2023-10-31T10:40:41.515Z"
   },
   {
    "duration": 44,
    "start_time": "2023-10-31T10:40:41.526Z"
   },
   {
    "duration": 32,
    "start_time": "2023-10-31T10:40:41.572Z"
   },
   {
    "duration": 2095,
    "start_time": "2023-10-31T10:40:41.606Z"
   },
   {
    "duration": 15,
    "start_time": "2023-10-31T10:40:43.703Z"
   },
   {
    "duration": 29,
    "start_time": "2023-10-31T10:40:43.720Z"
   },
   {
    "duration": 5493,
    "start_time": "2023-10-31T10:40:43.751Z"
   },
   {
    "duration": 70,
    "start_time": "2023-10-31T10:40:49.246Z"
   },
   {
    "duration": 17,
    "start_time": "2023-10-31T10:40:49.318Z"
   },
   {
    "duration": 94,
    "start_time": "2023-10-31T10:40:49.337Z"
   },
   {
    "duration": 8,
    "start_time": "2023-10-31T10:40:49.433Z"
   },
   {
    "duration": 46,
    "start_time": "2023-10-31T10:40:49.443Z"
   },
   {
    "duration": 21,
    "start_time": "2023-10-31T10:40:49.491Z"
   },
   {
    "duration": 164,
    "start_time": "2023-10-31T10:40:49.514Z"
   },
   {
    "duration": 23,
    "start_time": "2023-10-31T10:40:49.680Z"
   },
   {
    "duration": 191,
    "start_time": "2023-10-31T10:40:49.704Z"
   },
   {
    "duration": 384,
    "start_time": "2023-10-31T10:40:49.897Z"
   },
   {
    "duration": 148,
    "start_time": "2023-10-31T10:40:50.284Z"
   },
   {
    "duration": 4,
    "start_time": "2023-10-31T10:40:50.434Z"
   },
   {
    "duration": 27,
    "start_time": "2023-10-31T10:40:50.443Z"
   },
   {
    "duration": 1844,
    "start_time": "2023-10-31T10:40:50.472Z"
   },
   {
    "duration": 25,
    "start_time": "2023-10-31T10:40:52.318Z"
   },
   {
    "duration": 61,
    "start_time": "2023-10-31T10:40:52.345Z"
   },
   {
    "duration": 190,
    "start_time": "2023-10-31T10:40:52.408Z"
   },
   {
    "duration": 5,
    "start_time": "2023-10-31T10:40:52.600Z"
   },
   {
    "duration": 28,
    "start_time": "2023-10-31T10:40:52.607Z"
   },
   {
    "duration": 17,
    "start_time": "2023-10-31T10:40:52.637Z"
   },
   {
    "duration": 47,
    "start_time": "2023-10-31T10:40:52.656Z"
   },
   {
    "duration": 24,
    "start_time": "2023-10-31T10:40:52.704Z"
   },
   {
    "duration": 1302,
    "start_time": "2023-10-31T11:12:01.009Z"
   },
   {
    "duration": 227,
    "start_time": "2023-10-31T11:12:02.313Z"
   },
   {
    "duration": 19,
    "start_time": "2023-10-31T11:12:02.542Z"
   },
   {
    "duration": 43,
    "start_time": "2023-10-31T11:12:02.563Z"
   },
   {
    "duration": 145,
    "start_time": "2023-10-31T11:12:02.609Z"
   },
   {
    "duration": 34,
    "start_time": "2023-10-31T11:12:02.756Z"
   },
   {
    "duration": 72,
    "start_time": "2023-10-31T11:12:02.792Z"
   },
   {
    "duration": 19,
    "start_time": "2023-10-31T11:12:02.866Z"
   },
   {
    "duration": 96,
    "start_time": "2023-10-31T11:12:02.887Z"
   },
   {
    "duration": 51,
    "start_time": "2023-10-31T11:12:02.985Z"
   },
   {
    "duration": 34,
    "start_time": "2023-10-31T11:12:03.038Z"
   },
   {
    "duration": 23,
    "start_time": "2023-10-31T11:12:03.074Z"
   },
   {
    "duration": 105,
    "start_time": "2023-10-31T11:12:03.099Z"
   },
   {
    "duration": 75,
    "start_time": "2023-10-31T11:12:03.207Z"
   },
   {
    "duration": 14,
    "start_time": "2023-10-31T11:12:03.283Z"
   },
   {
    "duration": 23,
    "start_time": "2023-10-31T11:12:03.299Z"
   },
   {
    "duration": 5,
    "start_time": "2023-10-31T11:12:03.324Z"
   },
   {
    "duration": 11,
    "start_time": "2023-10-31T11:12:03.331Z"
   },
   {
    "duration": 31,
    "start_time": "2023-10-31T11:12:03.344Z"
   },
   {
    "duration": 11,
    "start_time": "2023-10-31T11:12:03.377Z"
   },
   {
    "duration": 157,
    "start_time": "2023-10-31T11:12:03.389Z"
   },
   {
    "duration": 10,
    "start_time": "2023-10-31T11:12:03.548Z"
   },
   {
    "duration": 32,
    "start_time": "2023-10-31T11:12:03.560Z"
   },
   {
    "duration": 12,
    "start_time": "2023-10-31T11:12:03.594Z"
   },
   {
    "duration": 2231,
    "start_time": "2023-10-31T11:12:03.608Z"
   },
   {
    "duration": 15,
    "start_time": "2023-10-31T11:12:05.841Z"
   },
   {
    "duration": 22,
    "start_time": "2023-10-31T11:12:05.858Z"
   },
   {
    "duration": 5600,
    "start_time": "2023-10-31T11:12:05.881Z"
   },
   {
    "duration": 68,
    "start_time": "2023-10-31T11:12:11.483Z"
   },
   {
    "duration": 16,
    "start_time": "2023-10-31T11:12:11.552Z"
   },
   {
    "duration": 106,
    "start_time": "2023-10-31T11:12:11.570Z"
   },
   {
    "duration": 10,
    "start_time": "2023-10-31T11:12:11.677Z"
   },
   {
    "duration": 27,
    "start_time": "2023-10-31T11:12:11.688Z"
   },
   {
    "duration": 73,
    "start_time": "2023-10-31T11:12:11.717Z"
   },
   {
    "duration": 186,
    "start_time": "2023-10-31T11:12:11.792Z"
   },
   {
    "duration": 9,
    "start_time": "2023-10-31T11:12:11.980Z"
   },
   {
    "duration": 201,
    "start_time": "2023-10-31T11:12:11.991Z"
   },
   {
    "duration": 396,
    "start_time": "2023-10-31T11:12:12.194Z"
   },
   {
    "duration": 146,
    "start_time": "2023-10-31T11:12:12.592Z"
   },
   {
    "duration": 4,
    "start_time": "2023-10-31T11:12:12.739Z"
   },
   {
    "duration": 12,
    "start_time": "2023-10-31T11:12:12.747Z"
   },
   {
    "duration": 1967,
    "start_time": "2023-10-31T11:12:12.761Z"
   },
   {
    "duration": 28,
    "start_time": "2023-10-31T11:12:14.730Z"
   },
   {
    "duration": 44,
    "start_time": "2023-10-31T11:12:14.761Z"
   },
   {
    "duration": 240,
    "start_time": "2023-10-31T11:12:14.809Z"
   },
   {
    "duration": 65,
    "start_time": "2023-10-31T11:12:15.051Z"
   },
   {
    "duration": 120,
    "start_time": "2023-10-31T11:12:15.118Z"
   },
   {
    "duration": 6,
    "start_time": "2023-10-31T11:12:15.240Z"
   },
   {
    "duration": 50,
    "start_time": "2023-10-31T11:12:15.248Z"
   },
   {
    "duration": 26,
    "start_time": "2023-10-31T11:12:15.299Z"
   },
   {
    "duration": 10,
    "start_time": "2023-10-31T11:18:19.303Z"
   },
   {
    "duration": 1292,
    "start_time": "2023-10-31T11:21:03.217Z"
   },
   {
    "duration": 335,
    "start_time": "2023-10-31T11:21:04.511Z"
   },
   {
    "duration": 15,
    "start_time": "2023-10-31T11:21:04.847Z"
   },
   {
    "duration": 17,
    "start_time": "2023-10-31T11:21:04.864Z"
   },
   {
    "duration": 35,
    "start_time": "2023-10-31T11:21:04.884Z"
   },
   {
    "duration": 3,
    "start_time": "2023-10-31T11:21:04.921Z"
   },
   {
    "duration": 48,
    "start_time": "2023-10-31T11:21:04.925Z"
   },
   {
    "duration": 4,
    "start_time": "2023-10-31T11:21:04.975Z"
   },
   {
    "duration": 11,
    "start_time": "2023-10-31T11:21:04.981Z"
   },
   {
    "duration": 9,
    "start_time": "2023-10-31T11:21:04.994Z"
   },
   {
    "duration": 22,
    "start_time": "2023-10-31T11:21:05.005Z"
   },
   {
    "duration": 4,
    "start_time": "2023-10-31T11:21:05.029Z"
   },
   {
    "duration": 18,
    "start_time": "2023-10-31T11:21:05.035Z"
   },
   {
    "duration": 69,
    "start_time": "2023-10-31T11:21:05.056Z"
   },
   {
    "duration": 14,
    "start_time": "2023-10-31T11:21:05.127Z"
   },
   {
    "duration": 28,
    "start_time": "2023-10-31T11:21:05.143Z"
   },
   {
    "duration": 5,
    "start_time": "2023-10-31T11:21:05.173Z"
   },
   {
    "duration": 21,
    "start_time": "2023-10-31T11:21:05.180Z"
   },
   {
    "duration": 12,
    "start_time": "2023-10-31T11:21:05.204Z"
   },
   {
    "duration": 6,
    "start_time": "2023-10-31T11:21:05.219Z"
   },
   {
    "duration": 164,
    "start_time": "2023-10-31T11:21:05.227Z"
   },
   {
    "duration": 14,
    "start_time": "2023-10-31T11:21:05.393Z"
   },
   {
    "duration": 39,
    "start_time": "2023-10-31T11:21:05.409Z"
   },
   {
    "duration": 46,
    "start_time": "2023-10-31T11:21:05.450Z"
   },
   {
    "duration": 2203,
    "start_time": "2023-10-31T11:21:05.498Z"
   },
   {
    "duration": 16,
    "start_time": "2023-10-31T11:21:07.703Z"
   },
   {
    "duration": 34,
    "start_time": "2023-10-31T11:21:07.721Z"
   },
   {
    "duration": 5587,
    "start_time": "2023-10-31T11:21:07.757Z"
   },
   {
    "duration": 79,
    "start_time": "2023-10-31T11:21:13.346Z"
   },
   {
    "duration": 16,
    "start_time": "2023-10-31T11:21:13.427Z"
   },
   {
    "duration": 163,
    "start_time": "2023-10-31T11:21:13.445Z"
   },
   {
    "duration": 11,
    "start_time": "2023-10-31T11:21:13.610Z"
   },
   {
    "duration": 18,
    "start_time": "2023-10-31T11:21:13.623Z"
   },
   {
    "duration": 18,
    "start_time": "2023-10-31T11:21:13.643Z"
   },
   {
    "duration": 177,
    "start_time": "2023-10-31T11:21:13.663Z"
   },
   {
    "duration": 11,
    "start_time": "2023-10-31T11:21:13.842Z"
   },
   {
    "duration": 236,
    "start_time": "2023-10-31T11:21:13.855Z"
   },
   {
    "duration": 410,
    "start_time": "2023-10-31T11:21:14.094Z"
   },
   {
    "duration": 11,
    "start_time": "2023-10-31T11:21:14.506Z"
   },
   {
    "duration": 187,
    "start_time": "2023-10-31T11:21:14.519Z"
   },
   {
    "duration": 5,
    "start_time": "2023-10-31T11:21:14.711Z"
   },
   {
    "duration": 18,
    "start_time": "2023-10-31T11:21:14.718Z"
   },
   {
    "duration": 1888,
    "start_time": "2023-10-31T11:21:14.741Z"
   },
   {
    "duration": 24,
    "start_time": "2023-10-31T11:21:16.631Z"
   },
   {
    "duration": 50,
    "start_time": "2023-10-31T11:21:16.657Z"
   },
   {
    "duration": 253,
    "start_time": "2023-10-31T11:21:16.710Z"
   },
   {
    "duration": 9,
    "start_time": "2023-10-31T11:21:16.965Z"
   },
   {
    "duration": 50,
    "start_time": "2023-10-31T11:21:16.976Z"
   },
   {
    "duration": 14,
    "start_time": "2023-10-31T11:21:17.028Z"
   },
   {
    "duration": 27,
    "start_time": "2023-10-31T11:21:17.044Z"
   },
   {
    "duration": 31,
    "start_time": "2023-10-31T11:21:17.073Z"
   },
   {
    "duration": 13,
    "start_time": "2023-10-31T11:22:13.839Z"
   },
   {
    "duration": 11,
    "start_time": "2023-10-31T11:22:33.861Z"
   },
   {
    "duration": 13,
    "start_time": "2023-10-31T11:22:40.327Z"
   },
   {
    "duration": 10,
    "start_time": "2023-10-31T11:22:48.815Z"
   },
   {
    "duration": 13,
    "start_time": "2023-10-31T11:22:56.530Z"
   },
   {
    "duration": 14,
    "start_time": "2023-10-31T11:23:04.268Z"
   },
   {
    "duration": 11,
    "start_time": "2023-10-31T11:23:12.732Z"
   },
   {
    "duration": 15,
    "start_time": "2023-10-31T11:27:28.677Z"
   },
   {
    "duration": 217,
    "start_time": "2023-10-31T11:27:28.694Z"
   },
   {
    "duration": 11,
    "start_time": "2023-10-31T11:27:28.913Z"
   },
   {
    "duration": 28,
    "start_time": "2023-10-31T11:27:28.926Z"
   },
   {
    "duration": 52,
    "start_time": "2023-10-31T11:27:28.956Z"
   },
   {
    "duration": 3,
    "start_time": "2023-10-31T11:27:29.010Z"
   },
   {
    "duration": 46,
    "start_time": "2023-10-31T11:27:29.015Z"
   },
   {
    "duration": 4,
    "start_time": "2023-10-31T11:27:29.063Z"
   },
   {
    "duration": 46,
    "start_time": "2023-10-31T11:27:29.069Z"
   },
   {
    "duration": 9,
    "start_time": "2023-10-31T11:27:29.116Z"
   },
   {
    "duration": 27,
    "start_time": "2023-10-31T11:27:29.127Z"
   },
   {
    "duration": 11,
    "start_time": "2023-10-31T11:27:29.156Z"
   },
   {
    "duration": 40,
    "start_time": "2023-10-31T11:27:29.168Z"
   },
   {
    "duration": 42,
    "start_time": "2023-10-31T11:27:29.211Z"
   },
   {
    "duration": 13,
    "start_time": "2023-10-31T11:27:29.254Z"
   },
   {
    "duration": 35,
    "start_time": "2023-10-31T11:27:29.269Z"
   },
   {
    "duration": 5,
    "start_time": "2023-10-31T11:27:29.306Z"
   },
   {
    "duration": 5,
    "start_time": "2023-10-31T11:27:29.313Z"
   },
   {
    "duration": 38,
    "start_time": "2023-10-31T11:27:29.320Z"
   },
   {
    "duration": 13,
    "start_time": "2023-10-31T11:27:29.359Z"
   },
   {
    "duration": 165,
    "start_time": "2023-10-31T11:27:29.374Z"
   },
   {
    "duration": 9,
    "start_time": "2023-10-31T11:27:29.541Z"
   },
   {
    "duration": 36,
    "start_time": "2023-10-31T11:27:29.552Z"
   },
   {
    "duration": 10,
    "start_time": "2023-10-31T11:27:29.590Z"
   },
   {
    "duration": 2180,
    "start_time": "2023-10-31T11:27:29.602Z"
   },
   {
    "duration": 27,
    "start_time": "2023-10-31T11:27:31.784Z"
   },
   {
    "duration": 142,
    "start_time": "2023-10-31T11:27:31.813Z"
   },
   {
    "duration": 5653,
    "start_time": "2023-10-31T11:27:31.958Z"
   },
   {
    "duration": 57,
    "start_time": "2023-10-31T11:27:37.613Z"
   },
   {
    "duration": 40,
    "start_time": "2023-10-31T11:27:37.672Z"
   },
   {
    "duration": 88,
    "start_time": "2023-10-31T11:27:37.718Z"
   },
   {
    "duration": 9,
    "start_time": "2023-10-31T11:27:37.808Z"
   },
   {
    "duration": 36,
    "start_time": "2023-10-31T11:27:37.818Z"
   },
   {
    "duration": 30,
    "start_time": "2023-10-31T11:27:37.856Z"
   },
   {
    "duration": 186,
    "start_time": "2023-10-31T11:27:37.887Z"
   },
   {
    "duration": 10,
    "start_time": "2023-10-31T11:27:38.075Z"
   },
   {
    "duration": 184,
    "start_time": "2023-10-31T11:27:38.087Z"
   },
   {
    "duration": 420,
    "start_time": "2023-10-31T11:27:38.272Z"
   },
   {
    "duration": 13,
    "start_time": "2023-10-31T11:27:38.702Z"
   },
   {
    "duration": 155,
    "start_time": "2023-10-31T11:27:38.717Z"
   },
   {
    "duration": 4,
    "start_time": "2023-10-31T11:27:38.874Z"
   },
   {
    "duration": 175,
    "start_time": "2023-10-31T11:27:38.880Z"
   },
   {
    "duration": 2031,
    "start_time": "2023-10-31T11:27:39.057Z"
   },
   {
    "duration": 27,
    "start_time": "2023-10-31T11:27:41.091Z"
   },
   {
    "duration": 82,
    "start_time": "2023-10-31T11:27:41.120Z"
   },
   {
    "duration": 144,
    "start_time": "2023-10-31T11:27:41.204Z"
   },
   {
    "duration": 5,
    "start_time": "2023-10-31T11:27:41.350Z"
   },
   {
    "duration": 28,
    "start_time": "2023-10-31T11:27:41.357Z"
   },
   {
    "duration": 11,
    "start_time": "2023-10-31T11:27:41.387Z"
   },
   {
    "duration": 19,
    "start_time": "2023-10-31T11:27:41.401Z"
   },
   {
    "duration": 19,
    "start_time": "2023-10-31T11:27:41.421Z"
   },
   {
    "duration": 1580,
    "start_time": "2023-10-31T12:13:53.283Z"
   },
   {
    "duration": 251,
    "start_time": "2023-10-31T12:13:54.865Z"
   },
   {
    "duration": 14,
    "start_time": "2023-10-31T12:13:55.118Z"
   },
   {
    "duration": 28,
    "start_time": "2023-10-31T12:13:55.134Z"
   },
   {
    "duration": 36,
    "start_time": "2023-10-31T12:13:55.164Z"
   },
   {
    "duration": 2,
    "start_time": "2023-10-31T12:13:55.202Z"
   },
   {
    "duration": 52,
    "start_time": "2023-10-31T12:13:55.206Z"
   },
   {
    "duration": 5,
    "start_time": "2023-10-31T12:13:55.259Z"
   },
   {
    "duration": 35,
    "start_time": "2023-10-31T12:13:55.266Z"
   },
   {
    "duration": 16,
    "start_time": "2023-10-31T12:13:55.303Z"
   },
   {
    "duration": 27,
    "start_time": "2023-10-31T12:13:55.321Z"
   },
   {
    "duration": 4,
    "start_time": "2023-10-31T12:13:55.350Z"
   },
   {
    "duration": 25,
    "start_time": "2023-10-31T12:13:55.356Z"
   },
   {
    "duration": 40,
    "start_time": "2023-10-31T12:13:55.383Z"
   },
   {
    "duration": 30,
    "start_time": "2023-10-31T12:13:55.425Z"
   },
   {
    "duration": 18,
    "start_time": "2023-10-31T12:13:55.457Z"
   },
   {
    "duration": 5,
    "start_time": "2023-10-31T12:13:55.476Z"
   },
   {
    "duration": 30,
    "start_time": "2023-10-31T12:13:55.483Z"
   },
   {
    "duration": 45,
    "start_time": "2023-10-31T12:13:55.515Z"
   },
   {
    "duration": 10,
    "start_time": "2023-10-31T12:13:55.561Z"
   },
   {
    "duration": 128,
    "start_time": "2023-10-31T12:13:55.573Z"
   },
   {
    "duration": 9,
    "start_time": "2023-10-31T12:13:55.703Z"
   },
   {
    "duration": 27,
    "start_time": "2023-10-31T12:13:55.713Z"
   },
   {
    "duration": 29,
    "start_time": "2023-10-31T12:13:55.742Z"
   },
   {
    "duration": 2018,
    "start_time": "2023-10-31T12:13:55.772Z"
   },
   {
    "duration": 14,
    "start_time": "2023-10-31T12:13:57.791Z"
   },
   {
    "duration": 7,
    "start_time": "2023-10-31T12:13:57.806Z"
   },
   {
    "duration": 5265,
    "start_time": "2023-10-31T12:13:57.816Z"
   },
   {
    "duration": 66,
    "start_time": "2023-10-31T12:14:03.083Z"
   },
   {
    "duration": 14,
    "start_time": "2023-10-31T12:14:03.150Z"
   },
   {
    "duration": 85,
    "start_time": "2023-10-31T12:14:03.165Z"
   },
   {
    "duration": 9,
    "start_time": "2023-10-31T12:14:03.252Z"
   },
   {
    "duration": 64,
    "start_time": "2023-10-31T12:14:03.263Z"
   },
   {
    "duration": 74,
    "start_time": "2023-10-31T12:14:03.329Z"
   },
   {
    "duration": 199,
    "start_time": "2023-10-31T12:14:03.405Z"
   },
   {
    "duration": 9,
    "start_time": "2023-10-31T12:14:03.606Z"
   },
   {
    "duration": 286,
    "start_time": "2023-10-31T12:14:03.616Z"
   },
   {
    "duration": 381,
    "start_time": "2023-10-31T12:14:03.904Z"
   },
   {
    "duration": 14,
    "start_time": "2023-10-31T12:14:04.287Z"
   },
   {
    "duration": 177,
    "start_time": "2023-10-31T12:14:04.303Z"
   },
   {
    "duration": 7,
    "start_time": "2023-10-31T12:14:04.482Z"
   },
   {
    "duration": 19,
    "start_time": "2023-10-31T12:14:04.491Z"
   },
   {
    "duration": 1853,
    "start_time": "2023-10-31T12:14:04.512Z"
   },
   {
    "duration": 23,
    "start_time": "2023-10-31T12:14:06.367Z"
   },
   {
    "duration": 57,
    "start_time": "2023-10-31T12:14:06.392Z"
   },
   {
    "duration": 140,
    "start_time": "2023-10-31T12:14:06.452Z"
   },
   {
    "duration": 5,
    "start_time": "2023-10-31T12:14:06.594Z"
   },
   {
    "duration": 57,
    "start_time": "2023-10-31T12:14:06.601Z"
   },
   {
    "duration": 16,
    "start_time": "2023-10-31T12:14:06.660Z"
   },
   {
    "duration": 47,
    "start_time": "2023-10-31T12:14:06.678Z"
   },
   {
    "duration": 27,
    "start_time": "2023-10-31T12:14:06.726Z"
   },
   {
    "duration": 1247,
    "start_time": "2023-10-31T12:17:47.738Z"
   },
   {
    "duration": 207,
    "start_time": "2023-10-31T12:17:48.987Z"
   },
   {
    "duration": 14,
    "start_time": "2023-10-31T12:17:49.198Z"
   },
   {
    "duration": 8,
    "start_time": "2023-10-31T12:17:49.213Z"
   },
   {
    "duration": 37,
    "start_time": "2023-10-31T12:17:49.223Z"
   },
   {
    "duration": 3,
    "start_time": "2023-10-31T12:17:49.262Z"
   },
   {
    "duration": 30,
    "start_time": "2023-10-31T12:17:49.267Z"
   },
   {
    "duration": 4,
    "start_time": "2023-10-31T12:17:49.299Z"
   },
   {
    "duration": 8,
    "start_time": "2023-10-31T12:17:49.306Z"
   },
   {
    "duration": 28,
    "start_time": "2023-10-31T12:17:49.316Z"
   },
   {
    "duration": 16,
    "start_time": "2023-10-31T12:17:49.345Z"
   },
   {
    "duration": 5,
    "start_time": "2023-10-31T12:17:49.363Z"
   },
   {
    "duration": 25,
    "start_time": "2023-10-31T12:17:49.369Z"
   },
   {
    "duration": 64,
    "start_time": "2023-10-31T12:17:49.397Z"
   },
   {
    "duration": 12,
    "start_time": "2023-10-31T12:17:49.463Z"
   },
   {
    "duration": 36,
    "start_time": "2023-10-31T12:17:49.476Z"
   },
   {
    "duration": 19,
    "start_time": "2023-10-31T12:17:49.514Z"
   },
   {
    "duration": 11,
    "start_time": "2023-10-31T12:17:49.535Z"
   },
   {
    "duration": 15,
    "start_time": "2023-10-31T12:17:49.548Z"
   },
   {
    "duration": 27,
    "start_time": "2023-10-31T12:17:49.565Z"
   },
   {
    "duration": 131,
    "start_time": "2023-10-31T12:17:49.593Z"
   },
   {
    "duration": 9,
    "start_time": "2023-10-31T12:17:49.725Z"
   },
   {
    "duration": 14,
    "start_time": "2023-10-31T12:17:49.744Z"
   },
   {
    "duration": 11,
    "start_time": "2023-10-31T12:17:49.760Z"
   },
   {
    "duration": 2027,
    "start_time": "2023-10-31T12:17:49.773Z"
   },
   {
    "duration": 15,
    "start_time": "2023-10-31T12:17:51.801Z"
   },
   {
    "duration": 35,
    "start_time": "2023-10-31T12:17:51.819Z"
   },
   {
    "duration": 5346,
    "start_time": "2023-10-31T12:17:51.856Z"
   },
   {
    "duration": 65,
    "start_time": "2023-10-31T12:17:57.204Z"
   },
   {
    "duration": 18,
    "start_time": "2023-10-31T12:17:57.271Z"
   },
   {
    "duration": 81,
    "start_time": "2023-10-31T12:17:57.291Z"
   },
   {
    "duration": 8,
    "start_time": "2023-10-31T12:17:57.374Z"
   },
   {
    "duration": 17,
    "start_time": "2023-10-31T12:17:57.383Z"
   },
   {
    "duration": 17,
    "start_time": "2023-10-31T12:17:57.402Z"
   },
   {
    "duration": 175,
    "start_time": "2023-10-31T12:17:57.421Z"
   },
   {
    "duration": 10,
    "start_time": "2023-10-31T12:17:57.598Z"
   },
   {
    "duration": 180,
    "start_time": "2023-10-31T12:17:57.610Z"
   },
   {
    "duration": 358,
    "start_time": "2023-10-31T12:17:57.792Z"
   },
   {
    "duration": 10,
    "start_time": "2023-10-31T12:17:58.152Z"
   },
   {
    "duration": 137,
    "start_time": "2023-10-31T12:17:58.164Z"
   },
   {
    "duration": 4,
    "start_time": "2023-10-31T12:17:58.303Z"
   },
   {
    "duration": 58,
    "start_time": "2023-10-31T12:17:58.308Z"
   },
   {
    "duration": 1771,
    "start_time": "2023-10-31T12:17:58.368Z"
   },
   {
    "duration": 22,
    "start_time": "2023-10-31T12:18:00.141Z"
   },
   {
    "duration": 50,
    "start_time": "2023-10-31T12:18:00.164Z"
   },
   {
    "duration": 192,
    "start_time": "2023-10-31T12:18:00.215Z"
   },
   {
    "duration": 5,
    "start_time": "2023-10-31T12:18:00.409Z"
   },
   {
    "duration": 46,
    "start_time": "2023-10-31T12:18:00.415Z"
   },
   {
    "duration": 28,
    "start_time": "2023-10-31T12:18:00.463Z"
   },
   {
    "duration": 74,
    "start_time": "2023-10-31T12:18:00.493Z"
   },
   {
    "duration": 46,
    "start_time": "2023-10-31T12:18:00.569Z"
   },
   {
    "duration": 175,
    "start_time": "2023-10-31T12:26:07.458Z"
   },
   {
    "duration": 8,
    "start_time": "2023-10-31T13:44:02.329Z"
   },
   {
    "duration": 1245,
    "start_time": "2023-10-31T13:59:01.436Z"
   },
   {
    "duration": 228,
    "start_time": "2023-10-31T13:59:02.684Z"
   },
   {
    "duration": 15,
    "start_time": "2023-10-31T13:59:02.913Z"
   },
   {
    "duration": 45,
    "start_time": "2023-10-31T13:59:02.930Z"
   },
   {
    "duration": 69,
    "start_time": "2023-10-31T13:59:02.976Z"
   },
   {
    "duration": 12,
    "start_time": "2023-10-31T13:59:03.047Z"
   },
   {
    "duration": 61,
    "start_time": "2023-10-31T13:59:03.060Z"
   },
   {
    "duration": 7,
    "start_time": "2023-10-31T13:59:03.123Z"
   },
   {
    "duration": 31,
    "start_time": "2023-10-31T13:59:03.132Z"
   },
   {
    "duration": 37,
    "start_time": "2023-10-31T13:59:03.166Z"
   },
   {
    "duration": 220,
    "start_time": "2023-10-31T13:59:03.204Z"
   },
   {
    "duration": 201,
    "start_time": "2023-10-31T13:59:03.425Z"
   },
   {
    "duration": 3,
    "start_time": "2023-10-31T13:59:03.628Z"
   },
   {
    "duration": 28,
    "start_time": "2023-10-31T13:59:03.633Z"
   },
   {
    "duration": 42,
    "start_time": "2023-10-31T13:59:03.663Z"
   },
   {
    "duration": 16,
    "start_time": "2023-10-31T13:59:03.706Z"
   },
   {
    "duration": 50,
    "start_time": "2023-10-31T13:59:03.723Z"
   },
   {
    "duration": 24,
    "start_time": "2023-10-31T13:59:03.776Z"
   },
   {
    "duration": 21,
    "start_time": "2023-10-31T13:59:03.802Z"
   },
   {
    "duration": 20,
    "start_time": "2023-10-31T13:59:03.825Z"
   },
   {
    "duration": 26,
    "start_time": "2023-10-31T13:59:03.846Z"
   },
   {
    "duration": 122,
    "start_time": "2023-10-31T13:59:03.874Z"
   },
   {
    "duration": 8,
    "start_time": "2023-10-31T13:59:03.998Z"
   },
   {
    "duration": 23,
    "start_time": "2023-10-31T13:59:04.008Z"
   },
   {
    "duration": 22,
    "start_time": "2023-10-31T13:59:04.032Z"
   },
   {
    "duration": 2081,
    "start_time": "2023-10-31T13:59:04.055Z"
   },
   {
    "duration": 17,
    "start_time": "2023-10-31T13:59:06.138Z"
   },
   {
    "duration": 4,
    "start_time": "2023-10-31T13:59:06.159Z"
   },
   {
    "duration": 5226,
    "start_time": "2023-10-31T13:59:06.164Z"
   },
   {
    "duration": 65,
    "start_time": "2023-10-31T13:59:11.392Z"
   },
   {
    "duration": 214,
    "start_time": "2023-10-31T13:59:11.459Z"
   },
   {
    "duration": 65,
    "start_time": "2023-10-31T13:59:11.675Z"
   },
   {
    "duration": 7,
    "start_time": "2023-10-31T13:59:11.742Z"
   },
   {
    "duration": 35,
    "start_time": "2023-10-31T13:59:11.751Z"
   },
   {
    "duration": 31,
    "start_time": "2023-10-31T13:59:11.788Z"
   },
   {
    "duration": 176,
    "start_time": "2023-10-31T13:59:11.821Z"
   },
   {
    "duration": 10,
    "start_time": "2023-10-31T13:59:11.999Z"
   },
   {
    "duration": 172,
    "start_time": "2023-10-31T13:59:12.010Z"
   },
   {
    "duration": 360,
    "start_time": "2023-10-31T13:59:12.184Z"
   },
   {
    "duration": 10,
    "start_time": "2023-10-31T13:59:12.546Z"
   },
   {
    "duration": 142,
    "start_time": "2023-10-31T13:59:12.558Z"
   },
   {
    "duration": 3,
    "start_time": "2023-10-31T13:59:12.701Z"
   },
   {
    "duration": 42,
    "start_time": "2023-10-31T13:59:12.706Z"
   },
   {
    "duration": 1872,
    "start_time": "2023-10-31T13:59:12.750Z"
   },
   {
    "duration": 30,
    "start_time": "2023-10-31T13:59:14.625Z"
   },
   {
    "duration": 20,
    "start_time": "2023-10-31T13:59:14.657Z"
   },
   {
    "duration": 217,
    "start_time": "2023-10-31T13:59:14.678Z"
   },
   {
    "duration": 5,
    "start_time": "2023-10-31T13:59:14.896Z"
   },
   {
    "duration": 47,
    "start_time": "2023-10-31T13:59:14.903Z"
   },
   {
    "duration": 20,
    "start_time": "2023-10-31T13:59:14.952Z"
   },
   {
    "duration": 19,
    "start_time": "2023-10-31T13:59:14.973Z"
   },
   {
    "duration": 50,
    "start_time": "2023-10-31T13:59:14.994Z"
   }
  ],
  "kernelspec": {
   "display_name": "Python 3 (ipykernel)",
   "language": "python",
   "name": "python3"
  },
  "language_info": {
   "codemirror_mode": {
    "name": "ipython",
    "version": 3
   },
   "file_extension": ".py",
   "mimetype": "text/x-python",
   "name": "python",
   "nbconvert_exporter": "python",
   "pygments_lexer": "ipython3",
   "version": "3.9.5"
  },
  "toc": {
   "base_numbering": 1,
   "nav_menu": {},
   "number_sections": true,
   "sideBar": true,
   "skip_h1_title": true,
   "title_cell": "Table of Contents",
   "title_sidebar": "Contents",
   "toc_cell": false,
   "toc_position": {},
   "toc_section_display": true,
   "toc_window_display": false
  }
 },
 "nbformat": 4,
 "nbformat_minor": 2
}
