{
 "cells": [
  {
   "cell_type": "markdown",
   "metadata": {},
   "source": [
    "**Аналитика крупного интернет-магазина и вывдвижение гипотез**\n",
    "\n",
    "Контекст\n",
    "\n",
    "Вы — аналитик крупного интернет-магазина. Вместе с отделом маркетинга вы подготовили список гипотез для увеличения выручки.\n",
    "Приоритизируйте гипотезы, запустите A/B-тест и проанализируйте результаты. \n",
    "\n",
    "\n",
    "задачи \n",
    "\n",
    "- Примените фреймворк ICE для приоритизации гипотез. Отсортируйте их по убыванию приоритета.\n",
    "- Примените фреймворк RICE для приоритизации гипотез. Отсортируйте их по убыванию приоритета.\n",
    "- Укажите, как изменилась приоритизация гипотез при применении RICE вместо ICE. Объясните, почему так произошло.\n",
    "\n",
    "\n",
    "Проанализируйте A/B-тест:\n",
    "\n",
    "- Постройте график кумулятивной выручки по группам. Сделайте выводы и предположения.\n",
    "- Постройте график кумулятивного среднего чека по группам. Сделайте выводы и предположения.\n",
    "- Постройте график относительного изменения кумулятивного среднего чека группы B к группе A. Сделайте выводы и предположения.\n",
    "- Постройте график кумулятивного среднего количества заказов на посетителя по группам. Сделайте выводы и предположения.\n",
    "- Постройте график относительного изменения кумулятивного среднего количества заказов на посетителя группы B к группе A. Сделайте выводы и предположения.\n",
    "- Постройте точечный график количества заказов по пользователям. Сделайте выводы и предположения.\n",
    "- Посчитайте 95-й и 99-й перцентили количества заказов на пользователя. Выберите границу для определения аномальных пользователей.\n",
    "- Постройте точечный график стоимостей заказов. Сделайте выводы и предположения.\n",
    "- Посчитайте 95-й и 99-й перцентили стоимости заказов. Выберите границу для определения аномальных заказов.\n",
    "- Посчитайте статистическую значимость различий в среднем количестве заказов на посетителя между группами по «сырым» данным. Сделайте выводы и предположения.\n",
    "- Посчитайте статистическую значимость различий в среднем чеке заказа между группами по «сырым» данным. Сделайте выводы и предположения.\n",
    "- Посчитайте статистическую значимость различий в среднем количестве заказов на посетителя между группами по «очищенным» данным. Сделайте выводы и предположения.\n",
    "- Посчитайте статистическую значимость различий в среднем чеке заказа между группами по «очищенным» данным. Сделайте выводы и предположения.\n",
    "\n",
    "\n",
    "Примите решение по результатам теста и объясните его. Варианты решений:\n",
    "\n",
    "1. Остановить тест, зафиксировать победу одной из групп.\n",
    "2. Остановить тест, зафиксировать отсутствие различий между группами.\n",
    "3. Продолжить тест.\n"
   ]
  },
  {
   "cell_type": "markdown",
   "metadata": {},
   "source": [
    "Описание данных\n",
    "Данные для первой части\n",
    "Файл /datasets/hypothesis.csv. Скачать датасет\n",
    "Hypothesis — краткое описание гипотезы;\n",
    "Reach — охват пользователей по 10-балльной шкале;\n",
    "Impact — влияние на пользователей по 10-балльной шкале;\n",
    "Confidence — уверенность в гипотезе по 10-балльной шкале;\n",
    "Efforts — затраты ресурсов на проверку гипотезы по 10-балльной шкале. Чем больше значение Efforts, тем дороже проверка гипотезы.\n",
    "Данные для второй части\n",
    "Файл /datasets/orders.csv. Скачать датасет\n",
    "transactionId — идентификатор заказа;\n",
    "visitorId — идентификатор пользователя, совершившего заказ;\n",
    "date — дата, когда был совершён заказ;\n",
    "revenue — выручка заказа;\n",
    "group — группа A/B-теста, в которую попал заказ.\n",
    "Файл /datasets/visitors.csv. Скачать датасет\n",
    "date — дата;\n",
    "group — группа A/B-теста;\n",
    "visitors — количество пользователей в указанную дату в указанной группе A/B-теста"
   ]
  },
  {
   "cell_type": "code",
   "execution_count": 1,
   "metadata": {},
   "outputs": [],
   "source": [
    "#импорт библиотек \n",
    "import pandas as pd\n",
    "from collections import Counter\n",
    "from datetime import datetime, timedelta\n",
    "import datetime as dt\n",
    "import matplotlib.pyplot as plt\n",
    "import numpy as np\n",
    "from pymystem3 import Mystem\n",
    "import seaborn as sns\n",
    "from scipy import stats as st\n",
    "from scipy import stats\n",
    "from IPython.display import display, Markdown\n",
    "%matplotlib inline\n",
    "import matplotlib.dates as mdates\n",
    "import math\n",
    "import numpy as np\n",
    "import pandas as pd\n",
    "from scipy import stats as st\n",
    "\n"
   ]
  },
  {
   "cell_type": "code",
   "execution_count": 2,
   "metadata": {},
   "outputs": [],
   "source": [
    "hypothesis = pd.read_csv('/datasets/hypothesis.csv')\n",
    "orders = pd.read_csv('/datasets/orders.csv')\n",
    "visitors = pd.read_csv('/datasets/visitors.csv')"
   ]
  },
  {
   "cell_type": "markdown",
   "metadata": {},
   "source": [
    "функция вывода датасетов для 2 части заданяи "
   ]
  },
  {
   "cell_type": "code",
   "execution_count": 3,
   "metadata": {},
   "outputs": [],
   "source": [
    "def display_first_10_rows():\n",
    "    orders = pd.read_csv('/datasets/orders.csv')\n",
    "    visitors = pd.read_csv('/datasets/visitors.csv')\n",
    "\n",
    "    print(\"\\nПервые 10 строк датасета orders:\")\n",
    "    print(orders.head(10))\n",
    "\n",
    "    print(\"\\nПервые 10 строк датасета visitors:\")\n",
    "    print(visitors.head(10))"
   ]
  },
  {
   "cell_type": "markdown",
   "metadata": {},
   "source": [
    "функция для предварительного анализа данных и вывода общей информации "
   ]
  },
  {
   "cell_type": "code",
   "execution_count": 4,
   "metadata": {},
   "outputs": [
    {
     "name": "stdout",
     "output_type": "stream",
     "text": [
      "--- гипотезы ---\n"
     ]
    },
    {
     "data": {
      "text/markdown": [
       "Первые 5 строк:"
      ],
      "text/plain": [
       "<IPython.core.display.Markdown object>"
      ]
     },
     "metadata": {},
     "output_type": "display_data"
    },
    {
     "data": {
      "text/html": [
       "<div>\n",
       "<style scoped>\n",
       "    .dataframe tbody tr th:only-of-type {\n",
       "        vertical-align: middle;\n",
       "    }\n",
       "\n",
       "    .dataframe tbody tr th {\n",
       "        vertical-align: top;\n",
       "    }\n",
       "\n",
       "    .dataframe thead th {\n",
       "        text-align: right;\n",
       "    }\n",
       "</style>\n",
       "<table border=\"1\" class=\"dataframe\">\n",
       "  <thead>\n",
       "    <tr style=\"text-align: right;\">\n",
       "      <th></th>\n",
       "      <th>Hypothesis</th>\n",
       "      <th>Reach</th>\n",
       "      <th>Impact</th>\n",
       "      <th>Confidence</th>\n",
       "      <th>Efforts</th>\n",
       "    </tr>\n",
       "  </thead>\n",
       "  <tbody>\n",
       "    <tr>\n",
       "      <th>0</th>\n",
       "      <td>Добавить два новых канала привлечения трафика,...</td>\n",
       "      <td>3</td>\n",
       "      <td>10</td>\n",
       "      <td>8</td>\n",
       "      <td>6</td>\n",
       "    </tr>\n",
       "    <tr>\n",
       "      <th>1</th>\n",
       "      <td>Запустить собственную службу доставки, что сок...</td>\n",
       "      <td>2</td>\n",
       "      <td>5</td>\n",
       "      <td>4</td>\n",
       "      <td>10</td>\n",
       "    </tr>\n",
       "    <tr>\n",
       "      <th>2</th>\n",
       "      <td>Добавить блоки рекомендаций товаров на сайт ин...</td>\n",
       "      <td>8</td>\n",
       "      <td>3</td>\n",
       "      <td>7</td>\n",
       "      <td>3</td>\n",
       "    </tr>\n",
       "    <tr>\n",
       "      <th>3</th>\n",
       "      <td>Изменить структура категорий, что увеличит кон...</td>\n",
       "      <td>8</td>\n",
       "      <td>3</td>\n",
       "      <td>3</td>\n",
       "      <td>8</td>\n",
       "    </tr>\n",
       "    <tr>\n",
       "      <th>4</th>\n",
       "      <td>Изменить цвет фона главной страницы, чтобы уве...</td>\n",
       "      <td>3</td>\n",
       "      <td>1</td>\n",
       "      <td>1</td>\n",
       "      <td>1</td>\n",
       "    </tr>\n",
       "  </tbody>\n",
       "</table>\n",
       "</div>"
      ],
      "text/plain": [
       "                                          Hypothesis  Reach  Impact  \\\n",
       "0  Добавить два новых канала привлечения трафика,...      3      10   \n",
       "1  Запустить собственную службу доставки, что сок...      2       5   \n",
       "2  Добавить блоки рекомендаций товаров на сайт ин...      8       3   \n",
       "3  Изменить структура категорий, что увеличит кон...      8       3   \n",
       "4  Изменить цвет фона главной страницы, чтобы уве...      3       1   \n",
       "\n",
       "   Confidence  Efforts  \n",
       "0           8        6  \n",
       "1           4       10  \n",
       "2           7        3  \n",
       "3           3        8  \n",
       "4           1        1  "
      ]
     },
     "metadata": {},
     "output_type": "display_data"
    },
    {
     "data": {
      "text/markdown": [
       "Типы данных:"
      ],
      "text/plain": [
       "<IPython.core.display.Markdown object>"
      ]
     },
     "metadata": {},
     "output_type": "display_data"
    },
    {
     "data": {
      "text/html": [
       "<div>\n",
       "<style scoped>\n",
       "    .dataframe tbody tr th:only-of-type {\n",
       "        vertical-align: middle;\n",
       "    }\n",
       "\n",
       "    .dataframe tbody tr th {\n",
       "        vertical-align: top;\n",
       "    }\n",
       "\n",
       "    .dataframe thead th {\n",
       "        text-align: right;\n",
       "    }\n",
       "</style>\n",
       "<table border=\"1\" class=\"dataframe\">\n",
       "  <thead>\n",
       "    <tr style=\"text-align: right;\">\n",
       "      <th></th>\n",
       "      <th>Hypothesis</th>\n",
       "      <th>Reach</th>\n",
       "      <th>Impact</th>\n",
       "      <th>Confidence</th>\n",
       "      <th>Efforts</th>\n",
       "    </tr>\n",
       "  </thead>\n",
       "  <tbody>\n",
       "    <tr>\n",
       "      <th>dtypes</th>\n",
       "      <td>object</td>\n",
       "      <td>int64</td>\n",
       "      <td>int64</td>\n",
       "      <td>int64</td>\n",
       "      <td>int64</td>\n",
       "    </tr>\n",
       "  </tbody>\n",
       "</table>\n",
       "</div>"
      ],
      "text/plain": [
       "       Hypothesis  Reach Impact Confidence Efforts\n",
       "dtypes     object  int64  int64      int64   int64"
      ]
     },
     "metadata": {},
     "output_type": "display_data"
    },
    {
     "data": {
      "text/markdown": [
       "Количество пропущенных значений:"
      ],
      "text/plain": [
       "<IPython.core.display.Markdown object>"
      ]
     },
     "metadata": {},
     "output_type": "display_data"
    },
    {
     "data": {
      "text/html": [
       "<div>\n",
       "<style scoped>\n",
       "    .dataframe tbody tr th:only-of-type {\n",
       "        vertical-align: middle;\n",
       "    }\n",
       "\n",
       "    .dataframe tbody tr th {\n",
       "        vertical-align: top;\n",
       "    }\n",
       "\n",
       "    .dataframe thead th {\n",
       "        text-align: right;\n",
       "    }\n",
       "</style>\n",
       "<table border=\"1\" class=\"dataframe\">\n",
       "  <thead>\n",
       "    <tr style=\"text-align: right;\">\n",
       "      <th></th>\n",
       "      <th>Hypothesis</th>\n",
       "      <th>Reach</th>\n",
       "      <th>Impact</th>\n",
       "      <th>Confidence</th>\n",
       "      <th>Efforts</th>\n",
       "    </tr>\n",
       "  </thead>\n",
       "  <tbody>\n",
       "    <tr>\n",
       "      <th>missing_values</th>\n",
       "      <td>0</td>\n",
       "      <td>0</td>\n",
       "      <td>0</td>\n",
       "      <td>0</td>\n",
       "      <td>0</td>\n",
       "    </tr>\n",
       "  </tbody>\n",
       "</table>\n",
       "</div>"
      ],
      "text/plain": [
       "                Hypothesis  Reach  Impact  Confidence  Efforts\n",
       "missing_values           0      0       0           0        0"
      ]
     },
     "metadata": {},
     "output_type": "display_data"
    },
    {
     "data": {
      "text/markdown": [
       "Количество дубликатов:"
      ],
      "text/plain": [
       "<IPython.core.display.Markdown object>"
      ]
     },
     "metadata": {},
     "output_type": "display_data"
    },
    {
     "data": {
      "text/html": [
       "<div>\n",
       "<style scoped>\n",
       "    .dataframe tbody tr th:only-of-type {\n",
       "        vertical-align: middle;\n",
       "    }\n",
       "\n",
       "    .dataframe tbody tr th {\n",
       "        vertical-align: top;\n",
       "    }\n",
       "\n",
       "    .dataframe thead th {\n",
       "        text-align: right;\n",
       "    }\n",
       "</style>\n",
       "<table border=\"1\" class=\"dataframe\">\n",
       "  <thead>\n",
       "    <tr style=\"text-align: right;\">\n",
       "      <th></th>\n",
       "      <th>duplicates</th>\n",
       "    </tr>\n",
       "  </thead>\n",
       "  <tbody>\n",
       "    <tr>\n",
       "      <th>0</th>\n",
       "      <td>0</td>\n",
       "    </tr>\n",
       "  </tbody>\n",
       "</table>\n",
       "</div>"
      ],
      "text/plain": [
       "   duplicates\n",
       "0           0"
      ]
     },
     "metadata": {},
     "output_type": "display_data"
    },
    {
     "name": "stdout",
     "output_type": "stream",
     "text": [
      "\n",
      "---\n",
      "\n",
      "--- заказы ---\n"
     ]
    },
    {
     "data": {
      "text/markdown": [
       "Первые 5 строк:"
      ],
      "text/plain": [
       "<IPython.core.display.Markdown object>"
      ]
     },
     "metadata": {},
     "output_type": "display_data"
    },
    {
     "data": {
      "text/html": [
       "<div>\n",
       "<style scoped>\n",
       "    .dataframe tbody tr th:only-of-type {\n",
       "        vertical-align: middle;\n",
       "    }\n",
       "\n",
       "    .dataframe tbody tr th {\n",
       "        vertical-align: top;\n",
       "    }\n",
       "\n",
       "    .dataframe thead th {\n",
       "        text-align: right;\n",
       "    }\n",
       "</style>\n",
       "<table border=\"1\" class=\"dataframe\">\n",
       "  <thead>\n",
       "    <tr style=\"text-align: right;\">\n",
       "      <th></th>\n",
       "      <th>transactionId</th>\n",
       "      <th>visitorId</th>\n",
       "      <th>date</th>\n",
       "      <th>revenue</th>\n",
       "      <th>group</th>\n",
       "    </tr>\n",
       "  </thead>\n",
       "  <tbody>\n",
       "    <tr>\n",
       "      <th>0</th>\n",
       "      <td>3667963787</td>\n",
       "      <td>3312258926</td>\n",
       "      <td>2019-08-15</td>\n",
       "      <td>1650</td>\n",
       "      <td>B</td>\n",
       "    </tr>\n",
       "    <tr>\n",
       "      <th>1</th>\n",
       "      <td>2804400009</td>\n",
       "      <td>3642806036</td>\n",
       "      <td>2019-08-15</td>\n",
       "      <td>730</td>\n",
       "      <td>B</td>\n",
       "    </tr>\n",
       "    <tr>\n",
       "      <th>2</th>\n",
       "      <td>2961555356</td>\n",
       "      <td>4069496402</td>\n",
       "      <td>2019-08-15</td>\n",
       "      <td>400</td>\n",
       "      <td>A</td>\n",
       "    </tr>\n",
       "    <tr>\n",
       "      <th>3</th>\n",
       "      <td>3797467345</td>\n",
       "      <td>1196621759</td>\n",
       "      <td>2019-08-15</td>\n",
       "      <td>9759</td>\n",
       "      <td>B</td>\n",
       "    </tr>\n",
       "    <tr>\n",
       "      <th>4</th>\n",
       "      <td>2282983706</td>\n",
       "      <td>2322279887</td>\n",
       "      <td>2019-08-15</td>\n",
       "      <td>2308</td>\n",
       "      <td>B</td>\n",
       "    </tr>\n",
       "  </tbody>\n",
       "</table>\n",
       "</div>"
      ],
      "text/plain": [
       "   transactionId   visitorId        date  revenue group\n",
       "0     3667963787  3312258926  2019-08-15     1650     B\n",
       "1     2804400009  3642806036  2019-08-15      730     B\n",
       "2     2961555356  4069496402  2019-08-15      400     A\n",
       "3     3797467345  1196621759  2019-08-15     9759     B\n",
       "4     2282983706  2322279887  2019-08-15     2308     B"
      ]
     },
     "metadata": {},
     "output_type": "display_data"
    },
    {
     "data": {
      "text/markdown": [
       "Типы данных:"
      ],
      "text/plain": [
       "<IPython.core.display.Markdown object>"
      ]
     },
     "metadata": {},
     "output_type": "display_data"
    },
    {
     "data": {
      "text/html": [
       "<div>\n",
       "<style scoped>\n",
       "    .dataframe tbody tr th:only-of-type {\n",
       "        vertical-align: middle;\n",
       "    }\n",
       "\n",
       "    .dataframe tbody tr th {\n",
       "        vertical-align: top;\n",
       "    }\n",
       "\n",
       "    .dataframe thead th {\n",
       "        text-align: right;\n",
       "    }\n",
       "</style>\n",
       "<table border=\"1\" class=\"dataframe\">\n",
       "  <thead>\n",
       "    <tr style=\"text-align: right;\">\n",
       "      <th></th>\n",
       "      <th>transactionId</th>\n",
       "      <th>visitorId</th>\n",
       "      <th>date</th>\n",
       "      <th>revenue</th>\n",
       "      <th>group</th>\n",
       "    </tr>\n",
       "  </thead>\n",
       "  <tbody>\n",
       "    <tr>\n",
       "      <th>dtypes</th>\n",
       "      <td>int64</td>\n",
       "      <td>int64</td>\n",
       "      <td>object</td>\n",
       "      <td>int64</td>\n",
       "      <td>object</td>\n",
       "    </tr>\n",
       "  </tbody>\n",
       "</table>\n",
       "</div>"
      ],
      "text/plain": [
       "       transactionId visitorId    date revenue   group\n",
       "dtypes         int64     int64  object   int64  object"
      ]
     },
     "metadata": {},
     "output_type": "display_data"
    },
    {
     "data": {
      "text/markdown": [
       "Количество пропущенных значений:"
      ],
      "text/plain": [
       "<IPython.core.display.Markdown object>"
      ]
     },
     "metadata": {},
     "output_type": "display_data"
    },
    {
     "data": {
      "text/html": [
       "<div>\n",
       "<style scoped>\n",
       "    .dataframe tbody tr th:only-of-type {\n",
       "        vertical-align: middle;\n",
       "    }\n",
       "\n",
       "    .dataframe tbody tr th {\n",
       "        vertical-align: top;\n",
       "    }\n",
       "\n",
       "    .dataframe thead th {\n",
       "        text-align: right;\n",
       "    }\n",
       "</style>\n",
       "<table border=\"1\" class=\"dataframe\">\n",
       "  <thead>\n",
       "    <tr style=\"text-align: right;\">\n",
       "      <th></th>\n",
       "      <th>transactionId</th>\n",
       "      <th>visitorId</th>\n",
       "      <th>date</th>\n",
       "      <th>revenue</th>\n",
       "      <th>group</th>\n",
       "    </tr>\n",
       "  </thead>\n",
       "  <tbody>\n",
       "    <tr>\n",
       "      <th>missing_values</th>\n",
       "      <td>0</td>\n",
       "      <td>0</td>\n",
       "      <td>0</td>\n",
       "      <td>0</td>\n",
       "      <td>0</td>\n",
       "    </tr>\n",
       "  </tbody>\n",
       "</table>\n",
       "</div>"
      ],
      "text/plain": [
       "                transactionId  visitorId  date  revenue  group\n",
       "missing_values              0          0     0        0      0"
      ]
     },
     "metadata": {},
     "output_type": "display_data"
    },
    {
     "data": {
      "text/markdown": [
       "Количество дубликатов:"
      ],
      "text/plain": [
       "<IPython.core.display.Markdown object>"
      ]
     },
     "metadata": {},
     "output_type": "display_data"
    },
    {
     "data": {
      "text/html": [
       "<div>\n",
       "<style scoped>\n",
       "    .dataframe tbody tr th:only-of-type {\n",
       "        vertical-align: middle;\n",
       "    }\n",
       "\n",
       "    .dataframe tbody tr th {\n",
       "        vertical-align: top;\n",
       "    }\n",
       "\n",
       "    .dataframe thead th {\n",
       "        text-align: right;\n",
       "    }\n",
       "</style>\n",
       "<table border=\"1\" class=\"dataframe\">\n",
       "  <thead>\n",
       "    <tr style=\"text-align: right;\">\n",
       "      <th></th>\n",
       "      <th>duplicates</th>\n",
       "    </tr>\n",
       "  </thead>\n",
       "  <tbody>\n",
       "    <tr>\n",
       "      <th>0</th>\n",
       "      <td>0</td>\n",
       "    </tr>\n",
       "  </tbody>\n",
       "</table>\n",
       "</div>"
      ],
      "text/plain": [
       "   duplicates\n",
       "0           0"
      ]
     },
     "metadata": {},
     "output_type": "display_data"
    },
    {
     "name": "stdout",
     "output_type": "stream",
     "text": [
      "\n",
      "---\n",
      "\n",
      "--- посетители ---\n"
     ]
    },
    {
     "data": {
      "text/markdown": [
       "Первые 5 строк:"
      ],
      "text/plain": [
       "<IPython.core.display.Markdown object>"
      ]
     },
     "metadata": {},
     "output_type": "display_data"
    },
    {
     "data": {
      "text/html": [
       "<div>\n",
       "<style scoped>\n",
       "    .dataframe tbody tr th:only-of-type {\n",
       "        vertical-align: middle;\n",
       "    }\n",
       "\n",
       "    .dataframe tbody tr th {\n",
       "        vertical-align: top;\n",
       "    }\n",
       "\n",
       "    .dataframe thead th {\n",
       "        text-align: right;\n",
       "    }\n",
       "</style>\n",
       "<table border=\"1\" class=\"dataframe\">\n",
       "  <thead>\n",
       "    <tr style=\"text-align: right;\">\n",
       "      <th></th>\n",
       "      <th>date</th>\n",
       "      <th>group</th>\n",
       "      <th>visitors</th>\n",
       "    </tr>\n",
       "  </thead>\n",
       "  <tbody>\n",
       "    <tr>\n",
       "      <th>0</th>\n",
       "      <td>2019-08-01</td>\n",
       "      <td>A</td>\n",
       "      <td>719</td>\n",
       "    </tr>\n",
       "    <tr>\n",
       "      <th>1</th>\n",
       "      <td>2019-08-02</td>\n",
       "      <td>A</td>\n",
       "      <td>619</td>\n",
       "    </tr>\n",
       "    <tr>\n",
       "      <th>2</th>\n",
       "      <td>2019-08-03</td>\n",
       "      <td>A</td>\n",
       "      <td>507</td>\n",
       "    </tr>\n",
       "    <tr>\n",
       "      <th>3</th>\n",
       "      <td>2019-08-04</td>\n",
       "      <td>A</td>\n",
       "      <td>717</td>\n",
       "    </tr>\n",
       "    <tr>\n",
       "      <th>4</th>\n",
       "      <td>2019-08-05</td>\n",
       "      <td>A</td>\n",
       "      <td>756</td>\n",
       "    </tr>\n",
       "  </tbody>\n",
       "</table>\n",
       "</div>"
      ],
      "text/plain": [
       "         date group  visitors\n",
       "0  2019-08-01     A       719\n",
       "1  2019-08-02     A       619\n",
       "2  2019-08-03     A       507\n",
       "3  2019-08-04     A       717\n",
       "4  2019-08-05     A       756"
      ]
     },
     "metadata": {},
     "output_type": "display_data"
    },
    {
     "data": {
      "text/markdown": [
       "Типы данных:"
      ],
      "text/plain": [
       "<IPython.core.display.Markdown object>"
      ]
     },
     "metadata": {},
     "output_type": "display_data"
    },
    {
     "data": {
      "text/html": [
       "<div>\n",
       "<style scoped>\n",
       "    .dataframe tbody tr th:only-of-type {\n",
       "        vertical-align: middle;\n",
       "    }\n",
       "\n",
       "    .dataframe tbody tr th {\n",
       "        vertical-align: top;\n",
       "    }\n",
       "\n",
       "    .dataframe thead th {\n",
       "        text-align: right;\n",
       "    }\n",
       "</style>\n",
       "<table border=\"1\" class=\"dataframe\">\n",
       "  <thead>\n",
       "    <tr style=\"text-align: right;\">\n",
       "      <th></th>\n",
       "      <th>date</th>\n",
       "      <th>group</th>\n",
       "      <th>visitors</th>\n",
       "    </tr>\n",
       "  </thead>\n",
       "  <tbody>\n",
       "    <tr>\n",
       "      <th>dtypes</th>\n",
       "      <td>object</td>\n",
       "      <td>object</td>\n",
       "      <td>int64</td>\n",
       "    </tr>\n",
       "  </tbody>\n",
       "</table>\n",
       "</div>"
      ],
      "text/plain": [
       "          date   group visitors\n",
       "dtypes  object  object    int64"
      ]
     },
     "metadata": {},
     "output_type": "display_data"
    },
    {
     "data": {
      "text/markdown": [
       "Количество пропущенных значений:"
      ],
      "text/plain": [
       "<IPython.core.display.Markdown object>"
      ]
     },
     "metadata": {},
     "output_type": "display_data"
    },
    {
     "data": {
      "text/html": [
       "<div>\n",
       "<style scoped>\n",
       "    .dataframe tbody tr th:only-of-type {\n",
       "        vertical-align: middle;\n",
       "    }\n",
       "\n",
       "    .dataframe tbody tr th {\n",
       "        vertical-align: top;\n",
       "    }\n",
       "\n",
       "    .dataframe thead th {\n",
       "        text-align: right;\n",
       "    }\n",
       "</style>\n",
       "<table border=\"1\" class=\"dataframe\">\n",
       "  <thead>\n",
       "    <tr style=\"text-align: right;\">\n",
       "      <th></th>\n",
       "      <th>date</th>\n",
       "      <th>group</th>\n",
       "      <th>visitors</th>\n",
       "    </tr>\n",
       "  </thead>\n",
       "  <tbody>\n",
       "    <tr>\n",
       "      <th>missing_values</th>\n",
       "      <td>0</td>\n",
       "      <td>0</td>\n",
       "      <td>0</td>\n",
       "    </tr>\n",
       "  </tbody>\n",
       "</table>\n",
       "</div>"
      ],
      "text/plain": [
       "                date  group  visitors\n",
       "missing_values     0      0         0"
      ]
     },
     "metadata": {},
     "output_type": "display_data"
    },
    {
     "data": {
      "text/markdown": [
       "Количество дубликатов:"
      ],
      "text/plain": [
       "<IPython.core.display.Markdown object>"
      ]
     },
     "metadata": {},
     "output_type": "display_data"
    },
    {
     "data": {
      "text/html": [
       "<div>\n",
       "<style scoped>\n",
       "    .dataframe tbody tr th:only-of-type {\n",
       "        vertical-align: middle;\n",
       "    }\n",
       "\n",
       "    .dataframe tbody tr th {\n",
       "        vertical-align: top;\n",
       "    }\n",
       "\n",
       "    .dataframe thead th {\n",
       "        text-align: right;\n",
       "    }\n",
       "</style>\n",
       "<table border=\"1\" class=\"dataframe\">\n",
       "  <thead>\n",
       "    <tr style=\"text-align: right;\">\n",
       "      <th></th>\n",
       "      <th>duplicates</th>\n",
       "    </tr>\n",
       "  </thead>\n",
       "  <tbody>\n",
       "    <tr>\n",
       "      <th>0</th>\n",
       "      <td>0</td>\n",
       "    </tr>\n",
       "  </tbody>\n",
       "</table>\n",
       "</div>"
      ],
      "text/plain": [
       "   duplicates\n",
       "0           0"
      ]
     },
     "metadata": {},
     "output_type": "display_data"
    },
    {
     "name": "stdout",
     "output_type": "stream",
     "text": [
      "\n",
      "---\n",
      "\n"
     ]
    }
   ],
   "source": [
    "\n",
    "def display_information(table, table_name):\n",
    "    print(f\"--- {table_name} ---\")\n",
    "    \n",
    "    display(Markdown(\"Первые 5 строк:\"))\n",
    "    display(table.head(5))\n",
    "    \n",
    "    display(Markdown(\"Типы данных:\"))\n",
    "    display(table.dtypes.to_frame().T.rename({0: 'dtypes'}, axis='index'))\n",
    "    \n",
    "    display(Markdown(\"Количество пропущенных значений:\"))\n",
    "    display(table.isna().sum().to_frame().T.rename({0: 'missing_values'}, axis='index'))\n",
    "    \n",
    "    display(Markdown(\"Количество дубликатов:\"))\n",
    "    display(pd.DataFrame(data={'duplicates': [table.duplicated().sum()]}))\n",
    "    \n",
    "    print(\"\\n---\\n\")\n",
    "\n",
    "hypothesis = pd.read_csv('/datasets/hypothesis.csv')\n",
    "orders = pd.read_csv('/datasets/orders.csv')\n",
    "visitors = pd.read_csv('/datasets/visitors.csv')\n",
    "\n",
    "table_names = [\n",
    "    (\"гипотезы\", hypothesis),\n",
    "    (\"заказы\", orders),\n",
    "    (\"посетители\", visitors)\n",
    "]\n",
    "\n",
    "for table_name, table in table_names:\n",
    "    display_information(table, table_name)\n"
   ]
  },
  {
   "cell_type": "code",
   "execution_count": 5,
   "metadata": {},
   "outputs": [],
   "source": [
    "hypothesis.columns = map(str.lower, hypothesis.columns)\n"
   ]
  },
  {
   "cell_type": "code",
   "execution_count": 6,
   "metadata": {},
   "outputs": [],
   "source": [
    "visitors['date'] = visitors['date'].map(\n",
    "    lambda x: dt.datetime.strptime(x, '%Y-%m-%d')\n",
    ")"
   ]
  },
  {
   "cell_type": "code",
   "execution_count": 7,
   "metadata": {},
   "outputs": [],
   "source": [
    "# преобразование данных о времени\n",
    "orders['date'] = orders['date'].map(\n",
    "    lambda x: dt.datetime.strptime(x, '%Y-%m-%d')\n",
    ")"
   ]
  },
  {
   "cell_type": "code",
   "execution_count": 8,
   "metadata": {},
   "outputs": [],
   "source": [
    "orders.columns = ['transaction_id', 'visitor_id', 'date', 'revenue', 'group']\n"
   ]
  },
  {
   "cell_type": "markdown",
   "metadata": {},
   "source": [
    "приводим названия к нижниму регистру "
   ]
  },
  {
   "cell_type": "code",
   "execution_count": 9,
   "metadata": {},
   "outputs": [
    {
     "data": {
      "text/plain": [
       "Index(['transaction_id', 'visitor_id', 'date', 'revenue', 'group'], dtype='object')"
      ]
     },
     "execution_count": 9,
     "metadata": {},
     "output_type": "execute_result"
    }
   ],
   "source": [
    "orders.columns\n"
   ]
  },
  {
   "cell_type": "code",
   "execution_count": 10,
   "metadata": {},
   "outputs": [
    {
     "data": {
      "text/plain": [
       "['hypothesis', 'reach', 'impact', 'confidence', 'efforts']"
      ]
     },
     "execution_count": 10,
     "metadata": {},
     "output_type": "execute_result"
    }
   ],
   "source": [
    "hypothesis.columns.to_list()"
   ]
  },
  {
   "cell_type": "code",
   "execution_count": 11,
   "metadata": {},
   "outputs": [
    {
     "name": "stdout",
     "output_type": "stream",
     "text": [
      "Количество групп в АВ-тесте: 2\n",
      "***********************************************\n",
      "Дата начала теста: 2019-08-01 00:00:00\n",
      "***********************************************\n",
      "Дата окончания теста: 2019-08-31 00:00:00\n",
      "***********************************************\n",
      "Количество пользователей в каждой группе: \n",
      "group\n",
      "A    503\n",
      "B    586\n",
      "Name: visitor_id, dtype: int64\n",
      "***********************************************\n",
      "Вероятность попадания пользователей в обе группы: 0.05625606207565471\n"
     ]
    }
   ],
   "source": [
    "\n",
    "# Расчет количества групп в АВ-тесте\n",
    "num_groups = len(orders['group'].unique())\n",
    "print(f\"Количество групп в АВ-тесте: {num_groups}\")\n",
    "print('***********************************************')\n",
    "\n",
    "# Расчет дат начала и окончания теста\n",
    "test_start = orders['date'].min()\n",
    "test_end = orders['date'].max()\n",
    "print(f\"Дата начала теста: {test_start}\")\n",
    "print('***********************************************')\n",
    "\n",
    "print(f\"Дата окончания теста: {test_end}\")\n",
    "print('***********************************************')\n",
    "\n",
    "# Расчет количества пользователей в каждой группе\n",
    "users_per_group = orders.groupby('group')['visitor_id'].nunique()\n",
    "print(f\"Количество пользователей в каждой группе: \\n{users_per_group}\")\n",
    "print('***********************************************')\n",
    "\n",
    "\n",
    "# Расчет вероятности попадания пользователей в обе группы\n",
    "orders_summary = orders.groupby('visitor_id').agg({'group': 'nunique'})\n",
    "users_in_both_groups = orders_summary[orders_summary['group'] == 2]\n",
    "probability_of_both_groups = len(users_in_both_groups) / len(orders_summary)\n",
    "print(f\"Вероятность попадания пользователей в обе группы: {probability_of_both_groups}\")\n"
   ]
  },
  {
   "cell_type": "markdown",
   "metadata": {},
   "source": [
    "Примените фреймворк ICE и  RICE \n"
   ]
  },
  {
   "cell_type": "code",
   "execution_count": 38,
   "metadata": {},
   "outputs": [
    {
     "data": {
      "text/html": [
       "<div>\n",
       "<style scoped>\n",
       "    .dataframe tbody tr th:only-of-type {\n",
       "        vertical-align: middle;\n",
       "    }\n",
       "\n",
       "    .dataframe tbody tr th {\n",
       "        vertical-align: top;\n",
       "    }\n",
       "\n",
       "    .dataframe thead th {\n",
       "        text-align: right;\n",
       "    }\n",
       "</style>\n",
       "<table border=\"1\" class=\"dataframe\">\n",
       "  <thead>\n",
       "    <tr style=\"text-align: right;\">\n",
       "      <th></th>\n",
       "      <th>hypothesis</th>\n",
       "      <th>ICE</th>\n",
       "    </tr>\n",
       "  </thead>\n",
       "  <tbody>\n",
       "    <tr>\n",
       "      <th>8</th>\n",
       "      <td>Запустить акцию, дающую скидку на товар в день рождения</td>\n",
       "      <td>16.20</td>\n",
       "    </tr>\n",
       "    <tr>\n",
       "      <th>0</th>\n",
       "      <td>Добавить два новых канала привлечения трафика, что позволит привлекать на 30% больше пользователей</td>\n",
       "      <td>13.33</td>\n",
       "    </tr>\n",
       "    <tr>\n",
       "      <th>7</th>\n",
       "      <td>Добавить форму подписки на все основные страницы, чтобы собрать базу клиентов для email-рассылок</td>\n",
       "      <td>11.20</td>\n",
       "    </tr>\n",
       "    <tr>\n",
       "      <th>6</th>\n",
       "      <td>Показать на главной странице баннеры с актуальными акциями и распродажами, чтобы увеличить конверсию</td>\n",
       "      <td>8.00</td>\n",
       "    </tr>\n",
       "    <tr>\n",
       "      <th>2</th>\n",
       "      <td>Добавить блоки рекомендаций товаров на сайт интернет магазина, чтобы повысить конверсию и средний чек заказа</td>\n",
       "      <td>7.00</td>\n",
       "    </tr>\n",
       "    <tr>\n",
       "      <th>1</th>\n",
       "      <td>Запустить собственную службу доставки, что сократит срок доставки заказов</td>\n",
       "      <td>2.00</td>\n",
       "    </tr>\n",
       "    <tr>\n",
       "      <th>5</th>\n",
       "      <td>Добавить страницу отзывов клиентов о магазине, что позволит увеличить количество заказов</td>\n",
       "      <td>1.33</td>\n",
       "    </tr>\n",
       "    <tr>\n",
       "      <th>3</th>\n",
       "      <td>Изменить структура категорий, что увеличит конверсию, т.к. пользователи быстрее найдут нужный товар</td>\n",
       "      <td>1.12</td>\n",
       "    </tr>\n",
       "    <tr>\n",
       "      <th>4</th>\n",
       "      <td>Изменить цвет фона главной страницы, чтобы увеличить вовлеченность пользователей</td>\n",
       "      <td>1.00</td>\n",
       "    </tr>\n",
       "  </tbody>\n",
       "</table>\n",
       "</div>"
      ],
      "text/plain": [
       "                                                                                                     hypothesis  \\\n",
       "8                                                       Запустить акцию, дающую скидку на товар в день рождения   \n",
       "0            Добавить два новых канала привлечения трафика, что позволит привлекать на 30% больше пользователей   \n",
       "7              Добавить форму подписки на все основные страницы, чтобы собрать базу клиентов для email-рассылок   \n",
       "6          Показать на главной странице баннеры с актуальными акциями и распродажами, чтобы увеличить конверсию   \n",
       "2  Добавить блоки рекомендаций товаров на сайт интернет магазина, чтобы повысить конверсию и средний чек заказа   \n",
       "1                                     Запустить собственную службу доставки, что сократит срок доставки заказов   \n",
       "5                      Добавить страницу отзывов клиентов о магазине, что позволит увеличить количество заказов   \n",
       "3           Изменить структура категорий, что увеличит конверсию, т.к. пользователи быстрее найдут нужный товар   \n",
       "4                              Изменить цвет фона главной страницы, чтобы увеличить вовлеченность пользователей   \n",
       "\n",
       "     ICE  \n",
       "8  16.20  \n",
       "0  13.33  \n",
       "7  11.20  \n",
       "6   8.00  \n",
       "2   7.00  \n",
       "1   2.00  \n",
       "5   1.33  \n",
       "3   1.12  \n",
       "4   1.00  "
      ]
     },
     "execution_count": 38,
     "metadata": {},
     "output_type": "execute_result"
    }
   ],
   "source": [
    "pd.options.display.max_colwidth = 150\n",
    "# Посчитаем ICE для гипотез\n",
    "hypothesis['ICE'] = ( hypothesis['impact'] * hypothesis['confidence']) / hypothesis['efforts']\n",
    "hypothesis[['hypothesis', 'ICE']].sort_values(by='ICE', ascending=False).round(2)\n"
   ]
  },
  {
   "cell_type": "code",
   "execution_count": 13,
   "metadata": {},
   "outputs": [
    {
     "data": {
      "text/html": [
       "<div>\n",
       "<style scoped>\n",
       "    .dataframe tbody tr th:only-of-type {\n",
       "        vertical-align: middle;\n",
       "    }\n",
       "\n",
       "    .dataframe tbody tr th {\n",
       "        vertical-align: top;\n",
       "    }\n",
       "\n",
       "    .dataframe thead th {\n",
       "        text-align: right;\n",
       "    }\n",
       "</style>\n",
       "<table border=\"1\" class=\"dataframe\">\n",
       "  <thead>\n",
       "    <tr style=\"text-align: right;\">\n",
       "      <th></th>\n",
       "      <th>hypothesis</th>\n",
       "      <th>RICE</th>\n",
       "    </tr>\n",
       "  </thead>\n",
       "  <tbody>\n",
       "    <tr>\n",
       "      <th>7</th>\n",
       "      <td>Добавить форму подписки на все основные страницы, чтобы собрать базу клиентов для email-рассылок</td>\n",
       "      <td>112.0</td>\n",
       "    </tr>\n",
       "    <tr>\n",
       "      <th>2</th>\n",
       "      <td>Добавить блоки рекомендаций товаров на сайт интернет магазина, чтобы повысить конверсию и средний чек заказа</td>\n",
       "      <td>56.0</td>\n",
       "    </tr>\n",
       "    <tr>\n",
       "      <th>0</th>\n",
       "      <td>Добавить два новых канала привлечения трафика, что позволит привлекать на 30% больше пользователей</td>\n",
       "      <td>40.0</td>\n",
       "    </tr>\n",
       "    <tr>\n",
       "      <th>6</th>\n",
       "      <td>Показать на главной странице баннеры с актуальными акциями и распродажами, чтобы увеличить конверсию</td>\n",
       "      <td>40.0</td>\n",
       "    </tr>\n",
       "    <tr>\n",
       "      <th>8</th>\n",
       "      <td>Запустить акцию, дающую скидку на товар в день рождения</td>\n",
       "      <td>16.2</td>\n",
       "    </tr>\n",
       "    <tr>\n",
       "      <th>3</th>\n",
       "      <td>Изменить структура категорий, что увеличит конверсию, т.к. пользователи быстрее найдут нужный товар</td>\n",
       "      <td>9.0</td>\n",
       "    </tr>\n",
       "    <tr>\n",
       "      <th>1</th>\n",
       "      <td>Запустить собственную службу доставки, что сократит срок доставки заказов</td>\n",
       "      <td>4.0</td>\n",
       "    </tr>\n",
       "    <tr>\n",
       "      <th>5</th>\n",
       "      <td>Добавить страницу отзывов клиентов о магазине, что позволит увеличить количество заказов</td>\n",
       "      <td>4.0</td>\n",
       "    </tr>\n",
       "    <tr>\n",
       "      <th>4</th>\n",
       "      <td>Изменить цвет фона главной страницы, чтобы увеличить вовлеченность пользователей</td>\n",
       "      <td>3.0</td>\n",
       "    </tr>\n",
       "  </tbody>\n",
       "</table>\n",
       "</div>"
      ],
      "text/plain": [
       "                                                                                                     hypothesis  \\\n",
       "7              Добавить форму подписки на все основные страницы, чтобы собрать базу клиентов для email-рассылок   \n",
       "2  Добавить блоки рекомендаций товаров на сайт интернет магазина, чтобы повысить конверсию и средний чек заказа   \n",
       "0            Добавить два новых канала привлечения трафика, что позволит привлекать на 30% больше пользователей   \n",
       "6          Показать на главной странице баннеры с актуальными акциями и распродажами, чтобы увеличить конверсию   \n",
       "8                                                       Запустить акцию, дающую скидку на товар в день рождения   \n",
       "3           Изменить структура категорий, что увеличит конверсию, т.к. пользователи быстрее найдут нужный товар   \n",
       "1                                     Запустить собственную службу доставки, что сократит срок доставки заказов   \n",
       "5                      Добавить страницу отзывов клиентов о магазине, что позволит увеличить количество заказов   \n",
       "4                              Изменить цвет фона главной страницы, чтобы увеличить вовлеченность пользователей   \n",
       "\n",
       "    RICE  \n",
       "7  112.0  \n",
       "2   56.0  \n",
       "0   40.0  \n",
       "6   40.0  \n",
       "8   16.2  \n",
       "3    9.0  \n",
       "1    4.0  \n",
       "5    4.0  \n",
       "4    3.0  "
      ]
     },
     "execution_count": 13,
     "metadata": {},
     "output_type": "execute_result"
    }
   ],
   "source": [
    "# Посчитаем RICE для гипотез\n",
    "hypothesis['RICE'] = (hypothesis['reach'] *  hypothesis['impact'] * hypothesis['confidence']) / hypothesis['efforts']\n",
    "hypothesis[['hypothesis', 'RICE']].sort_values(by='RICE', ascending=False).round(2)\n"
   ]
  },
  {
   "cell_type": "code",
   "execution_count": 14,
   "metadata": {},
   "outputs": [
    {
     "data": {
      "text/html": [
       "<div>\n",
       "<style scoped>\n",
       "    .dataframe tbody tr th:only-of-type {\n",
       "        vertical-align: middle;\n",
       "    }\n",
       "\n",
       "    .dataframe tbody tr th {\n",
       "        vertical-align: top;\n",
       "    }\n",
       "\n",
       "    .dataframe thead th {\n",
       "        text-align: right;\n",
       "    }\n",
       "</style>\n",
       "<table border=\"1\" class=\"dataframe\">\n",
       "  <thead>\n",
       "    <tr style=\"text-align: right;\">\n",
       "      <th></th>\n",
       "      <th>hypothesis</th>\n",
       "      <th>reach</th>\n",
       "      <th>impact</th>\n",
       "      <th>confidence</th>\n",
       "      <th>efforts</th>\n",
       "      <th>ICE</th>\n",
       "      <th>RICE</th>\n",
       "    </tr>\n",
       "  </thead>\n",
       "  <tbody>\n",
       "    <tr>\n",
       "      <th>0</th>\n",
       "      <td>Добавить два новых канала привлечения трафика, что позволит привлекать на 30% больше пользователей</td>\n",
       "      <td>3</td>\n",
       "      <td>10</td>\n",
       "      <td>8</td>\n",
       "      <td>6</td>\n",
       "      <td>13.333333</td>\n",
       "      <td>40.0</td>\n",
       "    </tr>\n",
       "    <tr>\n",
       "      <th>1</th>\n",
       "      <td>Запустить собственную службу доставки, что сократит срок доставки заказов</td>\n",
       "      <td>2</td>\n",
       "      <td>5</td>\n",
       "      <td>4</td>\n",
       "      <td>10</td>\n",
       "      <td>2.000000</td>\n",
       "      <td>4.0</td>\n",
       "    </tr>\n",
       "    <tr>\n",
       "      <th>2</th>\n",
       "      <td>Добавить блоки рекомендаций товаров на сайт интернет магазина, чтобы повысить конверсию и средний чек заказа</td>\n",
       "      <td>8</td>\n",
       "      <td>3</td>\n",
       "      <td>7</td>\n",
       "      <td>3</td>\n",
       "      <td>7.000000</td>\n",
       "      <td>56.0</td>\n",
       "    </tr>\n",
       "    <tr>\n",
       "      <th>3</th>\n",
       "      <td>Изменить структура категорий, что увеличит конверсию, т.к. пользователи быстрее найдут нужный товар</td>\n",
       "      <td>8</td>\n",
       "      <td>3</td>\n",
       "      <td>3</td>\n",
       "      <td>8</td>\n",
       "      <td>1.125000</td>\n",
       "      <td>9.0</td>\n",
       "    </tr>\n",
       "    <tr>\n",
       "      <th>4</th>\n",
       "      <td>Изменить цвет фона главной страницы, чтобы увеличить вовлеченность пользователей</td>\n",
       "      <td>3</td>\n",
       "      <td>1</td>\n",
       "      <td>1</td>\n",
       "      <td>1</td>\n",
       "      <td>1.000000</td>\n",
       "      <td>3.0</td>\n",
       "    </tr>\n",
       "    <tr>\n",
       "      <th>5</th>\n",
       "      <td>Добавить страницу отзывов клиентов о магазине, что позволит увеличить количество заказов</td>\n",
       "      <td>3</td>\n",
       "      <td>2</td>\n",
       "      <td>2</td>\n",
       "      <td>3</td>\n",
       "      <td>1.333333</td>\n",
       "      <td>4.0</td>\n",
       "    </tr>\n",
       "    <tr>\n",
       "      <th>6</th>\n",
       "      <td>Показать на главной странице баннеры с актуальными акциями и распродажами, чтобы увеличить конверсию</td>\n",
       "      <td>5</td>\n",
       "      <td>3</td>\n",
       "      <td>8</td>\n",
       "      <td>3</td>\n",
       "      <td>8.000000</td>\n",
       "      <td>40.0</td>\n",
       "    </tr>\n",
       "    <tr>\n",
       "      <th>7</th>\n",
       "      <td>Добавить форму подписки на все основные страницы, чтобы собрать базу клиентов для email-рассылок</td>\n",
       "      <td>10</td>\n",
       "      <td>7</td>\n",
       "      <td>8</td>\n",
       "      <td>5</td>\n",
       "      <td>11.200000</td>\n",
       "      <td>112.0</td>\n",
       "    </tr>\n",
       "    <tr>\n",
       "      <th>8</th>\n",
       "      <td>Запустить акцию, дающую скидку на товар в день рождения</td>\n",
       "      <td>1</td>\n",
       "      <td>9</td>\n",
       "      <td>9</td>\n",
       "      <td>5</td>\n",
       "      <td>16.200000</td>\n",
       "      <td>16.2</td>\n",
       "    </tr>\n",
       "  </tbody>\n",
       "</table>\n",
       "</div>"
      ],
      "text/plain": [
       "                                                                                                     hypothesis  \\\n",
       "0            Добавить два новых канала привлечения трафика, что позволит привлекать на 30% больше пользователей   \n",
       "1                                     Запустить собственную службу доставки, что сократит срок доставки заказов   \n",
       "2  Добавить блоки рекомендаций товаров на сайт интернет магазина, чтобы повысить конверсию и средний чек заказа   \n",
       "3           Изменить структура категорий, что увеличит конверсию, т.к. пользователи быстрее найдут нужный товар   \n",
       "4                              Изменить цвет фона главной страницы, чтобы увеличить вовлеченность пользователей   \n",
       "5                      Добавить страницу отзывов клиентов о магазине, что позволит увеличить количество заказов   \n",
       "6          Показать на главной странице баннеры с актуальными акциями и распродажами, чтобы увеличить конверсию   \n",
       "7              Добавить форму подписки на все основные страницы, чтобы собрать базу клиентов для email-рассылок   \n",
       "8                                                       Запустить акцию, дающую скидку на товар в день рождения   \n",
       "\n",
       "   reach  impact  confidence  efforts        ICE   RICE  \n",
       "0      3      10           8        6  13.333333   40.0  \n",
       "1      2       5           4       10   2.000000    4.0  \n",
       "2      8       3           7        3   7.000000   56.0  \n",
       "3      8       3           3        8   1.125000    9.0  \n",
       "4      3       1           1        1   1.000000    3.0  \n",
       "5      3       2           2        3   1.333333    4.0  \n",
       "6      5       3           8        3   8.000000   40.0  \n",
       "7     10       7           8        5  11.200000  112.0  \n",
       "8      1       9           9        5  16.200000   16.2  "
      ]
     },
     "metadata": {},
     "output_type": "display_data"
    }
   ],
   "source": [
    "display(hypothesis\n",
    ")\n"
   ]
  },
  {
   "cell_type": "markdown",
   "metadata": {},
   "source": [
    "**Вывод**\n",
    "\n",
    "в топах обоих таблиц находятся теории под номерами 7 2 0 6. Но всё же списки разные. Так произошло, потому что формулы разные, одна учитывает охват, а другая — нет.\n",
    "\n",
    "отличия ICE и RICE\n",
    "\n",
    "ICE (влияние, уверенность, усилия)\n",
    "RICE (влияние, уверенность, усилия, охват)\n",
    "\n",
    "В отличие от ICE, критерий охват учитывает количество пользователей или клиентов, которых затронет экспиримент. Это позволяет учитывать масштабность проекта и понимать его влияние на более широкую аудиторию.\n",
    "\n",
    "рекомендую отдать приоритет тестированию гипотез:\n",
    "- Добавить форму подписки на все основные страницы, чтобы собрать базу клиентов для email-рассылок\n",
    "- Добавить блоки рекомендаций товаров на сайт интернет магазина, чтобы повысить конверсию и средний чек заказа\n",
    "- Добавить два новых канала привлечения трафика, что позволит привлекать на 30% больше пользователей\n"
   ]
  },
  {
   "cell_type": "markdown",
   "metadata": {},
   "source": [
    "Анализ A/B-теста"
   ]
  },
  {
   "cell_type": "code",
   "execution_count": 15,
   "metadata": {},
   "outputs": [
    {
     "name": "stdout",
     "output_type": "stream",
     "text": [
      "\n",
      "Первые 10 строк датасета orders:\n",
      "   transactionId   visitorId        date  revenue group\n",
      "0     3667963787  3312258926  2019-08-15     1650     B\n",
      "1     2804400009  3642806036  2019-08-15      730     B\n",
      "2     2961555356  4069496402  2019-08-15      400     A\n",
      "3     3797467345  1196621759  2019-08-15     9759     B\n",
      "4     2282983706  2322279887  2019-08-15     2308     B\n",
      "5      182168103   935554773  2019-08-15     2210     B\n",
      "6      398296753  2900797465  2019-08-15     1860     B\n",
      "7     2626614568    78758296  2019-08-15     1044     A\n",
      "8     1576988021   295230930  2019-08-15    13710     A\n",
      "9     1506739906  1882260405  2019-08-15     1855     B\n",
      "\n",
      "Первые 10 строк датасета visitors:\n",
      "         date group  visitors\n",
      "0  2019-08-01     A       719\n",
      "1  2019-08-02     A       619\n",
      "2  2019-08-03     A       507\n",
      "3  2019-08-04     A       717\n",
      "4  2019-08-05     A       756\n",
      "5  2019-08-06     A       667\n",
      "6  2019-08-07     A       644\n",
      "7  2019-08-08     A       610\n",
      "8  2019-08-09     A       617\n",
      "9  2019-08-10     A       406\n"
     ]
    }
   ],
   "source": [
    "display_first_10_rows()"
   ]
  },
  {
   "cell_type": "code",
   "execution_count": 16,
   "metadata": {},
   "outputs": [
    {
     "data": {
      "text/plain": [
       "array([   8300375,  199603092,  232979603,  237748145,  276558944,\n",
       "        351125977,  393266494,  457167155,  471551937,  477780734,\n",
       "        818047933,  963407295, 1230306981, 1294878855, 1316129916,\n",
       "       1333886533, 1404934699, 1602967004, 1614305549, 1648269707,\n",
       "       1668030113, 1738359350, 1801183820, 1959144690, 2038680547,\n",
       "       2044997962, 2378935119, 2458001652, 2579882178, 2587333274,\n",
       "       2600415354, 2654030115, 2686716486, 2712142231, 2716752286,\n",
       "       2780786433, 2927087541, 2949041841, 2954449915, 3062433592,\n",
       "       3202540741, 3234906277, 3656415546, 3717692402, 3766097110,\n",
       "       3803269165, 3891541246, 3941795274, 3951559397, 3957174400,\n",
       "       3963646447, 3972127743, 3984495233, 4069496402, 4120364173,\n",
       "       4186807279, 4256040402, 4266935830])"
      ]
     },
     "execution_count": 16,
     "metadata": {},
     "output_type": "execute_result"
    }
   ],
   "source": [
    "#Проверим, есть ли пользователи, которые попали в обе группы\n",
    "duplicates_users = np.intersect1d(orders.query('group == \"A\"')['visitor_id'].unique(), orders.query('group == \"B\"')['visitor_id'].unique())\n",
    "duplicates_users"
   ]
  },
  {
   "cell_type": "code",
   "execution_count": 17,
   "metadata": {},
   "outputs": [],
   "source": [
    "#удаляем\n",
    "orders = orders[~orders['visitor_id'].isin(duplicates_users)]\n"
   ]
  },
  {
   "cell_type": "markdown",
   "metadata": {},
   "source": [
    "пользователей которые попали в обегруппы не так много, можно удалить их из списка \n"
   ]
  },
  {
   "cell_type": "code",
   "execution_count": 18,
   "metadata": {},
   "outputs": [
    {
     "data": {
      "text/html": [
       "<div>\n",
       "<style scoped>\n",
       "    .dataframe tbody tr th:only-of-type {\n",
       "        vertical-align: middle;\n",
       "    }\n",
       "\n",
       "    .dataframe tbody tr th {\n",
       "        vertical-align: top;\n",
       "    }\n",
       "\n",
       "    .dataframe thead th {\n",
       "        text-align: right;\n",
       "    }\n",
       "</style>\n",
       "<table border=\"1\" class=\"dataframe\">\n",
       "  <thead>\n",
       "    <tr style=\"text-align: right;\">\n",
       "      <th></th>\n",
       "      <th>date</th>\n",
       "      <th>group</th>\n",
       "      <th>orders</th>\n",
       "      <th>buyers</th>\n",
       "      <th>revenue</th>\n",
       "      <th>visitors</th>\n",
       "    </tr>\n",
       "  </thead>\n",
       "  <tbody>\n",
       "    <tr>\n",
       "      <th>0</th>\n",
       "      <td>2019-08-01</td>\n",
       "      <td>A</td>\n",
       "      <td>23</td>\n",
       "      <td>19</td>\n",
       "      <td>142779</td>\n",
       "      <td>719</td>\n",
       "    </tr>\n",
       "    <tr>\n",
       "      <th>1</th>\n",
       "      <td>2019-08-01</td>\n",
       "      <td>B</td>\n",
       "      <td>17</td>\n",
       "      <td>17</td>\n",
       "      <td>59758</td>\n",
       "      <td>713</td>\n",
       "    </tr>\n",
       "    <tr>\n",
       "      <th>2</th>\n",
       "      <td>2019-08-02</td>\n",
       "      <td>A</td>\n",
       "      <td>42</td>\n",
       "      <td>36</td>\n",
       "      <td>234381</td>\n",
       "      <td>1338</td>\n",
       "    </tr>\n",
       "    <tr>\n",
       "      <th>3</th>\n",
       "      <td>2019-08-02</td>\n",
       "      <td>B</td>\n",
       "      <td>40</td>\n",
       "      <td>39</td>\n",
       "      <td>221801</td>\n",
       "      <td>1294</td>\n",
       "    </tr>\n",
       "    <tr>\n",
       "      <th>4</th>\n",
       "      <td>2019-08-03</td>\n",
       "      <td>A</td>\n",
       "      <td>66</td>\n",
       "      <td>60</td>\n",
       "      <td>346854</td>\n",
       "      <td>1845</td>\n",
       "    </tr>\n",
       "  </tbody>\n",
       "</table>\n",
       "</div>"
      ],
      "text/plain": [
       "        date group  orders  buyers  revenue  visitors\n",
       "0 2019-08-01     A      23      19   142779       719\n",
       "1 2019-08-01     B      17      17    59758       713\n",
       "2 2019-08-02     A      42      36   234381      1338\n",
       "3 2019-08-02     B      40      39   221801      1294\n",
       "4 2019-08-03     A      66      60   346854      1845"
      ]
     },
     "execution_count": 18,
     "metadata": {},
     "output_type": "execute_result"
    }
   ],
   "source": [
    "#Создадим массив уникальных пар значений дат и групп теста\n",
    "datesGroups = orders[['date','group']].drop_duplicates()\n",
    "\n",
    "#Получаем агрегированные кумулятивные по дням данные о заказах \n",
    "ordersAggregated = datesGroups.apply(lambda x: orders[np.logical_and(orders['date'] <= x['date'], orders['group'] == x['group'])]. \\\n",
    "                                     agg({'date' : 'max', \n",
    "                                          'group' : 'max', \n",
    "                                          'transaction_id' : pd.Series.nunique, \n",
    "                                          'visitor_id' : pd.Series.nunique, \n",
    "                                          'revenue' : 'sum'}), axis=1).sort_values(by=['date','group'])\n",
    "\n",
    "#Получаем агрегированные кумулятивные по дням данные о посетителях интернет-магазина \n",
    "visitorsAggregated = datesGroups.apply(lambda x: visitors[np.logical_and(visitors['date'] <= x['date'], visitors['group'] == x['group'])]. \\\n",
    "                                       agg({'date' : 'max', \n",
    "                                            'group' : 'max', \n",
    "                                            'visitors' : 'sum'}), axis=1).sort_values(by=['date','group'])\n",
    "\n",
    "#Объединим кумулятивные данные в одной таблице и присваиваем ее столбцам понятные названия\n",
    "cumulativeData = ordersAggregated.merge(visitorsAggregated, left_on=['date', 'group'], right_on=['date', 'group'])\n",
    "\n",
    "#Переименуем столбцы\n",
    "cumulativeData.columns = ['date', 'group', 'orders', 'buyers', 'revenue', 'visitors']\n",
    "\n",
    "cumulativeData.head(5)"
   ]
  },
  {
   "cell_type": "markdown",
   "metadata": {},
   "source": [
    "**1. Постройте график кумулятивной выручки по группам. Сделайте выводы и предположения.**"
   ]
  },
  {
   "cell_type": "code",
   "execution_count": 19,
   "metadata": {},
   "outputs": [
    {
     "data": {
      "image/png": "[encoded data removed]",
      "text/plain": [
       "<Figure size 1080x360 with 1 Axes>"
      ]
     },
     "metadata": {
      "needs_background": "light"
     },
     "output_type": "display_data"
    }
   ],
   "source": [
    "\n",
    "\n",
    "cumulativeRevenueA = cumulativeData[cumulativeData['group']=='A'][['date','revenue', 'orders']]\n",
    "cumulativeRevenueB = cumulativeData[cumulativeData['group']=='B'][['date','revenue', 'orders']]\n",
    "\n",
    "from pandas.plotting import register_matplotlib_converters\n",
    "register_matplotlib_converters()\n",
    "\n",
    "plt.figure(figsize=(15,5))\n",
    "\n",
    "# Строим график выручки группы А\n",
    "plt.plot(cumulativeRevenueA['date'], cumulativeRevenueA['revenue'], label='Кум.выручка группы A', color='blue', linestyle='-', marker='o')\n",
    "\n",
    "#Строим график выручки группы B\n",
    "plt.plot(cumulativeRevenueB['date'], cumulativeRevenueB['revenue'], label='Кум.выручка группы B', color='red', linestyle='-', marker='o')\n",
    "\n",
    "# Настраиваем ось X\n",
    "plt.gca().xaxis.set_major_formatter(mdates.DateFormatter('%Y-%m-%d'))\n",
    "plt.gca().xaxis.set_major_locator(mdates.DayLocator(interval=1))\n",
    "plt.xticks(rotation=45)\n",
    "\n",
    "plt.title('График кумулятивной выручки по группам\\n  ')\n",
    "plt.xlabel('\\nДата')\n",
    "plt.ylabel('Выручка\\n')\n",
    "\n",
    "plt.grid(color='grey', linestyle='--', linewidth=0.5, alpha=0.7)\n",
    "plt.legend(loc='upper left')\n",
    "\n",
    "plt.show()\n"
   ]
  },
  {
   "cell_type": "markdown",
   "metadata": {},
   "source": [
    "Наблюдается резкий скачек в графике у группы В, возможно имеют место аномально большое количество заказов или аномально высокий средний чек. дата скочка 19.08.2018"
   ]
  },
  {
   "cell_type": "markdown",
   "metadata": {},
   "source": [
    "**2. Постройте график кумулятивного среднего чека по группам. Сделайте выводы и предположения.**"
   ]
  },
  {
   "cell_type": "code",
   "execution_count": 20,
   "metadata": {},
   "outputs": [
    {
     "data": {
      "image/png": "[encoded data removed]",
      "text/plain": [
       "<Figure size 1080x360 with 1 Axes>"
      ]
     },
     "metadata": {
      "needs_background": "light"
     },
     "output_type": "display_data"
    }
   ],
   "source": [
    "plt.figure(figsize=(15,5))\n",
    "\n",
    "plt.plot(cumulativeRevenueA['date'], cumulativeRevenueA['revenue']/cumulativeRevenueA['orders'], label='Кум.средний чек группы A', color='blue', linestyle='-', marker='o')\n",
    "plt.plot(cumulativeRevenueB['date'], cumulativeRevenueB['revenue']/cumulativeRevenueB['orders'], label='Кум.средний чек группы B', color='red', linestyle='-', marker='o')\n",
    "\n",
    "plt.gca().xaxis.set_major_formatter(mdates.DateFormatter('%Y-%m-%d'))\n",
    "plt.gca().xaxis.set_major_locator(mdates.DayLocator(interval=1))\n",
    "plt.xticks(rotation=45)\n",
    "\n",
    "plt.title('График кумулятивного среднего чека по группам\\n  ')\n",
    "plt.xlabel('\\nДата')\n",
    "plt.ylabel('Сумма среднего чека\\n')\n",
    "\n",
    "plt.grid(color='grey', linestyle='--', linewidth=0.5, alpha=0.7)\n",
    "plt.legend(loc='upper left')\n",
    "\n",
    "plt.show()\n"
   ]
  },
  {
   "cell_type": "markdown",
   "metadata": {},
   "source": [
    "в данных имеются выбросы "
   ]
  },
  {
   "cell_type": "markdown",
   "metadata": {},
   "source": [
    "**3. Постройте график относительного изменения кумулятивного среднего чека группы B к группе A. Сделайте выводы и предположения.**"
   ]
  },
  {
   "cell_type": "code",
   "execution_count": 21,
   "metadata": {},
   "outputs": [
    {
     "data": {
      "image/png": "[encoded data removed]",
      "text/plain": [
       "<Figure size 1080x360 with 1 Axes>"
      ]
     },
     "metadata": {
      "needs_background": "light"
     },
     "output_type": "display_data"
    }
   ],
   "source": [
    "# собираем данные в одном датафрейме\n",
    "mergedCumulativeRevenue = cumulativeRevenueA.merge(cumulativeRevenueB, left_on='date', right_on='date', how='left', suffixes=['A', 'B'])\n",
    "\n",
    "# cтроим отношение средних чеков\n",
    "plt.figure(figsize=(15,5))\n",
    "\n",
    "# Строим график относительного изменения кумулятивного среднего чека группы B к группе A\n",
    "plt.plot(mergedCumulativeRevenue['date'], (mergedCumulativeRevenue['revenueB']/mergedCumulativeRevenue['ordersB'])/(mergedCumulativeRevenue['revenueA']/mergedCumulativeRevenue['ordersA'])-1, color='purple', linestyle='-', marker='o')\n",
    "\n",
    "# Настраиваем ось X\n",
    "plt.gca().xaxis.set_major_formatter(mdates.DateFormatter('%Y-%m-%d'))\n",
    "plt.gca().xaxis.set_major_locator(mdates.DayLocator(interval=1))\n",
    "plt.xticks(rotation=45)\n",
    "\n",
    "plt.title('График относительного изменения кумулятивного среднего чека группы B к группе A\\n  ')\n",
    "plt.xlabel('\\nДата')\n",
    "plt.ylabel('Изменение среденего чека \\n')\n",
    "\n",
    "plt.grid(color='grey', linestyle='--', linewidth=0.5, alpha=0.7)\n",
    "\n",
    "# добавляем ось X\n",
    "plt.axhline(y=0, color='black', linestyle='--')\n",
    "\n",
    "plt.show()"
   ]
  },
  {
   "cell_type": "markdown",
   "metadata": {},
   "source": [
    "график не ровный, скорее всего в эти даты были совершенны заказы на большую сумму"
   ]
  },
  {
   "cell_type": "markdown",
   "metadata": {},
   "source": [
    "**4. Постройте график кумулятивного среднего количества заказов на посетителя по группам. Сделайте выводы и предположения.**"
   ]
  },
  {
   "cell_type": "code",
   "execution_count": 22,
   "metadata": {},
   "outputs": [
    {
     "data": {
      "image/png": "[encoded data removed]",
      "text/plain": [
       "<Figure size 1080x360 with 1 Axes>"
      ]
     },
     "metadata": {
      "needs_background": "light"
     },
     "output_type": "display_data"
    }
   ],
   "source": [
    "\n",
    "# Рассчитываем кумулятивное среднее количество заказов на посетителя для каждой группы\n",
    "cumulativeData['avg_orders_per_visitor'] = cumulativeData['orders'] / cumulativeData['visitors']\n",
    "\n",
    "cumulativeDataA = cumulativeData[cumulativeData['group'] == 'A']\n",
    "cumulativeDataB = cumulativeData[cumulativeData['group'] == 'B']\n",
    "\n",
    "# Регистрируем конвертеры для matplotlib\n",
    "from pandas.plotting import register_matplotlib_converters\n",
    "register_matplotlib_converters()\n",
    "\n",
    "# Создаем фигуру для графика\n",
    "plt.figure(figsize=(15, 5))\n",
    "\n",
    "# Строим график кумулятивного среднего количества заказов на посетителя для группы A\n",
    "plt.plot(cumulativeDataA['date'], cumulativeDataA['avg_orders_per_visitor'], label='Группа A', color='blue', linestyle='-', marker='o')\n",
    "\n",
    "# Строим график кумулятивного среднего количества заказов на посетителя для группы B\n",
    "plt.plot(cumulativeDataB['date'], cumulativeDataB['avg_orders_per_visitor'], label='Группа B', color='red', linestyle='-', marker='o')\n",
    "\n",
    "# Настраиваем ось X\n",
    "plt.gca().xaxis.set_major_formatter(mdates.DateFormatter('%Y-%m-%d'))\n",
    "plt.gca().xaxis.set_major_locator(mdates.DayLocator(interval=1))\n",
    "plt.xticks(rotation=45)\n",
    "\n",
    "# Задаем название графика и подписи для осей\n",
    "plt.title('График кумулятивного среднего количества заказов на посетителя по группам\\n')\n",
    "plt.xlabel('\\nДата')\n",
    "plt.ylabel('Кумулятивное среднее количество заказов на посетителя\\n')\n",
    "\n",
    "# Добавляем сетку и легенду\n",
    "plt.grid(color='grey', linestyle='--', linewidth=0.5, alpha=0.7)\n",
    "plt.legend(loc='upper left')\n",
    "\n",
    "# Отображаем график\n",
    "plt.show()\n"
   ]
  },
  {
   "cell_type": "markdown",
   "metadata": {},
   "source": [
    "<div style=\"background-color:lavender; color:#black; padding:2%\">\n",
    "в начале эксперимента в группе А было больше заказов после резкого скачка показатели А и В поменялись местами и вышли на плато.\n",
    "\n",
    "группа В - 0.029\n",
    "\n",
    "группа А - 0.025"
   ]
  },
  {
   "cell_type": "markdown",
   "metadata": {},
   "source": [
    "**5. Постройте график относительного изменения кумулятивного среднего количества заказов на посетителя группы B к группе A. Сделайте выводы и предположения.**\n"
   ]
  },
  {
   "cell_type": "code",
   "execution_count": 23,
   "metadata": {},
   "outputs": [
    {
     "data": {
      "image/png": "[encoded data removed]",
      "text/plain": [
       "<Figure size 1080x360 with 1 Axes>"
      ]
     },
     "metadata": {
      "needs_background": "light"
     },
     "output_type": "display_data"
    }
   ],
   "source": [
    "\n",
    "\n",
    "# Создание датафрейма с кумулятивными данными по группам и датам\n",
    "dates_groups = orders[['date','group']].drop_duplicates()\n",
    "orders_aggregated = dates_groups.apply(lambda x: orders[np.logical_and(orders['date'] <= x['date'], orders['group'] == x['group'])]\n",
    "                                .agg({'date':'max', 'group':'max', 'transaction_id':pd.Series.nunique, 'visitor_id':pd.Series.nunique, 'revenue':'sum'}), axis=1)\\\n",
    "                                .sort_values(by=['date','group'])\n",
    "visitors_aggregated = dates_groups.apply(lambda x: visitors[np.logical_and(visitors['date'] <= x['date'], visitors['group'] == x['group'])]\n",
    "                                .agg({'date':'max', 'group':'max', 'visitors':'sum'}), axis=1)\\\n",
    "                                .sort_values(by=['date','group'])\n",
    "cumulative_data = orders_aggregated.merge(visitors_aggregated, on=['date', 'group'])\n",
    "cumulative_data.columns = ['date', 'group', 'orders', 'buyers', 'revenue', 'visitors']\n",
    "\n",
    "# Рассчет среднего количества заказов на посетителя для каждой группы и даты\n",
    "cumulative_data['conversion'] = cumulative_data['orders'] / cumulative_data['visitors']\n",
    "cumulative_data_A = cumulative_data[cumulative_data['group'] == 'A']\n",
    "cumulative_data_B = cumulative_data[cumulative_data['group'] == 'B']\n",
    "mean_conversion_A = cumulative_data_A.pivot_table(index='date', values='conversion', aggfunc='mean')\n",
    "mean_conversion_B = cumulative_data_B.pivot_table(index='date', values='conversion', aggfunc='mean')\n",
    "\n",
    "# Рассчет относительного изменения кумулятивного среднего количества заказов на посетителя группы B к группе A на каждую дату\n",
    "merged_conversion = mean_conversion_A.merge(mean_conversion_B, left_index=True, right_index=True, suffixes=('_A', '_B'))\n",
    "merged_conversion['relative_difference'] = (merged_conversion['conversion_B'] / merged_conversion['conversion_A'] - 1) * 100\n",
    "\n",
    "plt.figure(figsize=(15, 5))\n",
    "\n",
    "# Строим график относительного изменения кумулятивного среднего количества заказов на посетителя группы B к группе A\n",
    "plt.plot(merged_conversion.index, merged_conversion['relative_difference'], color='purple', linestyle='-', marker='o')\n",
    "\n",
    "# Настраиваем ось X\n",
    "plt.gca().xaxis.set_major_formatter(mdates.DateFormatter('%Y-%m-%d'))\n",
    "plt.gca().xaxis.set_major_locator(mdates.DayLocator(interval=1))\n",
    "plt.xticks(rotation=45)\n",
    "\n",
    "plt.title('Относительное изменение кумулятивного среднего количества заказов на посетителя группы B к группе A\\n  ')\n",
    "plt.xlabel('\\nДата')\n",
    "plt.ylabel('Относительное изменение, % \\n')\n",
    "\n",
    "plt.grid(color='grey', linestyle='--', linewidth=0.5, alpha=0.7)\n",
    "\n",
    "# добавляем ось X\n",
    "plt.axhline(y=0, color='black', linestyle='--')\n",
    "\n",
    "plt.show()\n"
   ]
  },
  {
   "cell_type": "markdown",
   "metadata": {},
   "source": [
    "B- колличество заказов больше, но количество дней теста небольшое.\n"
   ]
  },
  {
   "cell_type": "markdown",
   "metadata": {},
   "source": [
    "**6.  Постройте точечный график количества заказов по пользователям. Сделайте выводы и предположения.**"
   ]
  },
  {
   "cell_type": "code",
   "execution_count": 24,
   "metadata": {},
   "outputs": [
    {
     "data": {
      "image/png": "[encoded data removed]",
      "text/plain": [
       "<Figure size 1080x360 with 1 Axes>"
      ]
     },
     "metadata": {
      "needs_background": "light"
     },
     "output_type": "display_data"
    }
   ],
   "source": [
    "\n",
    "\n",
    "# Агрегирование данных о количестве заказов по пользователям\n",
    "orders_by_users = (orders.groupby('visitor_id', as_index=False)\n",
    "                          .agg({'transaction_id': 'nunique'})\n",
    "                          .rename(columns={'transaction_id': 'orders'}))\n",
    "\n",
    "orders_by_users.head()\n",
    "\n",
    "# Создание точечного графика количества заказов по пользователям\n",
    "plt.figure(figsize=(15,5))\n",
    "sns.scatterplot(x=range(len(orders_by_users)), y=orders_by_users['orders'], alpha=0.7)\n",
    "\n",
    "plt.title('Точечный график количества заказов по пользователям\\n')\n",
    "plt.xlabel('\\nПользователи')\n",
    "plt.ylabel('Количество заказов\\n')\n",
    "\n",
    "plt.grid(color='grey', linestyle='--', linewidth=0.5, alpha=0.7)\n",
    "plt.xticks(ticks=np.arange(0, len(orders_by_users), 50), rotation=45)\n",
    "plt.yticks(ticks=np.arange(0, (orders_by_users['orders'].max()//5 + 1) * 5, 5))\n",
    "\n",
    "plt.show()\n"
   ]
  },
  {
   "cell_type": "markdown",
   "metadata": {},
   "source": [
    "Больше всего пользователей совершивших 1 заказ.\n",
    "Совершивших 2 заказа значительно меньше. Совершивших 3 заказа единицы, возможно они будут являться выбросами, стоит посчитать выборочные перцентили."
   ]
  },
  {
   "cell_type": "markdown",
   "metadata": {},
   "source": [
    "**7. Посчитайте 95-й и 99-й перцентили количества заказов на пользователя. Выберите границу для определения аномальных пользователей.**"
   ]
  },
  {
   "cell_type": "code",
   "execution_count": 25,
   "metadata": {},
   "outputs": [
    {
     "name": "stdout",
     "output_type": "stream",
     "text": [
      "[1. 2.]\n"
     ]
    }
   ],
   "source": [
    "orders_by_users = orders.groupby('visitor_id').agg({'transaction_id': pd.Series.nunique}).reset_index()\n",
    "orders_by_users.columns = ['visitor_id', 'orders']\n",
    "print(np.percentile(orders_by_users['orders'], [95, 99]))\n"
   ]
  },
  {
   "cell_type": "markdown",
   "metadata": {},
   "source": [
    "95% пользователей овершают не больше 1 заказа, 99% совершают 2 заказа, аномальным будет всё, что и более этого."
   ]
  },
  {
   "cell_type": "markdown",
   "metadata": {},
   "source": [
    "**8. Постройте точечный график стоимостей заказов. Сделайте выводы и предположения.**"
   ]
  },
  {
   "cell_type": "code",
   "execution_count": 26,
   "metadata": {},
   "outputs": [
    {
     "data": {
      "image/png": "[encoded data removed]",
      "text/plain": [
       "<Figure size 1080x360 with 1 Axes>"
      ]
     },
     "metadata": {
      "needs_background": "light"
     },
     "output_type": "display_data"
    }
   ],
   "source": [
    "\n",
    "# Создадим переменную для порядковых номеров заказов\n",
    "order_values = range(len(orders))\n",
    "\n",
    "# График стоимостей заказов\n",
    "plt.figure(figsize=(15, 5))\n",
    "plt.scatter(order_values, orders['revenue'], alpha=0.6, color='green', marker='o')\n",
    "\n",
    "# Настраиваем оси, заголовок, подписи\n",
    "plt.gca().xaxis.set_major_locator(plt.MaxNLocator(integer=True))\n",
    "plt.xlabel(\"Порядковые номера заказов\")\n",
    "plt.ylabel(\"Стоимость заказов\")\n",
    "plt.title(\"Точечный график стоимостей заказов\")\n",
    "plt.grid(color='grey', linestyle='--', linewidth=0.5, alpha=0.7)\n",
    "\n",
    "plt.show()\n"
   ]
  },
  {
   "cell_type": "markdown",
   "metadata": {},
   "source": [
    "График не понятный из за выброса данных\n",
    "Посмотрим поближе, для это уберем очевидные выбросы с revenue"
   ]
  },
  {
   "cell_type": "code",
   "execution_count": 27,
   "metadata": {},
   "outputs": [
    {
     "data": {
      "image/png": "[encoded data removed]",
      "text/plain": [
       "<Figure size 1080x360 with 1 Axes>"
      ]
     },
     "metadata": {
      "needs_background": "light"
     },
     "output_type": "display_data"
    }
   ],
   "source": [
    "orders['revenue'].sort_values().tail(10)\n",
    "norm_orders = orders[orders['revenue']<=200000]['revenue']\n",
    "xn_values = pd.Series(range(0,len(norm_orders)))\n",
    "plt.figure(figsize=(15,5))\n",
    "plt.grid()\n",
    "plt.title('График стоимостей заказов')\n",
    "plt.xlabel('\\nКол-во пользователей')\n",
    "plt.ylabel('Стоимость заказа\\n')\n",
    "plt.scatter(xn_values, norm_orders, alpha=0.5);"
   ]
  },
  {
   "cell_type": "markdown",
   "metadata": {},
   "source": [
    "Большая часть всех заказов не дороже 20000"
   ]
  },
  {
   "cell_type": "markdown",
   "metadata": {},
   "source": [
    "**9. Посчитайте 95-й и 99-й перцентили стоимости заказов. Выберите границу для определения аномальных заказов.**"
   ]
  },
  {
   "cell_type": "code",
   "execution_count": 28,
   "metadata": {},
   "outputs": [
    {
     "name": "stdout",
     "output_type": "stream",
     "text": [
      "95-й перцентиль стоимости заказов: 26785.0\n",
      "99-й перцентиль стоимости заказов: 53904.0\n"
     ]
    },
    {
     "data": {
      "image/png": "[encoded data removed]",
      "text/plain": [
       "<Figure size 1080x360 with 1 Axes>"
      ]
     },
     "metadata": {
      "needs_background": "light"
     },
     "output_type": "display_data"
    }
   ],
   "source": [
    "\n",
    "# Считаем 95-й и 99-й перцентили\n",
    "orders_95_percentile = np.percentile(orders['revenue'], 95)\n",
    "orders_99_percentile = np.percentile(orders['revenue'], 99)\n",
    "\n",
    "print('95-й перцентиль стоимости заказов:', orders_95_percentile)\n",
    "print('99-й перцентиль стоимости заказов:', orders_99_percentile)\n",
    "\n",
    "\n",
    "# Выберите границу для определения аномальных заказов (к примеру, 95-й перцентиль)\n",
    "threshold = orders_95_percentile\n",
    "\n",
    "# Отфильтруем аномальные заказы\n",
    "orders_filtered = orders[orders['revenue'] < threshold]\n",
    "\n",
    "# Создадим график\n",
    "plt.figure(figsize=(15, 5))\n",
    "sns.scatterplot(data=orders_filtered, x='date', y='revenue', hue='group', style='group', s=100,\n",
    "                palette={'A': 'blue', 'B': 'red'}, alpha=0.7)\n",
    "\n",
    "plt.gca().xaxis.set_major_formatter(mdates.DateFormatter('%Y-%m-%d'))\n",
    "plt.gca().xaxis.set_major_locator(mdates.DayLocator(interval=1))\n",
    "plt.xticks(rotation=45)\n",
    "\n",
    "plt.title('График стоимости заказов без аномалий\\n')\n",
    "plt.xlabel('\\nДата')\n",
    "plt.ylabel('Выручка\\n')\n",
    "\n",
    "plt.grid(color='grey', linestyle='--', linewidth=0.5, alpha=0.7)\n",
    "plt.legend(loc='upper left')\n",
    "\n",
    "plt.show()\n"
   ]
  },
  {
   "cell_type": "markdown",
   "metadata": {},
   "source": [
    "Не более чем у 95% заказов чек выше 26785 рублей, и не более чем у 1% дороже 53904 рублей.\n",
    "За границу для определения аномальных заказов примем значение 53904."
   ]
  },
  {
   "cell_type": "markdown",
   "metadata": {},
   "source": [
    "**10. Посчитайте статистическую значимость различий в среднем количестве заказов на посетителя между группами по «сырым» данным. Сделайте выводы и предположения.**"
   ]
  },
  {
   "cell_type": "code",
   "execution_count": 29,
   "metadata": {},
   "outputs": [
    {
     "name": "stdout",
     "output_type": "stream",
     "text": [
      "p-значение (сырые данные):  0.016851380434703023\n",
      "Отвергаем нулевую гипотезу\n"
     ]
    }
   ],
   "source": [
    "# Оставим данные без очистки (сырыми)\n",
    "conversion_raw = (orders.groupby('group').agg({'transaction_id':'count'}).rename(columns={'transaction_id':'orders'}))\\\n",
    "                                                .join((visitors.groupby('group').agg({'visitors':'sum'}))).reset_index()\n",
    "\n",
    "# Воспользуемся Z-критерием для разности двух долей.\n",
    "# H0: Конверсия в группе A РАВНА конверсии в группе B\n",
    "# H1: Конверсия в группе A НЕ РАВНА конверсии в группе B\n",
    "alpha = 0.05\n",
    "purchases_raw = np.array(conversion_raw['orders'])\n",
    "leads_raw = np.array(conversion_raw['visitors'])\n",
    "p1_raw = purchases_raw[0] / leads_raw[0]\n",
    "p2_raw = purchases_raw[1] / leads_raw[1]\n",
    "combined_raw = (purchases_raw[0] + purchases_raw[1]) / (leads_raw[0] + leads_raw[1])\n",
    "difference_raw = p1_raw - p2_raw\n",
    "z_value_raw = difference_raw / math.sqrt(combined_raw * (1 - combined_raw) * (1 / leads_raw[0] + 1 / leads_raw[1]))\n",
    "distr_raw = st.norm(0, 1)\n",
    "p_value_raw = (1 - distr_raw.cdf(abs(z_value_raw))) * 2\n",
    "\n",
    "print('p-значение (сырые данные): ', p_value_raw)\n",
    "if (p_value_raw < alpha):\n",
    "    print(\"Отвергаем нулевую гипотезу\")\n",
    "else:\n",
    "    print(\"Не получилось отвергнуть нулевую гипотезу\")\n"
   ]
  },
  {
   "cell_type": "markdown",
   "metadata": {},
   "source": [
    "статическая значимость есть"
   ]
  },
  {
   "cell_type": "markdown",
   "metadata": {},
   "source": [
    "**11. Посчитайте статистическую значимость различий в среднем чеке заказа между группами по «сырым» данным. Сделайте выводы и предположения.**"
   ]
  },
  {
   "cell_type": "code",
   "execution_count": 30,
   "metadata": {},
   "outputs": [
    {
     "name": "stdout",
     "output_type": "stream",
     "text": [
      "p-значение:  0.8294908998149533\n",
      "Не получилось отвергнуть H0: вывод о различии сделать нельзя\n"
     ]
    }
   ],
   "source": [
    "alpha = 0.05\n",
    "results = st.mannwhitneyu(orders[orders['group']=='A']['revenue'], orders[orders['group']=='B']['revenue'])\n",
    "pvalue = results.pvalue\n",
    "print('p-значение: ', pvalue)\n",
    "\n",
    "# Вычисление относительных различий между группами\n",
    "revenue_a = orders[orders['group']=='A']['revenue']\n",
    "revenue_b = orders[orders['group']=='B']['revenue']\n",
    "median_diff = np.median(revenue_b) / np.median(revenue_a) - 1\n",
    "mean_diff = revenue_b.mean() / revenue_a.mean() - 1\n",
    "\n",
    "if (pvalue < alpha):\n",
    "    print(\"Отвергаем H0: разница статистически значима\")\n",
    "    print(f\"Относительное различие между медианами групп: {median_diff:.2%}\")\n",
    "    print(f\"Относительное различие между средними групп: {mean_diff:.2%}\")\n",
    "else:\n",
    "    print(\"Не получилось отвергнуть H0: вывод о различии сделать нельзя\")\n"
   ]
  },
  {
   "cell_type": "markdown",
   "metadata": {},
   "source": [
    "**12.  Посчитайте статистическую значимость различий в среднем количестве заказов на посетителя между группами по «очищенным» данным. Сделайте выводы и предположения.**"
   ]
  },
  {
   "cell_type": "markdown",
   "metadata": {},
   "source": [
    "гипотезы\n",
    "- H0: Среднее количество заказов в группе A РАВНО среднему количеству заказов в группе B\n",
    "- H1: Среднее количество заказов в группе A НЕ РАВНО среднему количеству заказов в группе B"
   ]
  },
  {
   "cell_type": "code",
   "execution_count": 31,
   "metadata": {},
   "outputs": [
    {
     "data": {
      "text/html": [
       "<div>\n",
       "<style scoped>\n",
       "    .dataframe tbody tr th:only-of-type {\n",
       "        vertical-align: middle;\n",
       "    }\n",
       "\n",
       "    .dataframe tbody tr th {\n",
       "        vertical-align: top;\n",
       "    }\n",
       "\n",
       "    .dataframe thead th {\n",
       "        text-align: right;\n",
       "    }\n",
       "</style>\n",
       "<table border=\"1\" class=\"dataframe\">\n",
       "  <thead>\n",
       "    <tr style=\"text-align: right;\">\n",
       "      <th></th>\n",
       "      <th>transaction_id</th>\n",
       "      <th>visitor_id</th>\n",
       "      <th>date</th>\n",
       "      <th>revenue</th>\n",
       "      <th>group</th>\n",
       "    </tr>\n",
       "  </thead>\n",
       "  <tbody>\n",
       "    <tr>\n",
       "      <th>0</th>\n",
       "      <td>3667963787</td>\n",
       "      <td>3312258926</td>\n",
       "      <td>2019-08-15</td>\n",
       "      <td>1650</td>\n",
       "      <td>B</td>\n",
       "    </tr>\n",
       "    <tr>\n",
       "      <th>1</th>\n",
       "      <td>2804400009</td>\n",
       "      <td>3642806036</td>\n",
       "      <td>2019-08-15</td>\n",
       "      <td>730</td>\n",
       "      <td>B</td>\n",
       "    </tr>\n",
       "    <tr>\n",
       "      <th>3</th>\n",
       "      <td>3797467345</td>\n",
       "      <td>1196621759</td>\n",
       "      <td>2019-08-15</td>\n",
       "      <td>9759</td>\n",
       "      <td>B</td>\n",
       "    </tr>\n",
       "    <tr>\n",
       "      <th>4</th>\n",
       "      <td>2282983706</td>\n",
       "      <td>2322279887</td>\n",
       "      <td>2019-08-15</td>\n",
       "      <td>2308</td>\n",
       "      <td>B</td>\n",
       "    </tr>\n",
       "    <tr>\n",
       "      <th>5</th>\n",
       "      <td>182168103</td>\n",
       "      <td>935554773</td>\n",
       "      <td>2019-08-15</td>\n",
       "      <td>2210</td>\n",
       "      <td>B</td>\n",
       "    </tr>\n",
       "  </tbody>\n",
       "</table>\n",
       "</div>"
      ],
      "text/plain": [
       "   transaction_id  visitor_id       date  revenue group\n",
       "0      3667963787  3312258926 2019-08-15     1650     B\n",
       "1      2804400009  3642806036 2019-08-15      730     B\n",
       "3      3797467345  1196621759 2019-08-15     9759     B\n",
       "4      2282983706  2322279887 2019-08-15     2308     B\n",
       "5       182168103   935554773 2019-08-15     2210     B"
      ]
     },
     "execution_count": 31,
     "metadata": {},
     "output_type": "execute_result"
    }
   ],
   "source": [
    "orders.head()\n"
   ]
  },
  {
   "cell_type": "code",
   "execution_count": 32,
   "metadata": {},
   "outputs": [],
   "source": [
    "orders_per_user = orders.groupby('visitor_id', as_index=False).agg({'transaction_id':'nunique'})\\\n",
    "                         .rename(columns={'transaction_id':'orders'})\n",
    "\n",
    "outlaws_1p = orders_per_user[orders_per_user['orders'] >= 4]['visitor_id'].to_list()\n"
   ]
  },
  {
   "cell_type": "code",
   "execution_count": 33,
   "metadata": {},
   "outputs": [
    {
     "name": "stdout",
     "output_type": "stream",
     "text": [
      "p-значение:  0.3775373897229706\n",
      "Не получилось отвергнуть нулевую гипотезу\n"
     ]
    }
   ],
   "source": [
    "# Зачистим данные\n",
    "orders_temp = orders[~orders['visitor_id'].isin(outlaws_1p)]\n",
    "\n",
    "# Подсчитываем среднее количество заказов на посетителя для каждой группы\n",
    "orders_mean_clear = orders_temp.groupby(['group', 'visitor_id']).agg({'transaction_id': 'count'}).reset_index()\n",
    "mean_orders_by_group = orders_mean_clear.groupby('group').agg({'transaction_id':'mean'}).values.flatten()\n",
    "\n",
    "# Воспользуемся t-критерием Стьюдента для проверки различий между двумя группами\n",
    "# H0: Среднее количество заказов в группе A РАВНО среднему количеству заказов в группе B\n",
    "# H1: Среднее количество заказов в группе A НЕ РАВНО среднему количеству заказов в группе B\n",
    "result = st.ttest_ind(orders_mean_clear[orders_mean_clear['group']=='A']['transaction_id'],\n",
    "                      orders_mean_clear[orders_mean_clear['group']=='B']['transaction_id'],\n",
    "                      equal_var=False)\n",
    "\n",
    "p_value = result.pvalue\n",
    "print('p-значение: ', p_value)\n",
    "if (p_value < alpha):\n",
    "    print(\"Отвергаем нулевую гипотезу\")\n",
    "else:\n",
    "    print(\"Не получилось отвергнуть нулевую гипотезу\")\n"
   ]
  },
  {
   "cell_type": "markdown",
   "metadata": {},
   "source": [
    "нет статистически значимых различий между средним количеством заказов на посетителя в группе A и группе B."
   ]
  },
  {
   "cell_type": "markdown",
   "metadata": {},
   "source": [
    "**13.  Посчитайте статистическую значимость различий в среднем чеке заказа между группами по «очищенным» данным. Сделайте выводы и предположения**"
   ]
  },
  {
   "cell_type": "code",
   "execution_count": 34,
   "metadata": {},
   "outputs": [],
   "source": [
    "orders_clear = orders.query('revenue <= 58000')\n"
   ]
  },
  {
   "cell_type": "code",
   "execution_count": 35,
   "metadata": {},
   "outputs": [
    {
     "name": "stdout",
     "output_type": "stream",
     "text": [
      "p-значение:  0.9006884356560738\n",
      "Не получилось отвергнуть H0: вывод о различии сделать нельзя\n"
     ]
    }
   ],
   "source": [
    "# Воспользуемся критерием Манна-Уитни\n",
    "\n",
    "alpha = 0.05\n",
    "results = st.mannwhitneyu(orders_clear[orders_clear['group']=='A']['revenue'], orders_clear[orders_clear['group']=='B']['revenue'])\n",
    "pvalue = results.pvalue\n",
    "print('p-значение: ', pvalue)\n",
    "if (pvalue < alpha):\n",
    "    print(\"Отвергаем H0: разница статистически значима\")\n",
    "else:\n",
    "    print(\"Не получилось отвергнуть H0: вывод о различии сделать нельзя\")"
   ]
  },
  {
   "cell_type": "code",
   "execution_count": 36,
   "metadata": {},
   "outputs": [
    {
     "data": {
      "text/plain": [
       "6504.548596112311"
      ]
     },
     "execution_count": 36,
     "metadata": {},
     "output_type": "execute_result"
    }
   ],
   "source": [
    "orders_clear[orders_clear['group']=='A']['revenue'].mean()\n"
   ]
  },
  {
   "cell_type": "code",
   "execution_count": 37,
   "metadata": {},
   "outputs": [
    {
     "data": {
      "text/plain": [
       "6298.827205882353"
      ]
     },
     "execution_count": 37,
     "metadata": {},
     "output_type": "execute_result"
    }
   ],
   "source": [
    "orders_clear[orders_clear['group']=='B']['revenue'].mean()\n"
   ]
  },
  {
   "cell_type": "markdown",
   "metadata": {},
   "source": [
    "средний чек в группе B немного ниже \n"
   ]
  },
  {
   "cell_type": "markdown",
   "metadata": {},
   "source": [
    "P-value = 0.9, значительно больше 0.05. это значит, что в среднем чеке нет различий"
   ]
  },
  {
   "cell_type": "markdown",
   "metadata": {},
   "source": [
    "**14. Примите решение по результатам теста и объясните его**"
   ]
  },
  {
   "cell_type": "markdown",
   "metadata": {},
   "source": [
    " Варианты решений:\n",
    "1. Остановить тест, зафиксировать победу одной из групп.\n",
    "2. Остановить тест, зафиксировать отсутствие различий между группами.\n",
    "3. Продолжить тест."
   ]
  },
  {
   "cell_type": "markdown",
   "metadata": {},
   "source": [
    "основываясь на результатах А/В тестов принимает решение о прекращении тестов\n",
    "и зафексировать победу группы В\n",
    "\n",
    "В группе А немного выше средний чек (+3.27%)\n",
    "А в группе В выше показатель заказов на одного посетителя (+15%)"
   ]
  }
 ],
 "metadata": {
  "ExecuteTimeLog": [
   {
    "duration": 8,
    "start_time": "2023-08-30T09:13:50.850Z"
   },
   {
    "duration": 46,
    "start_time": "2023-08-30T09:15:39.887Z"
   },
   {
    "duration": 1560,
    "start_time": "2023-08-30T09:16:02.975Z"
   },
   {
    "duration": 237,
    "start_time": "2023-08-30T09:16:04.537Z"
   },
   {
    "duration": 142,
    "start_time": "2023-08-30T09:19:19.791Z"
   },
   {
    "duration": 1226,
    "start_time": "2023-08-30T09:19:33.785Z"
   },
   {
    "duration": 78,
    "start_time": "2023-08-30T09:19:35.013Z"
   },
   {
    "duration": 117,
    "start_time": "2023-08-30T09:19:35.093Z"
   },
   {
    "duration": 5,
    "start_time": "2023-08-30T09:20:30.140Z"
   },
   {
    "duration": 76,
    "start_time": "2023-08-30T09:20:30.857Z"
   },
   {
    "duration": 22,
    "start_time": "2023-08-30T09:20:31.665Z"
   },
   {
    "duration": 104,
    "start_time": "2023-08-30T09:20:53.106Z"
   },
   {
    "duration": 869,
    "start_time": "2023-08-30T09:22:30.742Z"
   },
   {
    "duration": 828,
    "start_time": "2023-08-30T09:23:44.697Z"
   },
   {
    "duration": 1102,
    "start_time": "2023-08-30T09:24:04.010Z"
   },
   {
    "duration": 1187,
    "start_time": "2023-08-30T09:25:45.434Z"
   },
   {
    "duration": 75,
    "start_time": "2023-08-30T09:25:46.623Z"
   },
   {
    "duration": 1065,
    "start_time": "2023-08-30T09:25:46.700Z"
   },
   {
    "duration": 1208,
    "start_time": "2023-08-30T09:27:58.100Z"
   },
   {
    "duration": 78,
    "start_time": "2023-08-30T09:27:59.311Z"
   },
   {
    "duration": 17,
    "start_time": "2023-08-30T09:27:59.391Z"
   },
   {
    "duration": 655,
    "start_time": "2023-08-30T09:27:59.410Z"
   },
   {
    "duration": 14,
    "start_time": "2023-08-30T09:28:17.285Z"
   },
   {
    "duration": 1073,
    "start_time": "2023-08-30T09:28:19.549Z"
   },
   {
    "duration": 12,
    "start_time": "2023-08-30T09:28:43.889Z"
   },
   {
    "duration": 1237,
    "start_time": "2023-08-30T09:28:45.101Z"
   },
   {
    "duration": 1400,
    "start_time": "2023-08-30T09:29:02.304Z"
   },
   {
    "duration": 76,
    "start_time": "2023-08-30T09:29:03.706Z"
   },
   {
    "duration": 13,
    "start_time": "2023-08-30T09:29:03.784Z"
   },
   {
    "duration": 944,
    "start_time": "2023-08-30T09:29:03.799Z"
   },
   {
    "duration": 6,
    "start_time": "2023-08-30T09:29:53.583Z"
   },
   {
    "duration": 3,
    "start_time": "2023-08-30T09:30:27.589Z"
   },
   {
    "duration": 4,
    "start_time": "2023-08-30T09:30:28.856Z"
   },
   {
    "duration": 1260,
    "start_time": "2023-08-30T09:30:57.150Z"
   },
   {
    "duration": 75,
    "start_time": "2023-08-30T09:30:58.412Z"
   },
   {
    "duration": 811,
    "start_time": "2023-08-30T09:30:58.489Z"
   },
   {
    "duration": 13,
    "start_time": "2023-08-30T09:30:59.302Z"
   },
   {
    "duration": 622,
    "start_time": "2023-08-30T09:30:59.317Z"
   },
   {
    "duration": 0,
    "start_time": "2023-08-30T09:30:59.941Z"
   },
   {
    "duration": 0,
    "start_time": "2023-08-30T09:30:59.942Z"
   },
   {
    "duration": 1245,
    "start_time": "2023-08-30T09:32:42.274Z"
   },
   {
    "duration": 76,
    "start_time": "2023-08-30T09:32:43.521Z"
   },
   {
    "duration": 3,
    "start_time": "2023-08-30T09:32:43.599Z"
   },
   {
    "duration": 34,
    "start_time": "2023-08-30T09:32:43.605Z"
   },
   {
    "duration": 21,
    "start_time": "2023-08-30T09:32:43.640Z"
   },
   {
    "duration": 565,
    "start_time": "2023-08-30T09:32:43.663Z"
   },
   {
    "duration": 3,
    "start_time": "2023-08-30T09:32:44.229Z"
   },
   {
    "duration": 1228,
    "start_time": "2023-08-30T09:34:48.180Z"
   },
   {
    "duration": 76,
    "start_time": "2023-08-30T09:34:49.410Z"
   },
   {
    "duration": 703,
    "start_time": "2023-08-30T09:34:49.488Z"
   },
   {
    "duration": 3,
    "start_time": "2023-08-30T09:34:50.193Z"
   },
   {
    "duration": 20,
    "start_time": "2023-08-30T09:34:50.198Z"
   },
   {
    "duration": 36,
    "start_time": "2023-08-30T09:34:50.220Z"
   },
   {
    "duration": 1191,
    "start_time": "2023-08-30T09:35:22.137Z"
   },
   {
    "duration": 77,
    "start_time": "2023-08-30T09:35:23.330Z"
   },
   {
    "duration": 622,
    "start_time": "2023-08-30T09:35:23.409Z"
   },
   {
    "duration": 4,
    "start_time": "2023-08-30T09:35:24.033Z"
   },
   {
    "duration": 21,
    "start_time": "2023-08-30T09:35:24.038Z"
   },
   {
    "duration": 30,
    "start_time": "2023-08-30T09:35:24.061Z"
   },
   {
    "duration": 14,
    "start_time": "2023-08-30T09:35:24.092Z"
   },
   {
    "duration": 17,
    "start_time": "2023-08-30T09:35:24.107Z"
   },
   {
    "duration": 3,
    "start_time": "2023-08-30T09:39:53.301Z"
   },
   {
    "duration": 4,
    "start_time": "2023-08-30T09:39:54.113Z"
   },
   {
    "duration": 1211,
    "start_time": "2023-08-30T09:40:02.209Z"
   },
   {
    "duration": 76,
    "start_time": "2023-08-30T09:40:03.422Z"
   },
   {
    "duration": 988,
    "start_time": "2023-08-30T09:40:03.501Z"
   },
   {
    "duration": 3,
    "start_time": "2023-08-30T09:40:04.492Z"
   },
   {
    "duration": 24,
    "start_time": "2023-08-30T09:40:04.497Z"
   },
   {
    "duration": 31,
    "start_time": "2023-08-30T09:40:04.523Z"
   },
   {
    "duration": 18,
    "start_time": "2023-08-30T09:40:04.555Z"
   },
   {
    "duration": 30,
    "start_time": "2023-08-30T09:40:04.574Z"
   },
   {
    "duration": 21,
    "start_time": "2023-08-30T09:40:04.606Z"
   },
   {
    "duration": 1259,
    "start_time": "2023-08-30T09:40:47.053Z"
   },
   {
    "duration": 74,
    "start_time": "2023-08-30T09:40:48.313Z"
   },
   {
    "duration": 638,
    "start_time": "2023-08-30T09:40:48.389Z"
   },
   {
    "duration": 4,
    "start_time": "2023-08-30T09:40:49.028Z"
   },
   {
    "duration": 6,
    "start_time": "2023-08-30T09:40:49.034Z"
   },
   {
    "duration": 16,
    "start_time": "2023-08-30T09:40:49.042Z"
   },
   {
    "duration": 9,
    "start_time": "2023-08-30T09:40:49.060Z"
   },
   {
    "duration": 7,
    "start_time": "2023-08-30T09:40:49.071Z"
   },
   {
    "duration": 7,
    "start_time": "2023-08-30T09:40:49.080Z"
   },
   {
    "duration": 3,
    "start_time": "2023-08-30T11:25:12.410Z"
   },
   {
    "duration": 1183,
    "start_time": "2023-08-30T11:25:20.934Z"
   },
   {
    "duration": 75,
    "start_time": "2023-08-30T11:25:22.119Z"
   },
   {
    "duration": 606,
    "start_time": "2023-08-30T11:25:22.196Z"
   },
   {
    "duration": 4,
    "start_time": "2023-08-30T11:25:22.804Z"
   },
   {
    "duration": 12,
    "start_time": "2023-08-30T11:25:22.810Z"
   },
   {
    "duration": 14,
    "start_time": "2023-08-30T11:25:22.825Z"
   },
   {
    "duration": 6,
    "start_time": "2023-08-30T11:25:22.841Z"
   },
   {
    "duration": 11,
    "start_time": "2023-08-30T11:25:22.849Z"
   },
   {
    "duration": 20,
    "start_time": "2023-08-30T11:25:22.862Z"
   },
   {
    "duration": 14,
    "start_time": "2023-08-30T11:27:12.333Z"
   },
   {
    "duration": 17,
    "start_time": "2023-08-30T11:28:12.584Z"
   },
   {
    "duration": 12,
    "start_time": "2023-08-30T11:28:28.357Z"
   },
   {
    "duration": 6,
    "start_time": "2023-08-30T11:29:40.810Z"
   },
   {
    "duration": 6,
    "start_time": "2023-08-30T11:29:47.667Z"
   },
   {
    "duration": 103,
    "start_time": "2023-08-30T11:30:17.021Z"
   },
   {
    "duration": 142,
    "start_time": "2023-08-30T11:30:50.315Z"
   },
   {
    "duration": 11,
    "start_time": "2023-08-30T11:31:50.118Z"
   },
   {
    "duration": 65,
    "start_time": "2023-08-30T14:20:35.150Z"
   },
   {
    "duration": 1495,
    "start_time": "2023-08-30T14:20:43.013Z"
   },
   {
    "duration": 189,
    "start_time": "2023-08-30T14:20:44.510Z"
   },
   {
    "duration": 816,
    "start_time": "2023-08-30T14:20:44.701Z"
   },
   {
    "duration": 3,
    "start_time": "2023-08-30T14:20:45.521Z"
   },
   {
    "duration": 16,
    "start_time": "2023-08-30T14:20:45.526Z"
   },
   {
    "duration": 24,
    "start_time": "2023-08-30T14:20:45.544Z"
   },
   {
    "duration": 31,
    "start_time": "2023-08-30T14:20:45.570Z"
   },
   {
    "duration": 18,
    "start_time": "2023-08-30T14:20:45.603Z"
   },
   {
    "duration": 13,
    "start_time": "2023-08-30T14:20:45.623Z"
   },
   {
    "duration": 17,
    "start_time": "2023-08-30T14:20:45.638Z"
   },
   {
    "duration": 18,
    "start_time": "2023-08-30T14:20:45.657Z"
   },
   {
    "duration": 15,
    "start_time": "2023-08-30T14:20:45.677Z"
   },
   {
    "duration": 1227,
    "start_time": "2023-08-30T14:23:36.769Z"
   },
   {
    "duration": 81,
    "start_time": "2023-08-30T14:23:37.998Z"
   },
   {
    "duration": 5,
    "start_time": "2023-08-30T14:23:38.080Z"
   },
   {
    "duration": 795,
    "start_time": "2023-08-30T14:23:38.087Z"
   },
   {
    "duration": 3,
    "start_time": "2023-08-30T14:23:38.884Z"
   },
   {
    "duration": 27,
    "start_time": "2023-08-30T14:23:38.889Z"
   },
   {
    "duration": 27,
    "start_time": "2023-08-30T14:23:38.918Z"
   },
   {
    "duration": 25,
    "start_time": "2023-08-30T14:23:38.948Z"
   },
   {
    "duration": 18,
    "start_time": "2023-08-30T14:23:38.975Z"
   },
   {
    "duration": 14,
    "start_time": "2023-08-30T14:23:38.995Z"
   },
   {
    "duration": 35,
    "start_time": "2023-08-30T14:23:39.012Z"
   },
   {
    "duration": 18,
    "start_time": "2023-08-30T14:23:39.050Z"
   },
   {
    "duration": 17,
    "start_time": "2023-08-30T14:23:39.070Z"
   },
   {
    "duration": 89,
    "start_time": "2023-08-30T14:23:39.089Z"
   },
   {
    "duration": 89,
    "start_time": "2023-08-30T14:46:16.715Z"
   },
   {
    "duration": 0,
    "start_time": "2023-08-30T14:46:16.807Z"
   },
   {
    "duration": 0,
    "start_time": "2023-08-30T14:46:16.809Z"
   },
   {
    "duration": 1,
    "start_time": "2023-08-30T14:46:16.810Z"
   },
   {
    "duration": 0,
    "start_time": "2023-08-30T14:46:16.812Z"
   },
   {
    "duration": 0,
    "start_time": "2023-08-30T14:46:16.813Z"
   },
   {
    "duration": 0,
    "start_time": "2023-08-30T14:46:16.815Z"
   },
   {
    "duration": 0,
    "start_time": "2023-08-30T14:46:16.816Z"
   },
   {
    "duration": 0,
    "start_time": "2023-08-30T14:46:16.817Z"
   },
   {
    "duration": 0,
    "start_time": "2023-08-30T14:46:16.818Z"
   },
   {
    "duration": 0,
    "start_time": "2023-08-30T14:46:16.819Z"
   },
   {
    "duration": 0,
    "start_time": "2023-08-30T14:46:16.820Z"
   },
   {
    "duration": 0,
    "start_time": "2023-08-30T14:46:16.822Z"
   },
   {
    "duration": 0,
    "start_time": "2023-08-30T14:46:16.823Z"
   },
   {
    "duration": 0,
    "start_time": "2023-08-30T14:46:16.824Z"
   },
   {
    "duration": 0,
    "start_time": "2023-08-30T14:46:16.826Z"
   },
   {
    "duration": 0,
    "start_time": "2023-08-30T14:46:16.826Z"
   },
   {
    "duration": 0,
    "start_time": "2023-08-30T14:46:16.828Z"
   },
   {
    "duration": 54,
    "start_time": "2023-08-30T14:46:16.856Z"
   },
   {
    "duration": 0,
    "start_time": "2023-08-30T14:46:16.912Z"
   },
   {
    "duration": 0,
    "start_time": "2023-08-30T14:46:16.914Z"
   },
   {
    "duration": 1456,
    "start_time": "2023-08-30T14:49:08.386Z"
   },
   {
    "duration": 78,
    "start_time": "2023-08-30T14:49:09.844Z"
   },
   {
    "duration": 4,
    "start_time": "2023-08-30T14:49:09.924Z"
   },
   {
    "duration": 762,
    "start_time": "2023-08-30T14:49:09.930Z"
   },
   {
    "duration": 3,
    "start_time": "2023-08-30T14:49:10.694Z"
   },
   {
    "duration": 7,
    "start_time": "2023-08-30T14:49:10.699Z"
   },
   {
    "duration": 21,
    "start_time": "2023-08-30T14:49:10.708Z"
   },
   {
    "duration": 6,
    "start_time": "2023-08-30T14:49:10.731Z"
   },
   {
    "duration": 25,
    "start_time": "2023-08-30T14:49:10.739Z"
   },
   {
    "duration": 14,
    "start_time": "2023-08-30T14:49:10.768Z"
   },
   {
    "duration": 17,
    "start_time": "2023-08-30T14:49:10.784Z"
   },
   {
    "duration": 14,
    "start_time": "2023-08-30T14:49:10.802Z"
   },
   {
    "duration": 22,
    "start_time": "2023-08-30T14:49:10.817Z"
   },
   {
    "duration": 15,
    "start_time": "2023-08-30T14:49:10.841Z"
   },
   {
    "duration": 1650,
    "start_time": "2023-08-30T14:49:10.859Z"
   },
   {
    "duration": 0,
    "start_time": "2023-08-30T14:49:12.510Z"
   },
   {
    "duration": 0,
    "start_time": "2023-08-30T14:49:12.512Z"
   },
   {
    "duration": 0,
    "start_time": "2023-08-30T14:49:12.513Z"
   },
   {
    "duration": 0,
    "start_time": "2023-08-30T14:49:12.514Z"
   },
   {
    "duration": 0,
    "start_time": "2023-08-30T14:49:12.515Z"
   },
   {
    "duration": 1383,
    "start_time": "2023-08-30T14:50:04.328Z"
   },
   {
    "duration": 76,
    "start_time": "2023-08-30T14:50:05.715Z"
   },
   {
    "duration": 5,
    "start_time": "2023-08-30T14:50:05.793Z"
   },
   {
    "duration": 674,
    "start_time": "2023-08-30T14:50:05.799Z"
   },
   {
    "duration": 3,
    "start_time": "2023-08-30T14:50:06.476Z"
   },
   {
    "duration": 16,
    "start_time": "2023-08-30T14:50:06.480Z"
   },
   {
    "duration": 38,
    "start_time": "2023-08-30T14:50:06.498Z"
   },
   {
    "duration": 23,
    "start_time": "2023-08-30T14:50:06.538Z"
   },
   {
    "duration": 8,
    "start_time": "2023-08-30T14:50:06.563Z"
   },
   {
    "duration": 6,
    "start_time": "2023-08-30T14:50:06.573Z"
   },
   {
    "duration": 37,
    "start_time": "2023-08-30T14:50:06.580Z"
   },
   {
    "duration": 13,
    "start_time": "2023-08-30T14:50:06.619Z"
   },
   {
    "duration": 10,
    "start_time": "2023-08-30T14:50:06.634Z"
   },
   {
    "duration": 20,
    "start_time": "2023-08-30T14:50:06.646Z"
   },
   {
    "duration": 2033,
    "start_time": "2023-08-30T14:50:06.667Z"
   },
   {
    "duration": 0,
    "start_time": "2023-08-30T14:50:08.702Z"
   },
   {
    "duration": 0,
    "start_time": "2023-08-30T14:50:08.703Z"
   },
   {
    "duration": 0,
    "start_time": "2023-08-30T14:50:08.705Z"
   },
   {
    "duration": 0,
    "start_time": "2023-08-30T14:50:08.706Z"
   },
   {
    "duration": 0,
    "start_time": "2023-08-30T14:50:08.707Z"
   },
   {
    "duration": 13,
    "start_time": "2023-08-30T14:50:50.808Z"
   },
   {
    "duration": 5,
    "start_time": "2023-08-30T14:51:13.287Z"
   },
   {
    "duration": 45,
    "start_time": "2023-08-30T14:51:21.475Z"
   },
   {
    "duration": 320,
    "start_time": "2023-08-30T14:51:55.508Z"
   },
   {
    "duration": 477,
    "start_time": "2023-08-30T14:52:07.104Z"
   },
   {
    "duration": 1257,
    "start_time": "2023-08-30T14:52:16.523Z"
   },
   {
    "duration": 77,
    "start_time": "2023-08-30T14:52:17.782Z"
   },
   {
    "duration": 4,
    "start_time": "2023-08-30T14:52:17.861Z"
   },
   {
    "duration": 744,
    "start_time": "2023-08-30T14:52:17.867Z"
   },
   {
    "duration": 4,
    "start_time": "2023-08-30T14:52:18.613Z"
   },
   {
    "duration": 9,
    "start_time": "2023-08-30T14:52:18.618Z"
   },
   {
    "duration": 15,
    "start_time": "2023-08-30T14:52:18.628Z"
   },
   {
    "duration": 6,
    "start_time": "2023-08-30T14:52:18.644Z"
   },
   {
    "duration": 9,
    "start_time": "2023-08-30T14:52:18.651Z"
   },
   {
    "duration": 7,
    "start_time": "2023-08-30T14:52:18.662Z"
   },
   {
    "duration": 15,
    "start_time": "2023-08-30T14:52:18.671Z"
   },
   {
    "duration": 15,
    "start_time": "2023-08-30T14:52:18.688Z"
   },
   {
    "duration": 43,
    "start_time": "2023-08-30T14:52:18.705Z"
   },
   {
    "duration": 14,
    "start_time": "2023-08-30T14:52:18.750Z"
   },
   {
    "duration": 11,
    "start_time": "2023-08-30T14:52:18.766Z"
   },
   {
    "duration": 4,
    "start_time": "2023-08-30T14:52:18.778Z"
   },
   {
    "duration": 360,
    "start_time": "2023-08-30T14:52:18.784Z"
   },
   {
    "duration": 479,
    "start_time": "2023-08-30T14:52:19.146Z"
   },
   {
    "duration": 258,
    "start_time": "2023-08-30T14:52:19.627Z"
   },
   {
    "duration": 262,
    "start_time": "2023-08-30T14:52:19.887Z"
   },
   {
    "duration": 428,
    "start_time": "2023-08-30T14:58:19.294Z"
   },
   {
    "duration": 114,
    "start_time": "2023-08-30T15:00:29.627Z"
   },
   {
    "duration": 1267,
    "start_time": "2023-08-30T15:01:27.511Z"
   },
   {
    "duration": 76,
    "start_time": "2023-08-30T15:01:28.780Z"
   },
   {
    "duration": 4,
    "start_time": "2023-08-30T15:01:28.857Z"
   },
   {
    "duration": 1235,
    "start_time": "2023-08-30T15:01:28.862Z"
   },
   {
    "duration": 4,
    "start_time": "2023-08-30T15:01:30.100Z"
   },
   {
    "duration": 28,
    "start_time": "2023-08-30T15:01:30.105Z"
   },
   {
    "duration": 66,
    "start_time": "2023-08-30T15:01:30.135Z"
   },
   {
    "duration": 108,
    "start_time": "2023-08-30T15:01:30.203Z"
   },
   {
    "duration": 329,
    "start_time": "2023-08-30T15:01:30.313Z"
   },
   {
    "duration": 74,
    "start_time": "2023-08-30T15:01:30.644Z"
   },
   {
    "duration": 37,
    "start_time": "2023-08-30T15:01:30.720Z"
   },
   {
    "duration": 24,
    "start_time": "2023-08-30T15:01:30.760Z"
   },
   {
    "duration": 39,
    "start_time": "2023-08-30T15:01:30.786Z"
   },
   {
    "duration": 114,
    "start_time": "2023-08-30T15:01:30.828Z"
   },
   {
    "duration": 12,
    "start_time": "2023-08-30T15:01:30.944Z"
   },
   {
    "duration": 31,
    "start_time": "2023-08-30T15:01:30.958Z"
   },
   {
    "duration": 356,
    "start_time": "2023-08-30T15:01:30.990Z"
   },
   {
    "duration": 500,
    "start_time": "2023-08-30T15:01:31.348Z"
   },
   {
    "duration": 472,
    "start_time": "2023-08-30T15:01:31.849Z"
   },
   {
    "duration": 137,
    "start_time": "2023-08-30T15:01:32.324Z"
   },
   {
    "duration": 192,
    "start_time": "2023-08-30T15:02:20.455Z"
   },
   {
    "duration": 114,
    "start_time": "2023-08-30T15:02:32.577Z"
   },
   {
    "duration": 489,
    "start_time": "2023-08-30T15:02:51.351Z"
   },
   {
    "duration": 14,
    "start_time": "2023-08-30T15:04:54.656Z"
   },
   {
    "duration": 389,
    "start_time": "2023-08-30T15:05:39.137Z"
   },
   {
    "duration": 1339,
    "start_time": "2023-08-30T15:05:49.752Z"
   },
   {
    "duration": 75,
    "start_time": "2023-08-30T15:05:51.093Z"
   },
   {
    "duration": 4,
    "start_time": "2023-08-30T15:05:51.170Z"
   },
   {
    "duration": 969,
    "start_time": "2023-08-30T15:05:51.176Z"
   },
   {
    "duration": 4,
    "start_time": "2023-08-30T15:05:52.147Z"
   },
   {
    "duration": 69,
    "start_time": "2023-08-30T15:05:52.153Z"
   },
   {
    "duration": 55,
    "start_time": "2023-08-30T15:05:52.224Z"
   },
   {
    "duration": 41,
    "start_time": "2023-08-30T15:05:52.280Z"
   },
   {
    "duration": 14,
    "start_time": "2023-08-30T15:05:52.323Z"
   },
   {
    "duration": 7,
    "start_time": "2023-08-30T15:05:52.340Z"
   },
   {
    "duration": 21,
    "start_time": "2023-08-30T15:05:52.349Z"
   },
   {
    "duration": 25,
    "start_time": "2023-08-30T15:05:52.372Z"
   },
   {
    "duration": 26,
    "start_time": "2023-08-30T15:05:52.399Z"
   },
   {
    "duration": 96,
    "start_time": "2023-08-30T15:05:52.426Z"
   },
   {
    "duration": 12,
    "start_time": "2023-08-30T15:05:52.524Z"
   },
   {
    "duration": 7,
    "start_time": "2023-08-30T15:05:52.538Z"
   },
   {
    "duration": 407,
    "start_time": "2023-08-30T15:05:52.547Z"
   },
   {
    "duration": 500,
    "start_time": "2023-08-30T15:05:52.956Z"
   },
   {
    "duration": 459,
    "start_time": "2023-08-30T15:05:53.458Z"
   },
   {
    "duration": 490,
    "start_time": "2023-08-30T15:05:53.919Z"
   },
   {
    "duration": 416,
    "start_time": "2023-08-30T15:05:54.411Z"
   },
   {
    "duration": 1265,
    "start_time": "2023-08-30T15:32:22.938Z"
   },
   {
    "duration": 76,
    "start_time": "2023-08-30T15:32:24.206Z"
   },
   {
    "duration": 4,
    "start_time": "2023-08-30T15:32:24.283Z"
   },
   {
    "duration": 680,
    "start_time": "2023-08-30T15:32:24.289Z"
   },
   {
    "duration": 4,
    "start_time": "2023-08-30T15:32:24.971Z"
   },
   {
    "duration": 9,
    "start_time": "2023-08-30T15:32:24.976Z"
   },
   {
    "duration": 15,
    "start_time": "2023-08-30T15:32:24.987Z"
   },
   {
    "duration": 48,
    "start_time": "2023-08-30T15:32:25.003Z"
   },
   {
    "duration": 21,
    "start_time": "2023-08-30T15:32:25.053Z"
   },
   {
    "duration": 24,
    "start_time": "2023-08-30T15:32:25.077Z"
   },
   {
    "duration": 16,
    "start_time": "2023-08-30T15:32:25.103Z"
   },
   {
    "duration": 13,
    "start_time": "2023-08-30T15:32:25.120Z"
   },
   {
    "duration": 13,
    "start_time": "2023-08-30T15:32:25.135Z"
   },
   {
    "duration": 16,
    "start_time": "2023-08-30T15:32:25.150Z"
   },
   {
    "duration": 12,
    "start_time": "2023-08-30T15:32:25.168Z"
   },
   {
    "duration": 7,
    "start_time": "2023-08-30T15:32:25.182Z"
   },
   {
    "duration": 397,
    "start_time": "2023-08-30T15:32:25.193Z"
   },
   {
    "duration": 505,
    "start_time": "2023-08-30T15:32:25.592Z"
   },
   {
    "duration": 463,
    "start_time": "2023-08-30T15:32:26.099Z"
   },
   {
    "duration": 525,
    "start_time": "2023-08-30T15:32:26.564Z"
   },
   {
    "duration": 407,
    "start_time": "2023-08-30T15:32:27.091Z"
   },
   {
    "duration": 459,
    "start_time": "2023-08-30T17:42:32.191Z"
   },
   {
    "duration": 412,
    "start_time": "2023-08-30T17:44:54.619Z"
   },
   {
    "duration": 1227,
    "start_time": "2023-08-30T17:53:27.555Z"
   },
   {
    "duration": 76,
    "start_time": "2023-08-30T17:53:28.783Z"
   },
   {
    "duration": 4,
    "start_time": "2023-08-30T17:53:28.861Z"
   },
   {
    "duration": 569,
    "start_time": "2023-08-30T17:53:28.867Z"
   },
   {
    "duration": 4,
    "start_time": "2023-08-30T17:53:29.438Z"
   },
   {
    "duration": 6,
    "start_time": "2023-08-30T17:53:29.444Z"
   },
   {
    "duration": 22,
    "start_time": "2023-08-30T17:53:29.452Z"
   },
   {
    "duration": 5,
    "start_time": "2023-08-30T17:53:29.476Z"
   },
   {
    "duration": 20,
    "start_time": "2023-08-30T17:53:29.482Z"
   },
   {
    "duration": 5,
    "start_time": "2023-08-30T17:53:29.504Z"
   },
   {
    "duration": 41,
    "start_time": "2023-08-30T17:53:29.510Z"
   },
   {
    "duration": 13,
    "start_time": "2023-08-30T17:53:29.552Z"
   },
   {
    "duration": 10,
    "start_time": "2023-08-30T17:53:29.567Z"
   },
   {
    "duration": 13,
    "start_time": "2023-08-30T17:53:29.578Z"
   },
   {
    "duration": 61,
    "start_time": "2023-08-30T17:53:29.592Z"
   },
   {
    "duration": 4,
    "start_time": "2023-08-30T17:53:29.655Z"
   },
   {
    "duration": 349,
    "start_time": "2023-08-30T17:53:29.661Z"
   },
   {
    "duration": 522,
    "start_time": "2023-08-30T17:53:30.012Z"
   },
   {
    "duration": 426,
    "start_time": "2023-08-30T17:53:30.536Z"
   },
   {
    "duration": 531,
    "start_time": "2023-08-30T17:53:30.964Z"
   },
   {
    "duration": 452,
    "start_time": "2023-08-30T17:53:31.497Z"
   },
   {
    "duration": 428,
    "start_time": "2023-08-30T17:53:31.951Z"
   },
   {
    "duration": 228,
    "start_time": "2023-08-30T17:56:50.700Z"
   },
   {
    "duration": 167,
    "start_time": "2023-08-30T18:01:39.074Z"
   },
   {
    "duration": 470,
    "start_time": "2023-08-30T18:02:23.171Z"
   },
   {
    "duration": 188,
    "start_time": "2023-08-30T18:04:19.201Z"
   },
   {
    "duration": 173,
    "start_time": "2023-08-30T18:06:11.807Z"
   },
   {
    "duration": 130,
    "start_time": "2023-08-30T18:07:43.545Z"
   },
   {
    "duration": 524,
    "start_time": "2023-08-30T18:08:08.381Z"
   },
   {
    "duration": 157,
    "start_time": "2023-08-30T18:14:39.458Z"
   },
   {
    "duration": 217,
    "start_time": "2023-08-30T18:15:42.283Z"
   },
   {
    "duration": 1346,
    "start_time": "2023-08-30T18:18:01.529Z"
   },
   {
    "duration": 77,
    "start_time": "2023-08-30T18:18:02.878Z"
   },
   {
    "duration": 5,
    "start_time": "2023-08-30T18:18:02.958Z"
   },
   {
    "duration": 658,
    "start_time": "2023-08-30T18:18:02.967Z"
   },
   {
    "duration": 3,
    "start_time": "2023-08-30T18:18:03.626Z"
   },
   {
    "duration": 8,
    "start_time": "2023-08-30T18:18:03.631Z"
   },
   {
    "duration": 27,
    "start_time": "2023-08-30T18:18:03.641Z"
   },
   {
    "duration": 18,
    "start_time": "2023-08-30T18:18:03.669Z"
   },
   {
    "duration": 16,
    "start_time": "2023-08-30T18:18:03.689Z"
   },
   {
    "duration": 8,
    "start_time": "2023-08-30T18:18:03.707Z"
   },
   {
    "duration": 16,
    "start_time": "2023-08-30T18:18:03.717Z"
   },
   {
    "duration": 28,
    "start_time": "2023-08-30T18:18:03.734Z"
   },
   {
    "duration": 10,
    "start_time": "2023-08-30T18:18:03.764Z"
   },
   {
    "duration": 23,
    "start_time": "2023-08-30T18:18:03.775Z"
   },
   {
    "duration": 24,
    "start_time": "2023-08-30T18:18:03.799Z"
   },
   {
    "duration": 30,
    "start_time": "2023-08-30T18:18:03.824Z"
   },
   {
    "duration": 351,
    "start_time": "2023-08-30T18:18:03.856Z"
   },
   {
    "duration": 530,
    "start_time": "2023-08-30T18:18:04.209Z"
   },
   {
    "duration": 447,
    "start_time": "2023-08-30T18:18:04.740Z"
   },
   {
    "duration": 563,
    "start_time": "2023-08-30T18:18:05.189Z"
   },
   {
    "duration": 464,
    "start_time": "2023-08-30T18:18:05.755Z"
   },
   {
    "duration": 438,
    "start_time": "2023-08-30T18:18:06.221Z"
   },
   {
    "duration": 254,
    "start_time": "2023-08-30T18:18:06.662Z"
   },
   {
    "duration": 142,
    "start_time": "2023-08-30T18:18:06.918Z"
   },
   {
    "duration": 509,
    "start_time": "2023-08-30T18:18:07.063Z"
   },
   {
    "duration": 213,
    "start_time": "2023-08-30T18:18:07.573Z"
   },
   {
    "duration": 190,
    "start_time": "2023-08-30T18:18:07.787Z"
   },
   {
    "duration": 542,
    "start_time": "2023-08-30T18:18:07.980Z"
   },
   {
    "duration": 1235,
    "start_time": "2023-08-30T18:18:18.955Z"
   },
   {
    "duration": 75,
    "start_time": "2023-08-30T18:18:20.192Z"
   },
   {
    "duration": 3,
    "start_time": "2023-08-30T18:18:20.269Z"
   },
   {
    "duration": 639,
    "start_time": "2023-08-30T18:18:20.274Z"
   },
   {
    "duration": 3,
    "start_time": "2023-08-30T18:18:20.915Z"
   },
   {
    "duration": 9,
    "start_time": "2023-08-30T18:18:20.920Z"
   },
   {
    "duration": 17,
    "start_time": "2023-08-30T18:18:20.931Z"
   },
   {
    "duration": 13,
    "start_time": "2023-08-30T18:18:20.949Z"
   },
   {
    "duration": 16,
    "start_time": "2023-08-30T18:18:20.963Z"
   },
   {
    "duration": 12,
    "start_time": "2023-08-30T18:18:20.981Z"
   },
   {
    "duration": 15,
    "start_time": "2023-08-30T18:18:20.995Z"
   },
   {
    "duration": 26,
    "start_time": "2023-08-30T18:18:21.012Z"
   },
   {
    "duration": 74,
    "start_time": "2023-08-30T18:18:21.040Z"
   },
   {
    "duration": 16,
    "start_time": "2023-08-30T18:18:21.117Z"
   },
   {
    "duration": 17,
    "start_time": "2023-08-30T18:18:21.135Z"
   },
   {
    "duration": 8,
    "start_time": "2023-08-30T18:18:21.154Z"
   },
   {
    "duration": 337,
    "start_time": "2023-08-30T18:18:21.164Z"
   },
   {
    "duration": 490,
    "start_time": "2023-08-30T18:18:21.502Z"
   },
   {
    "duration": 425,
    "start_time": "2023-08-30T18:18:21.994Z"
   },
   {
    "duration": 486,
    "start_time": "2023-08-30T18:18:22.420Z"
   },
   {
    "duration": 433,
    "start_time": "2023-08-30T18:18:22.908Z"
   },
   {
    "duration": 411,
    "start_time": "2023-08-30T18:18:23.342Z"
   },
   {
    "duration": 254,
    "start_time": "2023-08-30T18:18:23.755Z"
   },
   {
    "duration": 177,
    "start_time": "2023-08-30T18:18:24.011Z"
   },
   {
    "duration": 505,
    "start_time": "2023-08-30T18:18:24.190Z"
   },
   {
    "duration": 205,
    "start_time": "2023-08-30T18:18:24.697Z"
   },
   {
    "duration": 190,
    "start_time": "2023-08-30T18:18:24.903Z"
   },
   {
    "duration": 542,
    "start_time": "2023-08-30T18:18:25.095Z"
   },
   {
    "duration": 215,
    "start_time": "2023-08-30T18:18:42.033Z"
   },
   {
    "duration": 27,
    "start_time": "2023-08-30T18:22:19.414Z"
   },
   {
    "duration": 1211,
    "start_time": "2023-08-30T18:23:27.989Z"
   },
   {
    "duration": 76,
    "start_time": "2023-08-30T18:23:29.202Z"
   },
   {
    "duration": 3,
    "start_time": "2023-08-30T18:23:29.280Z"
   },
   {
    "duration": 548,
    "start_time": "2023-08-30T18:23:29.285Z"
   },
   {
    "duration": 3,
    "start_time": "2023-08-30T18:23:29.836Z"
   },
   {
    "duration": 12,
    "start_time": "2023-08-30T18:23:29.841Z"
   },
   {
    "duration": 37,
    "start_time": "2023-08-30T18:23:29.855Z"
   },
   {
    "duration": 7,
    "start_time": "2023-08-30T18:23:29.894Z"
   },
   {
    "duration": 29,
    "start_time": "2023-08-30T18:23:29.903Z"
   },
   {
    "duration": 20,
    "start_time": "2023-08-30T18:23:29.933Z"
   },
   {
    "duration": 30,
    "start_time": "2023-08-30T18:23:29.954Z"
   },
   {
    "duration": 14,
    "start_time": "2023-08-30T18:23:29.986Z"
   },
   {
    "duration": 80,
    "start_time": "2023-08-30T18:23:30.002Z"
   },
   {
    "duration": 32,
    "start_time": "2023-08-30T18:23:30.085Z"
   },
   {
    "duration": 96,
    "start_time": "2023-08-30T18:23:30.118Z"
   },
   {
    "duration": 117,
    "start_time": "2023-08-30T18:23:30.216Z"
   },
   {
    "duration": 360,
    "start_time": "2023-08-30T18:23:30.335Z"
   },
   {
    "duration": 509,
    "start_time": "2023-08-30T18:23:30.697Z"
   },
   {
    "duration": 431,
    "start_time": "2023-08-30T18:23:31.207Z"
   },
   {
    "duration": 506,
    "start_time": "2023-08-30T18:23:31.640Z"
   },
   {
    "duration": 468,
    "start_time": "2023-08-30T18:23:32.148Z"
   },
   {
    "duration": 419,
    "start_time": "2023-08-30T18:23:32.617Z"
   },
   {
    "duration": 245,
    "start_time": "2023-08-30T18:23:33.038Z"
   },
   {
    "duration": 133,
    "start_time": "2023-08-30T18:23:33.286Z"
   },
   {
    "duration": 476,
    "start_time": "2023-08-30T18:23:33.422Z"
   },
   {
    "duration": 207,
    "start_time": "2023-08-30T18:23:33.901Z"
   },
   {
    "duration": 188,
    "start_time": "2023-08-30T18:23:34.110Z"
   },
   {
    "duration": 538,
    "start_time": "2023-08-30T18:23:34.299Z"
   },
   {
    "duration": 1574,
    "start_time": "2023-09-01T09:57:32.883Z"
   },
   {
    "duration": 221,
    "start_time": "2023-09-01T09:57:34.459Z"
   },
   {
    "duration": 4,
    "start_time": "2023-09-01T09:57:34.682Z"
   },
   {
    "duration": 1028,
    "start_time": "2023-09-01T09:57:34.688Z"
   },
   {
    "duration": 4,
    "start_time": "2023-09-01T09:57:35.722Z"
   },
   {
    "duration": 51,
    "start_time": "2023-09-01T09:57:35.728Z"
   },
   {
    "duration": 63,
    "start_time": "2023-09-01T09:57:35.782Z"
   },
   {
    "duration": 33,
    "start_time": "2023-09-01T09:57:35.847Z"
   },
   {
    "duration": 45,
    "start_time": "2023-09-01T09:57:35.882Z"
   },
   {
    "duration": 31,
    "start_time": "2023-09-01T09:57:35.931Z"
   },
   {
    "duration": 29,
    "start_time": "2023-09-01T09:57:35.963Z"
   },
   {
    "duration": 42,
    "start_time": "2023-09-01T09:57:35.994Z"
   },
   {
    "duration": 35,
    "start_time": "2023-09-01T09:57:36.038Z"
   },
   {
    "duration": 114,
    "start_time": "2023-09-01T09:57:36.074Z"
   },
   {
    "duration": 13,
    "start_time": "2023-09-01T09:57:36.190Z"
   },
   {
    "duration": 19,
    "start_time": "2023-09-01T09:57:36.205Z"
   },
   {
    "duration": 341,
    "start_time": "2023-09-01T09:57:36.227Z"
   },
   {
    "duration": 589,
    "start_time": "2023-09-01T09:57:36.569Z"
   },
   {
    "duration": 471,
    "start_time": "2023-09-01T09:57:37.160Z"
   },
   {
    "duration": 545,
    "start_time": "2023-09-01T09:57:37.634Z"
   },
   {
    "duration": 447,
    "start_time": "2023-09-01T09:57:38.181Z"
   },
   {
    "duration": 414,
    "start_time": "2023-09-01T09:57:38.630Z"
   },
   {
    "duration": 322,
    "start_time": "2023-09-01T09:57:39.047Z"
   },
   {
    "duration": 164,
    "start_time": "2023-09-01T09:57:39.371Z"
   },
   {
    "duration": 420,
    "start_time": "2023-09-01T09:57:39.537Z"
   },
   {
    "duration": 211,
    "start_time": "2023-09-01T09:57:39.959Z"
   },
   {
    "duration": 199,
    "start_time": "2023-09-01T09:57:40.172Z"
   },
   {
    "duration": 522,
    "start_time": "2023-09-01T09:57:40.374Z"
   },
   {
    "duration": 103,
    "start_time": "2023-09-01T09:58:54.278Z"
   },
   {
    "duration": 1269,
    "start_time": "2023-09-01T09:59:02.809Z"
   },
   {
    "duration": 82,
    "start_time": "2023-09-01T09:59:04.080Z"
   },
   {
    "duration": 3,
    "start_time": "2023-09-01T09:59:04.164Z"
   },
   {
    "duration": 774,
    "start_time": "2023-09-01T09:59:04.169Z"
   },
   {
    "duration": 3,
    "start_time": "2023-09-01T09:59:04.944Z"
   },
   {
    "duration": 7,
    "start_time": "2023-09-01T09:59:04.948Z"
   },
   {
    "duration": 14,
    "start_time": "2023-09-01T09:59:04.957Z"
   },
   {
    "duration": 7,
    "start_time": "2023-09-01T09:59:04.973Z"
   },
   {
    "duration": 5,
    "start_time": "2023-09-01T09:59:04.982Z"
   },
   {
    "duration": 4,
    "start_time": "2023-09-01T09:59:04.990Z"
   },
   {
    "duration": 22,
    "start_time": "2023-09-01T09:59:04.995Z"
   },
   {
    "duration": 17,
    "start_time": "2023-09-01T09:59:05.019Z"
   },
   {
    "duration": 11,
    "start_time": "2023-09-01T09:59:05.038Z"
   },
   {
    "duration": 14,
    "start_time": "2023-09-01T09:59:05.052Z"
   },
   {
    "duration": 10,
    "start_time": "2023-09-01T09:59:05.068Z"
   },
   {
    "duration": 5,
    "start_time": "2023-09-01T09:59:05.080Z"
   },
   {
    "duration": 381,
    "start_time": "2023-09-01T09:59:05.086Z"
   },
   {
    "duration": 500,
    "start_time": "2023-09-01T09:59:05.469Z"
   },
   {
    "duration": 432,
    "start_time": "2023-09-01T09:59:05.971Z"
   },
   {
    "duration": 474,
    "start_time": "2023-09-01T09:59:06.405Z"
   },
   {
    "duration": 421,
    "start_time": "2023-09-01T09:59:06.881Z"
   },
   {
    "duration": 416,
    "start_time": "2023-09-01T09:59:07.309Z"
   },
   {
    "duration": 242,
    "start_time": "2023-09-01T09:59:07.728Z"
   },
   {
    "duration": 168,
    "start_time": "2023-09-01T09:59:07.972Z"
   },
   {
    "duration": 506,
    "start_time": "2023-09-01T09:59:08.142Z"
   },
   {
    "duration": 217,
    "start_time": "2023-09-01T09:59:08.650Z"
   },
   {
    "duration": 208,
    "start_time": "2023-09-01T09:59:08.869Z"
   },
   {
    "duration": 566,
    "start_time": "2023-09-01T09:59:09.081Z"
   },
   {
    "duration": 109,
    "start_time": "2023-09-01T09:59:09.648Z"
   },
   {
    "duration": 180,
    "start_time": "2023-09-01T10:00:27.597Z"
   },
   {
    "duration": 94,
    "start_time": "2023-09-01T10:02:59.031Z"
   },
   {
    "duration": 1354,
    "start_time": "2023-09-01T10:03:27.810Z"
   },
   {
    "duration": 82,
    "start_time": "2023-09-01T10:03:29.166Z"
   },
   {
    "duration": 4,
    "start_time": "2023-09-01T10:03:29.250Z"
   },
   {
    "duration": 2085,
    "start_time": "2023-09-01T10:03:29.256Z"
   },
   {
    "duration": 3,
    "start_time": "2023-09-01T10:03:31.343Z"
   },
   {
    "duration": 57,
    "start_time": "2023-09-01T10:03:31.348Z"
   },
   {
    "duration": 69,
    "start_time": "2023-09-01T10:03:31.406Z"
   },
   {
    "duration": 44,
    "start_time": "2023-09-01T10:03:31.477Z"
   },
   {
    "duration": 40,
    "start_time": "2023-09-01T10:03:31.523Z"
   },
   {
    "duration": 36,
    "start_time": "2023-09-01T10:03:31.566Z"
   },
   {
    "duration": 58,
    "start_time": "2023-09-01T10:03:31.604Z"
   },
   {
    "duration": 34,
    "start_time": "2023-09-01T10:03:31.665Z"
   },
   {
    "duration": 47,
    "start_time": "2023-09-01T10:03:31.701Z"
   },
   {
    "duration": 94,
    "start_time": "2023-09-01T10:03:31.750Z"
   },
   {
    "duration": 10,
    "start_time": "2023-09-01T10:03:31.846Z"
   },
   {
    "duration": 14,
    "start_time": "2023-09-01T10:03:31.858Z"
   },
   {
    "duration": 353,
    "start_time": "2023-09-01T10:03:31.874Z"
   },
   {
    "duration": 603,
    "start_time": "2023-09-01T10:03:32.228Z"
   },
   {
    "duration": 442,
    "start_time": "2023-09-01T10:03:32.833Z"
   },
   {
    "duration": 517,
    "start_time": "2023-09-01T10:03:33.277Z"
   },
   {
    "duration": 432,
    "start_time": "2023-09-01T10:03:33.796Z"
   },
   {
    "duration": 401,
    "start_time": "2023-09-01T10:03:34.230Z"
   },
   {
    "duration": 247,
    "start_time": "2023-09-01T10:03:34.634Z"
   },
   {
    "duration": 135,
    "start_time": "2023-09-01T10:03:34.883Z"
   },
   {
    "duration": 538,
    "start_time": "2023-09-01T10:03:35.019Z"
   },
   {
    "duration": 209,
    "start_time": "2023-09-01T10:03:35.559Z"
   },
   {
    "duration": 195,
    "start_time": "2023-09-01T10:03:35.771Z"
   },
   {
    "duration": 526,
    "start_time": "2023-09-01T10:03:35.971Z"
   },
   {
    "duration": 127,
    "start_time": "2023-09-01T10:03:36.499Z"
   },
   {
    "duration": 200,
    "start_time": "2023-09-01T10:03:36.628Z"
   },
   {
    "duration": 123,
    "start_time": "2023-09-01T10:04:08.671Z"
   },
   {
    "duration": 1278,
    "start_time": "2023-09-01T10:04:24.967Z"
   },
   {
    "duration": 85,
    "start_time": "2023-09-01T10:04:26.247Z"
   },
   {
    "duration": 4,
    "start_time": "2023-09-01T10:04:26.334Z"
   },
   {
    "duration": 1160,
    "start_time": "2023-09-01T10:04:26.341Z"
   },
   {
    "duration": 21,
    "start_time": "2023-09-01T10:04:27.503Z"
   },
   {
    "duration": 8,
    "start_time": "2023-09-01T10:04:27.527Z"
   },
   {
    "duration": 17,
    "start_time": "2023-09-01T10:04:27.536Z"
   },
   {
    "duration": 6,
    "start_time": "2023-09-01T10:04:27.554Z"
   },
   {
    "duration": 6,
    "start_time": "2023-09-01T10:04:27.561Z"
   },
   {
    "duration": 8,
    "start_time": "2023-09-01T10:04:27.570Z"
   },
   {
    "duration": 16,
    "start_time": "2023-09-01T10:04:27.580Z"
   },
   {
    "duration": 30,
    "start_time": "2023-09-01T10:04:27.598Z"
   },
   {
    "duration": 11,
    "start_time": "2023-09-01T10:04:27.631Z"
   },
   {
    "duration": 72,
    "start_time": "2023-09-01T10:04:27.644Z"
   },
   {
    "duration": 12,
    "start_time": "2023-09-01T10:04:27.718Z"
   },
   {
    "duration": 4,
    "start_time": "2023-09-01T10:04:27.732Z"
   },
   {
    "duration": 340,
    "start_time": "2023-09-01T10:04:27.738Z"
   },
   {
    "duration": 528,
    "start_time": "2023-09-01T10:04:28.079Z"
   },
   {
    "duration": 461,
    "start_time": "2023-09-01T10:04:28.610Z"
   },
   {
    "duration": 498,
    "start_time": "2023-09-01T10:04:29.074Z"
   },
   {
    "duration": 442,
    "start_time": "2023-09-01T10:04:29.575Z"
   },
   {
    "duration": 404,
    "start_time": "2023-09-01T10:04:30.023Z"
   },
   {
    "duration": 257,
    "start_time": "2023-09-01T10:04:30.429Z"
   },
   {
    "duration": 153,
    "start_time": "2023-09-01T10:04:30.688Z"
   },
   {
    "duration": 495,
    "start_time": "2023-09-01T10:04:30.844Z"
   },
   {
    "duration": 213,
    "start_time": "2023-09-01T10:04:31.341Z"
   },
   {
    "duration": 196,
    "start_time": "2023-09-01T10:04:31.556Z"
   },
   {
    "duration": 505,
    "start_time": "2023-09-01T10:04:31.756Z"
   },
   {
    "duration": 119,
    "start_time": "2023-09-01T10:04:32.263Z"
   },
   {
    "duration": 160,
    "start_time": "2023-09-01T10:04:32.384Z"
   },
   {
    "duration": 30,
    "start_time": "2023-09-01T10:04:55.657Z"
   },
   {
    "duration": 1308,
    "start_time": "2023-09-01T10:16:01.498Z"
   },
   {
    "duration": 95,
    "start_time": "2023-09-01T10:16:02.811Z"
   },
   {
    "duration": 15,
    "start_time": "2023-09-01T10:16:02.907Z"
   },
   {
    "duration": 704,
    "start_time": "2023-09-01T10:16:02.924Z"
   },
   {
    "duration": 3,
    "start_time": "2023-09-01T10:16:03.630Z"
   },
   {
    "duration": 24,
    "start_time": "2023-09-01T10:16:03.635Z"
   },
   {
    "duration": 33,
    "start_time": "2023-09-01T10:16:03.661Z"
   },
   {
    "duration": 8,
    "start_time": "2023-09-01T10:16:03.696Z"
   },
   {
    "duration": 18,
    "start_time": "2023-09-01T10:16:03.705Z"
   },
   {
    "duration": 17,
    "start_time": "2023-09-01T10:16:03.725Z"
   },
   {
    "duration": 29,
    "start_time": "2023-09-01T10:16:03.743Z"
   },
   {
    "duration": 12,
    "start_time": "2023-09-01T10:16:03.774Z"
   },
   {
    "duration": 16,
    "start_time": "2023-09-01T10:16:03.787Z"
   },
   {
    "duration": 29,
    "start_time": "2023-09-01T10:16:03.804Z"
   },
   {
    "duration": 10,
    "start_time": "2023-09-01T10:16:03.835Z"
   },
   {
    "duration": 4,
    "start_time": "2023-09-01T10:16:03.846Z"
   },
   {
    "duration": 342,
    "start_time": "2023-09-01T10:16:03.852Z"
   },
   {
    "duration": 498,
    "start_time": "2023-09-01T10:16:04.196Z"
   },
   {
    "duration": 439,
    "start_time": "2023-09-01T10:16:04.696Z"
   },
   {
    "duration": 526,
    "start_time": "2023-09-01T10:16:05.137Z"
   },
   {
    "duration": 428,
    "start_time": "2023-09-01T10:16:05.665Z"
   },
   {
    "duration": 403,
    "start_time": "2023-09-01T10:16:06.095Z"
   },
   {
    "duration": 257,
    "start_time": "2023-09-01T10:16:06.500Z"
   },
   {
    "duration": 133,
    "start_time": "2023-09-01T10:16:06.759Z"
   },
   {
    "duration": 481,
    "start_time": "2023-09-01T10:16:06.893Z"
   },
   {
    "duration": 197,
    "start_time": "2023-09-01T10:16:07.376Z"
   },
   {
    "duration": 190,
    "start_time": "2023-09-01T10:16:07.575Z"
   },
   {
    "duration": 519,
    "start_time": "2023-09-01T10:16:07.769Z"
   },
   {
    "duration": 105,
    "start_time": "2023-09-01T10:16:08.290Z"
   },
   {
    "duration": 135,
    "start_time": "2023-09-01T10:16:08.397Z"
   },
   {
    "duration": 29,
    "start_time": "2023-09-01T10:16:08.533Z"
   },
   {
    "duration": 157,
    "start_time": "2023-09-01T10:16:08.564Z"
   },
   {
    "duration": 7,
    "start_time": "2023-09-01T10:16:08.723Z"
   },
   {
    "duration": 28,
    "start_time": "2023-09-01T10:16:08.731Z"
   },
   {
    "duration": 13,
    "start_time": "2023-09-01T10:16:08.761Z"
   },
   {
    "duration": 1883,
    "start_time": "2023-09-01T10:16:08.776Z"
   },
   {
    "duration": 0,
    "start_time": "2023-09-01T10:16:10.661Z"
   },
   {
    "duration": 0,
    "start_time": "2023-09-01T10:16:10.663Z"
   },
   {
    "duration": 0,
    "start_time": "2023-09-01T10:16:10.664Z"
   },
   {
    "duration": 1276,
    "start_time": "2023-09-01T10:17:20.547Z"
   },
   {
    "duration": 80,
    "start_time": "2023-09-01T10:17:21.825Z"
   },
   {
    "duration": 10,
    "start_time": "2023-09-01T10:17:21.907Z"
   },
   {
    "duration": 805,
    "start_time": "2023-09-01T10:17:21.922Z"
   },
   {
    "duration": 4,
    "start_time": "2023-09-01T10:17:22.729Z"
   },
   {
    "duration": 24,
    "start_time": "2023-09-01T10:17:22.736Z"
   },
   {
    "duration": 79,
    "start_time": "2023-09-01T10:17:22.762Z"
   },
   {
    "duration": 34,
    "start_time": "2023-09-01T10:17:22.842Z"
   },
   {
    "duration": 46,
    "start_time": "2023-09-01T10:17:22.878Z"
   },
   {
    "duration": 17,
    "start_time": "2023-09-01T10:17:22.928Z"
   },
   {
    "duration": 88,
    "start_time": "2023-09-01T10:17:22.947Z"
   },
   {
    "duration": 38,
    "start_time": "2023-09-01T10:17:23.038Z"
   },
   {
    "duration": 63,
    "start_time": "2023-09-01T10:17:23.077Z"
   },
   {
    "duration": 86,
    "start_time": "2023-09-01T10:17:23.142Z"
   },
   {
    "duration": 12,
    "start_time": "2023-09-01T10:17:23.231Z"
   },
   {
    "duration": 32,
    "start_time": "2023-09-01T10:17:23.245Z"
   },
   {
    "duration": 360,
    "start_time": "2023-09-01T10:17:23.278Z"
   },
   {
    "duration": 540,
    "start_time": "2023-09-01T10:17:23.640Z"
   },
   {
    "duration": 497,
    "start_time": "2023-09-01T10:17:24.182Z"
   },
   {
    "duration": 492,
    "start_time": "2023-09-01T10:17:24.681Z"
   },
   {
    "duration": 487,
    "start_time": "2023-09-01T10:17:25.175Z"
   },
   {
    "duration": 410,
    "start_time": "2023-09-01T10:17:25.664Z"
   },
   {
    "duration": 273,
    "start_time": "2023-09-01T10:17:26.077Z"
   },
   {
    "duration": 145,
    "start_time": "2023-09-01T10:17:26.351Z"
   },
   {
    "duration": 527,
    "start_time": "2023-09-01T10:17:26.499Z"
   },
   {
    "duration": 202,
    "start_time": "2023-09-01T10:17:27.028Z"
   },
   {
    "duration": 265,
    "start_time": "2023-09-01T10:17:27.234Z"
   },
   {
    "duration": 628,
    "start_time": "2023-09-01T10:17:27.504Z"
   },
   {
    "duration": 128,
    "start_time": "2023-09-01T10:17:28.135Z"
   },
   {
    "duration": 158,
    "start_time": "2023-09-01T10:17:28.265Z"
   },
   {
    "duration": 31,
    "start_time": "2023-09-01T10:17:28.425Z"
   },
   {
    "duration": 165,
    "start_time": "2023-09-01T10:17:28.457Z"
   },
   {
    "duration": 7,
    "start_time": "2023-09-01T10:17:28.624Z"
   },
   {
    "duration": 28,
    "start_time": "2023-09-01T10:17:28.633Z"
   },
   {
    "duration": 13,
    "start_time": "2023-09-01T10:17:28.663Z"
   },
   {
    "duration": 2348,
    "start_time": "2023-09-01T10:17:28.677Z"
   },
   {
    "duration": 0,
    "start_time": "2023-09-01T10:17:31.027Z"
   },
   {
    "duration": 0,
    "start_time": "2023-09-01T10:17:31.028Z"
   },
   {
    "duration": 0,
    "start_time": "2023-09-01T10:17:31.030Z"
   },
   {
    "duration": 1748,
    "start_time": "2023-09-01T10:18:11.853Z"
   },
   {
    "duration": 1454,
    "start_time": "2023-09-01T10:19:22.449Z"
   },
   {
    "duration": 1980,
    "start_time": "2023-09-01T10:19:52.572Z"
   },
   {
    "duration": 1351,
    "start_time": "2023-09-01T10:21:40.903Z"
   },
   {
    "duration": 86,
    "start_time": "2023-09-01T10:21:42.256Z"
   },
   {
    "duration": 4,
    "start_time": "2023-09-01T10:21:42.344Z"
   },
   {
    "duration": 1390,
    "start_time": "2023-09-01T10:21:42.351Z"
   },
   {
    "duration": 4,
    "start_time": "2023-09-01T10:21:43.743Z"
   },
   {
    "duration": 22,
    "start_time": "2023-09-01T10:21:43.750Z"
   },
   {
    "duration": 42,
    "start_time": "2023-09-01T10:21:43.774Z"
   },
   {
    "duration": 40,
    "start_time": "2023-09-01T10:21:43.821Z"
   },
   {
    "duration": 64,
    "start_time": "2023-09-01T10:21:43.863Z"
   },
   {
    "duration": 11,
    "start_time": "2023-09-01T10:21:43.930Z"
   },
   {
    "duration": 17,
    "start_time": "2023-09-01T10:21:43.942Z"
   },
   {
    "duration": 14,
    "start_time": "2023-09-01T10:21:43.961Z"
   },
   {
    "duration": 42,
    "start_time": "2023-09-01T10:21:43.977Z"
   },
   {
    "duration": 70,
    "start_time": "2023-09-01T10:21:44.022Z"
   },
   {
    "duration": 11,
    "start_time": "2023-09-01T10:21:44.094Z"
   },
   {
    "duration": 37,
    "start_time": "2023-09-01T10:21:44.107Z"
   },
   {
    "duration": 481,
    "start_time": "2023-09-01T10:21:44.146Z"
   },
   {
    "duration": 520,
    "start_time": "2023-09-01T10:21:44.629Z"
   },
   {
    "duration": 488,
    "start_time": "2023-09-01T10:21:45.151Z"
   },
   {
    "duration": 552,
    "start_time": "2023-09-01T10:21:45.642Z"
   },
   {
    "duration": 453,
    "start_time": "2023-09-01T10:21:46.195Z"
   },
   {
    "duration": 409,
    "start_time": "2023-09-01T10:21:46.650Z"
   },
   {
    "duration": 257,
    "start_time": "2023-09-01T10:21:47.061Z"
   },
   {
    "duration": 134,
    "start_time": "2023-09-01T10:21:47.326Z"
   },
   {
    "duration": 509,
    "start_time": "2023-09-01T10:21:47.461Z"
   },
   {
    "duration": 207,
    "start_time": "2023-09-01T10:21:47.972Z"
   },
   {
    "duration": 194,
    "start_time": "2023-09-01T10:21:48.181Z"
   },
   {
    "duration": 570,
    "start_time": "2023-09-01T10:21:48.379Z"
   },
   {
    "duration": 126,
    "start_time": "2023-09-01T10:21:48.951Z"
   },
   {
    "duration": 156,
    "start_time": "2023-09-01T10:21:49.079Z"
   },
   {
    "duration": 30,
    "start_time": "2023-09-01T10:21:49.237Z"
   },
   {
    "duration": 171,
    "start_time": "2023-09-01T10:21:49.269Z"
   },
   {
    "duration": 7,
    "start_time": "2023-09-01T10:21:49.442Z"
   },
   {
    "duration": 29,
    "start_time": "2023-09-01T10:21:49.450Z"
   },
   {
    "duration": 23,
    "start_time": "2023-09-01T10:21:49.508Z"
   },
   {
    "duration": 13,
    "start_time": "2023-09-01T10:21:49.533Z"
   },
   {
    "duration": 10,
    "start_time": "2023-09-01T10:21:49.547Z"
   },
   {
    "duration": 72,
    "start_time": "2023-09-01T10:21:49.559Z"
   },
   {
    "duration": 16,
    "start_time": "2023-09-01T10:21:49.633Z"
   },
   {
    "duration": 151,
    "start_time": "2023-09-01T11:29:04.849Z"
   },
   {
    "duration": 748,
    "start_time": "2023-09-01T11:30:50.679Z"
   },
   {
    "duration": 804,
    "start_time": "2023-09-01T11:34:51.852Z"
   },
   {
    "duration": 722,
    "start_time": "2023-09-01T11:35:09.837Z"
   },
   {
    "duration": 1350,
    "start_time": "2023-09-01T11:35:46.182Z"
   },
   {
    "duration": 104,
    "start_time": "2023-09-01T11:35:47.536Z"
   },
   {
    "duration": 4,
    "start_time": "2023-09-01T11:35:47.641Z"
   },
   {
    "duration": 723,
    "start_time": "2023-09-01T11:35:47.647Z"
   },
   {
    "duration": 4,
    "start_time": "2023-09-01T11:35:48.372Z"
   },
   {
    "duration": 15,
    "start_time": "2023-09-01T11:35:48.378Z"
   },
   {
    "duration": 24,
    "start_time": "2023-09-01T11:35:48.395Z"
   },
   {
    "duration": 9,
    "start_time": "2023-09-01T11:35:48.424Z"
   },
   {
    "duration": 7,
    "start_time": "2023-09-01T11:35:48.436Z"
   },
   {
    "duration": 17,
    "start_time": "2023-09-01T11:35:48.445Z"
   },
   {
    "duration": 18,
    "start_time": "2023-09-01T11:35:48.464Z"
   },
   {
    "duration": 14,
    "start_time": "2023-09-01T11:35:48.484Z"
   },
   {
    "duration": 32,
    "start_time": "2023-09-01T11:35:48.508Z"
   },
   {
    "duration": 145,
    "start_time": "2023-09-01T11:35:48.545Z"
   },
   {
    "duration": 12,
    "start_time": "2023-09-01T11:35:48.693Z"
   },
   {
    "duration": 11,
    "start_time": "2023-09-01T11:35:48.707Z"
   },
   {
    "duration": 371,
    "start_time": "2023-09-01T11:35:48.721Z"
   },
   {
    "duration": 592,
    "start_time": "2023-09-01T11:35:49.095Z"
   },
   {
    "duration": 540,
    "start_time": "2023-09-01T11:35:49.689Z"
   },
   {
    "duration": 613,
    "start_time": "2023-09-01T11:35:50.238Z"
   },
   {
    "duration": 519,
    "start_time": "2023-09-01T11:35:50.853Z"
   },
   {
    "duration": 715,
    "start_time": "2023-09-01T11:35:51.374Z"
   },
   {
    "duration": 592,
    "start_time": "2023-09-01T11:35:52.091Z"
   },
   {
    "duration": 331,
    "start_time": "2023-09-01T11:35:52.685Z"
   },
   {
    "duration": 172,
    "start_time": "2023-09-01T11:35:53.019Z"
   },
   {
    "duration": 457,
    "start_time": "2023-09-01T11:35:53.192Z"
   },
   {
    "duration": 218,
    "start_time": "2023-09-01T11:35:53.651Z"
   },
   {
    "duration": 216,
    "start_time": "2023-09-01T11:35:53.871Z"
   },
   {
    "duration": 573,
    "start_time": "2023-09-01T11:35:54.089Z"
   },
   {
    "duration": 118,
    "start_time": "2023-09-01T11:35:54.664Z"
   },
   {
    "duration": 153,
    "start_time": "2023-09-01T11:35:54.785Z"
   },
   {
    "duration": 32,
    "start_time": "2023-09-01T11:35:54.940Z"
   },
   {
    "duration": 161,
    "start_time": "2023-09-01T11:35:54.973Z"
   },
   {
    "duration": 7,
    "start_time": "2023-09-01T11:35:55.136Z"
   },
   {
    "duration": 29,
    "start_time": "2023-09-01T11:35:55.145Z"
   },
   {
    "duration": 14,
    "start_time": "2023-09-01T11:35:55.176Z"
   },
   {
    "duration": 18,
    "start_time": "2023-09-01T11:35:55.210Z"
   },
   {
    "duration": 15,
    "start_time": "2023-09-01T11:35:55.230Z"
   },
   {
    "duration": 30,
    "start_time": "2023-09-01T11:35:55.247Z"
   },
   {
    "duration": 47,
    "start_time": "2023-09-01T11:35:55.279Z"
   },
   {
    "duration": 1431,
    "start_time": "2023-09-01T11:53:41.393Z"
   },
   {
    "duration": 103,
    "start_time": "2023-09-01T11:53:42.833Z"
   },
   {
    "duration": 10,
    "start_time": "2023-09-01T11:53:42.944Z"
   },
   {
    "duration": 807,
    "start_time": "2023-09-01T11:53:42.956Z"
   },
   {
    "duration": 5,
    "start_time": "2023-09-01T11:53:43.766Z"
   },
   {
    "duration": 68,
    "start_time": "2023-09-01T11:53:43.773Z"
   },
   {
    "duration": 20,
    "start_time": "2023-09-01T11:53:43.845Z"
   },
   {
    "duration": 6,
    "start_time": "2023-09-01T11:53:43.867Z"
   },
   {
    "duration": 15,
    "start_time": "2023-09-01T11:53:43.875Z"
   },
   {
    "duration": 5,
    "start_time": "2023-09-01T11:53:43.893Z"
   },
   {
    "duration": 19,
    "start_time": "2023-09-01T11:53:43.901Z"
   },
   {
    "duration": 21,
    "start_time": "2023-09-01T11:53:43.923Z"
   },
   {
    "duration": 19,
    "start_time": "2023-09-01T11:53:43.946Z"
   },
   {
    "duration": 85,
    "start_time": "2023-09-01T11:53:43.974Z"
   },
   {
    "duration": 16,
    "start_time": "2023-09-01T11:53:44.062Z"
   },
   {
    "duration": 5,
    "start_time": "2023-09-01T11:53:44.083Z"
   },
   {
    "duration": 421,
    "start_time": "2023-09-01T11:53:44.090Z"
   },
   {
    "duration": 675,
    "start_time": "2023-09-01T11:53:44.514Z"
   },
   {
    "duration": 584,
    "start_time": "2023-09-01T11:53:45.191Z"
   },
   {
    "duration": 662,
    "start_time": "2023-09-01T11:53:45.778Z"
   },
   {
    "duration": 654,
    "start_time": "2023-09-01T11:53:46.442Z"
   },
   {
    "duration": 763,
    "start_time": "2023-09-01T11:53:47.098Z"
   },
   {
    "duration": 388,
    "start_time": "2023-09-01T11:53:47.863Z"
   },
   {
    "duration": 157,
    "start_time": "2023-09-01T11:53:48.257Z"
   },
   {
    "duration": 448,
    "start_time": "2023-09-01T11:53:48.419Z"
   },
   {
    "duration": 235,
    "start_time": "2023-09-01T11:53:48.870Z"
   },
   {
    "duration": 224,
    "start_time": "2023-09-01T11:53:49.117Z"
   },
   {
    "duration": 595,
    "start_time": "2023-09-01T11:53:49.343Z"
   },
   {
    "duration": 16,
    "start_time": "2023-09-01T11:53:49.940Z"
   },
   {
    "duration": 170,
    "start_time": "2023-09-01T11:53:49.958Z"
   },
   {
    "duration": 0,
    "start_time": "2023-09-01T11:53:50.139Z"
   },
   {
    "duration": 0,
    "start_time": "2023-09-01T11:53:50.140Z"
   },
   {
    "duration": 1,
    "start_time": "2023-09-01T11:53:50.142Z"
   },
   {
    "duration": 1331,
    "start_time": "2023-09-01T12:00:20.133Z"
   },
   {
    "duration": 86,
    "start_time": "2023-09-01T12:00:21.466Z"
   },
   {
    "duration": 5,
    "start_time": "2023-09-01T12:00:21.554Z"
   },
   {
    "duration": 1152,
    "start_time": "2023-09-01T12:00:21.560Z"
   },
   {
    "duration": 4,
    "start_time": "2023-09-01T12:00:22.715Z"
   },
   {
    "duration": 16,
    "start_time": "2023-09-01T12:00:22.721Z"
   },
   {
    "duration": 14,
    "start_time": "2023-09-01T12:00:22.744Z"
   },
   {
    "duration": 7,
    "start_time": "2023-09-01T12:00:22.760Z"
   },
   {
    "duration": 17,
    "start_time": "2023-09-01T12:00:22.770Z"
   },
   {
    "duration": 10,
    "start_time": "2023-09-01T12:00:22.789Z"
   },
   {
    "duration": 39,
    "start_time": "2023-09-01T12:00:22.809Z"
   },
   {
    "duration": 18,
    "start_time": "2023-09-01T12:00:22.850Z"
   },
   {
    "duration": 15,
    "start_time": "2023-09-01T12:00:22.870Z"
   },
   {
    "duration": 83,
    "start_time": "2023-09-01T12:00:22.890Z"
   },
   {
    "duration": 12,
    "start_time": "2023-09-01T12:00:22.975Z"
   },
   {
    "duration": 34,
    "start_time": "2023-09-01T12:00:22.989Z"
   },
   {
    "duration": 373,
    "start_time": "2023-09-01T12:00:23.027Z"
   },
   {
    "duration": 517,
    "start_time": "2023-09-01T12:00:23.402Z"
   },
   {
    "duration": 466,
    "start_time": "2023-09-01T12:00:23.921Z"
   },
   {
    "duration": 506,
    "start_time": "2023-09-01T12:00:24.390Z"
   },
   {
    "duration": 485,
    "start_time": "2023-09-01T12:00:24.899Z"
   },
   {
    "duration": 743,
    "start_time": "2023-09-01T12:00:25.387Z"
   },
   {
    "duration": 330,
    "start_time": "2023-09-01T12:00:26.133Z"
   },
   {
    "duration": 158,
    "start_time": "2023-09-01T12:00:26.466Z"
   },
   {
    "duration": 428,
    "start_time": "2023-09-01T12:00:26.626Z"
   },
   {
    "duration": 222,
    "start_time": "2023-09-01T12:00:27.056Z"
   },
   {
    "duration": 207,
    "start_time": "2023-09-01T12:00:27.280Z"
   },
   {
    "duration": 613,
    "start_time": "2023-09-01T12:00:27.490Z"
   },
   {
    "duration": 426,
    "start_time": "2023-09-01T12:00:28.105Z"
   },
   {
    "duration": 0,
    "start_time": "2023-09-01T12:00:28.533Z"
   },
   {
    "duration": 0,
    "start_time": "2023-09-01T12:00:28.534Z"
   },
   {
    "duration": 0,
    "start_time": "2023-09-01T12:00:28.535Z"
   },
   {
    "duration": 0,
    "start_time": "2023-09-01T12:00:28.537Z"
   },
   {
    "duration": 0,
    "start_time": "2023-09-01T12:00:28.538Z"
   },
   {
    "duration": 0,
    "start_time": "2023-09-01T12:00:28.539Z"
   },
   {
    "duration": 6,
    "start_time": "2023-09-01T12:02:29.854Z"
   },
   {
    "duration": 1694,
    "start_time": "2023-09-01T12:02:34.963Z"
   },
   {
    "duration": 102,
    "start_time": "2023-09-01T12:02:36.659Z"
   },
   {
    "duration": 4,
    "start_time": "2023-09-01T12:02:36.763Z"
   },
   {
    "duration": 838,
    "start_time": "2023-09-01T12:02:36.769Z"
   },
   {
    "duration": 5,
    "start_time": "2023-09-01T12:02:37.612Z"
   },
   {
    "duration": 34,
    "start_time": "2023-09-01T12:02:37.619Z"
   },
   {
    "duration": 82,
    "start_time": "2023-09-01T12:02:37.655Z"
   },
   {
    "duration": 19,
    "start_time": "2023-09-01T12:02:37.739Z"
   },
   {
    "duration": 18,
    "start_time": "2023-09-01T12:02:37.760Z"
   },
   {
    "duration": 25,
    "start_time": "2023-09-01T12:02:37.780Z"
   },
   {
    "duration": 33,
    "start_time": "2023-09-01T12:02:37.807Z"
   },
   {
    "duration": 16,
    "start_time": "2023-09-01T12:02:37.842Z"
   },
   {
    "duration": 42,
    "start_time": "2023-09-01T12:02:37.861Z"
   },
   {
    "duration": 96,
    "start_time": "2023-09-01T12:02:37.907Z"
   },
   {
    "duration": 14,
    "start_time": "2023-09-01T12:02:38.005Z"
   },
   {
    "duration": 6,
    "start_time": "2023-09-01T12:02:38.021Z"
   },
   {
    "duration": 402,
    "start_time": "2023-09-01T12:02:38.029Z"
   },
   {
    "duration": 565,
    "start_time": "2023-09-01T12:02:38.433Z"
   },
   {
    "duration": 485,
    "start_time": "2023-09-01T12:02:39.010Z"
   },
   {
    "duration": 505,
    "start_time": "2023-09-01T12:02:39.498Z"
   },
   {
    "duration": 508,
    "start_time": "2023-09-01T12:02:40.005Z"
   },
   {
    "duration": 751,
    "start_time": "2023-09-01T12:02:40.515Z"
   },
   {
    "duration": 360,
    "start_time": "2023-09-01T12:02:41.268Z"
   },
   {
    "duration": 164,
    "start_time": "2023-09-01T12:02:41.633Z"
   },
   {
    "duration": 469,
    "start_time": "2023-09-01T12:02:41.799Z"
   },
   {
    "duration": 294,
    "start_time": "2023-09-01T12:02:42.270Z"
   },
   {
    "duration": 270,
    "start_time": "2023-09-01T12:02:42.566Z"
   },
   {
    "duration": 612,
    "start_time": "2023-09-01T12:02:42.839Z"
   },
   {
    "duration": 356,
    "start_time": "2023-09-01T12:02:43.453Z"
   },
   {
    "duration": 16,
    "start_time": "2023-09-01T12:02:43.812Z"
   },
   {
    "duration": 138,
    "start_time": "2023-09-01T12:02:43.837Z"
   },
   {
    "duration": 0,
    "start_time": "2023-09-01T12:02:43.977Z"
   },
   {
    "duration": 0,
    "start_time": "2023-09-01T12:02:43.978Z"
   },
   {
    "duration": 0,
    "start_time": "2023-09-01T12:02:43.979Z"
   },
   {
    "duration": 0,
    "start_time": "2023-09-01T12:02:43.981Z"
   },
   {
    "duration": 298,
    "start_time": "2023-09-01T12:14:23.005Z"
   },
   {
    "duration": 1630,
    "start_time": "2023-09-01T12:22:51.763Z"
   },
   {
    "duration": 144,
    "start_time": "2023-09-01T12:22:53.396Z"
   },
   {
    "duration": 7,
    "start_time": "2023-09-01T12:22:53.543Z"
   },
   {
    "duration": 1235,
    "start_time": "2023-09-01T12:22:53.554Z"
   },
   {
    "duration": 4,
    "start_time": "2023-09-01T12:22:54.792Z"
   },
   {
    "duration": 75,
    "start_time": "2023-09-01T12:22:54.798Z"
   },
   {
    "duration": 18,
    "start_time": "2023-09-01T12:22:54.876Z"
   },
   {
    "duration": 5,
    "start_time": "2023-09-01T12:22:54.896Z"
   },
   {
    "duration": 11,
    "start_time": "2023-09-01T12:22:54.903Z"
   },
   {
    "duration": 14,
    "start_time": "2023-09-01T12:22:54.917Z"
   },
   {
    "duration": 28,
    "start_time": "2023-09-01T12:22:54.939Z"
   },
   {
    "duration": 20,
    "start_time": "2023-09-01T12:22:54.970Z"
   },
   {
    "duration": 36,
    "start_time": "2023-09-01T12:22:54.992Z"
   },
   {
    "duration": 108,
    "start_time": "2023-09-01T12:22:55.037Z"
   },
   {
    "duration": 12,
    "start_time": "2023-09-01T12:22:55.147Z"
   },
   {
    "duration": 17,
    "start_time": "2023-09-01T12:22:55.162Z"
   },
   {
    "duration": 482,
    "start_time": "2023-09-01T12:22:55.181Z"
   },
   {
    "duration": 754,
    "start_time": "2023-09-01T12:22:55.665Z"
   },
   {
    "duration": 613,
    "start_time": "2023-09-01T12:22:56.424Z"
   },
   {
    "duration": 606,
    "start_time": "2023-09-01T12:22:57.046Z"
   },
   {
    "duration": 516,
    "start_time": "2023-09-01T12:22:57.656Z"
   },
   {
    "duration": 846,
    "start_time": "2023-09-01T12:22:58.174Z"
   },
   {
    "duration": 433,
    "start_time": "2023-09-01T12:22:59.031Z"
   },
   {
    "duration": 252,
    "start_time": "2023-09-01T12:22:59.467Z"
   },
   {
    "duration": 504,
    "start_time": "2023-09-01T12:22:59.723Z"
   },
   {
    "duration": 235,
    "start_time": "2023-09-01T12:23:00.229Z"
   },
   {
    "duration": 258,
    "start_time": "2023-09-01T12:23:00.466Z"
   },
   {
    "duration": 633,
    "start_time": "2023-09-01T12:23:00.728Z"
   },
   {
    "duration": 317,
    "start_time": "2023-09-01T12:23:01.364Z"
   },
   {
    "duration": 8,
    "start_time": "2023-09-01T12:23:01.683Z"
   },
   {
    "duration": 88,
    "start_time": "2023-09-01T12:23:01.693Z"
   },
   {
    "duration": 163,
    "start_time": "2023-09-01T12:23:01.783Z"
   },
   {
    "duration": 0,
    "start_time": "2023-09-01T12:23:01.949Z"
   },
   {
    "duration": 0,
    "start_time": "2023-09-01T12:23:01.950Z"
   },
   {
    "duration": 0,
    "start_time": "2023-09-01T12:23:01.952Z"
   },
   {
    "duration": 35,
    "start_time": "2023-09-01T12:24:39.989Z"
   },
   {
    "duration": 1513,
    "start_time": "2023-09-01T12:33:57.503Z"
   },
   {
    "duration": 130,
    "start_time": "2023-09-01T12:33:59.019Z"
   },
   {
    "duration": 5,
    "start_time": "2023-09-01T12:33:59.151Z"
   },
   {
    "duration": 1055,
    "start_time": "2023-09-01T12:33:59.159Z"
   },
   {
    "duration": 22,
    "start_time": "2023-09-01T12:34:00.218Z"
   },
   {
    "duration": 62,
    "start_time": "2023-09-01T12:34:00.243Z"
   },
   {
    "duration": 44,
    "start_time": "2023-09-01T12:34:00.308Z"
   },
   {
    "duration": 6,
    "start_time": "2023-09-01T12:34:00.360Z"
   },
   {
    "duration": 51,
    "start_time": "2023-09-01T12:34:00.374Z"
   },
   {
    "duration": 26,
    "start_time": "2023-09-01T12:34:00.433Z"
   },
   {
    "duration": 59,
    "start_time": "2023-09-01T12:34:00.465Z"
   },
   {
    "duration": 34,
    "start_time": "2023-09-01T12:34:00.529Z"
   },
   {
    "duration": 58,
    "start_time": "2023-09-01T12:34:00.569Z"
   },
   {
    "duration": 107,
    "start_time": "2023-09-01T12:34:00.632Z"
   },
   {
    "duration": 30,
    "start_time": "2023-09-01T12:34:00.743Z"
   },
   {
    "duration": 7,
    "start_time": "2023-09-01T12:34:00.775Z"
   },
   {
    "duration": 567,
    "start_time": "2023-09-01T12:34:00.785Z"
   },
   {
    "duration": 720,
    "start_time": "2023-09-01T12:34:01.355Z"
   },
   {
    "duration": 709,
    "start_time": "2023-09-01T12:34:02.083Z"
   },
   {
    "duration": 813,
    "start_time": "2023-09-01T12:34:02.797Z"
   },
   {
    "duration": 673,
    "start_time": "2023-09-01T12:34:03.614Z"
   },
   {
    "duration": 1089,
    "start_time": "2023-09-01T12:34:04.290Z"
   },
   {
    "duration": 506,
    "start_time": "2023-09-01T12:34:05.382Z"
   },
   {
    "duration": 200,
    "start_time": "2023-09-01T12:34:05.891Z"
   },
   {
    "duration": 601,
    "start_time": "2023-09-01T12:34:06.093Z"
   },
   {
    "duration": 296,
    "start_time": "2023-09-01T12:34:06.695Z"
   },
   {
    "duration": 298,
    "start_time": "2023-09-01T12:34:06.994Z"
   },
   {
    "duration": 701,
    "start_time": "2023-09-01T12:34:07.293Z"
   },
   {
    "duration": 458,
    "start_time": "2023-09-01T12:34:07.996Z"
   },
   {
    "duration": 14,
    "start_time": "2023-09-01T12:34:08.457Z"
   },
   {
    "duration": 34,
    "start_time": "2023-09-01T12:34:08.473Z"
   },
   {
    "duration": 217,
    "start_time": "2023-09-01T12:34:08.515Z"
   },
   {
    "duration": 0,
    "start_time": "2023-09-01T12:34:08.737Z"
   },
   {
    "duration": 0,
    "start_time": "2023-09-01T12:34:08.739Z"
   },
   {
    "duration": 0,
    "start_time": "2023-09-01T12:34:08.740Z"
   },
   {
    "duration": 0,
    "start_time": "2023-09-01T12:34:08.742Z"
   },
   {
    "duration": 0,
    "start_time": "2023-09-01T12:34:08.743Z"
   },
   {
    "duration": 191,
    "start_time": "2023-09-01T12:34:38.882Z"
   },
   {
    "duration": 191,
    "start_time": "2023-09-01T12:34:43.076Z"
   },
   {
    "duration": 12,
    "start_time": "2023-09-01T12:34:49.852Z"
   },
   {
    "duration": 12,
    "start_time": "2023-09-01T12:36:55.789Z"
   },
   {
    "duration": 34,
    "start_time": "2023-09-01T12:38:03.144Z"
   },
   {
    "duration": 187,
    "start_time": "2023-09-01T12:38:56.938Z"
   },
   {
    "duration": 109,
    "start_time": "2023-09-01T12:39:46.440Z"
   },
   {
    "duration": 111,
    "start_time": "2023-09-01T12:39:57.120Z"
   },
   {
    "duration": 1511,
    "start_time": "2023-09-01T12:40:39.762Z"
   },
   {
    "duration": 105,
    "start_time": "2023-09-01T12:40:41.275Z"
   },
   {
    "duration": 6,
    "start_time": "2023-09-01T12:40:41.383Z"
   },
   {
    "duration": 962,
    "start_time": "2023-09-01T12:40:41.391Z"
   },
   {
    "duration": 9,
    "start_time": "2023-09-01T12:40:42.357Z"
   },
   {
    "duration": 9,
    "start_time": "2023-09-01T12:40:42.369Z"
   },
   {
    "duration": 22,
    "start_time": "2023-09-01T12:40:42.380Z"
   },
   {
    "duration": 33,
    "start_time": "2023-09-01T12:40:42.405Z"
   },
   {
    "duration": 32,
    "start_time": "2023-09-01T12:40:42.440Z"
   },
   {
    "duration": 6,
    "start_time": "2023-09-01T12:40:42.479Z"
   },
   {
    "duration": 46,
    "start_time": "2023-09-01T12:40:42.488Z"
   },
   {
    "duration": 39,
    "start_time": "2023-09-01T12:40:42.539Z"
   },
   {
    "duration": 22,
    "start_time": "2023-09-01T12:40:42.585Z"
   },
   {
    "duration": 152,
    "start_time": "2023-09-01T12:40:42.622Z"
   },
   {
    "duration": 27,
    "start_time": "2023-09-01T12:40:42.780Z"
   },
   {
    "duration": 9,
    "start_time": "2023-09-01T12:40:42.815Z"
   },
   {
    "duration": 426,
    "start_time": "2023-09-01T12:40:42.826Z"
   },
   {
    "duration": 614,
    "start_time": "2023-09-01T12:40:43.255Z"
   },
   {
    "duration": 512,
    "start_time": "2023-09-01T12:40:43.871Z"
   },
   {
    "duration": 622,
    "start_time": "2023-09-01T12:40:44.386Z"
   },
   {
    "duration": 531,
    "start_time": "2023-09-01T12:40:45.013Z"
   },
   {
    "duration": 759,
    "start_time": "2023-09-01T12:40:45.545Z"
   },
   {
    "duration": 459,
    "start_time": "2023-09-01T12:40:46.307Z"
   },
   {
    "duration": 218,
    "start_time": "2023-09-01T12:40:46.769Z"
   },
   {
    "duration": 523,
    "start_time": "2023-09-01T12:40:46.989Z"
   },
   {
    "duration": 249,
    "start_time": "2023-09-01T12:40:47.518Z"
   },
   {
    "duration": 220,
    "start_time": "2023-09-01T12:40:47.770Z"
   },
   {
    "duration": 696,
    "start_time": "2023-09-01T12:40:47.992Z"
   },
   {
    "duration": 382,
    "start_time": "2023-09-01T12:40:48.690Z"
   },
   {
    "duration": 6,
    "start_time": "2023-09-01T12:40:49.074Z"
   },
   {
    "duration": 40,
    "start_time": "2023-09-01T12:40:49.082Z"
   },
   {
    "duration": 145,
    "start_time": "2023-09-01T12:40:49.124Z"
   },
   {
    "duration": 0,
    "start_time": "2023-09-01T12:40:49.272Z"
   },
   {
    "duration": 0,
    "start_time": "2023-09-01T12:40:49.273Z"
   },
   {
    "duration": 0,
    "start_time": "2023-09-01T12:40:49.275Z"
   },
   {
    "duration": 13,
    "start_time": "2023-09-01T12:41:13.292Z"
   },
   {
    "duration": 2082,
    "start_time": "2023-09-01T12:41:26.053Z"
   },
   {
    "duration": 1434,
    "start_time": "2023-09-01T12:41:47.745Z"
   },
   {
    "duration": 82,
    "start_time": "2023-09-01T12:41:49.182Z"
   },
   {
    "duration": 5,
    "start_time": "2023-09-01T12:41:49.266Z"
   },
   {
    "duration": 790,
    "start_time": "2023-09-01T12:41:49.273Z"
   },
   {
    "duration": 4,
    "start_time": "2023-09-01T12:41:50.066Z"
   },
   {
    "duration": 13,
    "start_time": "2023-09-01T12:41:50.072Z"
   },
   {
    "duration": 59,
    "start_time": "2023-09-01T12:41:50.088Z"
   },
   {
    "duration": 38,
    "start_time": "2023-09-01T12:41:50.149Z"
   },
   {
    "duration": 47,
    "start_time": "2023-09-01T12:41:50.190Z"
   },
   {
    "duration": 34,
    "start_time": "2023-09-01T12:41:50.239Z"
   },
   {
    "duration": 42,
    "start_time": "2023-09-01T12:41:50.275Z"
   },
   {
    "duration": 17,
    "start_time": "2023-09-01T12:41:50.323Z"
   },
   {
    "duration": 44,
    "start_time": "2023-09-01T12:41:50.342Z"
   },
   {
    "duration": 106,
    "start_time": "2023-09-01T12:41:50.390Z"
   },
   {
    "duration": 27,
    "start_time": "2023-09-01T12:41:50.498Z"
   },
   {
    "duration": 45,
    "start_time": "2023-09-01T12:41:50.531Z"
   },
   {
    "duration": 418,
    "start_time": "2023-09-01T12:41:50.578Z"
   },
   {
    "duration": 571,
    "start_time": "2023-09-01T12:41:50.999Z"
   },
   {
    "duration": 523,
    "start_time": "2023-09-01T12:41:51.573Z"
   },
   {
    "duration": 693,
    "start_time": "2023-09-01T12:41:52.099Z"
   },
   {
    "duration": 533,
    "start_time": "2023-09-01T12:41:52.795Z"
   },
   {
    "duration": 720,
    "start_time": "2023-09-01T12:41:53.336Z"
   },
   {
    "duration": 411,
    "start_time": "2023-09-01T12:41:54.058Z"
   },
   {
    "duration": 169,
    "start_time": "2023-09-01T12:41:54.472Z"
   },
   {
    "duration": 469,
    "start_time": "2023-09-01T12:41:54.648Z"
   },
   {
    "duration": 244,
    "start_time": "2023-09-01T12:41:55.123Z"
   },
   {
    "duration": 264,
    "start_time": "2023-09-01T12:41:55.369Z"
   },
   {
    "duration": 548,
    "start_time": "2023-09-01T12:41:55.635Z"
   },
   {
    "duration": 353,
    "start_time": "2023-09-01T12:41:56.185Z"
   },
   {
    "duration": 8,
    "start_time": "2023-09-01T12:41:56.541Z"
   },
   {
    "duration": 57,
    "start_time": "2023-09-01T12:41:56.551Z"
   },
   {
    "duration": 1625,
    "start_time": "2023-09-01T12:41:56.615Z"
   },
   {
    "duration": 1311,
    "start_time": "2023-09-01T12:42:47.769Z"
   },
   {
    "duration": 96,
    "start_time": "2023-09-01T12:42:49.082Z"
   },
   {
    "duration": 4,
    "start_time": "2023-09-01T12:42:49.180Z"
   },
   {
    "duration": 773,
    "start_time": "2023-09-01T12:42:49.186Z"
   },
   {
    "duration": 3,
    "start_time": "2023-09-01T12:42:49.961Z"
   },
   {
    "duration": 13,
    "start_time": "2023-09-01T12:42:49.966Z"
   },
   {
    "duration": 18,
    "start_time": "2023-09-01T12:42:49.982Z"
   },
   {
    "duration": 5,
    "start_time": "2023-09-01T12:42:50.002Z"
   },
   {
    "duration": 21,
    "start_time": "2023-09-01T12:42:50.009Z"
   },
   {
    "duration": 13,
    "start_time": "2023-09-01T12:42:50.034Z"
   },
   {
    "duration": 16,
    "start_time": "2023-09-01T12:42:50.049Z"
   },
   {
    "duration": 21,
    "start_time": "2023-09-01T12:42:50.067Z"
   },
   {
    "duration": 12,
    "start_time": "2023-09-01T12:42:50.090Z"
   },
   {
    "duration": 52,
    "start_time": "2023-09-01T12:42:50.103Z"
   },
   {
    "duration": 12,
    "start_time": "2023-09-01T12:42:50.157Z"
   },
   {
    "duration": 11,
    "start_time": "2023-09-01T12:42:50.172Z"
   },
   {
    "duration": 368,
    "start_time": "2023-09-01T12:42:50.185Z"
   },
   {
    "duration": 587,
    "start_time": "2023-09-01T12:42:50.555Z"
   },
   {
    "duration": 509,
    "start_time": "2023-09-01T12:42:51.145Z"
   },
   {
    "duration": 599,
    "start_time": "2023-09-01T12:42:51.657Z"
   },
   {
    "duration": 532,
    "start_time": "2023-09-01T12:42:52.258Z"
   },
   {
    "duration": 782,
    "start_time": "2023-09-01T12:42:52.792Z"
   },
   {
    "duration": 380,
    "start_time": "2023-09-01T12:42:53.576Z"
   },
   {
    "duration": 186,
    "start_time": "2023-09-01T12:42:53.958Z"
   },
   {
    "duration": 473,
    "start_time": "2023-09-01T12:42:54.146Z"
   },
   {
    "duration": 239,
    "start_time": "2023-09-01T12:42:54.625Z"
   },
   {
    "duration": 231,
    "start_time": "2023-09-01T12:42:54.867Z"
   },
   {
    "duration": 620,
    "start_time": "2023-09-01T12:42:55.102Z"
   },
   {
    "duration": 289,
    "start_time": "2023-09-01T12:42:55.729Z"
   },
   {
    "duration": 19,
    "start_time": "2023-09-01T12:42:56.023Z"
   },
   {
    "duration": 22,
    "start_time": "2023-09-01T12:42:56.044Z"
   },
   {
    "duration": 12,
    "start_time": "2023-09-01T12:46:52.234Z"
   },
   {
    "duration": 144,
    "start_time": "2023-09-01T12:54:44.240Z"
   },
   {
    "duration": 30,
    "start_time": "2023-09-01T12:54:58.330Z"
   },
   {
    "duration": 1266,
    "start_time": "2023-09-01T13:07:10.670Z"
   },
   {
    "duration": 103,
    "start_time": "2023-09-01T13:07:11.938Z"
   },
   {
    "duration": 5,
    "start_time": "2023-09-01T13:07:12.043Z"
   },
   {
    "duration": 847,
    "start_time": "2023-09-01T13:07:12.051Z"
   },
   {
    "duration": 4,
    "start_time": "2023-09-01T13:07:12.900Z"
   },
   {
    "duration": 39,
    "start_time": "2023-09-01T13:07:12.906Z"
   },
   {
    "duration": 20,
    "start_time": "2023-09-01T13:07:12.948Z"
   },
   {
    "duration": 47,
    "start_time": "2023-09-01T13:07:12.970Z"
   },
   {
    "duration": 35,
    "start_time": "2023-09-01T13:07:13.019Z"
   },
   {
    "duration": 30,
    "start_time": "2023-09-01T13:07:13.057Z"
   },
   {
    "duration": 49,
    "start_time": "2023-09-01T13:07:13.089Z"
   },
   {
    "duration": 14,
    "start_time": "2023-09-01T13:07:13.141Z"
   },
   {
    "duration": 36,
    "start_time": "2023-09-01T13:07:13.157Z"
   },
   {
    "duration": 96,
    "start_time": "2023-09-01T13:07:13.195Z"
   },
   {
    "duration": 10,
    "start_time": "2023-09-01T13:07:13.293Z"
   },
   {
    "duration": 26,
    "start_time": "2023-09-01T13:07:13.305Z"
   },
   {
    "duration": 338,
    "start_time": "2023-09-01T13:07:13.332Z"
   },
   {
    "duration": 534,
    "start_time": "2023-09-01T13:07:13.672Z"
   },
   {
    "duration": 497,
    "start_time": "2023-09-01T13:07:14.210Z"
   },
   {
    "duration": 491,
    "start_time": "2023-09-01T13:07:14.709Z"
   },
   {
    "duration": 489,
    "start_time": "2023-09-01T13:07:15.209Z"
   },
   {
    "duration": 689,
    "start_time": "2023-09-01T13:07:15.700Z"
   },
   {
    "duration": 377,
    "start_time": "2023-09-01T13:07:16.391Z"
   },
   {
    "duration": 155,
    "start_time": "2023-09-01T13:07:16.770Z"
   },
   {
    "duration": 215,
    "start_time": "2023-09-01T13:07:16.927Z"
   },
   {
    "duration": 198,
    "start_time": "2023-09-01T13:07:17.144Z"
   },
   {
    "duration": 530,
    "start_time": "2023-09-01T13:07:17.345Z"
   },
   {
    "duration": 12,
    "start_time": "2023-09-01T13:07:17.878Z"
   },
   {
    "duration": 30,
    "start_time": "2023-09-01T13:07:17.892Z"
   },
   {
    "duration": 18,
    "start_time": "2023-09-01T13:07:17.926Z"
   },
   {
    "duration": 42,
    "start_time": "2023-09-01T13:07:17.945Z"
   },
   {
    "duration": 109,
    "start_time": "2023-09-01T13:07:17.988Z"
   },
   {
    "duration": 49,
    "start_time": "2023-09-01T17:31:05.608Z"
   },
   {
    "duration": 1259,
    "start_time": "2023-09-01T17:38:12.885Z"
   },
   {
    "duration": 218,
    "start_time": "2023-09-01T17:38:14.146Z"
   },
   {
    "duration": 3,
    "start_time": "2023-09-01T17:38:14.366Z"
   },
   {
    "duration": 1041,
    "start_time": "2023-09-01T17:38:14.370Z"
   },
   {
    "duration": 3,
    "start_time": "2023-09-01T17:38:15.413Z"
   },
   {
    "duration": 18,
    "start_time": "2023-09-01T17:38:15.417Z"
   },
   {
    "duration": 30,
    "start_time": "2023-09-01T17:38:15.436Z"
   },
   {
    "duration": 4,
    "start_time": "2023-09-01T17:38:15.467Z"
   },
   {
    "duration": 23,
    "start_time": "2023-09-01T17:38:15.472Z"
   },
   {
    "duration": 13,
    "start_time": "2023-09-01T17:38:15.497Z"
   },
   {
    "duration": 18,
    "start_time": "2023-09-01T17:38:15.512Z"
   },
   {
    "duration": 24,
    "start_time": "2023-09-01T17:38:15.531Z"
   },
   {
    "duration": 12,
    "start_time": "2023-09-01T17:38:15.564Z"
   },
   {
    "duration": 104,
    "start_time": "2023-09-01T17:38:15.578Z"
   },
   {
    "duration": 8,
    "start_time": "2023-09-01T17:38:15.684Z"
   },
   {
    "duration": 9,
    "start_time": "2023-09-01T17:38:15.694Z"
   },
   {
    "duration": 290,
    "start_time": "2023-09-01T17:38:15.704Z"
   },
   {
    "duration": 526,
    "start_time": "2023-09-01T17:38:15.996Z"
   },
   {
    "duration": 405,
    "start_time": "2023-09-01T17:38:16.523Z"
   },
   {
    "duration": 472,
    "start_time": "2023-09-01T17:38:16.930Z"
   },
   {
    "duration": 367,
    "start_time": "2023-09-01T17:38:17.404Z"
   },
   {
    "duration": 566,
    "start_time": "2023-09-01T17:38:17.773Z"
   },
   {
    "duration": 288,
    "start_time": "2023-09-01T17:38:18.341Z"
   },
   {
    "duration": 136,
    "start_time": "2023-09-01T17:38:18.631Z"
   },
   {
    "duration": 166,
    "start_time": "2023-09-01T17:38:18.769Z"
   },
   {
    "duration": 170,
    "start_time": "2023-09-01T17:38:18.937Z"
   },
   {
    "duration": 451,
    "start_time": "2023-09-01T17:38:19.109Z"
   },
   {
    "duration": 9,
    "start_time": "2023-09-01T17:38:19.566Z"
   },
   {
    "duration": 106,
    "start_time": "2023-09-01T17:38:19.576Z"
   },
   {
    "duration": 0,
    "start_time": "2023-09-01T17:38:19.684Z"
   },
   {
    "duration": 0,
    "start_time": "2023-09-01T17:38:19.685Z"
   },
   {
    "duration": 0,
    "start_time": "2023-09-01T17:38:19.686Z"
   },
   {
    "duration": 0,
    "start_time": "2023-09-01T17:38:19.687Z"
   },
   {
    "duration": 23,
    "start_time": "2023-09-01T17:44:41.143Z"
   },
   {
    "duration": 1146,
    "start_time": "2023-09-01T17:44:51.117Z"
   },
   {
    "duration": 78,
    "start_time": "2023-09-01T17:44:52.265Z"
   },
   {
    "duration": 3,
    "start_time": "2023-09-01T17:44:52.344Z"
   },
   {
    "duration": 599,
    "start_time": "2023-09-01T17:44:52.349Z"
   },
   {
    "duration": 6,
    "start_time": "2023-09-01T17:44:52.952Z"
   },
   {
    "duration": 18,
    "start_time": "2023-09-01T17:44:52.962Z"
   },
   {
    "duration": 22,
    "start_time": "2023-09-01T17:44:52.982Z"
   },
   {
    "duration": 14,
    "start_time": "2023-09-01T17:44:53.006Z"
   },
   {
    "duration": 42,
    "start_time": "2023-09-01T17:44:53.021Z"
   },
   {
    "duration": 16,
    "start_time": "2023-09-01T17:44:53.064Z"
   },
   {
    "duration": 17,
    "start_time": "2023-09-01T17:44:53.082Z"
   },
   {
    "duration": 14,
    "start_time": "2023-09-01T17:44:53.101Z"
   },
   {
    "duration": 18,
    "start_time": "2023-09-01T17:44:53.117Z"
   },
   {
    "duration": 19,
    "start_time": "2023-09-01T17:44:53.140Z"
   },
   {
    "duration": 13,
    "start_time": "2023-09-01T17:44:53.163Z"
   },
   {
    "duration": 4,
    "start_time": "2023-09-01T17:44:53.177Z"
   },
   {
    "duration": 302,
    "start_time": "2023-09-01T17:44:53.182Z"
   },
   {
    "duration": 427,
    "start_time": "2023-09-01T17:44:53.485Z"
   },
   {
    "duration": 435,
    "start_time": "2023-09-01T17:44:53.913Z"
   },
   {
    "duration": 485,
    "start_time": "2023-09-01T17:44:54.360Z"
   },
   {
    "duration": 434,
    "start_time": "2023-09-01T17:44:54.846Z"
   },
   {
    "duration": 610,
    "start_time": "2023-09-01T17:44:55.281Z"
   },
   {
    "duration": 336,
    "start_time": "2023-09-01T17:44:55.896Z"
   },
   {
    "duration": 157,
    "start_time": "2023-09-01T17:44:56.235Z"
   },
   {
    "duration": 204,
    "start_time": "2023-09-01T17:44:56.394Z"
   },
   {
    "duration": 177,
    "start_time": "2023-09-01T17:44:56.600Z"
   },
   {
    "duration": 439,
    "start_time": "2023-09-01T17:44:56.779Z"
   },
   {
    "duration": 10,
    "start_time": "2023-09-01T17:44:57.219Z"
   },
   {
    "duration": 117,
    "start_time": "2023-09-01T17:44:57.231Z"
   },
   {
    "duration": 0,
    "start_time": "2023-09-01T17:44:57.349Z"
   },
   {
    "duration": 0,
    "start_time": "2023-09-01T17:44:57.351Z"
   },
   {
    "duration": 0,
    "start_time": "2023-09-01T17:44:57.352Z"
   },
   {
    "duration": 0,
    "start_time": "2023-09-01T17:44:57.353Z"
   },
   {
    "duration": 132,
    "start_time": "2023-09-01T17:46:40.392Z"
   },
   {
    "duration": 1305,
    "start_time": "2023-09-01T17:46:41.460Z"
   },
   {
    "duration": 1200,
    "start_time": "2023-09-01T17:47:30.565Z"
   },
   {
    "duration": 79,
    "start_time": "2023-09-01T17:47:31.768Z"
   },
   {
    "duration": 18,
    "start_time": "2023-09-01T17:47:31.848Z"
   },
   {
    "duration": 777,
    "start_time": "2023-09-01T17:47:31.868Z"
   },
   {
    "duration": 3,
    "start_time": "2023-09-01T17:47:32.646Z"
   },
   {
    "duration": 25,
    "start_time": "2023-09-01T17:47:32.652Z"
   },
   {
    "duration": 28,
    "start_time": "2023-09-01T17:47:32.678Z"
   },
   {
    "duration": 10,
    "start_time": "2023-09-01T17:47:32.707Z"
   },
   {
    "duration": 14,
    "start_time": "2023-09-01T17:47:32.719Z"
   },
   {
    "duration": 7,
    "start_time": "2023-09-01T17:47:32.735Z"
   },
   {
    "duration": 17,
    "start_time": "2023-09-01T17:47:32.744Z"
   },
   {
    "duration": 12,
    "start_time": "2023-09-01T17:47:32.763Z"
   },
   {
    "duration": 18,
    "start_time": "2023-09-01T17:47:32.776Z"
   },
   {
    "duration": 29,
    "start_time": "2023-09-01T17:47:32.796Z"
   },
   {
    "duration": 10,
    "start_time": "2023-09-01T17:47:32.826Z"
   },
   {
    "duration": 4,
    "start_time": "2023-09-01T17:47:32.838Z"
   },
   {
    "duration": 350,
    "start_time": "2023-09-01T17:47:32.843Z"
   },
   {
    "duration": 445,
    "start_time": "2023-09-01T17:47:33.195Z"
   },
   {
    "duration": 417,
    "start_time": "2023-09-01T17:47:33.642Z"
   },
   {
    "duration": 436,
    "start_time": "2023-09-01T17:47:34.061Z"
   },
   {
    "duration": 404,
    "start_time": "2023-09-01T17:47:34.499Z"
   },
   {
    "duration": 666,
    "start_time": "2023-09-01T17:47:34.904Z"
   },
   {
    "duration": 295,
    "start_time": "2023-09-01T17:47:35.573Z"
   },
   {
    "duration": 207,
    "start_time": "2023-09-01T17:47:35.869Z"
   },
   {
    "duration": 252,
    "start_time": "2023-09-01T17:47:36.079Z"
   },
   {
    "duration": 176,
    "start_time": "2023-09-01T17:47:36.333Z"
   },
   {
    "duration": 468,
    "start_time": "2023-09-01T17:47:36.511Z"
   },
   {
    "duration": 9,
    "start_time": "2023-09-01T17:47:36.984Z"
   },
   {
    "duration": 131,
    "start_time": "2023-09-01T17:47:36.994Z"
   },
   {
    "duration": 1603,
    "start_time": "2023-09-01T17:47:37.127Z"
   },
   {
    "duration": 0,
    "start_time": "2023-09-01T17:47:38.732Z"
   },
   {
    "duration": 0,
    "start_time": "2023-09-01T17:47:38.733Z"
   },
   {
    "duration": 0,
    "start_time": "2023-09-01T17:47:38.734Z"
   },
   {
    "duration": 1,
    "start_time": "2023-09-01T17:47:38.735Z"
   },
   {
    "duration": 1506,
    "start_time": "2023-09-01T17:51:26.674Z"
   },
   {
    "duration": 11,
    "start_time": "2023-09-01T17:52:20.468Z"
   },
   {
    "duration": 9,
    "start_time": "2023-09-01T17:52:58.607Z"
   },
   {
    "duration": 10,
    "start_time": "2023-09-01T17:52:59.419Z"
   },
   {
    "duration": 1187,
    "start_time": "2023-09-01T17:53:08.954Z"
   },
   {
    "duration": 89,
    "start_time": "2023-09-01T17:53:10.143Z"
   },
   {
    "duration": 4,
    "start_time": "2023-09-01T17:53:10.234Z"
   },
   {
    "duration": 733,
    "start_time": "2023-09-01T17:53:10.239Z"
   },
   {
    "duration": 3,
    "start_time": "2023-09-01T17:53:10.974Z"
   },
   {
    "duration": 12,
    "start_time": "2023-09-01T17:53:10.978Z"
   },
   {
    "duration": 12,
    "start_time": "2023-09-01T17:53:10.992Z"
   },
   {
    "duration": 19,
    "start_time": "2023-09-01T17:53:11.005Z"
   },
   {
    "duration": 21,
    "start_time": "2023-09-01T17:53:11.025Z"
   },
   {
    "duration": 13,
    "start_time": "2023-09-01T17:53:11.048Z"
   },
   {
    "duration": 41,
    "start_time": "2023-09-01T17:53:11.062Z"
   },
   {
    "duration": 11,
    "start_time": "2023-09-01T17:53:11.105Z"
   },
   {
    "duration": 12,
    "start_time": "2023-09-01T17:53:11.118Z"
   },
   {
    "duration": 12,
    "start_time": "2023-09-01T17:53:11.133Z"
   },
   {
    "duration": 21,
    "start_time": "2023-09-01T17:53:11.147Z"
   },
   {
    "duration": 17,
    "start_time": "2023-09-01T17:53:11.169Z"
   },
   {
    "duration": 315,
    "start_time": "2023-09-01T17:53:11.187Z"
   },
   {
    "duration": 447,
    "start_time": "2023-09-01T17:53:11.503Z"
   },
   {
    "duration": 388,
    "start_time": "2023-09-01T17:53:11.952Z"
   },
   {
    "duration": 431,
    "start_time": "2023-09-01T17:53:12.342Z"
   },
   {
    "duration": 369,
    "start_time": "2023-09-01T17:53:12.776Z"
   },
   {
    "duration": 598,
    "start_time": "2023-09-01T17:53:13.146Z"
   },
   {
    "duration": 287,
    "start_time": "2023-09-01T17:53:13.745Z"
   },
   {
    "duration": 137,
    "start_time": "2023-09-01T17:53:14.034Z"
   },
   {
    "duration": 195,
    "start_time": "2023-09-01T17:53:14.173Z"
   },
   {
    "duration": 148,
    "start_time": "2023-09-01T17:53:14.369Z"
   },
   {
    "duration": 448,
    "start_time": "2023-09-01T17:53:14.518Z"
   },
   {
    "duration": 12,
    "start_time": "2023-09-01T17:53:14.968Z"
   },
   {
    "duration": 185,
    "start_time": "2023-09-01T17:53:14.981Z"
   },
   {
    "duration": 0,
    "start_time": "2023-09-01T17:53:15.167Z"
   },
   {
    "duration": 0,
    "start_time": "2023-09-01T17:53:15.168Z"
   },
   {
    "duration": 0,
    "start_time": "2023-09-01T17:53:15.169Z"
   },
   {
    "duration": 0,
    "start_time": "2023-09-01T17:53:15.170Z"
   },
   {
    "duration": 0,
    "start_time": "2023-09-01T17:53:15.171Z"
   },
   {
    "duration": 1448,
    "start_time": "2023-09-01T17:53:58.108Z"
   },
   {
    "duration": 1203,
    "start_time": "2023-09-01T17:54:13.456Z"
   },
   {
    "duration": 80,
    "start_time": "2023-09-01T17:54:14.661Z"
   },
   {
    "duration": 3,
    "start_time": "2023-09-01T17:54:14.742Z"
   },
   {
    "duration": 837,
    "start_time": "2023-09-01T17:54:14.746Z"
   },
   {
    "duration": 3,
    "start_time": "2023-09-01T17:54:15.585Z"
   },
   {
    "duration": 7,
    "start_time": "2023-09-01T17:54:15.589Z"
   },
   {
    "duration": 13,
    "start_time": "2023-09-01T17:54:15.597Z"
   },
   {
    "duration": 5,
    "start_time": "2023-09-01T17:54:15.612Z"
   },
   {
    "duration": 11,
    "start_time": "2023-09-01T17:54:15.618Z"
   },
   {
    "duration": 7,
    "start_time": "2023-09-01T17:54:15.630Z"
   },
   {
    "duration": 27,
    "start_time": "2023-09-01T17:54:15.639Z"
   },
   {
    "duration": 11,
    "start_time": "2023-09-01T17:54:15.668Z"
   },
   {
    "duration": 14,
    "start_time": "2023-09-01T17:54:15.681Z"
   },
   {
    "duration": 29,
    "start_time": "2023-09-01T17:54:15.697Z"
   },
   {
    "duration": 9,
    "start_time": "2023-09-01T17:54:15.727Z"
   },
   {
    "duration": 5,
    "start_time": "2023-09-01T17:54:15.738Z"
   },
   {
    "duration": 365,
    "start_time": "2023-09-01T17:54:15.744Z"
   },
   {
    "duration": 601,
    "start_time": "2023-09-01T17:54:16.111Z"
   },
   {
    "duration": 422,
    "start_time": "2023-09-01T17:54:16.714Z"
   },
   {
    "duration": 474,
    "start_time": "2023-09-01T17:54:17.138Z"
   },
   {
    "duration": 394,
    "start_time": "2023-09-01T17:54:17.613Z"
   },
   {
    "duration": 652,
    "start_time": "2023-09-01T17:54:18.009Z"
   },
   {
    "duration": 314,
    "start_time": "2023-09-01T17:54:18.663Z"
   },
   {
    "duration": 152,
    "start_time": "2023-09-01T17:54:18.979Z"
   },
   {
    "duration": 239,
    "start_time": "2023-09-01T17:54:19.135Z"
   },
   {
    "duration": 164,
    "start_time": "2023-09-01T17:54:19.376Z"
   },
   {
    "duration": 476,
    "start_time": "2023-09-01T17:54:19.542Z"
   },
   {
    "duration": 8,
    "start_time": "2023-09-01T17:54:20.020Z"
   },
   {
    "duration": 1492,
    "start_time": "2023-09-01T17:54:20.030Z"
   },
   {
    "duration": 0,
    "start_time": "2023-09-01T17:54:21.524Z"
   },
   {
    "duration": 0,
    "start_time": "2023-09-01T17:54:21.525Z"
   },
   {
    "duration": 0,
    "start_time": "2023-09-01T17:54:21.526Z"
   },
   {
    "duration": 0,
    "start_time": "2023-09-01T17:54:21.527Z"
   },
   {
    "duration": 0,
    "start_time": "2023-09-01T17:54:21.528Z"
   },
   {
    "duration": 8,
    "start_time": "2023-09-01T17:55:15.024Z"
   },
   {
    "duration": 8,
    "start_time": "2023-09-01T17:55:30.594Z"
   },
   {
    "duration": 1778,
    "start_time": "2023-09-01T17:55:31.723Z"
   },
   {
    "duration": 13,
    "start_time": "2023-09-01T17:55:34.627Z"
   },
   {
    "duration": 15,
    "start_time": "2023-09-01T17:56:54.802Z"
   },
   {
    "duration": 7,
    "start_time": "2023-09-01T17:57:16.834Z"
   },
   {
    "duration": 24,
    "start_time": "2023-09-01T17:57:21.944Z"
   },
   {
    "duration": 21,
    "start_time": "2023-09-01T18:02:22.433Z"
   },
   {
    "duration": 22,
    "start_time": "2023-09-01T18:02:43.877Z"
   },
   {
    "duration": 1238,
    "start_time": "2023-09-01T18:03:33.136Z"
   },
   {
    "duration": 90,
    "start_time": "2023-09-01T18:03:34.377Z"
   },
   {
    "duration": 3,
    "start_time": "2023-09-01T18:03:34.469Z"
   },
   {
    "duration": 931,
    "start_time": "2023-09-01T18:03:34.473Z"
   },
   {
    "duration": 2,
    "start_time": "2023-09-01T18:03:35.406Z"
   },
   {
    "duration": 6,
    "start_time": "2023-09-01T18:03:35.410Z"
   },
   {
    "duration": 12,
    "start_time": "2023-09-01T18:03:35.417Z"
   },
   {
    "duration": 11,
    "start_time": "2023-09-01T18:03:35.431Z"
   },
   {
    "duration": 12,
    "start_time": "2023-09-01T18:03:35.443Z"
   },
   {
    "duration": 11,
    "start_time": "2023-09-01T18:03:35.456Z"
   },
   {
    "duration": 18,
    "start_time": "2023-09-01T18:03:35.469Z"
   },
   {
    "duration": 13,
    "start_time": "2023-09-01T18:03:35.488Z"
   },
   {
    "duration": 23,
    "start_time": "2023-09-01T18:03:35.503Z"
   },
   {
    "duration": 85,
    "start_time": "2023-09-01T18:03:35.529Z"
   },
   {
    "duration": 11,
    "start_time": "2023-09-01T18:03:35.615Z"
   },
   {
    "duration": 7,
    "start_time": "2023-09-01T18:03:35.628Z"
   },
   {
    "duration": 353,
    "start_time": "2023-09-01T18:03:35.636Z"
   },
   {
    "duration": 544,
    "start_time": "2023-09-01T18:03:35.991Z"
   },
   {
    "duration": 483,
    "start_time": "2023-09-01T18:03:36.537Z"
   },
   {
    "duration": 490,
    "start_time": "2023-09-01T18:03:37.022Z"
   },
   {
    "duration": 402,
    "start_time": "2023-09-01T18:03:37.513Z"
   },
   {
    "duration": 663,
    "start_time": "2023-09-01T18:03:37.916Z"
   },
   {
    "duration": 308,
    "start_time": "2023-09-01T18:03:38.580Z"
   },
   {
    "duration": 145,
    "start_time": "2023-09-01T18:03:38.890Z"
   },
   {
    "duration": 210,
    "start_time": "2023-09-01T18:03:39.036Z"
   },
   {
    "duration": 184,
    "start_time": "2023-09-01T18:03:39.250Z"
   },
   {
    "duration": 498,
    "start_time": "2023-09-01T18:03:39.436Z"
   },
   {
    "duration": 35,
    "start_time": "2023-09-01T18:03:39.935Z"
   },
   {
    "duration": 9,
    "start_time": "2023-09-01T18:03:39.976Z"
   },
   {
    "duration": 13,
    "start_time": "2023-09-01T18:03:39.987Z"
   },
   {
    "duration": 17,
    "start_time": "2023-09-01T18:03:40.002Z"
   },
   {
    "duration": 26,
    "start_time": "2023-09-01T18:03:40.021Z"
   },
   {
    "duration": 20,
    "start_time": "2023-09-01T18:03:40.055Z"
   },
   {
    "duration": 17,
    "start_time": "2023-09-01T18:03:40.076Z"
   },
   {
    "duration": 5,
    "start_time": "2023-09-01T18:03:40.095Z"
   },
   {
    "duration": 6,
    "start_time": "2023-09-01T18:03:40.101Z"
   },
   {
    "duration": 1210,
    "start_time": "2023-09-01T18:13:35.510Z"
   },
   {
    "duration": 95,
    "start_time": "2023-09-01T18:13:36.722Z"
   },
   {
    "duration": 4,
    "start_time": "2023-09-01T18:13:36.818Z"
   },
   {
    "duration": 659,
    "start_time": "2023-09-01T18:13:36.824Z"
   },
   {
    "duration": 3,
    "start_time": "2023-09-01T18:13:37.485Z"
   },
   {
    "duration": 8,
    "start_time": "2023-09-01T18:13:37.489Z"
   },
   {
    "duration": 22,
    "start_time": "2023-09-01T18:13:37.499Z"
   },
   {
    "duration": 19,
    "start_time": "2023-09-01T18:13:37.523Z"
   },
   {
    "duration": 21,
    "start_time": "2023-09-01T18:13:37.544Z"
   },
   {
    "duration": 8,
    "start_time": "2023-09-01T18:13:37.569Z"
   },
   {
    "duration": 13,
    "start_time": "2023-09-01T18:13:37.579Z"
   },
   {
    "duration": 11,
    "start_time": "2023-09-01T18:13:37.593Z"
   },
   {
    "duration": 14,
    "start_time": "2023-09-01T18:13:37.605Z"
   },
   {
    "duration": 11,
    "start_time": "2023-09-01T18:13:37.620Z"
   },
   {
    "duration": 24,
    "start_time": "2023-09-01T18:13:37.632Z"
   },
   {
    "duration": 14,
    "start_time": "2023-09-01T18:13:37.660Z"
   },
   {
    "duration": 308,
    "start_time": "2023-09-01T18:13:37.678Z"
   },
   {
    "duration": 433,
    "start_time": "2023-09-01T18:13:37.988Z"
   },
   {
    "duration": 410,
    "start_time": "2023-09-01T18:13:38.422Z"
   },
   {
    "duration": 471,
    "start_time": "2023-09-01T18:13:38.834Z"
   },
   {
    "duration": 399,
    "start_time": "2023-09-01T18:13:39.307Z"
   },
   {
    "duration": 631,
    "start_time": "2023-09-01T18:13:39.707Z"
   },
   {
    "duration": 304,
    "start_time": "2023-09-01T18:13:40.340Z"
   },
   {
    "duration": 142,
    "start_time": "2023-09-01T18:13:40.645Z"
   },
   {
    "duration": 176,
    "start_time": "2023-09-01T18:13:40.788Z"
   },
   {
    "duration": 158,
    "start_time": "2023-09-01T18:13:40.966Z"
   },
   {
    "duration": 467,
    "start_time": "2023-09-01T18:13:41.126Z"
   },
   {
    "duration": 14,
    "start_time": "2023-09-01T18:13:41.596Z"
   },
   {
    "duration": 13,
    "start_time": "2023-09-01T18:13:41.611Z"
   },
   {
    "duration": 7,
    "start_time": "2023-09-01T18:13:41.625Z"
   },
   {
    "duration": 13,
    "start_time": "2023-09-01T18:13:41.649Z"
   },
   {
    "duration": 19,
    "start_time": "2023-09-01T18:13:41.665Z"
   },
   {
    "duration": 5,
    "start_time": "2023-09-01T18:13:41.685Z"
   },
   {
    "duration": 14,
    "start_time": "2023-09-01T18:13:41.692Z"
   },
   {
    "duration": 5,
    "start_time": "2023-09-01T18:13:41.708Z"
   },
   {
    "duration": 5,
    "start_time": "2023-09-01T18:13:41.714Z"
   },
   {
    "duration": 1312,
    "start_time": "2023-09-01T19:24:14.752Z"
   },
   {
    "duration": 192,
    "start_time": "2023-09-01T19:24:16.066Z"
   },
   {
    "duration": 3,
    "start_time": "2023-09-01T19:24:16.261Z"
   },
   {
    "duration": 484,
    "start_time": "2023-09-01T19:24:16.267Z"
   },
   {
    "duration": 3,
    "start_time": "2023-09-01T19:24:16.752Z"
   },
   {
    "duration": 11,
    "start_time": "2023-09-01T19:24:16.757Z"
   },
   {
    "duration": 19,
    "start_time": "2023-09-01T19:24:16.769Z"
   },
   {
    "duration": 9,
    "start_time": "2023-09-01T19:24:16.790Z"
   },
   {
    "duration": 16,
    "start_time": "2023-09-01T19:24:16.801Z"
   },
   {
    "duration": 16,
    "start_time": "2023-09-01T19:24:16.820Z"
   },
   {
    "duration": 32,
    "start_time": "2023-09-01T19:24:16.837Z"
   },
   {
    "duration": 11,
    "start_time": "2023-09-01T19:24:16.871Z"
   },
   {
    "duration": 12,
    "start_time": "2023-09-01T19:24:16.884Z"
   },
   {
    "duration": 16,
    "start_time": "2023-09-01T19:24:16.898Z"
   },
   {
    "duration": 10,
    "start_time": "2023-09-01T19:24:16.916Z"
   },
   {
    "duration": 19,
    "start_time": "2023-09-01T19:24:16.928Z"
   },
   {
    "duration": 321,
    "start_time": "2023-09-01T19:24:16.948Z"
   },
   {
    "duration": 434,
    "start_time": "2023-09-01T19:24:17.270Z"
   },
   {
    "duration": 384,
    "start_time": "2023-09-01T19:24:17.706Z"
   },
   {
    "duration": 490,
    "start_time": "2023-09-01T19:24:18.092Z"
   },
   {
    "duration": 352,
    "start_time": "2023-09-01T19:24:18.583Z"
   },
   {
    "duration": 610,
    "start_time": "2023-09-01T19:24:18.936Z"
   },
   {
    "duration": 268,
    "start_time": "2023-09-01T19:24:19.548Z"
   },
   {
    "duration": 104,
    "start_time": "2023-09-01T19:24:19.818Z"
   },
   {
    "duration": 186,
    "start_time": "2023-09-01T19:24:19.923Z"
   },
   {
    "duration": 149,
    "start_time": "2023-09-01T19:24:20.111Z"
   },
   {
    "duration": 415,
    "start_time": "2023-09-01T19:24:20.261Z"
   },
   {
    "duration": 14,
    "start_time": "2023-09-01T19:24:20.679Z"
   },
   {
    "duration": 13,
    "start_time": "2023-09-01T19:24:20.694Z"
   },
   {
    "duration": 10,
    "start_time": "2023-09-01T19:24:20.709Z"
   },
   {
    "duration": 24,
    "start_time": "2023-09-01T19:24:20.720Z"
   },
   {
    "duration": 14,
    "start_time": "2023-09-01T19:24:20.746Z"
   },
   {
    "duration": 4,
    "start_time": "2023-09-01T19:24:20.762Z"
   },
   {
    "duration": 8,
    "start_time": "2023-09-01T19:24:20.768Z"
   },
   {
    "duration": 5,
    "start_time": "2023-09-01T19:24:20.778Z"
   },
   {
    "duration": 12,
    "start_time": "2023-09-01T19:24:20.784Z"
   },
   {
    "duration": 75,
    "start_time": "2023-09-01T19:39:10.983Z"
   },
   {
    "duration": 5,
    "start_time": "2023-09-01T19:39:23.598Z"
   },
   {
    "duration": 9,
    "start_time": "2023-09-01T19:39:24.612Z"
   },
   {
    "duration": 5,
    "start_time": "2023-09-01T19:39:40.811Z"
   },
   {
    "duration": 8,
    "start_time": "2023-09-01T19:39:42.737Z"
   },
   {
    "duration": 708,
    "start_time": "2023-09-01T19:48:29.715Z"
   },
   {
    "duration": 1097,
    "start_time": "2023-09-01T19:51:14.198Z"
   },
   {
    "duration": 74,
    "start_time": "2023-09-01T19:51:15.297Z"
   },
   {
    "duration": 3,
    "start_time": "2023-09-01T19:51:15.373Z"
   },
   {
    "duration": 473,
    "start_time": "2023-09-01T19:51:15.378Z"
   },
   {
    "duration": 3,
    "start_time": "2023-09-01T19:51:15.852Z"
   },
   {
    "duration": 7,
    "start_time": "2023-09-01T19:51:15.857Z"
   },
   {
    "duration": 13,
    "start_time": "2023-09-01T19:51:15.866Z"
   },
   {
    "duration": 4,
    "start_time": "2023-09-01T19:51:15.880Z"
   },
   {
    "duration": 5,
    "start_time": "2023-09-01T19:51:15.886Z"
   },
   {
    "duration": 4,
    "start_time": "2023-09-01T19:51:15.894Z"
   },
   {
    "duration": 24,
    "start_time": "2023-09-01T19:51:15.900Z"
   },
   {
    "duration": 11,
    "start_time": "2023-09-01T19:51:15.948Z"
   },
   {
    "duration": 11,
    "start_time": "2023-09-01T19:51:15.960Z"
   },
   {
    "duration": 13,
    "start_time": "2023-09-01T19:51:15.972Z"
   },
   {
    "duration": 9,
    "start_time": "2023-09-01T19:51:15.987Z"
   },
   {
    "duration": 4,
    "start_time": "2023-09-01T19:51:15.997Z"
   },
   {
    "duration": 307,
    "start_time": "2023-09-01T19:51:16.002Z"
   },
   {
    "duration": 420,
    "start_time": "2023-09-01T19:51:16.310Z"
   },
   {
    "duration": 379,
    "start_time": "2023-09-01T19:51:16.731Z"
   },
   {
    "duration": 466,
    "start_time": "2023-09-01T19:51:17.112Z"
   },
   {
    "duration": 341,
    "start_time": "2023-09-01T19:51:17.580Z"
   },
   {
    "duration": 717,
    "start_time": "2023-09-01T19:51:17.922Z"
   },
   {
    "duration": 261,
    "start_time": "2023-09-01T19:51:18.640Z"
   },
   {
    "duration": 134,
    "start_time": "2023-09-01T19:51:18.902Z"
   },
   {
    "duration": 186,
    "start_time": "2023-09-01T19:51:19.044Z"
   },
   {
    "duration": 156,
    "start_time": "2023-09-01T19:51:19.232Z"
   },
   {
    "duration": 405,
    "start_time": "2023-09-01T19:51:19.390Z"
   },
   {
    "duration": 13,
    "start_time": "2023-09-01T19:51:19.798Z"
   },
   {
    "duration": 9,
    "start_time": "2023-09-01T19:51:19.812Z"
   },
   {
    "duration": 25,
    "start_time": "2023-09-01T19:51:19.822Z"
   },
   {
    "duration": 13,
    "start_time": "2023-09-01T19:51:19.848Z"
   },
   {
    "duration": 14,
    "start_time": "2023-09-01T19:51:19.862Z"
   },
   {
    "duration": 4,
    "start_time": "2023-09-01T19:51:19.877Z"
   },
   {
    "duration": 7,
    "start_time": "2023-09-01T19:51:19.883Z"
   },
   {
    "duration": 4,
    "start_time": "2023-09-01T19:51:19.892Z"
   },
   {
    "duration": 5,
    "start_time": "2023-09-01T19:51:19.898Z"
   },
   {
    "duration": 1131,
    "start_time": "2023-09-01T19:56:11.189Z"
   },
   {
    "duration": 87,
    "start_time": "2023-09-01T19:56:12.322Z"
   },
   {
    "duration": 4,
    "start_time": "2023-09-01T19:56:12.411Z"
   },
   {
    "duration": 492,
    "start_time": "2023-09-01T19:56:12.417Z"
   },
   {
    "duration": 3,
    "start_time": "2023-09-01T19:56:12.911Z"
   },
   {
    "duration": 9,
    "start_time": "2023-09-01T19:56:12.916Z"
   },
   {
    "duration": 11,
    "start_time": "2023-09-01T19:56:12.927Z"
   },
   {
    "duration": 5,
    "start_time": "2023-09-01T19:56:12.940Z"
   },
   {
    "duration": 10,
    "start_time": "2023-09-01T19:56:12.950Z"
   },
   {
    "duration": 4,
    "start_time": "2023-09-01T19:56:12.962Z"
   },
   {
    "duration": 12,
    "start_time": "2023-09-01T19:56:12.967Z"
   },
   {
    "duration": 11,
    "start_time": "2023-09-01T19:56:12.981Z"
   },
   {
    "duration": 13,
    "start_time": "2023-09-01T19:56:12.993Z"
   },
   {
    "duration": 13,
    "start_time": "2023-09-01T19:56:13.007Z"
   },
   {
    "duration": 29,
    "start_time": "2023-09-01T19:56:13.021Z"
   },
   {
    "duration": 5,
    "start_time": "2023-09-01T19:56:13.059Z"
   },
   {
    "duration": 282,
    "start_time": "2023-09-01T19:56:13.066Z"
   },
   {
    "duration": 405,
    "start_time": "2023-09-01T19:56:13.354Z"
   },
   {
    "duration": 397,
    "start_time": "2023-09-01T19:56:13.761Z"
   },
   {
    "duration": 499,
    "start_time": "2023-09-01T19:56:14.160Z"
   },
   {
    "duration": 410,
    "start_time": "2023-09-01T19:56:14.660Z"
   },
   {
    "duration": 774,
    "start_time": "2023-09-01T19:56:15.073Z"
   },
   {
    "duration": 314,
    "start_time": "2023-09-01T19:56:15.849Z"
   },
   {
    "duration": 136,
    "start_time": "2023-09-01T19:56:16.165Z"
   },
   {
    "duration": 180,
    "start_time": "2023-09-01T19:56:16.303Z"
   },
   {
    "duration": 166,
    "start_time": "2023-09-01T19:56:16.485Z"
   },
   {
    "duration": 465,
    "start_time": "2023-09-01T19:56:16.653Z"
   },
   {
    "duration": 27,
    "start_time": "2023-09-01T19:56:17.121Z"
   },
   {
    "duration": 9,
    "start_time": "2023-09-01T19:56:17.154Z"
   },
   {
    "duration": 19,
    "start_time": "2023-09-01T19:56:17.165Z"
   },
   {
    "duration": 11,
    "start_time": "2023-09-01T19:56:17.186Z"
   },
   {
    "duration": 16,
    "start_time": "2023-09-01T19:56:17.198Z"
   },
   {
    "duration": 5,
    "start_time": "2023-09-01T19:56:17.216Z"
   },
   {
    "duration": 32,
    "start_time": "2023-09-01T19:56:17.222Z"
   },
   {
    "duration": 6,
    "start_time": "2023-09-01T19:56:17.259Z"
   },
   {
    "duration": 7,
    "start_time": "2023-09-01T19:56:17.266Z"
   },
   {
    "duration": 1082,
    "start_time": "2023-09-01T19:57:40.176Z"
   },
   {
    "duration": 74,
    "start_time": "2023-09-01T19:57:41.260Z"
   },
   {
    "duration": 3,
    "start_time": "2023-09-01T19:57:41.336Z"
   },
   {
    "duration": 507,
    "start_time": "2023-09-01T19:57:41.342Z"
   },
   {
    "duration": 3,
    "start_time": "2023-09-01T19:57:41.851Z"
   },
   {
    "duration": 6,
    "start_time": "2023-09-01T19:57:41.856Z"
   },
   {
    "duration": 14,
    "start_time": "2023-09-01T19:57:41.863Z"
   },
   {
    "duration": 10,
    "start_time": "2023-09-01T19:57:41.878Z"
   },
   {
    "duration": 5,
    "start_time": "2023-09-01T19:57:41.889Z"
   },
   {
    "duration": 4,
    "start_time": "2023-09-01T19:57:41.896Z"
   },
   {
    "duration": 18,
    "start_time": "2023-09-01T19:57:41.901Z"
   },
   {
    "duration": 46,
    "start_time": "2023-09-01T19:57:41.920Z"
   },
   {
    "duration": 10,
    "start_time": "2023-09-01T19:57:41.967Z"
   },
   {
    "duration": 16,
    "start_time": "2023-09-01T19:57:41.978Z"
   },
   {
    "duration": 9,
    "start_time": "2023-09-01T19:57:41.996Z"
   },
   {
    "duration": 7,
    "start_time": "2023-09-01T19:57:42.006Z"
   },
   {
    "duration": 443,
    "start_time": "2023-09-01T19:57:42.015Z"
   },
   {
    "duration": 409,
    "start_time": "2023-09-01T19:57:42.460Z"
   },
   {
    "duration": 407,
    "start_time": "2023-09-01T19:57:42.871Z"
   },
   {
    "duration": 434,
    "start_time": "2023-09-01T19:57:43.279Z"
   },
   {
    "duration": 361,
    "start_time": "2023-09-01T19:57:43.715Z"
   },
   {
    "duration": 766,
    "start_time": "2023-09-01T19:57:44.078Z"
   },
   {
    "duration": 290,
    "start_time": "2023-09-01T19:57:44.847Z"
   },
   {
    "duration": 126,
    "start_time": "2023-09-01T19:57:45.139Z"
   },
   {
    "duration": 166,
    "start_time": "2023-09-01T19:57:45.267Z"
   },
   {
    "duration": 160,
    "start_time": "2023-09-01T19:57:45.434Z"
   },
   {
    "duration": 437,
    "start_time": "2023-09-01T19:57:45.596Z"
   },
   {
    "duration": 30,
    "start_time": "2023-09-01T19:57:46.036Z"
   },
   {
    "duration": 15,
    "start_time": "2023-09-01T19:57:46.068Z"
   },
   {
    "duration": 22,
    "start_time": "2023-09-01T19:57:46.085Z"
   },
   {
    "duration": 9,
    "start_time": "2023-09-01T19:57:46.109Z"
   },
   {
    "duration": 14,
    "start_time": "2023-09-01T19:57:46.119Z"
   },
   {
    "duration": 5,
    "start_time": "2023-09-01T19:57:46.135Z"
   },
   {
    "duration": 11,
    "start_time": "2023-09-01T19:57:46.144Z"
   },
   {
    "duration": 9,
    "start_time": "2023-09-01T19:57:46.157Z"
   },
   {
    "duration": 6,
    "start_time": "2023-09-01T19:57:46.168Z"
   },
   {
    "duration": 53,
    "start_time": "2023-09-04T08:51:49.437Z"
   },
   {
    "duration": 1400,
    "start_time": "2023-09-04T08:51:55.822Z"
   },
   {
    "duration": 190,
    "start_time": "2023-09-04T08:51:57.224Z"
   },
   {
    "duration": 4,
    "start_time": "2023-09-04T08:51:57.416Z"
   },
   {
    "duration": 821,
    "start_time": "2023-09-04T08:51:57.422Z"
   },
   {
    "duration": 3,
    "start_time": "2023-09-04T08:51:58.244Z"
   },
   {
    "duration": 28,
    "start_time": "2023-09-04T08:51:58.249Z"
   },
   {
    "duration": 44,
    "start_time": "2023-09-04T08:51:58.279Z"
   },
   {
    "duration": 9,
    "start_time": "2023-09-04T08:51:58.325Z"
   },
   {
    "duration": 8,
    "start_time": "2023-09-04T08:51:58.336Z"
   },
   {
    "duration": 4,
    "start_time": "2023-09-04T08:51:58.347Z"
   },
   {
    "duration": 18,
    "start_time": "2023-09-04T08:51:58.353Z"
   },
   {
    "duration": 17,
    "start_time": "2023-09-04T08:51:58.373Z"
   },
   {
    "duration": 11,
    "start_time": "2023-09-04T08:51:58.392Z"
   },
   {
    "duration": 116,
    "start_time": "2023-09-04T08:51:58.404Z"
   },
   {
    "duration": 0,
    "start_time": "2023-09-04T08:51:58.522Z"
   },
   {
    "duration": 0,
    "start_time": "2023-09-04T08:51:58.523Z"
   },
   {
    "duration": 0,
    "start_time": "2023-09-04T08:51:58.524Z"
   },
   {
    "duration": 0,
    "start_time": "2023-09-04T08:51:58.525Z"
   },
   {
    "duration": 0,
    "start_time": "2023-09-04T08:51:58.526Z"
   },
   {
    "duration": 0,
    "start_time": "2023-09-04T08:51:58.527Z"
   },
   {
    "duration": 1,
    "start_time": "2023-09-04T08:51:58.528Z"
   },
   {
    "duration": 0,
    "start_time": "2023-09-04T08:51:58.530Z"
   },
   {
    "duration": 0,
    "start_time": "2023-09-04T08:51:58.531Z"
   },
   {
    "duration": 0,
    "start_time": "2023-09-04T08:51:58.532Z"
   },
   {
    "duration": 0,
    "start_time": "2023-09-04T08:51:58.534Z"
   },
   {
    "duration": 0,
    "start_time": "2023-09-04T08:51:58.535Z"
   },
   {
    "duration": 0,
    "start_time": "2023-09-04T08:51:58.536Z"
   },
   {
    "duration": 0,
    "start_time": "2023-09-04T08:51:58.537Z"
   },
   {
    "duration": 0,
    "start_time": "2023-09-04T08:51:58.538Z"
   },
   {
    "duration": 0,
    "start_time": "2023-09-04T08:51:58.539Z"
   },
   {
    "duration": 0,
    "start_time": "2023-09-04T08:51:58.540Z"
   },
   {
    "duration": 0,
    "start_time": "2023-09-04T08:51:58.541Z"
   },
   {
    "duration": 0,
    "start_time": "2023-09-04T08:51:58.542Z"
   },
   {
    "duration": 0,
    "start_time": "2023-09-04T08:51:58.544Z"
   },
   {
    "duration": 0,
    "start_time": "2023-09-04T08:51:58.580Z"
   },
   {
    "duration": 0,
    "start_time": "2023-09-04T08:51:58.582Z"
   },
   {
    "duration": 0,
    "start_time": "2023-09-04T08:51:58.583Z"
   },
   {
    "duration": 1247,
    "start_time": "2023-09-04T08:52:14.851Z"
   },
   {
    "duration": 76,
    "start_time": "2023-09-04T08:52:16.100Z"
   },
   {
    "duration": 4,
    "start_time": "2023-09-04T08:52:16.178Z"
   },
   {
    "duration": 1178,
    "start_time": "2023-09-04T08:52:16.184Z"
   },
   {
    "duration": 3,
    "start_time": "2023-09-04T08:52:17.364Z"
   },
   {
    "duration": 26,
    "start_time": "2023-09-04T08:52:17.368Z"
   },
   {
    "duration": 14,
    "start_time": "2023-09-04T08:52:17.396Z"
   },
   {
    "duration": 7,
    "start_time": "2023-09-04T08:52:17.411Z"
   },
   {
    "duration": 11,
    "start_time": "2023-09-04T08:52:17.420Z"
   },
   {
    "duration": 9,
    "start_time": "2023-09-04T08:52:17.432Z"
   },
   {
    "duration": 33,
    "start_time": "2023-09-04T08:52:17.442Z"
   },
   {
    "duration": 13,
    "start_time": "2023-09-04T08:52:17.477Z"
   },
   {
    "duration": 15,
    "start_time": "2023-09-04T08:52:17.492Z"
   },
   {
    "duration": 113,
    "start_time": "2023-09-04T08:52:17.510Z"
   },
   {
    "duration": 0,
    "start_time": "2023-09-04T08:52:17.624Z"
   },
   {
    "duration": 0,
    "start_time": "2023-09-04T08:52:17.626Z"
   },
   {
    "duration": 0,
    "start_time": "2023-09-04T08:52:17.627Z"
   },
   {
    "duration": 0,
    "start_time": "2023-09-04T08:52:17.628Z"
   },
   {
    "duration": 0,
    "start_time": "2023-09-04T08:52:17.629Z"
   },
   {
    "duration": 0,
    "start_time": "2023-09-04T08:52:17.630Z"
   },
   {
    "duration": 0,
    "start_time": "2023-09-04T08:52:17.631Z"
   },
   {
    "duration": 0,
    "start_time": "2023-09-04T08:52:17.633Z"
   },
   {
    "duration": 0,
    "start_time": "2023-09-04T08:52:17.634Z"
   },
   {
    "duration": 0,
    "start_time": "2023-09-04T08:52:17.635Z"
   },
   {
    "duration": 0,
    "start_time": "2023-09-04T08:52:17.636Z"
   },
   {
    "duration": 0,
    "start_time": "2023-09-04T08:52:17.637Z"
   },
   {
    "duration": 0,
    "start_time": "2023-09-04T08:52:17.639Z"
   },
   {
    "duration": 0,
    "start_time": "2023-09-04T08:52:17.639Z"
   },
   {
    "duration": 0,
    "start_time": "2023-09-04T08:52:17.640Z"
   },
   {
    "duration": 0,
    "start_time": "2023-09-04T08:52:17.642Z"
   },
   {
    "duration": 0,
    "start_time": "2023-09-04T08:52:17.643Z"
   },
   {
    "duration": 0,
    "start_time": "2023-09-04T08:52:17.644Z"
   },
   {
    "duration": 0,
    "start_time": "2023-09-04T08:52:17.644Z"
   },
   {
    "duration": 0,
    "start_time": "2023-09-04T08:52:17.645Z"
   },
   {
    "duration": 0,
    "start_time": "2023-09-04T08:52:17.646Z"
   },
   {
    "duration": 0,
    "start_time": "2023-09-04T08:52:17.647Z"
   },
   {
    "duration": 0,
    "start_time": "2023-09-04T08:52:17.681Z"
   },
   {
    "duration": 1241,
    "start_time": "2023-09-04T08:52:26.110Z"
   },
   {
    "duration": 75,
    "start_time": "2023-09-04T08:52:27.353Z"
   },
   {
    "duration": 4,
    "start_time": "2023-09-04T08:52:27.430Z"
   },
   {
    "duration": 1014,
    "start_time": "2023-09-04T08:52:27.435Z"
   },
   {
    "duration": 3,
    "start_time": "2023-09-04T08:52:28.452Z"
   },
   {
    "duration": 11,
    "start_time": "2023-09-04T08:52:28.457Z"
   },
   {
    "duration": 16,
    "start_time": "2023-09-04T08:52:28.470Z"
   },
   {
    "duration": 19,
    "start_time": "2023-09-04T08:52:28.488Z"
   },
   {
    "duration": 20,
    "start_time": "2023-09-04T08:52:28.509Z"
   },
   {
    "duration": 18,
    "start_time": "2023-09-04T08:52:28.531Z"
   },
   {
    "duration": 15,
    "start_time": "2023-09-04T08:52:28.550Z"
   },
   {
    "duration": 12,
    "start_time": "2023-09-04T08:52:28.567Z"
   },
   {
    "duration": 23,
    "start_time": "2023-09-04T08:52:28.580Z"
   },
   {
    "duration": 108,
    "start_time": "2023-09-04T08:52:28.607Z"
   },
   {
    "duration": 0,
    "start_time": "2023-09-04T08:52:28.717Z"
   },
   {
    "duration": 0,
    "start_time": "2023-09-04T08:52:28.718Z"
   },
   {
    "duration": 0,
    "start_time": "2023-09-04T08:52:28.720Z"
   },
   {
    "duration": 0,
    "start_time": "2023-09-04T08:52:28.721Z"
   },
   {
    "duration": 0,
    "start_time": "2023-09-04T08:52:28.722Z"
   },
   {
    "duration": 0,
    "start_time": "2023-09-04T08:52:28.724Z"
   },
   {
    "duration": 0,
    "start_time": "2023-09-04T08:52:28.725Z"
   },
   {
    "duration": 0,
    "start_time": "2023-09-04T08:52:28.727Z"
   },
   {
    "duration": 0,
    "start_time": "2023-09-04T08:52:28.729Z"
   },
   {
    "duration": 0,
    "start_time": "2023-09-04T08:52:28.730Z"
   },
   {
    "duration": 0,
    "start_time": "2023-09-04T08:52:28.732Z"
   },
   {
    "duration": 0,
    "start_time": "2023-09-04T08:52:28.733Z"
   },
   {
    "duration": 0,
    "start_time": "2023-09-04T08:52:28.734Z"
   },
   {
    "duration": 0,
    "start_time": "2023-09-04T08:52:28.736Z"
   },
   {
    "duration": 0,
    "start_time": "2023-09-04T08:52:28.738Z"
   },
   {
    "duration": 0,
    "start_time": "2023-09-04T08:52:28.739Z"
   },
   {
    "duration": 1,
    "start_time": "2023-09-04T08:52:28.740Z"
   },
   {
    "duration": 0,
    "start_time": "2023-09-04T08:52:28.741Z"
   },
   {
    "duration": 0,
    "start_time": "2023-09-04T08:52:28.742Z"
   },
   {
    "duration": 0,
    "start_time": "2023-09-04T08:52:28.743Z"
   },
   {
    "duration": 0,
    "start_time": "2023-09-04T08:52:28.744Z"
   },
   {
    "duration": 0,
    "start_time": "2023-09-04T08:52:28.781Z"
   },
   {
    "duration": 0,
    "start_time": "2023-09-04T08:52:28.782Z"
   },
   {
    "duration": 13,
    "start_time": "2023-09-04T08:53:08.831Z"
   },
   {
    "duration": 14,
    "start_time": "2023-09-04T08:53:17.313Z"
   },
   {
    "duration": 21,
    "start_time": "2023-09-04T08:53:26.969Z"
   },
   {
    "duration": 223,
    "start_time": "2023-09-04T09:00:39.415Z"
   },
   {
    "duration": 12,
    "start_time": "2023-09-04T09:01:01.311Z"
   },
   {
    "duration": 12,
    "start_time": "2023-09-04T09:01:10.831Z"
   },
   {
    "duration": 13,
    "start_time": "2023-09-04T09:04:51.339Z"
   },
   {
    "duration": 13,
    "start_time": "2023-09-04T09:26:58.802Z"
   },
   {
    "duration": 1280,
    "start_time": "2023-09-04T09:27:04.945Z"
   },
   {
    "duration": 75,
    "start_time": "2023-09-04T09:27:06.227Z"
   },
   {
    "duration": 4,
    "start_time": "2023-09-04T09:27:06.304Z"
   },
   {
    "duration": 622,
    "start_time": "2023-09-04T09:27:06.309Z"
   },
   {
    "duration": 3,
    "start_time": "2023-09-04T09:27:06.934Z"
   },
   {
    "duration": 45,
    "start_time": "2023-09-04T09:27:06.938Z"
   },
   {
    "duration": 38,
    "start_time": "2023-09-04T09:27:06.985Z"
   },
   {
    "duration": 33,
    "start_time": "2023-09-04T09:27:07.024Z"
   },
   {
    "duration": 38,
    "start_time": "2023-09-04T09:27:07.058Z"
   },
   {
    "duration": 12,
    "start_time": "2023-09-04T09:27:07.098Z"
   },
   {
    "duration": 36,
    "start_time": "2023-09-04T09:27:07.112Z"
   },
   {
    "duration": 19,
    "start_time": "2023-09-04T09:27:07.150Z"
   },
   {
    "duration": 20,
    "start_time": "2023-09-04T09:27:07.170Z"
   },
   {
    "duration": 49,
    "start_time": "2023-09-04T09:27:07.194Z"
   },
   {
    "duration": 17,
    "start_time": "2023-09-04T09:27:07.245Z"
   },
   {
    "duration": 11,
    "start_time": "2023-09-04T09:27:07.264Z"
   },
   {
    "duration": 340,
    "start_time": "2023-09-04T09:27:07.277Z"
   },
   {
    "duration": 482,
    "start_time": "2023-09-04T09:27:07.618Z"
   },
   {
    "duration": 420,
    "start_time": "2023-09-04T09:27:08.101Z"
   },
   {
    "duration": 489,
    "start_time": "2023-09-04T09:27:08.523Z"
   },
   {
    "duration": 423,
    "start_time": "2023-09-04T09:27:09.014Z"
   },
   {
    "duration": 789,
    "start_time": "2023-09-04T09:27:09.439Z"
   },
   {
    "duration": 327,
    "start_time": "2023-09-04T09:27:10.229Z"
   },
   {
    "duration": 140,
    "start_time": "2023-09-04T09:27:10.558Z"
   },
   {
    "duration": 193,
    "start_time": "2023-09-04T09:27:10.700Z"
   },
   {
    "duration": 176,
    "start_time": "2023-09-04T09:27:10.895Z"
   },
   {
    "duration": 482,
    "start_time": "2023-09-04T09:27:11.081Z"
   },
   {
    "duration": 25,
    "start_time": "2023-09-04T09:27:11.565Z"
   },
   {
    "duration": 27,
    "start_time": "2023-09-04T09:27:11.592Z"
   },
   {
    "duration": 38,
    "start_time": "2023-09-04T09:27:11.621Z"
   },
   {
    "duration": 10,
    "start_time": "2023-09-04T09:27:11.661Z"
   },
   {
    "duration": 17,
    "start_time": "2023-09-04T09:27:11.673Z"
   },
   {
    "duration": 6,
    "start_time": "2023-09-04T09:27:11.692Z"
   },
   {
    "duration": 16,
    "start_time": "2023-09-04T09:27:11.700Z"
   },
   {
    "duration": 10,
    "start_time": "2023-09-04T09:27:11.718Z"
   },
   {
    "duration": 11,
    "start_time": "2023-09-04T09:27:11.729Z"
   },
   {
    "duration": 12,
    "start_time": "2023-09-04T09:54:19.411Z"
   },
   {
    "duration": 1213,
    "start_time": "2023-09-04T09:54:37.294Z"
   },
   {
    "duration": 76,
    "start_time": "2023-09-04T09:54:38.509Z"
   },
   {
    "duration": 4,
    "start_time": "2023-09-04T09:54:38.587Z"
   },
   {
    "duration": 628,
    "start_time": "2023-09-04T09:54:38.592Z"
   },
   {
    "duration": 3,
    "start_time": "2023-09-04T09:54:39.222Z"
   },
   {
    "duration": 10,
    "start_time": "2023-09-04T09:54:39.226Z"
   },
   {
    "duration": 19,
    "start_time": "2023-09-04T09:54:39.238Z"
   },
   {
    "duration": 9,
    "start_time": "2023-09-04T09:54:39.259Z"
   },
   {
    "duration": 10,
    "start_time": "2023-09-04T09:54:39.269Z"
   },
   {
    "duration": 6,
    "start_time": "2023-09-04T09:54:39.280Z"
   },
   {
    "duration": 16,
    "start_time": "2023-09-04T09:54:39.287Z"
   },
   {
    "duration": 13,
    "start_time": "2023-09-04T09:54:39.305Z"
   },
   {
    "duration": 16,
    "start_time": "2023-09-04T09:54:39.320Z"
   },
   {
    "duration": 18,
    "start_time": "2023-09-04T09:54:39.339Z"
   },
   {
    "duration": 29,
    "start_time": "2023-09-04T09:54:39.359Z"
   },
   {
    "duration": 4,
    "start_time": "2023-09-04T09:54:39.389Z"
   },
   {
    "duration": 328,
    "start_time": "2023-09-04T09:54:39.395Z"
   },
   {
    "duration": 473,
    "start_time": "2023-09-04T09:54:39.725Z"
   },
   {
    "duration": 429,
    "start_time": "2023-09-04T09:54:40.200Z"
   },
   {
    "duration": 484,
    "start_time": "2023-09-04T09:54:40.631Z"
   },
   {
    "duration": 400,
    "start_time": "2023-09-04T09:54:41.118Z"
   },
   {
    "duration": 792,
    "start_time": "2023-09-04T09:54:41.520Z"
   },
   {
    "duration": 308,
    "start_time": "2023-09-04T09:54:42.314Z"
   },
   {
    "duration": 143,
    "start_time": "2023-09-04T09:54:42.624Z"
   },
   {
    "duration": 200,
    "start_time": "2023-09-04T09:54:42.769Z"
   },
   {
    "duration": 173,
    "start_time": "2023-09-04T09:54:42.972Z"
   },
   {
    "duration": 491,
    "start_time": "2023-09-04T09:54:43.147Z"
   },
   {
    "duration": 16,
    "start_time": "2023-09-04T09:54:43.640Z"
   },
   {
    "duration": 30,
    "start_time": "2023-09-04T09:54:43.658Z"
   },
   {
    "duration": 12,
    "start_time": "2023-09-04T09:54:43.689Z"
   },
   {
    "duration": 9,
    "start_time": "2023-09-04T09:54:43.702Z"
   },
   {
    "duration": 20,
    "start_time": "2023-09-04T09:54:43.713Z"
   },
   {
    "duration": 5,
    "start_time": "2023-09-04T09:54:43.735Z"
   },
   {
    "duration": 10,
    "start_time": "2023-09-04T09:54:43.742Z"
   },
   {
    "duration": 33,
    "start_time": "2023-09-04T09:54:43.754Z"
   },
   {
    "duration": 7,
    "start_time": "2023-09-04T09:54:43.789Z"
   },
   {
    "duration": 1235,
    "start_time": "2023-09-04T10:09:09.892Z"
   },
   {
    "duration": 93,
    "start_time": "2023-09-04T10:09:11.129Z"
   },
   {
    "duration": 5,
    "start_time": "2023-09-04T10:09:11.224Z"
   },
   {
    "duration": 662,
    "start_time": "2023-09-04T10:09:11.231Z"
   },
   {
    "duration": 3,
    "start_time": "2023-09-04T10:09:11.896Z"
   },
   {
    "duration": 12,
    "start_time": "2023-09-04T10:09:11.901Z"
   },
   {
    "duration": 35,
    "start_time": "2023-09-04T10:09:11.914Z"
   },
   {
    "duration": 23,
    "start_time": "2023-09-04T10:09:11.951Z"
   },
   {
    "duration": 12,
    "start_time": "2023-09-04T10:09:11.975Z"
   },
   {
    "duration": 18,
    "start_time": "2023-09-04T10:09:11.990Z"
   },
   {
    "duration": 32,
    "start_time": "2023-09-04T10:09:12.010Z"
   },
   {
    "duration": 19,
    "start_time": "2023-09-04T10:09:12.044Z"
   },
   {
    "duration": 29,
    "start_time": "2023-09-04T10:09:12.064Z"
   },
   {
    "duration": 14,
    "start_time": "2023-09-04T10:09:12.095Z"
   },
   {
    "duration": 19,
    "start_time": "2023-09-04T10:09:12.110Z"
   },
   {
    "duration": 14,
    "start_time": "2023-09-04T10:09:12.130Z"
   },
   {
    "duration": 333,
    "start_time": "2023-09-04T10:09:12.146Z"
   },
   {
    "duration": 484,
    "start_time": "2023-09-04T10:09:12.481Z"
   },
   {
    "duration": 439,
    "start_time": "2023-09-04T10:09:12.966Z"
   },
   {
    "duration": 522,
    "start_time": "2023-09-04T10:09:13.407Z"
   },
   {
    "duration": 415,
    "start_time": "2023-09-04T10:09:13.931Z"
   },
   {
    "duration": 810,
    "start_time": "2023-09-04T10:09:14.349Z"
   },
   {
    "duration": 312,
    "start_time": "2023-09-04T10:09:15.160Z"
   },
   {
    "duration": 134,
    "start_time": "2023-09-04T10:09:15.474Z"
   },
   {
    "duration": 188,
    "start_time": "2023-09-04T10:09:15.610Z"
   },
   {
    "duration": 196,
    "start_time": "2023-09-04T10:09:15.801Z"
   },
   {
    "duration": 516,
    "start_time": "2023-09-04T10:09:15.999Z"
   },
   {
    "duration": 16,
    "start_time": "2023-09-04T10:09:16.520Z"
   },
   {
    "duration": 41,
    "start_time": "2023-09-04T10:09:16.538Z"
   },
   {
    "duration": 70,
    "start_time": "2023-09-04T10:09:16.581Z"
   },
   {
    "duration": 27,
    "start_time": "2023-09-04T10:09:16.653Z"
   },
   {
    "duration": 52,
    "start_time": "2023-09-04T10:09:16.682Z"
   },
   {
    "duration": 24,
    "start_time": "2023-09-04T10:09:16.736Z"
   },
   {
    "duration": 33,
    "start_time": "2023-09-04T10:09:16.762Z"
   },
   {
    "duration": 40,
    "start_time": "2023-09-04T10:09:16.797Z"
   },
   {
    "duration": 50,
    "start_time": "2023-09-04T10:09:16.839Z"
   },
   {
    "duration": 93,
    "start_time": "2023-09-04T10:14:27.259Z"
   },
   {
    "duration": 13,
    "start_time": "2023-09-04T10:14:40.258Z"
   },
   {
    "duration": 14,
    "start_time": "2023-09-04T10:17:19.670Z"
   },
   {
    "duration": 13,
    "start_time": "2023-09-04T10:18:09.376Z"
   },
   {
    "duration": 1230,
    "start_time": "2023-09-04T11:26:28.085Z"
   },
   {
    "duration": 76,
    "start_time": "2023-09-04T11:26:29.317Z"
   },
   {
    "duration": 3,
    "start_time": "2023-09-04T11:26:29.394Z"
   },
   {
    "duration": 1046,
    "start_time": "2023-09-04T11:26:29.399Z"
   },
   {
    "duration": 4,
    "start_time": "2023-09-04T11:26:30.447Z"
   },
   {
    "duration": 34,
    "start_time": "2023-09-04T11:26:30.453Z"
   },
   {
    "duration": 52,
    "start_time": "2023-09-04T11:26:30.489Z"
   },
   {
    "duration": 20,
    "start_time": "2023-09-04T11:26:30.543Z"
   },
   {
    "duration": 32,
    "start_time": "2023-09-04T11:26:30.564Z"
   },
   {
    "duration": 34,
    "start_time": "2023-09-04T11:26:30.598Z"
   },
   {
    "duration": 150,
    "start_time": "2023-09-04T11:26:30.634Z"
   },
   {
    "duration": 0,
    "start_time": "2023-09-04T11:26:30.788Z"
   },
   {
    "duration": 0,
    "start_time": "2023-09-04T11:26:30.789Z"
   },
   {
    "duration": 0,
    "start_time": "2023-09-04T11:26:30.790Z"
   },
   {
    "duration": 0,
    "start_time": "2023-09-04T11:26:30.791Z"
   },
   {
    "duration": 0,
    "start_time": "2023-09-04T11:26:30.792Z"
   },
   {
    "duration": 0,
    "start_time": "2023-09-04T11:26:30.793Z"
   },
   {
    "duration": 0,
    "start_time": "2023-09-04T11:26:30.794Z"
   },
   {
    "duration": 0,
    "start_time": "2023-09-04T11:26:30.795Z"
   },
   {
    "duration": 0,
    "start_time": "2023-09-04T11:26:30.796Z"
   },
   {
    "duration": 0,
    "start_time": "2023-09-04T11:26:30.797Z"
   },
   {
    "duration": 0,
    "start_time": "2023-09-04T11:26:30.798Z"
   },
   {
    "duration": 0,
    "start_time": "2023-09-04T11:26:30.799Z"
   },
   {
    "duration": 0,
    "start_time": "2023-09-04T11:26:30.800Z"
   },
   {
    "duration": 0,
    "start_time": "2023-09-04T11:26:30.801Z"
   },
   {
    "duration": 0,
    "start_time": "2023-09-04T11:26:30.802Z"
   },
   {
    "duration": 0,
    "start_time": "2023-09-04T11:26:30.803Z"
   },
   {
    "duration": 0,
    "start_time": "2023-09-04T11:26:30.803Z"
   },
   {
    "duration": 0,
    "start_time": "2023-09-04T11:26:30.805Z"
   },
   {
    "duration": 0,
    "start_time": "2023-09-04T11:26:30.806Z"
   },
   {
    "duration": 0,
    "start_time": "2023-09-04T11:26:30.806Z"
   },
   {
    "duration": 0,
    "start_time": "2023-09-04T11:26:30.807Z"
   },
   {
    "duration": 0,
    "start_time": "2023-09-04T11:26:30.808Z"
   },
   {
    "duration": 0,
    "start_time": "2023-09-04T11:26:30.809Z"
   },
   {
    "duration": 0,
    "start_time": "2023-09-04T11:26:30.810Z"
   },
   {
    "duration": 0,
    "start_time": "2023-09-04T11:26:30.811Z"
   },
   {
    "duration": 0,
    "start_time": "2023-09-04T11:26:30.812Z"
   },
   {
    "duration": 1196,
    "start_time": "2023-09-04T11:32:19.723Z"
   },
   {
    "duration": 75,
    "start_time": "2023-09-04T11:32:20.921Z"
   },
   {
    "duration": 4,
    "start_time": "2023-09-04T11:32:20.998Z"
   },
   {
    "duration": 1165,
    "start_time": "2023-09-04T11:32:21.004Z"
   },
   {
    "duration": 3,
    "start_time": "2023-09-04T11:32:22.170Z"
   },
   {
    "duration": 43,
    "start_time": "2023-09-04T11:32:22.175Z"
   },
   {
    "duration": 42,
    "start_time": "2023-09-04T11:32:22.219Z"
   },
   {
    "duration": 41,
    "start_time": "2023-09-04T11:32:22.262Z"
   },
   {
    "duration": 26,
    "start_time": "2023-09-04T11:32:22.305Z"
   },
   {
    "duration": 45,
    "start_time": "2023-09-04T11:32:22.334Z"
   },
   {
    "duration": 153,
    "start_time": "2023-09-04T11:32:22.381Z"
   },
   {
    "duration": 0,
    "start_time": "2023-09-04T11:32:22.581Z"
   },
   {
    "duration": 0,
    "start_time": "2023-09-04T11:32:22.582Z"
   },
   {
    "duration": 0,
    "start_time": "2023-09-04T11:32:22.583Z"
   },
   {
    "duration": 0,
    "start_time": "2023-09-04T11:32:22.585Z"
   },
   {
    "duration": 0,
    "start_time": "2023-09-04T11:32:22.586Z"
   },
   {
    "duration": 0,
    "start_time": "2023-09-04T11:32:22.587Z"
   },
   {
    "duration": 0,
    "start_time": "2023-09-04T11:32:22.588Z"
   },
   {
    "duration": 0,
    "start_time": "2023-09-04T11:32:22.589Z"
   },
   {
    "duration": 0,
    "start_time": "2023-09-04T11:32:22.590Z"
   },
   {
    "duration": 0,
    "start_time": "2023-09-04T11:32:22.591Z"
   },
   {
    "duration": 0,
    "start_time": "2023-09-04T11:32:22.592Z"
   },
   {
    "duration": 0,
    "start_time": "2023-09-04T11:32:22.593Z"
   },
   {
    "duration": 0,
    "start_time": "2023-09-04T11:32:22.594Z"
   },
   {
    "duration": 0,
    "start_time": "2023-09-04T11:32:22.595Z"
   },
   {
    "duration": 0,
    "start_time": "2023-09-04T11:32:22.596Z"
   },
   {
    "duration": 0,
    "start_time": "2023-09-04T11:32:22.597Z"
   },
   {
    "duration": 0,
    "start_time": "2023-09-04T11:32:22.598Z"
   },
   {
    "duration": 0,
    "start_time": "2023-09-04T11:32:22.599Z"
   },
   {
    "duration": 0,
    "start_time": "2023-09-04T11:32:22.600Z"
   },
   {
    "duration": 0,
    "start_time": "2023-09-04T11:32:22.601Z"
   },
   {
    "duration": 0,
    "start_time": "2023-09-04T11:32:22.602Z"
   },
   {
    "duration": 0,
    "start_time": "2023-09-04T11:32:22.603Z"
   },
   {
    "duration": 0,
    "start_time": "2023-09-04T11:32:22.604Z"
   },
   {
    "duration": 0,
    "start_time": "2023-09-04T11:32:22.605Z"
   },
   {
    "duration": 0,
    "start_time": "2023-09-04T11:32:22.606Z"
   },
   {
    "duration": 0,
    "start_time": "2023-09-04T11:32:22.606Z"
   },
   {
    "duration": 1260,
    "start_time": "2023-09-04T12:30:35.581Z"
   },
   {
    "duration": 83,
    "start_time": "2023-09-04T12:30:36.843Z"
   },
   {
    "duration": 4,
    "start_time": "2023-09-04T12:30:36.928Z"
   },
   {
    "duration": 703,
    "start_time": "2023-09-04T12:30:36.934Z"
   },
   {
    "duration": 3,
    "start_time": "2023-09-04T12:30:37.640Z"
   },
   {
    "duration": 15,
    "start_time": "2023-09-04T12:30:37.645Z"
   },
   {
    "duration": 38,
    "start_time": "2023-09-04T12:30:37.662Z"
   },
   {
    "duration": 15,
    "start_time": "2023-09-04T12:30:37.702Z"
   },
   {
    "duration": 11,
    "start_time": "2023-09-04T12:30:37.719Z"
   },
   {
    "duration": 8,
    "start_time": "2023-09-04T12:30:37.732Z"
   },
   {
    "duration": 127,
    "start_time": "2023-09-04T12:30:37.742Z"
   },
   {
    "duration": 0,
    "start_time": "2023-09-04T12:30:37.871Z"
   },
   {
    "duration": 0,
    "start_time": "2023-09-04T12:30:37.872Z"
   },
   {
    "duration": 0,
    "start_time": "2023-09-04T12:30:37.873Z"
   },
   {
    "duration": 0,
    "start_time": "2023-09-04T12:30:37.882Z"
   },
   {
    "duration": 0,
    "start_time": "2023-09-04T12:30:37.883Z"
   },
   {
    "duration": 0,
    "start_time": "2023-09-04T12:30:37.884Z"
   },
   {
    "duration": 0,
    "start_time": "2023-09-04T12:30:37.887Z"
   },
   {
    "duration": 0,
    "start_time": "2023-09-04T12:30:37.888Z"
   },
   {
    "duration": 0,
    "start_time": "2023-09-04T12:30:37.889Z"
   },
   {
    "duration": 0,
    "start_time": "2023-09-04T12:30:37.890Z"
   },
   {
    "duration": 0,
    "start_time": "2023-09-04T12:30:37.891Z"
   },
   {
    "duration": 0,
    "start_time": "2023-09-04T12:30:37.892Z"
   },
   {
    "duration": 0,
    "start_time": "2023-09-04T12:30:37.894Z"
   },
   {
    "duration": 0,
    "start_time": "2023-09-04T12:30:37.895Z"
   },
   {
    "duration": 0,
    "start_time": "2023-09-04T12:30:37.896Z"
   },
   {
    "duration": 0,
    "start_time": "2023-09-04T12:30:37.897Z"
   },
   {
    "duration": 0,
    "start_time": "2023-09-04T12:30:37.898Z"
   },
   {
    "duration": 0,
    "start_time": "2023-09-04T12:30:37.899Z"
   },
   {
    "duration": 0,
    "start_time": "2023-09-04T12:30:37.901Z"
   },
   {
    "duration": 0,
    "start_time": "2023-09-04T12:30:37.902Z"
   },
   {
    "duration": 0,
    "start_time": "2023-09-04T12:30:37.903Z"
   },
   {
    "duration": 0,
    "start_time": "2023-09-04T12:30:37.905Z"
   },
   {
    "duration": 0,
    "start_time": "2023-09-04T12:30:37.906Z"
   },
   {
    "duration": 0,
    "start_time": "2023-09-04T12:30:37.908Z"
   },
   {
    "duration": 0,
    "start_time": "2023-09-04T12:30:37.908Z"
   },
   {
    "duration": 0,
    "start_time": "2023-09-04T12:30:37.909Z"
   },
   {
    "duration": 80,
    "start_time": "2023-09-04T12:35:11.378Z"
   },
   {
    "duration": 1248,
    "start_time": "2023-09-04T12:36:03.073Z"
   },
   {
    "duration": 75,
    "start_time": "2023-09-04T12:36:04.323Z"
   },
   {
    "duration": 3,
    "start_time": "2023-09-04T12:36:04.400Z"
   },
   {
    "duration": 728,
    "start_time": "2023-09-04T12:36:04.404Z"
   },
   {
    "duration": 4,
    "start_time": "2023-09-04T12:36:05.134Z"
   },
   {
    "duration": 51,
    "start_time": "2023-09-04T12:36:05.139Z"
   },
   {
    "duration": 48,
    "start_time": "2023-09-04T12:36:05.192Z"
   },
   {
    "duration": 44,
    "start_time": "2023-09-04T12:36:05.241Z"
   },
   {
    "duration": 91,
    "start_time": "2023-09-04T12:36:05.286Z"
   },
   {
    "duration": 133,
    "start_time": "2023-09-04T12:36:05.379Z"
   },
   {
    "duration": 130,
    "start_time": "2023-09-04T12:36:05.514Z"
   },
   {
    "duration": 0,
    "start_time": "2023-09-04T12:36:05.646Z"
   },
   {
    "duration": 0,
    "start_time": "2023-09-04T12:36:05.648Z"
   },
   {
    "duration": 0,
    "start_time": "2023-09-04T12:36:05.649Z"
   },
   {
    "duration": 1,
    "start_time": "2023-09-04T12:36:05.649Z"
   },
   {
    "duration": 0,
    "start_time": "2023-09-04T12:36:05.650Z"
   },
   {
    "duration": 0,
    "start_time": "2023-09-04T12:36:05.652Z"
   },
   {
    "duration": 0,
    "start_time": "2023-09-04T12:36:05.652Z"
   },
   {
    "duration": 0,
    "start_time": "2023-09-04T12:36:05.653Z"
   },
   {
    "duration": 0,
    "start_time": "2023-09-04T12:36:05.654Z"
   },
   {
    "duration": 0,
    "start_time": "2023-09-04T12:36:05.656Z"
   },
   {
    "duration": 0,
    "start_time": "2023-09-04T12:36:05.657Z"
   },
   {
    "duration": 0,
    "start_time": "2023-09-04T12:36:05.658Z"
   },
   {
    "duration": 0,
    "start_time": "2023-09-04T12:36:05.659Z"
   },
   {
    "duration": 0,
    "start_time": "2023-09-04T12:36:05.680Z"
   },
   {
    "duration": 0,
    "start_time": "2023-09-04T12:36:05.681Z"
   },
   {
    "duration": 0,
    "start_time": "2023-09-04T12:36:05.683Z"
   },
   {
    "duration": 0,
    "start_time": "2023-09-04T12:36:05.684Z"
   },
   {
    "duration": 0,
    "start_time": "2023-09-04T12:36:05.685Z"
   },
   {
    "duration": 0,
    "start_time": "2023-09-04T12:36:05.686Z"
   },
   {
    "duration": 0,
    "start_time": "2023-09-04T12:36:05.687Z"
   },
   {
    "duration": 0,
    "start_time": "2023-09-04T12:36:05.689Z"
   },
   {
    "duration": 0,
    "start_time": "2023-09-04T12:36:05.690Z"
   },
   {
    "duration": 0,
    "start_time": "2023-09-04T12:36:05.691Z"
   },
   {
    "duration": 0,
    "start_time": "2023-09-04T12:36:05.692Z"
   },
   {
    "duration": 0,
    "start_time": "2023-09-04T12:36:05.694Z"
   },
   {
    "duration": 0,
    "start_time": "2023-09-04T12:36:05.695Z"
   },
   {
    "duration": 15,
    "start_time": "2023-09-04T12:37:11.731Z"
   },
   {
    "duration": 1241,
    "start_time": "2023-09-04T12:38:46.288Z"
   },
   {
    "duration": 76,
    "start_time": "2023-09-04T12:38:47.531Z"
   },
   {
    "duration": 3,
    "start_time": "2023-09-04T12:38:47.609Z"
   },
   {
    "duration": 990,
    "start_time": "2023-09-04T12:38:47.614Z"
   },
   {
    "duration": 3,
    "start_time": "2023-09-04T12:38:48.606Z"
   },
   {
    "duration": 20,
    "start_time": "2023-09-04T12:38:48.610Z"
   },
   {
    "duration": 26,
    "start_time": "2023-09-04T12:38:48.632Z"
   },
   {
    "duration": 31,
    "start_time": "2023-09-04T12:38:48.660Z"
   },
   {
    "duration": 11,
    "start_time": "2023-09-04T12:38:48.693Z"
   },
   {
    "duration": 7,
    "start_time": "2023-09-04T12:38:48.706Z"
   },
   {
    "duration": 19,
    "start_time": "2023-09-04T12:38:48.714Z"
   },
   {
    "duration": 14,
    "start_time": "2023-09-04T12:38:48.734Z"
   },
   {
    "duration": 16,
    "start_time": "2023-09-04T12:38:48.750Z"
   },
   {
    "duration": 10,
    "start_time": "2023-09-04T12:38:48.780Z"
   },
   {
    "duration": 78,
    "start_time": "2023-09-04T12:38:48.792Z"
   },
   {
    "duration": 10,
    "start_time": "2023-09-04T12:38:48.871Z"
   },
   {
    "duration": 21,
    "start_time": "2023-09-04T12:38:48.883Z"
   },
   {
    "duration": 322,
    "start_time": "2023-09-04T12:38:48.905Z"
   },
   {
    "duration": 475,
    "start_time": "2023-09-04T12:38:49.228Z"
   },
   {
    "duration": 432,
    "start_time": "2023-09-04T12:38:49.705Z"
   },
   {
    "duration": 478,
    "start_time": "2023-09-04T12:38:50.139Z"
   },
   {
    "duration": 405,
    "start_time": "2023-09-04T12:38:50.619Z"
   },
   {
    "duration": 797,
    "start_time": "2023-09-04T12:38:51.026Z"
   },
   {
    "duration": 306,
    "start_time": "2023-09-04T12:38:51.825Z"
   },
   {
    "duration": 131,
    "start_time": "2023-09-04T12:38:52.133Z"
   },
   {
    "duration": 190,
    "start_time": "2023-09-04T12:38:52.266Z"
   },
   {
    "duration": 175,
    "start_time": "2023-09-04T12:38:52.458Z"
   },
   {
    "duration": 488,
    "start_time": "2023-09-04T12:38:52.637Z"
   },
   {
    "duration": 14,
    "start_time": "2023-09-04T12:38:53.127Z"
   },
   {
    "duration": 72,
    "start_time": "2023-09-04T12:38:53.143Z"
   },
   {
    "duration": 10,
    "start_time": "2023-09-04T12:38:53.217Z"
   },
   {
    "duration": 13,
    "start_time": "2023-09-04T12:38:53.229Z"
   },
   {
    "duration": 24,
    "start_time": "2023-09-04T12:38:53.243Z"
   },
   {
    "duration": 12,
    "start_time": "2023-09-04T12:38:53.269Z"
   },
   {
    "duration": 28,
    "start_time": "2023-09-04T12:38:53.283Z"
   },
   {
    "duration": 13,
    "start_time": "2023-09-04T12:38:53.313Z"
   },
   {
    "duration": 9,
    "start_time": "2023-09-04T12:38:53.328Z"
   },
   {
    "duration": 199,
    "start_time": "2023-09-04T12:50:13.122Z"
   },
   {
    "duration": 1214,
    "start_time": "2023-09-04T12:50:30.102Z"
   },
   {
    "duration": 76,
    "start_time": "2023-09-04T12:50:31.317Z"
   },
   {
    "duration": 4,
    "start_time": "2023-09-04T12:50:31.395Z"
   },
   {
    "duration": 1268,
    "start_time": "2023-09-04T12:50:31.401Z"
   },
   {
    "duration": 3,
    "start_time": "2023-09-04T12:50:32.671Z"
   },
   {
    "duration": 23,
    "start_time": "2023-09-04T12:50:32.675Z"
   },
   {
    "duration": 18,
    "start_time": "2023-09-04T12:50:32.700Z"
   },
   {
    "duration": 11,
    "start_time": "2023-09-04T12:50:32.720Z"
   },
   {
    "duration": 10,
    "start_time": "2023-09-04T12:50:32.733Z"
   },
   {
    "duration": 22,
    "start_time": "2023-09-04T12:50:32.746Z"
   },
   {
    "duration": 32,
    "start_time": "2023-09-04T12:50:32.770Z"
   },
   {
    "duration": 26,
    "start_time": "2023-09-04T12:50:32.803Z"
   },
   {
    "duration": 21,
    "start_time": "2023-09-04T12:50:32.831Z"
   },
   {
    "duration": 17,
    "start_time": "2023-09-04T12:50:32.854Z"
   },
   {
    "duration": 73,
    "start_time": "2023-09-04T12:50:32.873Z"
   },
   {
    "duration": 10,
    "start_time": "2023-09-04T12:50:32.948Z"
   },
   {
    "duration": 10,
    "start_time": "2023-09-04T12:50:32.960Z"
   },
   {
    "duration": 313,
    "start_time": "2023-09-04T12:50:32.972Z"
   },
   {
    "duration": 481,
    "start_time": "2023-09-04T12:50:33.287Z"
   },
   {
    "duration": 431,
    "start_time": "2023-09-04T12:50:33.770Z"
   },
   {
    "duration": 472,
    "start_time": "2023-09-04T12:50:34.203Z"
   },
   {
    "duration": 419,
    "start_time": "2023-09-04T12:50:34.677Z"
   },
   {
    "duration": 818,
    "start_time": "2023-09-04T12:50:35.098Z"
   },
   {
    "duration": 307,
    "start_time": "2023-09-04T12:50:35.918Z"
   },
   {
    "duration": 167,
    "start_time": "2023-09-04T12:50:36.227Z"
   },
   {
    "duration": 219,
    "start_time": "2023-09-04T12:50:36.396Z"
   },
   {
    "duration": 225,
    "start_time": "2023-09-04T12:50:36.618Z"
   },
   {
    "duration": 518,
    "start_time": "2023-09-04T12:50:36.846Z"
   },
   {
    "duration": 25,
    "start_time": "2023-09-04T12:50:37.365Z"
   },
   {
    "duration": 13,
    "start_time": "2023-09-04T12:50:37.392Z"
   },
   {
    "duration": 10,
    "start_time": "2023-09-04T12:50:37.406Z"
   },
   {
    "duration": 13,
    "start_time": "2023-09-04T12:50:37.417Z"
   },
   {
    "duration": 16,
    "start_time": "2023-09-04T12:50:37.432Z"
   },
   {
    "duration": 36,
    "start_time": "2023-09-04T12:50:37.449Z"
   },
   {
    "duration": 27,
    "start_time": "2023-09-04T12:50:37.487Z"
   },
   {
    "duration": 11,
    "start_time": "2023-09-04T12:50:37.516Z"
   },
   {
    "duration": 13,
    "start_time": "2023-09-04T12:50:37.529Z"
   },
   {
    "duration": 13,
    "start_time": "2023-09-04T12:54:51.047Z"
   }
  ],
  "kernelspec": {
   "display_name": "Python 3 (ipykernel)",
   "language": "python",
   "name": "python3"
  },
  "language_info": {
   "codemirror_mode": {
    "name": "ipython",
    "version": 3
   },
   "file_extension": ".py",
   "mimetype": "text/x-python",
   "name": "python",
   "nbconvert_exporter": "python",
   "pygments_lexer": "ipython3",
   "version": "3.9.5"
  },
  "toc": {
   "base_numbering": 1,
   "nav_menu": {},
   "number_sections": true,
   "sideBar": true,
   "skip_h1_title": true,
   "title_cell": "Table of Contents",
   "title_sidebar": "Contents",
   "toc_cell": false,
   "toc_position": {},
   "toc_section_display": true,
   "toc_window_display": false
  }
 },
 "nbformat": 4,
 "nbformat_minor": 2
}
