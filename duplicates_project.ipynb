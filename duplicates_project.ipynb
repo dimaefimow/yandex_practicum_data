{
 "cells": [
  {
   "cell_type": "markdown",
   "id": "ce22037c",
   "metadata": {},
   "source": [
    "## **Комментарий ревьюера**\n",
    "\n",
    "Привет 👋\n",
    "\n",
    "Меня зовут Валентин, и я буду проверять твой проект. Предлагаю сразу договориться общаться на «ты», если для тебя это не уместно, то дай, пожалуйста, знать, будем общаться на «вы».\n",
    "\n",
    "### **Краткое резюме по ревью**\n",
    "\n",
    "<div style=\"border-radius: 15px; box-shadow: 2px 2px 4px; border: 1px solid; background:Gainsboro; padding: 20px\">\n",
    "        \n",
    "Видны твои старания при работе над данным проектом. Большинство основных этапов в работе сделано хорошо:\n",
    "- есть много сильных и интересных алгоритмов 🤩\n",
    "- детально изучены многие тонкости данных\n",
    "- здорово сделана предобработка данных\n",
    "- качественно исследованы данные\n",
    "- сделано много верных промежуточных выводов, основанных на полученных данных\n",
    "\n",
    "Твоего внимания требует:\n",
    "- пересмотр вывода\n",
    "\n",
    "Я описал замечания в комментариях, которые помечены цветом(красным, желтым), после их доработки я смогу принять работу.\n",
    "    \n",
    "Спасибо тебе за твой труд! Я на все 100% уверен, что у тебя все получится, и с нетерпением буду ждать твою работу на повторное ревью 😉\n",
    "\n",
    "</div>\n",
    "\n",
    "### **PS:**\n",
    "\n",
    "Хочу поделиться дополнительным материалом, он бесплатный, но объемный(может уйти несколько месяцев):\n",
    "- У Тимофея Хирьянова есть [Плей-лист по алгоритмам на python](https://www.youtube.com/playlist?list=PLRDzFCPr95fK7tr47883DFUbm4GeOjjc0), это вроде просто видео-лекции, но в описании есть ссылка на лекции и практику, не стесняйся смотреть, преподаватель очень наглядно объясняет материал. На первых уроках задания могут показаться сложными, так как требует знания геометрии, не стесняйся проходить далее, будет проще)\n",
    "\n",
    "### **Правила оформления:**\n",
    "\n",
    "По ходу тетрадки ты найдешь комментарии к проекту, они будут в отдельных ячейках Markdown с заголовком «Комментарий ревьюера». Постарайся учесть эти комментарии для дальнейших проектов. Я использую заголовки в комментариях, они изменят твое оглавление. Но тебе будет удобно перемещаться от комментария к комментарию. А перед перемещением проекта в портфолио просто уберешь данные комментарии.\n",
    "\n",
    "Пожалуйста, **не перемещай, не изменяй и не удаляй мои комментарии**. Всё это поможет выполнить повторную проверку твоего проекта быстрее.\n",
    "\n",
    "Я буду красить комментарии цветом:\n",
    "\n",
    "<div class=\"alert alert-danger\"; style=\"border-left: 7px solid FireBrick\">\n",
    "<h4> ❌ <font color=\"FireBrick\">Комментарий ревьюера (красный)</font></h4>\n",
    "\n",
    "Такой комментарий нужно исправить обязательно, он критически влияет на удачное выполнение проекта.\n",
    "\n",
    "Также жду от тебя комментарии, где вкратце опишешь изменения, которые были внесены.\n",
    "</div>\n",
    "\n",
    "<div class=\"alert alert-warning\"; style=\"border-left: 7px solid Gold\">\n",
    "<h4> ⚠️ <font color=\"DarkGoldenRod\">Комментарий ревьюера (желтый)</font></h4>\n",
    "\n",
    "Такой комментарий является рекомендацией или советом. Можешь использовать их на своё усмотрение.\n",
    "    \n",
    "В случае изменений кода, опиши, пожалуйста, вкратце то, что изменилось. Если изменений не было, то просто опиши свои мысли на эту тему.\n",
    "</div>\n",
    "\n",
    "<div class=\"alert alert-success\"; style=\"border-left: 7px solid green\">\n",
    "<h4> ✔️ <font color=\"green\">Комментарий ревьюера (зеленый)</font></h4>\n",
    "\n",
    "Такой комментарий говорит о том, что было сделано что-то качественное и правильное 😃\n",
    "    \n",
    "Я не буду ждать твоего комментария, но буду ему очень рад 🤗\n",
    "</div>\n",
    "\n",
    "Чтобы мы были на одной волне, рекомендую общаться в том же стиле 😊 Твои ответы на мои комментарии будут подкрашиваться в синий цвет.\n",
    "\n",
    "Ниже я оформил образец для твоего удобства, тебе остается только добавить после моего комментария ячейку с типом **Markdown**, скопировать туда код(чтобы увидеть код дважды, кликни на ячейку) из образца и написать свои мысли по поводу комментария."
   ]
  },
  {
   "cell_type": "markdown",
   "id": "3baa781a",
   "metadata": {},
   "source": [
    "<div class=\"alert alert-info\"; style=\"border-left: 7px solid SteelBlue\">\n",
    "<h5>🎓 <font color=\"SteelBlue\">Комментарий от студента (синий)</font></h5>    \n",
    "\n",
    "Напиши здесь свои мысли и идеи по поводу комментария ревьюера.\n",
    "\n",
    "</div>"
   ]
  },
  {
   "cell_type": "markdown",
   "id": "cdd49c04",
   "metadata": {},
   "source": [
    "## **Комментарий ревьюера v2**\n",
    "\n",
    "### **Краткое резюме по ревью**\n",
    "<div style=\"border-radius: 15px; box-shadow: 2px 2px 4px; border: 1px solid; background:Gainsboro; padding: 20px\">\n",
    "\n",
    "Молодец, исправлено:\n",
    "- пересмотр вывода\n",
    "\n",
    "Спасибо тебе за твой труд! Я готов принять работу. Успехов в дальнейшем обучении!\n",
    "\n",
    "</div>"
   ]
  },
  {
   "cell_type": "markdown",
   "id": "386f2ae7",
   "metadata": {
    "deletable": false,
    "editable": false,
    "id": "386f2ae7"
   },
   "source": [
    "# Исследование надежности заемщиков\n"
   ]
  },
  {
   "cell_type": "markdown",
   "id": "ffe86f65",
   "metadata": {
    "deletable": false,
    "editable": false,
    "id": "ffe86f65"
   },
   "source": [
    "Во второй части проекта вы выполните шаги 3 и 4. Их вручную проверит ревьюер.\n",
    "Чтобы вам не пришлось писать код заново для шагов 1 и 2, мы добавили авторские решения в ячейки с кодом. \n",
    "\n"
   ]
  },
  {
   "cell_type": "markdown",
   "id": "26613308",
   "metadata": {
    "deletable": false,
    "editable": false,
    "id": "26613308"
   },
   "source": [
    "## Откройте таблицу и изучите общую информацию о данных"
   ]
  },
  {
   "cell_type": "markdown",
   "id": "3c9f838e",
   "metadata": {
    "deletable": false,
    "editable": false,
    "id": "3c9f838e"
   },
   "source": [
    "**Задание 1. Импортируйте библиотеку pandas. Считайте данные из csv-файла в датафрейм и сохраните в переменную `data`. Путь к файлу:**\n",
    "\n",
    "`/datasets/data.csv`"
   ]
  },
  {
   "cell_type": "code",
   "execution_count": 1,
   "id": "77a68a90",
   "metadata": {
    "deletable": false,
    "id": "77a68a90"
   },
   "outputs": [],
   "source": [
    "import pandas as pd\n",
    "\n",
    "try:\n",
    "    data = pd.read_csv('/datasets/data.csv')\n",
    "except:\n",
    "    data = pd.read_csv('https://code.s3.yandex.net/datasets/data.csv')"
   ]
  },
  {
   "cell_type": "markdown",
   "id": "45365635",
   "metadata": {
    "deletable": false,
    "editable": false,
    "id": "45365635"
   },
   "source": [
    "**Задание 2. Выведите первые 20 строчек датафрейма `data` на экран.**"
   ]
  },
  {
   "cell_type": "code",
   "execution_count": 2,
   "id": "b0451a9a",
   "metadata": {
    "deletable": false,
    "id": "b0451a9a",
    "outputId": "1a8f3ef2-d323-4ec2-ddf7-89670b5944c4"
   },
   "outputs": [
    {
     "data": {
      "text/html": [
       "<div>\n",
       "<style scoped>\n",
       "    .dataframe tbody tr th:only-of-type {\n",
       "        vertical-align: middle;\n",
       "    }\n",
       "\n",
       "    .dataframe tbody tr th {\n",
       "        vertical-align: top;\n",
       "    }\n",
       "\n",
       "    .dataframe thead th {\n",
       "        text-align: right;\n",
       "    }\n",
       "</style>\n",
       "<table border=\"1\" class=\"dataframe\">\n",
       "  <thead>\n",
       "    <tr style=\"text-align: right;\">\n",
       "      <th></th>\n",
       "      <th>children</th>\n",
       "      <th>days_employed</th>\n",
       "      <th>dob_years</th>\n",
       "      <th>education</th>\n",
       "      <th>education_id</th>\n",
       "      <th>family_status</th>\n",
       "      <th>family_status_id</th>\n",
       "      <th>gender</th>\n",
       "      <th>income_type</th>\n",
       "      <th>debt</th>\n",
       "      <th>total_income</th>\n",
       "      <th>purpose</th>\n",
       "    </tr>\n",
       "  </thead>\n",
       "  <tbody>\n",
       "    <tr>\n",
       "      <th>0</th>\n",
       "      <td>1</td>\n",
       "      <td>-8437.673028</td>\n",
       "      <td>42</td>\n",
       "      <td>высшее</td>\n",
       "      <td>0</td>\n",
       "      <td>женат / замужем</td>\n",
       "      <td>0</td>\n",
       "      <td>F</td>\n",
       "      <td>сотрудник</td>\n",
       "      <td>0</td>\n",
       "      <td>253875.639453</td>\n",
       "      <td>покупка жилья</td>\n",
       "    </tr>\n",
       "    <tr>\n",
       "      <th>1</th>\n",
       "      <td>1</td>\n",
       "      <td>-4024.803754</td>\n",
       "      <td>36</td>\n",
       "      <td>среднее</td>\n",
       "      <td>1</td>\n",
       "      <td>женат / замужем</td>\n",
       "      <td>0</td>\n",
       "      <td>F</td>\n",
       "      <td>сотрудник</td>\n",
       "      <td>0</td>\n",
       "      <td>112080.014102</td>\n",
       "      <td>приобретение автомобиля</td>\n",
       "    </tr>\n",
       "    <tr>\n",
       "      <th>2</th>\n",
       "      <td>0</td>\n",
       "      <td>-5623.422610</td>\n",
       "      <td>33</td>\n",
       "      <td>Среднее</td>\n",
       "      <td>1</td>\n",
       "      <td>женат / замужем</td>\n",
       "      <td>0</td>\n",
       "      <td>M</td>\n",
       "      <td>сотрудник</td>\n",
       "      <td>0</td>\n",
       "      <td>145885.952297</td>\n",
       "      <td>покупка жилья</td>\n",
       "    </tr>\n",
       "    <tr>\n",
       "      <th>3</th>\n",
       "      <td>3</td>\n",
       "      <td>-4124.747207</td>\n",
       "      <td>32</td>\n",
       "      <td>среднее</td>\n",
       "      <td>1</td>\n",
       "      <td>женат / замужем</td>\n",
       "      <td>0</td>\n",
       "      <td>M</td>\n",
       "      <td>сотрудник</td>\n",
       "      <td>0</td>\n",
       "      <td>267628.550329</td>\n",
       "      <td>дополнительное образование</td>\n",
       "    </tr>\n",
       "    <tr>\n",
       "      <th>4</th>\n",
       "      <td>0</td>\n",
       "      <td>340266.072047</td>\n",
       "      <td>53</td>\n",
       "      <td>среднее</td>\n",
       "      <td>1</td>\n",
       "      <td>гражданский брак</td>\n",
       "      <td>1</td>\n",
       "      <td>F</td>\n",
       "      <td>пенсионер</td>\n",
       "      <td>0</td>\n",
       "      <td>158616.077870</td>\n",
       "      <td>сыграть свадьбу</td>\n",
       "    </tr>\n",
       "    <tr>\n",
       "      <th>5</th>\n",
       "      <td>0</td>\n",
       "      <td>-926.185831</td>\n",
       "      <td>27</td>\n",
       "      <td>высшее</td>\n",
       "      <td>0</td>\n",
       "      <td>гражданский брак</td>\n",
       "      <td>1</td>\n",
       "      <td>M</td>\n",
       "      <td>компаньон</td>\n",
       "      <td>0</td>\n",
       "      <td>255763.565419</td>\n",
       "      <td>покупка жилья</td>\n",
       "    </tr>\n",
       "    <tr>\n",
       "      <th>6</th>\n",
       "      <td>0</td>\n",
       "      <td>-2879.202052</td>\n",
       "      <td>43</td>\n",
       "      <td>высшее</td>\n",
       "      <td>0</td>\n",
       "      <td>женат / замужем</td>\n",
       "      <td>0</td>\n",
       "      <td>F</td>\n",
       "      <td>компаньон</td>\n",
       "      <td>0</td>\n",
       "      <td>240525.971920</td>\n",
       "      <td>операции с жильем</td>\n",
       "    </tr>\n",
       "    <tr>\n",
       "      <th>7</th>\n",
       "      <td>0</td>\n",
       "      <td>-152.779569</td>\n",
       "      <td>50</td>\n",
       "      <td>СРЕДНЕЕ</td>\n",
       "      <td>1</td>\n",
       "      <td>женат / замужем</td>\n",
       "      <td>0</td>\n",
       "      <td>M</td>\n",
       "      <td>сотрудник</td>\n",
       "      <td>0</td>\n",
       "      <td>135823.934197</td>\n",
       "      <td>образование</td>\n",
       "    </tr>\n",
       "    <tr>\n",
       "      <th>8</th>\n",
       "      <td>2</td>\n",
       "      <td>-6929.865299</td>\n",
       "      <td>35</td>\n",
       "      <td>ВЫСШЕЕ</td>\n",
       "      <td>0</td>\n",
       "      <td>гражданский брак</td>\n",
       "      <td>1</td>\n",
       "      <td>F</td>\n",
       "      <td>сотрудник</td>\n",
       "      <td>0</td>\n",
       "      <td>95856.832424</td>\n",
       "      <td>на проведение свадьбы</td>\n",
       "    </tr>\n",
       "    <tr>\n",
       "      <th>9</th>\n",
       "      <td>0</td>\n",
       "      <td>-2188.756445</td>\n",
       "      <td>41</td>\n",
       "      <td>среднее</td>\n",
       "      <td>1</td>\n",
       "      <td>женат / замужем</td>\n",
       "      <td>0</td>\n",
       "      <td>M</td>\n",
       "      <td>сотрудник</td>\n",
       "      <td>0</td>\n",
       "      <td>144425.938277</td>\n",
       "      <td>покупка жилья для семьи</td>\n",
       "    </tr>\n",
       "    <tr>\n",
       "      <th>10</th>\n",
       "      <td>2</td>\n",
       "      <td>-4171.483647</td>\n",
       "      <td>36</td>\n",
       "      <td>высшее</td>\n",
       "      <td>0</td>\n",
       "      <td>женат / замужем</td>\n",
       "      <td>0</td>\n",
       "      <td>M</td>\n",
       "      <td>компаньон</td>\n",
       "      <td>0</td>\n",
       "      <td>113943.491460</td>\n",
       "      <td>покупка недвижимости</td>\n",
       "    </tr>\n",
       "    <tr>\n",
       "      <th>11</th>\n",
       "      <td>0</td>\n",
       "      <td>-792.701887</td>\n",
       "      <td>40</td>\n",
       "      <td>среднее</td>\n",
       "      <td>1</td>\n",
       "      <td>женат / замужем</td>\n",
       "      <td>0</td>\n",
       "      <td>F</td>\n",
       "      <td>сотрудник</td>\n",
       "      <td>0</td>\n",
       "      <td>77069.234271</td>\n",
       "      <td>покупка коммерческой недвижимости</td>\n",
       "    </tr>\n",
       "    <tr>\n",
       "      <th>12</th>\n",
       "      <td>0</td>\n",
       "      <td>NaN</td>\n",
       "      <td>65</td>\n",
       "      <td>среднее</td>\n",
       "      <td>1</td>\n",
       "      <td>гражданский брак</td>\n",
       "      <td>1</td>\n",
       "      <td>M</td>\n",
       "      <td>пенсионер</td>\n",
       "      <td>0</td>\n",
       "      <td>NaN</td>\n",
       "      <td>сыграть свадьбу</td>\n",
       "    </tr>\n",
       "    <tr>\n",
       "      <th>13</th>\n",
       "      <td>0</td>\n",
       "      <td>-1846.641941</td>\n",
       "      <td>54</td>\n",
       "      <td>неоконченное высшее</td>\n",
       "      <td>2</td>\n",
       "      <td>женат / замужем</td>\n",
       "      <td>0</td>\n",
       "      <td>F</td>\n",
       "      <td>сотрудник</td>\n",
       "      <td>0</td>\n",
       "      <td>130458.228857</td>\n",
       "      <td>приобретение автомобиля</td>\n",
       "    </tr>\n",
       "    <tr>\n",
       "      <th>14</th>\n",
       "      <td>0</td>\n",
       "      <td>-1844.956182</td>\n",
       "      <td>56</td>\n",
       "      <td>высшее</td>\n",
       "      <td>0</td>\n",
       "      <td>гражданский брак</td>\n",
       "      <td>1</td>\n",
       "      <td>F</td>\n",
       "      <td>компаньон</td>\n",
       "      <td>1</td>\n",
       "      <td>165127.911772</td>\n",
       "      <td>покупка жилой недвижимости</td>\n",
       "    </tr>\n",
       "    <tr>\n",
       "      <th>15</th>\n",
       "      <td>1</td>\n",
       "      <td>-972.364419</td>\n",
       "      <td>26</td>\n",
       "      <td>среднее</td>\n",
       "      <td>1</td>\n",
       "      <td>женат / замужем</td>\n",
       "      <td>0</td>\n",
       "      <td>F</td>\n",
       "      <td>сотрудник</td>\n",
       "      <td>0</td>\n",
       "      <td>116820.904450</td>\n",
       "      <td>строительство собственной недвижимости</td>\n",
       "    </tr>\n",
       "    <tr>\n",
       "      <th>16</th>\n",
       "      <td>0</td>\n",
       "      <td>-1719.934226</td>\n",
       "      <td>35</td>\n",
       "      <td>среднее</td>\n",
       "      <td>1</td>\n",
       "      <td>женат / замужем</td>\n",
       "      <td>0</td>\n",
       "      <td>F</td>\n",
       "      <td>сотрудник</td>\n",
       "      <td>0</td>\n",
       "      <td>289202.704229</td>\n",
       "      <td>недвижимость</td>\n",
       "    </tr>\n",
       "    <tr>\n",
       "      <th>17</th>\n",
       "      <td>0</td>\n",
       "      <td>-2369.999720</td>\n",
       "      <td>33</td>\n",
       "      <td>высшее</td>\n",
       "      <td>0</td>\n",
       "      <td>гражданский брак</td>\n",
       "      <td>1</td>\n",
       "      <td>M</td>\n",
       "      <td>сотрудник</td>\n",
       "      <td>0</td>\n",
       "      <td>90410.586745</td>\n",
       "      <td>строительство недвижимости</td>\n",
       "    </tr>\n",
       "    <tr>\n",
       "      <th>18</th>\n",
       "      <td>0</td>\n",
       "      <td>400281.136913</td>\n",
       "      <td>53</td>\n",
       "      <td>среднее</td>\n",
       "      <td>1</td>\n",
       "      <td>вдовец / вдова</td>\n",
       "      <td>2</td>\n",
       "      <td>F</td>\n",
       "      <td>пенсионер</td>\n",
       "      <td>0</td>\n",
       "      <td>56823.777243</td>\n",
       "      <td>на покупку подержанного автомобиля</td>\n",
       "    </tr>\n",
       "    <tr>\n",
       "      <th>19</th>\n",
       "      <td>0</td>\n",
       "      <td>-10038.818549</td>\n",
       "      <td>48</td>\n",
       "      <td>СРЕДНЕЕ</td>\n",
       "      <td>1</td>\n",
       "      <td>в разводе</td>\n",
       "      <td>3</td>\n",
       "      <td>F</td>\n",
       "      <td>сотрудник</td>\n",
       "      <td>0</td>\n",
       "      <td>242831.107982</td>\n",
       "      <td>на покупку своего автомобиля</td>\n",
       "    </tr>\n",
       "  </tbody>\n",
       "</table>\n",
       "</div>"
      ],
      "text/plain": [
       "    children  days_employed  dob_years            education  education_id  \\\n",
       "0          1   -8437.673028         42               высшее             0   \n",
       "1          1   -4024.803754         36              среднее             1   \n",
       "2          0   -5623.422610         33              Среднее             1   \n",
       "3          3   -4124.747207         32              среднее             1   \n",
       "4          0  340266.072047         53              среднее             1   \n",
       "5          0    -926.185831         27               высшее             0   \n",
       "6          0   -2879.202052         43               высшее             0   \n",
       "7          0    -152.779569         50              СРЕДНЕЕ             1   \n",
       "8          2   -6929.865299         35               ВЫСШЕЕ             0   \n",
       "9          0   -2188.756445         41              среднее             1   \n",
       "10         2   -4171.483647         36               высшее             0   \n",
       "11         0    -792.701887         40              среднее             1   \n",
       "12         0            NaN         65              среднее             1   \n",
       "13         0   -1846.641941         54  неоконченное высшее             2   \n",
       "14         0   -1844.956182         56               высшее             0   \n",
       "15         1    -972.364419         26              среднее             1   \n",
       "16         0   -1719.934226         35              среднее             1   \n",
       "17         0   -2369.999720         33               высшее             0   \n",
       "18         0  400281.136913         53              среднее             1   \n",
       "19         0  -10038.818549         48              СРЕДНЕЕ             1   \n",
       "\n",
       "       family_status  family_status_id gender income_type  debt  \\\n",
       "0    женат / замужем                 0      F   сотрудник     0   \n",
       "1    женат / замужем                 0      F   сотрудник     0   \n",
       "2    женат / замужем                 0      M   сотрудник     0   \n",
       "3    женат / замужем                 0      M   сотрудник     0   \n",
       "4   гражданский брак                 1      F   пенсионер     0   \n",
       "5   гражданский брак                 1      M   компаньон     0   \n",
       "6    женат / замужем                 0      F   компаньон     0   \n",
       "7    женат / замужем                 0      M   сотрудник     0   \n",
       "8   гражданский брак                 1      F   сотрудник     0   \n",
       "9    женат / замужем                 0      M   сотрудник     0   \n",
       "10   женат / замужем                 0      M   компаньон     0   \n",
       "11   женат / замужем                 0      F   сотрудник     0   \n",
       "12  гражданский брак                 1      M   пенсионер     0   \n",
       "13   женат / замужем                 0      F   сотрудник     0   \n",
       "14  гражданский брак                 1      F   компаньон     1   \n",
       "15   женат / замужем                 0      F   сотрудник     0   \n",
       "16   женат / замужем                 0      F   сотрудник     0   \n",
       "17  гражданский брак                 1      M   сотрудник     0   \n",
       "18    вдовец / вдова                 2      F   пенсионер     0   \n",
       "19         в разводе                 3      F   сотрудник     0   \n",
       "\n",
       "     total_income                                 purpose  \n",
       "0   253875.639453                           покупка жилья  \n",
       "1   112080.014102                 приобретение автомобиля  \n",
       "2   145885.952297                           покупка жилья  \n",
       "3   267628.550329              дополнительное образование  \n",
       "4   158616.077870                         сыграть свадьбу  \n",
       "5   255763.565419                           покупка жилья  \n",
       "6   240525.971920                       операции с жильем  \n",
       "7   135823.934197                             образование  \n",
       "8    95856.832424                   на проведение свадьбы  \n",
       "9   144425.938277                 покупка жилья для семьи  \n",
       "10  113943.491460                    покупка недвижимости  \n",
       "11   77069.234271       покупка коммерческой недвижимости  \n",
       "12            NaN                         сыграть свадьбу  \n",
       "13  130458.228857                 приобретение автомобиля  \n",
       "14  165127.911772              покупка жилой недвижимости  \n",
       "15  116820.904450  строительство собственной недвижимости  \n",
       "16  289202.704229                            недвижимость  \n",
       "17   90410.586745              строительство недвижимости  \n",
       "18   56823.777243      на покупку подержанного автомобиля  \n",
       "19  242831.107982            на покупку своего автомобиля  "
      ]
     },
     "execution_count": 2,
     "metadata": {},
     "output_type": "execute_result"
    }
   ],
   "source": [
    "data.head(20)"
   ]
  },
  {
   "cell_type": "markdown",
   "id": "0ed8f27f",
   "metadata": {
    "deletable": false,
    "editable": false,
    "id": "0ed8f27f"
   },
   "source": [
    "**Задание 3. Выведите основную информацию о датафрейме с помощью метода `info()`.**"
   ]
  },
  {
   "cell_type": "code",
   "execution_count": 3,
   "id": "ab3f863b",
   "metadata": {
    "deletable": false,
    "id": "ab3f863b",
    "outputId": "15376089-8dad-46c9-b520-c05248d43158"
   },
   "outputs": [
    {
     "name": "stdout",
     "output_type": "stream",
     "text": [
      "<class 'pandas.core.frame.DataFrame'>\n",
      "RangeIndex: 21525 entries, 0 to 21524\n",
      "Data columns (total 12 columns):\n",
      " #   Column            Non-Null Count  Dtype  \n",
      "---  ------            --------------  -----  \n",
      " 0   children          21525 non-null  int64  \n",
      " 1   days_employed     19351 non-null  float64\n",
      " 2   dob_years         21525 non-null  int64  \n",
      " 3   education         21525 non-null  object \n",
      " 4   education_id      21525 non-null  int64  \n",
      " 5   family_status     21525 non-null  object \n",
      " 6   family_status_id  21525 non-null  int64  \n",
      " 7   gender            21525 non-null  object \n",
      " 8   income_type       21525 non-null  object \n",
      " 9   debt              21525 non-null  int64  \n",
      " 10  total_income      19351 non-null  float64\n",
      " 11  purpose           21525 non-null  object \n",
      "dtypes: float64(2), int64(5), object(5)\n",
      "memory usage: 2.0+ MB\n"
     ]
    }
   ],
   "source": [
    "data.info()"
   ]
  },
  {
   "cell_type": "markdown",
   "id": "60e3e22d",
   "metadata": {
    "deletable": false,
    "editable": false,
    "id": "60e3e22d"
   },
   "source": [
    "## Предобработка данных"
   ]
  },
  {
   "cell_type": "markdown",
   "id": "03dc170c",
   "metadata": {
    "deletable": false,
    "editable": false,
    "id": "03dc170c"
   },
   "source": [
    "### Удаление пропусков"
   ]
  },
  {
   "cell_type": "markdown",
   "id": "a4f54eef",
   "metadata": {
    "deletable": false,
    "editable": false,
    "id": "a4f54eef"
   },
   "source": [
    "**Задание 4. Выведите количество пропущенных значений для каждого столбца. Используйте комбинацию двух методов.**"
   ]
  },
  {
   "cell_type": "code",
   "execution_count": 4,
   "id": "2dc372b2",
   "metadata": {
    "deletable": false,
    "id": "2dc372b2",
    "outputId": "81f4d817-781c-465c-ed15-91ce4446810d"
   },
   "outputs": [
    {
     "data": {
      "text/plain": [
       "children               0\n",
       "days_employed       2174\n",
       "dob_years              0\n",
       "education              0\n",
       "education_id           0\n",
       "family_status          0\n",
       "family_status_id       0\n",
       "gender                 0\n",
       "income_type            0\n",
       "debt                   0\n",
       "total_income        2174\n",
       "purpose                0\n",
       "dtype: int64"
      ]
     },
     "execution_count": 4,
     "metadata": {},
     "output_type": "execute_result"
    }
   ],
   "source": [
    "data.isna().sum()"
   ]
  },
  {
   "cell_type": "markdown",
   "id": "14f011b1",
   "metadata": {
    "deletable": false,
    "editable": false,
    "id": "14f011b1"
   },
   "source": [
    "**Задание 5. В двух столбцах есть пропущенные значения. Один из них — `days_employed`. Пропуски в этом столбце вы обработаете на следующем этапе. Другой столбец с пропущенными значениями — `total_income` — хранит данные о доходах. На сумму дохода сильнее всего влияет тип занятости, поэтому заполнить пропуски в этом столбце нужно медианным значением по каждому типу из столбца `income_type`. Например, у человека с типом занятости `сотрудник` пропуск в столбце `total_income` должен быть заполнен медианным доходом среди всех записей с тем же типом.**"
   ]
  },
  {
   "cell_type": "code",
   "execution_count": 5,
   "id": "bdabfb6e",
   "metadata": {
    "deletable": false,
    "id": "bdabfb6e"
   },
   "outputs": [],
   "source": [
    "for t in data['income_type'].unique():\n",
    "    data.loc[(data['income_type'] == t) & (data['total_income'].isna()), 'total_income'] = \\\n",
    "    data.loc[(data['income_type'] == t), 'total_income'].median()"
   ]
  },
  {
   "cell_type": "markdown",
   "id": "5be34059",
   "metadata": {
    "deletable": false,
    "editable": false,
    "id": "5be34059"
   },
   "source": [
    "### Обработка аномальных значений"
   ]
  },
  {
   "cell_type": "markdown",
   "id": "a87606cb",
   "metadata": {
    "deletable": false,
    "editable": false,
    "id": "a87606cb"
   },
   "source": [
    "**Задание 6. В данных могут встречаться артефакты (аномалии) — значения, которые не отражают действительность и появились по какой-то ошибке. таким артефактом будет отрицательное количество дней трудового стажа в столбце `days_employed`. Для реальных данных это нормально. Обработайте значения в этом столбце: замените все отрицательные значения положительными с помощью метода `abs()`.**"
   ]
  },
  {
   "cell_type": "code",
   "execution_count": 6,
   "id": "020c46cc",
   "metadata": {
    "deletable": false,
    "id": "020c46cc"
   },
   "outputs": [],
   "source": [
    "data['days_employed'] = data['days_employed'].abs()"
   ]
  },
  {
   "cell_type": "markdown",
   "id": "45538a3a",
   "metadata": {
    "deletable": false,
    "editable": false,
    "id": "45538a3a"
   },
   "source": [
    "**Задание 7. Для каждого типа занятости выведите медианное значение трудового стажа `days_employed` в днях.**"
   ]
  },
  {
   "cell_type": "code",
   "execution_count": 7,
   "id": "cd3e6328",
   "metadata": {
    "deletable": false,
    "id": "cd3e6328",
    "outputId": "801ef80e-522b-4668-f34e-565af7432bcf"
   },
   "outputs": [
    {
     "data": {
      "text/plain": [
       "income_type\n",
       "безработный        366413.652744\n",
       "в декрете            3296.759962\n",
       "госслужащий          2689.368353\n",
       "компаньон            1547.382223\n",
       "пенсионер          365213.306266\n",
       "предприниматель       520.848083\n",
       "сотрудник            1574.202821\n",
       "студент               578.751554\n",
       "Name: days_employed, dtype: float64"
      ]
     },
     "execution_count": 7,
     "metadata": {},
     "output_type": "execute_result"
    }
   ],
   "source": [
    "data.groupby('income_type')['days_employed'].agg('median')"
   ]
  },
  {
   "cell_type": "markdown",
   "id": "90c5f058",
   "metadata": {
    "deletable": false,
    "editable": false,
    "id": "90c5f058"
   },
   "source": [
    "У двух типов (безработные и пенсионеры) получатся аномально большие значения. Исправить такие значения сложно, поэтому оставьте их как есть."
   ]
  },
  {
   "cell_type": "markdown",
   "id": "9652e50d",
   "metadata": {
    "deletable": false,
    "editable": false,
    "id": "9652e50d"
   },
   "source": [
    "**Задание 8. Выведите перечень уникальных значений столбца `children`.**"
   ]
  },
  {
   "cell_type": "code",
   "execution_count": 8,
   "id": "dbb37b8e",
   "metadata": {
    "deletable": false,
    "id": "dbb37b8e",
    "outputId": "6975b15c-7f95-4697-d16d-a0c79b657b03"
   },
   "outputs": [
    {
     "data": {
      "text/plain": [
       "array([ 1,  0,  3,  2, -1,  4, 20,  5])"
      ]
     },
     "execution_count": 8,
     "metadata": {},
     "output_type": "execute_result"
    }
   ],
   "source": [
    "data['children'].unique()"
   ]
  },
  {
   "cell_type": "markdown",
   "id": "2b8b0715",
   "metadata": {
    "deletable": false,
    "editable": false,
    "id": "2b8b0715"
   },
   "source": [
    "**Задание 9. В столбце `children` есть два аномальных значения. Удалите строки, в которых встречаются такие аномальные значения из датафрейма `data`.**"
   ]
  },
  {
   "cell_type": "code",
   "execution_count": 9,
   "id": "20009df8",
   "metadata": {
    "deletable": false,
    "id": "20009df8"
   },
   "outputs": [],
   "source": [
    "data = data[(data['children'] != -1) & (data['children'] != 20)]"
   ]
  },
  {
   "cell_type": "markdown",
   "id": "8c6ac9f1",
   "metadata": {
    "deletable": false,
    "editable": false,
    "id": "8c6ac9f1"
   },
   "source": [
    "**Задание 10. Ещё раз выведите перечень уникальных значений столбца `children`, чтобы убедиться, что артефакты удалены.**"
   ]
  },
  {
   "cell_type": "code",
   "execution_count": 10,
   "id": "07337b81",
   "metadata": {
    "deletable": false,
    "id": "07337b81",
    "outputId": "b2097101-d49d-44d9-901b-32a65c9463d1"
   },
   "outputs": [
    {
     "data": {
      "text/plain": [
       "array([1, 0, 3, 2, 4, 5])"
      ]
     },
     "execution_count": 10,
     "metadata": {},
     "output_type": "execute_result"
    }
   ],
   "source": [
    "data['children'].unique()"
   ]
  },
  {
   "cell_type": "markdown",
   "id": "ee3f52d4",
   "metadata": {
    "deletable": false,
    "editable": false,
    "id": "ee3f52d4"
   },
   "source": [
    "### Удаление пропусков (продолжение)"
   ]
  },
  {
   "cell_type": "markdown",
   "id": "a700b0e4",
   "metadata": {
    "deletable": false,
    "editable": false,
    "id": "a700b0e4"
   },
   "source": [
    "**Задание 11. Заполните пропуски в столбце `days_employed` медианными значениями по каждого типа занятости `income_type`.**"
   ]
  },
  {
   "cell_type": "code",
   "execution_count": 11,
   "id": "61946b83",
   "metadata": {
    "deletable": false,
    "id": "61946b83"
   },
   "outputs": [],
   "source": [
    "for t in data['income_type'].unique():\n",
    "    data.loc[(data['income_type'] == t) & (data['days_employed'].isna()), 'days_employed'] = \\\n",
    "    data.loc[(data['income_type'] == t), 'days_employed'].median()"
   ]
  },
  {
   "cell_type": "markdown",
   "id": "550dcd9b",
   "metadata": {
    "deletable": false,
    "editable": false,
    "id": "550dcd9b"
   },
   "source": [
    "**Задание 12. Убедитесь, что все пропуски заполнены. Проверьте себя и ещё раз выведите количество пропущенных значений для каждого столбца с помощью двух методов.**"
   ]
  },
  {
   "cell_type": "code",
   "execution_count": 12,
   "id": "937c7014",
   "metadata": {
    "deletable": false,
    "id": "937c7014",
    "outputId": "8da1e4e1-358e-4e87-98c9-f261bce0a7b2"
   },
   "outputs": [
    {
     "data": {
      "text/plain": [
       "children            0\n",
       "days_employed       0\n",
       "dob_years           0\n",
       "education           0\n",
       "education_id        0\n",
       "family_status       0\n",
       "family_status_id    0\n",
       "gender              0\n",
       "income_type         0\n",
       "debt                0\n",
       "total_income        0\n",
       "purpose             0\n",
       "dtype: int64"
      ]
     },
     "execution_count": 12,
     "metadata": {},
     "output_type": "execute_result"
    }
   ],
   "source": [
    "data.isna().sum()"
   ]
  },
  {
   "cell_type": "markdown",
   "id": "d522e295",
   "metadata": {
    "deletable": false,
    "editable": false,
    "id": "d522e295"
   },
   "source": [
    "### Изменение типов данных"
   ]
  },
  {
   "cell_type": "markdown",
   "id": "c229c581",
   "metadata": {
    "deletable": false,
    "editable": false,
    "id": "c229c581"
   },
   "source": [
    "**Задание 13. Замените вещественный тип данных в столбце `total_income` на целочисленный с помощью метода `astype()`.**"
   ]
  },
  {
   "cell_type": "code",
   "execution_count": 13,
   "id": "31036462",
   "metadata": {
    "deletable": false,
    "id": "31036462"
   },
   "outputs": [],
   "source": [
    "data['total_income'] = data['total_income'].astype(int)"
   ]
  },
  {
   "cell_type": "markdown",
   "id": "b8e3d1d9",
   "metadata": {
    "deletable": false,
    "editable": false,
    "id": "b8e3d1d9"
   },
   "source": [
    "### Обработка дубликатов"
   ]
  },
  {
   "cell_type": "markdown",
   "id": "9be53c49",
   "metadata": {
    "deletable": false,
    "editable": false,
    "id": "9be53c49"
   },
   "source": [
    "**Задание 14. Обработайте неявные дубликаты в столбце `education`. В этом столбце есть одни и те же значения, но записанные по-разному: с использованием заглавных и строчных букв. Приведите их к нижнему регистру.**"
   ]
  },
  {
   "cell_type": "code",
   "execution_count": 14,
   "id": "d89e73e1",
   "metadata": {
    "deletable": false,
    "id": "d89e73e1"
   },
   "outputs": [],
   "source": [
    "data['education'] = data['education'].str.lower()"
   ]
  },
  {
   "cell_type": "markdown",
   "id": "01d4500e",
   "metadata": {
    "deletable": false,
    "editable": false,
    "id": "01d4500e"
   },
   "source": [
    "**Задание 15. Выведите на экран количество строк-дубликатов в данных. Если такие строки присутствуют, удалите их.**"
   ]
  },
  {
   "cell_type": "code",
   "execution_count": 15,
   "id": "e10efb23",
   "metadata": {
    "deletable": false,
    "id": "e10efb23",
    "outputId": "9684deba-1934-42d1-99e1-cda61740f822"
   },
   "outputs": [
    {
     "data": {
      "text/plain": [
       "71"
      ]
     },
     "execution_count": 15,
     "metadata": {},
     "output_type": "execute_result"
    }
   ],
   "source": [
    "data.duplicated().sum()"
   ]
  },
  {
   "cell_type": "code",
   "execution_count": 16,
   "id": "df853f20",
   "metadata": {
    "deletable": false,
    "id": "df853f20"
   },
   "outputs": [],
   "source": [
    "data = data.drop_duplicates()"
   ]
  },
  {
   "cell_type": "markdown",
   "id": "627be38f",
   "metadata": {
    "deletable": false,
    "editable": false,
    "id": "627be38f"
   },
   "source": [
    "### Категоризация данных"
   ]
  },
  {
   "cell_type": "markdown",
   "id": "4684c3e0",
   "metadata": {
    "deletable": false,
    "editable": false,
    "id": "4684c3e0"
   },
   "source": [
    "**Задание 16. На основании диапазонов, указанных ниже, создайте в датафрейме `data` столбец `total_income_category` с категориями:**\n",
    "\n",
    "- 0–30000 — `'E'`;\n",
    "- 30001–50000 — `'D'`;\n",
    "- 50001–200000 — `'C'`;\n",
    "- 200001–1000000 — `'B'`;\n",
    "- 1000001 и выше — `'A'`.\n",
    "\n",
    "\n",
    "**Например, кредитополучателю с доходом 25000 нужно назначить категорию `'E'`, а клиенту, получающему 235000, — `'B'`. Используйте собственную функцию с именем `categorize_income()` и метод `apply()`.**"
   ]
  },
  {
   "cell_type": "code",
   "execution_count": 17,
   "id": "78965238",
   "metadata": {
    "deletable": false,
    "id": "78965238"
   },
   "outputs": [],
   "source": [
    "def categorize_income(income):\n",
    "    try:\n",
    "        if 0 <= income <= 30000:\n",
    "            return 'E'\n",
    "        elif 30001 <= income <= 50000:\n",
    "            return 'D'\n",
    "        elif 50001 <= income <= 200000:\n",
    "            return 'C'\n",
    "        elif 200001 <= income <= 1000000:\n",
    "            return 'B'\n",
    "        elif income >= 1000001:\n",
    "            return 'A'\n",
    "    except:\n",
    "        pass"
   ]
  },
  {
   "cell_type": "code",
   "execution_count": 18,
   "id": "0980ada1",
   "metadata": {
    "deletable": false,
    "id": "0980ada1"
   },
   "outputs": [],
   "source": [
    "data['total_income_category'] = data['total_income'].apply(categorize_income)"
   ]
  },
  {
   "cell_type": "markdown",
   "id": "9917bba0",
   "metadata": {
    "deletable": false,
    "editable": false,
    "id": "9917bba0"
   },
   "source": [
    "**Задание 17. Выведите на экран перечень уникальных целей взятия кредита из столбца `purpose`.**"
   ]
  },
  {
   "cell_type": "code",
   "execution_count": 19,
   "id": "ee07b65e",
   "metadata": {
    "deletable": false,
    "id": "ee07b65e",
    "outputId": "673c12d9-7d7e-4ae0-9812-c622c89dd244"
   },
   "outputs": [
    {
     "data": {
      "text/plain": [
       "array(['покупка жилья', 'приобретение автомобиля',\n",
       "       'дополнительное образование', 'сыграть свадьбу',\n",
       "       'операции с жильем', 'образование', 'на проведение свадьбы',\n",
       "       'покупка жилья для семьи', 'покупка недвижимости',\n",
       "       'покупка коммерческой недвижимости', 'покупка жилой недвижимости',\n",
       "       'строительство собственной недвижимости', 'недвижимость',\n",
       "       'строительство недвижимости', 'на покупку подержанного автомобиля',\n",
       "       'на покупку своего автомобиля',\n",
       "       'операции с коммерческой недвижимостью',\n",
       "       'строительство жилой недвижимости', 'жилье',\n",
       "       'операции со своей недвижимостью', 'автомобили',\n",
       "       'заняться образованием', 'сделка с подержанным автомобилем',\n",
       "       'получение образования', 'автомобиль', 'свадьба',\n",
       "       'получение дополнительного образования', 'покупка своего жилья',\n",
       "       'операции с недвижимостью', 'получение высшего образования',\n",
       "       'свой автомобиль', 'сделка с автомобилем',\n",
       "       'профильное образование', 'высшее образование',\n",
       "       'покупка жилья для сдачи', 'на покупку автомобиля', 'ремонт жилью',\n",
       "       'заняться высшим образованием'], dtype=object)"
      ]
     },
     "execution_count": 19,
     "metadata": {},
     "output_type": "execute_result"
    }
   ],
   "source": [
    "data['purpose'].unique()"
   ]
  },
  {
   "cell_type": "markdown",
   "id": "52b79d56",
   "metadata": {
    "deletable": false,
    "editable": false,
    "id": "52b79d56"
   },
   "source": [
    "**Задание 18. Создайте функцию, которая на основании данных из столбца `purpose` сформирует новый столбец `purpose_category`, в который войдут следующие категории:**\n",
    "\n",
    "- `'операции с автомобилем'`,\n",
    "- `'операции с недвижимостью'`,\n",
    "- `'проведение свадьбы'`,\n",
    "- `'получение образования'`.\n",
    "\n",
    "**Например, если в столбце `purpose` находится подстрока `'на покупку автомобиля'`, то в столбце `purpose_category` должна появиться строка `'операции с автомобилем'`.**\n",
    "\n",
    "**Используйте собственную функцию с именем `categorize_purpose()` и метод `apply()`. Изучите данные в столбце `purpose` и определите, какие подстроки помогут вам правильно определить категорию.**"
   ]
  },
  {
   "cell_type": "code",
   "execution_count": 20,
   "id": "be41da5d",
   "metadata": {
    "deletable": false,
    "id": "be41da5d"
   },
   "outputs": [],
   "source": [
    "def categorize_purpose(row):\n",
    "    try:\n",
    "        if 'автом' in row:\n",
    "            return 'операции с автомобилем'\n",
    "        elif 'жил' in row or 'недвиж' in row:\n",
    "            return 'операции с недвижимостью'\n",
    "        elif 'свад' in row:\n",
    "            return 'проведение свадьбы'\n",
    "        elif 'образов' in row:\n",
    "            return 'получение образования'\n",
    "    except:\n",
    "        return 'нет категории'"
   ]
  },
  {
   "cell_type": "code",
   "execution_count": 21,
   "id": "94c4a19a",
   "metadata": {
    "deletable": false,
    "id": "94c4a19a"
   },
   "outputs": [],
   "source": [
    "data['purpose_category'] = data['purpose'].apply(categorize_purpose)"
   ]
  },
  {
   "cell_type": "markdown",
   "id": "3d596c34",
   "metadata": {
    "deletable": false,
    "editable": false,
    "id": "3d596c34"
   },
   "source": [
    "### Шаг 3. Исследуйте данные и ответьте на вопросы"
   ]
  },
  {
   "cell_type": "markdown",
   "id": "648db036",
   "metadata": {
    "deletable": false,
    "editable": false,
    "id": "648db036"
   },
   "source": [
    "#### 3.1 Есть ли зависимость между количеством детей и возвратом кредита в срок?"
   ]
  },
  {
   "cell_type": "code",
   "execution_count": 22,
   "id": "7fcff25e",
   "metadata": {
    "deletable": false,
    "id": "7fcff25e"
   },
   "outputs": [
    {
     "data": {
      "text/html": [
       "<div>\n",
       "<style scoped>\n",
       "    .dataframe tbody tr th:only-of-type {\n",
       "        vertical-align: middle;\n",
       "    }\n",
       "\n",
       "    .dataframe tbody tr th {\n",
       "        vertical-align: top;\n",
       "    }\n",
       "\n",
       "    .dataframe thead th {\n",
       "        text-align: right;\n",
       "    }\n",
       "</style>\n",
       "<table border=\"1\" class=\"dataframe\">\n",
       "  <thead>\n",
       "    <tr style=\"text-align: right;\">\n",
       "      <th>debt</th>\n",
       "      <th>children</th>\n",
       "      <th>0</th>\n",
       "      <th>1</th>\n",
       "      <th>delay</th>\n",
       "    </tr>\n",
       "  </thead>\n",
       "  <tbody>\n",
       "    <tr>\n",
       "      <th>0</th>\n",
       "      <td>0</td>\n",
       "      <td>13028.0</td>\n",
       "      <td>1063.0</td>\n",
       "      <td>7.543822</td>\n",
       "    </tr>\n",
       "    <tr>\n",
       "      <th>1</th>\n",
       "      <td>1</td>\n",
       "      <td>4364.0</td>\n",
       "      <td>444.0</td>\n",
       "      <td>9.234609</td>\n",
       "    </tr>\n",
       "    <tr>\n",
       "      <th>2</th>\n",
       "      <td>2</td>\n",
       "      <td>1858.0</td>\n",
       "      <td>194.0</td>\n",
       "      <td>9.454191</td>\n",
       "    </tr>\n",
       "    <tr>\n",
       "      <th>3</th>\n",
       "      <td>3</td>\n",
       "      <td>303.0</td>\n",
       "      <td>27.0</td>\n",
       "      <td>8.181818</td>\n",
       "    </tr>\n",
       "    <tr>\n",
       "      <th>4</th>\n",
       "      <td>4</td>\n",
       "      <td>37.0</td>\n",
       "      <td>4.0</td>\n",
       "      <td>9.756098</td>\n",
       "    </tr>\n",
       "    <tr>\n",
       "      <th>5</th>\n",
       "      <td>5</td>\n",
       "      <td>9.0</td>\n",
       "      <td>0.0</td>\n",
       "      <td>0.000000</td>\n",
       "    </tr>\n",
       "  </tbody>\n",
       "</table>\n",
       "</div>"
      ],
      "text/plain": [
       "debt  children        0       1     delay\n",
       "0            0  13028.0  1063.0  7.543822\n",
       "1            1   4364.0   444.0  9.234609\n",
       "2            2   1858.0   194.0  9.454191\n",
       "3            3    303.0    27.0  8.181818\n",
       "4            4     37.0     4.0  9.756098\n",
       "5            5      9.0     0.0  0.000000"
      ]
     },
     "execution_count": 22,
     "metadata": {},
     "output_type": "execute_result"
    }
   ],
   "source": [
    "# Ваш код будет здесь. Вы можете создавать новые ячейки.\n",
    "children_data = data.pivot_table(index = ['children'], columns = 'debt', values = 'purpose_category',  aggfunc='count')\n",
    "children_data = children_data.fillna(0)\n",
    "children_data = children_data.reset_index()\n",
    "children_data['delay'] = (children_data[1] / (children_data[0] + children_data[1]))*100\n",
    "children_data"
   ]
  },
  {
   "cell_type": "markdown",
   "id": "3aae5db7",
   "metadata": {},
   "source": [
    "<div class=\"alert alert-success\"; style=\"border-left: 7px solid green\">\n",
    "<h5> ✔️ <font color=\"green\">Комментарий ревьюера (зеленый)</font></h5>\n",
    "\n",
    "Да, чем больше у заемщика детей, тем больше вероятность просрочки\n",
    "\n",
    "</div>"
   ]
  },
  {
   "cell_type": "markdown",
   "id": "2eb9088e",
   "metadata": {
    "deletable": false,
    "id": "2eb9088e"
   },
   "source": [
    "**Вывод:** \n",
    "Чем больше детей, тем меньше процент просрочки по кредиту\n",
    "\n",
    "0 - нет задолжности\n",
    "1 - есть задолженность\n",
    "delay -  процент просрочки по кредиту"
   ]
  },
  {
   "cell_type": "markdown",
   "id": "74c9b3a7",
   "metadata": {
    "deletable": false,
    "editable": false,
    "id": "74c9b3a7"
   },
   "source": [
    "#### 3.2 Есть ли зависимость между семейным положением и возвратом кредита в срок?"
   ]
  },
  {
   "cell_type": "code",
   "execution_count": 23,
   "id": "8098ab3b",
   "metadata": {
    "deletable": false,
    "id": "8098ab3b"
   },
   "outputs": [
    {
     "data": {
      "text/html": [
       "<div>\n",
       "<style scoped>\n",
       "    .dataframe tbody tr th:only-of-type {\n",
       "        vertical-align: middle;\n",
       "    }\n",
       "\n",
       "    .dataframe tbody tr th {\n",
       "        vertical-align: top;\n",
       "    }\n",
       "\n",
       "    .dataframe thead th {\n",
       "        text-align: right;\n",
       "    }\n",
       "</style>\n",
       "<table border=\"1\" class=\"dataframe\">\n",
       "  <thead>\n",
       "    <tr style=\"text-align: right;\">\n",
       "      <th></th>\n",
       "      <th>family_status_id</th>\n",
       "      <th>0</th>\n",
       "      <th>1</th>\n",
       "      <th>percent</th>\n",
       "      <th>family_status</th>\n",
       "    </tr>\n",
       "  </thead>\n",
       "  <tbody>\n",
       "    <tr>\n",
       "      <th>2</th>\n",
       "      <td>2</td>\n",
       "      <td>888</td>\n",
       "      <td>63</td>\n",
       "      <td>6.624606</td>\n",
       "      <td>вдовец / вдова</td>\n",
       "    </tr>\n",
       "    <tr>\n",
       "      <th>3</th>\n",
       "      <td>3</td>\n",
       "      <td>1105</td>\n",
       "      <td>84</td>\n",
       "      <td>7.064760</td>\n",
       "      <td>в разводе</td>\n",
       "    </tr>\n",
       "    <tr>\n",
       "      <th>0</th>\n",
       "      <td>0</td>\n",
       "      <td>11334</td>\n",
       "      <td>927</td>\n",
       "      <td>7.560558</td>\n",
       "      <td>женат / замужем</td>\n",
       "    </tr>\n",
       "    <tr>\n",
       "      <th>1</th>\n",
       "      <td>1</td>\n",
       "      <td>3749</td>\n",
       "      <td>385</td>\n",
       "      <td>9.313014</td>\n",
       "      <td>гражданский брак</td>\n",
       "    </tr>\n",
       "    <tr>\n",
       "      <th>4</th>\n",
       "      <td>4</td>\n",
       "      <td>2523</td>\n",
       "      <td>273</td>\n",
       "      <td>9.763948</td>\n",
       "      <td>Не женат / не замужем</td>\n",
       "    </tr>\n",
       "  </tbody>\n",
       "</table>\n",
       "</div>"
      ],
      "text/plain": [
       "   family_status_id      0    1   percent          family_status\n",
       "2                 2    888   63  6.624606         вдовец / вдова\n",
       "3                 3   1105   84  7.064760              в разводе\n",
       "0                 0  11334  927  7.560558        женат / замужем\n",
       "1                 1   3749  385  9.313014       гражданский брак\n",
       "4                 4   2523  273  9.763948  Не женат / не замужем"
      ]
     },
     "execution_count": 23,
     "metadata": {},
     "output_type": "execute_result"
    }
   ],
   "source": [
    "# Ваш код будет здесь. Вы можете создавать новые ячейки.\n",
    "family_data = data.pivot_table(index = ['family_status_id'], columns = 'debt', values = 'purpose_category', aggfunc='count')\n",
    "family_data = family_data.reset_index()\n",
    "\n",
    "family_data['percent'] = (family_data[1] / (family_data[0] + family_data[1]))*100\n",
    "inf_family = data[['family_status_id', 'family_status']].drop_duplicates().reset_index(drop=True)\n",
    "family_data = family_data.merge(inf_family, on = 'family_status_id', how = 'left')\n",
    "\n",
    "family_data.sort_values('percent')\n"
   ]
  },
  {
   "cell_type": "markdown",
   "id": "00f94eeb",
   "metadata": {},
   "source": [
    "<div class=\"alert alert-success\"; style=\"border-left: 7px solid green\">\n",
    "<h5> ✔️ <font color=\"green\">Комментарий ревьюера (зеленый)</font></h5>\n",
    "\n",
    "Правильно, заемщики состоящие или состоявшие в браке реже допускают просрочку\n",
    "\n",
    "</div>"
   ]
  },
  {
   "cell_type": "markdown",
   "id": "c389ca63",
   "metadata": {
    "deletable": false,
    "id": "c389ca63"
   },
   "source": [
    "**Вывод:** \n",
    "Люди официално не оформляющие отношения, чаше имеют просрочку по кредиту.\n",
    "самый низкий процент просрочки у одиноких людей."
   ]
  },
  {
   "cell_type": "markdown",
   "id": "9529de68",
   "metadata": {
    "deletable": false,
    "editable": false,
    "id": "9529de68"
   },
   "source": [
    "#### 3.3 Есть ли зависимость между уровнем дохода и возвратом кредита в срок?"
   ]
  },
  {
   "cell_type": "code",
   "execution_count": 24,
   "id": "8787f44a",
   "metadata": {
    "deletable": false,
    "id": "8787f44a"
   },
   "outputs": [
    {
     "data": {
      "text/html": [
       "<div>\n",
       "<style scoped>\n",
       "    .dataframe tbody tr th:only-of-type {\n",
       "        vertical-align: middle;\n",
       "    }\n",
       "\n",
       "    .dataframe tbody tr th {\n",
       "        vertical-align: top;\n",
       "    }\n",
       "\n",
       "    .dataframe thead th {\n",
       "        text-align: right;\n",
       "    }\n",
       "</style>\n",
       "<table border=\"1\" class=\"dataframe\">\n",
       "  <thead>\n",
       "    <tr style=\"text-align: right;\">\n",
       "      <th>debt</th>\n",
       "      <th>total_income_category</th>\n",
       "      <th>0</th>\n",
       "      <th>1</th>\n",
       "      <th>percent</th>\n",
       "    </tr>\n",
       "  </thead>\n",
       "  <tbody>\n",
       "    <tr>\n",
       "      <th>3</th>\n",
       "      <td>D</td>\n",
       "      <td>328</td>\n",
       "      <td>21</td>\n",
       "      <td>6.017192</td>\n",
       "    </tr>\n",
       "    <tr>\n",
       "      <th>1</th>\n",
       "      <td>B</td>\n",
       "      <td>4660</td>\n",
       "      <td>354</td>\n",
       "      <td>7.060231</td>\n",
       "    </tr>\n",
       "    <tr>\n",
       "      <th>0</th>\n",
       "      <td>A</td>\n",
       "      <td>23</td>\n",
       "      <td>2</td>\n",
       "      <td>8.000000</td>\n",
       "    </tr>\n",
       "    <tr>\n",
       "      <th>2</th>\n",
       "      <td>C</td>\n",
       "      <td>14568</td>\n",
       "      <td>1353</td>\n",
       "      <td>8.498210</td>\n",
       "    </tr>\n",
       "    <tr>\n",
       "      <th>4</th>\n",
       "      <td>E</td>\n",
       "      <td>20</td>\n",
       "      <td>2</td>\n",
       "      <td>9.090909</td>\n",
       "    </tr>\n",
       "  </tbody>\n",
       "</table>\n",
       "</div>"
      ],
      "text/plain": [
       "debt total_income_category      0     1   percent\n",
       "3                        D    328    21  6.017192\n",
       "1                        B   4660   354  7.060231\n",
       "0                        A     23     2  8.000000\n",
       "2                        C  14568  1353  8.498210\n",
       "4                        E     20     2  9.090909"
      ]
     },
     "execution_count": 24,
     "metadata": {},
     "output_type": "execute_result"
    }
   ],
   "source": [
    "# Ваш код будет здесь. Вы можете создавать новые ячейки.\n",
    "data_income = data.pivot_table(index = ['total_income_category'], columns = 'debt', values = 'gender', aggfunc='count')\n",
    "data_income['percent'] = (data_income[1] / (data_income[0] + data_income[1]))*100\n",
    "data_income = data_income.reset_index()\n",
    "data_income.sort_values('percent')"
   ]
  },
  {
   "cell_type": "markdown",
   "id": "7f6e2698",
   "metadata": {},
   "source": [
    "<div class=\"alert alert-success\"; style=\"border-left: 7px solid green\">\n",
    "<h5> ✔️ <font color=\"green\">Комментарий ревьюера (зеленый)</font></h5>\n",
    "\n",
    "Спасибо за интересные наблюдения, заемщики с более высоким уровнем дохода реже допускают просрочку\n",
    "\n",
    "</div>"
   ]
  },
  {
   "cell_type": "markdown",
   "id": "6dd14b57",
   "metadata": {
    "deletable": false,
    "id": "6dd14b57"
   },
   "source": [
    "**Вывод:** \n",
    "Клиенты с уровнем дохода D (30.000 - 50.000) быстрее всего закрывают кредиты \n",
    "Клиетны с уровнем дохода выше среднего (200.000 - 1.000.000) находятся на 2 месте по просрочкам кредита \n",
    "Клиенты с низким уровнем дохода (меньше 30.000) являются самыми ненадёжными клиентами"
   ]
  },
  {
   "cell_type": "markdown",
   "id": "1dcc9b12",
   "metadata": {
    "deletable": false,
    "editable": false,
    "id": "1dcc9b12"
   },
   "source": [
    "#### 3.4 Как разные цели кредита влияют на его возврат в срок?"
   ]
  },
  {
   "cell_type": "code",
   "execution_count": 25,
   "id": "c602bc8b",
   "metadata": {
    "deletable": false,
    "id": "c602bc8b"
   },
   "outputs": [
    {
     "data": {
      "text/html": [
       "<div>\n",
       "<style scoped>\n",
       "    .dataframe tbody tr th:only-of-type {\n",
       "        vertical-align: middle;\n",
       "    }\n",
       "\n",
       "    .dataframe tbody tr th {\n",
       "        vertical-align: top;\n",
       "    }\n",
       "\n",
       "    .dataframe thead th {\n",
       "        text-align: right;\n",
       "    }\n",
       "</style>\n",
       "<table border=\"1\" class=\"dataframe\">\n",
       "  <thead>\n",
       "    <tr style=\"text-align: right;\">\n",
       "      <th>debt</th>\n",
       "      <th>purpose_category</th>\n",
       "      <th>0</th>\n",
       "      <th>1</th>\n",
       "      <th>percent</th>\n",
       "    </tr>\n",
       "  </thead>\n",
       "  <tbody>\n",
       "    <tr>\n",
       "      <th>1</th>\n",
       "      <td>операции с недвижимостью</td>\n",
       "      <td>9971</td>\n",
       "      <td>780</td>\n",
       "      <td>7.255139</td>\n",
       "    </tr>\n",
       "    <tr>\n",
       "      <th>3</th>\n",
       "      <td>проведение свадьбы</td>\n",
       "      <td>2130</td>\n",
       "      <td>183</td>\n",
       "      <td>7.911803</td>\n",
       "    </tr>\n",
       "    <tr>\n",
       "      <th>2</th>\n",
       "      <td>получение образования</td>\n",
       "      <td>3619</td>\n",
       "      <td>369</td>\n",
       "      <td>9.252758</td>\n",
       "    </tr>\n",
       "    <tr>\n",
       "      <th>0</th>\n",
       "      <td>операции с автомобилем</td>\n",
       "      <td>3879</td>\n",
       "      <td>400</td>\n",
       "      <td>9.347978</td>\n",
       "    </tr>\n",
       "  </tbody>\n",
       "</table>\n",
       "</div>"
      ],
      "text/plain": [
       "debt          purpose_category     0    1   percent\n",
       "1     операции с недвижимостью  9971  780  7.255139\n",
       "3           проведение свадьбы  2130  183  7.911803\n",
       "2        получение образования  3619  369  9.252758\n",
       "0       операции с автомобилем  3879  400  9.347978"
      ]
     },
     "execution_count": 25,
     "metadata": {},
     "output_type": "execute_result"
    }
   ],
   "source": [
    "# Ваш код будет здесь. Вы можете создавать новые ячейки.\n",
    "purpose_data = data.pivot_table(index = ['purpose_category'], columns = 'debt', values = 'gender', aggfunc='count')\n",
    "purpose_data['percent'] = (purpose_data[1] / (purpose_data[0] + purpose_data[1]))*100\n",
    "purpose_data = purpose_data.reset_index() \n",
    "purpose_data.sort_values('percent')"
   ]
  },
  {
   "cell_type": "markdown",
   "id": "daa7d8ad",
   "metadata": {},
   "source": [
    "<div class=\"alert alert-success\"; style=\"border-left: 7px solid green\">\n",
    "<h5> ✔️ <font color=\"green\">Комментарий ревьюера (зеленый)</font></h5>\n",
    "\n",
    "Хорошее обоснование, ипотечники являются самой обширной категорией и самой добросовестной\n",
    "\n",
    "</div>"
   ]
  },
  {
   "cell_type": "markdown",
   "id": "cf05ed63",
   "metadata": {
    "deletable": false,
    "id": "cf05ed63"
   },
   "source": [
    "**Вывод:** \n",
    "Самыми ненадежными заёмщиками являются клиенты, которые берут кредит на покупку автомобиля\n",
    "кредиты на образование и свадьбы являются средними, в категориях просроченых платежей\n",
    "Самые надежные заёмщики, люди желающие приобрести недвижимость"
   ]
  },
  {
   "cell_type": "markdown",
   "id": "46c1f10b",
   "metadata": {
    "deletable": false,
    "editable": false,
    "id": "46c1f10b"
   },
   "source": [
    "#### 3.5 Приведите возможные причины появления пропусков в исходных данных."
   ]
  },
  {
   "cell_type": "markdown",
   "id": "3697d2a9",
   "metadata": {
    "deletable": false,
    "id": "3697d2a9"
   },
   "source": [
    "*Ответ:* На это есть несколько причин\n",
    "1. Человеческий фактор, люди могут не заметить пустое поле\n",
    "2. При получении информации некоторые значения могут отсутствовать, например клиетны не полностью заполнили поля с информацией о себе\n",
    "3. Так же данные могут случайно удалить при отправке "
   ]
  },
  {
   "cell_type": "markdown",
   "id": "66551da6",
   "metadata": {},
   "source": [
    "<div class=\"alert alert-success\"; style=\"border-left: 7px solid green\">\n",
    "<h5> ✔️ <font color=\"green\">Комментарий ревьюера (зеленый)</font></h5>\n",
    "\n",
    "Да, основные причины — технические ошибки и человеческий фактор\n",
    "\n",
    "</div>"
   ]
  },
  {
   "cell_type": "markdown",
   "id": "3137d257",
   "metadata": {
    "deletable": false,
    "editable": false,
    "id": "3137d257"
   },
   "source": [
    "#### 3.6 Объясните, почему заполнить пропуски медианным значением — лучшее решение для количественных переменных."
   ]
  },
  {
   "cell_type": "markdown",
   "id": "cf40012a",
   "metadata": {
    "deletable": false,
    "id": "cf40012a"
   },
   "source": [
    "*Ответ:* В данных может быть большой разрыв по значениям, если использовать среднее, можно получить число, сильно отличающаяся от реальных показателей. Медиана точнее считает среднее значение "
   ]
  },
  {
   "cell_type": "markdown",
   "id": "88dc7e4e",
   "metadata": {},
   "source": [
    "<div class=\"alert alert-success\"; style=\"border-left: 7px solid green\">\n",
    "<h5> ✔️ <font color=\"green\">Комментарий ревьюера (зеленый)</font></h5>\n",
    "\n",
    "Верно, медиана в отличие от среднего значения, менее чувствительна к выбросам, среднее значение смещается в сторону выбросов.\n",
    "\n",
    "</div>"
   ]
  },
  {
   "cell_type": "markdown",
   "id": "57bc304e",
   "metadata": {
    "deletable": false,
    "editable": false,
    "id": "57bc304e"
   },
   "source": [
    "### Шаг 4: общий вывод."
   ]
  },
  {
   "cell_type": "markdown",
   "id": "1ab75d1c",
   "metadata": {
    "deletable": false,
    "id": "1ab75d1c"
   },
   "source": [
    "переработка данных:\n",
    "Что бы ответить на поставленные вопросы, данные из таблицы были собраны в более маленькие, отсартированны \n",
    "по возрвстанию, а также расчитаны проценты по основным показателям\n",
    "\n",
    "\n",
    "Колличество детей и возвпат кредита в срок.\n",
    "\n",
    "Самый маленький процент прострочки (0%) у клиетнов с пятью детьми. Но клиенты с таким колличеством детей - редкость. Поэтому статисктику лучше рассматривать по более обширным группам людей.\n",
    "\n",
    "Наименьший процент просрочки(7.5%) у бездетный людей\n",
    "Далее идут клиенты с тремя детьми, их процент просрочки(8.2%)\n",
    "Клиенты с одним, двумя, четыремя детьми имеют процент прострочки от 9.2% до 9.7%\n",
    "итог:\n",
    " колличество детей(0) - процент просрочки(7.5%)\n",
    " колличество детей(3) - процент просрочки(8.2%)\n",
    " колличество детей(1) - процент просрочки(9.2%)\n",
    " колличество детей(2) - процент просрочки(9.4%)\n",
    " колличество детей(4) - процент просрочки(9.7%)\n",
    "\n",
    "\n",
    "Семейное положение и возврат кредита в срок.\n",
    "\n",
    "Наибольшее колличество клиентов находяся в официальных отношениях\n",
    "Итог:\n",
    " семейное роложение: вдовец/вдова - процент просрочки(6.6%)\n",
    " семейное роложение: в разводе - процент просрочки(7%)\n",
    " семейное роложение: женат/замужем - процент просрочки(7.5%)\n",
    " семейное роложение: гражданский брак - процент просрочки(9.3%)\n",
    " семейное роложение: не замужем/не жетан - процент просрочки(9.7%)\n",
    " \n",
    "\n",
    "Доход и возврат кредита в срок.\n",
    "\n",
    "Клиенты с уровнем дохода 30.000 - 50.000 быстрее всего закрывают кредиты\n",
    "Самые ненадежные заёмщики - клиенты с доходом менее 30.000\n",
    "\n",
    " уровень дохода(30.000 - 50.000) - процент просрочки(6%)\n",
    " уровень дохода(200.000 - 1.000.000) - процент просрочки(7%)\n",
    " уровень дохода(1.000.000 и более) - процент просрочки(8%)\n",
    " уровень дохода(50.000 - 200.000) - процент просрочки(8.5%)\n",
    " уровень дохода(менее 30.000) - процент просрочки(9%)\n",
    "\n",
    "\n",
    "Цели и возврат кредита в срок.\n",
    "\n",
    " цель: операции с недвижимостью - процент просрочки(7.2%)\n",
    " цель: свадьба - процент просрочки(7.9%)\n",
    " цель: образование - процент просрочки(9.2%)\n",
    " цель: покупка автомобиля - процент просрочки(9.3%)\n",
    "\n"
   ]
  },
  {
   "cell_type": "markdown",
   "id": "3977a21a",
   "metadata": {},
   "source": [
    "<div class=\"alert alert-danger\"; style=\"border-left: 7px solid FireBrick\">\n",
    "<h5> ❌ <font color=\"FireBrick\">Комментарий ревьюера (красный)</font></h5>\n",
    "\n",
    "В общем выводе хочется тезисно видеть все промежуточные выводы с цифрами. Это очень важно, поскольку топ-менеджеры, в большинстве своем, смотрят сразу сюда и только сюда...\n",
    "\n",
    "Тут важно обратиться к целям, которые были озвучены в самом начале и ответить на все вопросы. Важно оформить все тезисно и с цифрами. Еще важно описать все промежуточные выводы, которых не прописано в целях.\n",
    "Вкратце структура такая:\n",
    "- как были предобработаны данные(тут важно написать про изменения, если заполнялись пропуски или преобразовывались строки)\n",
    "- пройдись по целям и ответь на вопросы\n",
    "- добавь промежуточные выводы, которые считаешь нужным отметить\n",
    "\n",
    "Еще очень важно помнить, для кого ты делаешь проект, в зависимости от этого нужно сделать определенные акценты. В данном случае проект учебный, поэтому нужно ориентироваться по описанию.\n",
    "\n",
    "Для красивого оформления можешь воспользоваться [Кратким руководством по Маркдауну](https://paulradzkov.com/2014/markdown_cheatsheet/).\n",
    "    \n",
    "\n",
    "</div>"
   ]
  },
  {
   "cell_type": "markdown",
   "id": "3a7cc1dc",
   "metadata": {},
   "source": [
    "<div class=\"alert alert-success\"; style=\"border-left: 7px solid green\">\n",
    "<h5> ✔️ <font color=\"green\">v2 Комментарий ревьюера (зеленый)</font></h5>\n",
    "\n",
    "✅ Спасибо, очень хороший и подробный общий вывод, которые содержит все промежуточные результаты. 👍\n",
    " \n",
    "</div>"
   ]
  }
 ],
 "metadata": {
  "ExecuteTimeLog": [
   {
    "duration": 63,
    "start_time": "2023-05-01T16:35:44.884Z"
   },
   {
    "duration": 572,
    "start_time": "2023-05-01T16:35:59.612Z"
   },
   {
    "duration": 33,
    "start_time": "2023-05-01T16:36:00.189Z"
   },
   {
    "duration": 21,
    "start_time": "2023-05-01T16:36:00.223Z"
   },
   {
    "duration": 20,
    "start_time": "2023-05-01T16:36:00.246Z"
   },
   {
    "duration": 58,
    "start_time": "2023-05-01T16:36:00.268Z"
   },
   {
    "duration": 5,
    "start_time": "2023-05-01T16:36:00.327Z"
   },
   {
    "duration": 19,
    "start_time": "2023-05-01T16:36:00.334Z"
   },
   {
    "duration": 14,
    "start_time": "2023-05-01T16:36:00.355Z"
   },
   {
    "duration": 37,
    "start_time": "2023-05-01T16:36:00.370Z"
   },
   {
    "duration": 20,
    "start_time": "2023-05-01T16:36:00.409Z"
   },
   {
    "duration": 73,
    "start_time": "2023-05-01T16:36:00.431Z"
   },
   {
    "duration": 13,
    "start_time": "2023-05-01T16:36:00.511Z"
   },
   {
    "duration": 33,
    "start_time": "2023-05-01T16:36:00.526Z"
   },
   {
    "duration": 45,
    "start_time": "2023-05-01T16:36:00.562Z"
   },
   {
    "duration": 35,
    "start_time": "2023-05-01T16:36:00.611Z"
   },
   {
    "duration": 20,
    "start_time": "2023-05-01T16:36:00.647Z"
   },
   {
    "duration": 4,
    "start_time": "2023-05-01T16:36:00.669Z"
   },
   {
    "duration": 49,
    "start_time": "2023-05-01T16:36:00.674Z"
   },
   {
    "duration": 25,
    "start_time": "2023-05-01T16:36:00.725Z"
   },
   {
    "duration": 49,
    "start_time": "2023-05-01T16:36:00.752Z"
   },
   {
    "duration": 36,
    "start_time": "2023-05-01T16:36:00.802Z"
   },
   {
    "duration": 14,
    "start_time": "2023-05-01T16:36:00.840Z"
   },
   {
    "duration": 43,
    "start_time": "2023-05-01T16:36:00.856Z"
   },
   {
    "duration": 39,
    "start_time": "2023-05-01T16:36:00.903Z"
   },
   {
    "duration": 27,
    "start_time": "2023-05-01T16:36:00.944Z"
   },
   {
    "duration": 5,
    "start_time": "2023-05-01T16:37:06.257Z"
   },
   {
    "duration": 4,
    "start_time": "2023-05-01T16:56:30.218Z"
   },
   {
    "duration": 479,
    "start_time": "2023-05-01T16:57:20.724Z"
   },
   {
    "duration": 32,
    "start_time": "2023-05-01T16:57:21.205Z"
   },
   {
    "duration": 16,
    "start_time": "2023-05-01T16:57:21.238Z"
   },
   {
    "duration": 35,
    "start_time": "2023-05-01T16:57:21.256Z"
   },
   {
    "duration": 43,
    "start_time": "2023-05-01T16:57:21.301Z"
   },
   {
    "duration": 4,
    "start_time": "2023-05-01T16:57:21.345Z"
   },
   {
    "duration": 12,
    "start_time": "2023-05-01T16:57:21.351Z"
   },
   {
    "duration": 11,
    "start_time": "2023-05-01T16:57:21.365Z"
   },
   {
    "duration": 16,
    "start_time": "2023-05-01T16:57:21.377Z"
   },
   {
    "duration": 12,
    "start_time": "2023-05-01T16:57:21.395Z"
   },
   {
    "duration": 54,
    "start_time": "2023-05-01T16:57:21.410Z"
   },
   {
    "duration": 9,
    "start_time": "2023-05-01T16:57:21.466Z"
   },
   {
    "duration": 3,
    "start_time": "2023-05-01T16:57:21.477Z"
   },
   {
    "duration": 32,
    "start_time": "2023-05-01T16:57:21.482Z"
   },
   {
    "duration": 29,
    "start_time": "2023-05-01T16:57:21.515Z"
   },
   {
    "duration": 16,
    "start_time": "2023-05-01T16:57:21.545Z"
   },
   {
    "duration": 3,
    "start_time": "2023-05-01T16:57:21.563Z"
   },
   {
    "duration": 27,
    "start_time": "2023-05-01T16:57:21.568Z"
   },
   {
    "duration": 11,
    "start_time": "2023-05-01T16:57:21.604Z"
   },
   {
    "duration": 4,
    "start_time": "2023-05-01T16:57:21.616Z"
   },
   {
    "duration": 11,
    "start_time": "2023-05-01T16:57:21.622Z"
   },
   {
    "duration": 4,
    "start_time": "2023-05-01T16:57:21.634Z"
   },
   {
    "duration": 4,
    "start_time": "2023-05-01T16:57:21.639Z"
   },
   {
    "duration": 17,
    "start_time": "2023-05-01T16:57:21.644Z"
   },
   {
    "duration": 12,
    "start_time": "2023-05-01T16:57:21.662Z"
   },
   {
    "duration": 3,
    "start_time": "2023-05-01T16:57:28.718Z"
   },
   {
    "duration": 7,
    "start_time": "2023-05-01T17:00:28.484Z"
   },
   {
    "duration": 4,
    "start_time": "2023-05-01T17:00:33.020Z"
   },
   {
    "duration": 7,
    "start_time": "2023-05-01T17:00:54.215Z"
   },
   {
    "duration": 4,
    "start_time": "2023-05-01T17:01:33.473Z"
   },
   {
    "duration": 10,
    "start_time": "2023-05-01T17:02:05.214Z"
   },
   {
    "duration": 118,
    "start_time": "2023-05-01T17:12:20.319Z"
   },
   {
    "duration": 7,
    "start_time": "2023-05-01T17:12:52.762Z"
   },
   {
    "duration": 25,
    "start_time": "2023-05-01T17:13:00.744Z"
   },
   {
    "duration": 29,
    "start_time": "2023-05-01T17:13:04.980Z"
   },
   {
    "duration": 522,
    "start_time": "2023-05-01T17:13:53.833Z"
   },
   {
    "duration": 26,
    "start_time": "2023-05-01T17:13:54.358Z"
   },
   {
    "duration": 36,
    "start_time": "2023-05-01T17:13:54.391Z"
   },
   {
    "duration": 13,
    "start_time": "2023-05-01T17:13:54.429Z"
   },
   {
    "duration": 60,
    "start_time": "2023-05-01T17:13:54.447Z"
   },
   {
    "duration": 6,
    "start_time": "2023-05-01T17:13:54.511Z"
   },
   {
    "duration": 14,
    "start_time": "2023-05-01T17:13:54.519Z"
   },
   {
    "duration": 5,
    "start_time": "2023-05-01T17:13:54.535Z"
   },
   {
    "duration": 7,
    "start_time": "2023-05-01T17:13:54.541Z"
   },
   {
    "duration": 7,
    "start_time": "2023-05-01T17:13:54.549Z"
   },
   {
    "duration": 74,
    "start_time": "2023-05-01T17:13:54.557Z"
   },
   {
    "duration": 9,
    "start_time": "2023-05-01T17:13:54.633Z"
   },
   {
    "duration": 9,
    "start_time": "2023-05-01T17:13:54.644Z"
   },
   {
    "duration": 16,
    "start_time": "2023-05-01T17:13:54.655Z"
   },
   {
    "duration": 38,
    "start_time": "2023-05-01T17:13:54.673Z"
   },
   {
    "duration": 20,
    "start_time": "2023-05-01T17:13:54.712Z"
   },
   {
    "duration": 3,
    "start_time": "2023-05-01T17:13:54.734Z"
   },
   {
    "duration": 21,
    "start_time": "2023-05-01T17:13:54.739Z"
   },
   {
    "duration": 9,
    "start_time": "2023-05-01T17:13:54.762Z"
   },
   {
    "duration": 14,
    "start_time": "2023-05-01T17:13:54.785Z"
   },
   {
    "duration": 15,
    "start_time": "2023-05-01T17:13:54.808Z"
   },
   {
    "duration": 127,
    "start_time": "2023-05-01T17:13:54.825Z"
   },
   {
    "duration": 0,
    "start_time": "2023-05-01T17:13:54.954Z"
   },
   {
    "duration": 0,
    "start_time": "2023-05-01T17:13:54.955Z"
   },
   {
    "duration": 0,
    "start_time": "2023-05-01T17:13:54.956Z"
   },
   {
    "duration": 16,
    "start_time": "2023-05-01T17:14:34.408Z"
   },
   {
    "duration": 15,
    "start_time": "2023-05-01T17:14:38.919Z"
   },
   {
    "duration": 29,
    "start_time": "2023-05-01T17:14:56.712Z"
   },
   {
    "duration": 19,
    "start_time": "2023-05-01T17:16:13.155Z"
   },
   {
    "duration": 20,
    "start_time": "2023-05-01T17:17:03.613Z"
   },
   {
    "duration": 20,
    "start_time": "2023-05-01T17:17:17.073Z"
   },
   {
    "duration": 20,
    "start_time": "2023-05-01T17:18:15.842Z"
   },
   {
    "duration": 21,
    "start_time": "2023-05-01T17:21:40.844Z"
   },
   {
    "duration": 21,
    "start_time": "2023-05-01T18:42:18.693Z"
   },
   {
    "duration": 22,
    "start_time": "2023-05-01T18:42:38.997Z"
   },
   {
    "duration": 21,
    "start_time": "2023-05-01T18:43:09.165Z"
   },
   {
    "duration": 19,
    "start_time": "2023-05-01T18:47:48.511Z"
   },
   {
    "duration": 19,
    "start_time": "2023-05-01T18:50:12.923Z"
   },
   {
    "duration": 21,
    "start_time": "2023-05-01T18:52:11.418Z"
   },
   {
    "duration": 21,
    "start_time": "2023-05-01T18:53:17.799Z"
   },
   {
    "duration": 19,
    "start_time": "2023-05-01T18:54:36.218Z"
   },
   {
    "duration": 19,
    "start_time": "2023-05-01T18:54:46.773Z"
   },
   {
    "duration": 20,
    "start_time": "2023-05-01T18:55:48.550Z"
   },
   {
    "duration": 21,
    "start_time": "2023-05-01T18:56:15.778Z"
   },
   {
    "duration": 18,
    "start_time": "2023-05-01T18:57:09.508Z"
   },
   {
    "duration": 54,
    "start_time": "2023-05-01T18:57:42.847Z"
   },
   {
    "duration": 20,
    "start_time": "2023-05-01T18:58:03.431Z"
   },
   {
    "duration": 54,
    "start_time": "2023-05-01T18:58:59.084Z"
   },
   {
    "duration": 27,
    "start_time": "2023-05-01T18:59:12.418Z"
   },
   {
    "duration": 62,
    "start_time": "2023-05-01T18:59:45.772Z"
   },
   {
    "duration": 24,
    "start_time": "2023-05-01T19:00:20.348Z"
   },
   {
    "duration": 45,
    "start_time": "2023-05-01T19:00:55.812Z"
   },
   {
    "duration": 23,
    "start_time": "2023-05-01T19:01:05.219Z"
   },
   {
    "duration": 25,
    "start_time": "2023-05-01T19:02:33.488Z"
   },
   {
    "duration": 57,
    "start_time": "2023-05-01T19:02:56.921Z"
   },
   {
    "duration": 8,
    "start_time": "2023-05-01T19:07:43.484Z"
   },
   {
    "duration": 8,
    "start_time": "2023-05-01T19:07:58.457Z"
   },
   {
    "duration": 21,
    "start_time": "2023-05-01T19:08:43.612Z"
   },
   {
    "duration": 52,
    "start_time": "2023-05-02T06:02:21.236Z"
   },
   {
    "duration": 9,
    "start_time": "2023-05-02T06:02:45.646Z"
   },
   {
    "duration": 510,
    "start_time": "2023-05-02T06:02:50.732Z"
   },
   {
    "duration": 23,
    "start_time": "2023-05-02T06:02:51.244Z"
   },
   {
    "duration": 21,
    "start_time": "2023-05-02T06:02:51.269Z"
   },
   {
    "duration": 12,
    "start_time": "2023-05-02T06:02:51.293Z"
   },
   {
    "duration": 36,
    "start_time": "2023-05-02T06:02:51.307Z"
   },
   {
    "duration": 5,
    "start_time": "2023-05-02T06:02:51.345Z"
   },
   {
    "duration": 42,
    "start_time": "2023-05-02T06:02:51.351Z"
   },
   {
    "duration": 4,
    "start_time": "2023-05-02T06:02:51.395Z"
   },
   {
    "duration": 22,
    "start_time": "2023-05-02T06:02:51.401Z"
   },
   {
    "duration": 11,
    "start_time": "2023-05-02T06:02:51.426Z"
   },
   {
    "duration": 43,
    "start_time": "2023-05-02T06:02:51.439Z"
   },
   {
    "duration": 16,
    "start_time": "2023-05-02T06:02:51.484Z"
   },
   {
    "duration": 5,
    "start_time": "2023-05-02T06:02:51.502Z"
   },
   {
    "duration": 14,
    "start_time": "2023-05-02T06:02:51.509Z"
   },
   {
    "duration": 23,
    "start_time": "2023-05-02T06:02:51.525Z"
   },
   {
    "duration": 43,
    "start_time": "2023-05-02T06:02:51.549Z"
   },
   {
    "duration": 4,
    "start_time": "2023-05-02T06:02:51.594Z"
   },
   {
    "duration": 16,
    "start_time": "2023-05-02T06:02:51.600Z"
   },
   {
    "duration": 11,
    "start_time": "2023-05-02T06:02:51.618Z"
   },
   {
    "duration": 4,
    "start_time": "2023-05-02T06:02:51.632Z"
   },
   {
    "duration": 42,
    "start_time": "2023-05-02T06:02:51.638Z"
   },
   {
    "duration": 35,
    "start_time": "2023-05-02T06:02:51.682Z"
   },
   {
    "duration": 29,
    "start_time": "2023-05-02T06:02:51.719Z"
   },
   {
    "duration": 19,
    "start_time": "2023-05-02T06:02:51.750Z"
   },
   {
    "duration": 24,
    "start_time": "2023-05-02T06:02:51.771Z"
   },
   {
    "duration": 30,
    "start_time": "2023-05-02T06:07:07.846Z"
   },
   {
    "duration": 23,
    "start_time": "2023-05-02T06:22:48.349Z"
   },
   {
    "duration": 27,
    "start_time": "2023-05-02T06:22:59.640Z"
   },
   {
    "duration": 31,
    "start_time": "2023-05-02T06:23:33.916Z"
   },
   {
    "duration": 21,
    "start_time": "2023-05-02T06:50:06.944Z"
   },
   {
    "duration": 29,
    "start_time": "2023-05-02T06:50:20.726Z"
   },
   {
    "duration": 24,
    "start_time": "2023-05-02T06:50:53.688Z"
   },
   {
    "duration": 22,
    "start_time": "2023-05-02T06:52:40.036Z"
   },
   {
    "duration": 596,
    "start_time": "2023-05-02T10:28:53.521Z"
   },
   {
    "duration": 31,
    "start_time": "2023-05-02T10:28:54.119Z"
   },
   {
    "duration": 17,
    "start_time": "2023-05-02T10:28:54.152Z"
   },
   {
    "duration": 60,
    "start_time": "2023-05-02T10:28:54.172Z"
   },
   {
    "duration": 73,
    "start_time": "2023-05-02T10:28:54.233Z"
   },
   {
    "duration": 23,
    "start_time": "2023-05-02T10:28:54.310Z"
   },
   {
    "duration": 42,
    "start_time": "2023-05-02T10:28:54.335Z"
   },
   {
    "duration": 71,
    "start_time": "2023-05-02T10:28:54.379Z"
   },
   {
    "duration": 15,
    "start_time": "2023-05-02T10:28:54.452Z"
   },
   {
    "duration": 86,
    "start_time": "2023-05-02T10:28:54.471Z"
   },
   {
    "duration": 86,
    "start_time": "2023-05-02T10:28:54.559Z"
   },
   {
    "duration": 12,
    "start_time": "2023-05-02T10:28:54.647Z"
   },
   {
    "duration": 19,
    "start_time": "2023-05-02T10:28:54.662Z"
   },
   {
    "duration": 79,
    "start_time": "2023-05-02T10:28:54.683Z"
   },
   {
    "duration": 66,
    "start_time": "2023-05-02T10:28:54.764Z"
   },
   {
    "duration": 35,
    "start_time": "2023-05-02T10:28:54.832Z"
   },
   {
    "duration": 79,
    "start_time": "2023-05-02T10:28:54.869Z"
   },
   {
    "duration": 63,
    "start_time": "2023-05-02T10:28:54.950Z"
   },
   {
    "duration": 39,
    "start_time": "2023-05-02T10:28:55.015Z"
   },
   {
    "duration": 86,
    "start_time": "2023-05-02T10:28:55.056Z"
   },
   {
    "duration": 19,
    "start_time": "2023-05-02T10:28:55.144Z"
   },
   {
    "duration": 90,
    "start_time": "2023-05-02T10:28:55.165Z"
   },
   {
    "duration": 43,
    "start_time": "2023-05-02T10:28:55.258Z"
   },
   {
    "duration": 34,
    "start_time": "2023-05-02T10:28:55.303Z"
   },
   {
    "duration": 57,
    "start_time": "2023-05-02T10:28:55.339Z"
   },
   {
    "duration": 467,
    "start_time": "2023-05-03T11:22:38.846Z"
   },
   {
    "duration": 37,
    "start_time": "2023-05-03T11:22:39.316Z"
   },
   {
    "duration": 39,
    "start_time": "2023-05-03T11:22:39.355Z"
   },
   {
    "duration": 13,
    "start_time": "2023-05-03T11:22:39.400Z"
   },
   {
    "duration": 58,
    "start_time": "2023-05-03T11:22:39.416Z"
   },
   {
    "duration": 9,
    "start_time": "2023-05-03T11:22:39.476Z"
   },
   {
    "duration": 32,
    "start_time": "2023-05-03T11:22:39.486Z"
   },
   {
    "duration": 5,
    "start_time": "2023-05-03T11:22:39.521Z"
   },
   {
    "duration": 10,
    "start_time": "2023-05-03T11:22:39.528Z"
   },
   {
    "duration": 6,
    "start_time": "2023-05-03T11:22:39.540Z"
   },
   {
    "duration": 62,
    "start_time": "2023-05-03T11:22:39.548Z"
   },
   {
    "duration": 15,
    "start_time": "2023-05-03T11:22:39.612Z"
   },
   {
    "duration": 5,
    "start_time": "2023-05-03T11:22:39.629Z"
   },
   {
    "duration": 24,
    "start_time": "2023-05-03T11:22:39.637Z"
   },
   {
    "duration": 44,
    "start_time": "2023-05-03T11:22:39.663Z"
   },
   {
    "duration": 27,
    "start_time": "2023-05-03T11:22:39.709Z"
   },
   {
    "duration": 5,
    "start_time": "2023-05-03T11:22:39.739Z"
   },
   {
    "duration": 18,
    "start_time": "2023-05-03T11:22:39.746Z"
   },
   {
    "duration": 61,
    "start_time": "2023-05-03T11:22:39.766Z"
   },
   {
    "duration": 30,
    "start_time": "2023-05-03T11:22:39.829Z"
   },
   {
    "duration": 66,
    "start_time": "2023-05-03T11:22:39.861Z"
   },
   {
    "duration": 56,
    "start_time": "2023-05-03T11:22:39.930Z"
   },
   {
    "duration": 45,
    "start_time": "2023-05-03T11:22:39.991Z"
   },
   {
    "duration": 29,
    "start_time": "2023-05-03T11:22:40.038Z"
   },
   {
    "duration": 60,
    "start_time": "2023-05-03T11:22:40.069Z"
   }
  ],
  "colab": {
   "provenance": []
  },
  "kernelspec": {
   "display_name": "Python 3 (ipykernel)",
   "language": "python",
   "name": "python3"
  },
  "language_info": {
   "codemirror_mode": {
    "name": "ipython",
    "version": 3
   },
   "file_extension": ".py",
   "mimetype": "text/x-python",
   "name": "python",
   "nbconvert_exporter": "python",
   "pygments_lexer": "ipython3",
   "version": "3.9.5"
  },
  "toc": {
   "base_numbering": 1,
   "nav_menu": {},
   "number_sections": true,
   "sideBar": true,
   "skip_h1_title": true,
   "title_cell": "Table of Contents",
   "title_sidebar": "Contents",
   "toc_cell": false,
   "toc_position": {
    "height": "calc(100% - 180px)",
    "left": "10px",
    "top": "150px",
    "width": "374.391px"
   },
   "toc_section_display": true,
   "toc_window_display": true
  }
 },
 "nbformat": 4,
 "nbformat_minor": 5
}
